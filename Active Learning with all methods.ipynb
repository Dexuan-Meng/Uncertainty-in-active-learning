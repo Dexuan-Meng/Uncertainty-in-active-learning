{
 "cells": [
  {
   "cell_type": "markdown",
   "metadata": {
    "id": "byKnky3lrqIf"
   },
   "source": [
    "# Implementation of the paper Deep Bayesian Active Learning with Image Data using PyTorch and modAL.\n",
    "\n",
    "modAL is an active learning framework for Python3, designed with modularity, flexibility and extensibility in mind. Built on top of scikit-learn, it allows you to rapidly create active learning workflows with nearly complete freedom. What is more, you can easily replace parts with your custom built solutions, allowing you to design novel algorithms with ease.\n",
    "\n",
    "Since modAL only supports sklearn models, we will also use skorch, a scikit-learn compatible neural network library that wraps PyTorch."
   ]
  },
  {
   "cell_type": "markdown",
   "metadata": {
    "id": "enQ61Nlhr2se",
    "jp-MarkdownHeadingCollapsed": true,
    "tags": []
   },
   "source": [
    "\n",
    "# 1: Connect the notebook to your Google Drive\n"
   ]
  },
  {
   "cell_type": "code",
   "execution_count": null,
   "metadata": {},
   "outputs": [],
   "source": [
    "from google.colab import drive\n",
    "\n",
    "drive.mount('/content/gdrive')"
   ]
  },
  {
   "cell_type": "code",
   "execution_count": null,
   "metadata": {},
   "outputs": [],
   "source": [
    "root_dir = \"/content/gdrive/My Drive/Project/ADLR\"\n",
    "!ls \"/content/gdrive/My Drive/Project/ADLR\"\n",
    "!cd \"/content/gdrive/My Drive/Project/ADLR\"\n",
    "%cd \"/content/gdrive/My Drive/Project/ADLR\""
   ]
  },
  {
   "cell_type": "code",
   "execution_count": null,
   "metadata": {},
   "outputs": [],
   "source": [
    "%load_ext autoreload\n",
    "%autoreload 2\n",
    "%matplotlib inline\n",
    "!pip install toma\n",
    "!pip install modAL\n",
    "!pip install scikit-optimize\n",
    "%cd \"/content/gdrive/My Drive/Project/ADLR/cnn-gp-master/\"\n",
    "%cd \"/content/gdrive/My Drive/Project/ADLR\"\n"
   ]
  },
  {
   "cell_type": "code",
   "execution_count": 1,
   "metadata": {
    "executionInfo": {
     "elapsed": 25475,
     "status": "ok",
     "timestamp": 1644827504339,
     "user": {
      "displayName": "dexuan meng",
      "photoUrl": "https://lh3.googleusercontent.com/a/default-user=s64",
      "userId": "02429618187161859061"
     },
     "user_tz": -60
    },
    "id": "qX3tGmkcve-q"
   },
   "outputs": [
    {
     "name": "stderr",
     "output_type": "stream",
     "text": [
      "D:\\Program\\Anaconda\\envs\\torch_test\\lib\\site-packages\\tqdm\\auto.py:22: TqdmWarning: IProgress not found. Please update jupyter and ipywidgets. See https://ipywidgets.readthedocs.io/en/stable/user_install.html\n",
      "  from .autonotebook import tqdm as notebook_tqdm\n"
     ]
    }
   ],
   "source": [
    "import torch\n",
    "import numpy as np\n",
    "from torch import nn\n",
    "from torch.nn import functional as F\n",
    "from torch.utils.data import Dataset, DataLoader, random_split\n",
    "from torch.nn.modules.loss import _Loss\n",
    "from torch import Tensor\n",
    "\n",
    "from torchvision.transforms import ToTensor\n",
    "from torchvision.datasets import MNIST\n",
    "\n",
    "import skorch\n",
    "# from skorch.classifier_for_BNN import NeuralNetClassifier\n",
    "from skorch.classifier_for_BNN import NeuralNetClassifier as NeuralNetClassifier_BNN\n",
    "from skorch import NeuralNetClassifier\n",
    "from modAL.models import ActiveLearner, Committee\n",
    "from tqdm.notebook import tqdm\n",
    "\n",
    "import pandas as pd\n",
    "import os\n",
    "import sys\n",
    "\n",
    "from sklearn import preprocessing, model_selection\n",
    "from sklearn.model_selection import RandomizedSearchCV\n",
    "from sklearn.metrics import mean_squared_error, mean_absolute_percentage_error\n",
    "from sklearn.metrics import _scorer\n",
    "\n",
    "from scipy.stats import uniform, loguniform, randint\n",
    "import uncertainty_toolbox as uct\n",
    "import matplotlib.pyplot as plt\n",
    "\n",
    "from blitz.modules import BayesianLinear\n",
    "from blitz.modules import BayesianConv2d\n",
    "from blitz.utils import variational_estimator\n",
    "from blitz.modules.base_bayesian_module import BayesianModule\n",
    "from tensorflow import keras\n",
    "\n",
    "from batchbald_redux import joint_entropy\n",
    "from batchbald_redux.batchbald import *\n",
    "from batchbald_redux import (\n",
    "    active_learning,\n",
    "    batchbald,\n",
    "    consistent_mc_dropout,\n",
    "    joint_entropy,\n",
    "    repeated_mnist,\n",
    ")"
   ]
  },
  {
   "cell_type": "markdown",
   "metadata": {
    "id": "CzLeQ-E3rqIq",
    "tags": []
   },
   "source": [
    "# 2: Classifier we will be using"
   ]
  },
  {
   "cell_type": "markdown",
   "metadata": {
    "id": "JyK07ejKrqIr"
   },
   "source": [
    "We will use the architecture described in the paper."
   ]
  },
  {
   "cell_type": "markdown",
   "metadata": {
    "id": "fj1737-lPHC2",
    "jp-MarkdownHeadingCollapsed": true,
    "tags": []
   },
   "source": [
    "## CNN"
   ]
  },
  {
   "cell_type": "code",
   "execution_count": 50,
   "metadata": {
    "colab": {
     "base_uri": "https://localhost:8080/",
     "height": 238
    },
    "executionInfo": {
     "elapsed": 790,
     "status": "error",
     "timestamp": 1641757182517,
     "user": {
      "displayName": "dexuan meng",
      "photoUrl": "https://lh3.googleusercontent.com/a/default-user=s64",
      "userId": "02429618187161859061"
     },
     "user_tz": -60
    },
    "id": "rKsqWLukrqIs",
    "outputId": "56ee038c-2e2a-42a4-b2dc-08f3d6e7d32a"
   },
   "outputs": [],
   "source": [
    "class CNN(nn.Module):\n",
    "    def __init__(self,):\n",
    "        super(CNN, self).__init__()\n",
    "        self.convs = nn.Sequential(\n",
    "                                nn.Conv2d(1,32,4),\n",
    "                                nn.ReLU(),\n",
    "                                nn.Conv2d(32,32,4),\n",
    "                                nn.ReLU(),\n",
    "                                nn.MaxPool2d(2),\n",
    "                                nn.Dropout(0.25)\n",
    "        )\n",
    "        self.fcs = nn.Sequential(\n",
    "                                nn.Linear(11*11*32,128),\n",
    "                                nn.ReLU(),\n",
    "                                nn.Dropout(0.5),\n",
    "                                nn.Linear(128,10),\n",
    "        )\n",
    "\n",
    "    def forward(self, x):\n",
    "        out = x\n",
    "        out = self.convs(out)\n",
    "        out = out.view(-1,11*11*32)\n",
    "        out = self.fcs(out)\n",
    "        return out"
   ]
  },
  {
   "cell_type": "markdown",
   "metadata": {
    "id": "xXMsguLTTIaP",
    "jp-MarkdownHeadingCollapsed": true,
    "tags": []
   },
   "source": [
    "## Bayesian CNN"
   ]
  },
  {
   "cell_type": "code",
   "execution_count": 2,
   "metadata": {
    "id": "kpk4tlyBTH3D"
   },
   "outputs": [],
   "source": [
    "@variational_estimator\n",
    "class BayesianCNN(nn.Module):\n",
    "    def __init__(self, conv_rho=-8, conv_sigma_1=1.2, conv_sigma_2=0.009, conv_pi=0.5, linear_rho=-8, linear_sigma_1=0.4, linear_sigma_2=0.003, linear_pi=0.5):\n",
    "        super().__init__()\n",
    "\n",
    "        self.conv_rho = conv_rho\n",
    "        self.conv_sigma_1 = conv_sigma_1\n",
    "        self.conv_sigma_2 = conv_sigma_2\n",
    "        self.conv_pi = conv_pi\n",
    "        self.linear_rho = linear_rho\n",
    "        self.linear_sigma_1 = linear_sigma_1\n",
    "        self.linear_sigma_2 = linear_sigma_2\n",
    "        self.linear_pi = linear_pi\n",
    "\n",
    "        self.convs = nn.Sequential(\n",
    "            BayesianConv2d(\n",
    "                1, 32, (4, 4),\n",
    "                prior_sigma_1 = self.conv_sigma_1,\n",
    "                prior_sigma_2 = self.conv_sigma_2,\n",
    "                prior_pi = self.conv_pi,\n",
    "                posterior_rho_init = self.conv_rho\n",
    "            ),\n",
    "            nn.BatchNorm2d(32),\n",
    "            nn.ReLU(),\n",
    "            BayesianConv2d(\n",
    "                32, 32, (4, 4),\n",
    "                prior_sigma_1 = self.conv_sigma_1,\n",
    "                prior_sigma_2 = self.conv_sigma_2,\n",
    "                prior_pi = self.conv_pi,\n",
    "                posterior_rho_init = self.conv_rho\n",
    "            ),\n",
    "            nn.BatchNorm2d(32),\n",
    "            nn.ReLU(),\n",
    "            nn.MaxPool2d(2),\n",
    "        )\n",
    "        # self.convs = nn.Sequential(\n",
    "        #                         nn.Conv2d(1, 32, (4, 4)),\n",
    "        #                         nn.ReLU(),\n",
    "        #                         nn.Conv2d(32, 32, (4, 4)),\n",
    "        #                         nn.ReLU(),\n",
    "        #                         nn.MaxPool2d(2),\n",
    "        # )\n",
    "        self.fcs = nn.Sequential(\n",
    "            BayesianLinear(\n",
    "                11*11*32, 128,\n",
    "                prior_sigma_1 = self.linear_sigma_1,\n",
    "                prior_sigma_2 = self.linear_sigma_2,\n",
    "                prior_pi = self.linear_pi,\n",
    "                posterior_rho_init = self.linear_rho\n",
    "            ),\n",
    "            nn.ReLU(),\n",
    "            BayesianLinear(\n",
    "                128, 10,\n",
    "                prior_sigma_1 = self.linear_sigma_1,\n",
    "                prior_sigma_2 = self.linear_sigma_2,\n",
    "                prior_pi = self.linear_pi,\n",
    "                posterior_rho_init = self.linear_rho\n",
    "            ),\n",
    "            # nn.Softmax(dim=1)\n",
    "        )\n",
    "\n",
    "    def forward(self, x):\n",
    "        out = x\n",
    "        out = self.convs(out)\n",
    "        out = out.view(-1,11*11*32)\n",
    "        out = self.fcs(out)\n",
    "        return out\n",
    "\n",
    "\n",
    "def kl_divergence_from_nn(model):\n",
    "\n",
    "    \"\"\"\n",
    "    Gathers the KL Divergence from a nn.Module object\n",
    "    Works by gathering each Bayesian layer kl divergence and summing it, doing nothing with the non Bayesian ones\n",
    "    \"\"\"\n",
    "    kl_divergence = 0\n",
    "    for module in model.modules():\n",
    "        if isinstance(module, (BayesianModule)):\n",
    "            kl_divergence += module.log_variational_posterior - module.log_prior\n",
    "    return kl_divergence\n",
    "\n",
    "\n",
    "class sample_elbo_class(_Loss):\n",
    "    __constants__ = ['reduction']\n",
    "\n",
    "    def __init__(self, size_average=None, reduce=None, reduction: str = 'mean', complexity_cost_weight=None) -> None:\n",
    "        super(sample_elbo_class, self).__init__(size_average, reduce, reduction)\n",
    "\n",
    "        self.complexity_cost_weight = complexity_cost_weight\n",
    "        self.model = None\n",
    "\n",
    "    def forward(self, input: Tensor, target: Tensor, model) -> Tensor:\n",
    "        self.model = model\n",
    "        return self.sample_elbo(input, target, model=model, complexity_cost_weight=self.complexity_cost_weight)\n",
    "\n",
    "    def nn_kl_divergence(self, model):\n",
    "        return kl_divergence_from_nn(model)\n",
    "\n",
    "    def sample_elbo(self,\n",
    "                    inputs,\n",
    "                    labels,\n",
    "                    model=None,\n",
    "                    sample_nbr=20,\n",
    "                    criterion=nn.CrossEntropyLoss(),\n",
    "                    complexity_cost_weight=1):\n",
    "\n",
    "        loss = 0\n",
    "        for _ in range(sample_nbr):\n",
    "            loss += F.cross_entropy(inputs, labels)\n",
    "            loss += self.nn_kl_divergence(model) * complexity_cost_weight\n",
    "        return loss / sample_nbr"
   ]
  },
  {
   "cell_type": "markdown",
   "metadata": {
    "id": "LTDoc0LBPKx4",
    "jp-MarkdownHeadingCollapsed": true,
    "tags": []
   },
   "source": [
    "## Ensemble based method"
   ]
  },
  {
   "cell_type": "code",
   "execution_count": null,
   "metadata": {
    "id": "W84dAgKAPP5N"
   },
   "outputs": [],
   "source": []
  },
  {
   "cell_type": "markdown",
   "metadata": {
    "id": "dWeYLpTk1xEq",
    "jp-MarkdownHeadingCollapsed": true,
    "tags": []
   },
   "source": [
    "## RandomForest\n"
   ]
  },
  {
   "cell_type": "code",
   "execution_count": 41,
   "metadata": {
    "id": "LcNyhS3916NC"
   },
   "outputs": [],
   "source": [
    "from sklearn.ensemble import RandomForestClassifier"
   ]
  },
  {
   "cell_type": "markdown",
   "metadata": {
    "id": "hvSDd1d8cMgW",
    "jp-MarkdownHeadingCollapsed": true,
    "tags": []
   },
   "source": [
    "## Gaussian Process"
   ]
  },
  {
   "cell_type": "code",
   "execution_count": 54,
   "metadata": {
    "id": "1Of_kvrScLn7"
   },
   "outputs": [],
   "source": [
    "from sklearn.gaussian_process import GaussianProcessClassifier\n",
    "import sklearn.gaussian_process.kernels as kernels\n",
    "kernel = kernels.DotProduct(1.0, sigma_0_bounds=(1.0e-03, 1.0e0)) + kernels.WhiteKernel(1.0, noise_level_bounds=(1.0e-03, 1.0e1))\n",
    "#kernel = kernels.DotProduct(1, sigma_0_bounds='fixed') + kernels.WhiteKernel(8.1, noise_level_bounds='fixed')\n",
    "gpc = GaussianProcessClassifier(kernel=kernel, n_restarts_optimizer=10)"
   ]
  },
  {
   "cell_type": "markdown",
   "metadata": {
    "id": "QfzS9zNzS5gJ",
    "jp-MarkdownHeadingCollapsed": true,
    "tags": []
   },
   "source": [
    "## GP-CNN"
   ]
  },
  {
   "cell_type": "code",
   "execution_count": 23,
   "metadata": {
    "colab": {
     "base_uri": "https://localhost:8080/"
    },
    "executionInfo": {
     "elapsed": 1347,
     "status": "ok",
     "timestamp": 1639731363204,
     "user": {
      "displayName": "dexuan meng",
      "photoUrl": "https://lh3.googleusercontent.com/a/default-user=s64",
      "userId": "02429618187161859061"
     },
     "user_tz": -60
    },
    "id": "BnQVdUvXS4Sh",
    "outputId": "4984e96d-62f1-4873-8ac9-e16799ed2365"
   },
   "outputs": [],
   "source": [
    "from cnn_gp import Sequential, Conv2d, ReLU\n",
    "\n",
    "model = Sequential(\n",
    "    Conv2d(kernel_size=4,padding=0),\n",
    ")\n",
    "#model = model.cuda()\n",
    "nn_Conv2d_1 = model.nn(channels=50, in_channels=1, out_channels=32)\n",
    "nn_Conv2d_2 = model.nn(channels=50, in_channels=32, out_channels=32)\n",
    "\n",
    "class GP_CNN(nn.Module):\n",
    "    def __init__(self,):\n",
    "        super(GP_CNN, self).__init__()\n",
    "        self.convs = nn.Sequential(\n",
    "                                #nn.Conv2d(1,32,4),\n",
    "                                nn_Conv2d_1,\n",
    "                                nn.ReLU(),\n",
    "                                nn.Conv2d(32,32,4),\n",
    "                                #nn_Conv2d_2,\n",
    "                                nn.ReLU(),\n",
    "                                nn.MaxPool2d(2,2),\n",
    "                                #nn.Dropout(0.25)\n",
    "        )\n",
    "        self.fcs = nn.Sequential(\n",
    "                                nn.Linear(11*11*32,128),\n",
    "                                nn.ReLU(),\n",
    "                                #nn.Dropout(0.5),\n",
    "                                nn.Linear(128,10),\n",
    "        )\n",
    "\n",
    "    def forward(self, x):\n",
    "        out = x\n",
    "        out = self.convs(out)\n",
    "        out = out.view(-1,11*11*32)\n",
    "        out = self.fcs(out)\n",
    "        return out"
   ]
  },
  {
   "cell_type": "markdown",
   "metadata": {
    "id": "0jFwpT4wPbxF",
    "tags": []
   },
   "source": [
    "# 3: Dataset"
   ]
  },
  {
   "cell_type": "markdown",
   "metadata": {
    "id": "9ffC9B6rrqIu",
    "jp-MarkdownHeadingCollapsed": true,
    "tags": []
   },
   "source": [
    "## Read training data"
   ]
  },
  {
   "cell_type": "code",
   "execution_count": 3,
   "metadata": {
    "id": "9GAw5_KOrqIv"
   },
   "outputs": [
    {
     "name": "stderr",
     "output_type": "stream",
     "text": [
      "C:\\Users\\mengdexuan\\AppData\\Roaming\\Python\\Python37\\site-packages\\torchvision\\datasets\\mnist.py:498: UserWarning: The given NumPy array is not writeable, and PyTorch does not support non-writeable tensors. This means you can write to the underlying (supposedly non-writeable) NumPy array using the tensor. You may want to copy the array to protect its data or make it writeable before converting it to a tensor. This type of warning will be suppressed for the rest of this program. (Triggered internally at  ..\\torch\\csrc\\utils\\tensor_numpy.cpp:180.)\n",
      "  return torch.from_numpy(parsed.astype(m[2], copy=False)).view(*s)\n"
     ]
    }
   ],
   "source": [
    "mnist_train = MNIST('.', train=True, download=True, transform=ToTensor())\n",
    "mnist_test  = MNIST('.', train=False,download=True, transform=ToTensor())\n",
    "traindataloader = DataLoader(mnist_train, shuffle=False, batch_size=60000)\n",
    "testdataloader  = DataLoader(mnist_test , shuffle=False, batch_size=10000)\n",
    "X_train, y_train = next(iter(traindataloader))\n",
    "X_train = X_train.detach().cpu().numpy()\n",
    "y_train = y_train.detach().cpu().numpy()\n",
    "X_test , y_test  = next(iter(testdataloader))\n",
    "X_test = X_test.detach().cpu().numpy()\n",
    "y_test = y_test.detach().cpu().numpy()"
   ]
  },
  {
   "cell_type": "markdown",
   "metadata": {
    "id": "v6PTiqSqrqIx",
    "jp-MarkdownHeadingCollapsed": true,
    "tags": []
   },
   "source": [
    "## Preprocessing"
   ]
  },
  {
   "cell_type": "code",
   "execution_count": 4,
   "metadata": {
    "id": "WF9_0YTrrqIz"
   },
   "outputs": [],
   "source": [
    "X_train = X_train.reshape(60000, 1, 28, 28)\n",
    "X_test = X_test.reshape(10000, 1, 28, 28)"
   ]
  },
  {
   "cell_type": "markdown",
   "metadata": {
    "id": "7AFVLA2uc9wq"
   },
   "source": [
    "### image reshape"
   ]
  },
  {
   "cell_type": "code",
   "execution_count": 5,
   "metadata": {
    "id": "Tdc6dh3wYr41"
   },
   "outputs": [],
   "source": [
    "def img_reshape(list):\n",
    "    re_list = []\n",
    "    for X in list:\n",
    "        re_list.append(X.reshape(X.shape[0], -1))\n",
    "    return re_list"
   ]
  },
  {
   "cell_type": "markdown",
   "metadata": {
    "id": "HWw7HlL_rqI0",
    "jp-MarkdownHeadingCollapsed": true,
    "tags": []
   },
   "source": [
    "## Initial labelled data"
   ]
  },
  {
   "cell_type": "markdown",
   "metadata": {
    "id": "GhDzPYaorqI1"
   },
   "source": [
    "We initialize the labelled set with 20 balanced randomly sampled examples"
   ]
  },
  {
   "cell_type": "code",
   "execution_count": 43,
   "metadata": {
    "id": "pX8PFv8JrqI2"
   },
   "outputs": [],
   "source": [
    "initial_idx = np.array([],dtype=int)\n",
    "\n",
    "for i in range(10):\n",
    "    idx = np.where(y_train==i)[0][0:50]\n",
    "    initial_idx = np.concatenate((initial_idx, idx))\n",
    "\n",
    "X_initial = X_train[initial_idx]\n",
    "y_initial = y_train[initial_idx]"
   ]
  },
  {
   "cell_type": "code",
   "execution_count": 8,
   "metadata": {},
   "outputs": [],
   "source": [
    "X_initial = np.load('D:/Studium/WiSe2021/SA/Project/run_adlr/X_initial_50.npy')\n",
    "y_initial = np.load('D:/Studium/WiSe2021/SA/Project/run_adlr/y_initial_50.npy')\n",
    "initial_idx = np.load('D:/Studium/WiSe2021/SA/Project/run_adlr/initial_idx_50.npy')\n",
    "X_initial_1000 = np.load('D:/Studium/WiSe2021/SA/Project/run_adlr/X_initial_1000.npy')\n",
    "y_initial_1000 = np.load('D:/Studium/WiSe2021/SA/Project/run_adlr/y_initial_1000.npy')\n",
    "initial_idx_1000 = np.load('D:/Studium/WiSe2021/SA/Project/run_adlr/initial_idx_1000.npy')"
   ]
  },
  {
   "cell_type": "markdown",
   "metadata": {
    "id": "AYAoy-PnrqI4",
    "jp-MarkdownHeadingCollapsed": true,
    "tags": []
   },
   "source": [
    "## Initial unlabelled pool"
   ]
  },
  {
   "cell_type": "code",
   "execution_count": 44,
   "metadata": {
    "id": "rOb6pqEbrqI4"
   },
   "outputs": [],
   "source": [
    "X_pool = np.delete(X_train, initial_idx, axis=0)\n",
    "y_pool = np.delete(y_train, initial_idx, axis=0)"
   ]
  },
  {
   "cell_type": "code",
   "execution_count": 45,
   "metadata": {
    "id": "_jo_Qt1WQZRP"
   },
   "outputs": [],
   "source": [
    "X_list = [X_test, X_pool, X_initial]\n",
    "\n",
    "X_test_re, X_pool_re, X_initial_re = img_reshape(X_list)"
   ]
  },
  {
   "cell_type": "markdown",
   "metadata": {
    "id": "i_bKiN0sG8P1",
    "jp-MarkdownHeadingCollapsed": true,
    "tags": []
   },
   "source": [
    "## labelled data for tuning\n",
    "150 in total, 50 initial + 100 queries, same number with the active learning"
   ]
  },
  {
   "cell_type": "code",
   "execution_count": 25,
   "metadata": {
    "id": "GtavBv70HP9N"
   },
   "outputs": [],
   "source": [
    "tune_index = np.array([],dtype=int)\n",
    "\n",
    "for i in range(10):\n",
    "    idx = np.where(y_train==i)[0][0:15]\n",
    "    tune_index = np.concatenate((tune_index, idx))\n",
    "\n",
    "X_tune = X_train[tune_index]\n",
    "y_tune = y_train[tune_index]"
   ]
  },
  {
   "cell_type": "markdown",
   "metadata": {
    "id": "HcvFAsojOziy",
    "tags": []
   },
   "source": [
    "# Plus: Hparams Tuning"
   ]
  },
  {
   "cell_type": "markdown",
   "metadata": {
    "id": "ZV7dYyf9_uM-",
    "jp-MarkdownHeadingCollapsed": true,
    "tags": []
   },
   "source": [
    "## Plus.1 Gaussian Process Tuning"
   ]
  },
  {
   "cell_type": "code",
   "execution_count": null,
   "metadata": {
    "id": "yeoltZxeOyu5"
   },
   "outputs": [],
   "source": [
    "# Utility function to report best scores\n",
    "def report(results, n_top=3):\n",
    "    for i in range(1, n_top + 1):\n",
    "        candidates = np.flatnonzero(results[\"rank_test_score\"] == i)\n",
    "        for candidate in candidates:\n",
    "            print(\"Model with rank: {0}\".format(i))\n",
    "            print(\n",
    "                \"Mean validation score: {0:.3f} (std: {1:.3f})\".format(\n",
    "                    results[\"mean_test_score\"][candidate],\n",
    "                    results[\"std_test_score\"][candidate],\n",
    "                )\n",
    "            )\n",
    "            print(\"Parameters: {0}\".format(results[\"params\"][candidate]))\n",
    "            print(\"\")"
   ]
  },
  {
   "cell_type": "code",
   "execution_count": null,
   "metadata": {
    "colab": {
     "base_uri": "https://localhost:8080/"
    },
    "executionInfo": {
     "elapsed": 7,
     "status": "ok",
     "timestamp": 1639731370907,
     "user": {
      "displayName": "dexuan meng",
      "photoUrl": "https://lh3.googleusercontent.com/a/default-user=s64",
      "userId": "02429618187161859061"
     },
     "user_tz": -60
    },
    "id": "w-bYo9s1O5ua",
    "outputId": "57f755d8-0432-4e53-bffa-64ab5a2c3911"
   },
   "outputs": [
    {
     "data": {
      "text/plain": [
       "dict_keys(['copy_X_train', 'kernel__k1', 'kernel__k2', 'kernel__k1__sigma_0', 'kernel__k1__sigma_0_bounds', 'kernel__k2__noise_level', 'kernel__k2__noise_level_bounds', 'kernel', 'max_iter_predict', 'multi_class', 'n_jobs', 'n_restarts_optimizer', 'optimizer', 'random_state', 'warm_start'])"
      ]
     },
     "execution_count": 14,
     "metadata": {},
     "output_type": "execute_result"
    }
   ],
   "source": [
    "from sklearn.ensemble import RandomForestClassifier\n",
    "from sklearn.gaussian_process import GaussianProcessClassifier\n",
    "import sklearn.gaussian_process.kernels as kernels\n",
    "kernel_1 = 1.0 * kernels.RBF(1.0, length_scale_bounds=(1.0e0, 1.0e03)) + kernels.WhiteKernel(1.0, noise_level_bounds=(1.0e-03, 1.0e1))\n",
    "kernel_2 = kernels.ConstantKernel(1.0, constant_value_bounds=(1.0e-03, 1.0e03)) + kernels.WhiteKernel(1.0, noise_level_bounds=(1.0e-03, 1.0e1))\n",
    "kernel_3 = kernels.DotProduct(1.0, sigma_0_bounds=(1.0e-03, 1.0e0)) + kernels.WhiteKernel(1.0, noise_level_bounds=(1.0e-03, 1.0e1))\n",
    "kernel_4 = kernels.Matern(length_scale=1.0, length_scale_bounds=(1.0e0, 1.0e03), nu=2) + kernels.WhiteKernel(1.0, noise_level_bounds=(1.0e-03, 1.0e1))\n",
    "kernel_5 = kernels.PairwiseKernel(1.0, gamma_bounds=(1.0e-03, 1.0e03), metric='linear') + kernels.WhiteKernel(1.0, noise_level_bounds=(1.0e-03, 1.0e1))\n",
    "kernel_6 = kernels.RationalQuadratic(length_scale=1.0, length_scale_bounds=(1.0e0, 1.0e03), alpha=1.0, alpha_bounds=(1.0e-01, 1.0e02)) + kernels.WhiteKernel(1.0, noise_level_bounds=(1.0e-03, 1.0e1))\n",
    "#kernel_7 = kernels.WhiteKernel(1.0, noise_level_bounds=(1.0e-03, 1.0e1))\n",
    "\n",
    "gpc = GaussianProcessClassifier(kernel=kernel_3, n_restarts_optimizer=10)\n",
    "gpc.get_params().keys()"
   ]
  },
  {
   "cell_type": "markdown",
   "metadata": {
    "id": "BBm6htghRR3s",
    "jp-MarkdownHeadingCollapsed": true,
    "tags": []
   },
   "source": [
    "## Plus.2: Random Search"
   ]
  },
  {
   "cell_type": "code",
   "execution_count": null,
   "metadata": {
    "colab": {
     "base_uri": "https://localhost:8080/",
     "height": 473
    },
    "collapsed": true,
    "executionInfo": {
     "elapsed": 7804,
     "status": "error",
     "timestamp": 1639573425567,
     "user": {
      "displayName": "dexuan meng",
      "photoUrl": "https://lh3.googleusercontent.com/a/default-user=s64",
      "userId": "02429618187161859061"
     },
     "user_tz": -60
    },
    "id": "Fb6JsRDCPCUL",
    "outputId": "0ce058de-606d-4d95-a995-fd4a1eb4ab8d",
    "tags": []
   },
   "outputs": [
    {
     "name": "stderr",
     "output_type": "stream",
     "text": [
      "/usr/local/lib/python3.7/dist-packages/sklearn/gaussian_process/kernels.py:427: ConvergenceWarning: The optimal value found for dimension 0 of parameter k2__noise_level is close to the specified lower bound 0.001. Decreasing the bound and calling fit again may find a better value.\n",
      "  ConvergenceWarning,\n",
      "/usr/local/lib/python3.7/dist-packages/sklearn/gaussian_process/kernels.py:437: ConvergenceWarning: The optimal value found for dimension 0 of parameter k1__k2__length_scale is close to the specified upper bound 1000.0. Increasing the bound and calling fit again may find a better value.\n",
      "  ConvergenceWarning,\n"
     ]
    },
    {
     "ename": "KeyboardInterrupt",
     "evalue": "ignored",
     "output_type": "error",
     "traceback": [
      "\u001b[0;31m---------------------------------------------------------------------------\u001b[0m",
      "\u001b[0;31mKeyboardInterrupt\u001b[0m                         Traceback (most recent call last)",
      "\u001b[0;32m<ipython-input-19-abf596c39418>\u001b[0m in \u001b[0;36m<module>\u001b[0;34m()\u001b[0m\n\u001b[1;32m     18\u001b[0m \u001b[0;34m\u001b[0m\u001b[0m\n\u001b[1;32m     19\u001b[0m \u001b[0mstart\u001b[0m \u001b[0;34m=\u001b[0m \u001b[0mtime\u001b[0m\u001b[0;34m(\u001b[0m\u001b[0;34m)\u001b[0m\u001b[0;34m\u001b[0m\u001b[0;34m\u001b[0m\u001b[0m\n\u001b[0;32m---> 20\u001b[0;31m \u001b[0mrandom_search\u001b[0m\u001b[0;34m.\u001b[0m\u001b[0mfit\u001b[0m\u001b[0;34m(\u001b[0m\u001b[0mX_initial_re\u001b[0m\u001b[0;34m,\u001b[0m \u001b[0my_initial\u001b[0m\u001b[0;34m)\u001b[0m\u001b[0;34m\u001b[0m\u001b[0;34m\u001b[0m\u001b[0m\n\u001b[0m\u001b[1;32m     21\u001b[0m print(\n\u001b[1;32m     22\u001b[0m     \u001b[0;34m\"RandomizedSearchCV took %.2f seconds for %d candidates parameter settings.\"\u001b[0m\u001b[0;34m\u001b[0m\u001b[0;34m\u001b[0m\u001b[0m\n",
      "\u001b[0;32m/usr/local/lib/python3.7/dist-packages/sklearn/model_selection/_search.py\u001b[0m in \u001b[0;36mfit\u001b[0;34m(self, X, y, groups, **fit_params)\u001b[0m\n\u001b[1;32m    889\u001b[0m                 \u001b[0;32mreturn\u001b[0m \u001b[0mresults\u001b[0m\u001b[0;34m\u001b[0m\u001b[0;34m\u001b[0m\u001b[0m\n\u001b[1;32m    890\u001b[0m \u001b[0;34m\u001b[0m\u001b[0m\n\u001b[0;32m--> 891\u001b[0;31m             \u001b[0mself\u001b[0m\u001b[0;34m.\u001b[0m\u001b[0m_run_search\u001b[0m\u001b[0;34m(\u001b[0m\u001b[0mevaluate_candidates\u001b[0m\u001b[0;34m)\u001b[0m\u001b[0;34m\u001b[0m\u001b[0;34m\u001b[0m\u001b[0m\n\u001b[0m\u001b[1;32m    892\u001b[0m \u001b[0;34m\u001b[0m\u001b[0m\n\u001b[1;32m    893\u001b[0m             \u001b[0;31m# multimetric is determined here because in the case of a callable\u001b[0m\u001b[0;34m\u001b[0m\u001b[0;34m\u001b[0m\u001b[0;34m\u001b[0m\u001b[0m\n",
      "\u001b[0;32m/usr/local/lib/python3.7/dist-packages/sklearn/model_selection/_search.py\u001b[0m in \u001b[0;36m_run_search\u001b[0;34m(self, evaluate_candidates)\u001b[0m\n\u001b[1;32m   1766\u001b[0m         evaluate_candidates(\n\u001b[1;32m   1767\u001b[0m             ParameterSampler(\n\u001b[0;32m-> 1768\u001b[0;31m                 \u001b[0mself\u001b[0m\u001b[0;34m.\u001b[0m\u001b[0mparam_distributions\u001b[0m\u001b[0;34m,\u001b[0m \u001b[0mself\u001b[0m\u001b[0;34m.\u001b[0m\u001b[0mn_iter\u001b[0m\u001b[0;34m,\u001b[0m \u001b[0mrandom_state\u001b[0m\u001b[0;34m=\u001b[0m\u001b[0mself\u001b[0m\u001b[0;34m.\u001b[0m\u001b[0mrandom_state\u001b[0m\u001b[0;34m\u001b[0m\u001b[0;34m\u001b[0m\u001b[0m\n\u001b[0m\u001b[1;32m   1769\u001b[0m             )\n\u001b[1;32m   1770\u001b[0m         )\n",
      "\u001b[0;32m/usr/local/lib/python3.7/dist-packages/sklearn/model_selection/_search.py\u001b[0m in \u001b[0;36mevaluate_candidates\u001b[0;34m(candidate_params, cv, more_results)\u001b[0m\n\u001b[1;32m    849\u001b[0m                     )\n\u001b[1;32m    850\u001b[0m                     for (cand_idx, parameters), (split_idx, (train, test)) in product(\n\u001b[0;32m--> 851\u001b[0;31m                         \u001b[0menumerate\u001b[0m\u001b[0;34m(\u001b[0m\u001b[0mcandidate_params\u001b[0m\u001b[0;34m)\u001b[0m\u001b[0;34m,\u001b[0m \u001b[0menumerate\u001b[0m\u001b[0;34m(\u001b[0m\u001b[0mcv\u001b[0m\u001b[0;34m.\u001b[0m\u001b[0msplit\u001b[0m\u001b[0;34m(\u001b[0m\u001b[0mX\u001b[0m\u001b[0;34m,\u001b[0m \u001b[0my\u001b[0m\u001b[0;34m,\u001b[0m \u001b[0mgroups\u001b[0m\u001b[0;34m)\u001b[0m\u001b[0;34m)\u001b[0m\u001b[0;34m\u001b[0m\u001b[0;34m\u001b[0m\u001b[0m\n\u001b[0m\u001b[1;32m    852\u001b[0m                     )\n\u001b[1;32m    853\u001b[0m                 )\n",
      "\u001b[0;32m/usr/local/lib/python3.7/dist-packages/joblib/parallel.py\u001b[0m in \u001b[0;36m__call__\u001b[0;34m(self, iterable)\u001b[0m\n\u001b[1;32m   1041\u001b[0m             \u001b[0;31m# remaining jobs.\u001b[0m\u001b[0;34m\u001b[0m\u001b[0;34m\u001b[0m\u001b[0;34m\u001b[0m\u001b[0m\n\u001b[1;32m   1042\u001b[0m             \u001b[0mself\u001b[0m\u001b[0;34m.\u001b[0m\u001b[0m_iterating\u001b[0m \u001b[0;34m=\u001b[0m \u001b[0;32mFalse\u001b[0m\u001b[0;34m\u001b[0m\u001b[0;34m\u001b[0m\u001b[0m\n\u001b[0;32m-> 1043\u001b[0;31m             \u001b[0;32mif\u001b[0m \u001b[0mself\u001b[0m\u001b[0;34m.\u001b[0m\u001b[0mdispatch_one_batch\u001b[0m\u001b[0;34m(\u001b[0m\u001b[0miterator\u001b[0m\u001b[0;34m)\u001b[0m\u001b[0;34m:\u001b[0m\u001b[0;34m\u001b[0m\u001b[0;34m\u001b[0m\u001b[0m\n\u001b[0m\u001b[1;32m   1044\u001b[0m                 \u001b[0mself\u001b[0m\u001b[0;34m.\u001b[0m\u001b[0m_iterating\u001b[0m \u001b[0;34m=\u001b[0m \u001b[0mself\u001b[0m\u001b[0;34m.\u001b[0m\u001b[0m_original_iterator\u001b[0m \u001b[0;32mis\u001b[0m \u001b[0;32mnot\u001b[0m \u001b[0;32mNone\u001b[0m\u001b[0;34m\u001b[0m\u001b[0;34m\u001b[0m\u001b[0m\n\u001b[1;32m   1045\u001b[0m \u001b[0;34m\u001b[0m\u001b[0m\n",
      "\u001b[0;32m/usr/local/lib/python3.7/dist-packages/joblib/parallel.py\u001b[0m in \u001b[0;36mdispatch_one_batch\u001b[0;34m(self, iterator)\u001b[0m\n\u001b[1;32m    859\u001b[0m                 \u001b[0;32mreturn\u001b[0m \u001b[0;32mFalse\u001b[0m\u001b[0;34m\u001b[0m\u001b[0;34m\u001b[0m\u001b[0m\n\u001b[1;32m    860\u001b[0m             \u001b[0;32melse\u001b[0m\u001b[0;34m:\u001b[0m\u001b[0;34m\u001b[0m\u001b[0;34m\u001b[0m\u001b[0m\n\u001b[0;32m--> 861\u001b[0;31m                 \u001b[0mself\u001b[0m\u001b[0;34m.\u001b[0m\u001b[0m_dispatch\u001b[0m\u001b[0;34m(\u001b[0m\u001b[0mtasks\u001b[0m\u001b[0;34m)\u001b[0m\u001b[0;34m\u001b[0m\u001b[0;34m\u001b[0m\u001b[0m\n\u001b[0m\u001b[1;32m    862\u001b[0m                 \u001b[0;32mreturn\u001b[0m \u001b[0;32mTrue\u001b[0m\u001b[0;34m\u001b[0m\u001b[0;34m\u001b[0m\u001b[0m\n\u001b[1;32m    863\u001b[0m \u001b[0;34m\u001b[0m\u001b[0m\n",
      "\u001b[0;32m/usr/local/lib/python3.7/dist-packages/joblib/parallel.py\u001b[0m in \u001b[0;36m_dispatch\u001b[0;34m(self, batch)\u001b[0m\n\u001b[1;32m    777\u001b[0m         \u001b[0;32mwith\u001b[0m \u001b[0mself\u001b[0m\u001b[0;34m.\u001b[0m\u001b[0m_lock\u001b[0m\u001b[0;34m:\u001b[0m\u001b[0;34m\u001b[0m\u001b[0;34m\u001b[0m\u001b[0m\n\u001b[1;32m    778\u001b[0m             \u001b[0mjob_idx\u001b[0m \u001b[0;34m=\u001b[0m \u001b[0mlen\u001b[0m\u001b[0;34m(\u001b[0m\u001b[0mself\u001b[0m\u001b[0;34m.\u001b[0m\u001b[0m_jobs\u001b[0m\u001b[0;34m)\u001b[0m\u001b[0;34m\u001b[0m\u001b[0;34m\u001b[0m\u001b[0m\n\u001b[0;32m--> 779\u001b[0;31m             \u001b[0mjob\u001b[0m \u001b[0;34m=\u001b[0m \u001b[0mself\u001b[0m\u001b[0;34m.\u001b[0m\u001b[0m_backend\u001b[0m\u001b[0;34m.\u001b[0m\u001b[0mapply_async\u001b[0m\u001b[0;34m(\u001b[0m\u001b[0mbatch\u001b[0m\u001b[0;34m,\u001b[0m \u001b[0mcallback\u001b[0m\u001b[0;34m=\u001b[0m\u001b[0mcb\u001b[0m\u001b[0;34m)\u001b[0m\u001b[0;34m\u001b[0m\u001b[0;34m\u001b[0m\u001b[0m\n\u001b[0m\u001b[1;32m    780\u001b[0m             \u001b[0;31m# A job can complete so quickly than its callback is\u001b[0m\u001b[0;34m\u001b[0m\u001b[0;34m\u001b[0m\u001b[0;34m\u001b[0m\u001b[0m\n\u001b[1;32m    781\u001b[0m             \u001b[0;31m# called before we get here, causing self._jobs to\u001b[0m\u001b[0;34m\u001b[0m\u001b[0;34m\u001b[0m\u001b[0;34m\u001b[0m\u001b[0m\n",
      "\u001b[0;32m/usr/local/lib/python3.7/dist-packages/joblib/_parallel_backends.py\u001b[0m in \u001b[0;36mapply_async\u001b[0;34m(self, func, callback)\u001b[0m\n\u001b[1;32m    206\u001b[0m     \u001b[0;32mdef\u001b[0m \u001b[0mapply_async\u001b[0m\u001b[0;34m(\u001b[0m\u001b[0mself\u001b[0m\u001b[0;34m,\u001b[0m \u001b[0mfunc\u001b[0m\u001b[0;34m,\u001b[0m \u001b[0mcallback\u001b[0m\u001b[0;34m=\u001b[0m\u001b[0;32mNone\u001b[0m\u001b[0;34m)\u001b[0m\u001b[0;34m:\u001b[0m\u001b[0;34m\u001b[0m\u001b[0;34m\u001b[0m\u001b[0m\n\u001b[1;32m    207\u001b[0m         \u001b[0;34m\"\"\"Schedule a func to be run\"\"\"\u001b[0m\u001b[0;34m\u001b[0m\u001b[0;34m\u001b[0m\u001b[0m\n\u001b[0;32m--> 208\u001b[0;31m         \u001b[0mresult\u001b[0m \u001b[0;34m=\u001b[0m \u001b[0mImmediateResult\u001b[0m\u001b[0;34m(\u001b[0m\u001b[0mfunc\u001b[0m\u001b[0;34m)\u001b[0m\u001b[0;34m\u001b[0m\u001b[0;34m\u001b[0m\u001b[0m\n\u001b[0m\u001b[1;32m    209\u001b[0m         \u001b[0;32mif\u001b[0m \u001b[0mcallback\u001b[0m\u001b[0;34m:\u001b[0m\u001b[0;34m\u001b[0m\u001b[0;34m\u001b[0m\u001b[0m\n\u001b[1;32m    210\u001b[0m             \u001b[0mcallback\u001b[0m\u001b[0;34m(\u001b[0m\u001b[0mresult\u001b[0m\u001b[0;34m)\u001b[0m\u001b[0;34m\u001b[0m\u001b[0;34m\u001b[0m\u001b[0m\n",
      "\u001b[0;32m/usr/local/lib/python3.7/dist-packages/joblib/_parallel_backends.py\u001b[0m in \u001b[0;36m__init__\u001b[0;34m(self, batch)\u001b[0m\n\u001b[1;32m    570\u001b[0m         \u001b[0;31m# Don't delay the application, to avoid keeping the input\u001b[0m\u001b[0;34m\u001b[0m\u001b[0;34m\u001b[0m\u001b[0;34m\u001b[0m\u001b[0m\n\u001b[1;32m    571\u001b[0m         \u001b[0;31m# arguments in memory\u001b[0m\u001b[0;34m\u001b[0m\u001b[0;34m\u001b[0m\u001b[0;34m\u001b[0m\u001b[0m\n\u001b[0;32m--> 572\u001b[0;31m         \u001b[0mself\u001b[0m\u001b[0;34m.\u001b[0m\u001b[0mresults\u001b[0m \u001b[0;34m=\u001b[0m \u001b[0mbatch\u001b[0m\u001b[0;34m(\u001b[0m\u001b[0;34m)\u001b[0m\u001b[0;34m\u001b[0m\u001b[0;34m\u001b[0m\u001b[0m\n\u001b[0m\u001b[1;32m    573\u001b[0m \u001b[0;34m\u001b[0m\u001b[0m\n\u001b[1;32m    574\u001b[0m     \u001b[0;32mdef\u001b[0m \u001b[0mget\u001b[0m\u001b[0;34m(\u001b[0m\u001b[0mself\u001b[0m\u001b[0;34m)\u001b[0m\u001b[0;34m:\u001b[0m\u001b[0;34m\u001b[0m\u001b[0;34m\u001b[0m\u001b[0m\n",
      "\u001b[0;32m/usr/local/lib/python3.7/dist-packages/joblib/parallel.py\u001b[0m in \u001b[0;36m__call__\u001b[0;34m(self)\u001b[0m\n\u001b[1;32m    261\u001b[0m         \u001b[0;32mwith\u001b[0m \u001b[0mparallel_backend\u001b[0m\u001b[0;34m(\u001b[0m\u001b[0mself\u001b[0m\u001b[0;34m.\u001b[0m\u001b[0m_backend\u001b[0m\u001b[0;34m,\u001b[0m \u001b[0mn_jobs\u001b[0m\u001b[0;34m=\u001b[0m\u001b[0mself\u001b[0m\u001b[0;34m.\u001b[0m\u001b[0m_n_jobs\u001b[0m\u001b[0;34m)\u001b[0m\u001b[0;34m:\u001b[0m\u001b[0;34m\u001b[0m\u001b[0;34m\u001b[0m\u001b[0m\n\u001b[1;32m    262\u001b[0m             return [func(*args, **kwargs)\n\u001b[0;32m--> 263\u001b[0;31m                     for func, args, kwargs in self.items]\n\u001b[0m\u001b[1;32m    264\u001b[0m \u001b[0;34m\u001b[0m\u001b[0m\n\u001b[1;32m    265\u001b[0m     \u001b[0;32mdef\u001b[0m \u001b[0m__reduce__\u001b[0m\u001b[0;34m(\u001b[0m\u001b[0mself\u001b[0m\u001b[0;34m)\u001b[0m\u001b[0;34m:\u001b[0m\u001b[0;34m\u001b[0m\u001b[0;34m\u001b[0m\u001b[0m\n",
      "\u001b[0;32m/usr/local/lib/python3.7/dist-packages/joblib/parallel.py\u001b[0m in \u001b[0;36m<listcomp>\u001b[0;34m(.0)\u001b[0m\n\u001b[1;32m    261\u001b[0m         \u001b[0;32mwith\u001b[0m \u001b[0mparallel_backend\u001b[0m\u001b[0;34m(\u001b[0m\u001b[0mself\u001b[0m\u001b[0;34m.\u001b[0m\u001b[0m_backend\u001b[0m\u001b[0;34m,\u001b[0m \u001b[0mn_jobs\u001b[0m\u001b[0;34m=\u001b[0m\u001b[0mself\u001b[0m\u001b[0;34m.\u001b[0m\u001b[0m_n_jobs\u001b[0m\u001b[0;34m)\u001b[0m\u001b[0;34m:\u001b[0m\u001b[0;34m\u001b[0m\u001b[0;34m\u001b[0m\u001b[0m\n\u001b[1;32m    262\u001b[0m             return [func(*args, **kwargs)\n\u001b[0;32m--> 263\u001b[0;31m                     for func, args, kwargs in self.items]\n\u001b[0m\u001b[1;32m    264\u001b[0m \u001b[0;34m\u001b[0m\u001b[0m\n\u001b[1;32m    265\u001b[0m     \u001b[0;32mdef\u001b[0m \u001b[0m__reduce__\u001b[0m\u001b[0;34m(\u001b[0m\u001b[0mself\u001b[0m\u001b[0;34m)\u001b[0m\u001b[0;34m:\u001b[0m\u001b[0;34m\u001b[0m\u001b[0;34m\u001b[0m\u001b[0m\n",
      "\u001b[0;32m/usr/local/lib/python3.7/dist-packages/sklearn/utils/fixes.py\u001b[0m in \u001b[0;36m__call__\u001b[0;34m(self, *args, **kwargs)\u001b[0m\n\u001b[1;32m    209\u001b[0m     \u001b[0;32mdef\u001b[0m \u001b[0m__call__\u001b[0m\u001b[0;34m(\u001b[0m\u001b[0mself\u001b[0m\u001b[0;34m,\u001b[0m \u001b[0;34m*\u001b[0m\u001b[0margs\u001b[0m\u001b[0;34m,\u001b[0m \u001b[0;34m**\u001b[0m\u001b[0mkwargs\u001b[0m\u001b[0;34m)\u001b[0m\u001b[0;34m:\u001b[0m\u001b[0;34m\u001b[0m\u001b[0;34m\u001b[0m\u001b[0m\n\u001b[1;32m    210\u001b[0m         \u001b[0;32mwith\u001b[0m \u001b[0mconfig_context\u001b[0m\u001b[0;34m(\u001b[0m\u001b[0;34m**\u001b[0m\u001b[0mself\u001b[0m\u001b[0;34m.\u001b[0m\u001b[0mconfig\u001b[0m\u001b[0;34m)\u001b[0m\u001b[0;34m:\u001b[0m\u001b[0;34m\u001b[0m\u001b[0;34m\u001b[0m\u001b[0m\n\u001b[0;32m--> 211\u001b[0;31m             \u001b[0;32mreturn\u001b[0m \u001b[0mself\u001b[0m\u001b[0;34m.\u001b[0m\u001b[0mfunction\u001b[0m\u001b[0;34m(\u001b[0m\u001b[0;34m*\u001b[0m\u001b[0margs\u001b[0m\u001b[0;34m,\u001b[0m \u001b[0;34m**\u001b[0m\u001b[0mkwargs\u001b[0m\u001b[0;34m)\u001b[0m\u001b[0;34m\u001b[0m\u001b[0;34m\u001b[0m\u001b[0m\n\u001b[0m\u001b[1;32m    212\u001b[0m \u001b[0;34m\u001b[0m\u001b[0m\n\u001b[1;32m    213\u001b[0m \u001b[0;34m\u001b[0m\u001b[0m\n",
      "\u001b[0;32m/usr/local/lib/python3.7/dist-packages/sklearn/model_selection/_validation.py\u001b[0m in \u001b[0;36m_fit_and_score\u001b[0;34m(estimator, X, y, scorer, train, test, verbose, parameters, fit_params, return_train_score, return_parameters, return_n_test_samples, return_times, return_estimator, split_progress, candidate_progress, error_score)\u001b[0m\n\u001b[1;32m    679\u001b[0m             \u001b[0mestimator\u001b[0m\u001b[0;34m.\u001b[0m\u001b[0mfit\u001b[0m\u001b[0;34m(\u001b[0m\u001b[0mX_train\u001b[0m\u001b[0;34m,\u001b[0m \u001b[0;34m**\u001b[0m\u001b[0mfit_params\u001b[0m\u001b[0;34m)\u001b[0m\u001b[0;34m\u001b[0m\u001b[0;34m\u001b[0m\u001b[0m\n\u001b[1;32m    680\u001b[0m         \u001b[0;32melse\u001b[0m\u001b[0;34m:\u001b[0m\u001b[0;34m\u001b[0m\u001b[0;34m\u001b[0m\u001b[0m\n\u001b[0;32m--> 681\u001b[0;31m             \u001b[0mestimator\u001b[0m\u001b[0;34m.\u001b[0m\u001b[0mfit\u001b[0m\u001b[0;34m(\u001b[0m\u001b[0mX_train\u001b[0m\u001b[0;34m,\u001b[0m \u001b[0my_train\u001b[0m\u001b[0;34m,\u001b[0m \u001b[0;34m**\u001b[0m\u001b[0mfit_params\u001b[0m\u001b[0;34m)\u001b[0m\u001b[0;34m\u001b[0m\u001b[0;34m\u001b[0m\u001b[0m\n\u001b[0m\u001b[1;32m    682\u001b[0m \u001b[0;34m\u001b[0m\u001b[0m\n\u001b[1;32m    683\u001b[0m     \u001b[0;32mexcept\u001b[0m \u001b[0mException\u001b[0m\u001b[0;34m:\u001b[0m\u001b[0;34m\u001b[0m\u001b[0;34m\u001b[0m\u001b[0m\n",
      "\u001b[0;32m/usr/local/lib/python3.7/dist-packages/sklearn/gaussian_process/_gpc.py\u001b[0m in \u001b[0;36mfit\u001b[0;34m(self, X, y)\u001b[0m\n\u001b[1;32m    713\u001b[0m                 \u001b[0;32mraise\u001b[0m \u001b[0mValueError\u001b[0m\u001b[0;34m(\u001b[0m\u001b[0;34m\"Unknown multi-class mode %s\"\u001b[0m \u001b[0;34m%\u001b[0m \u001b[0mself\u001b[0m\u001b[0;34m.\u001b[0m\u001b[0mmulti_class\u001b[0m\u001b[0;34m)\u001b[0m\u001b[0;34m\u001b[0m\u001b[0;34m\u001b[0m\u001b[0m\n\u001b[1;32m    714\u001b[0m \u001b[0;34m\u001b[0m\u001b[0m\n\u001b[0;32m--> 715\u001b[0;31m         \u001b[0mself\u001b[0m\u001b[0;34m.\u001b[0m\u001b[0mbase_estimator_\u001b[0m\u001b[0;34m.\u001b[0m\u001b[0mfit\u001b[0m\u001b[0;34m(\u001b[0m\u001b[0mX\u001b[0m\u001b[0;34m,\u001b[0m \u001b[0my\u001b[0m\u001b[0;34m)\u001b[0m\u001b[0;34m\u001b[0m\u001b[0;34m\u001b[0m\u001b[0m\n\u001b[0m\u001b[1;32m    716\u001b[0m \u001b[0;34m\u001b[0m\u001b[0m\n\u001b[1;32m    717\u001b[0m         \u001b[0;32mif\u001b[0m \u001b[0mself\u001b[0m\u001b[0;34m.\u001b[0m\u001b[0mn_classes_\u001b[0m \u001b[0;34m>\u001b[0m \u001b[0;36m2\u001b[0m\u001b[0;34m:\u001b[0m\u001b[0;34m\u001b[0m\u001b[0;34m\u001b[0m\u001b[0m\n",
      "\u001b[0;32m/usr/local/lib/python3.7/dist-packages/sklearn/multiclass.py\u001b[0m in \u001b[0;36mfit\u001b[0;34m(self, X, y)\u001b[0m\n\u001b[1;32m    345\u001b[0m                 ],\n\u001b[1;32m    346\u001b[0m             )\n\u001b[0;32m--> 347\u001b[0;31m             \u001b[0;32mfor\u001b[0m \u001b[0mi\u001b[0m\u001b[0;34m,\u001b[0m \u001b[0mcolumn\u001b[0m \u001b[0;32min\u001b[0m \u001b[0menumerate\u001b[0m\u001b[0;34m(\u001b[0m\u001b[0mcolumns\u001b[0m\u001b[0;34m)\u001b[0m\u001b[0;34m\u001b[0m\u001b[0;34m\u001b[0m\u001b[0m\n\u001b[0m\u001b[1;32m    348\u001b[0m         )\n\u001b[1;32m    349\u001b[0m \u001b[0;34m\u001b[0m\u001b[0m\n",
      "\u001b[0;32m/usr/local/lib/python3.7/dist-packages/joblib/parallel.py\u001b[0m in \u001b[0;36m__call__\u001b[0;34m(self, iterable)\u001b[0m\n\u001b[1;32m   1044\u001b[0m                 \u001b[0mself\u001b[0m\u001b[0;34m.\u001b[0m\u001b[0m_iterating\u001b[0m \u001b[0;34m=\u001b[0m \u001b[0mself\u001b[0m\u001b[0;34m.\u001b[0m\u001b[0m_original_iterator\u001b[0m \u001b[0;32mis\u001b[0m \u001b[0;32mnot\u001b[0m \u001b[0;32mNone\u001b[0m\u001b[0;34m\u001b[0m\u001b[0;34m\u001b[0m\u001b[0m\n\u001b[1;32m   1045\u001b[0m \u001b[0;34m\u001b[0m\u001b[0m\n\u001b[0;32m-> 1046\u001b[0;31m             \u001b[0;32mwhile\u001b[0m \u001b[0mself\u001b[0m\u001b[0;34m.\u001b[0m\u001b[0mdispatch_one_batch\u001b[0m\u001b[0;34m(\u001b[0m\u001b[0miterator\u001b[0m\u001b[0;34m)\u001b[0m\u001b[0;34m:\u001b[0m\u001b[0;34m\u001b[0m\u001b[0;34m\u001b[0m\u001b[0m\n\u001b[0m\u001b[1;32m   1047\u001b[0m                 \u001b[0;32mpass\u001b[0m\u001b[0;34m\u001b[0m\u001b[0;34m\u001b[0m\u001b[0m\n\u001b[1;32m   1048\u001b[0m \u001b[0;34m\u001b[0m\u001b[0m\n",
      "\u001b[0;32m/usr/local/lib/python3.7/dist-packages/joblib/parallel.py\u001b[0m in \u001b[0;36mdispatch_one_batch\u001b[0;34m(self, iterator)\u001b[0m\n\u001b[1;32m    859\u001b[0m                 \u001b[0;32mreturn\u001b[0m \u001b[0;32mFalse\u001b[0m\u001b[0;34m\u001b[0m\u001b[0;34m\u001b[0m\u001b[0m\n\u001b[1;32m    860\u001b[0m             \u001b[0;32melse\u001b[0m\u001b[0;34m:\u001b[0m\u001b[0;34m\u001b[0m\u001b[0;34m\u001b[0m\u001b[0m\n\u001b[0;32m--> 861\u001b[0;31m                 \u001b[0mself\u001b[0m\u001b[0;34m.\u001b[0m\u001b[0m_dispatch\u001b[0m\u001b[0;34m(\u001b[0m\u001b[0mtasks\u001b[0m\u001b[0;34m)\u001b[0m\u001b[0;34m\u001b[0m\u001b[0;34m\u001b[0m\u001b[0m\n\u001b[0m\u001b[1;32m    862\u001b[0m                 \u001b[0;32mreturn\u001b[0m \u001b[0;32mTrue\u001b[0m\u001b[0;34m\u001b[0m\u001b[0;34m\u001b[0m\u001b[0m\n\u001b[1;32m    863\u001b[0m \u001b[0;34m\u001b[0m\u001b[0m\n",
      "\u001b[0;32m/usr/local/lib/python3.7/dist-packages/joblib/parallel.py\u001b[0m in \u001b[0;36m_dispatch\u001b[0;34m(self, batch)\u001b[0m\n\u001b[1;32m    777\u001b[0m         \u001b[0;32mwith\u001b[0m \u001b[0mself\u001b[0m\u001b[0;34m.\u001b[0m\u001b[0m_lock\u001b[0m\u001b[0;34m:\u001b[0m\u001b[0;34m\u001b[0m\u001b[0;34m\u001b[0m\u001b[0m\n\u001b[1;32m    778\u001b[0m             \u001b[0mjob_idx\u001b[0m \u001b[0;34m=\u001b[0m \u001b[0mlen\u001b[0m\u001b[0;34m(\u001b[0m\u001b[0mself\u001b[0m\u001b[0;34m.\u001b[0m\u001b[0m_jobs\u001b[0m\u001b[0;34m)\u001b[0m\u001b[0;34m\u001b[0m\u001b[0;34m\u001b[0m\u001b[0m\n\u001b[0;32m--> 779\u001b[0;31m             \u001b[0mjob\u001b[0m \u001b[0;34m=\u001b[0m \u001b[0mself\u001b[0m\u001b[0;34m.\u001b[0m\u001b[0m_backend\u001b[0m\u001b[0;34m.\u001b[0m\u001b[0mapply_async\u001b[0m\u001b[0;34m(\u001b[0m\u001b[0mbatch\u001b[0m\u001b[0;34m,\u001b[0m \u001b[0mcallback\u001b[0m\u001b[0;34m=\u001b[0m\u001b[0mcb\u001b[0m\u001b[0;34m)\u001b[0m\u001b[0;34m\u001b[0m\u001b[0;34m\u001b[0m\u001b[0m\n\u001b[0m\u001b[1;32m    780\u001b[0m             \u001b[0;31m# A job can complete so quickly than its callback is\u001b[0m\u001b[0;34m\u001b[0m\u001b[0;34m\u001b[0m\u001b[0;34m\u001b[0m\u001b[0m\n\u001b[1;32m    781\u001b[0m             \u001b[0;31m# called before we get here, causing self._jobs to\u001b[0m\u001b[0;34m\u001b[0m\u001b[0;34m\u001b[0m\u001b[0;34m\u001b[0m\u001b[0m\n",
      "\u001b[0;32m/usr/local/lib/python3.7/dist-packages/joblib/_parallel_backends.py\u001b[0m in \u001b[0;36mapply_async\u001b[0;34m(self, func, callback)\u001b[0m\n\u001b[1;32m    206\u001b[0m     \u001b[0;32mdef\u001b[0m \u001b[0mapply_async\u001b[0m\u001b[0;34m(\u001b[0m\u001b[0mself\u001b[0m\u001b[0;34m,\u001b[0m \u001b[0mfunc\u001b[0m\u001b[0;34m,\u001b[0m \u001b[0mcallback\u001b[0m\u001b[0;34m=\u001b[0m\u001b[0;32mNone\u001b[0m\u001b[0;34m)\u001b[0m\u001b[0;34m:\u001b[0m\u001b[0;34m\u001b[0m\u001b[0;34m\u001b[0m\u001b[0m\n\u001b[1;32m    207\u001b[0m         \u001b[0;34m\"\"\"Schedule a func to be run\"\"\"\u001b[0m\u001b[0;34m\u001b[0m\u001b[0;34m\u001b[0m\u001b[0m\n\u001b[0;32m--> 208\u001b[0;31m         \u001b[0mresult\u001b[0m \u001b[0;34m=\u001b[0m \u001b[0mImmediateResult\u001b[0m\u001b[0;34m(\u001b[0m\u001b[0mfunc\u001b[0m\u001b[0;34m)\u001b[0m\u001b[0;34m\u001b[0m\u001b[0;34m\u001b[0m\u001b[0m\n\u001b[0m\u001b[1;32m    209\u001b[0m         \u001b[0;32mif\u001b[0m \u001b[0mcallback\u001b[0m\u001b[0;34m:\u001b[0m\u001b[0;34m\u001b[0m\u001b[0;34m\u001b[0m\u001b[0m\n\u001b[1;32m    210\u001b[0m             \u001b[0mcallback\u001b[0m\u001b[0;34m(\u001b[0m\u001b[0mresult\u001b[0m\u001b[0;34m)\u001b[0m\u001b[0;34m\u001b[0m\u001b[0;34m\u001b[0m\u001b[0m\n",
      "\u001b[0;32m/usr/local/lib/python3.7/dist-packages/joblib/_parallel_backends.py\u001b[0m in \u001b[0;36m__init__\u001b[0;34m(self, batch)\u001b[0m\n\u001b[1;32m    570\u001b[0m         \u001b[0;31m# Don't delay the application, to avoid keeping the input\u001b[0m\u001b[0;34m\u001b[0m\u001b[0;34m\u001b[0m\u001b[0;34m\u001b[0m\u001b[0m\n\u001b[1;32m    571\u001b[0m         \u001b[0;31m# arguments in memory\u001b[0m\u001b[0;34m\u001b[0m\u001b[0;34m\u001b[0m\u001b[0;34m\u001b[0m\u001b[0m\n\u001b[0;32m--> 572\u001b[0;31m         \u001b[0mself\u001b[0m\u001b[0;34m.\u001b[0m\u001b[0mresults\u001b[0m \u001b[0;34m=\u001b[0m \u001b[0mbatch\u001b[0m\u001b[0;34m(\u001b[0m\u001b[0;34m)\u001b[0m\u001b[0;34m\u001b[0m\u001b[0;34m\u001b[0m\u001b[0m\n\u001b[0m\u001b[1;32m    573\u001b[0m \u001b[0;34m\u001b[0m\u001b[0m\n\u001b[1;32m    574\u001b[0m     \u001b[0;32mdef\u001b[0m \u001b[0mget\u001b[0m\u001b[0;34m(\u001b[0m\u001b[0mself\u001b[0m\u001b[0;34m)\u001b[0m\u001b[0;34m:\u001b[0m\u001b[0;34m\u001b[0m\u001b[0;34m\u001b[0m\u001b[0m\n",
      "\u001b[0;32m/usr/local/lib/python3.7/dist-packages/joblib/parallel.py\u001b[0m in \u001b[0;36m__call__\u001b[0;34m(self)\u001b[0m\n\u001b[1;32m    261\u001b[0m         \u001b[0;32mwith\u001b[0m \u001b[0mparallel_backend\u001b[0m\u001b[0;34m(\u001b[0m\u001b[0mself\u001b[0m\u001b[0;34m.\u001b[0m\u001b[0m_backend\u001b[0m\u001b[0;34m,\u001b[0m \u001b[0mn_jobs\u001b[0m\u001b[0;34m=\u001b[0m\u001b[0mself\u001b[0m\u001b[0;34m.\u001b[0m\u001b[0m_n_jobs\u001b[0m\u001b[0;34m)\u001b[0m\u001b[0;34m:\u001b[0m\u001b[0;34m\u001b[0m\u001b[0;34m\u001b[0m\u001b[0m\n\u001b[1;32m    262\u001b[0m             return [func(*args, **kwargs)\n\u001b[0;32m--> 263\u001b[0;31m                     for func, args, kwargs in self.items]\n\u001b[0m\u001b[1;32m    264\u001b[0m \u001b[0;34m\u001b[0m\u001b[0m\n\u001b[1;32m    265\u001b[0m     \u001b[0;32mdef\u001b[0m \u001b[0m__reduce__\u001b[0m\u001b[0;34m(\u001b[0m\u001b[0mself\u001b[0m\u001b[0;34m)\u001b[0m\u001b[0;34m:\u001b[0m\u001b[0;34m\u001b[0m\u001b[0;34m\u001b[0m\u001b[0m\n",
      "\u001b[0;32m/usr/local/lib/python3.7/dist-packages/joblib/parallel.py\u001b[0m in \u001b[0;36m<listcomp>\u001b[0;34m(.0)\u001b[0m\n\u001b[1;32m    261\u001b[0m         \u001b[0;32mwith\u001b[0m \u001b[0mparallel_backend\u001b[0m\u001b[0;34m(\u001b[0m\u001b[0mself\u001b[0m\u001b[0;34m.\u001b[0m\u001b[0m_backend\u001b[0m\u001b[0;34m,\u001b[0m \u001b[0mn_jobs\u001b[0m\u001b[0;34m=\u001b[0m\u001b[0mself\u001b[0m\u001b[0;34m.\u001b[0m\u001b[0m_n_jobs\u001b[0m\u001b[0;34m)\u001b[0m\u001b[0;34m:\u001b[0m\u001b[0;34m\u001b[0m\u001b[0;34m\u001b[0m\u001b[0m\n\u001b[1;32m    262\u001b[0m             return [func(*args, **kwargs)\n\u001b[0;32m--> 263\u001b[0;31m                     for func, args, kwargs in self.items]\n\u001b[0m\u001b[1;32m    264\u001b[0m \u001b[0;34m\u001b[0m\u001b[0m\n\u001b[1;32m    265\u001b[0m     \u001b[0;32mdef\u001b[0m \u001b[0m__reduce__\u001b[0m\u001b[0;34m(\u001b[0m\u001b[0mself\u001b[0m\u001b[0;34m)\u001b[0m\u001b[0;34m:\u001b[0m\u001b[0;34m\u001b[0m\u001b[0;34m\u001b[0m\u001b[0m\n",
      "\u001b[0;32m/usr/local/lib/python3.7/dist-packages/sklearn/utils/fixes.py\u001b[0m in \u001b[0;36m__call__\u001b[0;34m(self, *args, **kwargs)\u001b[0m\n\u001b[1;32m    209\u001b[0m     \u001b[0;32mdef\u001b[0m \u001b[0m__call__\u001b[0m\u001b[0;34m(\u001b[0m\u001b[0mself\u001b[0m\u001b[0;34m,\u001b[0m \u001b[0;34m*\u001b[0m\u001b[0margs\u001b[0m\u001b[0;34m,\u001b[0m \u001b[0;34m**\u001b[0m\u001b[0mkwargs\u001b[0m\u001b[0;34m)\u001b[0m\u001b[0;34m:\u001b[0m\u001b[0;34m\u001b[0m\u001b[0;34m\u001b[0m\u001b[0m\n\u001b[1;32m    210\u001b[0m         \u001b[0;32mwith\u001b[0m \u001b[0mconfig_context\u001b[0m\u001b[0;34m(\u001b[0m\u001b[0;34m**\u001b[0m\u001b[0mself\u001b[0m\u001b[0;34m.\u001b[0m\u001b[0mconfig\u001b[0m\u001b[0;34m)\u001b[0m\u001b[0;34m:\u001b[0m\u001b[0;34m\u001b[0m\u001b[0;34m\u001b[0m\u001b[0m\n\u001b[0;32m--> 211\u001b[0;31m             \u001b[0;32mreturn\u001b[0m \u001b[0mself\u001b[0m\u001b[0;34m.\u001b[0m\u001b[0mfunction\u001b[0m\u001b[0;34m(\u001b[0m\u001b[0;34m*\u001b[0m\u001b[0margs\u001b[0m\u001b[0;34m,\u001b[0m \u001b[0;34m**\u001b[0m\u001b[0mkwargs\u001b[0m\u001b[0;34m)\u001b[0m\u001b[0;34m\u001b[0m\u001b[0;34m\u001b[0m\u001b[0m\n\u001b[0m\u001b[1;32m    212\u001b[0m \u001b[0;34m\u001b[0m\u001b[0m\n\u001b[1;32m    213\u001b[0m \u001b[0;34m\u001b[0m\u001b[0m\n",
      "\u001b[0;32m/usr/local/lib/python3.7/dist-packages/sklearn/multiclass.py\u001b[0m in \u001b[0;36m_fit_binary\u001b[0;34m(estimator, X, y, classes)\u001b[0m\n\u001b[1;32m     83\u001b[0m     \u001b[0;32melse\u001b[0m\u001b[0;34m:\u001b[0m\u001b[0;34m\u001b[0m\u001b[0;34m\u001b[0m\u001b[0m\n\u001b[1;32m     84\u001b[0m         \u001b[0mestimator\u001b[0m \u001b[0;34m=\u001b[0m \u001b[0mclone\u001b[0m\u001b[0;34m(\u001b[0m\u001b[0mestimator\u001b[0m\u001b[0;34m)\u001b[0m\u001b[0;34m\u001b[0m\u001b[0;34m\u001b[0m\u001b[0m\n\u001b[0;32m---> 85\u001b[0;31m         \u001b[0mestimator\u001b[0m\u001b[0;34m.\u001b[0m\u001b[0mfit\u001b[0m\u001b[0;34m(\u001b[0m\u001b[0mX\u001b[0m\u001b[0;34m,\u001b[0m \u001b[0my\u001b[0m\u001b[0;34m)\u001b[0m\u001b[0;34m\u001b[0m\u001b[0;34m\u001b[0m\u001b[0m\n\u001b[0m\u001b[1;32m     86\u001b[0m     \u001b[0;32mreturn\u001b[0m \u001b[0mestimator\u001b[0m\u001b[0;34m\u001b[0m\u001b[0;34m\u001b[0m\u001b[0m\n\u001b[1;32m     87\u001b[0m \u001b[0;34m\u001b[0m\u001b[0m\n",
      "\u001b[0;32m/usr/local/lib/python3.7/dist-packages/sklearn/gaussian_process/_gpc.py\u001b[0m in \u001b[0;36mfit\u001b[0;34m(self, X, y)\u001b[0m\n\u001b[1;32m    239\u001b[0m                     \u001b[0mtheta_initial\u001b[0m \u001b[0;34m=\u001b[0m \u001b[0mnp\u001b[0m\u001b[0;34m.\u001b[0m\u001b[0mexp\u001b[0m\u001b[0;34m(\u001b[0m\u001b[0mself\u001b[0m\u001b[0;34m.\u001b[0m\u001b[0mrng\u001b[0m\u001b[0;34m.\u001b[0m\u001b[0muniform\u001b[0m\u001b[0;34m(\u001b[0m\u001b[0mbounds\u001b[0m\u001b[0;34m[\u001b[0m\u001b[0;34m:\u001b[0m\u001b[0;34m,\u001b[0m \u001b[0;36m0\u001b[0m\u001b[0;34m]\u001b[0m\u001b[0;34m,\u001b[0m \u001b[0mbounds\u001b[0m\u001b[0;34m[\u001b[0m\u001b[0;34m:\u001b[0m\u001b[0;34m,\u001b[0m \u001b[0;36m1\u001b[0m\u001b[0;34m]\u001b[0m\u001b[0;34m)\u001b[0m\u001b[0;34m)\u001b[0m\u001b[0;34m\u001b[0m\u001b[0;34m\u001b[0m\u001b[0m\n\u001b[1;32m    240\u001b[0m                     optima.append(\n\u001b[0;32m--> 241\u001b[0;31m                         \u001b[0mself\u001b[0m\u001b[0;34m.\u001b[0m\u001b[0m_constrained_optimization\u001b[0m\u001b[0;34m(\u001b[0m\u001b[0mobj_func\u001b[0m\u001b[0;34m,\u001b[0m \u001b[0mtheta_initial\u001b[0m\u001b[0;34m,\u001b[0m \u001b[0mbounds\u001b[0m\u001b[0;34m)\u001b[0m\u001b[0;34m\u001b[0m\u001b[0;34m\u001b[0m\u001b[0m\n\u001b[0m\u001b[1;32m    242\u001b[0m                     )\n\u001b[1;32m    243\u001b[0m             \u001b[0;31m# Select result from run with minimal (negative) log-marginal\u001b[0m\u001b[0;34m\u001b[0m\u001b[0;34m\u001b[0m\u001b[0;34m\u001b[0m\u001b[0m\n",
      "\u001b[0;32m/usr/local/lib/python3.7/dist-packages/sklearn/gaussian_process/_gpc.py\u001b[0m in \u001b[0;36m_constrained_optimization\u001b[0;34m(self, obj_func, initial_theta, bounds)\u001b[0m\n\u001b[1;32m    468\u001b[0m         \u001b[0;32mif\u001b[0m \u001b[0mself\u001b[0m\u001b[0;34m.\u001b[0m\u001b[0moptimizer\u001b[0m \u001b[0;34m==\u001b[0m \u001b[0;34m\"fmin_l_bfgs_b\"\u001b[0m\u001b[0;34m:\u001b[0m\u001b[0;34m\u001b[0m\u001b[0;34m\u001b[0m\u001b[0m\n\u001b[1;32m    469\u001b[0m             opt_res = scipy.optimize.minimize(\n\u001b[0;32m--> 470\u001b[0;31m                 \u001b[0mobj_func\u001b[0m\u001b[0;34m,\u001b[0m \u001b[0minitial_theta\u001b[0m\u001b[0;34m,\u001b[0m \u001b[0mmethod\u001b[0m\u001b[0;34m=\u001b[0m\u001b[0;34m\"L-BFGS-B\"\u001b[0m\u001b[0;34m,\u001b[0m \u001b[0mjac\u001b[0m\u001b[0;34m=\u001b[0m\u001b[0;32mTrue\u001b[0m\u001b[0;34m,\u001b[0m \u001b[0mbounds\u001b[0m\u001b[0;34m=\u001b[0m\u001b[0mbounds\u001b[0m\u001b[0;34m\u001b[0m\u001b[0;34m\u001b[0m\u001b[0m\n\u001b[0m\u001b[1;32m    471\u001b[0m             )\n\u001b[1;32m    472\u001b[0m             \u001b[0m_check_optimize_result\u001b[0m\u001b[0;34m(\u001b[0m\u001b[0;34m\"lbfgs\"\u001b[0m\u001b[0;34m,\u001b[0m \u001b[0mopt_res\u001b[0m\u001b[0;34m)\u001b[0m\u001b[0;34m\u001b[0m\u001b[0;34m\u001b[0m\u001b[0m\n",
      "\u001b[0;32m/usr/local/lib/python3.7/dist-packages/scipy/optimize/_minimize.py\u001b[0m in \u001b[0;36mminimize\u001b[0;34m(fun, x0, args, method, jac, hess, hessp, bounds, constraints, tol, callback, options)\u001b[0m\n\u001b[1;32m    608\u001b[0m     \u001b[0;32melif\u001b[0m \u001b[0mmeth\u001b[0m \u001b[0;34m==\u001b[0m \u001b[0;34m'l-bfgs-b'\u001b[0m\u001b[0;34m:\u001b[0m\u001b[0;34m\u001b[0m\u001b[0;34m\u001b[0m\u001b[0m\n\u001b[1;32m    609\u001b[0m         return _minimize_lbfgsb(fun, x0, args, jac, bounds,\n\u001b[0;32m--> 610\u001b[0;31m                                 callback=callback, **options)\n\u001b[0m\u001b[1;32m    611\u001b[0m     \u001b[0;32melif\u001b[0m \u001b[0mmeth\u001b[0m \u001b[0;34m==\u001b[0m \u001b[0;34m'tnc'\u001b[0m\u001b[0;34m:\u001b[0m\u001b[0;34m\u001b[0m\u001b[0;34m\u001b[0m\u001b[0m\n\u001b[1;32m    612\u001b[0m         return _minimize_tnc(fun, x0, args, jac, bounds, callback=callback,\n",
      "\u001b[0;32m/usr/local/lib/python3.7/dist-packages/scipy/optimize/lbfgsb.py\u001b[0m in \u001b[0;36m_minimize_lbfgsb\u001b[0;34m(fun, x0, args, jac, bounds, disp, maxcor, ftol, gtol, eps, maxfun, maxiter, iprint, callback, maxls, **unknown_options)\u001b[0m\n\u001b[1;32m    343\u001b[0m             \u001b[0;31m# until the completion of the current minimization iteration.\u001b[0m\u001b[0;34m\u001b[0m\u001b[0;34m\u001b[0m\u001b[0;34m\u001b[0m\u001b[0m\n\u001b[1;32m    344\u001b[0m             \u001b[0;31m# Overwrite f and g:\u001b[0m\u001b[0;34m\u001b[0m\u001b[0;34m\u001b[0m\u001b[0;34m\u001b[0m\u001b[0m\n\u001b[0;32m--> 345\u001b[0;31m             \u001b[0mf\u001b[0m\u001b[0;34m,\u001b[0m \u001b[0mg\u001b[0m \u001b[0;34m=\u001b[0m \u001b[0mfunc_and_grad\u001b[0m\u001b[0;34m(\u001b[0m\u001b[0mx\u001b[0m\u001b[0;34m)\u001b[0m\u001b[0;34m\u001b[0m\u001b[0;34m\u001b[0m\u001b[0m\n\u001b[0m\u001b[1;32m    346\u001b[0m         \u001b[0;32melif\u001b[0m \u001b[0mtask_str\u001b[0m\u001b[0;34m.\u001b[0m\u001b[0mstartswith\u001b[0m\u001b[0;34m(\u001b[0m\u001b[0;34mb'NEW_X'\u001b[0m\u001b[0;34m)\u001b[0m\u001b[0;34m:\u001b[0m\u001b[0;34m\u001b[0m\u001b[0;34m\u001b[0m\u001b[0m\n\u001b[1;32m    347\u001b[0m             \u001b[0;31m# new iteration\u001b[0m\u001b[0;34m\u001b[0m\u001b[0;34m\u001b[0m\u001b[0;34m\u001b[0m\u001b[0m\n",
      "\u001b[0;32m/usr/local/lib/python3.7/dist-packages/scipy/optimize/lbfgsb.py\u001b[0m in \u001b[0;36mfunc_and_grad\u001b[0;34m(x)\u001b[0m\n\u001b[1;32m    293\u001b[0m     \u001b[0;32melse\u001b[0m\u001b[0;34m:\u001b[0m\u001b[0;34m\u001b[0m\u001b[0;34m\u001b[0m\u001b[0m\n\u001b[1;32m    294\u001b[0m         \u001b[0;32mdef\u001b[0m \u001b[0mfunc_and_grad\u001b[0m\u001b[0;34m(\u001b[0m\u001b[0mx\u001b[0m\u001b[0;34m)\u001b[0m\u001b[0;34m:\u001b[0m\u001b[0;34m\u001b[0m\u001b[0;34m\u001b[0m\u001b[0m\n\u001b[0;32m--> 295\u001b[0;31m             \u001b[0mf\u001b[0m \u001b[0;34m=\u001b[0m \u001b[0mfun\u001b[0m\u001b[0;34m(\u001b[0m\u001b[0mx\u001b[0m\u001b[0;34m,\u001b[0m \u001b[0;34m*\u001b[0m\u001b[0margs\u001b[0m\u001b[0;34m)\u001b[0m\u001b[0;34m\u001b[0m\u001b[0;34m\u001b[0m\u001b[0m\n\u001b[0m\u001b[1;32m    296\u001b[0m             \u001b[0mg\u001b[0m \u001b[0;34m=\u001b[0m \u001b[0mjac\u001b[0m\u001b[0;34m(\u001b[0m\u001b[0mx\u001b[0m\u001b[0;34m,\u001b[0m \u001b[0;34m*\u001b[0m\u001b[0margs\u001b[0m\u001b[0;34m)\u001b[0m\u001b[0;34m\u001b[0m\u001b[0;34m\u001b[0m\u001b[0m\n\u001b[1;32m    297\u001b[0m             \u001b[0;32mreturn\u001b[0m \u001b[0mf\u001b[0m\u001b[0;34m,\u001b[0m \u001b[0mg\u001b[0m\u001b[0;34m\u001b[0m\u001b[0;34m\u001b[0m\u001b[0m\n",
      "\u001b[0;32m/usr/local/lib/python3.7/dist-packages/scipy/optimize/optimize.py\u001b[0m in \u001b[0;36mfunction_wrapper\u001b[0;34m(*wrapper_args)\u001b[0m\n\u001b[1;32m    325\u001b[0m     \u001b[0;32mdef\u001b[0m \u001b[0mfunction_wrapper\u001b[0m\u001b[0;34m(\u001b[0m\u001b[0;34m*\u001b[0m\u001b[0mwrapper_args\u001b[0m\u001b[0;34m)\u001b[0m\u001b[0;34m:\u001b[0m\u001b[0;34m\u001b[0m\u001b[0;34m\u001b[0m\u001b[0m\n\u001b[1;32m    326\u001b[0m         \u001b[0mncalls\u001b[0m\u001b[0;34m[\u001b[0m\u001b[0;36m0\u001b[0m\u001b[0;34m]\u001b[0m \u001b[0;34m+=\u001b[0m \u001b[0;36m1\u001b[0m\u001b[0;34m\u001b[0m\u001b[0;34m\u001b[0m\u001b[0m\n\u001b[0;32m--> 327\u001b[0;31m         \u001b[0;32mreturn\u001b[0m \u001b[0mfunction\u001b[0m\u001b[0;34m(\u001b[0m\u001b[0;34m*\u001b[0m\u001b[0;34m(\u001b[0m\u001b[0mwrapper_args\u001b[0m \u001b[0;34m+\u001b[0m \u001b[0margs\u001b[0m\u001b[0;34m)\u001b[0m\u001b[0;34m)\u001b[0m\u001b[0;34m\u001b[0m\u001b[0;34m\u001b[0m\u001b[0m\n\u001b[0m\u001b[1;32m    328\u001b[0m \u001b[0;34m\u001b[0m\u001b[0m\n\u001b[1;32m    329\u001b[0m     \u001b[0;32mreturn\u001b[0m \u001b[0mncalls\u001b[0m\u001b[0;34m,\u001b[0m \u001b[0mfunction_wrapper\u001b[0m\u001b[0;34m\u001b[0m\u001b[0;34m\u001b[0m\u001b[0m\n",
      "\u001b[0;32m/usr/local/lib/python3.7/dist-packages/scipy/optimize/optimize.py\u001b[0m in \u001b[0;36m__call__\u001b[0;34m(self, x, *args)\u001b[0m\n\u001b[1;32m     63\u001b[0m     \u001b[0;32mdef\u001b[0m \u001b[0m__call__\u001b[0m\u001b[0;34m(\u001b[0m\u001b[0mself\u001b[0m\u001b[0;34m,\u001b[0m \u001b[0mx\u001b[0m\u001b[0;34m,\u001b[0m \u001b[0;34m*\u001b[0m\u001b[0margs\u001b[0m\u001b[0;34m)\u001b[0m\u001b[0;34m:\u001b[0m\u001b[0;34m\u001b[0m\u001b[0;34m\u001b[0m\u001b[0m\n\u001b[1;32m     64\u001b[0m         \u001b[0mself\u001b[0m\u001b[0;34m.\u001b[0m\u001b[0mx\u001b[0m \u001b[0;34m=\u001b[0m \u001b[0mnumpy\u001b[0m\u001b[0;34m.\u001b[0m\u001b[0masarray\u001b[0m\u001b[0;34m(\u001b[0m\u001b[0mx\u001b[0m\u001b[0;34m)\u001b[0m\u001b[0;34m.\u001b[0m\u001b[0mcopy\u001b[0m\u001b[0;34m(\u001b[0m\u001b[0;34m)\u001b[0m\u001b[0;34m\u001b[0m\u001b[0;34m\u001b[0m\u001b[0m\n\u001b[0;32m---> 65\u001b[0;31m         \u001b[0mfg\u001b[0m \u001b[0;34m=\u001b[0m \u001b[0mself\u001b[0m\u001b[0;34m.\u001b[0m\u001b[0mfun\u001b[0m\u001b[0;34m(\u001b[0m\u001b[0mx\u001b[0m\u001b[0;34m,\u001b[0m \u001b[0;34m*\u001b[0m\u001b[0margs\u001b[0m\u001b[0;34m)\u001b[0m\u001b[0;34m\u001b[0m\u001b[0;34m\u001b[0m\u001b[0m\n\u001b[0m\u001b[1;32m     66\u001b[0m         \u001b[0mself\u001b[0m\u001b[0;34m.\u001b[0m\u001b[0mjac\u001b[0m \u001b[0;34m=\u001b[0m \u001b[0mfg\u001b[0m\u001b[0;34m[\u001b[0m\u001b[0;36m1\u001b[0m\u001b[0;34m]\u001b[0m\u001b[0;34m\u001b[0m\u001b[0;34m\u001b[0m\u001b[0m\n\u001b[1;32m     67\u001b[0m         \u001b[0;32mreturn\u001b[0m \u001b[0mfg\u001b[0m\u001b[0;34m[\u001b[0m\u001b[0;36m0\u001b[0m\u001b[0;34m]\u001b[0m\u001b[0;34m\u001b[0m\u001b[0;34m\u001b[0m\u001b[0m\n",
      "\u001b[0;32m/usr/local/lib/python3.7/dist-packages/sklearn/gaussian_process/_gpc.py\u001b[0m in \u001b[0;36mobj_func\u001b[0;34m(theta, eval_gradient)\u001b[0m\n\u001b[1;32m    214\u001b[0m                 \u001b[0;32mif\u001b[0m \u001b[0meval_gradient\u001b[0m\u001b[0;34m:\u001b[0m\u001b[0;34m\u001b[0m\u001b[0;34m\u001b[0m\u001b[0m\n\u001b[1;32m    215\u001b[0m                     lml, grad = self.log_marginal_likelihood(\n\u001b[0;32m--> 216\u001b[0;31m                         \u001b[0mtheta\u001b[0m\u001b[0;34m,\u001b[0m \u001b[0meval_gradient\u001b[0m\u001b[0;34m=\u001b[0m\u001b[0;32mTrue\u001b[0m\u001b[0;34m,\u001b[0m \u001b[0mclone_kernel\u001b[0m\u001b[0;34m=\u001b[0m\u001b[0;32mFalse\u001b[0m\u001b[0;34m\u001b[0m\u001b[0;34m\u001b[0m\u001b[0m\n\u001b[0m\u001b[1;32m    217\u001b[0m                     )\n\u001b[1;32m    218\u001b[0m                     \u001b[0;32mreturn\u001b[0m \u001b[0;34m-\u001b[0m\u001b[0mlml\u001b[0m\u001b[0;34m,\u001b[0m \u001b[0;34m-\u001b[0m\u001b[0mgrad\u001b[0m\u001b[0;34m\u001b[0m\u001b[0;34m\u001b[0m\u001b[0m\n",
      "\u001b[0;32m/usr/local/lib/python3.7/dist-packages/sklearn/gaussian_process/_gpc.py\u001b[0m in \u001b[0;36mlog_marginal_likelihood\u001b[0;34m(self, theta, eval_gradient, clone_kernel)\u001b[0m\n\u001b[1;32m    378\u001b[0m         \u001b[0;31m# Compute log-marginal-likelihood Z and also store some temporaries\u001b[0m\u001b[0;34m\u001b[0m\u001b[0;34m\u001b[0m\u001b[0;34m\u001b[0m\u001b[0m\n\u001b[1;32m    379\u001b[0m         \u001b[0;31m# which can be reused for computing Z's gradient\u001b[0m\u001b[0;34m\u001b[0m\u001b[0;34m\u001b[0m\u001b[0;34m\u001b[0m\u001b[0m\n\u001b[0;32m--> 380\u001b[0;31m         \u001b[0mZ\u001b[0m\u001b[0;34m,\u001b[0m \u001b[0;34m(\u001b[0m\u001b[0mpi\u001b[0m\u001b[0;34m,\u001b[0m \u001b[0mW_sr\u001b[0m\u001b[0;34m,\u001b[0m \u001b[0mL\u001b[0m\u001b[0;34m,\u001b[0m \u001b[0mb\u001b[0m\u001b[0;34m,\u001b[0m \u001b[0ma\u001b[0m\u001b[0;34m)\u001b[0m \u001b[0;34m=\u001b[0m \u001b[0mself\u001b[0m\u001b[0;34m.\u001b[0m\u001b[0m_posterior_mode\u001b[0m\u001b[0;34m(\u001b[0m\u001b[0mK\u001b[0m\u001b[0;34m,\u001b[0m \u001b[0mreturn_temporaries\u001b[0m\u001b[0;34m=\u001b[0m\u001b[0;32mTrue\u001b[0m\u001b[0;34m)\u001b[0m\u001b[0;34m\u001b[0m\u001b[0;34m\u001b[0m\u001b[0m\n\u001b[0m\u001b[1;32m    381\u001b[0m \u001b[0;34m\u001b[0m\u001b[0m\n\u001b[1;32m    382\u001b[0m         \u001b[0;32mif\u001b[0m \u001b[0;32mnot\u001b[0m \u001b[0meval_gradient\u001b[0m\u001b[0;34m:\u001b[0m\u001b[0;34m\u001b[0m\u001b[0;34m\u001b[0m\u001b[0m\n",
      "\u001b[0;32m/usr/local/lib/python3.7/dist-packages/sklearn/gaussian_process/_gpc.py\u001b[0m in \u001b[0;36m_posterior_mode\u001b[0;34m(self, K, return_temporaries)\u001b[0m\n\u001b[1;32m    437\u001b[0m             \u001b[0mW_sr_K\u001b[0m \u001b[0;34m=\u001b[0m \u001b[0mW_sr\u001b[0m\u001b[0;34m[\u001b[0m\u001b[0;34m:\u001b[0m\u001b[0;34m,\u001b[0m \u001b[0mnp\u001b[0m\u001b[0;34m.\u001b[0m\u001b[0mnewaxis\u001b[0m\u001b[0;34m]\u001b[0m \u001b[0;34m*\u001b[0m \u001b[0mK\u001b[0m\u001b[0;34m\u001b[0m\u001b[0;34m\u001b[0m\u001b[0m\n\u001b[1;32m    438\u001b[0m             \u001b[0mB\u001b[0m \u001b[0;34m=\u001b[0m \u001b[0mnp\u001b[0m\u001b[0;34m.\u001b[0m\u001b[0meye\u001b[0m\u001b[0;34m(\u001b[0m\u001b[0mW\u001b[0m\u001b[0;34m.\u001b[0m\u001b[0mshape\u001b[0m\u001b[0;34m[\u001b[0m\u001b[0;36m0\u001b[0m\u001b[0;34m]\u001b[0m\u001b[0;34m)\u001b[0m \u001b[0;34m+\u001b[0m \u001b[0mW_sr_K\u001b[0m \u001b[0;34m*\u001b[0m \u001b[0mW_sr\u001b[0m\u001b[0;34m\u001b[0m\u001b[0;34m\u001b[0m\u001b[0m\n\u001b[0;32m--> 439\u001b[0;31m             \u001b[0mL\u001b[0m \u001b[0;34m=\u001b[0m \u001b[0mcholesky\u001b[0m\u001b[0;34m(\u001b[0m\u001b[0mB\u001b[0m\u001b[0;34m,\u001b[0m \u001b[0mlower\u001b[0m\u001b[0;34m=\u001b[0m\u001b[0;32mTrue\u001b[0m\u001b[0;34m)\u001b[0m\u001b[0;34m\u001b[0m\u001b[0;34m\u001b[0m\u001b[0m\n\u001b[0m\u001b[1;32m    440\u001b[0m             \u001b[0;31m# Line 6\u001b[0m\u001b[0;34m\u001b[0m\u001b[0;34m\u001b[0m\u001b[0;34m\u001b[0m\u001b[0m\n\u001b[1;32m    441\u001b[0m             \u001b[0mb\u001b[0m \u001b[0;34m=\u001b[0m \u001b[0mW\u001b[0m \u001b[0;34m*\u001b[0m \u001b[0mf\u001b[0m \u001b[0;34m+\u001b[0m \u001b[0;34m(\u001b[0m\u001b[0mself\u001b[0m\u001b[0;34m.\u001b[0m\u001b[0my_train_\u001b[0m \u001b[0;34m-\u001b[0m \u001b[0mpi\u001b[0m\u001b[0;34m)\u001b[0m\u001b[0;34m\u001b[0m\u001b[0;34m\u001b[0m\u001b[0m\n",
      "\u001b[0;32m/usr/local/lib/python3.7/dist-packages/scipy/linalg/decomp_cholesky.py\u001b[0m in \u001b[0;36mcholesky\u001b[0;34m(a, lower, overwrite_a, check_finite)\u001b[0m\n\u001b[1;32m     89\u001b[0m     \"\"\"\n\u001b[1;32m     90\u001b[0m     c, lower = _cholesky(a, lower=lower, overwrite_a=overwrite_a, clean=True,\n\u001b[0;32m---> 91\u001b[0;31m                          check_finite=check_finite)\n\u001b[0m\u001b[1;32m     92\u001b[0m     \u001b[0;32mreturn\u001b[0m \u001b[0mc\u001b[0m\u001b[0;34m\u001b[0m\u001b[0;34m\u001b[0m\u001b[0m\n\u001b[1;32m     93\u001b[0m \u001b[0;34m\u001b[0m\u001b[0m\n",
      "\u001b[0;32m/usr/local/lib/python3.7/dist-packages/scipy/linalg/decomp_cholesky.py\u001b[0m in \u001b[0;36m_cholesky\u001b[0;34m(a, lower, overwrite_a, clean, check_finite)\u001b[0m\n\u001b[1;32m     35\u001b[0m     \u001b[0moverwrite_a\u001b[0m \u001b[0;34m=\u001b[0m \u001b[0moverwrite_a\u001b[0m \u001b[0;32mor\u001b[0m \u001b[0m_datacopied\u001b[0m\u001b[0;34m(\u001b[0m\u001b[0ma1\u001b[0m\u001b[0;34m,\u001b[0m \u001b[0ma\u001b[0m\u001b[0;34m)\u001b[0m\u001b[0;34m\u001b[0m\u001b[0;34m\u001b[0m\u001b[0m\n\u001b[1;32m     36\u001b[0m     \u001b[0mpotrf\u001b[0m\u001b[0;34m,\u001b[0m \u001b[0;34m=\u001b[0m \u001b[0mget_lapack_funcs\u001b[0m\u001b[0;34m(\u001b[0m\u001b[0;34m(\u001b[0m\u001b[0;34m'potrf'\u001b[0m\u001b[0;34m,\u001b[0m\u001b[0;34m)\u001b[0m\u001b[0;34m,\u001b[0m \u001b[0;34m(\u001b[0m\u001b[0ma1\u001b[0m\u001b[0;34m,\u001b[0m\u001b[0;34m)\u001b[0m\u001b[0;34m)\u001b[0m\u001b[0;34m\u001b[0m\u001b[0;34m\u001b[0m\u001b[0m\n\u001b[0;32m---> 37\u001b[0;31m     \u001b[0mc\u001b[0m\u001b[0;34m,\u001b[0m \u001b[0minfo\u001b[0m \u001b[0;34m=\u001b[0m \u001b[0mpotrf\u001b[0m\u001b[0;34m(\u001b[0m\u001b[0ma1\u001b[0m\u001b[0;34m,\u001b[0m \u001b[0mlower\u001b[0m\u001b[0;34m=\u001b[0m\u001b[0mlower\u001b[0m\u001b[0;34m,\u001b[0m \u001b[0moverwrite_a\u001b[0m\u001b[0;34m=\u001b[0m\u001b[0moverwrite_a\u001b[0m\u001b[0;34m,\u001b[0m \u001b[0mclean\u001b[0m\u001b[0;34m=\u001b[0m\u001b[0mclean\u001b[0m\u001b[0;34m)\u001b[0m\u001b[0;34m\u001b[0m\u001b[0;34m\u001b[0m\u001b[0m\n\u001b[0m\u001b[1;32m     38\u001b[0m     \u001b[0;32mif\u001b[0m \u001b[0minfo\u001b[0m \u001b[0;34m>\u001b[0m \u001b[0;36m0\u001b[0m\u001b[0;34m:\u001b[0m\u001b[0;34m\u001b[0m\u001b[0;34m\u001b[0m\u001b[0m\n\u001b[1;32m     39\u001b[0m         raise LinAlgError(\"%d-th leading minor of the array is not positive \"\n",
      "\u001b[0;31mKeyboardInterrupt\u001b[0m: "
     ]
    }
   ],
   "source": [
    "from time import time\n",
    "import scipy.stats as stats\n",
    "from sklearn.utils.fixes import loguniform\n",
    "from sklearn.model_selection import GridSearchCV, RandomizedSearchCV\n",
    "\n",
    "# specify parameters and distributions to sample from\n",
    "param_dist = {\n",
    "    \"kernel__k1__sigma_0\": loguniform(1e-3, 1e3),\n",
    "    'kernel__k2__noise_level': loguniform(1e-3, 1e3),\n",
    "    #'kernel__gamma': loguniform(1e-3, 1e3),\n",
    "    #'kernel__metric': ['linear', 'additive_chi2', 'chi2', 'poly', 'polynomial', 'rbf', 'laplacian', 'sigmoid', 'cosine']\n",
    "}\n",
    "\n",
    "# run randomized search\n",
    "n_iter_search = 6\n",
    "random_search = RandomizedSearchCV(\n",
    "    gpc, param_distributions=param_dist, n_iter=n_iter_search,cv=3\n",
    ")\n",
    "\n",
    "start = time()\n",
    "random_search.fit(X_initial_re, y_initial)\n",
    "print(\n",
    "    \"RandomizedSearchCV took %.2f seconds for %d candidates parameter settings.\"\n",
    "    % ((time() - start), n_iter_search)\n",
    ")\n",
    "report(random_search.cv_results_, n_top=6)"
   ]
  },
  {
   "cell_type": "markdown",
   "metadata": {
    "id": "RbdBD9roRYVc",
    "jp-MarkdownHeadingCollapsed": true,
    "tags": []
   },
   "source": [
    "### Scikit-Optimization"
   ]
  },
  {
   "cell_type": "code",
   "execution_count": null,
   "metadata": {
    "id": "jb04f6m5RW9E"
   },
   "outputs": [],
   "source": [
    "from skopt import BayesSearchCV\n",
    "from skopt.space import Real, Categorical, Integer\n",
    "from skopt.plots import plot_objective, plot_histogram\n",
    "\n",
    "from sklearn.pipeline import Pipeline\n",
    "from sklearn.model_selection import train_test_split\n",
    "from sklearn import preprocessing\n",
    "import time"
   ]
  },
  {
   "cell_type": "code",
   "execution_count": null,
   "metadata": {
    "colab": {
     "base_uri": "https://localhost:8080/"
    },
    "collapsed": true,
    "executionInfo": {
     "elapsed": 38890,
     "status": "error",
     "timestamp": 1639636754700,
     "user": {
      "displayName": "dexuan meng",
      "photoUrl": "https://lh3.googleusercontent.com/a/default-user=s64",
      "userId": "02429618187161859061"
     },
     "user_tz": -60
    },
    "id": "JlPp5MNJSEVg",
    "outputId": "3acacb3c-d314-4780-e030-c99465527c4f"
   },
   "outputs": [
    {
     "name": "stderr",
     "output_type": "stream",
     "text": [
      "/usr/local/lib/python3.7/dist-packages/skopt/optimizer/optimizer.py:449: UserWarning: The objective has been evaluated at this point before.\n",
      "  warnings.warn(\"The objective has been evaluated \"\n",
      "/usr/local/lib/python3.7/dist-packages/skopt/optimizer/optimizer.py:449: UserWarning: The objective has been evaluated at this point before.\n",
      "  warnings.warn(\"The objective has been evaluated \"\n"
     ]
    },
    {
     "ename": "TypeError",
     "evalue": "ignored",
     "output_type": "error",
     "traceback": [
      "\u001b[0;31m---------------------------------------------------------------------------\u001b[0m",
      "\u001b[0;31mTypeError\u001b[0m                                 Traceback (most recent call last)",
      "\u001b[0;32m<ipython-input-31-512b28f99227>\u001b[0m in \u001b[0;36m<module>\u001b[0;34m()\u001b[0m\n\u001b[1;32m     21\u001b[0m print(\n\u001b[1;32m     22\u001b[0m     \u001b[0;34m\"BayesSearchCV took %.2f seconds for %d candidates parameter settings.\"\u001b[0m\u001b[0;34m\u001b[0m\u001b[0;34m\u001b[0m\u001b[0m\n\u001b[0;32m---> 23\u001b[0;31m     \u001b[0;34m%\u001b[0m \u001b[0;34m(\u001b[0m\u001b[0;34m(\u001b[0m\u001b[0mtime\u001b[0m\u001b[0;34m(\u001b[0m\u001b[0;34m)\u001b[0m \u001b[0;34m-\u001b[0m \u001b[0mstart\u001b[0m\u001b[0;34m)\u001b[0m\u001b[0;34m,\u001b[0m \u001b[0mn_iter_search\u001b[0m\u001b[0;34m)\u001b[0m\u001b[0;34m\u001b[0m\u001b[0;34m\u001b[0m\u001b[0m\n\u001b[0m\u001b[1;32m     24\u001b[0m )\n\u001b[1;32m     25\u001b[0m \u001b[0;34m\u001b[0m\u001b[0m\n",
      "\u001b[0;31mTypeError\u001b[0m: 'module' object is not callable"
     ]
    }
   ],
   "source": [
    "# log-uniform: understand as search over p = exp(x) by varying x\n",
    "#kernel = gp.kernels.Matern(length_scale=[1,1,1], length_scale_bounds=\"fixed\", nu=1.5) + gp.kernels.WhiteKernel(noise_level=0.2,noise_level_bounds=\"fixed\")\n",
    "#+ gp.kernels.RationalQuadratic()\n",
    "kernel = kernels.DotProduct(1.0, sigma_0_bounds='fixed') + kernels.WhiteKernel(1.0, noise_level_bounds='fixed')\n",
    "gpc = GaussianProcessClassifier(kernel=kernel, n_restarts_optimizer=10)\n",
    "n_iter_search = 50\n",
    "opt = BayesSearchCV(\n",
    "    gpc,\n",
    "    {\n",
    "        \"kernel__k1__sigma_0\": (1e-3, 1e3, 'log-uniform'),\n",
    "        'kernel__k2__noise_level': (1e-3, 1e3, 'log-uniform'),\n",
    "    },\n",
    "    n_iter=n_iter_search,\n",
    "    cv=3,\n",
    "    n_jobs=15,\n",
    "    n_points=5    \n",
    ")\n",
    "\n",
    "start = time.time()\n",
    "opt.fit(X_pool_re[:300], y_pool[:300])\n",
    "print(\n",
    "    \"BayesSearchCV took %.2f seconds for %d candidates parameter settings.\"\n",
    "    % ((time.time() - start), n_iter_search)\n",
    ")\n",
    "\n",
    "print(\"val. score: %s\" % opt.best_score_)\n",
    "print(\"test score: %s\" % opt.score(X_test_re[:100], y_test[:100]))\n",
    "print(\"best params: %s\" % str(opt.best_params_))"
   ]
  },
  {
   "cell_type": "code",
   "execution_count": null,
   "metadata": {
    "colab": {
     "base_uri": "https://localhost:8080/"
    },
    "executionInfo": {
     "elapsed": 613,
     "status": "ok",
     "timestamp": 1639636779403,
     "user": {
      "displayName": "dexuan meng",
      "photoUrl": "https://lh3.googleusercontent.com/a/default-user=s64",
      "userId": "02429618187161859061"
     },
     "user_tz": -60
    },
    "id": "r1fdavcS97ST",
    "outputId": "c5d2e005-418e-4c85-ba03-48ab0aaa04cc"
   },
   "outputs": [
    {
     "name": "stdout",
     "output_type": "stream",
     "text": [
      "BayesSearchCV took 63.03 seconds for 50 candidates parameter settings.\n",
      "val. score: 0.8333333333333334\n",
      "test score: 0.8\n",
      "best params: OrderedDict([('kernel__k1__sigma_0', 0.032810185608881354), ('kernel__k2__noise_level', 8.116056461175676)])\n"
     ]
    }
   ],
   "source": [
    "print(\n",
    "    \"BayesSearchCV took %.2f seconds for %d candidates parameter settings.\"\n",
    "    % ((time.time() - start), n_iter_search)\n",
    ")\n",
    "\n",
    "print(\"val. score: %s\" % opt.best_score_)\n",
    "print(\"test score: %s\" % opt.score(X_test_re[:100], y_test[:100]))\n",
    "print(\"best params: %s\" % str(opt.best_params_))"
   ]
  },
  {
   "cell_type": "code",
   "execution_count": null,
   "metadata": {
    "colab": {
     "base_uri": "https://localhost:8080/"
    },
    "executionInfo": {
     "elapsed": 3170,
     "status": "ok",
     "timestamp": 1639636809625,
     "user": {
      "displayName": "dexuan meng",
      "photoUrl": "https://lh3.googleusercontent.com/a/default-user=s64",
      "userId": "02429618187161859061"
     },
     "user_tz": -60
    },
    "id": "09ItM1AXSHc9",
    "outputId": "50d6fb12-55a8-4361-c3c2-4da187132064"
   },
   "outputs": [
    {
     "data": {
      "image/png": "[encoded data removed]",
      "text/plain": [
       "<Figure size 288x288 with 4 Axes>"
      ]
     },
     "metadata": {},
     "output_type": "display_data"
    }
   ],
   "source": [
    "import matplotlib.pyplot as plt\n",
    "_ = plot_objective(opt.optimizer_results_[0],\n",
    "                   dimensions=[\"kernel__k1__length_scale\", \"kernel__k2__noise_level\"],\n",
    "                   minimum='expected_minimum',\n",
    "                   cmap='plasma_r'\n",
    "                  )\n",
    "plt.show()"
   ]
  },
  {
   "cell_type": "markdown",
   "metadata": {
    "id": "eFb4I6P4AHrF",
    "jp-MarkdownHeadingCollapsed": true,
    "tags": []
   },
   "source": [
    "## Plus.3 BayesianCNN Tuning"
   ]
  },
  {
   "cell_type": "code",
   "execution_count": 4,
   "metadata": {},
   "outputs": [],
   "source": [
    "tune_index = np.array([],dtype=int)\n",
    "\n",
    "for i in range(10):\n",
    "    idx = np.where(y_train==i)[0][0:10]\n",
    "    tune_index = np.concatenate((tune_index, idx))\n",
    "\n",
    "X_tune = X_train[tune_index]\n",
    "y_tune = y_train[tune_index]\n",
    "\n",
    "import random\n",
    "random.seed(0)\n",
    "random.shuffle(X_tune)\n",
    "random.seed(0)\n",
    "random.shuffle(y_tune)\n",
    "X_train = 0\n",
    "y_train = 0"
   ]
  },
  {
   "cell_type": "code",
   "execution_count": 5,
   "metadata": {
    "id": "Ma8a3y-iCtNq",
    "tags": []
   },
   "outputs": [],
   "source": [
    "@variational_estimator\n",
    "class BayesianCNN(nn.Module):\n",
    "    def __init__(self, conv_rho=-10, conv_sigma_1=1, conv_sigma_2=0.001, conv_pi=0.5, linear_rho=-10, linear_sigma_1=1, linear_sigma_2=0.001, linear_pi=0.5):\n",
    "        super().__init__()\n",
    "\n",
    "        self.conv_rho = conv_rho\n",
    "        self.conv_sigma_1 = conv_sigma_1\n",
    "        self.conv_sigma_2 = conv_sigma_2\n",
    "        self.conv_pi = conv_pi\n",
    "        self.linear_rho = linear_rho\n",
    "        self.linear_sigma_1 = linear_sigma_1\n",
    "        self.linear_sigma_2 = linear_sigma_2\n",
    "        self.linear_pi = linear_pi\n",
    "\n",
    "        self.convs = nn.Sequential(\n",
    "            # nn.BatchNorm2d(1),\n",
    "            nn.Conv2d(\n",
    "                1, 32, (4, 4),\n",
    "                # prior_sigma_1 = self.conv_sigma_1,\n",
    "                # prior_sigma_2 = self.conv_sigma_2,\n",
    "                # prior_pi = self.conv_pi,\n",
    "                # posterior_rho_init = self.conv_rho\n",
    "                ),\n",
    "            nn.ReLU(),\n",
    "            nn.Conv2d(\n",
    "                32, 32, (4, 4),\n",
    "                # prior_sigma_1 = self.conv_sigma_1,\n",
    "                # prior_sigma_2 = self.conv_sigma_2,\n",
    "                # prior_pi = self.conv_pi,\n",
    "                # posterior_rho_init = self.conv_rho\n",
    "                ),\n",
    "            nn.ReLU(),\n",
    "            nn.MaxPool2d(2),\n",
    "        )\n",
    "        # self.convs = nn.Sequential(\n",
    "        #                         nn.Conv2d(1, 32, (4, 4)),\n",
    "        #                         nn.ReLU(),\n",
    "        #                         nn.Conv2d(32, 32, (4, 4)),\n",
    "        #                         nn.ReLU(),\n",
    "        #                         nn.MaxPool2d(2),\n",
    "        # )\n",
    "        self.fcs = nn.Sequential(\n",
    "            nn.Linear(\n",
    "                11*11*32, 128,\n",
    "                # prior_sigma_1 = self.linear_sigma_1,\n",
    "                # prior_sigma_2 = self.linear_sigma_2,\n",
    "                # prior_pi = self.linear_pi,\n",
    "                # posterior_rho_init = self.linear_rho\n",
    "            ),\n",
    "            nn.ReLU(),\n",
    "            BayesianLinear(\n",
    "                128, 10,\n",
    "                prior_sigma_1 = self.linear_sigma_1,\n",
    "                prior_sigma_2 = self.linear_sigma_2,\n",
    "                prior_pi = self.linear_pi,\n",
    "                posterior_rho_init = self.linear_rho\n",
    "            )\n",
    "        )\n",
    "\n",
    "    def forward(self, x):\n",
    "        out = x\n",
    "        out = self.convs(out)\n",
    "        out = out.view(-1,11*11*32)\n",
    "        out = self.fcs(out)\n",
    "        return out\n",
    "\n",
    "\n",
    "class Data():\n",
    "    def __init__(self):\n",
    "\n",
    "        mnist_train = MNIST('.', train=True, download=True, transform=ToTensor())\n",
    "        mnist_test = MNIST('.', train=False, download=True, transform=ToTensor())\n",
    "        traindataloader = DataLoader(mnist_train, shuffle=False, batch_size=60000)\n",
    "        testdataloader = DataLoader(mnist_test, shuffle=False, batch_size=10000)\n",
    "\n",
    "        X_train, y_train = next(iter(traindataloader))\n",
    "        X_train = X_train.detach().cpu().numpy()\n",
    "        self.y_train = y_train.detach().cpu().numpy()\n",
    "\n",
    "        X_test, y_test = next(iter(testdataloader))\n",
    "        X_test = X_test.detach().cpu().numpy()\n",
    "        self.y_test = y_test.detach().cpu().numpy()\n",
    "\n",
    "        self.X_train = X_train.reshape(60000, 1, 28, 28)\n",
    "        self.X_test = X_test.reshape(10000, 1, 28, 28)\n",
    "\n",
    "        self.X_initial = None\n",
    "        self.y_initial = None\n",
    "        self.initial_idx = np.array([], dtype=np.int64)\n",
    "        for i in range(10):\n",
    "            idx = np.where(self.y_train==i)[0][0:5]\n",
    "            self.initial_idx = np.concatenate((self.initial_idx, idx))\n",
    "\n",
    "    def initial_labelled_data(self):\n",
    "        # We initialize the labelled set with 20 balanced randomly sampled examples\n",
    "        X_initial = self.X_train[self.initial_idx]\n",
    "        y_initial = self.y_train[self.initial_idx]\n",
    "        return X_initial, y_initial\n",
    "\n",
    "    def initial_unlabelled_pool(self):\n",
    "\n",
    "        X_pool = np.delete(self.X_train, self.initial_idx, axis=0)\n",
    "        y_pool = np.delete(self.y_train, self.initial_idx, axis=0)\n",
    "        return X_pool[:500,:,:,:], y_pool[:500]\n",
    "\n",
    "    def initial_tuning_data(self):\n",
    "        # 150 in total, 50 initial + 100 queries, same number with the active learning\n",
    "\n",
    "        tune_index = np.array([],dtype=np.int64)\n",
    "\n",
    "        for i in range(10):\n",
    "            idx = np.where(self.y_train==i)[0][0:15]\n",
    "            tune_index = np.concatenate((tune_index, idx))\n",
    "\n",
    "        X_tune = self.X_train[tune_index]\n",
    "        y_tune = self.y_train[tune_index]\n",
    "        return X_tune, y_tune\n",
    "\n",
    "\n",
    "def img_reshape(list):\n",
    "    re_list = []\n",
    "    for X in list:\n",
    "        re_list.append(X.reshape(X.shape[0], -1))\n",
    "    return re_list\n",
    "\n",
    "\n",
    "# Utility function to report best scores\n",
    "def report(results, n_top=3):\n",
    "    for i in range(1, n_top + 1):\n",
    "        candidates = np.flatnonzero(results[\"rank_test_score\"] == i)\n",
    "        for candidate in candidates:\n",
    "            print(\"Model with rank: {0}\".format(i))\n",
    "            print(\n",
    "                \"Mean validation score: {0:.3f} (std: {1:.3f})\".format(\n",
    "                    results[\"mean_test_score\"][candidate],\n",
    "                    results[\"std_test_score\"][candidate],\n",
    "                )\n",
    "            )\n",
    "            print(\"Parameters: {0}\".format(results[\"params\"][candidate]))\n",
    "            print(\"\")\n",
    "\n",
    "\n",
    "class _PredictScorer(_scorer._BaseScorer):\n",
    "    def _score(self, method_caller, estimator, X, y_true, sample_weight=None):\n",
    "        y_pred = method_caller(estimator, \"forward\", X, training=True)\n",
    "        y_pred = F.softmax(y_pred, dim=1)\n",
    "        y_true = torch.tensor(y_true)\n",
    "        # print(y_pred, y_true)\n",
    "        if sample_weight is not None:\n",
    "            return self._sign * self._score_func(\n",
    "                y_pred, y_true, sample_weight=sample_weight, **self._kwargs\n",
    "            )\n",
    "        else:\n",
    "            return self._sign * self._score_func(y_pred, y_true, **self._kwargs)\n",
    "\n",
    "\n",
    "def make_scorer(\n",
    "        score_func,\n",
    "        *,\n",
    "        greater_is_better=True,\n",
    "        needs_proba=False,\n",
    "        needs_threshold=False,\n",
    "        **kwargs,\n",
    "):\n",
    "    sign = 1 if greater_is_better else -1\n",
    "    cls = _PredictScorer\n",
    "    return cls(score_func, sign, kwargs)\n",
    "\n",
    "# data = Data()"
   ]
  },
  {
   "cell_type": "code",
   "execution_count": 7,
   "metadata": {
    "colab": {
     "background_save": true,
     "base_uri": "https://localhost:8080/",
     "height": 1000
    },
    "collapsed": true,
    "executionInfo": {
     "elapsed": 1802,
     "status": "error",
     "timestamp": 1644675291075,
     "user": {
      "displayName": "dexuan meng",
      "photoUrl": "https://lh3.googleusercontent.com/a/default-user=s64",
      "userId": "02429618187161859061"
     },
     "user_tz": -60
    },
    "id": "3hTgBBO1ANw3",
    "outputId": "405782f5-2ebc-45e6-abb2-661551d9fc3d",
    "tags": []
   },
   "outputs": [
    {
     "name": "stdout",
     "output_type": "stream",
     "text": [
      "Fitting 2 folds for each of 200 candidates, totalling 400 fits\n",
      "[CV 1/2] END criterion__complexity_cost_weight=3.5805702394472163e-06, lr=0.030154217983410832, module__linear_pi=0.20671915533942642, module__linear_rho=-0.4883345523724705, module__linear_sigma_1=2.76729809406257, module__linear_sigma_2=0.0006842764422737327;, score=-2.303 total time=   0.6s\n",
      "[CV 2/2] END criterion__complexity_cost_weight=3.5805702394472163e-06, lr=0.030154217983410832, module__linear_pi=0.20671915533942642, module__linear_rho=-0.4883345523724705, module__linear_sigma_1=2.76729809406257, module__linear_sigma_2=0.0006842764422737327;, score=-2.303 total time=   0.5s\n",
      "[CV 1/2] END criterion__complexity_cost_weight=0.022980263034569886, lr=0.007599352870030426, module__linear_pi=0.29680050157622195, module__linear_rho=-4.87367262803249, module__linear_sigma_1=0.025334150362036355, module__linear_sigma_2=0.0016418024091157924;, score=-2.271 total time=   1.8s\n",
      "[CV 2/2] END criterion__complexity_cost_weight=0.022980263034569886, lr=0.007599352870030426, module__linear_pi=0.29680050157622195, module__linear_rho=-4.87367262803249, module__linear_sigma_1=0.025334150362036355, module__linear_sigma_2=0.0016418024091157924;, score=-2.225 total time=   1.1s\n",
      "[CV 1/2] END criterion__complexity_cost_weight=0.00012279044132286034, lr=0.0018576492503038717, module__linear_pi=0.8799370312012789, module__linear_rho=-4.355481228046652, module__linear_sigma_1=1.1780808470802364, module__linear_sigma_2=7.731073429411418e-05;, score=-2.261 total time=   0.2s\n",
      "[CV 2/2] END criterion__complexity_cost_weight=0.00012279044132286034, lr=0.0018576492503038717, module__linear_pi=0.8799370312012789, module__linear_rho=-4.355481228046652, module__linear_sigma_1=1.1780808470802364, module__linear_sigma_2=7.731073429411418e-05;, score=-2.269 total time=   0.1s\n",
      "[CV 1/2] END criterion__complexity_cost_weight=0.0025206663407665746, lr=0.00966333525259835, module__linear_pi=0.5999291966249876, module__linear_rho=-4.405085294786956, module__linear_sigma_1=0.2651120104824194, module__linear_sigma_2=5.7645394721489375e-05;, score=-2.303 total time=   2.7s\n",
      "[CV 2/2] END criterion__complexity_cost_weight=0.0025206663407665746, lr=0.00966333525259835, module__linear_pi=0.5999291966249876, module__linear_rho=-4.405085294786956, module__linear_sigma_1=0.2651120104824194, module__linear_sigma_2=5.7645394721489375e-05;, score=-2.303 total time=   0.3s\n",
      "[CV 1/2] END criterion__complexity_cost_weight=1.963123553871683e-05, lr=0.0017576436217643075, module__linear_pi=0.1656128612012676, module__linear_rho=-0.21641682559234887, module__linear_sigma_1=632.6063928966937, module__linear_sigma_2=3.6748868086768655e-05;, score=-2.304 total time=   0.1s\n",
      "[CV 2/2] END criterion__complexity_cost_weight=1.963123553871683e-05, lr=0.0017576436217643075, module__linear_pi=0.1656128612012676, module__linear_rho=-0.21641682559234887, module__linear_sigma_1=632.6063928966937, module__linear_sigma_2=3.6748868086768655e-05;, score=-2.303 total time=   0.2s\n",
      "[CV 1/2] END criterion__complexity_cost_weight=1.479605480912883e-07, lr=0.002226043964986923, module__linear_pi=0.6998436141265575, module__linear_rho=-1.3229124866668212, module__linear_sigma_1=0.01302163333314207, module__linear_sigma_2=0.000540740096729543;, score=-2.281 total time=   0.3s\n",
      "[CV 2/2] END criterion__complexity_cost_weight=1.479605480912883e-07, lr=0.002226043964986923, module__linear_pi=0.6998436141265575, module__linear_rho=-1.3229124866668212, module__linear_sigma_1=0.01302163333314207, module__linear_sigma_2=0.000540740096729543;, score=-2.273 total time=   0.2s\n",
      "[CV 1/2] END criterion__complexity_cost_weight=1.0268221040565386e-07, lr=0.0075122927824204655, module__linear_pi=0.6397951761308571, module__linear_rho=-0.08625358317486675, module__linear_sigma_1=0.19746402357377135, module__linear_sigma_2=0.0025555869148687067;, score=-2.304 total time=   0.3s\n",
      "[CV 2/2] END criterion__complexity_cost_weight=1.0268221040565386e-07, lr=0.0075122927824204655, module__linear_pi=0.6397951761308571, module__linear_rho=-0.08625358317486675, module__linear_sigma_1=0.19746402357377135, module__linear_sigma_2=0.0025555869148687067;, score=-2.304 total time=   0.2s\n",
      "[CV 1/2] END criterion__complexity_cost_weight=0.1239885579629562, lr=0.0369593151830761, module__linear_pi=0.0022142125324435824, module__linear_rho=-3.1830697694545362, module__linear_sigma_1=807.8741054286083, module__linear_sigma_2=0.00015733828488933283;, score=-2.310 total time=   1.7s\n",
      "[CV 2/2] END criterion__complexity_cost_weight=0.1239885579629562, lr=0.0369593151830761, module__linear_pi=0.0022142125324435824, module__linear_rho=-3.1830697694545362, module__linear_sigma_1=807.8741054286083, module__linear_sigma_2=0.00015733828488933283;, score=-2.272 total time=   4.3s\n",
      "[CV 1/2] END criterion__complexity_cost_weight=0.04967379527779023, lr=0.008480338712636608, module__linear_pi=0.7708540871402245, module__linear_rho=-3.0904135500692522, module__linear_sigma_1=0.013981630427584702, module__linear_sigma_2=1.8179296176244357e-05;, score=-2.241 total time=   0.8s\n",
      "[CV 2/2] END criterion__complexity_cost_weight=0.04967379527779023, lr=0.008480338712636608, module__linear_pi=0.7708540871402245, module__linear_rho=-3.0904135500692522, module__linear_sigma_1=0.013981630427584702, module__linear_sigma_2=1.8179296176244357e-05;, score=-2.303 total time=   1.0s\n",
      "[CV 1/2] END criterion__complexity_cost_weight=6.028047789020233e-07, lr=0.0026721320034282956, module__linear_pi=0.964915292526365, module__linear_rho=-2.2094036835735276, module__linear_sigma_1=121.14374999244141, module__linear_sigma_2=0.0004991671401359756;, score=-2.309 total time=   0.3s\n",
      "[CV 2/2] END criterion__complexity_cost_weight=6.028047789020233e-07, lr=0.0026721320034282956, module__linear_pi=0.964915292526365, module__linear_rho=-2.2094036835735276, module__linear_sigma_1=121.14374999244141, module__linear_sigma_2=0.0004991671401359756;, score=-2.263 total time=   0.1s\n",
      "[CV 1/2] END criterion__complexity_cost_weight=0.002802163288808025, lr=0.023955090121869176, module__linear_pi=0.9266826152438743, module__linear_rho=-0.5242394177773013, module__linear_sigma_1=133.06186375989736, module__linear_sigma_2=1.9169385734584342e-05;, score=-2.303 total time=   0.4s\n",
      "[CV 2/2] END criterion__complexity_cost_weight=0.002802163288808025, lr=0.023955090121869176, module__linear_pi=0.9266826152438743, module__linear_rho=-0.5242394177773013, module__linear_sigma_1=133.06186375989736, module__linear_sigma_2=1.9169385734584342e-05;, score=-2.303 total time=   2.0s\n",
      "[CV 1/2] END criterion__complexity_cost_weight=3.367742900259285e-05, lr=0.0011490231529053005, module__linear_pi=0.5463583485408069, module__linear_rho=-1.2231436748639748, module__linear_sigma_1=0.018018308379632458, module__linear_sigma_2=3.681316923821603e-05;, score=-2.305 total time=   0.3s\n",
      "[CV 2/2] END criterion__complexity_cost_weight=3.367742900259285e-05, lr=0.0011490231529053005, module__linear_pi=0.5463583485408069, module__linear_rho=-1.2231436748639748, module__linear_sigma_1=0.018018308379632458, module__linear_sigma_2=3.681316923821603e-05;, score=-2.303 total time=   0.1s\n",
      "[CV 1/2] END criterion__complexity_cost_weight=3.616965575543424e-05, lr=0.002600416154273643, module__linear_pi=0.795087472921032, module__linear_rho=-3.887430385401789, module__linear_sigma_1=15.64546265585249, module__linear_sigma_2=0.0003021656939744953;, score=-2.287 total time=   0.1s\n",
      "[CV 2/2] END criterion__complexity_cost_weight=3.616965575543424e-05, lr=0.002600416154273643, module__linear_pi=0.795087472921032, module__linear_rho=-3.887430385401789, module__linear_sigma_1=15.64546265585249, module__linear_sigma_2=0.0003021656939744953;, score=-2.242 total time=   0.1s\n",
      "[CV 1/2] END criterion__complexity_cost_weight=0.0012147816025082625, lr=0.03943132983784443, module__linear_pi=0.9435400820158796, module__linear_rho=-5.329845436898571, module__linear_sigma_1=165.1105524590933, module__linear_sigma_2=0.00010916526045136153;, score=-2.303 total time=   3.7s\n",
      "[CV 2/2] END criterion__complexity_cost_weight=0.0012147816025082625, lr=0.03943132983784443, module__linear_pi=0.9435400820158796, module__linear_rho=-5.329845436898571, module__linear_sigma_1=165.1105524590933, module__linear_sigma_2=0.00010916526045136153;, score=-2.303 total time=   3.7s\n",
      "[CV 1/2] END criterion__complexity_cost_weight=5.079148493878202e-07, lr=0.004481263719719571, module__linear_pi=0.5103547973392479, module__linear_rho=-0.233381508209221, module__linear_sigma_1=0.720382371494415, module__linear_sigma_2=1.0892015101363351e-05;, score=-2.307 total time=   0.2s\n",
      "[CV 2/2] END criterion__complexity_cost_weight=5.079148493878202e-07, lr=0.004481263719719571, module__linear_pi=0.5103547973392479, module__linear_rho=-0.233381508209221, module__linear_sigma_1=0.720382371494415, module__linear_sigma_2=1.0892015101363351e-05;, score=-2.303 total time=   0.2s\n",
      "[CV 1/2] END criterion__complexity_cost_weight=0.10421931369334464, lr=0.0015444499203620045, module__linear_pi=0.47833904398678495, module__linear_rho=-0.9001198056828388, module__linear_sigma_1=3.7470529914584567, module__linear_sigma_2=0.00021868726028172658;, score=-2.299 total time=   0.5s\n",
      "[CV 2/2] END criterion__complexity_cost_weight=0.10421931369334464, lr=0.0015444499203620045, module__linear_pi=0.47833904398678495, module__linear_rho=-0.9001198056828388, module__linear_sigma_1=3.7470529914584567, module__linear_sigma_2=0.00021868726028172658;, score=-2.303 total time=   0.3s\n",
      "[CV 1/2] END criterion__complexity_cost_weight=0.04011760013047152, lr=0.0010830396099144018, module__linear_pi=0.5726186488077992, module__linear_rho=-3.531698305323741, module__linear_sigma_1=842.7213339830632, module__linear_sigma_2=0.0025363231823568476;, score=-2.231 total time=   0.1s\n",
      "[CV 2/2] END criterion__complexity_cost_weight=0.04011760013047152, lr=0.0010830396099144018, module__linear_pi=0.5726186488077992, module__linear_rho=-3.531698305323741, module__linear_sigma_1=842.7213339830632, module__linear_sigma_2=0.0025363231823568476;, score=-2.235 total time=   0.3s\n",
      "[CV 1/2] END criterion__complexity_cost_weight=2.386353154673355e-07, lr=0.002106764654836411, module__linear_pi=0.45241884581697545, module__linear_rho=-1.7823475372921305, module__linear_sigma_1=0.45734164304658664, module__linear_sigma_2=0.00012021248794808472;, score=-2.303 total time=   0.3s\n",
      "[CV 2/2] END criterion__complexity_cost_weight=2.386353154673355e-07, lr=0.002106764654836411, module__linear_pi=0.45241884581697545, module__linear_rho=-1.7823475372921305, module__linear_sigma_1=0.45734164304658664, module__linear_sigma_2=0.00012021248794808472;, score=-2.286 total time=   0.2s\n",
      "[CV 1/2] END criterion__complexity_cost_weight=0.2820291261139018, lr=0.04170514394046351, module__linear_pi=0.4076857286771436, module__linear_rho=-0.6085730706916603, module__linear_sigma_1=0.4479878750229767, module__linear_sigma_2=1.770988361977296e-05;, score=-2.303 total time=   0.4s\n",
      "[CV 2/2] END criterion__complexity_cost_weight=0.2820291261139018, lr=0.04170514394046351, module__linear_pi=0.4076857286771436, module__linear_rho=-0.6085730706916603, module__linear_sigma_1=0.4479878750229767, module__linear_sigma_2=1.770988361977296e-05;, score=-2.305 total time=   0.2s\n",
      "[CV 1/2] END criterion__complexity_cost_weight=0.0004864329194282811, lr=0.013266452236812908, module__linear_pi=0.8929842943552984, module__linear_rho=-0.2090547179139559, module__linear_sigma_1=70.73972781629736, module__linear_sigma_2=0.001893639721380758;, score=-2.303 total time=   1.4s\n",
      "[CV 2/2] END criterion__complexity_cost_weight=0.0004864329194282811, lr=0.013266452236812908, module__linear_pi=0.8929842943552984, module__linear_rho=-0.2090547179139559, module__linear_sigma_1=70.73972781629736, module__linear_sigma_2=0.001893639721380758;, score=-2.305 total time=   0.8s\n",
      "[CV 1/2] END criterion__complexity_cost_weight=0.009339923766425423, lr=0.015556690768442242, module__linear_pi=0.7673313811177834, module__linear_rho=-0.15390312668613682, module__linear_sigma_1=0.7388777469994774, module__linear_sigma_2=1.774856842108808e-05;, score=-2.304 total time=   0.2s\n",
      "[CV 2/2] END criterion__complexity_cost_weight=0.009339923766425423, lr=0.015556690768442242, module__linear_pi=0.7673313811177834, module__linear_rho=-0.15390312668613682, module__linear_sigma_1=0.7388777469994774, module__linear_sigma_2=1.774856842108808e-05;, score=-2.304 total time=   0.2s\n",
      "[CV 1/2] END criterion__complexity_cost_weight=4.758642481060299e-06, lr=0.0023784420026584123, module__linear_pi=0.36359979680410603, module__linear_rho=-1.138114607325889, module__linear_sigma_1=0.019974726858587578, module__linear_sigma_2=0.00022347588904527075;, score=-2.303 total time=   0.2s\n",
      "[CV 2/2] END criterion__complexity_cost_weight=4.758642481060299e-06, lr=0.0023784420026584123, module__linear_pi=0.36359979680410603, module__linear_rho=-1.138114607325889, module__linear_sigma_1=0.019974726858587578, module__linear_sigma_2=0.00022347588904527075;, score=-2.303 total time=   0.1s\n",
      "[CV 1/2] END criterion__complexity_cost_weight=0.04922590309089274, lr=0.002811467531213784, module__linear_pi=0.06340098197336863, module__linear_rho=-4.5473539664643905, module__linear_sigma_1=0.026628843712397487, module__linear_sigma_2=0.0026505274482682348;, score=-2.273 total time=   0.4s\n",
      "[CV 2/2] END criterion__complexity_cost_weight=0.04922590309089274, lr=0.002811467531213784, module__linear_pi=0.06340098197336863, module__linear_rho=-4.5473539664643905, module__linear_sigma_1=0.026628843712397487, module__linear_sigma_2=0.0026505274482682348;, score=-2.234 total time=   0.8s\n",
      "[CV 1/2] END criterion__complexity_cost_weight=1.5550720993898887e-06, lr=0.0021472601254302276, module__linear_pi=0.8146420115578603, module__linear_rho=-1.138286824905026, module__linear_sigma_1=8.848494620010312, module__linear_sigma_2=0.005548850453584058;, score=-2.303 total time=   0.1s\n",
      "[CV 2/2] END criterion__complexity_cost_weight=1.5550720993898887e-06, lr=0.0021472601254302276, module__linear_pi=0.8146420115578603, module__linear_rho=-1.138286824905026, module__linear_sigma_1=8.848494620010312, module__linear_sigma_2=0.005548850453584058;, score=-2.303 total time=   0.3s\n",
      "[CV 1/2] END criterion__complexity_cost_weight=2.6227171570249795e-07, lr=0.04360139114748635, module__linear_pi=0.5709752168558058, module__linear_rho=-4.1848913249976345, module__linear_sigma_1=134.4401946184633, module__linear_sigma_2=0.0009511561954237731;, score=-2.305 total time=   0.3s\n",
      "[CV 2/2] END criterion__complexity_cost_weight=2.6227171570249795e-07, lr=0.04360139114748635, module__linear_pi=0.5709752168558058, module__linear_rho=-4.1848913249976345, module__linear_sigma_1=134.4401946184633, module__linear_sigma_2=0.0009511561954237731;, score=-2.301 total time=   0.2s\n",
      "[CV 1/2] END criterion__complexity_cost_weight=0.8044704383375236, lr=0.0015227250536825297, module__linear_pi=0.5809185276333954, module__linear_rho=-3.163031069656279, module__linear_sigma_1=18.253826988881595, module__linear_sigma_2=5.3159044024880974e-05;, score=-2.290 total time=   1.0s\n",
      "[CV 2/2] END criterion__complexity_cost_weight=0.8044704383375236, lr=0.0015227250536825297, module__linear_pi=0.5809185276333954, module__linear_rho=-3.163031069656279, module__linear_sigma_1=18.253826988881595, module__linear_sigma_2=5.3159044024880974e-05;, score=-2.215 total time=   0.9s\n",
      "[CV 1/2] END criterion__complexity_cost_weight=1.651621181523428e-07, lr=0.008406872148057722, module__linear_pi=0.364710178792385, module__linear_rho=-0.6460003482089363, module__linear_sigma_1=1.9802862582507077, module__linear_sigma_2=0.00018028612327254366;, score=-2.304 total time=   0.3s\n",
      "[CV 2/2] END criterion__complexity_cost_weight=1.651621181523428e-07, lr=0.008406872148057722, module__linear_pi=0.364710178792385, module__linear_rho=-0.6460003482089363, module__linear_sigma_1=1.9802862582507077, module__linear_sigma_2=0.00018028612327254366;, score=-2.303 total time=   0.6s\n",
      "[CV 1/2] END criterion__complexity_cost_weight=0.0026936352423485754, lr=0.007864317237145459, module__linear_pi=0.9612111401741152, module__linear_rho=-1.265939312662538, module__linear_sigma_1=3.044230589682776, module__linear_sigma_2=4.2995499891493655e-05;, score=-2.303 total time=   1.6s\n",
      "[CV 2/2] END criterion__complexity_cost_weight=0.0026936352423485754, lr=0.007864317237145459, module__linear_pi=0.9612111401741152, module__linear_rho=-1.265939312662538, module__linear_sigma_1=3.044230589682776, module__linear_sigma_2=4.2995499891493655e-05;, score=-2.303 total time=   1.2s\n",
      "[CV 1/2] END criterion__complexity_cost_weight=0.001690008884253034, lr=0.018698546474393767, module__linear_pi=0.7558638312606142, module__linear_rho=-0.03897595240399632, module__linear_sigma_1=0.12373395838374794, module__linear_sigma_2=0.00018919602192913996;, score=-2.303 total time=   0.4s\n",
      "[CV 2/2] END criterion__complexity_cost_weight=0.001690008884253034, lr=0.018698546474393767, module__linear_pi=0.7558638312606142, module__linear_rho=-0.03897595240399632, module__linear_sigma_1=0.12373395838374794, module__linear_sigma_2=0.00018919602192913996;, score=-2.304 total time=   0.9s\n",
      "[CV 1/2] END criterion__complexity_cost_weight=9.267171914106593e-05, lr=0.0034783296565628597, module__linear_pi=0.36533301893440306, module__linear_rho=-3.1323521393726614, module__linear_sigma_1=5.133954854583985, module__linear_sigma_2=6.247276671829264e-05;, score=-2.261 total time=   0.2s\n",
      "[CV 2/2] END criterion__complexity_cost_weight=9.267171914106593e-05, lr=0.0034783296565628597, module__linear_pi=0.36533301893440306, module__linear_rho=-3.1323521393726614, module__linear_sigma_1=5.133954854583985, module__linear_sigma_2=6.247276671829264e-05;, score=-2.303 total time=   0.5s\n",
      "[CV 1/2] END criterion__complexity_cost_weight=8.720594546578221e-07, lr=0.0032575825113456123, module__linear_pi=0.13648009382127513, module__linear_rho=-4.093798779884462, module__linear_sigma_1=24.88361104936457, module__linear_sigma_2=0.0006368299319396664;, score=-2.282 total time=   0.1s\n",
      "[CV 2/2] END criterion__complexity_cost_weight=8.720594546578221e-07, lr=0.0032575825113456123, module__linear_pi=0.13648009382127513, module__linear_rho=-4.093798779884462, module__linear_sigma_1=24.88361104936457, module__linear_sigma_2=0.0006368299319396664;, score=-2.246 total time=   0.1s\n",
      "[CV 1/2] END criterion__complexity_cost_weight=0.9562650118235517, lr=0.008973813987633725, module__linear_pi=0.5487261970931809, module__linear_rho=-2.145902759068667, module__linear_sigma_1=43.047392797682434, module__linear_sigma_2=0.0007037859921153075;, score=-2.290 total time=   1.0s\n",
      "[CV 2/2] END criterion__complexity_cost_weight=0.9562650118235517, lr=0.008973813987633725, module__linear_pi=0.5487261970931809, module__linear_rho=-2.145902759068667, module__linear_sigma_1=43.047392797682434, module__linear_sigma_2=0.0007037859921153075;, score=-2.303 total time=   1.2s\n",
      "[CV 1/2] END criterion__complexity_cost_weight=0.0013167412916679127, lr=0.010663117162711537, module__linear_pi=0.35478546069796135, module__linear_rho=-1.335708032228915, module__linear_sigma_1=10.54427128894327, module__linear_sigma_2=8.46627389621615e-05;, score=-2.303 total time=   1.2s\n",
      "[CV 2/2] END criterion__complexity_cost_weight=0.0013167412916679127, lr=0.010663117162711537, module__linear_pi=0.35478546069796135, module__linear_rho=-1.335708032228915, module__linear_sigma_1=10.54427128894327, module__linear_sigma_2=8.46627389621615e-05;, score=-2.303 total time=   1.4s\n",
      "[CV 1/2] END criterion__complexity_cost_weight=5.241034153408065e-06, lr=0.001321535303315635, module__linear_pi=0.3477291676671326, module__linear_rho=-5.922911556117579, module__linear_sigma_1=0.06733008041934234, module__linear_sigma_2=1.5173972660807064e-05;, score=-2.237 total time=   0.1s\n",
      "[CV 2/2] END criterion__complexity_cost_weight=5.241034153408065e-06, lr=0.001321535303315635, module__linear_pi=0.3477291676671326, module__linear_rho=-5.922911556117579, module__linear_sigma_1=0.06733008041934234, module__linear_sigma_2=1.5173972660807064e-05;, score=-2.242 total time=   0.1s\n",
      "[CV 1/2] END criterion__complexity_cost_weight=8.853021872702305e-06, lr=0.003906659946815587, module__linear_pi=0.5912223113896565, module__linear_rho=-1.3499212197833481, module__linear_sigma_1=13.297571550387405, module__linear_sigma_2=3.0133029722671208e-05;, score=-2.303 total time=   0.5s\n",
      "[CV 2/2] END criterion__complexity_cost_weight=8.853021872702305e-06, lr=0.003906659946815587, module__linear_pi=0.5912223113896565, module__linear_rho=-1.3499212197833481, module__linear_sigma_1=13.297571550387405, module__linear_sigma_2=3.0133029722671208e-05;, score=-2.303 total time=   0.3s\n",
      "[CV 1/2] END criterion__complexity_cost_weight=0.18044239076209853, lr=0.017428204465238774, module__linear_pi=0.4977680192642012, module__linear_rho=-2.1381586836540354, module__linear_sigma_1=3.5267564682751598, module__linear_sigma_2=3.196130283175029e-05;, score=-2.316 total time=   2.8s\n",
      "[CV 2/2] END criterion__complexity_cost_weight=0.18044239076209853, lr=0.017428204465238774, module__linear_pi=0.4977680192642012, module__linear_rho=-2.1381586836540354, module__linear_sigma_1=3.5267564682751598, module__linear_sigma_2=3.196130283175029e-05;, score=-2.308 total time=   2.0s\n",
      "[CV 1/2] END criterion__complexity_cost_weight=0.003092099124255844, lr=0.047738348273381755, module__linear_pi=0.7703293631175915, module__linear_rho=-4.911112745283264, module__linear_sigma_1=0.039704991171664074, module__linear_sigma_2=0.0061805272982330935;, score=-2.303 total time=   1.1s\n",
      "[CV 2/2] END criterion__complexity_cost_weight=0.003092099124255844, lr=0.047738348273381755, module__linear_pi=0.7703293631175915, module__linear_rho=-4.911112745283264, module__linear_sigma_1=0.039704991171664074, module__linear_sigma_2=0.0061805272982330935;, score=-2.308 total time=   0.4s\n",
      "[CV 1/2] END criterion__complexity_cost_weight=0.23479131637554243, lr=0.018743136343319648, module__linear_pi=0.7605315404167414, module__linear_rho=-5.142745212724016, module__linear_sigma_1=114.74161485688234, module__linear_sigma_2=3.774312777495132e-05;, score=-2.317 total time=   3.6s\n",
      "[CV 2/2] END criterion__complexity_cost_weight=0.23479131637554243, lr=0.018743136343319648, module__linear_pi=0.7605315404167414, module__linear_rho=-5.142745212724016, module__linear_sigma_1=114.74161485688234, module__linear_sigma_2=3.774312777495132e-05;, score=-2.345 total time=   5.1s\n",
      "[CV 1/2] END criterion__complexity_cost_weight=1.2111997340328787e-06, lr=0.00491603466398799, module__linear_pi=0.00038289436747096506, module__linear_rho=-0.9268931030171412, module__linear_sigma_1=0.06392375329268683, module__linear_sigma_2=0.0016510195075389593;, score=-2.297 total time=   1.0s\n",
      "[CV 2/2] END criterion__complexity_cost_weight=1.2111997340328787e-06, lr=0.00491603466398799, module__linear_pi=0.00038289436747096506, module__linear_rho=-0.9268931030171412, module__linear_sigma_1=0.06392375329268683, module__linear_sigma_2=0.0016510195075389593;, score=-2.303 total time=   0.1s\n",
      "[CV 1/2] END criterion__complexity_cost_weight=0.001203304972760126, lr=0.020353947059635797, module__linear_pi=0.599993166737686, module__linear_rho=-0.2311950849229678, module__linear_sigma_1=0.7923041798698748, module__linear_sigma_2=0.00030976407595593563;, score=-2.295 total time=   0.2s\n",
      "[CV 2/2] END criterion__complexity_cost_weight=0.001203304972760126, lr=0.020353947059635797, module__linear_pi=0.599993166737686, module__linear_rho=-0.2311950849229678, module__linear_sigma_1=0.7923041798698748, module__linear_sigma_2=0.00030976407595593563;, score=-2.304 total time=   0.4s\n",
      "[CV 1/2] END criterion__complexity_cost_weight=2.335449833093807e-05, lr=0.018277265920278157, module__linear_pi=0.30049586977343923, module__linear_rho=-1.2072823525999912, module__linear_sigma_1=0.026899790437468495, module__linear_sigma_2=5.093202141327326e-05;, score=-2.293 total time=   0.3s\n",
      "[CV 2/2] END criterion__complexity_cost_weight=2.335449833093807e-05, lr=0.018277265920278157, module__linear_pi=0.30049586977343923, module__linear_rho=-1.2072823525999912, module__linear_sigma_1=0.026899790437468495, module__linear_sigma_2=5.093202141327326e-05;, score=-2.303 total time=   1.0s\n",
      "[CV 1/2] END criterion__complexity_cost_weight=0.00011672993622364299, lr=0.0016373748811965782, module__linear_pi=0.2030319807878168, module__linear_rho=-0.9507435488211886, module__linear_sigma_1=0.728051791024504, module__linear_sigma_2=4.5294470638202743e-05;, score=-2.303 total time=   0.2s\n",
      "[CV 2/2] END criterion__complexity_cost_weight=0.00011672993622364299, lr=0.0016373748811965782, module__linear_pi=0.2030319807878168, module__linear_rho=-0.9507435488211886, module__linear_sigma_1=0.728051791024504, module__linear_sigma_2=4.5294470638202743e-05;, score=-2.303 total time=   0.2s\n",
      "[CV 1/2] END criterion__complexity_cost_weight=0.08373938309886919, lr=0.009496078524121312, module__linear_pi=0.6337164772906705, module__linear_rho=-0.6664287379433027, module__linear_sigma_1=37.13601468436487, module__linear_sigma_2=6.242204677214211e-05;, score=-2.305 total time=   0.9s\n",
      "[CV 2/2] END criterion__complexity_cost_weight=0.08373938309886919, lr=0.009496078524121312, module__linear_pi=0.6337164772906705, module__linear_rho=-0.6664287379433027, module__linear_sigma_1=37.13601468436487, module__linear_sigma_2=6.242204677214211e-05;, score=-2.320 total time=   2.8s\n",
      "[CV 1/2] END criterion__complexity_cost_weight=1.1693867221970481e-07, lr=0.008580684546739313, module__linear_pi=0.7075262252919963, module__linear_rho=-1.1658323421598613, module__linear_sigma_1=0.08980110299640241, module__linear_sigma_2=0.0007991767267355446;, score=-2.303 total time=   0.3s\n",
      "[CV 2/2] END criterion__complexity_cost_weight=1.1693867221970481e-07, lr=0.008580684546739313, module__linear_pi=0.7075262252919963, module__linear_rho=-1.1658323421598613, module__linear_sigma_1=0.08980110299640241, module__linear_sigma_2=0.0007991767267355446;, score=-2.303 total time=   0.3s\n",
      "[CV 1/2] END criterion__complexity_cost_weight=0.3714244926201028, lr=0.0027456863354986634, module__linear_pi=0.2924804596307673, module__linear_rho=-3.4461359277646473, module__linear_sigma_1=7.176174785183382, module__linear_sigma_2=0.009336125047041014;, score=-2.277 total time=   1.1s\n",
      "[CV 2/2] END criterion__complexity_cost_weight=0.3714244926201028, lr=0.0027456863354986634, module__linear_pi=0.2924804596307673, module__linear_rho=-3.4461359277646473, module__linear_sigma_1=7.176174785183382, module__linear_sigma_2=0.009336125047041014;, score=-2.206 total time=   0.7s\n",
      "[CV 1/2] END criterion__complexity_cost_weight=0.0013103800995477996, lr=0.03224886559985839, module__linear_pi=0.6562112790440648, module__linear_rho=-3.163326755339959, module__linear_sigma_1=0.33708750037043045, module__linear_sigma_2=0.00011234111611231371;, score=-2.270 total time=   0.3s\n",
      "[CV 2/2] END criterion__complexity_cost_weight=0.0013103800995477996, lr=0.03224886559985839, module__linear_pi=0.6562112790440648, module__linear_rho=-3.163326755339959, module__linear_sigma_1=0.33708750037043045, module__linear_sigma_2=0.00011234111611231371;, score=-2.303 total time=   0.7s\n",
      "[CV 1/2] END criterion__complexity_cost_weight=0.02753848508840841, lr=0.00200254621188036, module__linear_pi=0.13793535839611237, module__linear_rho=-4.72173021423329, module__linear_sigma_1=22.108903327331824, module__linear_sigma_2=0.00013008129177633572;, score=-2.261 total time=   0.5s\n",
      "[CV 2/2] END criterion__complexity_cost_weight=0.02753848508840841, lr=0.00200254621188036, module__linear_pi=0.13793535839611237, module__linear_rho=-4.72173021423329, module__linear_sigma_1=22.108903327331824, module__linear_sigma_2=0.00013008129177633572;, score=-2.242 total time=   0.2s\n",
      "[CV 1/2] END criterion__complexity_cost_weight=2.7894510845370385e-06, lr=0.003646337478766531, module__linear_pi=0.08162956241513852, module__linear_rho=-3.3807866791813677, module__linear_sigma_1=113.78366350038966, module__linear_sigma_2=0.00021745899850003498;, score=-2.303 total time=   0.3s\n",
      "[CV 2/2] END criterion__complexity_cost_weight=2.7894510845370385e-06, lr=0.003646337478766531, module__linear_pi=0.08162956241513852, module__linear_rho=-3.3807866791813677, module__linear_sigma_1=113.78366350038966, module__linear_sigma_2=0.00021745899850003498;, score=-2.225 total time=   0.1s\n",
      "[CV 1/2] END criterion__complexity_cost_weight=0.00013526052786229866, lr=0.0011137046519478883, module__linear_pi=0.2789776720743462, module__linear_rho=-5.5489770006801455, module__linear_sigma_1=0.01732574369930649, module__linear_sigma_2=0.0038972363045832984;, score=-2.282 total time=   0.2s\n",
      "[CV 2/2] END criterion__complexity_cost_weight=0.00013526052786229866, lr=0.0011137046519478883, module__linear_pi=0.2789776720743462, module__linear_rho=-5.5489770006801455, module__linear_sigma_1=0.01732574369930649, module__linear_sigma_2=0.0038972363045832984;, score=-2.250 total time=   0.1s\n",
      "[CV 1/2] END criterion__complexity_cost_weight=0.010005139128512251, lr=0.025756612453301457, module__linear_pi=0.13290579639419553, module__linear_rho=-3.808281242729838, module__linear_sigma_1=368.2033297206472, module__linear_sigma_2=0.00019960144130348216;, score=-2.303 total time=   3.1s\n",
      "[CV 2/2] END criterion__complexity_cost_weight=0.010005139128512251, lr=0.025756612453301457, module__linear_pi=0.13290579639419553, module__linear_rho=-3.808281242729838, module__linear_sigma_1=368.2033297206472, module__linear_sigma_2=0.00019960144130348216;, score=-2.303 total time=   3.0s\n",
      "[CV 1/2] END criterion__complexity_cost_weight=0.301691234120569, lr=0.04298684035121493, module__linear_pi=0.006608107989574563, module__linear_rho=-3.402416486919715, module__linear_sigma_1=8.23309533255593, module__linear_sigma_2=0.00011129680998639253;, score=-2.309 total time=   3.6s\n",
      "[CV 2/2] END criterion__complexity_cost_weight=0.301691234120569, lr=0.04298684035121493, module__linear_pi=0.006608107989574563, module__linear_rho=-3.402416486919715, module__linear_sigma_1=8.23309533255593, module__linear_sigma_2=0.00011129680998639253;, score=-2.288 total time=   2.6s\n",
      "[CV 1/2] END criterion__complexity_cost_weight=4.287697375027357e-05, lr=0.004022816148230749, module__linear_pi=0.2310328751730122, module__linear_rho=-5.843776533441844, module__linear_sigma_1=45.28141600828712, module__linear_sigma_2=0.009897996634076353;, score=-2.303 total time=   3.4s\n",
      "[CV 2/2] END criterion__complexity_cost_weight=4.287697375027357e-05, lr=0.004022816148230749, module__linear_pi=0.2310328751730122, module__linear_rho=-5.843776533441844, module__linear_sigma_1=45.28141600828712, module__linear_sigma_2=0.009897996634076353;, score=-2.303 total time=   2.3s\n",
      "[CV 1/2] END criterion__complexity_cost_weight=1.8552118562546013e-07, lr=0.028812576868561438, module__linear_pi=0.5443049309704545, module__linear_rho=-5.882880247060901, module__linear_sigma_1=0.02208421888107856, module__linear_sigma_2=0.0003770061573264362;, score=-2.303 total time=   0.3s\n",
      "[CV 2/2] END criterion__complexity_cost_weight=1.8552118562546013e-07, lr=0.028812576868561438, module__linear_pi=0.5443049309704545, module__linear_rho=-5.882880247060901, module__linear_sigma_1=0.02208421888107856, module__linear_sigma_2=0.0003770061573264362;, score=-2.324 total time=   0.3s\n",
      "[CV 1/2] END criterion__complexity_cost_weight=5.394130450077189e-07, lr=0.003183396620952779, module__linear_pi=0.27483440401180403, module__linear_rho=-0.17636575462943238, module__linear_sigma_1=2.230141527042339, module__linear_sigma_2=7.170396853049104e-05;, score=-2.310 total time=   0.3s\n",
      "[CV 2/2] END criterion__complexity_cost_weight=5.394130450077189e-07, lr=0.003183396620952779, module__linear_pi=0.27483440401180403, module__linear_rho=-0.17636575462943238, module__linear_sigma_1=2.230141527042339, module__linear_sigma_2=7.170396853049104e-05;, score=-2.304 total time=   0.1s\n",
      "[CV 1/2] END criterion__complexity_cost_weight=0.3695682499519733, lr=0.043897482335556355, module__linear_pi=0.7193998828358722, module__linear_rho=-5.178725806074706, module__linear_sigma_1=281.510713302679, module__linear_sigma_2=0.00021075645290967711;, score=-2.327 total time=   5.0s\n",
      "[CV 2/2] END criterion__complexity_cost_weight=0.3695682499519733, lr=0.043897482335556355, module__linear_pi=0.7193998828358722, module__linear_rho=-5.178725806074706, module__linear_sigma_1=281.510713302679, module__linear_sigma_2=0.00021075645290967711;, score=-2.314 total time=   4.7s\n",
      "[CV 1/2] END criterion__complexity_cost_weight=0.03183403191785006, lr=0.016818517364270792, module__linear_pi=0.6531640777505399, module__linear_rho=-1.3981612042141407, module__linear_sigma_1=114.59120258881006, module__linear_sigma_2=0.00024265241726862657;, score=-2.327 total time=   0.9s\n",
      "[CV 2/2] END criterion__complexity_cost_weight=0.03183403191785006, lr=0.016818517364270792, module__linear_pi=0.6531640777505399, module__linear_rho=-1.3981612042141407, module__linear_sigma_1=114.59120258881006, module__linear_sigma_2=0.00024265241726862657;, score=-2.304 total time=   1.6s\n",
      "[CV 1/2] END criterion__complexity_cost_weight=0.0002467994888588258, lr=0.0014637142759818312, module__linear_pi=0.3708627664523175, module__linear_rho=-0.6831942430322862, module__linear_sigma_1=0.12628743154867378, module__linear_sigma_2=0.0017650026327607996;, score=-2.303 total time=   0.3s\n",
      "[CV 2/2] END criterion__complexity_cost_weight=0.0002467994888588258, lr=0.0014637142759818312, module__linear_pi=0.3708627664523175, module__linear_rho=-0.6831942430322862, module__linear_sigma_1=0.12628743154867378, module__linear_sigma_2=0.0017650026327607996;, score=-2.303 total time=   0.4s\n",
      "[CV 1/2] END criterion__complexity_cost_weight=0.044300400864539985, lr=0.0021575598246521576, module__linear_pi=0.7646026501940553, module__linear_rho=-2.0559224235117295, module__linear_sigma_1=753.8692960536017, module__linear_sigma_2=0.0001461771361064847;, score=-2.278 total time=   0.3s\n",
      "[CV 2/2] END criterion__complexity_cost_weight=0.044300400864539985, lr=0.0021575598246521576, module__linear_pi=0.7646026501940553, module__linear_rho=-2.0559224235117295, module__linear_sigma_1=753.8692960536017, module__linear_sigma_2=0.0001461771361064847;, score=-2.273 total time=   0.8s\n",
      "[CV 1/2] END criterion__complexity_cost_weight=0.0198266789208092, lr=0.02715513017871809, module__linear_pi=0.37907264280754116, module__linear_rho=-4.65787153560832, module__linear_sigma_1=0.6937643976796837, module__linear_sigma_2=0.0009088446212015004;, score=-2.303 total time=   2.6s\n",
      "[CV 2/2] END criterion__complexity_cost_weight=0.0198266789208092, lr=0.02715513017871809, module__linear_pi=0.37907264280754116, module__linear_rho=-4.65787153560832, module__linear_sigma_1=0.6937643976796837, module__linear_sigma_2=0.0009088446212015004;, score=-2.294 total time=   1.3s\n",
      "[CV 1/2] END criterion__complexity_cost_weight=6.334487128642485e-06, lr=0.028745107384206905, module__linear_pi=0.2951914804582486, module__linear_rho=-1.4157920060326816, module__linear_sigma_1=0.4029198651493238, module__linear_sigma_2=0.0003258121249757384;, score=-2.302 total time=   0.5s\n",
      "[CV 2/2] END criterion__complexity_cost_weight=6.334487128642485e-06, lr=0.028745107384206905, module__linear_pi=0.2951914804582486, module__linear_rho=-1.4157920060326816, module__linear_sigma_1=0.4029198651493238, module__linear_sigma_2=0.0003258121249757384;, score=-2.303 total time=   0.6s\n",
      "[CV 1/2] END criterion__complexity_cost_weight=0.1316091374130281, lr=0.00667843014568255, module__linear_pi=0.6241885124530137, module__linear_rho=-3.943151783317396, module__linear_sigma_1=2.2022545398497235, module__linear_sigma_2=1.5284177212644144e-05;, score=-2.244 total time=   4.2s\n",
      "[CV 2/2] END criterion__complexity_cost_weight=0.1316091374130281, lr=0.00667843014568255, module__linear_pi=0.6241885124530137, module__linear_rho=-3.943151783317396, module__linear_sigma_1=2.2022545398497235, module__linear_sigma_2=1.5284177212644144e-05;, score=-2.318 total time=   4.9s\n",
      "[CV 1/2] END criterion__complexity_cost_weight=0.00043487597871627636, lr=0.005795613549031731, module__linear_pi=0.29898286145862574, module__linear_rho=-4.962737358398282, module__linear_sigma_1=0.505031660073692, module__linear_sigma_2=7.665695551091649e-05;, score=-2.303 total time=   0.2s\n",
      "[CV 2/2] END criterion__complexity_cost_weight=0.00043487597871627636, lr=0.005795613549031731, module__linear_pi=0.29898286145862574, module__linear_rho=-4.962737358398282, module__linear_sigma_1=0.505031660073692, module__linear_sigma_2=7.665695551091649e-05;, score=-2.251 total time=   0.2s\n",
      "[CV 1/2] END criterion__complexity_cost_weight=3.4495613302933146e-05, lr=0.023661860545513076, module__linear_pi=0.8955995601408931, module__linear_rho=-0.509800065464538, module__linear_sigma_1=1.2816755659715589, module__linear_sigma_2=0.004958411155135263;, score=-2.303 total time=   0.5s\n",
      "[CV 2/2] END criterion__complexity_cost_weight=3.4495613302933146e-05, lr=0.023661860545513076, module__linear_pi=0.8955995601408931, module__linear_rho=-0.509800065464538, module__linear_sigma_1=1.2816755659715589, module__linear_sigma_2=0.004958411155135263;, score=-2.303 total time=   0.7s\n",
      "[CV 1/2] END criterion__complexity_cost_weight=0.0012868951053248475, lr=0.04934150189487358, module__linear_pi=0.12426283961828377, module__linear_rho=-1.4590106473339182, module__linear_sigma_1=8.736607991591391, module__linear_sigma_2=0.00034970195556292583;, score=-2.303 total time=   1.2s\n",
      "[CV 2/2] END criterion__complexity_cost_weight=0.0012868951053248475, lr=0.04934150189487358, module__linear_pi=0.12426283961828377, module__linear_rho=-1.4590106473339182, module__linear_sigma_1=8.736607991591391, module__linear_sigma_2=0.00034970195556292583;, score=-2.303 total time=   1.1s\n",
      "[CV 1/2] END criterion__complexity_cost_weight=0.0203006134707908, lr=0.026044777679374933, module__linear_pi=0.8310878277385972, module__linear_rho=-3.9352863643188396, module__linear_sigma_1=0.8005441469877209, module__linear_sigma_2=0.0006107386188103475;, score=-2.303 total time=   2.5s\n",
      "[CV 2/2] END criterion__complexity_cost_weight=0.0203006134707908, lr=0.026044777679374933, module__linear_pi=0.8310878277385972, module__linear_rho=-3.9352863643188396, module__linear_sigma_1=0.8005441469877209, module__linear_sigma_2=0.0006107386188103475;, score=-2.303 total time=   1.6s\n",
      "[CV 1/2] END criterion__complexity_cost_weight=1.9957384113960174e-07, lr=0.024219201935066232, module__linear_pi=0.5860231012050868, module__linear_rho=-3.338971671104376, module__linear_sigma_1=15.512234917736896, module__linear_sigma_2=0.007346064422084791;, score=-2.303 total time=   0.3s\n",
      "[CV 2/2] END criterion__complexity_cost_weight=1.9957384113960174e-07, lr=0.024219201935066232, module__linear_pi=0.5860231012050868, module__linear_rho=-3.338971671104376, module__linear_sigma_1=15.512234917736896, module__linear_sigma_2=0.007346064422084791;, score=-2.303 total time=   0.4s\n",
      "[CV 1/2] END criterion__complexity_cost_weight=0.04260671495756887, lr=0.013025027370831742, module__linear_pi=0.20754234112530112, module__linear_rho=-0.16958389127999762, module__linear_sigma_1=0.8621220123668819, module__linear_sigma_2=0.005196476002000382;, score=-2.303 total time=   0.2s\n",
      "[CV 2/2] END criterion__complexity_cost_weight=0.04260671495756887, lr=0.013025027370831742, module__linear_pi=0.20754234112530112, module__linear_rho=-0.16958389127999762, module__linear_sigma_1=0.8621220123668819, module__linear_sigma_2=0.005196476002000382;, score=-2.308 total time=   0.3s\n",
      "[CV 1/2] END criterion__complexity_cost_weight=0.00032164911929464764, lr=0.013880384688637311, module__linear_pi=0.8874029722158654, module__linear_rho=-5.649685471301117, module__linear_sigma_1=0.2976687369851906, module__linear_sigma_2=3.412563661003618e-05;, score=-2.303 total time=   3.0s\n",
      "[CV 2/2] END criterion__complexity_cost_weight=0.00032164911929464764, lr=0.013880384688637311, module__linear_pi=0.8874029722158654, module__linear_rho=-5.649685471301117, module__linear_sigma_1=0.2976687369851906, module__linear_sigma_2=3.412563661003618e-05;, score=-2.303 total time=   3.0s\n",
      "[CV 1/2] END criterion__complexity_cost_weight=2.1181629444119866e-07, lr=0.003808219883662377, module__linear_pi=0.9154007348491935, module__linear_rho=-4.483702327483902, module__linear_sigma_1=0.03674422509838496, module__linear_sigma_2=0.006691674541526989;, score=-2.303 total time=   0.4s\n",
      "[CV 2/2] END criterion__complexity_cost_weight=2.1181629444119866e-07, lr=0.003808219883662377, module__linear_pi=0.9154007348491935, module__linear_rho=-4.483702327483902, module__linear_sigma_1=0.03674422509838496, module__linear_sigma_2=0.006691674541526989;, score=-2.303 total time=   0.4s\n",
      "[CV 1/2] END criterion__complexity_cost_weight=0.00028390754453732806, lr=0.006332260795307656, module__linear_pi=0.6878467561330038, module__linear_rho=-1.097491034067204, module__linear_sigma_1=0.13631276777568505, module__linear_sigma_2=4.0463045120195756e-05;, score=-2.287 total time=   0.5s\n",
      "[CV 2/2] END criterion__complexity_cost_weight=0.00028390754453732806, lr=0.006332260795307656, module__linear_pi=0.6878467561330038, module__linear_rho=-1.097491034067204, module__linear_sigma_1=0.13631276777568505, module__linear_sigma_2=4.0463045120195756e-05;, score=-2.303 total time=   0.2s\n",
      "[CV 1/2] END criterion__complexity_cost_weight=9.36464816709862e-05, lr=0.027544506495633503, module__linear_pi=0.9271214033544182, module__linear_rho=-4.857579820366561, module__linear_sigma_1=28.008898523674638, module__linear_sigma_2=0.00021757352086710573;, score=-2.300 total time=   1.0s\n",
      "[CV 2/2] END criterion__complexity_cost_weight=9.36464816709862e-05, lr=0.027544506495633503, module__linear_pi=0.9271214033544182, module__linear_rho=-4.857579820366561, module__linear_sigma_1=28.008898523674638, module__linear_sigma_2=0.00021757352086710573;, score=-2.286 total time=   0.2s\n",
      "[CV 1/2] END criterion__complexity_cost_weight=0.14020773005607456, lr=0.0031785891297418886, module__linear_pi=0.27020384847136114, module__linear_rho=-5.868408630547482, module__linear_sigma_1=227.38112056741332, module__linear_sigma_2=3.1490484278070944e-05;, score=-2.273 total time=   3.4s\n",
      "[CV 2/2] END criterion__complexity_cost_weight=0.14020773005607456, lr=0.0031785891297418886, module__linear_pi=0.27020384847136114, module__linear_rho=-5.868408630547482, module__linear_sigma_1=227.38112056741332, module__linear_sigma_2=3.1490484278070944e-05;, score=-2.239 total time=   4.2s\n",
      "[CV 1/2] END criterion__complexity_cost_weight=8.906732005276151e-06, lr=0.0026212552500582405, module__linear_pi=0.9220521803674396, module__linear_rho=-5.5102310414144755, module__linear_sigma_1=0.48227219477066935, module__linear_sigma_2=0.0010997781686803501;, score=-2.248 total time=   0.2s\n",
      "[CV 2/2] END criterion__complexity_cost_weight=8.906732005276151e-06, lr=0.0026212552500582405, module__linear_pi=0.9220521803674396, module__linear_rho=-5.5102310414144755, module__linear_sigma_1=0.48227219477066935, module__linear_sigma_2=0.0010997781686803501;, score=-2.253 total time=   0.1s\n",
      "[CV 1/2] END criterion__complexity_cost_weight=1.4419695583599789e-06, lr=0.009581300744694186, module__linear_pi=0.42465707981586154, module__linear_rho=-5.921159510859889, module__linear_sigma_1=10.78982596797314, module__linear_sigma_2=0.0001098375018043939;, score=-2.267 total time=   0.1s\n",
      "[CV 2/2] END criterion__complexity_cost_weight=1.4419695583599789e-06, lr=0.009581300744694186, module__linear_pi=0.42465707981586154, module__linear_rho=-5.921159510859889, module__linear_sigma_1=10.78982596797314, module__linear_sigma_2=0.0001098375018043939;, score=-2.276 total time=   0.2s\n",
      "[CV 1/2] END criterion__complexity_cost_weight=3.024741503141574e-06, lr=0.04536810595317624, module__linear_pi=0.8389822105081447, module__linear_rho=-3.3077441465595014, module__linear_sigma_1=0.4038733637332931, module__linear_sigma_2=1.1022843776953707e-05;, score=-2.306 total time=   0.5s\n",
      "[CV 2/2] END criterion__complexity_cost_weight=3.024741503141574e-06, lr=0.04536810595317624, module__linear_pi=0.8389822105081447, module__linear_rho=-3.3077441465595014, module__linear_sigma_1=0.4038733637332931, module__linear_sigma_2=1.1022843776953707e-05;, score=-2.303 total time=   0.5s\n",
      "[CV 1/2] END criterion__complexity_cost_weight=0.012487885132646289, lr=0.002834495178596348, module__linear_pi=0.5116899525735095, module__linear_rho=-2.243885570927426, module__linear_sigma_1=58.147355624481214, module__linear_sigma_2=2.9815254600740293e-05;, score=-2.303 total time=   0.7s\n",
      "[CV 2/2] END criterion__complexity_cost_weight=0.012487885132646289, lr=0.002834495178596348, module__linear_pi=0.5116899525735095, module__linear_rho=-2.243885570927426, module__linear_sigma_1=58.147355624481214, module__linear_sigma_2=2.9815254600740293e-05;, score=-2.303 total time=   1.2s\n",
      "[CV 1/2] END criterion__complexity_cost_weight=4.357288148978682e-07, lr=0.020659360220891036, module__linear_pi=0.051457931533825385, module__linear_rho=-3.5602960441930547, module__linear_sigma_1=0.015139707175474817, module__linear_sigma_2=4.201134072470635e-05;, score=-2.303 total time=   0.4s\n",
      "[CV 2/2] END criterion__complexity_cost_weight=4.357288148978682e-07, lr=0.020659360220891036, module__linear_pi=0.051457931533825385, module__linear_rho=-3.5602960441930547, module__linear_sigma_1=0.015139707175474817, module__linear_sigma_2=4.201134072470635e-05;, score=-2.303 total time=   0.4s\n",
      "[CV 1/2] END criterion__complexity_cost_weight=2.117307380782829e-06, lr=0.02672799015818139, module__linear_pi=0.742941723285633, module__linear_rho=-4.5319426764345065, module__linear_sigma_1=8.527868104654006, module__linear_sigma_2=0.00030464667116779674;, score=-2.303 total time=   0.2s\n",
      "[CV 2/2] END criterion__complexity_cost_weight=2.117307380782829e-06, lr=0.02672799015818139, module__linear_pi=0.742941723285633, module__linear_rho=-4.5319426764345065, module__linear_sigma_1=8.527868104654006, module__linear_sigma_2=0.00030464667116779674;, score=-2.303 total time=   0.5s\n",
      "[CV 1/2] END criterion__complexity_cost_weight=4.3464214528895537e-07, lr=0.004054350812675746, module__linear_pi=0.7507009864882975, module__linear_rho=-5.227394788403156, module__linear_sigma_1=0.1583081965703977, module__linear_sigma_2=0.00011729333247032504;, score=-2.256 total time=   0.1s\n",
      "[CV 2/2] END criterion__complexity_cost_weight=4.3464214528895537e-07, lr=0.004054350812675746, module__linear_pi=0.7507009864882975, module__linear_rho=-5.227394788403156, module__linear_sigma_1=0.1583081965703977, module__linear_sigma_2=0.00011729333247032504;, score=-2.197 total time=   0.1s\n",
      "[CV 1/2] END criterion__complexity_cost_weight=1.066970659200138e-07, lr=0.020609826073906178, module__linear_pi=0.39509182980869473, module__linear_rho=-2.1679997883210937, module__linear_sigma_1=4.267479033159955, module__linear_sigma_2=0.002178229798107195;, score=-2.303 total time=   0.3s\n",
      "[CV 2/2] END criterion__complexity_cost_weight=1.066970659200138e-07, lr=0.020609826073906178, module__linear_pi=0.39509182980869473, module__linear_rho=-2.1679997883210937, module__linear_sigma_1=4.267479033159955, module__linear_sigma_2=0.002178229798107195;, score=-2.284 total time=   0.2s\n",
      "[CV 1/2] END criterion__complexity_cost_weight=0.004091817793419759, lr=0.004758569224794797, module__linear_pi=0.1236616225165289, module__linear_rho=-3.455963001822794, module__linear_sigma_1=0.010627674635474175, module__linear_sigma_2=1.715922723066882e-05;, score=-2.303 total time=   1.1s\n",
      "[CV 2/2] END criterion__complexity_cost_weight=0.004091817793419759, lr=0.004758569224794797, module__linear_pi=0.1236616225165289, module__linear_rho=-3.455963001822794, module__linear_sigma_1=0.010627674635474175, module__linear_sigma_2=1.715922723066882e-05;, score=-2.210 total time=   0.8s\n",
      "[CV 1/2] END criterion__complexity_cost_weight=0.06436634075250378, lr=0.007550493054211409, module__linear_pi=0.788944895790029, module__linear_rho=-1.5653345654011241, module__linear_sigma_1=4.355086531433129, module__linear_sigma_2=0.00152014994405519;, score=-2.303 total time=   1.0s\n",
      "[CV 2/2] END criterion__complexity_cost_weight=0.06436634075250378, lr=0.007550493054211409, module__linear_pi=0.788944895790029, module__linear_rho=-1.5653345654011241, module__linear_sigma_1=4.355086531433129, module__linear_sigma_2=0.00152014994405519;, score=-2.303 total time=   0.7s\n",
      "[CV 1/2] END criterion__complexity_cost_weight=0.4043527374196391, lr=0.04086462146411804, module__linear_pi=0.25443145441429216, module__linear_rho=-0.5496967216659634, module__linear_sigma_1=2.265314799697426, module__linear_sigma_2=4.218421210391167e-05;, score=-2.314 total time=   0.7s\n",
      "[CV 2/2] END criterion__complexity_cost_weight=0.4043527374196391, lr=0.04086462146411804, module__linear_pi=0.25443145441429216, module__linear_rho=-0.5496967216659634, module__linear_sigma_1=2.265314799697426, module__linear_sigma_2=4.218421210391167e-05;, score=-2.308 total time=   0.7s\n",
      "[CV 1/2] END criterion__complexity_cost_weight=7.430771455982788e-05, lr=0.00981932086293952, module__linear_pi=0.8889993554420076, module__linear_rho=-0.5797545946414076, module__linear_sigma_1=6.293277412558588, module__linear_sigma_2=0.00263927389312812;, score=-2.303 total time=   0.5s\n",
      "[CV 2/2] END criterion__complexity_cost_weight=7.430771455982788e-05, lr=0.00981932086293952, module__linear_pi=0.8889993554420076, module__linear_rho=-0.5797545946414076, module__linear_sigma_1=6.293277412558588, module__linear_sigma_2=0.00263927389312812;, score=-2.294 total time=   0.3s\n",
      "[CV 1/2] END criterion__complexity_cost_weight=0.000505600526095742, lr=0.0014505512579061207, module__linear_pi=0.43573865057021555, module__linear_rho=-1.8050017759597807, module__linear_sigma_1=59.256809089964236, module__linear_sigma_2=0.0010803402904702344;, score=-2.293 total time=   0.4s\n",
      "[CV 2/2] END criterion__complexity_cost_weight=0.000505600526095742, lr=0.0014505512579061207, module__linear_pi=0.43573865057021555, module__linear_rho=-1.8050017759597807, module__linear_sigma_1=59.256809089964236, module__linear_sigma_2=0.0010803402904702344;, score=-2.280 total time=   0.1s\n",
      "[CV 1/2] END criterion__complexity_cost_weight=1.0345082082702104e-07, lr=0.014430151781529897, module__linear_pi=0.9800212481483483, module__linear_rho=-4.721976829599828, module__linear_sigma_1=36.82009867477312, module__linear_sigma_2=3.918026342390319e-05;, score=-2.305 total time=   0.2s\n",
      "[CV 2/2] END criterion__complexity_cost_weight=1.0345082082702104e-07, lr=0.014430151781529897, module__linear_pi=0.9800212481483483, module__linear_rho=-4.721976829599828, module__linear_sigma_1=36.82009867477312, module__linear_sigma_2=3.918026342390319e-05;, score=-2.262 total time=   0.2s\n",
      "[CV 1/2] END criterion__complexity_cost_weight=0.023196637014936735, lr=0.03889474769851155, module__linear_pi=0.20820116627245155, module__linear_rho=-1.0239562722637494, module__linear_sigma_1=0.31352211250463713, module__linear_sigma_2=0.004386468336538197;, score=-2.303 total time=   0.2s\n",
      "[CV 2/2] END criterion__complexity_cost_weight=0.023196637014936735, lr=0.03889474769851155, module__linear_pi=0.20820116627245155, module__linear_rho=-1.0239562722637494, module__linear_sigma_1=0.31352211250463713, module__linear_sigma_2=0.004386468336538197;, score=-2.303 total time=   0.3s\n",
      "[CV 1/2] END criterion__complexity_cost_weight=1.668876550339232e-07, lr=0.01919173871192834, module__linear_pi=0.21536179960192492, module__linear_rho=-3.7986783381477434, module__linear_sigma_1=0.06145323344426955, module__linear_sigma_2=0.0026441924926409923;, score=-2.280 total time=   0.2s\n",
      "[CV 2/2] END criterion__complexity_cost_weight=1.668876550339232e-07, lr=0.01919173871192834, module__linear_pi=0.21536179960192492, module__linear_rho=-3.7986783381477434, module__linear_sigma_1=0.06145323344426955, module__linear_sigma_2=0.0026441924926409923;, score=-2.303 total time=   0.3s\n",
      "[CV 1/2] END criterion__complexity_cost_weight=2.5549183065745607e-06, lr=0.004003307032006421, module__linear_pi=0.365597760057475, module__linear_rho=-4.394862575001154, module__linear_sigma_1=0.13170828753809935, module__linear_sigma_2=0.0017491634119644617;, score=-2.303 total time=   0.4s\n",
      "[CV 2/2] END criterion__complexity_cost_weight=2.5549183065745607e-06, lr=0.004003307032006421, module__linear_pi=0.365597760057475, module__linear_rho=-4.394862575001154, module__linear_sigma_1=0.13170828753809935, module__linear_sigma_2=0.0017491634119644617;, score=-2.303 total time=   0.2s\n",
      "[CV 1/2] END criterion__complexity_cost_weight=0.001100725453118259, lr=0.020642865796663055, module__linear_pi=0.15695556248956266, module__linear_rho=-2.7296133517288044, module__linear_sigma_1=0.02503373556091393, module__linear_sigma_2=1.9734879847846044e-05;, score=-2.303 total time=   0.9s\n",
      "[CV 2/2] END criterion__complexity_cost_weight=0.001100725453118259, lr=0.020642865796663055, module__linear_pi=0.15695556248956266, module__linear_rho=-2.7296133517288044, module__linear_sigma_1=0.02503373556091393, module__linear_sigma_2=1.9734879847846044e-05;, score=-2.303 total time=   0.6s\n",
      "[CV 1/2] END criterion__complexity_cost_weight=0.00010563451352201361, lr=0.010144128061446987, module__linear_pi=0.7166423945633572, module__linear_rho=-2.5902683948839162, module__linear_sigma_1=0.024280294522445393, module__linear_sigma_2=0.00013511039484446257;, score=-2.303 total time=   0.8s\n",
      "[CV 2/2] END criterion__complexity_cost_weight=0.00010563451352201361, lr=0.010144128061446987, module__linear_pi=0.7166423945633572, module__linear_rho=-2.5902683948839162, module__linear_sigma_1=0.024280294522445393, module__linear_sigma_2=0.00013511039484446257;, score=-2.281 total time=   0.6s\n",
      "[CV 1/2] END criterion__complexity_cost_weight=0.01463834574616134, lr=0.041205762177609254, module__linear_pi=0.9053266060170487, module__linear_rho=-3.0504581790974874, module__linear_sigma_1=476.0257288165365, module__linear_sigma_2=5.67740446132788e-05;, score=-2.304 total time=   1.5s\n",
      "[CV 2/2] END criterion__complexity_cost_weight=0.01463834574616134, lr=0.041205762177609254, module__linear_pi=0.9053266060170487, module__linear_rho=-3.0504581790974874, module__linear_sigma_1=476.0257288165365, module__linear_sigma_2=5.67740446132788e-05;, score=-2.303 total time=   1.3s\n",
      "[CV 1/2] END criterion__complexity_cost_weight=0.0020817426114859003, lr=0.01976997438044237, module__linear_pi=0.0016787689092433444, module__linear_rho=-5.507279457581741, module__linear_sigma_1=0.4035473914767656, module__linear_sigma_2=4.457069557644009e-05;, score=-2.303 total time=   1.8s\n",
      "[CV 2/2] END criterion__complexity_cost_weight=0.0020817426114859003, lr=0.01976997438044237, module__linear_pi=0.0016787689092433444, module__linear_rho=-5.507279457581741, module__linear_sigma_1=0.4035473914767656, module__linear_sigma_2=4.457069557644009e-05;, score=-2.294 total time=   0.2s\n",
      "[CV 1/2] END criterion__complexity_cost_weight=1.6722547324909282e-06, lr=0.0086608462883558, module__linear_pi=0.6396287112027514, module__linear_rho=-3.089836518746343, module__linear_sigma_1=31.462512316579446, module__linear_sigma_2=9.0054775207021e-05;, score=-2.303 total time=   0.6s\n",
      "[CV 2/2] END criterion__complexity_cost_weight=1.6722547324909282e-06, lr=0.0086608462883558, module__linear_pi=0.6396287112027514, module__linear_rho=-3.089836518746343, module__linear_sigma_1=31.462512316579446, module__linear_sigma_2=9.0054775207021e-05;, score=-2.303 total time=   0.5s\n",
      "[CV 1/2] END criterion__complexity_cost_weight=3.64583388481144e-05, lr=0.00168250523347502, module__linear_pi=0.2169440102673399, module__linear_rho=-3.079112843367346, module__linear_sigma_1=135.52702064998178, module__linear_sigma_2=0.0002634240011184649;, score=-2.272 total time=   0.2s\n",
      "[CV 2/2] END criterion__complexity_cost_weight=3.64583388481144e-05, lr=0.00168250523347502, module__linear_pi=0.2169440102673399, module__linear_rho=-3.079112843367346, module__linear_sigma_1=135.52702064998178, module__linear_sigma_2=0.0002634240011184649;, score=-2.214 total time=   0.2s\n",
      "[CV 1/2] END criterion__complexity_cost_weight=0.15213742949692358, lr=0.03907320759234518, module__linear_pi=0.7714579192326468, module__linear_rho=-1.325918790288398, module__linear_sigma_1=0.01183638316209157, module__linear_sigma_2=0.001198306309397644;, score=-2.308 total time=   0.2s\n",
      "[CV 2/2] END criterion__complexity_cost_weight=0.15213742949692358, lr=0.03907320759234518, module__linear_pi=0.7714579192326468, module__linear_rho=-1.325918790288398, module__linear_sigma_1=0.01183638316209157, module__linear_sigma_2=0.001198306309397644;, score=-2.312 total time=   0.3s\n",
      "[CV 1/2] END criterion__complexity_cost_weight=1.738771675332631e-07, lr=0.01916502156248033, module__linear_pi=0.42493001700421396, module__linear_rho=-5.4981550290429535, module__linear_sigma_1=448.94627928544423, module__linear_sigma_2=3.594359712816403e-05;, score=-2.304 total time=   0.2s\n",
      "[CV 2/2] END criterion__complexity_cost_weight=1.738771675332631e-07, lr=0.01916502156248033, module__linear_pi=0.42493001700421396, module__linear_rho=-5.4981550290429535, module__linear_sigma_1=448.94627928544423, module__linear_sigma_2=3.594359712816403e-05;, score=-2.303 total time=   0.6s\n",
      "[CV 1/2] END criterion__complexity_cost_weight=0.5280734387417652, lr=0.021483730291665552, module__linear_pi=0.9226937236816897, module__linear_rho=-2.2439604250474368, module__linear_sigma_1=0.5739816604712594, module__linear_sigma_2=0.0012513036881716488;, score=-2.303 total time=   1.0s\n",
      "[CV 2/2] END criterion__complexity_cost_weight=0.5280734387417652, lr=0.021483730291665552, module__linear_pi=0.9226937236816897, module__linear_rho=-2.2439604250474368, module__linear_sigma_1=0.5739816604712594, module__linear_sigma_2=0.0012513036881716488;, score=-2.304 total time=   1.1s\n",
      "[CV 1/2] END criterion__complexity_cost_weight=0.0001672633916793995, lr=0.01770606382913865, module__linear_pi=0.9537510175312837, module__linear_rho=-5.659544111249747, module__linear_sigma_1=0.06726382945088537, module__linear_sigma_2=0.0001954675423542175;, score=-2.303 total time=   2.0s\n",
      "[CV 2/2] END criterion__complexity_cost_weight=0.0001672633916793995, lr=0.01770606382913865, module__linear_pi=0.9537510175312837, module__linear_rho=-5.659544111249747, module__linear_sigma_1=0.06726382945088537, module__linear_sigma_2=0.0001954675423542175;, score=-2.259 total time=   0.2s\n",
      "[CV 1/2] END criterion__complexity_cost_weight=1.556465877472158e-07, lr=0.004082765257738672, module__linear_pi=0.4231780436580066, module__linear_rho=-4.952827702398349, module__linear_sigma_1=0.016215904159366423, module__linear_sigma_2=0.0008040584620519303;, score=-2.293 total time=   0.3s\n",
      "[CV 2/2] END criterion__complexity_cost_weight=1.556465877472158e-07, lr=0.004082765257738672, module__linear_pi=0.4231780436580066, module__linear_rho=-4.952827702398349, module__linear_sigma_1=0.016215904159366423, module__linear_sigma_2=0.0008040584620519303;, score=-2.200 total time=   0.1s\n",
      "[CV 1/2] END criterion__complexity_cost_weight=4.561136801586509e-06, lr=0.015462499405172235, module__linear_pi=0.41680600086337827, module__linear_rho=-0.6116182105147621, module__linear_sigma_1=0.3086211137390742, module__linear_sigma_2=0.0004191131001029176;, score=-2.303 total time=   0.2s\n",
      "[CV 2/2] END criterion__complexity_cost_weight=4.561136801586509e-06, lr=0.015462499405172235, module__linear_pi=0.41680600086337827, module__linear_rho=-0.6116182105147621, module__linear_sigma_1=0.3086211137390742, module__linear_sigma_2=0.0004191131001029176;, score=-2.304 total time=   0.3s\n",
      "[CV 1/2] END criterion__complexity_cost_weight=9.884664267215422e-06, lr=0.04088886932355815, module__linear_pi=0.27776782917302856, module__linear_rho=-1.942568828032659, module__linear_sigma_1=0.591325779068252, module__linear_sigma_2=0.0011232312049819584;, score=-2.303 total time=   0.8s\n",
      "[CV 2/2] END criterion__complexity_cost_weight=9.884664267215422e-06, lr=0.04088886932355815, module__linear_pi=0.27776782917302856, module__linear_rho=-1.942568828032659, module__linear_sigma_1=0.591325779068252, module__linear_sigma_2=0.0011232312049819584;, score=-2.314 total time=   0.3s\n",
      "[CV 1/2] END criterion__complexity_cost_weight=0.002183474848787169, lr=0.0205726906982117, module__linear_pi=0.6262507292301286, module__linear_rho=-3.2633965926143493, module__linear_sigma_1=1.7900290258176863, module__linear_sigma_2=2.9449540163158996e-05;, score=-2.303 total time=   2.1s\n",
      "[CV 2/2] END criterion__complexity_cost_weight=0.002183474848787169, lr=0.0205726906982117, module__linear_pi=0.6262507292301286, module__linear_rho=-3.2633965926143493, module__linear_sigma_1=1.7900290258176863, module__linear_sigma_2=2.9449540163158996e-05;, score=-2.303 total time=   2.0s\n",
      "[CV 1/2] END criterion__complexity_cost_weight=6.651303232583438e-07, lr=0.0018319296268041695, module__linear_pi=0.9295333096696448, module__linear_rho=-1.9772521829117515, module__linear_sigma_1=334.42986501342324, module__linear_sigma_2=0.0006983687740823041;, score=-2.283 total time=   0.3s\n",
      "[CV 2/2] END criterion__complexity_cost_weight=6.651303232583438e-07, lr=0.0018319296268041695, module__linear_pi=0.9295333096696448, module__linear_rho=-1.9772521829117515, module__linear_sigma_1=334.42986501342324, module__linear_sigma_2=0.0006983687740823041;, score=-2.303 total time=   0.3s\n",
      "[CV 1/2] END criterion__complexity_cost_weight=3.0880538973691823e-06, lr=0.0010501512885461492, module__linear_pi=0.5336786787627776, module__linear_rho=-0.16202785057617497, module__linear_sigma_1=93.00124100196585, module__linear_sigma_2=1.6098178915811783e-05;, score=-2.304 total time=   0.5s\n",
      "[CV 2/2] END criterion__complexity_cost_weight=3.0880538973691823e-06, lr=0.0010501512885461492, module__linear_pi=0.5336786787627776, module__linear_rho=-0.16202785057617497, module__linear_sigma_1=93.00124100196585, module__linear_sigma_2=1.6098178915811783e-05;, score=-2.307 total time=   0.1s\n",
      "[CV 1/2] END criterion__complexity_cost_weight=3.527434371009325e-05, lr=0.001685130474825585, module__linear_pi=0.2704180961487477, module__linear_rho=-1.9342832918299324, module__linear_sigma_1=0.4248508023677788, module__linear_sigma_2=0.00033755283729048653;, score=-2.270 total time=   0.4s\n",
      "[CV 2/2] END criterion__complexity_cost_weight=3.527434371009325e-05, lr=0.001685130474825585, module__linear_pi=0.2704180961487477, module__linear_rho=-1.9342832918299324, module__linear_sigma_1=0.4248508023677788, module__linear_sigma_2=0.00033755283729048653;, score=-2.277 total time=   0.4s\n",
      "[CV 1/2] END criterion__complexity_cost_weight=1.0586460780691018e-05, lr=0.004966359472879528, module__linear_pi=0.3778255596902663, module__linear_rho=-2.4994887705789033, module__linear_sigma_1=0.024815480363611225, module__linear_sigma_2=0.009568255938778051;, score=-2.258 total time=   0.3s\n",
      "[CV 2/2] END criterion__complexity_cost_weight=1.0586460780691018e-05, lr=0.004966359472879528, module__linear_pi=0.3778255596902663, module__linear_rho=-2.4994887705789033, module__linear_sigma_1=0.024815480363611225, module__linear_sigma_2=0.009568255938778051;, score=-2.297 total time=   0.1s\n",
      "[CV 1/2] END criterion__complexity_cost_weight=8.915474581738239e-07, lr=0.0012343309486228388, module__linear_pi=0.9100306297374963, module__linear_rho=-3.809226972050981, module__linear_sigma_1=0.010528515176166679, module__linear_sigma_2=5.657297832822228e-05;, score=-2.275 total time=   0.2s\n",
      "[CV 2/2] END criterion__complexity_cost_weight=8.915474581738239e-07, lr=0.0012343309486228388, module__linear_pi=0.9100306297374963, module__linear_rho=-3.809226972050981, module__linear_sigma_1=0.010528515176166679, module__linear_sigma_2=5.657297832822228e-05;, score=-2.273 total time=   0.1s\n",
      "[CV 1/2] END criterion__complexity_cost_weight=0.045539594898065396, lr=0.018282168762971604, module__linear_pi=0.6451438661286618, module__linear_rho=-1.0461350876281639, module__linear_sigma_1=2.312740076609644, module__linear_sigma_2=0.00571092164538705;, score=-2.307 total time=   1.1s\n",
      "[CV 2/2] END criterion__complexity_cost_weight=0.045539594898065396, lr=0.018282168762971604, module__linear_pi=0.6451438661286618, module__linear_rho=-1.0461350876281639, module__linear_sigma_1=2.312740076609644, module__linear_sigma_2=0.00571092164538705;, score=-2.305 total time=   1.0s\n",
      "[CV 1/2] END criterion__complexity_cost_weight=7.719227979382834e-06, lr=0.006978869586681504, module__linear_pi=0.8293798606234255, module__linear_rho=-2.736909419897607, module__linear_sigma_1=0.1582013889817461, module__linear_sigma_2=0.00010022058070461619;, score=-2.289 total time=   0.2s\n",
      "[CV 2/2] END criterion__complexity_cost_weight=7.719227979382834e-06, lr=0.006978869586681504, module__linear_pi=0.8293798606234255, module__linear_rho=-2.736909419897607, module__linear_sigma_1=0.1582013889817461, module__linear_sigma_2=0.00010022058070461619;, score=-2.303 total time=   0.3s\n",
      "[CV 1/2] END criterion__complexity_cost_weight=0.10561230607021542, lr=0.00792040064048507, module__linear_pi=0.345771060282964, module__linear_rho=-2.2558760762166803, module__linear_sigma_1=0.05496169870005822, module__linear_sigma_2=0.0016754195088582143;, score=-2.303 total time=   0.5s\n",
      "[CV 2/2] END criterion__complexity_cost_weight=0.10561230607021542, lr=0.00792040064048507, module__linear_pi=0.345771060282964, module__linear_rho=-2.2558760762166803, module__linear_sigma_1=0.05496169870005822, module__linear_sigma_2=0.0016754195088582143;, score=-2.303 total time=   0.5s\n",
      "[CV 1/2] END criterion__complexity_cost_weight=3.5248333869368924e-05, lr=0.007549320934800668, module__linear_pi=0.34666795923760263, module__linear_rho=-0.8562802949209285, module__linear_sigma_1=0.07632610996283164, module__linear_sigma_2=0.0040492298822734545;, score=-2.303 total time=   0.4s\n",
      "[CV 2/2] END criterion__complexity_cost_weight=3.5248333869368924e-05, lr=0.007549320934800668, module__linear_pi=0.34666795923760263, module__linear_rho=-0.8562802949209285, module__linear_sigma_1=0.07632610996283164, module__linear_sigma_2=0.0040492298822734545;, score=-2.301 total time=   0.9s\n",
      "[CV 1/2] END criterion__complexity_cost_weight=0.004294716208768338, lr=0.0020346413910932236, module__linear_pi=0.1566020782092773, module__linear_rho=-4.441610438457154, module__linear_sigma_1=1.6532209524123016, module__linear_sigma_2=0.006800879520394705;, score=-2.255 total time=   0.9s\n",
      "[CV 2/2] END criterion__complexity_cost_weight=0.004294716208768338, lr=0.0020346413910932236, module__linear_pi=0.1566020782092773, module__linear_rho=-4.441610438457154, module__linear_sigma_1=1.6532209524123016, module__linear_sigma_2=0.006800879520394705;, score=-2.218 total time=   0.2s\n",
      "[CV 1/2] END criterion__complexity_cost_weight=0.031061764291770086, lr=0.0030859206561262543, module__linear_pi=0.4757061656097876, module__linear_rho=-5.745081075216832, module__linear_sigma_1=75.88926064061523, module__linear_sigma_2=0.0013940640253997123;, score=-2.303 total time=   0.1s\n",
      "[CV 2/2] END criterion__complexity_cost_weight=0.031061764291770086, lr=0.0030859206561262543, module__linear_pi=0.4757061656097876, module__linear_rho=-5.745081075216832, module__linear_sigma_1=75.88926064061523, module__linear_sigma_2=0.0013940640253997123;, score=-2.303 total time=   2.9s\n",
      "[CV 1/2] END criterion__complexity_cost_weight=0.0031300794051567194, lr=0.010580954673466706, module__linear_pi=0.07450836427174412, module__linear_rho=-2.8561222421214874, module__linear_sigma_1=10.093355854174241, module__linear_sigma_2=0.0007213522893794204;, score=-2.303 total time=   0.5s\n",
      "[CV 2/2] END criterion__complexity_cost_weight=0.0031300794051567194, lr=0.010580954673466706, module__linear_pi=0.07450836427174412, module__linear_rho=-2.8561222421214874, module__linear_sigma_1=10.093355854174241, module__linear_sigma_2=0.0007213522893794204;, score=-2.303 total time=   1.3s\n",
      "[CV 1/2] END criterion__complexity_cost_weight=0.19210237269850952, lr=0.003639643251834016, module__linear_pi=0.24427538992874642, module__linear_rho=-3.372036006494614, module__linear_sigma_1=12.190326754111243, module__linear_sigma_2=0.003587963117476853;, score=-2.290 total time=   0.3s\n",
      "[CV 2/2] END criterion__complexity_cost_weight=0.19210237269850952, lr=0.003639643251834016, module__linear_pi=0.24427538992874642, module__linear_rho=-3.372036006494614, module__linear_sigma_1=12.190326754111243, module__linear_sigma_2=0.003587963117476853;, score=-2.211 total time=   0.2s\n",
      "[CV 1/2] END criterion__complexity_cost_weight=0.015957666688600297, lr=0.007575584117147511, module__linear_pi=0.3896336331226339, module__linear_rho=-1.5213458982798613, module__linear_sigma_1=0.7130398609983658, module__linear_sigma_2=0.00018746379854288185;, score=-2.303 total time=   0.7s\n",
      "[CV 2/2] END criterion__complexity_cost_weight=0.015957666688600297, lr=0.007575584117147511, module__linear_pi=0.3896336331226339, module__linear_rho=-1.5213458982798613, module__linear_sigma_1=0.7130398609983658, module__linear_sigma_2=0.00018746379854288185;, score=-2.303 total time=   1.6s\n",
      "[CV 1/2] END criterion__complexity_cost_weight=1.344388601019008e-07, lr=0.007289059883536433, module__linear_pi=0.2049473834067983, module__linear_rho=-0.20190587746041366, module__linear_sigma_1=0.028998870341591716, module__linear_sigma_2=1.3330845537355485e-05;, score=-2.303 total time=   0.3s\n",
      "[CV 2/2] END criterion__complexity_cost_weight=1.344388601019008e-07, lr=0.007289059883536433, module__linear_pi=0.2049473834067983, module__linear_rho=-0.20190587746041366, module__linear_sigma_1=0.028998870341591716, module__linear_sigma_2=1.3330845537355485e-05;, score=-2.303 total time=   0.5s\n",
      "[CV 1/2] END criterion__complexity_cost_weight=0.0004166028321495186, lr=0.046866745580497214, module__linear_pi=0.27394570310953936, module__linear_rho=-5.201560998715687, module__linear_sigma_1=0.02835912554666569, module__linear_sigma_2=1.0243608164464394e-05;, score=-2.298 total time=   0.5s\n",
      "[CV 2/2] END criterion__complexity_cost_weight=0.0004166028321495186, lr=0.046866745580497214, module__linear_pi=0.27394570310953936, module__linear_rho=-5.201560998715687, module__linear_sigma_1=0.02835912554666569, module__linear_sigma_2=1.0243608164464394e-05;, score=-2.286 total time=   0.5s\n",
      "[CV 1/2] END criterion__complexity_cost_weight=0.002041677753216325, lr=0.003982346700822804, module__linear_pi=0.8200075392134119, module__linear_rho=-4.669819611208708, module__linear_sigma_1=5.495407464027096, module__linear_sigma_2=1.4561076968421372e-05;, score=-2.290 total time=   0.2s\n",
      "[CV 2/2] END criterion__complexity_cost_weight=0.002041677753216325, lr=0.003982346700822804, module__linear_pi=0.8200075392134119, module__linear_rho=-4.669819611208708, module__linear_sigma_1=5.495407464027096, module__linear_sigma_2=1.4561076968421372e-05;, score=-2.303 total time=   2.0s\n",
      "[CV 1/2] END criterion__complexity_cost_weight=1.8209893281562782e-05, lr=0.034823876868450725, module__linear_pi=0.6034247947943224, module__linear_rho=-3.2175647647853207, module__linear_sigma_1=452.6716370831683, module__linear_sigma_2=0.00011174302597992965;, score=-2.303 total time=   0.2s\n",
      "[CV 2/2] END criterion__complexity_cost_weight=1.8209893281562782e-05, lr=0.034823876868450725, module__linear_pi=0.6034247947943224, module__linear_rho=-3.2175647647853207, module__linear_sigma_1=452.6716370831683, module__linear_sigma_2=0.00011174302597992965;, score=-2.303 total time=   0.6s\n",
      "[CV 1/2] END criterion__complexity_cost_weight=3.215222552708384e-07, lr=0.005935381290952031, module__linear_pi=0.5891385892379942, module__linear_rho=-1.2030292211957976, module__linear_sigma_1=0.694984439783743, module__linear_sigma_2=0.00036236529818922295;, score=-2.290 total time=   0.4s\n",
      "[CV 2/2] END criterion__complexity_cost_weight=3.215222552708384e-07, lr=0.005935381290952031, module__linear_pi=0.5891385892379942, module__linear_rho=-1.2030292211957976, module__linear_sigma_1=0.694984439783743, module__linear_sigma_2=0.00036236529818922295;, score=-2.303 total time=   0.4s\n",
      "[CV 1/2] END criterion__complexity_cost_weight=0.16594363802856257, lr=0.011892634473109587, module__linear_pi=0.2736063538539064, module__linear_rho=-0.4102401955216717, module__linear_sigma_1=7.057149033872754, module__linear_sigma_2=0.0032647703274499484;, score=-2.307 total time=   1.0s\n",
      "[CV 2/2] END criterion__complexity_cost_weight=0.16594363802856257, lr=0.011892634473109587, module__linear_pi=0.2736063538539064, module__linear_rho=-0.4102401955216717, module__linear_sigma_1=7.057149033872754, module__linear_sigma_2=0.0032647703274499484;, score=-2.316 total time=   1.5s\n",
      "[CV 1/2] END criterion__complexity_cost_weight=0.0442147871546445, lr=0.013840112205336375, module__linear_pi=0.29893141442208926, module__linear_rho=-2.0812290948520307, module__linear_sigma_1=0.03774845451178121, module__linear_sigma_2=0.0010220980345623607;, score=-2.303 total time=   1.3s\n",
      "[CV 2/2] END criterion__complexity_cost_weight=0.0442147871546445, lr=0.013840112205336375, module__linear_pi=0.29893141442208926, module__linear_rho=-2.0812290948520307, module__linear_sigma_1=0.03774845451178121, module__linear_sigma_2=0.0010220980345623607;, score=-2.303 total time=   1.0s\n",
      "[CV 1/2] END criterion__complexity_cost_weight=0.0004744450106439211, lr=0.003537370476316258, module__linear_pi=0.4423088971002055, module__linear_rho=-4.289602879730562, module__linear_sigma_1=2.236442091962576, module__linear_sigma_2=0.00018974326345394464;, score=-2.245 total time=   0.2s\n",
      "[CV 2/2] END criterion__complexity_cost_weight=0.0004744450106439211, lr=0.003537370476316258, module__linear_pi=0.4423088971002055, module__linear_rho=-4.289602879730562, module__linear_sigma_1=2.236442091962576, module__linear_sigma_2=0.00018974326345394464;, score=-2.236 total time=   0.1s\n",
      "[CV 1/2] END criterion__complexity_cost_weight=0.0002788123382275466, lr=0.0011110318094567843, module__linear_pi=0.10853908530102507, module__linear_rho=-0.8765576738045198, module__linear_sigma_1=0.07567889514999118, module__linear_sigma_2=8.550754870902977e-05;, score=-2.303 total time=   0.2s\n",
      "[CV 2/2] END criterion__complexity_cost_weight=0.0002788123382275466, lr=0.0011110318094567843, module__linear_pi=0.10853908530102507, module__linear_rho=-0.8765576738045198, module__linear_sigma_1=0.07567889514999118, module__linear_sigma_2=8.550754870902977e-05;, score=-2.303 total time=   0.2s\n",
      "[CV 1/2] END criterion__complexity_cost_weight=0.0074031082563132435, lr=0.004508503539492754, module__linear_pi=0.40388964318578835, module__linear_rho=-5.772250121239988, module__linear_sigma_1=1.489104382765376, module__linear_sigma_2=0.0005154469441146281;, score=-2.284 total time=   0.9s\n",
      "[CV 2/2] END criterion__complexity_cost_weight=0.0074031082563132435, lr=0.004508503539492754, module__linear_pi=0.40388964318578835, module__linear_rho=-5.772250121239988, module__linear_sigma_1=1.489104382765376, module__linear_sigma_2=0.0005154469441146281;, score=-2.303 total time=   2.9s\n",
      "[CV 1/2] END criterion__complexity_cost_weight=0.00012316769929805355, lr=0.004449619114897248, module__linear_pi=0.17295868274417758, module__linear_rho=-3.676702345465825, module__linear_sigma_1=0.017951761033295686, module__linear_sigma_2=7.07177354444126e-05;, score=-2.268 total time=   0.2s\n",
      "[CV 2/2] END criterion__complexity_cost_weight=0.00012316769929805355, lr=0.004449619114897248, module__linear_pi=0.17295868274417758, module__linear_rho=-3.676702345465825, module__linear_sigma_1=0.017951761033295686, module__linear_sigma_2=7.07177354444126e-05;, score=-2.264 total time=   0.2s\n",
      "[CV 1/2] END criterion__complexity_cost_weight=1.1443833545422878e-07, lr=0.0018931648783029264, module__linear_pi=0.06525159019095506, module__linear_rho=-0.42930111472237886, module__linear_sigma_1=4.367885153509103, module__linear_sigma_2=4.8735476400045843e-05;, score=-2.304 total time=   0.2s\n",
      "[CV 2/2] END criterion__complexity_cost_weight=1.1443833545422878e-07, lr=0.0018931648783029264, module__linear_pi=0.06525159019095506, module__linear_rho=-0.42930111472237886, module__linear_sigma_1=4.367885153509103, module__linear_sigma_2=4.8735476400045843e-05;, score=-2.303 total time=   0.2s\n",
      "[CV 1/2] END criterion__complexity_cost_weight=0.0020326562629965246, lr=0.002791102463339693, module__linear_pi=0.6487258817916963, module__linear_rho=-2.91051292362825, module__linear_sigma_1=0.9560664327042688, module__linear_sigma_2=0.005176511855757487;, score=-2.306 total time=   0.1s\n",
      "[CV 2/2] END criterion__complexity_cost_weight=0.0020326562629965246, lr=0.002791102463339693, module__linear_pi=0.6487258817916963, module__linear_rho=-2.91051292362825, module__linear_sigma_1=0.9560664327042688, module__linear_sigma_2=0.005176511855757487;, score=-2.267 total time=   0.1s\n",
      "[CV 1/2] END criterion__complexity_cost_weight=0.006241603646046618, lr=0.04060517743017534, module__linear_pi=0.2728914032707763, module__linear_rho=-3.697156215465184, module__linear_sigma_1=22.371595137744112, module__linear_sigma_2=0.0007381015515151158;, score=-2.303 total time=   2.0s\n",
      "[CV 2/2] END criterion__complexity_cost_weight=0.006241603646046618, lr=0.04060517743017534, module__linear_pi=0.2728914032707763, module__linear_rho=-3.697156215465184, module__linear_sigma_1=22.371595137744112, module__linear_sigma_2=0.0007381015515151158;, score=-2.343 total time=   0.3s\n",
      "[CV 1/2] END criterion__complexity_cost_weight=7.993643477267243e-06, lr=0.001450485824846322, module__linear_pi=0.8285430594432162, module__linear_rho=-3.965337757338375, module__linear_sigma_1=0.01013595778777201, module__linear_sigma_2=0.0011945977007674496;, score=-2.280 total time=   0.1s\n",
      "[CV 2/2] END criterion__complexity_cost_weight=7.993643477267243e-06, lr=0.001450485824846322, module__linear_pi=0.8285430594432162, module__linear_rho=-3.965337757338375, module__linear_sigma_1=0.01013595778777201, module__linear_sigma_2=0.0011945977007674496;, score=-2.206 total time=   0.1s\n",
      "[CV 1/2] END criterion__complexity_cost_weight=2.0690633518447368e-05, lr=0.01751317520872859, module__linear_pi=0.1201277800211783, module__linear_rho=-4.456421865561485, module__linear_sigma_1=365.70860764605743, module__linear_sigma_2=0.0006881117666385806;, score=-2.303 total time=   0.8s\n",
      "[CV 2/2] END criterion__complexity_cost_weight=2.0690633518447368e-05, lr=0.01751317520872859, module__linear_pi=0.1201277800211783, module__linear_rho=-4.456421865561485, module__linear_sigma_1=365.70860764605743, module__linear_sigma_2=0.0006881117666385806;, score=-2.303 total time=   0.9s\n",
      "[CV 1/2] END criterion__complexity_cost_weight=6.891393052577481e-05, lr=0.028572777547108776, module__linear_pi=0.673018138896365, module__linear_rho=-4.924605856334182, module__linear_sigma_1=0.22604460311632685, module__linear_sigma_2=0.004381067720358307;, score=-2.303 total time=   1.2s\n",
      "[CV 2/2] END criterion__complexity_cost_weight=6.891393052577481e-05, lr=0.028572777547108776, module__linear_pi=0.673018138896365, module__linear_rho=-4.924605856334182, module__linear_sigma_1=0.22604460311632685, module__linear_sigma_2=0.004381067720358307;, score=-2.303 total time=   1.6s\n",
      "[CV 1/2] END criterion__complexity_cost_weight=0.360278870762058, lr=0.015603508245426731, module__linear_pi=0.5320698746503908, module__linear_rho=-0.5355520213799654, module__linear_sigma_1=20.031703864662603, module__linear_sigma_2=0.006585041920956419;, score=-2.331 total time=   1.0s\n",
      "[CV 2/2] END criterion__complexity_cost_weight=0.360278870762058, lr=0.015603508245426731, module__linear_pi=0.5320698746503908, module__linear_rho=-0.5355520213799654, module__linear_sigma_1=20.031703864662603, module__linear_sigma_2=0.006585041920956419;, score=-2.307 total time=   0.7s\n",
      "[CV 1/2] END criterion__complexity_cost_weight=0.008650889690226373, lr=0.002336961099256682, module__linear_pi=0.876380620415997, module__linear_rho=-2.7894362020650196, module__linear_sigma_1=0.5112897163199294, module__linear_sigma_2=4.989002959042679e-05;, score=-2.258 total time=   0.4s\n",
      "[CV 2/2] END criterion__complexity_cost_weight=0.008650889690226373, lr=0.002336961099256682, module__linear_pi=0.876380620415997, module__linear_rho=-2.7894362020650196, module__linear_sigma_1=0.5112897163199294, module__linear_sigma_2=4.989002959042679e-05;, score=-2.210 total time=   0.2s\n",
      "[CV 1/2] END criterion__complexity_cost_weight=7.888826428418778e-06, lr=0.008381341767388547, module__linear_pi=0.04644168367162471, module__linear_rho=-3.8134479863274056, module__linear_sigma_1=0.1887591866357551, module__linear_sigma_2=1.9574743723917215e-05;, score=-2.303 total time=   0.7s\n",
      "[CV 2/2] END criterion__complexity_cost_weight=7.888826428418778e-06, lr=0.008381341767388547, module__linear_pi=0.04644168367162471, module__linear_rho=-3.8134479863274056, module__linear_sigma_1=0.1887591866357551, module__linear_sigma_2=1.9574743723917215e-05;, score=-2.303 total time=   0.3s\n",
      "[CV 1/2] END criterion__complexity_cost_weight=0.00033021993398992807, lr=0.00402207309701893, module__linear_pi=0.8781816127594143, module__linear_rho=-2.839699209476648, module__linear_sigma_1=0.053599558447233096, module__linear_sigma_2=1.7074882565547516e-05;, score=-2.255 total time=   0.3s\n",
      "[CV 2/2] END criterion__complexity_cost_weight=0.00033021993398992807, lr=0.00402207309701893, module__linear_pi=0.8781816127594143, module__linear_rho=-2.839699209476648, module__linear_sigma_1=0.053599558447233096, module__linear_sigma_2=1.7074882565547516e-05;, score=-2.303 total time=   0.5s\n",
      "[CV 1/2] END criterion__complexity_cost_weight=0.0009561075881347498, lr=0.02109604308926304, module__linear_pi=0.41014106529265293, module__linear_rho=-2.79158890447969, module__linear_sigma_1=107.62180733970554, module__linear_sigma_2=0.0009015788693057783;, score=-2.273 total time=   0.1s\n",
      "[CV 2/2] END criterion__complexity_cost_weight=0.0009561075881347498, lr=0.02109604308926304, module__linear_pi=0.41014106529265293, module__linear_rho=-2.79158890447969, module__linear_sigma_1=107.62180733970554, module__linear_sigma_2=0.0009015788693057783;, score=-2.302 total time=   1.2s\n",
      "[CV 1/2] END criterion__complexity_cost_weight=0.0017832139093760407, lr=0.03297927700444882, module__linear_pi=0.16461459932799738, module__linear_rho=-4.963432287596236, module__linear_sigma_1=529.6791345897201, module__linear_sigma_2=0.002641405898224184;, score=-2.303 total time=   1.7s\n",
      "[CV 2/2] END criterion__complexity_cost_weight=0.0017832139093760407, lr=0.03297927700444882, module__linear_pi=0.16461459932799738, module__linear_rho=-4.963432287596236, module__linear_sigma_1=529.6791345897201, module__linear_sigma_2=0.002641405898224184;, score=-2.296 total time=   1.8s\n",
      "[CV 1/2] END criterion__complexity_cost_weight=0.6875836524599367, lr=0.00782301648706195, module__linear_pi=0.4249799770179429, module__linear_rho=-0.27847931252276226, module__linear_sigma_1=12.71457880996174, module__linear_sigma_2=0.00017787724017911708;, score=-2.316 total time=   2.9s\n",
      "[CV 2/2] END criterion__complexity_cost_weight=0.6875836524599367, lr=0.00782301648706195, module__linear_pi=0.4249799770179429, module__linear_rho=-0.27847931252276226, module__linear_sigma_1=12.71457880996174, module__linear_sigma_2=0.00017787724017911708;, score=-2.323 total time=   1.5s\n",
      "[CV 1/2] END criterion__complexity_cost_weight=0.00010977634675394929, lr=0.006508081613200146, module__linear_pi=0.06032034514385365, module__linear_rho=-5.059690836182355, module__linear_sigma_1=14.92006435178533, module__linear_sigma_2=0.001172274802569178;, score=-2.283 total time=   0.1s\n",
      "[CV 2/2] END criterion__complexity_cost_weight=0.00010977634675394929, lr=0.006508081613200146, module__linear_pi=0.06032034514385365, module__linear_rho=-5.059690836182355, module__linear_sigma_1=14.92006435178533, module__linear_sigma_2=0.001172274802569178;, score=-2.303 total time=   0.8s\n",
      "[CV 1/2] END criterion__complexity_cost_weight=0.15415494506462896, lr=0.009461231263679414, module__linear_pi=0.14707076358056115, module__linear_rho=-1.8687590243849854, module__linear_sigma_1=0.06407579290004618, module__linear_sigma_2=0.00039408875226296813;, score=-2.303 total time=   0.6s\n",
      "[CV 2/2] END criterion__complexity_cost_weight=0.15415494506462896, lr=0.009461231263679414, module__linear_pi=0.14707076358056115, module__linear_rho=-1.8687590243849854, module__linear_sigma_1=0.06407579290004618, module__linear_sigma_2=0.00039408875226296813;, score=-2.299 total time=   0.6s\n",
      "[CV 1/2] END criterion__complexity_cost_weight=2.580401660358872e-06, lr=0.0029476046010082878, module__linear_pi=0.8706149368407702, module__linear_rho=-2.6733268456525536, module__linear_sigma_1=55.01483805893611, module__linear_sigma_2=2.8595818141118295e-05;, score=-2.281 total time=   0.2s\n",
      "[CV 2/2] END criterion__complexity_cost_weight=2.580401660358872e-06, lr=0.0029476046010082878, module__linear_pi=0.8706149368407702, module__linear_rho=-2.6733268456525536, module__linear_sigma_1=55.01483805893611, module__linear_sigma_2=2.8595818141118295e-05;, score=-2.273 total time=   0.1s\n",
      "[CV 1/2] END criterion__complexity_cost_weight=0.00013224615023444956, lr=0.004642277634338229, module__linear_pi=0.9767093797164481, module__linear_rho=-1.551985826844688, module__linear_sigma_1=130.3316125553808, module__linear_sigma_2=0.0011005400644101865;, score=-2.302 total time=   0.5s\n",
      "[CV 2/2] END criterion__complexity_cost_weight=0.00013224615023444956, lr=0.004642277634338229, module__linear_pi=0.9767093797164481, module__linear_rho=-1.551985826844688, module__linear_sigma_1=130.3316125553808, module__linear_sigma_2=0.0011005400644101865;, score=-2.345 total time=   0.4s\n",
      "[CV 1/2] END criterion__complexity_cost_weight=2.9496452696509213e-07, lr=0.02142021019819049, module__linear_pi=0.7255433240828253, module__linear_rho=-1.8063691190750895, module__linear_sigma_1=1.3757121353688595, module__linear_sigma_2=6.566567843237838e-05;, score=-2.303 total time=   0.6s\n",
      "[CV 2/2] END criterion__complexity_cost_weight=2.9496452696509213e-07, lr=0.02142021019819049, module__linear_pi=0.7255433240828253, module__linear_rho=-1.8063691190750895, module__linear_sigma_1=1.3757121353688595, module__linear_sigma_2=6.566567843237838e-05;, score=-2.301 total time=   0.6s\n",
      "[CV 1/2] END criterion__complexity_cost_weight=0.0002885775559100736, lr=0.004896254513293777, module__linear_pi=0.10595217027035497, module__linear_rho=-1.3645092004323374, module__linear_sigma_1=20.400911314981364, module__linear_sigma_2=2.828480061983101e-05;, score=-2.315 total time=   0.6s\n",
      "[CV 2/2] END criterion__complexity_cost_weight=0.0002885775559100736, lr=0.004896254513293777, module__linear_pi=0.10595217027035497, module__linear_rho=-1.3645092004323374, module__linear_sigma_1=20.400911314981364, module__linear_sigma_2=2.828480061983101e-05;, score=-2.271 total time=   1.5s\n",
      "[CV 1/2] END criterion__complexity_cost_weight=0.0019553742016583894, lr=0.04108945096835461, module__linear_pi=0.5324771182970127, module__linear_rho=-5.730835064712902, module__linear_sigma_1=684.3177257656607, module__linear_sigma_2=0.0008853735078825481;, score=-2.342 total time=   0.4s\n",
      "[CV 2/2] END criterion__complexity_cost_weight=0.0019553742016583894, lr=0.04108945096835461, module__linear_pi=0.5324771182970127, module__linear_rho=-5.730835064712902, module__linear_sigma_1=684.3177257656607, module__linear_sigma_2=0.0008853735078825481;, score=-2.303 total time=   2.4s\n",
      "[CV 1/2] END criterion__complexity_cost_weight=0.0002305372186721954, lr=0.041663091659407, module__linear_pi=0.4457848339722408, module__linear_rho=-4.715952041283107, module__linear_sigma_1=0.01042341814622219, module__linear_sigma_2=0.002427197937518215;, score=-2.303 total time=   0.8s\n",
      "[CV 2/2] END criterion__complexity_cost_weight=0.0002305372186721954, lr=0.041663091659407, module__linear_pi=0.4457848339722408, module__linear_rho=-4.715952041283107, module__linear_sigma_1=0.01042341814622219, module__linear_sigma_2=0.002427197937518215;, score=-2.303 total time=   0.5s\n",
      "[CV 1/2] END criterion__complexity_cost_weight=1.09190478717284e-06, lr=0.02259433346976006, module__linear_pi=0.08130788761506391, module__linear_rho=-2.19964934170443, module__linear_sigma_1=0.013097492847407789, module__linear_sigma_2=0.001453486126613338;, score=-2.276 total time=   0.3s\n",
      "[CV 2/2] END criterion__complexity_cost_weight=1.09190478717284e-06, lr=0.02259433346976006, module__linear_pi=0.08130788761506391, module__linear_rho=-2.19964934170443, module__linear_sigma_1=0.013097492847407789, module__linear_sigma_2=0.001453486126613338;, score=-2.284 total time=   0.3s\n",
      "[CV 1/2] END criterion__complexity_cost_weight=1.253562633744192e-07, lr=0.03338330838080296, module__linear_pi=0.588065513394617, module__linear_rho=-1.2430530064362664, module__linear_sigma_1=416.67360964532133, module__linear_sigma_2=0.0005434866541299734;, score=-2.328 total time=   0.5s\n",
      "[CV 2/2] END criterion__complexity_cost_weight=1.253562633744192e-07, lr=0.03338330838080296, module__linear_pi=0.588065513394617, module__linear_rho=-1.2430530064362664, module__linear_sigma_1=416.67360964532133, module__linear_sigma_2=0.0005434866541299734;, score=-2.303 total time=   0.4s\n",
      "[CV 1/2] END criterion__complexity_cost_weight=0.000714885815012112, lr=0.037775905845338784, module__linear_pi=0.6914748070298812, module__linear_rho=-1.2452332040320382, module__linear_sigma_1=3.4050933995052954, module__linear_sigma_2=0.00961020737279061;, score=-2.329 total time=   0.2s\n",
      "[CV 2/2] END criterion__complexity_cost_weight=0.000714885815012112, lr=0.037775905845338784, module__linear_pi=0.6914748070298812, module__linear_rho=-1.2452332040320382, module__linear_sigma_1=3.4050933995052954, module__linear_sigma_2=0.00961020737279061;, score=-2.303 total time=   0.7s\n",
      "[CV 1/2] END criterion__complexity_cost_weight=0.0008668566943600592, lr=0.001736156021959225, module__linear_pi=0.0408057088494187, module__linear_rho=-0.9503608791032576, module__linear_sigma_1=0.028889829326746438, module__linear_sigma_2=0.0005759715636555037;, score=-2.302 total time=   0.4s\n",
      "[CV 2/2] END criterion__complexity_cost_weight=0.0008668566943600592, lr=0.001736156021959225, module__linear_pi=0.0408057088494187, module__linear_rho=-0.9503608791032576, module__linear_sigma_1=0.028889829326746438, module__linear_sigma_2=0.0005759715636555037;, score=-2.303 total time=   0.1s\n",
      "[CV 1/2] END criterion__complexity_cost_weight=0.00031124168592643476, lr=0.02420709861479145, module__linear_pi=0.369607044598686, module__linear_rho=-5.007400592989222, module__linear_sigma_1=0.07815744275791564, module__linear_sigma_2=2.2514013594865727e-05;, score=-2.303 total time=   1.3s\n",
      "[CV 2/2] END criterion__complexity_cost_weight=0.00031124168592643476, lr=0.02420709861479145, module__linear_pi=0.369607044598686, module__linear_rho=-5.007400592989222, module__linear_sigma_1=0.07815744275791564, module__linear_sigma_2=2.2514013594865727e-05;, score=-2.303 total time=   0.7s\n",
      "[CV 1/2] END criterion__complexity_cost_weight=0.0004316896279768428, lr=0.0013210289221390887, module__linear_pi=0.4205862884409376, module__linear_rho=-4.6159041371442555, module__linear_sigma_1=0.05142708985345212, module__linear_sigma_2=0.0015584113431091045;, score=-2.277 total time=   0.2s\n",
      "[CV 2/2] END criterion__complexity_cost_weight=0.0004316896279768428, lr=0.0013210289221390887, module__linear_pi=0.4205862884409376, module__linear_rho=-4.6159041371442555, module__linear_sigma_1=0.05142708985345212, module__linear_sigma_2=0.0015584113431091045;, score=-2.191 total time=   0.2s\n",
      "[CV 1/2] END criterion__complexity_cost_weight=0.038878493359878, lr=0.018153301668276854, module__linear_pi=0.3946774279364177, module__linear_rho=-3.1567488002769375, module__linear_sigma_1=39.35615096666533, module__linear_sigma_2=0.0008499054325104548;, score=-2.304 total time=   3.2s\n",
      "[CV 2/2] END criterion__complexity_cost_weight=0.038878493359878, lr=0.018153301668276854, module__linear_pi=0.3946774279364177, module__linear_rho=-3.1567488002769375, module__linear_sigma_1=39.35615096666533, module__linear_sigma_2=0.0008499054325104548;, score=-2.304 total time=   1.4s\n",
      "[CV 1/2] END criterion__complexity_cost_weight=0.0005502555750797153, lr=0.002553020716146996, module__linear_pi=0.25138514753378016, module__linear_rho=-2.6984649187280603, module__linear_sigma_1=87.58631968696952, module__linear_sigma_2=0.00013536130213861477;, score=-2.258 total time=   0.2s\n",
      "[CV 2/2] END criterion__complexity_cost_weight=0.0005502555750797153, lr=0.002553020716146996, module__linear_pi=0.25138514753378016, module__linear_rho=-2.6984649187280603, module__linear_sigma_1=87.58631968696952, module__linear_sigma_2=0.00013536130213861477;, score=-2.294 total time=   0.1s\n",
      "[CV 1/2] END criterion__complexity_cost_weight=0.0008707874913413341, lr=0.04794013664547767, module__linear_pi=0.3562376167505199, module__linear_rho=-1.2392584518143526, module__linear_sigma_1=8.501168805253693, module__linear_sigma_2=0.00014593584015667617;, score=-2.303 total time=   1.0s\n",
      "[CV 2/2] END criterion__complexity_cost_weight=0.0008707874913413341, lr=0.04794013664547767, module__linear_pi=0.3562376167505199, module__linear_rho=-1.2392584518143526, module__linear_sigma_1=8.501168805253693, module__linear_sigma_2=0.00014593584015667617;, score=-2.303 total time=   0.5s\n",
      "[CV 1/2] END criterion__complexity_cost_weight=0.0003720510513806176, lr=0.0013031088562780787, module__linear_pi=0.5859378936584149, module__linear_rho=-1.0047850284281097, module__linear_sigma_1=0.02203396423910118, module__linear_sigma_2=0.0008729881715163759;, score=-2.319 total time=   0.4s\n",
      "[CV 2/2] END criterion__complexity_cost_weight=0.0003720510513806176, lr=0.0013031088562780787, module__linear_pi=0.5859378936584149, module__linear_rho=-1.0047850284281097, module__linear_sigma_1=0.02203396423910118, module__linear_sigma_2=0.0008729881715163759;, score=-2.303 total time=   0.1s\n",
      "[CV 1/2] END criterion__complexity_cost_weight=2.2736163700523954e-07, lr=0.0015563461476745223, module__linear_pi=0.6263424068737182, module__linear_rho=-2.791896637933817, module__linear_sigma_1=0.0885290221005597, module__linear_sigma_2=0.00010777232736200214;, score=-2.261 total time=   0.2s\n",
      "[CV 2/2] END criterion__complexity_cost_weight=2.2736163700523954e-07, lr=0.0015563461476745223, module__linear_pi=0.6263424068737182, module__linear_rho=-2.791896637933817, module__linear_sigma_1=0.0885290221005597, module__linear_sigma_2=0.00010777232736200214;, score=-2.269 total time=   0.1s\n",
      "[CV 1/2] END criterion__complexity_cost_weight=6.250552045066251e-07, lr=0.014931717661147132, module__linear_pi=0.6802856090229452, module__linear_rho=-0.22734998299588316, module__linear_sigma_1=27.618940900268196, module__linear_sigma_2=0.005670184231168099;, score=-2.304 total time=   0.4s\n",
      "[CV 2/2] END criterion__complexity_cost_weight=6.250552045066251e-07, lr=0.014931717661147132, module__linear_pi=0.6802856090229452, module__linear_rho=-0.22734998299588316, module__linear_sigma_1=27.618940900268196, module__linear_sigma_2=0.005670184231168099;, score=-2.304 total time=   0.4s\n",
      "[CV 1/2] END criterion__complexity_cost_weight=0.04161055547926972, lr=0.009759763119385654, module__linear_pi=0.5415008793567033, module__linear_rho=-5.40667448440617, module__linear_sigma_1=0.07291245555170234, module__linear_sigma_2=0.0006468280983094427;, score=-2.303 total time=   2.2s\n",
      "[CV 2/2] END criterion__complexity_cost_weight=0.04161055547926972, lr=0.009759763119385654, module__linear_pi=0.5415008793567033, module__linear_rho=-5.40667448440617, module__linear_sigma_1=0.07291245555170234, module__linear_sigma_2=0.0006468280983094427;, score=-2.303 total time=   2.1s\n",
      "[CV 1/2] END criterion__complexity_cost_weight=4.508522733441439e-05, lr=0.0015863608695052993, module__linear_pi=0.809282206434085, module__linear_rho=-3.7728327665972303, module__linear_sigma_1=0.022687442011690227, module__linear_sigma_2=2.0704938888217173e-05;, score=-2.248 total time=   0.1s\n",
      "[CV 2/2] END criterion__complexity_cost_weight=4.508522733441439e-05, lr=0.0015863608695052993, module__linear_pi=0.809282206434085, module__linear_rho=-3.7728327665972303, module__linear_sigma_1=0.022687442011690227, module__linear_sigma_2=2.0704938888217173e-05;, score=-2.278 total time=   0.1s\n",
      "[CV 1/2] END criterion__complexity_cost_weight=2.589342760735507e-07, lr=0.0023390115366104716, module__linear_pi=0.5536397455628724, module__linear_rho=-2.980369312046407, module__linear_sigma_1=0.10020100278362967, module__linear_sigma_2=2.3999953845488578e-05;, score=-2.261 total time=   0.1s\n",
      "[CV 2/2] END criterion__complexity_cost_weight=2.589342760735507e-07, lr=0.0023390115366104716, module__linear_pi=0.5536397455628724, module__linear_rho=-2.980369312046407, module__linear_sigma_1=0.10020100278362967, module__linear_sigma_2=2.3999953845488578e-05;, score=-2.234 total time=   0.1s\n",
      "[CV 1/2] END criterion__complexity_cost_weight=0.00020576034670940439, lr=0.011352465527792163, module__linear_pi=0.48906192812475746, module__linear_rho=-2.9518189067958707, module__linear_sigma_1=397.858843568884, module__linear_sigma_2=0.0032748405014136686;, score=-2.286 total time=   0.2s\n",
      "[CV 2/2] END criterion__complexity_cost_weight=0.00020576034670940439, lr=0.011352465527792163, module__linear_pi=0.48906192812475746, module__linear_rho=-2.9518189067958707, module__linear_sigma_1=397.858843568884, module__linear_sigma_2=0.0032748405014136686;, score=-2.303 total time=   0.4s\n",
      "[CV 1/2] END criterion__complexity_cost_weight=0.017096493681725465, lr=0.0047129556775618, module__linear_pi=0.5705873461033832, module__linear_rho=-1.640336236079337, module__linear_sigma_1=1.5362582467705495, module__linear_sigma_2=1.3851901953431564e-05;, score=-2.303 total time=   1.3s\n",
      "[CV 2/2] END criterion__complexity_cost_weight=0.017096493681725465, lr=0.0047129556775618, module__linear_pi=0.5705873461033832, module__linear_rho=-1.640336236079337, module__linear_sigma_1=1.5362582467705495, module__linear_sigma_2=1.3851901953431564e-05;, score=-2.303 total time=   0.9s\n",
      "[CV 1/2] END criterion__complexity_cost_weight=0.004571533707591426, lr=0.03002102237183788, module__linear_pi=0.3103937293746838, module__linear_rho=-1.2564414321382689, module__linear_sigma_1=38.126834121028416, module__linear_sigma_2=0.0008539442156011508;, score=-2.303 total time=   1.1s\n",
      "[CV 2/2] END criterion__complexity_cost_weight=0.004571533707591426, lr=0.03002102237183788, module__linear_pi=0.3103937293746838, module__linear_rho=-1.2564414321382689, module__linear_sigma_1=38.126834121028416, module__linear_sigma_2=0.0008539442156011508;, score=-2.303 total time=   1.0s\n",
      "[CV 1/2] END criterion__complexity_cost_weight=1.6873677355222504e-07, lr=0.0010584551474846523, module__linear_pi=0.5086307180003656, module__linear_rho=-2.79344216393611, module__linear_sigma_1=0.03590186088044588, module__linear_sigma_2=0.008238726694386474;, score=-2.258 total time=   0.1s\n",
      "[CV 2/2] END criterion__complexity_cost_weight=1.6873677355222504e-07, lr=0.0010584551474846523, module__linear_pi=0.5086307180003656, module__linear_rho=-2.79344216393611, module__linear_sigma_1=0.03590186088044588, module__linear_sigma_2=0.008238726694386474;, score=-2.244 total time=   0.1s\n",
      "[CV 1/2] END criterion__complexity_cost_weight=4.601577731969536e-06, lr=0.01967082517719951, module__linear_pi=0.4157789420520682, module__linear_rho=-3.2894886842019795, module__linear_sigma_1=125.56384805104258, module__linear_sigma_2=0.008314064996996304;, score=-2.252 total time=   0.5s\n",
      "[CV 2/2] END criterion__complexity_cost_weight=4.601577731969536e-06, lr=0.01967082517719951, module__linear_pi=0.4157789420520682, module__linear_rho=-3.2894886842019795, module__linear_sigma_1=125.56384805104258, module__linear_sigma_2=0.008314064996996304;, score=-2.235 total time=   0.2s\n",
      "[CV 1/2] END criterion__complexity_cost_weight=1.9758939795698631e-07, lr=0.018180321775397586, module__linear_pi=0.6506493884680205, module__linear_rho=-2.7706076599516662, module__linear_sigma_1=0.8340716575222169, module__linear_sigma_2=0.00031315486894732805;, score=-2.309 total time=   0.3s\n",
      "[CV 2/2] END criterion__complexity_cost_weight=1.9758939795698631e-07, lr=0.018180321775397586, module__linear_pi=0.6506493884680205, module__linear_rho=-2.7706076599516662, module__linear_sigma_1=0.8340716575222169, module__linear_sigma_2=0.00031315486894732805;, score=-2.303 total time=   0.3s\n",
      "[CV 1/2] END criterion__complexity_cost_weight=8.075977621647198e-06, lr=0.03847433327251244, module__linear_pi=0.1338479917662404, module__linear_rho=-5.082781705134703, module__linear_sigma_1=34.83674673848032, module__linear_sigma_2=0.0002489057562084793;, score=-2.303 total time=   0.8s\n",
      "[CV 2/2] END criterion__complexity_cost_weight=8.075977621647198e-06, lr=0.03847433327251244, module__linear_pi=0.1338479917662404, module__linear_rho=-5.082781705134703, module__linear_sigma_1=34.83674673848032, module__linear_sigma_2=0.0002489057562084793;, score=-2.279 total time=   0.2s\n",
      "[CV 1/2] END criterion__complexity_cost_weight=0.002778104089189553, lr=0.010987780112126611, module__linear_pi=0.7185142907009551, module__linear_rho=-5.144591782731833, module__linear_sigma_1=32.765330021597826, module__linear_sigma_2=9.774178022107606e-05;, score=-2.273 total time=   0.3s\n",
      "[CV 2/2] END criterion__complexity_cost_weight=0.002778104089189553, lr=0.010987780112126611, module__linear_pi=0.7185142907009551, module__linear_rho=-5.144591782731833, module__linear_sigma_1=32.765330021597826, module__linear_sigma_2=9.774178022107606e-05;, score=-2.303 total time=   6.5s\n",
      "[CV 1/2] END criterion__complexity_cost_weight=0.006978952722898527, lr=0.0039420153996235245, module__linear_pi=0.8251697029522134, module__linear_rho=-0.9217211983922304, module__linear_sigma_1=14.9120130016012, module__linear_sigma_2=6.322336748086425e-05;, score=-2.303 total time=   0.5s\n",
      "[CV 2/2] END criterion__complexity_cost_weight=0.006978952722898527, lr=0.0039420153996235245, module__linear_pi=0.8251697029522134, module__linear_rho=-0.9217211983922304, module__linear_sigma_1=14.9120130016012, module__linear_sigma_2=6.322336748086425e-05;, score=-2.303 total time=   0.9s\n",
      "[CV 1/2] END criterion__complexity_cost_weight=7.170728678244286e-05, lr=0.004130764944992028, module__linear_pi=0.18202758805153918, module__linear_rho=-5.601041871684803, module__linear_sigma_1=12.840697626002774, module__linear_sigma_2=0.00022563029505587006;, score=-2.303 total time=   0.9s\n",
      "[CV 2/2] END criterion__complexity_cost_weight=7.170728678244286e-05, lr=0.004130764944992028, module__linear_pi=0.18202758805153918, module__linear_rho=-5.601041871684803, module__linear_sigma_1=12.840697626002774, module__linear_sigma_2=0.00022563029505587006;, score=-2.239 total time=   0.1s\n",
      "[CV 1/2] END criterion__complexity_cost_weight=2.949799839174263e-07, lr=0.011754858428716243, module__linear_pi=0.5985840189263705, module__linear_rho=-2.855632777661032, module__linear_sigma_1=0.03556861131340059, module__linear_sigma_2=0.0002508921114959749;, score=-2.303 total time=   0.4s\n",
      "[CV 2/2] END criterion__complexity_cost_weight=2.949799839174263e-07, lr=0.011754858428716243, module__linear_pi=0.5985840189263705, module__linear_rho=-2.855632777661032, module__linear_sigma_1=0.03556861131340059, module__linear_sigma_2=0.0002508921114959749;, score=-2.280 total time=   0.1s\n",
      "[CV 1/2] END criterion__complexity_cost_weight=0.00034512068390842965, lr=0.001594801953573831, module__linear_pi=0.25092402117616486, module__linear_rho=-0.016561964458006173, module__linear_sigma_1=745.603445644626, module__linear_sigma_2=0.004822418929153445;, score=-2.314 total time=   0.2s\n",
      "[CV 2/2] END criterion__complexity_cost_weight=0.00034512068390842965, lr=0.001594801953573831, module__linear_pi=0.25092402117616486, module__linear_rho=-0.016561964458006173, module__linear_sigma_1=745.603445644626, module__linear_sigma_2=0.004822418929153445;, score=-2.304 total time=   0.3s\n",
      "[CV 1/2] END criterion__complexity_cost_weight=0.0002710522912347615, lr=0.017520344468486222, module__linear_pi=0.1061126094507735, module__linear_rho=-3.438230265175312, module__linear_sigma_1=30.664460925361993, module__linear_sigma_2=8.443212087969268e-05;, score=-2.286 total time=   0.2s\n",
      "[CV 2/2] END criterion__complexity_cost_weight=0.0002710522912347615, lr=0.017520344468486222, module__linear_pi=0.1061126094507735, module__linear_rho=-3.438230265175312, module__linear_sigma_1=30.664460925361993, module__linear_sigma_2=8.443212087969268e-05;, score=-2.268 total time=   0.4s\n",
      "[CV 1/2] END criterion__complexity_cost_weight=0.07960929427071921, lr=0.022413978865935994, module__linear_pi=0.28204824177911925, module__linear_rho=-5.735189853146616, module__linear_sigma_1=13.543471844986199, module__linear_sigma_2=5.040833324561387e-05;, score=-2.348 total time=   4.2s\n",
      "[CV 2/2] END criterion__complexity_cost_weight=0.07960929427071921, lr=0.022413978865935994, module__linear_pi=0.28204824177911925, module__linear_rho=-5.735189853146616, module__linear_sigma_1=13.543471844986199, module__linear_sigma_2=5.040833324561387e-05;, score=-2.304 total time=   5.3s\n",
      "[CV 1/2] END criterion__complexity_cost_weight=0.0177970134460462, lr=0.008980274446322123, module__linear_pi=0.866598525439719, module__linear_rho=-5.55088624729688, module__linear_sigma_1=1.6537582431079394, module__linear_sigma_2=0.0037258474386886857;, score=-2.303 total time=   2.7s\n",
      "[CV 2/2] END criterion__complexity_cost_weight=0.0177970134460462, lr=0.008980274446322123, module__linear_pi=0.866598525439719, module__linear_rho=-5.55088624729688, module__linear_sigma_1=1.6537582431079394, module__linear_sigma_2=0.0037258474386886857;, score=-2.303 total time=   3.1s\n",
      "[CV 1/2] END criterion__complexity_cost_weight=0.05760438632104329, lr=0.026076003438520394, module__linear_pi=0.07803053963627049, module__linear_rho=-3.1278946295509105, module__linear_sigma_1=9.525669298345397, module__linear_sigma_2=0.00041550333971598376;, score=-2.303 total time=   2.6s\n",
      "[CV 2/2] END criterion__complexity_cost_weight=0.05760438632104329, lr=0.026076003438520394, module__linear_pi=0.07803053963627049, module__linear_rho=-3.1278946295509105, module__linear_sigma_1=9.525669298345397, module__linear_sigma_2=0.00041550333971598376;, score=-2.305 total time=   3.0s\n",
      "[CV 1/2] END criterion__complexity_cost_weight=1.202808682463591e-07, lr=0.020304581604516547, module__linear_pi=0.7422980631726199, module__linear_rho=-3.0349211382326917, module__linear_sigma_1=0.055655722754479414, module__linear_sigma_2=3.270474956736672e-05;, score=-2.303 total time=   0.4s\n",
      "[CV 2/2] END criterion__complexity_cost_weight=1.202808682463591e-07, lr=0.020304581604516547, module__linear_pi=0.7422980631726199, module__linear_rho=-3.0349211382326917, module__linear_sigma_1=0.055655722754479414, module__linear_sigma_2=3.270474956736672e-05;, score=-2.303 total time=   0.2s\n",
      "[CV 1/2] END criterion__complexity_cost_weight=1.178475563828679e-07, lr=0.008605133894076689, module__linear_pi=0.7026245931199623, module__linear_rho=-1.973602352474341, module__linear_sigma_1=4.3404763766725765, module__linear_sigma_2=0.00018227693760950383;, score=-2.303 total time=   0.3s\n",
      "[CV 2/2] END criterion__complexity_cost_weight=1.178475563828679e-07, lr=0.008605133894076689, module__linear_pi=0.7026245931199623, module__linear_rho=-1.973602352474341, module__linear_sigma_1=4.3404763766725765, module__linear_sigma_2=0.00018227693760950383;, score=-2.303 total time=   0.4s\n",
      "[CV 1/2] END criterion__complexity_cost_weight=0.008525178299942605, lr=0.00862619762292426, module__linear_pi=0.5881006849733352, module__linear_rho=-5.43198467315589, module__linear_sigma_1=775.3620331410531, module__linear_sigma_2=1.1490227728202732e-05;, score=-2.262 total time=   3.6s\n",
      "[CV 2/2] END criterion__complexity_cost_weight=0.008525178299942605, lr=0.00862619762292426, module__linear_pi=0.5881006849733352, module__linear_rho=-5.43198467315589, module__linear_sigma_1=775.3620331410531, module__linear_sigma_2=1.1490227728202732e-05;, score=-2.303 total time=   8.8s\n",
      "[CV 1/2] END criterion__complexity_cost_weight=0.0040949416008795965, lr=0.01625598270211327, module__linear_pi=0.40308204727823094, module__linear_rho=-1.7330580781214175, module__linear_sigma_1=633.928483164042, module__linear_sigma_2=0.001607112838041592;, score=-2.295 total time=   0.4s\n",
      "[CV 2/2] END criterion__complexity_cost_weight=0.0040949416008795965, lr=0.01625598270211327, module__linear_pi=0.40308204727823094, module__linear_rho=-1.7330580781214175, module__linear_sigma_1=633.928483164042, module__linear_sigma_2=0.001607112838041592;, score=-2.303 total time=   0.9s\n",
      "[CV 1/2] END criterion__complexity_cost_weight=0.036610729706290215, lr=0.0023323320196612556, module__linear_pi=0.607468737685217, module__linear_rho=-4.701075303403688, module__linear_sigma_1=15.878426619116109, module__linear_sigma_2=0.0035183757850176228;, score=-2.234 total time=   1.6s\n",
      "[CV 2/2] END criterion__complexity_cost_weight=0.036610729706290215, lr=0.0023323320196612556, module__linear_pi=0.607468737685217, module__linear_rho=-4.701075303403688, module__linear_sigma_1=15.878426619116109, module__linear_sigma_2=0.0035183757850176228;, score=-2.219 total time=   1.9s\n",
      "[CV 1/2] END criterion__complexity_cost_weight=4.977133499662538e-05, lr=0.002335912853353432, module__linear_pi=0.903237982249321, module__linear_rho=-4.38891086734766, module__linear_sigma_1=0.3087608502712293, module__linear_sigma_2=0.009020379872215031;, score=-2.306 total time=   0.2s\n",
      "[CV 2/2] END criterion__complexity_cost_weight=4.977133499662538e-05, lr=0.002335912853353432, module__linear_pi=0.903237982249321, module__linear_rho=-4.38891086734766, module__linear_sigma_1=0.3087608502712293, module__linear_sigma_2=0.009020379872215031;, score=-2.274 total time=   0.1s\n",
      "[CV 1/2] END criterion__complexity_cost_weight=0.42433258246447964, lr=0.027108824741480058, module__linear_pi=0.1237339382453081, module__linear_rho=-1.2999839413214627, module__linear_sigma_1=1.206119155276026, module__linear_sigma_2=0.00018599842887794357;, score=-2.304 total time=   0.7s\n",
      "[CV 2/2] END criterion__complexity_cost_weight=0.42433258246447964, lr=0.027108824741480058, module__linear_pi=0.1237339382453081, module__linear_rho=-1.2999839413214627, module__linear_sigma_1=1.206119155276026, module__linear_sigma_2=0.00018599842887794357;, score=-2.305 total time=   0.7s\n",
      "[CV 1/2] END criterion__complexity_cost_weight=9.290477620112872e-06, lr=0.0030843751354958653, module__linear_pi=0.20204535919546074, module__linear_rho=-4.030814662741229, module__linear_sigma_1=0.019102786762326882, module__linear_sigma_2=0.00015713151378473882;, score=-2.307 total time=   0.2s\n",
      "[CV 2/2] END criterion__complexity_cost_weight=9.290477620112872e-06, lr=0.0030843751354958653, module__linear_pi=0.20204535919546074, module__linear_rho=-4.030814662741229, module__linear_sigma_1=0.019102786762326882, module__linear_sigma_2=0.00015713151378473882;, score=-2.263 total time=   0.1s\n",
      "[CV 1/2] END criterion__complexity_cost_weight=0.00036056475152378045, lr=0.04896066298096587, module__linear_pi=0.19232704980689763, module__linear_rho=-1.8467715279492563, module__linear_sigma_1=0.20935345330310623, module__linear_sigma_2=8.622236164325494e-05;, score=-2.303 total time=   0.3s\n",
      "[CV 2/2] END criterion__complexity_cost_weight=0.00036056475152378045, lr=0.04896066298096587, module__linear_pi=0.19232704980689763, module__linear_rho=-1.8467715279492563, module__linear_sigma_1=0.20935345330310623, module__linear_sigma_2=8.622236164325494e-05;, score=-2.303 total time=   0.8s\n",
      "[CV 1/2] END criterion__complexity_cost_weight=0.33695995303181475, lr=0.008779485436749283, module__linear_pi=0.8425367793267784, module__linear_rho=-0.2032889319594986, module__linear_sigma_1=5.7362629597965, module__linear_sigma_2=0.0035712824900900916;, score=-2.306 total time=   1.3s\n",
      "[CV 2/2] END criterion__complexity_cost_weight=0.33695995303181475, lr=0.008779485436749283, module__linear_pi=0.8425367793267784, module__linear_rho=-0.2032889319594986, module__linear_sigma_1=5.7362629597965, module__linear_sigma_2=0.0035712824900900916;, score=-2.305 total time=   0.8s\n",
      "[CV 1/2] END criterion__complexity_cost_weight=0.3046630693729086, lr=0.005220062910938053, module__linear_pi=0.11094708684502586, module__linear_rho=-3.107943560984335, module__linear_sigma_1=0.3045715505100258, module__linear_sigma_2=0.0038889796410830073;, score=-2.279 total time=   0.3s\n",
      "[CV 2/2] END criterion__complexity_cost_weight=0.3046630693729086, lr=0.005220062910938053, module__linear_pi=0.11094708684502586, module__linear_rho=-3.107943560984335, module__linear_sigma_1=0.3045715505100258, module__linear_sigma_2=0.0038889796410830073;, score=-2.303 total time=   0.2s\n",
      "[CV 1/2] END criterion__complexity_cost_weight=0.41804567650024804, lr=0.001197463557126252, module__linear_pi=0.4645159170657235, module__linear_rho=-4.709223565066149, module__linear_sigma_1=2.5249647167855804, module__linear_sigma_2=1.728682797958673e-05;, score=-2.266 total time=   0.6s\n",
      "[CV 2/2] END criterion__complexity_cost_weight=0.41804567650024804, lr=0.001197463557126252, module__linear_pi=0.4645159170657235, module__linear_rho=-4.709223565066149, module__linear_sigma_1=2.5249647167855804, module__linear_sigma_2=1.728682797958673e-05;, score=-2.218 total time=   1.0s\n",
      "[CV 1/2] END criterion__complexity_cost_weight=1.8548165661195806e-05, lr=0.0015376350487956861, module__linear_pi=0.4103554581240907, module__linear_rho=-5.671574924734725, module__linear_sigma_1=24.222097704750514, module__linear_sigma_2=0.005662399272151982;, score=-2.277 total time=   0.1s\n",
      "[CV 2/2] END criterion__complexity_cost_weight=1.8548165661195806e-05, lr=0.0015376350487956861, module__linear_pi=0.4103554581240907, module__linear_rho=-5.671574924734725, module__linear_sigma_1=24.222097704750514, module__linear_sigma_2=0.005662399272151982;, score=-2.246 total time=   0.1s\n",
      "[CV 1/2] END criterion__complexity_cost_weight=0.15669449185089532, lr=0.007061521284385814, module__linear_pi=0.1054839791589256, module__linear_rho=-1.112735058606419, module__linear_sigma_1=4.892690824760595, module__linear_sigma_2=3.714985775750824e-05;, score=-2.304 total time=   3.0s\n",
      "[CV 2/2] END criterion__complexity_cost_weight=0.15669449185089532, lr=0.007061521284385814, module__linear_pi=0.1054839791589256, module__linear_rho=-1.112735058606419, module__linear_sigma_1=4.892690824760595, module__linear_sigma_2=3.714985775750824e-05;, score=-2.304 total time=   1.8s\n",
      "[CV 1/2] END criterion__complexity_cost_weight=0.0031039869157286305, lr=0.022534015584314497, module__linear_pi=0.31304057551329323, module__linear_rho=-1.6379308807393889, module__linear_sigma_1=0.4667422272272231, module__linear_sigma_2=0.0020647835686730884;, score=-2.316 total time=   0.4s\n",
      "[CV 2/2] END criterion__complexity_cost_weight=0.0031039869157286305, lr=0.022534015584314497, module__linear_pi=0.31304057551329323, module__linear_rho=-1.6379308807393889, module__linear_sigma_1=0.4667422272272231, module__linear_sigma_2=0.0020647835686730884;, score=-2.252 total time=   0.3s\n",
      "[CV 1/2] END criterion__complexity_cost_weight=0.0011201372499094703, lr=0.027672510955064913, module__linear_pi=0.26007733572352654, module__linear_rho=-1.4147729939868583, module__linear_sigma_1=0.27920050813283076, module__linear_sigma_2=0.0002666980596970297;, score=-2.312 total time=   0.5s\n",
      "[CV 2/2] END criterion__complexity_cost_weight=0.0011201372499094703, lr=0.027672510955064913, module__linear_pi=0.26007733572352654, module__linear_rho=-1.4147729939868583, module__linear_sigma_1=0.27920050813283076, module__linear_sigma_2=0.0002666980596970297;, score=-2.303 total time=   0.4s\n",
      "[CV 1/2] END criterion__complexity_cost_weight=0.1396429829678442, lr=0.014522963777930354, module__linear_pi=0.828258346518707, module__linear_rho=-2.34059348711365, module__linear_sigma_1=11.615058978277762, module__linear_sigma_2=0.006356008908093332;, score=-2.303 total time=   0.5s\n",
      "[CV 2/2] END criterion__complexity_cost_weight=0.1396429829678442, lr=0.014522963777930354, module__linear_pi=0.828258346518707, module__linear_rho=-2.34059348711365, module__linear_sigma_1=11.615058978277762, module__linear_sigma_2=0.006356008908093332;, score=-2.247 total time=   0.5s\n",
      "[CV 1/2] END criterion__complexity_cost_weight=3.582179671128037e-06, lr=0.025498898252045047, module__linear_pi=0.6214089099948893, module__linear_rho=-0.8059086813427534, module__linear_sigma_1=802.5470212462277, module__linear_sigma_2=7.014455881128857e-05;, score=-2.303 total time=   0.4s\n",
      "[CV 2/2] END criterion__complexity_cost_weight=3.582179671128037e-06, lr=0.025498898252045047, module__linear_pi=0.6214089099948893, module__linear_rho=-0.8059086813427534, module__linear_sigma_1=802.5470212462277, module__linear_sigma_2=7.014455881128857e-05;, score=-2.309 total time=   0.3s\n",
      "[CV 1/2] END criterion__complexity_cost_weight=0.20704566987141856, lr=0.0021687447639574917, module__linear_pi=0.39382067678354815, module__linear_rho=-0.18446941824123098, module__linear_sigma_1=0.07154004112250048, module__linear_sigma_2=8.312024473446203e-05;, score=-2.304 total time=   0.9s\n",
      "[CV 2/2] END criterion__complexity_cost_weight=0.20704566987141856, lr=0.0021687447639574917, module__linear_pi=0.39382067678354815, module__linear_rho=-0.18446941824123098, module__linear_sigma_1=0.07154004112250048, module__linear_sigma_2=8.312024473446203e-05;, score=-2.305 total time=   0.4s\n",
      "[CV 1/2] END criterion__complexity_cost_weight=0.23079046989844962, lr=0.004456150367649512, module__linear_pi=0.5250825276163037, module__linear_rho=-4.428036790586354, module__linear_sigma_1=3.218383672552936, module__linear_sigma_2=0.0003597724928926456;, score=-2.266 total time=   0.5s\n",
      "[CV 2/2] END criterion__complexity_cost_weight=0.23079046989844962, lr=0.004456150367649512, module__linear_pi=0.5250825276163037, module__linear_rho=-4.428036790586354, module__linear_sigma_1=3.218383672552936, module__linear_sigma_2=0.0003597724928926456;, score=-2.267 total time=   0.8s\n",
      "Model with rank: 1\n",
      "Mean validation score: -2.226 (std: 0.030)\n",
      "Parameters: {'criterion__complexity_cost_weight': 4.3464214528895537e-07, 'lr': 0.004054350812675746, 'module__linear_pi': 0.7507009864882975, 'module__linear_rho': -5.227394788403156, 'module__linear_sigma_1': 0.1583081965703977, 'module__linear_sigma_2': 0.00011729333247032504}\n",
      "\n",
      "Model with rank: 2\n",
      "Mean validation score: -2.227 (std: 0.008)\n",
      "Parameters: {'criterion__complexity_cost_weight': 0.036610729706290215, 'lr': 0.0023323320196612556, 'module__linear_pi': 0.607468737685217, 'module__linear_rho': -4.701075303403688, 'module__linear_sigma_1': 15.878426619116109, 'module__linear_sigma_2': 0.0035183757850176228}\n",
      "\n",
      "Model with rank: 3\n",
      "Mean validation score: -2.233 (std: 0.002)\n",
      "Parameters: {'criterion__complexity_cost_weight': 0.04011760013047152, 'lr': 0.0010830396099144018, 'module__linear_pi': 0.5726186488077992, 'module__linear_rho': -3.531698305323741, 'module__linear_sigma_1': 842.7213339830632, 'module__linear_sigma_2': 0.0025363231823568476}\n",
      "\n",
      "Model with rank: 4\n",
      "Mean validation score: -2.234 (std: 0.024)\n",
      "Parameters: {'criterion__complexity_cost_weight': 0.008650889690226373, 'lr': 0.002336961099256682, 'module__linear_pi': 0.876380620415997, 'module__linear_rho': -2.7894362020650196, 'module__linear_sigma_1': 0.5112897163199294, 'module__linear_sigma_2': 4.989002959042679e-05}\n",
      "\n",
      "Model with rank: 5\n",
      "Mean validation score: -2.234 (std: 0.043)\n",
      "Parameters: {'criterion__complexity_cost_weight': 0.0004316896279768428, 'lr': 0.0013210289221390887, 'module__linear_pi': 0.4205862884409376, 'module__linear_rho': -4.6159041371442555, 'module__linear_sigma_1': 0.05142708985345212, 'module__linear_sigma_2': 0.0015584113431091045}\n",
      "\n",
      "Model with rank: 6\n",
      "Mean validation score: -2.237 (std: 0.018)\n",
      "Parameters: {'criterion__complexity_cost_weight': 0.004294716208768338, 'lr': 0.0020346413910932236, 'module__linear_pi': 0.1566020782092773, 'module__linear_rho': -4.441610438457154, 'module__linear_sigma_1': 1.6532209524123016, 'module__linear_sigma_2': 0.006800879520394705}\n",
      "\n",
      "Model with rank: 7\n",
      "Mean validation score: -2.239 (std: 0.002)\n",
      "Parameters: {'criterion__complexity_cost_weight': 5.241034153408065e-06, 'lr': 0.001321535303315635, 'module__linear_pi': 0.3477291676671326, 'module__linear_rho': -5.922911556117579, 'module__linear_sigma_1': 0.06733008041934234, 'module__linear_sigma_2': 1.5173972660807064e-05}\n",
      "\n",
      "Model with rank: 8\n",
      "Mean validation score: -2.241 (std: 0.005)\n",
      "Parameters: {'criterion__complexity_cost_weight': 0.0004744450106439211, 'lr': 0.003537370476316258, 'module__linear_pi': 0.4423088971002055, 'module__linear_rho': -4.289602879730562, 'module__linear_sigma_1': 2.236442091962576, 'module__linear_sigma_2': 0.00018974326345394464}\n",
      "\n",
      "Model with rank: 9\n",
      "Mean validation score: -2.241 (std: 0.035)\n",
      "Parameters: {'criterion__complexity_cost_weight': 0.3714244926201028, 'lr': 0.0027456863354986634, 'module__linear_pi': 0.2924804596307673, 'module__linear_rho': -3.4461359277646473, 'module__linear_sigma_1': 7.176174785183382, 'module__linear_sigma_2': 0.009336125047041014}\n",
      "\n",
      "Model with rank: 10\n",
      "Mean validation score: -2.242 (std: 0.024)\n",
      "Parameters: {'criterion__complexity_cost_weight': 0.41804567650024804, 'lr': 0.001197463557126252, 'module__linear_pi': 0.4645159170657235, 'module__linear_rho': -4.709223565066149, 'module__linear_sigma_1': 2.5249647167855804, 'module__linear_sigma_2': 1.728682797958673e-05}\n",
      "\n"
     ]
    }
   ],
   "source": [
    "device = \"cuda\" if torch.cuda.is_available() else \"cpu\"\n",
    "\n",
    "param_distributions = {\n",
    "    'lr': loguniform(1e-3, 5e-2),\n",
    "    # 'module__conv_rho': uniform(-6.0, 6),\n",
    "    # 'module__conv_sigma_1': loguniform(1e-2, 1e3),\n",
    "    # 'module__conv_sigma_2': loguniform(1e-5, 1e-2),\n",
    "    # 'module__conv_pi': uniform(0, 1),\n",
    "    'module__linear_rho': uniform(-6.0, 6),\n",
    "    'module__linear_sigma_1': loguniform(1e-2, 1e3),\n",
    "    'module__linear_sigma_2': loguniform(1e-5, 1e-2),\n",
    "    'module__linear_pi': uniform(0, 1),\n",
    "    'criterion__complexity_cost_weight': loguniform(1e-7, 1e0),\n",
    "}\n",
    "\n",
    "clf = NeuralNetClassifier_BNN(\n",
    "    BayesianCNN,\n",
    "    criterion=sample_elbo_class,\n",
    "    criterion__complexity_cost_weight=1e-3,\n",
    "    optimizer=torch.optim.RMSprop,\n",
    "    optimizer__momentum=0.1,\n",
    "    max_epochs=1000,\n",
    "    batch_size=64,\n",
    "    train_split=skorch.dataset.ValidSplit(5, stratified=True),\n",
    "    device='cuda',\n",
    "    callbacks=[skorch.callbacks.EarlyStopping(patience=10)],\n",
    "    verbose=0,\n",
    "    lr=0.0005\n",
    ")\n",
    "\n",
    "# clf = NeuralNetClassifier_original(\n",
    "#     BayesianCNN,\n",
    "#     criterion=nn.CrossEntropyLoss,\n",
    "#     optimizer=torch.optim.RMSprop,\n",
    "#     max_epochs=1000,\n",
    "#     batch_size=8,\n",
    "#     train_split=skorch.dataset.ValidSplit(5, stratified=True),\n",
    "#     device='cuda',\n",
    "#     callbacks=[skorch.callbacks.EarlyStopping(patience=10)],\n",
    "#     verbose=1,\n",
    "#     lr=0.0005\n",
    "# )\n",
    "\n",
    "NLL = make_scorer(F.cross_entropy, greater_is_better=False)\n",
    "\n",
    "random_search = RandomizedSearchCV(\n",
    "    clf,\n",
    "    param_distributions,\n",
    "    n_iter=200,\n",
    "    n_jobs=1,\n",
    "    cv=2,\n",
    "    verbose=3,\n",
    "    random_state=10,\n",
    "    scoring=NLL\n",
    ")\n",
    "\n",
    "# random_search.fit(X_tune, y_tune)\n",
    "random_search.fit(X_tune, y_tune)\n",
    "\n",
    "report(random_search.cv_results_, n_top=10)"
   ]
  },
  {
   "cell_type": "code",
   "execution_count": 13,
   "metadata": {},
   "outputs": [
    {
     "data": {
      "text/plain": [
       "0.48"
      ]
     },
     "execution_count": 13,
     "metadata": {},
     "output_type": "execute_result"
    }
   ],
   "source": [
    "clf.fit(X_train[2000:4000], y_train[2000:4000])\n",
    "clf.score(X_tune, y_tune)"
   ]
  },
  {
   "cell_type": "code",
   "execution_count": 25,
   "metadata": {
    "colab": {
     "base_uri": "https://localhost:8080/"
    },
    "executionInfo": {
     "elapsed": 387,
     "status": "ok",
     "timestamp": 1644528140690,
     "user": {
      "displayName": "dexuan meng",
      "photoUrl": "https://lh3.googleusercontent.com/a/default-user=s64",
      "userId": "02429618187161859061"
     },
     "user_tz": -60
    },
    "id": "6Heulk_rg-y9",
    "outputId": "95950384-fa2c-4dda-edfc-d6ff15903944",
    "tags": []
   },
   "outputs": [
    {
     "name": "stdout",
     "output_type": "stream",
     "text": [
      "Model with rank: 1\n",
      "Mean validation score: -2.355 (std: 0.031)\n",
      "Parameters: {'criterion__complexity_cost_weight': 0.5675309007891902, 'lr': 0.01596327183693649}\n",
      "\n"
     ]
    }
   ],
   "source": [
    "report(random_search.cv_results_, n_top=10)"
   ]
  },
  {
   "cell_type": "markdown",
   "metadata": {
    "id": "NOFyqoRLrqI7",
    "tags": []
   },
   "source": [
    "# 4: Query Strategies"
   ]
  },
  {
   "cell_type": "markdown",
   "metadata": {
    "id": "wfdLCefxrqI8",
    "tags": []
   },
   "source": [
    "## Uniform"
   ]
  },
  {
   "cell_type": "markdown",
   "metadata": {
    "id": "rFAzi77UrqI8"
   },
   "source": [
    "All the acquisition function we will use will be compared to the uniform acquisition function $\\mathbb{U}_{[0,1]}$ which will be our baseline that we would like to beat."
   ]
  },
  {
   "cell_type": "code",
   "execution_count": 10,
   "metadata": {
    "id": "OYqFp5tarqI9"
   },
   "outputs": [],
   "source": [
    "def uniform(learner, X, n_instances=10):\n",
    "    query_idx = np.random.choice(range(len(X)), size=n_instances, replace=False)\n",
    "    return query_idx, X[query_idx]"
   ]
  },
  {
   "cell_type": "markdown",
   "metadata": {
    "id": "2quS8bjGrqI-",
    "tags": []
   },
   "source": [
    "## Entropy\n"
   ]
  },
  {
   "cell_type": "markdown",
   "metadata": {
    "id": "hJ-WBAAqrqI_"
   },
   "source": [
    "Our first acquisition function is the entropy:"
   ]
  },
  {
   "cell_type": "markdown",
   "metadata": {
    "id": "SBoCHXX-rqI_"
   },
   "source": [
    "\\begin{align}\n",
    "\\mathbb{H} = - \\sum_{c} p_c \\log(p_c)\n",
    "\\end{align}  \n",
    "where $p_c$ is the probability predicted for class c. This is approximated by:  \n",
    "\\begin{align}\n",
    "p_c &= \\frac{1}{T} \\sum_t p_{c}^{(t)} \n",
    "\\end{align}  \n",
    "where $p_{c}^{t}$ is the probability predicted for class c at the t th feedforward pass.  "
   ]
  },
  {
   "cell_type": "code",
   "execution_count": 11,
   "metadata": {
    "id": "VLZ9aR3LrqJB"
   },
   "outputs": [],
   "source": [
    "def max_entropy(learner, X, n_instances=1, T=100):\n",
    "    random_subset = np.random.choice(range(len(X)), size=2000, replace=False)\n",
    "    with torch.no_grad():\n",
    "        outputs = np.stack([torch.softmax(learner.estimator.forward(X[random_subset], training=True),dim=-1).cpu().numpy()\n",
    "                            for t in range(100)])\n",
    "    pc = outputs.mean(axis=0)\n",
    "    acquisition = (-pc*np.log(pc + 1e-10)).sum(axis=-1)\n",
    "    idx = (-acquisition).argsort()[:n_instances]\n",
    "    query_idx = random_subset[idx]\n",
    "    return query_idx, X[query_idx]"
   ]
  },
  {
   "cell_type": "markdown",
   "metadata": {
    "id": "Vm_ZE6BpOpM4",
    "jp-MarkdownHeadingCollapsed": true,
    "tags": []
   },
   "source": [
    "## BALD"
   ]
  },
  {
   "cell_type": "code",
   "execution_count": 12,
   "metadata": {
    "id": "aoYgxWNLrqJC",
    "tags": []
   },
   "outputs": [],
   "source": [
    "def bald(learner, X, n_instances=1, T=100):\n",
    "    random_subset = np.random.choice(range(len(X)), size=100, replace=False)\n",
    "    with torch.no_grad():\n",
    "      # MCdropout\n",
    "      #outputs = np.stack([torch.softmax(learner.estimator.forward(X[random_subset], training=True),dim=-1).cpu().numpy() \n",
    "      #for t in range(100)])\n",
    "      # Others\n",
    "      outputs = np.stack([torch.softmax(torch.tensor(learner.estimator.predict(X[random_subset])).float(),dim=-1).cpu().numpy() \n",
    "                          for t in range(T)])\n",
    "    pc = outputs.mean(axis=0)\n",
    "    H   = (-pc*np.log(pc + 1e-10)).sum(axis=-1)\n",
    "    E_H = - np.mean(np.sum(outputs * np.log(outputs + 1e-10), axis=-1), axis=0)  # [batch size]\n",
    "    acquisition = H - E_H\n",
    "    idx = (-acquisition).argsort()[:n_instances]\n",
    "    query_idx = random_subset[idx]\n",
    "    \n",
    "    return query_idx, X[query_idx]"
   ]
  },
  {
   "cell_type": "code",
   "execution_count": 13,
   "metadata": {
    "id": "B1uaNFzrFShv",
    "tags": []
   },
   "outputs": [],
   "source": [
    "import keras\n",
    "def bald_gpc(learner, X, n_instances=1, T=100):\n",
    "    pool_size = 100\n",
    "    random_subset = np.random.choice(range(len(X)), size=pool_size, replace=False)\n",
    "    p = torch.Tensor(learner.estimator.predict_proba(X[random_subset])).cuda()\n",
    "    with torch.no_grad():\n",
    "        # outputs = np.stack([torch.softmax(torch.tensor(keras.utils.np_utils.to_categorical([np.random.choice(range(10), p=p[i].ravel()) for i in range(5)], num_classes=10)).float(),dim=-1).cpu().numpy()\n",
    "        #                     for t in range(100)])\n",
    "        outputs = torch.stack(\n",
    "            [torch.softmax(torch.stack(\n",
    "                [torch.tensor(keras.utils.np_utils.to_categorical([np.random.choice(10, p=np.asarray(p[i].cpu())) for i in range(pool_size)], num_classes=10)).float() for _ in range(30)]\n",
    "            ), dim=-1) for _ in range(100)]\n",
    "        ).cuda()\n",
    "    pc = torch.mean(outputs, axis=1) # probability by 20 samples, there are 100 samples of this approximated probability for all 10000 inputs\n",
    "    H = torch.sum(-p * torch.log(p + 1e-10), dim=-1) # use the predicted probability instead of that from sampling and average\n",
    "    E_H = - torch.mean(torch.sum(pc * torch.log(pc + 1e-10), dim=-1), dim=0)  # because the entropy is 0, when calculated with one-hot matrix filled with 0 and 1\n",
    "    acquisition = H - E_H\n",
    "    idx = (-acquisition).argsort()[:n_instances].item()\n",
    "    query_idx = [random_subset[idx]]\n",
    "    return query_idx, X[query_idx]"
   ]
  },
  {
   "cell_type": "code",
   "execution_count": 14,
   "metadata": {
    "id": "aoYgxWNLrqJC",
    "tags": []
   },
   "outputs": [],
   "source": [
    "def bald_rfc(learner, X, n_instances=1, T=100):\n",
    "    random_subset = np.random.choice(range(len(X)), size=100, replace=False)\n",
    "    pc = learner.estimator.predict_proba(X[random_subset])\n",
    "    with torch.no_grad():\n",
    "        outputs = np.stack([torch.tensor(estimator.predict_proba(X[random_subset])).float().cpu().numpy() for estimator in learner.estimator.estimators_ ])\n",
    "    H   = (-pc*np.log(pc + 1e-10)).sum(axis=-1)\n",
    "    E_H = - np.mean(np.sum(outputs * np.log(outputs + 1e-10), axis=-1), axis=0)  # [batch size]\n",
    "    acquisition = H - E_H\n",
    "    idx = (-acquisition).argsort()[:n_instances]\n",
    "    query_idx = random_subset[idx]\n",
    "    \n",
    "    return query_idx, X[query_idx]"
   ]
  },
  {
   "cell_type": "code",
   "execution_count": 15,
   "metadata": {
    "tags": []
   },
   "outputs": [],
   "source": [
    "def bald_MC_committee(learner, X, n_instances=1, T=100):\n",
    "    random_subset = np.random.choice(range(len(X)), size=10000, replace=False)\n",
    "    with torch.no_grad():\n",
    "      # MCdropout\n",
    "      outputs = np.stack([torch.softmax(learner.estimator.forward(X[random_subset]),dim=-1).cpu().numpy() \n",
    "      for t in range(100)])\n",
    "      # Others\n",
    "      #outputs = np.stack([torch.softmax(torch.tensor(learner.estimator.predict(X[random_subset])).float(),dim=-1).cpu().numpy()\n",
    "      #for t in range(100)])\n",
    "    pc = outputs.mean(axis=0)\n",
    "    H   = (-pc*np.log(pc + 1e-10)).sum(axis=-1)\n",
    "    E_H = - np.mean(np.sum(outputs * np.log(outputs + 1e-10), axis=-1), axis=0)  # [batch size]\n",
    "    acquisition = H - E_H\n",
    "    idx = (-acquisition).argsort()[:n_instances]\n",
    "    query_idx = random_subset[idx]\n",
    "    \n",
    "    return query_idx, X[query_idx]"
   ]
  },
  {
   "cell_type": "code",
   "execution_count": 16,
   "metadata": {
    "id": "W_eN67sjpKci",
    "tags": []
   },
   "outputs": [],
   "source": [
    "def bald_MC(learner, X, n_instances=1, T=100):\n",
    "    random_subset = np.random.choice(range(len(X)), size=10000, replace=False)\n",
    "    with torch.no_grad():\n",
    "      # MCdropout\n",
    "      outputs = np.stack([torch.softmax(learner.estimator.forward(X[random_subset], training=True), dim=-1).cpu().numpy() \n",
    "      for t in range(100)])\n",
    "      # Others\n",
    "      #outputs = np.stack([torch.softmax(torch.tensor(learner.estimator.predict(X[random_subset])).float(),dim=-1).cpu().numpy()\n",
    "      #for t in range(100)])\n",
    "    pc = outputs.mean(axis=0)\n",
    "    H   = (-pc*np.log(pc + 1e-10)).sum(axis=-1)\n",
    "    E_H = - np.mean(np.sum(outputs * np.log(outputs + 1e-10), axis=-1), axis=0)  # [batch size]\n",
    "    acquisition = H - E_H\n",
    "    idx = (-acquisition).argsort()[:n_instances]\n",
    "    query_idx = random_subset[idx]\n",
    "    \n",
    "    return query_idx, X[query_idx]"
   ]
  },
  {
   "cell_type": "markdown",
   "metadata": {
    "jp-MarkdownHeadingCollapsed": true,
    "tags": []
   },
   "source": [
    "## BatchBALD"
   ]
  },
  {
   "cell_type": "code",
   "execution_count": 17,
   "metadata": {},
   "outputs": [],
   "source": [
    "def batch_bald(learner, X, n_instances=1, T=100):\n",
    "    pool_size = 10000\n",
    "    random_subset = np.random.choice(range(len(X)), size=pool_size, replace=False)\n",
    "    with torch.no_grad():\n",
    "        outputs = np.stack([torch.softmax(learner.estimator.forward(X[random_subset], training=True).clone().detach().float(), dim=-1).cpu().numpy()\n",
    "                            for t in range(T)])\n",
    "\n",
    "    # print(outputs.shape)\n",
    "    # print(outputs[0][0].shape)\n",
    "    # print(outputs[0][0])\n",
    "    # print(outputs)\n",
    "    \n",
    "    # outputs.shape = T * pool_size * num_class\n",
    "    # reshape the outputs to pool_size *  T  * num_class\n",
    "    outputs = outputs.transpose(1,0,2)\n",
    "    \n",
    "   \n",
    "    idx = get_batchbald_batch(torch.log(torch.from_numpy(outputs)), n_instances, 1000).indices\n",
    "    query_idx = random_subset[idx]\n",
    "\n",
    "    return query_idx, X[query_idx]\n"
   ]
  },
  {
   "cell_type": "markdown",
   "metadata": {
    "id": "-NETeh0vrqJD",
    "tags": []
   },
   "source": [
    "# 5: Active Learning Procedure"
   ]
  },
  {
   "cell_type": "markdown",
   "metadata": {
    "id": "KEcrzL303yih",
    "jp-MarkdownHeadingCollapsed": true,
    "tags": []
   },
   "source": [
    "## Active Learning Function"
   ]
  },
  {
   "cell_type": "code",
   "execution_count": 18,
   "metadata": {
    "id": "0X19c_pz3wyk"
   },
   "outputs": [],
   "source": [
    "def active_learning_procedure(query_strategy,\n",
    "                              X_test,\n",
    "                              y_test,\n",
    "                              X_pool,\n",
    "                              y_pool,\n",
    "                              X_initial,\n",
    "                              y_initial,\n",
    "                              estimator,\n",
    "                              n_queries=100,\n",
    "                              n_instances=1):\n",
    "\n",
    "  \n",
    "    learner = ActiveLearner(estimator=estimator,\n",
    "                            X_training=X_initial,\n",
    "                            y_training=y_initial,\n",
    "                            query_strategy=query_strategy\n",
    "                           )\n",
    "    \n",
    "    perf_hist = [learner.score(X_test, y_test)]\n",
    "\n",
    "    print(X_pool.shape)\n",
    "\n",
    "    for index in range(n_queries):\n",
    "        query_idx, query_instance = learner.query(X_pool, n_instances)\n",
    "        learner.teach(X_pool[query_idx], y_pool[query_idx])\n",
    "        X_pool = np.delete(X_pool, query_idx, axis=0)\n",
    "        y_pool = np.delete(y_pool, query_idx, axis=0)\n",
    "        model_accuracy = learner.score(X_test, y_test)\n",
    "        print('Accuracy after query {n}: {acc:0.4f}'.format(n=index + 1, acc=model_accuracy))\n",
    "        perf_hist.append(model_accuracy)\n",
    "\n",
    "    print(X_pool.shape)\n",
    "    \n",
    "    return perf_hist"
   ]
  },
  {
   "cell_type": "markdown",
   "metadata": {
    "id": "Ea8C0GXK1S8_"
   },
   "source": [
    "All the input X need the shape of (batch_size, weight * height * depth)\n",
    "\n",
    "all the lable Y need the shape of (batch_size,)"
   ]
  },
  {
   "cell_type": "code",
   "execution_count": 21,
   "metadata": {
    "id": "pTpFyRY0dwzP",
    "jupyter": {
     "source_hidden": true
    },
    "tags": []
   },
   "outputs": [],
   "source": [
    "X_list = [X_test,\n",
    "          X_pool,\n",
    "          X_initial]\n",
    "\n",
    "X_test_re, X_pool_re, X_initial_re = img_reshape(X_list)"
   ]
  },
  {
   "cell_type": "markdown",
   "metadata": {
    "id": "EKP4eIq438zN",
    "tags": []
   },
   "source": [
    "## Start training"
   ]
  },
  {
   "cell_type": "markdown",
   "metadata": {
    "id": "B6yBi8BJUE8_",
    "jp-MarkdownHeadingCollapsed": true,
    "tags": []
   },
   "source": [
    "### Bayesian CNN"
   ]
  },
  {
   "cell_type": "code",
   "execution_count": 35,
   "metadata": {
    "colab": {
     "background_save": true,
     "base_uri": "https://localhost:8080/"
    },
    "collapsed": true,
    "executionInfo": {
     "elapsed": 68522,
     "status": "ok",
     "timestamp": 1644795563747,
     "user": {
      "displayName": "dexuan meng",
      "photoUrl": "https://lh3.googleusercontent.com/a/default-user=s64",
      "userId": "02429618187161859061"
     },
     "user_tz": -60
    },
    "id": "JQV2B5W7UQnO",
    "outputId": "23ed1a06-d867-4976-8cb6-c320f2d0dc0e",
    "tags": []
   },
   "outputs": [
    {
     "name": "stdout",
     "output_type": "stream",
     "text": [
      "(59400, 1, 28, 28)\n",
      "Accuracy after query 1: 0.9180\n",
      "Accuracy after query 2: 0.9104\n",
      "Accuracy after query 3: 0.9154\n",
      "Accuracy after query 4: 0.9142\n",
      "Accuracy after query 5: 0.9198\n",
      "Accuracy after query 6: 0.9081\n",
      "Accuracy after query 7: 0.9126\n",
      "Accuracy after query 8: 0.9176\n",
      "Accuracy after query 9: 0.9206\n",
      "Accuracy after query 10: 0.9200\n",
      "Accuracy after query 11: 0.9125\n",
      "Accuracy after query 12: 0.9158\n",
      "Accuracy after query 13: 0.9185\n",
      "Accuracy after query 14: 0.9151\n",
      "Accuracy after query 15: 0.9221\n",
      "Accuracy after query 16: 0.9179\n",
      "Accuracy after query 17: 0.9264\n",
      "Accuracy after query 18: 0.9250\n",
      "Accuracy after query 19: 0.9246\n",
      "Accuracy after query 20: 0.9234\n",
      "Accuracy after query 21: 0.9292\n",
      "Accuracy after query 22: 0.9214\n",
      "Accuracy after query 23: 0.9301\n",
      "Accuracy after query 24: 0.9233\n",
      "Accuracy after query 25: 0.9247\n",
      "Accuracy after query 26: 0.9256\n",
      "Accuracy after query 27: 0.9197\n",
      "Accuracy after query 28: 0.9280\n",
      "Accuracy after query 29: 0.9347\n",
      "Accuracy after query 30: 0.9300\n",
      "Accuracy after query 31: 0.9356\n",
      "Accuracy after query 32: 0.9299\n",
      "Accuracy after query 33: 0.9346\n",
      "Accuracy after query 34: 0.9330\n",
      "Accuracy after query 35: 0.9297\n",
      "Accuracy after query 36: 0.9251\n",
      "Accuracy after query 37: 0.9300\n",
      "Accuracy after query 38: 0.9265\n",
      "Accuracy after query 39: 0.9305\n",
      "Accuracy after query 40: 0.9321\n",
      "Accuracy after query 41: 0.9414\n",
      "Accuracy after query 42: 0.9253\n",
      "Accuracy after query 43: 0.9228\n",
      "Accuracy after query 44: 0.9259\n",
      "Accuracy after query 45: 0.9319\n",
      "Accuracy after query 46: 0.9210\n",
      "Accuracy after query 47: 0.9219\n",
      "Accuracy after query 48: 0.9357\n",
      "Accuracy after query 49: 0.9305\n",
      "Accuracy after query 50: 0.9258\n",
      "Accuracy after query 51: 0.9328\n",
      "Accuracy after query 52: 0.9298\n",
      "Accuracy after query 53: 0.9313\n",
      "Accuracy after query 54: 0.9317\n",
      "Accuracy after query 55: 0.9235\n",
      "Accuracy after query 56: 0.9318\n",
      "Accuracy after query 57: 0.9276\n",
      "Accuracy after query 58: 0.9306\n",
      "Accuracy after query 59: 0.9317\n",
      "Accuracy after query 60: 0.9397\n",
      "Accuracy after query 61: 0.9362\n",
      "Accuracy after query 62: 0.9250\n",
      "Accuracy after query 63: 0.9344\n",
      "Accuracy after query 64: 0.9313\n",
      "Accuracy after query 65: 0.9325\n",
      "Accuracy after query 66: 0.9315\n",
      "Accuracy after query 67: 0.9354\n",
      "Accuracy after query 68: 0.9332\n",
      "Accuracy after query 69: 0.9257\n",
      "Accuracy after query 70: 0.9369\n",
      "Accuracy after query 71: 0.9369\n",
      "Accuracy after query 72: 0.9270\n",
      "Accuracy after query 73: 0.9335\n",
      "Accuracy after query 74: 0.9246\n",
      "Accuracy after query 75: 0.9245\n",
      "Accuracy after query 76: 0.9283\n",
      "Accuracy after query 77: 0.9288\n",
      "Accuracy after query 78: 0.9319\n",
      "Accuracy after query 79: 0.9332\n",
      "Accuracy after query 80: 0.9246\n",
      "Accuracy after query 81: 0.9205\n",
      "Accuracy after query 82: 0.9323\n",
      "Accuracy after query 83: 0.9333\n",
      "Accuracy after query 84: 0.9326\n",
      "Accuracy after query 85: 0.9332\n",
      "Accuracy after query 86: 0.9347\n",
      "Accuracy after query 87: 0.9325\n",
      "Accuracy after query 88: 0.9264\n",
      "Accuracy after query 89: 0.9389\n",
      "Accuracy after query 90: 0.9319\n",
      "Accuracy after query 91: 0.9268\n",
      "Accuracy after query 92: 0.9319\n",
      "Accuracy after query 93: 0.9407\n",
      "Accuracy after query 94: 0.9335\n",
      "Accuracy after query 95: 0.9289\n",
      "Accuracy after query 96: 0.9318\n",
      "Accuracy after query 97: 0.9389\n",
      "Accuracy after query 98: 0.9386\n",
      "Accuracy after query 99: 0.9268\n",
      "Accuracy after query 100: 0.9342\n",
      "(59300, 1, 28, 28)\n"
     ]
    }
   ],
   "source": [
    "# done!\n",
    "X_pool = np.delete(X_train, initial_idx, axis=0)\n",
    "y_pool = np.delete(y_train, initial_idx, axis=0)\n",
    "X_list = [X_test, X_pool, X_initial]\n",
    "X_test_re, X_pool_re, X_initial_re = img_reshape(X_list)\n",
    "\n",
    "estimator = NeuralNetClassifier_BNN(\n",
    "    BayesianCNN,\n",
    "    criterion=sample_elbo_class,\n",
    "    criterion__complexity_cost_weight=3e-5,\n",
    "    optimizer=torch.optim.RMSprop,\n",
    "    max_epochs=1000,\n",
    "    batch_size=256,\n",
    "    # train_split=skorch.dataset.ValidSplit(5, stratified=True),\n",
    "    device='cuda',\n",
    "    callbacks=[skorch.callbacks.EarlyStopping(patience=10)],\n",
    "    verbose=0,\n",
    "    lr=0.0008\n",
    ")\n",
    "\n",
    "BCNN_perf_hist = active_learning_procedure(\n",
    "    bald_MC,\n",
    "    X_test,\n",
    "    y_test,\n",
    "    X_pool,\n",
    "    y_pool,\n",
    "    X_initial,\n",
    "    y_initial,\n",
    "    estimator,\n",
    "    n_queries=100,\n",
    "    n_instances=1\n",
    ")\n",
    "\n",
    "np.save('D:/Studium/WiSe2021/SA/Project/run_adlr/BCNN_baldMC_600_100x1.npy', BCNN_perf_hist)"
   ]
  },
  {
   "cell_type": "code",
   "execution_count": 36,
   "metadata": {
    "colab": {
     "background_save": true
    },
    "collapsed": true,
    "id": "9RT3vW5bjYRw",
    "outputId": "deb0e2fc-3804-4974-9f5e-da1e97722ba7",
    "tags": []
   },
   "outputs": [
    {
     "name": "stdout",
     "output_type": "stream",
     "text": [
      "(59400, 1, 28, 28)\n",
      "Accuracy after query 1: 0.9229\n",
      "Accuracy after query 2: 0.9214\n",
      "Accuracy after query 3: 0.9118\n",
      "Accuracy after query 4: 0.9169\n",
      "Accuracy after query 5: 0.9173\n",
      "Accuracy after query 6: 0.9077\n",
      "Accuracy after query 7: 0.9255\n",
      "Accuracy after query 8: 0.9159\n",
      "Accuracy after query 9: 0.9131\n",
      "Accuracy after query 10: 0.9139\n",
      "Accuracy after query 11: 0.9102\n",
      "Accuracy after query 12: 0.9078\n",
      "Accuracy after query 13: 0.9201\n",
      "Accuracy after query 14: 0.9175\n",
      "Accuracy after query 15: 0.9113\n",
      "Accuracy after query 16: 0.9183\n",
      "Accuracy after query 17: 0.9197\n",
      "Accuracy after query 18: 0.9225\n",
      "Accuracy after query 19: 0.9206\n",
      "Accuracy after query 20: 0.9031\n",
      "Accuracy after query 21: 0.9193\n",
      "Accuracy after query 22: 0.9282\n",
      "Accuracy after query 23: 0.9117\n",
      "Accuracy after query 24: 0.9191\n",
      "Accuracy after query 25: 0.9223\n",
      "Accuracy after query 26: 0.9177\n",
      "Accuracy after query 27: 0.9239\n",
      "Accuracy after query 28: 0.9209\n",
      "Accuracy after query 29: 0.9214\n",
      "Accuracy after query 30: 0.9193\n",
      "Accuracy after query 31: 0.9245\n",
      "Accuracy after query 32: 0.9201\n",
      "Accuracy after query 33: 0.9169\n",
      "Accuracy after query 34: 0.9260\n",
      "Accuracy after query 35: 0.9230\n",
      "Accuracy after query 36: 0.9213\n",
      "Accuracy after query 37: 0.9191\n",
      "Accuracy after query 38: 0.9191\n",
      "Accuracy after query 39: 0.9210\n",
      "Accuracy after query 40: 0.9211\n",
      "Accuracy after query 41: 0.9091\n",
      "Accuracy after query 42: 0.9180\n",
      "Accuracy after query 43: 0.9186\n",
      "Accuracy after query 44: 0.9281\n",
      "Accuracy after query 45: 0.9251\n",
      "Accuracy after query 46: 0.9171\n",
      "Accuracy after query 47: 0.9141\n",
      "Accuracy after query 48: 0.9184\n",
      "Accuracy after query 49: 0.9278\n",
      "Accuracy after query 50: 0.9343\n",
      "Accuracy after query 51: 0.9306\n",
      "Accuracy after query 52: 0.9263\n",
      "Accuracy after query 53: 0.9305\n",
      "Accuracy after query 54: 0.9184\n",
      "Accuracy after query 55: 0.9308\n",
      "Accuracy after query 56: 0.9262\n",
      "Accuracy after query 57: 0.9293\n",
      "Accuracy after query 58: 0.9337\n",
      "Accuracy after query 59: 0.9207\n",
      "Accuracy after query 60: 0.9238\n",
      "Accuracy after query 61: 0.9361\n",
      "Accuracy after query 62: 0.9329\n",
      "Accuracy after query 63: 0.9283\n",
      "Accuracy after query 64: 0.9275\n",
      "Accuracy after query 65: 0.9312\n",
      "Accuracy after query 66: 0.9330\n",
      "Accuracy after query 67: 0.9284\n",
      "Accuracy after query 68: 0.9297\n",
      "Accuracy after query 69: 0.9305\n",
      "Accuracy after query 70: 0.9358\n",
      "Accuracy after query 71: 0.9306\n",
      "Accuracy after query 72: 0.9222\n",
      "Accuracy after query 73: 0.9272\n",
      "Accuracy after query 74: 0.9287\n",
      "Accuracy after query 75: 0.9329\n",
      "Accuracy after query 76: 0.9360\n",
      "Accuracy after query 77: 0.9396\n",
      "Accuracy after query 78: 0.9374\n",
      "Accuracy after query 79: 0.9298\n",
      "Accuracy after query 80: 0.9313\n",
      "Accuracy after query 81: 0.9296\n",
      "Accuracy after query 82: 0.9291\n",
      "Accuracy after query 83: 0.9296\n",
      "Accuracy after query 84: 0.9380\n",
      "Accuracy after query 85: 0.9369\n",
      "Accuracy after query 86: 0.9289\n",
      "Accuracy after query 87: 0.9292\n",
      "Accuracy after query 88: 0.9375\n",
      "Accuracy after query 89: 0.9333\n",
      "Accuracy after query 90: 0.9277\n",
      "Accuracy after query 91: 0.9345\n",
      "Accuracy after query 92: 0.9317\n",
      "Accuracy after query 93: 0.9278\n",
      "Accuracy after query 94: 0.9289\n",
      "Accuracy after query 95: 0.9306\n",
      "Accuracy after query 96: 0.9336\n",
      "Accuracy after query 97: 0.9338\n",
      "Accuracy after query 98: 0.9368\n",
      "Accuracy after query 99: 0.9395\n",
      "Accuracy after query 100: 0.9413\n",
      "(59300, 1, 28, 28)\n"
     ]
    }
   ],
   "source": [
    "# done!\n",
    "X_pool = np.delete(X_train, initial_idx, axis=0)\n",
    "y_pool = np.delete(y_train, initial_idx, axis=0)\n",
    "X_list = [X_test, X_pool, X_initial]\n",
    "X_test_re, X_pool_re, X_initial_re = img_reshape(X_list)\n",
    "device = \"cuda\" if torch.cuda.is_available() else \"cpu\"\n",
    "estimator = NeuralNetClassifier_BNN(\n",
    "    BayesianCNN,\n",
    "    criterion=sample_elbo_class,\n",
    "    criterion__complexity_cost_weight=3e-5,\n",
    "    optimizer=torch.optim.RMSprop,\n",
    "    max_epochs=1000,\n",
    "    batch_size=256,\n",
    "    train_split=skorch.dataset.ValidSplit(5, stratified=True),\n",
    "    device='cuda',\n",
    "    callbacks=[skorch.callbacks.EarlyStopping(patience=10)],\n",
    "    verbose=0,\n",
    "    lr=0.0008\n",
    ")\n",
    "BCNN_uni_perf_hist = active_learning_procedure(\n",
    "    uniform,\n",
    "    X_test,\n",
    "    y_test,\n",
    "    X_pool,\n",
    "    y_pool,\n",
    "    X_initial,\n",
    "    y_initial,\n",
    "    estimator,\n",
    "    n_queries=100,\n",
    "    n_instances=1\n",
    ")\n",
    "np.save('D:/Studium/WiSe2021/SA/Project/run_adlr/BCNN_uni_600_100x1.npy', BCNN_uni_perf_hist)"
   ]
  },
  {
   "cell_type": "markdown",
   "metadata": {},
   "source": [
    "#### initial=1000"
   ]
  },
  {
   "cell_type": "code",
   "execution_count": 21,
   "metadata": {
    "collapsed": true,
    "jupyter": {
     "outputs_hidden": true,
     "source_hidden": true
    },
    "tags": []
   },
   "outputs": [
    {
     "name": "stdout",
     "output_type": "stream",
     "text": [
      "(59000, 1, 28, 28)\n",
      "Accuracy after query 1: 0.8108\n",
      "Accuracy after query 2: 0.8179\n",
      "Accuracy after query 3: 0.8287\n",
      "Accuracy after query 4: 0.8086\n",
      "Accuracy after query 5: 0.8335\n",
      "Accuracy after query 6: 0.8457\n",
      "Accuracy after query 7: 0.8291\n",
      "Accuracy after query 8: 0.8549\n",
      "Accuracy after query 9: 0.8419\n",
      "Accuracy after query 10: 0.8492\n",
      "Accuracy after query 11: 0.8215\n",
      "Accuracy after query 12: 0.8443\n",
      "Accuracy after query 13: 0.8401\n",
      "Accuracy after query 14: 0.8358\n",
      "Accuracy after query 15: 0.8315\n",
      "Accuracy after query 16: 0.8492\n",
      "Accuracy after query 17: 0.8492\n",
      "Accuracy after query 18: 0.8546\n",
      "Accuracy after query 19: 0.8225\n",
      "Accuracy after query 20: 0.8192\n",
      "Accuracy after query 21: 0.8492\n",
      "Accuracy after query 22: 0.8550\n",
      "Accuracy after query 23: 0.8278\n",
      "Accuracy after query 24: 0.8424\n",
      "Accuracy after query 25: 0.8400\n",
      "Accuracy after query 26: 0.8248\n",
      "Accuracy after query 27: 0.8342\n",
      "Accuracy after query 28: 0.8514\n",
      "Accuracy after query 29: 0.8473\n",
      "Accuracy after query 30: 0.8320\n",
      "Accuracy after query 31: 0.8409\n",
      "Accuracy after query 32: 0.8524\n",
      "Accuracy after query 33: 0.8436\n",
      "Accuracy after query 34: 0.8181\n",
      "Accuracy after query 35: 0.8499\n",
      "Accuracy after query 36: 0.8438\n",
      "Accuracy after query 37: 0.8491\n",
      "Accuracy after query 38: 0.8408\n",
      "Accuracy after query 39: 0.8519\n",
      "Accuracy after query 40: 0.8266\n",
      "Accuracy after query 41: 0.8463\n",
      "Accuracy after query 42: 0.8413\n",
      "Accuracy after query 43: 0.8536\n",
      "Accuracy after query 44: 0.8712\n",
      "Accuracy after query 45: 0.8360\n",
      "Accuracy after query 46: 0.8296\n",
      "Accuracy after query 47: 0.8456\n",
      "Accuracy after query 48: 0.8520\n",
      "Accuracy after query 49: 0.8649\n",
      "Accuracy after query 50: 0.8689\n",
      "Accuracy after query 51: 0.8212\n",
      "Accuracy after query 52: 0.8667\n",
      "Accuracy after query 53: 0.8398\n",
      "Accuracy after query 54: 0.8656\n",
      "Accuracy after query 55: 0.8441\n",
      "Accuracy after query 56: 0.8561\n",
      "Accuracy after query 57: 0.8540\n",
      "Accuracy after query 58: 0.8618\n",
      "Accuracy after query 59: 0.8353\n",
      "Accuracy after query 60: 0.8610\n",
      "Accuracy after query 61: 0.8312\n",
      "Accuracy after query 62: 0.8410\n",
      "Accuracy after query 63: 0.8036\n",
      "Accuracy after query 64: 0.8373\n",
      "Accuracy after query 65: 0.8445\n",
      "Accuracy after query 66: 0.8228\n",
      "Accuracy after query 67: 0.7915\n",
      "Accuracy after query 68: 0.8080\n",
      "Accuracy after query 69: 0.8375\n",
      "Accuracy after query 70: 0.7435\n",
      "Accuracy after query 71: 0.8469\n",
      "Accuracy after query 72: 0.8721\n",
      "Accuracy after query 73: 0.8657\n",
      "Accuracy after query 74: 0.8237\n",
      "Accuracy after query 75: 0.8364\n",
      "Accuracy after query 76: 0.8612\n",
      "Accuracy after query 77: 0.8628\n",
      "Accuracy after query 78: 0.8473\n",
      "Accuracy after query 79: 0.8570\n",
      "Accuracy after query 80: 0.8406\n",
      "Accuracy after query 81: 0.8388\n",
      "Accuracy after query 82: 0.8638\n",
      "Accuracy after query 83: 0.8480\n",
      "Accuracy after query 84: 0.8572\n",
      "Accuracy after query 85: 0.8540\n",
      "Accuracy after query 86: 0.8486\n",
      "Accuracy after query 87: 0.8396\n",
      "Accuracy after query 88: 0.8657\n",
      "Accuracy after query 89: 0.8432\n",
      "Accuracy after query 90: 0.8540\n",
      "Accuracy after query 91: 0.8517\n",
      "Accuracy after query 92: 0.8690\n",
      "Accuracy after query 93: 0.8382\n",
      "Accuracy after query 94: 0.8565\n",
      "Accuracy after query 95: 0.8563\n",
      "Accuracy after query 96: 0.7589\n",
      "Accuracy after query 97: 0.8653\n",
      "Accuracy after query 98: 0.8786\n",
      "Accuracy after query 99: 0.8445\n",
      "Accuracy after query 100: 0.8418\n",
      "(58900, 1, 28, 28)\n"
     ]
    }
   ],
   "source": [
    "# done!\n",
    "X_pool = np.delete(X_train, initial_idx_1000, axis=0)\n",
    "y_pool = np.delete(y_train, initial_idx_1000, axis=0)\n",
    "X_list = [X_test, X_pool, X_initial_1000]\n",
    "X_test_re, X_pool_re, X_initial_re_1000 = img_reshape(X_list)\n",
    "\n",
    "estimator = NeuralNetClassifier_BNN(\n",
    "    BayesianCNN,\n",
    "    criterion=sample_elbo_class,\n",
    "    criterion__complexity_cost_weight=3e-5,\n",
    "    optimizer=torch.optim.RMSprop,\n",
    "    max_epochs=1000,\n",
    "    batch_size=64,\n",
    "    # train_split=skorch.dataset.ValidSplit(5, stratified=True),\n",
    "    device='cuda',\n",
    "    callbacks=[skorch.callbacks.EarlyStopping(patience=10)],\n",
    "    verbose=0,\n",
    "    lr=0.0008\n",
    ")\n",
    "\n",
    "BCNN_perf_hist = active_learning_procedure(\n",
    "    bald_MC,\n",
    "    X_test,\n",
    "    y_test,\n",
    "    X_pool,\n",
    "    y_pool,\n",
    "    X_initial_1000,\n",
    "    y_initial_1000,\n",
    "    estimator,\n",
    "    n_queries=100,\n",
    "    n_instances=1\n",
    ")\n",
    "np.save('D:/Studium/WiSe2021/SA/Project/run_adlr/BCNN_baldMC_1000_100x1.npy', BCNN_perf_hist)"
   ]
  },
  {
   "cell_type": "code",
   "execution_count": 45,
   "metadata": {
    "collapsed": true,
    "jupyter": {
     "outputs_hidden": true,
     "source_hidden": true
    },
    "scrolled": true,
    "tags": []
   },
   "outputs": [
    {
     "name": "stdout",
     "output_type": "stream",
     "text": [
      "(59000, 1, 28, 28)\n",
      "Accuracy after query 1: 0.8272\n",
      "Accuracy after query 2: 0.8329\n",
      "Accuracy after query 3: 0.8118\n",
      "Accuracy after query 4: 0.8471\n",
      "Accuracy after query 5: 0.8100\n",
      "Accuracy after query 6: 0.8117\n",
      "Accuracy after query 7: 0.8468\n",
      "Accuracy after query 8: 0.8278\n",
      "Accuracy after query 9: 0.8431\n",
      "Accuracy after query 10: 0.8545\n",
      "Accuracy after query 11: 0.8358\n",
      "Accuracy after query 12: 0.8541\n",
      "Accuracy after query 13: 0.8613\n",
      "Accuracy after query 14: 0.8231\n",
      "Accuracy after query 15: 0.8593\n",
      "Accuracy after query 16: 0.8417\n",
      "Accuracy after query 17: 0.8389\n",
      "Accuracy after query 18: 0.8438\n",
      "Accuracy after query 19: 0.7796\n",
      "Accuracy after query 20: 0.8267\n",
      "Accuracy after query 21: 0.8258\n",
      "Accuracy after query 22: 0.8213\n",
      "Accuracy after query 23: 0.8464\n",
      "Accuracy after query 24: 0.8330\n",
      "Accuracy after query 25: 0.7713\n",
      "Accuracy after query 26: 0.8222\n",
      "Accuracy after query 27: 0.7886\n",
      "Accuracy after query 28: 0.8405\n",
      "Accuracy after query 29: 0.8362\n",
      "Accuracy after query 30: 0.8241\n",
      "Accuracy after query 31: 0.8298\n",
      "Accuracy after query 32: 0.8508\n",
      "Accuracy after query 33: 0.8108\n",
      "Accuracy after query 34: 0.8211\n",
      "Accuracy after query 35: 0.8340\n",
      "Accuracy after query 36: 0.8548\n",
      "Accuracy after query 37: 0.8370\n",
      "Accuracy after query 38: 0.8188\n",
      "Accuracy after query 39: 0.8264\n",
      "Accuracy after query 40: 0.8343\n",
      "Accuracy after query 41: 0.8413\n",
      "Accuracy after query 42: 0.8519\n",
      "Accuracy after query 43: 0.8608\n",
      "Accuracy after query 44: 0.8171\n",
      "Accuracy after query 45: 0.8320\n",
      "Accuracy after query 46: 0.8146\n",
      "Accuracy after query 47: 0.8507\n",
      "Accuracy after query 48: 0.8440\n",
      "Accuracy after query 49: 0.8220\n",
      "Accuracy after query 50: 0.8654\n",
      "Accuracy after query 51: 0.8446\n",
      "Accuracy after query 52: 0.8519\n",
      "Accuracy after query 53: 0.8295\n",
      "Accuracy after query 54: 0.8554\n",
      "Accuracy after query 55: 0.8580\n",
      "Accuracy after query 56: 0.8195\n",
      "Accuracy after query 57: 0.8326\n",
      "Accuracy after query 58: 0.8116\n",
      "Accuracy after query 59: 0.8213\n",
      "Accuracy after query 60: 0.8139\n",
      "Accuracy after query 61: 0.8195\n",
      "Accuracy after query 62: 0.8196\n",
      "Accuracy after query 63: 0.8422\n",
      "Accuracy after query 64: 0.8245\n",
      "Accuracy after query 65: 0.8394\n",
      "Accuracy after query 66: 0.8465\n",
      "Accuracy after query 67: 0.8345\n",
      "Accuracy after query 68: 0.8649\n",
      "Accuracy after query 69: 0.8668\n",
      "Accuracy after query 70: 0.8249\n",
      "Accuracy after query 71: 0.8501\n",
      "Accuracy after query 72: 0.8592\n",
      "Accuracy after query 73: 0.8527\n",
      "Accuracy after query 74: 0.8623\n",
      "Accuracy after query 75: 0.8615\n",
      "Accuracy after query 76: 0.8379\n",
      "Accuracy after query 77: 0.8667\n",
      "Accuracy after query 78: 0.8720\n",
      "Accuracy after query 79: 0.8529\n",
      "Accuracy after query 80: 0.8595\n",
      "Accuracy after query 81: 0.8658\n",
      "Accuracy after query 82: 0.8674\n",
      "Accuracy after query 83: 0.8645\n",
      "Accuracy after query 84: 0.8853\n",
      "Accuracy after query 85: 0.8782\n",
      "Accuracy after query 86: 0.8447\n",
      "Accuracy after query 87: 0.8648\n",
      "Accuracy after query 88: 0.8737\n",
      "Accuracy after query 89: 0.8632\n",
      "Accuracy after query 90: 0.8941\n",
      "Accuracy after query 91: 0.8681\n",
      "Accuracy after query 92: 0.8433\n",
      "Accuracy after query 93: 0.8722\n",
      "Accuracy after query 94: 0.8611\n",
      "Accuracy after query 95: 0.9055\n",
      "Accuracy after query 96: 0.8787\n",
      "Accuracy after query 97: 0.8866\n",
      "Accuracy after query 98: 0.8430\n",
      "Accuracy after query 99: 0.8771\n",
      "Accuracy after query 100: 0.8888\n",
      "(58900, 1, 28, 28)\n"
     ]
    }
   ],
   "source": [
    "# done!\n",
    "\n",
    "X_pool = np.delete(X_train, initial_idx_1000, axis=0)\n",
    "y_pool = np.delete(y_train, initial_idx_1000, axis=0)\n",
    "X_list = [X_test, X_pool, X_initial_1000]\n",
    "X_test_re, X_pool_re, X_initial_re_1000 = img_reshape(X_list)\n",
    "\n",
    "device = \"cuda\" if torch.cuda.is_available() else \"cpu\"\n",
    "estimator = NeuralNetClassifier_BNN(\n",
    "    BayesianCNN,\n",
    "    criterion=sample_elbo_class,\n",
    "    criterion__complexity_cost_weight=3e-5,\n",
    "    optimizer=torch.optim.RMSprop,\n",
    "    max_epochs=1000,\n",
    "    batch_size=64,\n",
    "    train_split=skorch.dataset.ValidSplit(5, stratified=True),\n",
    "    device='cuda',\n",
    "    callbacks=[skorch.callbacks.EarlyStopping(patience=10)],\n",
    "    verbose=0,\n",
    "    lr=0.0008\n",
    ")\n",
    "BCNN_uni_perf_hist = active_learning_procedure(\n",
    "    uniform,\n",
    "    X_test,\n",
    "    y_test,\n",
    "    X_pool,\n",
    "    y_pool,\n",
    "    X_initial_1000,\n",
    "    y_initial_1000,\n",
    "    estimator,\n",
    "    n_queries=100,\n",
    "    n_instances=1\n",
    ")\n",
    "np.save('D:/Studium/WiSe2021/SA/Project/run_adlr/BCNN_uni_1000_100x1.npy', BCNN_uni_perf_hist)"
   ]
  },
  {
   "cell_type": "markdown",
   "metadata": {
    "id": "UGxcNetO4BqJ",
    "jp-MarkdownHeadingCollapsed": true,
    "tags": []
   },
   "source": [
    "### RandomForest"
   ]
  },
  {
   "cell_type": "code",
   "execution_count": 236,
   "metadata": {
    "id": "LvjLBKtP3Ebg",
    "jupyter": {
     "source_hidden": true
    },
    "tags": []
   },
   "outputs": [],
   "source": [
    "X_pool = np.delete(X_train, initial_idx, axis=0)c\n",
    "y_pool = np.delete(y_train, initial_idx, axis=0)\n",
    "X_list = [X_test, X_pool, X_initial]\n",
    "X_test_re, X_pool_re, X_initial_re = img_reshape(X_list)"
   ]
  },
  {
   "cell_type": "code",
   "execution_count": 238,
   "metadata": {
    "colab": {
     "base_uri": "https://localhost:8080/"
    },
    "collapsed": true,
    "executionInfo": {
     "elapsed": 43078,
     "status": "ok",
     "timestamp": 1639662517359,
     "user": {
      "displayName": "dexuan meng",
      "photoUrl": "https://lh3.googleusercontent.com/a/default-user=s64",
      "userId": "02429618187161859061"
     },
     "user_tz": -60
    },
    "id": "1TEXFRMWrqJE",
    "jupyter": {
     "outputs_hidden": true,
     "source_hidden": true
    },
    "outputId": "f3671be7-b109-4eb3-d46a-b7e405c50568",
    "scrolled": true,
    "tags": []
   },
   "outputs": [
    {
     "name": "stdout",
     "output_type": "stream",
     "text": [
      "(59950, 784)\n",
      "[8]\n",
      "Accuracy after query 1: 0.6373\n",
      "[8]\n",
      "Accuracy after query 2: 0.6212\n",
      "[8]\n",
      "Accuracy after query 3: 0.6267\n",
      "[0]\n",
      "Accuracy after query 4: 0.6347\n",
      "[2]\n",
      "Accuracy after query 5: 0.6490\n",
      "[5]\n",
      "Accuracy after query 6: 0.6474\n",
      "[6]\n",
      "Accuracy after query 7: 0.6548\n",
      "[8]\n",
      "Accuracy after query 8: 0.6387\n",
      "[2]\n",
      "Accuracy after query 9: 0.6472\n",
      "[9]\n",
      "Accuracy after query 10: 0.6736\n",
      "[3]\n",
      "Accuracy after query 11: 0.6712\n",
      "[3]\n",
      "Accuracy after query 12: 0.6761\n",
      "[3]\n",
      "Accuracy after query 13: 0.6782\n",
      "[6]\n",
      "Accuracy after query 14: 0.6988\n",
      "[6]\n",
      "Accuracy after query 15: 0.6994\n",
      "[3]\n",
      "Accuracy after query 16: 0.6782\n",
      "[5]\n",
      "Accuracy after query 17: 0.6979\n",
      "[3]\n",
      "Accuracy after query 18: 0.6941\n",
      "[2]\n",
      "Accuracy after query 19: 0.6680\n",
      "[8]\n",
      "Accuracy after query 20: 0.6897\n",
      "[5]\n",
      "Accuracy after query 21: 0.6642\n",
      "[6]\n",
      "Accuracy after query 22: 0.6587\n",
      "[8]\n",
      "Accuracy after query 23: 0.6777\n",
      "[9]\n",
      "Accuracy after query 24: 0.6700\n",
      "[6]\n",
      "Accuracy after query 25: 0.6808\n",
      "[2]\n",
      "Accuracy after query 26: 0.6900\n",
      "[0]\n",
      "Accuracy after query 27: 0.6694\n",
      "[5]\n",
      "Accuracy after query 28: 0.6873\n",
      "[2]\n",
      "Accuracy after query 29: 0.6912\n",
      "[9]\n",
      "Accuracy after query 30: 0.6774\n",
      "[8]\n",
      "Accuracy after query 31: 0.6730\n",
      "[7]\n",
      "Accuracy after query 32: 0.7067\n",
      "[5]\n",
      "Accuracy after query 33: 0.6872\n",
      "[9]\n",
      "Accuracy after query 34: 0.6875\n",
      "[3]\n",
      "Accuracy after query 35: 0.6982\n",
      "[4]\n",
      "Accuracy after query 36: 0.6999\n",
      "[8]\n",
      "Accuracy after query 37: 0.6905\n",
      "[5]\n",
      "Accuracy after query 38: 0.6884\n",
      "[9]\n",
      "Accuracy after query 39: 0.7234\n",
      "[4]\n",
      "Accuracy after query 40: 0.7183\n",
      "[9]\n",
      "Accuracy after query 41: 0.7178\n",
      "[5]\n",
      "Accuracy after query 42: 0.7282\n",
      "[4]\n",
      "Accuracy after query 43: 0.7199\n",
      "[8]\n",
      "Accuracy after query 44: 0.7132\n",
      "[6]\n",
      "Accuracy after query 45: 0.7195\n",
      "[4]\n",
      "Accuracy after query 46: 0.7090\n",
      "[0]\n",
      "Accuracy after query 47: 0.7203\n",
      "[7]\n",
      "Accuracy after query 48: 0.7180\n",
      "[8]\n",
      "Accuracy after query 49: 0.7266\n",
      "[7]\n",
      "Accuracy after query 50: 0.7322\n",
      "[8]\n",
      "Accuracy after query 51: 0.7508\n",
      "[0]\n",
      "Accuracy after query 52: 0.7369\n",
      "[1]\n",
      "Accuracy after query 53: 0.7283\n",
      "[2]\n",
      "Accuracy after query 54: 0.7365\n",
      "[8]\n",
      "Accuracy after query 55: 0.7567\n",
      "[2]\n",
      "Accuracy after query 56: 0.7354\n",
      "[1]\n",
      "Accuracy after query 57: 0.7803\n",
      "[5]\n",
      "Accuracy after query 58: 0.7447\n",
      "[4]\n",
      "Accuracy after query 59: 0.7399\n",
      "[2]\n",
      "Accuracy after query 60: 0.7469\n",
      "[5]\n",
      "Accuracy after query 61: 0.7594\n",
      "[6]\n",
      "Accuracy after query 62: 0.7421\n",
      "[3]\n",
      "Accuracy after query 63: 0.7651\n",
      "[4]\n",
      "Accuracy after query 64: 0.7584\n",
      "[2]\n",
      "Accuracy after query 65: 0.7506\n",
      "[7]\n",
      "Accuracy after query 66: 0.7544\n",
      "[6]\n",
      "Accuracy after query 67: 0.7648\n",
      "[2]\n",
      "Accuracy after query 68: 0.7599\n",
      "[7]\n",
      "Accuracy after query 69: 0.7578\n",
      "[4]\n",
      "Accuracy after query 70: 0.7625\n",
      "[0]\n",
      "Accuracy after query 71: 0.7594\n",
      "[4]\n",
      "Accuracy after query 72: 0.7578\n",
      "[9]\n",
      "Accuracy after query 73: 0.7560\n",
      "[8]\n",
      "Accuracy after query 74: 0.7611\n",
      "[3]\n",
      "Accuracy after query 75: 0.7816\n",
      "[9]\n",
      "Accuracy after query 76: 0.7705\n",
      "[9]\n",
      "Accuracy after query 77: 0.7476\n",
      "[9]\n",
      "Accuracy after query 78: 0.7865\n",
      "[8]\n",
      "Accuracy after query 79: 0.7655\n",
      "[4]\n",
      "Accuracy after query 80: 0.7791\n",
      "[8]\n",
      "Accuracy after query 81: 0.7697\n",
      "[3]\n",
      "Accuracy after query 82: 0.7701\n",
      "[8]\n",
      "Accuracy after query 83: 0.7695\n",
      "[3]\n",
      "Accuracy after query 84: 0.7469\n",
      "[7]\n",
      "Accuracy after query 85: 0.7794\n",
      "[7]\n",
      "Accuracy after query 86: 0.7809\n",
      "[5]\n",
      "Accuracy after query 87: 0.7807\n",
      "[5]\n",
      "Accuracy after query 88: 0.7659\n",
      "[2]\n",
      "Accuracy after query 89: 0.7752\n",
      "[4]\n",
      "Accuracy after query 90: 0.7899\n",
      "[5]\n",
      "Accuracy after query 91: 0.7813\n",
      "[7]\n",
      "Accuracy after query 92: 0.7569\n",
      "[4]\n",
      "Accuracy after query 93: 0.7671\n",
      "[4]\n",
      "Accuracy after query 94: 0.7737\n",
      "[5]\n",
      "Accuracy after query 95: 0.7788\n",
      "[2]\n",
      "Accuracy after query 96: 0.7873\n",
      "[8]\n",
      "Accuracy after query 97: 0.7678\n",
      "[3]\n",
      "Accuracy after query 98: 0.7803\n",
      "[2]\n",
      "Accuracy after query 99: 0.7950\n",
      "[5]\n",
      "Accuracy after query 100: 0.7908\n",
      "(59850, 784)\n"
     ]
    }
   ],
   "source": [
    "# done!\n",
    "\n",
    "device = \"cuda\" if torch.cuda.is_available() else \"cpu\"\n",
    "estimator = RandomForestClassifier()\n",
    "RFC_perf_hist = active_learning_procedure(bald_rfc,\n",
    "                                          X_test_re,\n",
    "                                          y_test,\n",
    "                                          X_pool_re,\n",
    "                                          y_pool,\n",
    "                                          X_initial_re,\n",
    "                                          y_initial,\n",
    "                                          estimator,\n",
    "                                          n_queries=100,\n",
    "                                          n_instances=1\n",
    "                                         )"
   ]
  },
  {
   "cell_type": "code",
   "execution_count": 239,
   "metadata": {
    "id": "iwzZHEhdO0i2",
    "jupyter": {
     "source_hidden": true
    },
    "tags": []
   },
   "outputs": [],
   "source": [
    "np.save('D:/Studium/WiSe2021/SA/Project/run_adlr/RFC_baldrfc_50_100x1.npy', RFC_perf_hist)"
   ]
  },
  {
   "cell_type": "code",
   "execution_count": 240,
   "metadata": {
    "id": "iF_PPbyw3GiH",
    "jupyter": {
     "source_hidden": true
    },
    "tags": []
   },
   "outputs": [],
   "source": [
    "X_pool = np.delete(X_train, initial_idx, axis=0)\n",
    "y_pool = np.delete(y_train, initial_idx, axis=0)\n",
    "X_list = [X_test, X_pool, X_initial]\n",
    "X_test_re, X_pool_re, X_initial_re = img_reshape(X_list)"
   ]
  },
  {
   "cell_type": "code",
   "execution_count": 241,
   "metadata": {
    "colab": {
     "base_uri": "https://localhost:8080/"
    },
    "collapsed": true,
    "executionInfo": {
     "elapsed": 33586,
     "status": "ok",
     "timestamp": 1639662550939,
     "user": {
      "displayName": "dexuan meng",
      "photoUrl": "https://lh3.googleusercontent.com/a/default-user=s64",
      "userId": "02429618187161859061"
     },
     "user_tz": -60
    },
    "id": "yNNQNIqTDtOG",
    "jupyter": {
     "outputs_hidden": true,
     "source_hidden": true
    },
    "outputId": "0c7bed86-e170-4247-f284-5a603c93a830",
    "scrolled": true,
    "tags": []
   },
   "outputs": [
    {
     "name": "stdout",
     "output_type": "stream",
     "text": [
      "(59950, 784)\n",
      "[5]\n",
      "Accuracy after query 1: 0.6379\n",
      "[4]\n",
      "Accuracy after query 2: 0.6188\n",
      "[9]\n",
      "Accuracy after query 3: 0.6313\n",
      "[6]\n",
      "Accuracy after query 4: 0.6358\n",
      "[8]\n",
      "Accuracy after query 5: 0.6427\n",
      "[7]\n",
      "Accuracy after query 6: 0.6297\n",
      "[8]\n",
      "Accuracy after query 7: 0.6479\n",
      "[9]\n",
      "Accuracy after query 8: 0.6481\n",
      "[3]\n",
      "Accuracy after query 9: 0.6681\n",
      "[9]\n",
      "Accuracy after query 10: 0.6498\n",
      "[7]\n",
      "Accuracy after query 11: 0.6736\n",
      "[1]\n",
      "Accuracy after query 12: 0.6573\n",
      "[5]\n",
      "Accuracy after query 13: 0.6718\n",
      "[2]\n",
      "Accuracy after query 14: 0.6864\n",
      "[7]\n",
      "Accuracy after query 15: 0.6926\n",
      "[2]\n",
      "Accuracy after query 16: 0.6700\n",
      "[9]\n",
      "Accuracy after query 17: 0.6850\n",
      "[8]\n",
      "Accuracy after query 18: 0.6808\n",
      "[4]\n",
      "Accuracy after query 19: 0.6737\n",
      "[9]\n",
      "Accuracy after query 20: 0.6594\n",
      "[5]\n",
      "Accuracy after query 21: 0.6658\n",
      "[3]\n",
      "Accuracy after query 22: 0.6748\n",
      "[0]\n",
      "Accuracy after query 23: 0.6879\n",
      "[0]\n",
      "Accuracy after query 24: 0.6904\n",
      "[4]\n",
      "Accuracy after query 25: 0.6892\n",
      "[3]\n",
      "Accuracy after query 26: 0.6963\n",
      "[9]\n",
      "Accuracy after query 27: 0.7062\n",
      "[9]\n",
      "Accuracy after query 28: 0.6948\n",
      "[7]\n",
      "Accuracy after query 29: 0.6935\n",
      "[0]\n",
      "Accuracy after query 30: 0.7152\n",
      "[3]\n",
      "Accuracy after query 31: 0.6883\n",
      "[0]\n",
      "Accuracy after query 32: 0.7013\n",
      "[2]\n",
      "Accuracy after query 33: 0.7131\n",
      "[8]\n",
      "Accuracy after query 34: 0.7118\n",
      "[9]\n",
      "Accuracy after query 35: 0.6973\n",
      "[8]\n",
      "Accuracy after query 36: 0.6942\n",
      "[9]\n",
      "Accuracy after query 37: 0.7148\n",
      "[9]\n",
      "Accuracy after query 38: 0.7007\n",
      "[8]\n",
      "Accuracy after query 39: 0.7017\n",
      "[2]\n",
      "Accuracy after query 40: 0.6797\n",
      "[7]\n",
      "Accuracy after query 41: 0.7065\n",
      "[8]\n",
      "Accuracy after query 42: 0.7149\n",
      "[4]\n",
      "Accuracy after query 43: 0.7124\n",
      "[5]\n",
      "Accuracy after query 44: 0.7113\n",
      "[4]\n",
      "Accuracy after query 45: 0.7209\n",
      "[4]\n",
      "Accuracy after query 46: 0.7191\n",
      "[6]\n",
      "Accuracy after query 47: 0.7174\n",
      "[9]\n",
      "Accuracy after query 48: 0.7288\n",
      "[4]\n",
      "Accuracy after query 49: 0.7031\n",
      "[7]\n",
      "Accuracy after query 50: 0.7182\n",
      "[0]\n",
      "Accuracy after query 51: 0.7030\n",
      "[6]\n",
      "Accuracy after query 52: 0.7182\n",
      "[6]\n",
      "Accuracy after query 53: 0.7091\n",
      "[9]\n",
      "Accuracy after query 54: 0.7155\n",
      "[2]\n",
      "Accuracy after query 55: 0.7200\n",
      "[7]\n",
      "Accuracy after query 56: 0.7187\n",
      "[7]\n",
      "Accuracy after query 57: 0.7159\n",
      "[0]\n",
      "Accuracy after query 58: 0.7200\n",
      "[1]\n",
      "Accuracy after query 59: 0.7359\n",
      "[9]\n",
      "Accuracy after query 60: 0.7228\n",
      "[4]\n",
      "Accuracy after query 61: 0.7086\n",
      "[7]\n",
      "Accuracy after query 62: 0.7161\n",
      "[2]\n",
      "Accuracy after query 63: 0.7192\n",
      "[2]\n",
      "Accuracy after query 64: 0.7245\n",
      "[0]\n",
      "Accuracy after query 65: 0.7203\n",
      "[7]\n",
      "Accuracy after query 66: 0.7309\n",
      "[9]\n",
      "Accuracy after query 67: 0.7263\n",
      "[7]\n",
      "Accuracy after query 68: 0.7237\n",
      "[3]\n",
      "Accuracy after query 69: 0.7162\n",
      "[4]\n",
      "Accuracy after query 70: 0.7275\n",
      "[4]\n",
      "Accuracy after query 71: 0.7325\n",
      "[3]\n",
      "Accuracy after query 72: 0.7217\n",
      "[2]\n",
      "Accuracy after query 73: 0.7330\n",
      "[7]\n",
      "Accuracy after query 74: 0.7162\n",
      "[4]\n",
      "Accuracy after query 75: 0.7282\n",
      "[2]\n",
      "Accuracy after query 76: 0.7317\n",
      "[3]\n",
      "Accuracy after query 77: 0.7255\n",
      "[3]\n",
      "Accuracy after query 78: 0.7252\n",
      "[0]\n",
      "Accuracy after query 79: 0.7284\n",
      "[8]\n",
      "Accuracy after query 80: 0.7369\n",
      "[4]\n",
      "Accuracy after query 81: 0.7350\n",
      "[2]\n",
      "Accuracy after query 82: 0.7352\n",
      "[1]\n",
      "Accuracy after query 83: 0.7349\n",
      "[9]\n",
      "Accuracy after query 84: 0.7383\n",
      "[2]\n",
      "Accuracy after query 85: 0.7467\n",
      "[7]\n",
      "Accuracy after query 86: 0.7404\n",
      "[9]\n",
      "Accuracy after query 87: 0.7356\n",
      "[3]\n",
      "Accuracy after query 88: 0.7324\n",
      "[8]\n",
      "Accuracy after query 89: 0.7292\n",
      "[4]\n",
      "Accuracy after query 90: 0.7333\n",
      "[7]\n",
      "Accuracy after query 91: 0.7326\n",
      "[8]\n",
      "Accuracy after query 92: 0.7304\n",
      "[8]\n",
      "Accuracy after query 93: 0.7374\n",
      "[3]\n",
      "Accuracy after query 94: 0.7405\n",
      "[0]\n",
      "Accuracy after query 95: 0.7280\n",
      "[6]\n",
      "Accuracy after query 96: 0.7393\n",
      "[5]\n",
      "Accuracy after query 97: 0.7443\n",
      "[8]\n",
      "Accuracy after query 98: 0.7420\n",
      "[5]\n",
      "Accuracy after query 99: 0.7564\n",
      "[2]\n",
      "Accuracy after query 100: 0.7498\n",
      "(59850, 784)\n"
     ]
    }
   ],
   "source": [
    "# done!\n",
    "device = \"cuda\" if torch.cuda.is_available() else \"cpu\"\n",
    "estimator = RandomForestClassifier()\n",
    "RFC_uni_perf_hist = active_learning_procedure(uniform,\n",
    "                                              X_test_re,\n",
    "                                              y_test,\n",
    "                                              X_pool_re,\n",
    "                                              y_pool,\n",
    "                                              X_initial_re,\n",
    "                                              y_initial,\n",
    "                                              estimator,\n",
    "                                              n_queries=100,\n",
    "                                              n_instances=1\n",
    "                                             )"
   ]
  },
  {
   "cell_type": "code",
   "execution_count": 242,
   "metadata": {
    "id": "e28XEYm_8WY6",
    "jupyter": {
     "source_hidden": true
    },
    "tags": []
   },
   "outputs": [],
   "source": [
    "np.save('D:/Studium/WiSe2021/SA/Project/run_adlr/RFC_uni_50_100x1.npy', RFC_uni_perf_hist)"
   ]
  },
  {
   "cell_type": "markdown",
   "metadata": {
    "tags": []
   },
   "source": [
    "#### initial = 1000"
   ]
  },
  {
   "cell_type": "code",
   "execution_count": 42,
   "metadata": {
    "colab": {
     "base_uri": "https://localhost:8080/"
    },
    "collapsed": true,
    "executionInfo": {
     "elapsed": 43078,
     "status": "ok",
     "timestamp": 1639662517359,
     "user": {
      "displayName": "dexuan meng",
      "photoUrl": "https://lh3.googleusercontent.com/a/default-user=s64",
      "userId": "02429618187161859061"
     },
     "user_tz": -60
    },
    "id": "1TEXFRMWrqJE",
    "jupyter": {
     "outputs_hidden": true,
     "source_hidden": true
    },
    "outputId": "f3671be7-b109-4eb3-d46a-b7e405c50568",
    "tags": []
   },
   "outputs": [
    {
     "name": "stdout",
     "output_type": "stream",
     "text": [
      "(59000, 784)\n",
      "Accuracy after query 1: 0.7557\n",
      "Accuracy after query 2: 0.7495\n",
      "Accuracy after query 3: 0.7589\n",
      "Accuracy after query 4: 0.7716\n",
      "Accuracy after query 5: 0.7609\n",
      "Accuracy after query 6: 0.7629\n",
      "Accuracy after query 7: 0.7671\n",
      "Accuracy after query 8: 0.7769\n",
      "Accuracy after query 9: 0.7611\n",
      "Accuracy after query 10: 0.7625\n",
      "Accuracy after query 11: 0.7726\n",
      "Accuracy after query 12: 0.7784\n",
      "Accuracy after query 13: 0.7728\n",
      "Accuracy after query 14: 0.7731\n",
      "Accuracy after query 15: 0.7709\n",
      "Accuracy after query 16: 0.7708\n",
      "Accuracy after query 17: 0.7731\n",
      "Accuracy after query 18: 0.7850\n",
      "Accuracy after query 19: 0.7876\n",
      "Accuracy after query 20: 0.7781\n",
      "Accuracy after query 21: 0.7716\n",
      "Accuracy after query 22: 0.7848\n",
      "Accuracy after query 23: 0.7811\n",
      "Accuracy after query 24: 0.7872\n",
      "Accuracy after query 25: 0.7908\n",
      "Accuracy after query 26: 0.7941\n",
      "Accuracy after query 27: 0.7835\n",
      "Accuracy after query 28: 0.7792\n",
      "Accuracy after query 29: 0.7873\n",
      "Accuracy after query 30: 0.7874\n",
      "Accuracy after query 31: 0.7927\n",
      "Accuracy after query 32: 0.7915\n",
      "Accuracy after query 33: 0.7827\n",
      "Accuracy after query 34: 0.7784\n",
      "Accuracy after query 35: 0.7852\n",
      "Accuracy after query 36: 0.7932\n",
      "Accuracy after query 37: 0.7902\n",
      "Accuracy after query 38: 0.7915\n",
      "Accuracy after query 39: 0.7935\n",
      "Accuracy after query 40: 0.7924\n",
      "Accuracy after query 41: 0.8037\n",
      "Accuracy after query 42: 0.7962\n",
      "Accuracy after query 43: 0.7932\n",
      "Accuracy after query 44: 0.7919\n",
      "Accuracy after query 45: 0.7900\n",
      "Accuracy after query 46: 0.7962\n",
      "Accuracy after query 47: 0.7989\n",
      "Accuracy after query 48: 0.8066\n",
      "Accuracy after query 49: 0.8061\n",
      "Accuracy after query 50: 0.8042\n",
      "Accuracy after query 51: 0.7986\n",
      "Accuracy after query 52: 0.8051\n",
      "Accuracy after query 53: 0.7983\n",
      "Accuracy after query 54: 0.7995\n",
      "Accuracy after query 55: 0.8057\n",
      "Accuracy after query 56: 0.8071\n",
      "Accuracy after query 57: 0.8122\n",
      "Accuracy after query 58: 0.7988\n",
      "Accuracy after query 59: 0.8056\n",
      "Accuracy after query 60: 0.8048\n",
      "Accuracy after query 61: 0.8111\n",
      "Accuracy after query 62: 0.8058\n",
      "Accuracy after query 63: 0.8079\n",
      "Accuracy after query 64: 0.8074\n",
      "Accuracy after query 65: 0.8117\n",
      "Accuracy after query 66: 0.8219\n",
      "Accuracy after query 67: 0.8010\n",
      "Accuracy after query 68: 0.7973\n",
      "Accuracy after query 69: 0.8052\n",
      "Accuracy after query 70: 0.8045\n",
      "Accuracy after query 71: 0.8059\n",
      "Accuracy after query 72: 0.8066\n",
      "Accuracy after query 73: 0.8162\n",
      "Accuracy after query 74: 0.8102\n",
      "Accuracy after query 75: 0.8101\n",
      "Accuracy after query 76: 0.8139\n",
      "Accuracy after query 77: 0.8120\n",
      "Accuracy after query 78: 0.8105\n",
      "Accuracy after query 79: 0.7954\n",
      "Accuracy after query 80: 0.8160\n",
      "Accuracy after query 81: 0.8035\n",
      "Accuracy after query 82: 0.8068\n",
      "Accuracy after query 83: 0.8113\n",
      "Accuracy after query 84: 0.8117\n",
      "Accuracy after query 85: 0.8074\n",
      "Accuracy after query 86: 0.8050\n",
      "Accuracy after query 87: 0.8089\n",
      "Accuracy after query 88: 0.8052\n",
      "Accuracy after query 89: 0.7960\n",
      "Accuracy after query 90: 0.8126\n",
      "Accuracy after query 91: 0.8110\n",
      "Accuracy after query 92: 0.8101\n",
      "Accuracy after query 93: 0.8228\n",
      "Accuracy after query 94: 0.8120\n",
      "Accuracy after query 95: 0.8135\n",
      "Accuracy after query 96: 0.8057\n",
      "Accuracy after query 97: 0.8121\n",
      "Accuracy after query 98: 0.8149\n",
      "Accuracy after query 99: 0.8110\n",
      "Accuracy after query 100: 0.8069\n",
      "(58900, 784)\n"
     ]
    }
   ],
   "source": [
    "# done!\n",
    "X_pool = np.delete(X_train, initial_idx_1000, axis=0)\n",
    "y_pool = np.delete(y_train, initial_idx_1000, axis=0)\n",
    "X_list = [X_test, X_pool, X_initial_1000]\n",
    "X_test_re, X_pool_re, X_initial_re_1000 = img_reshape(X_list)\n",
    "\n",
    "device = \"cuda\" if torch.cuda.is_available() else \"cpu\"\n",
    "estimator = RandomForestClassifier()\n",
    "RFC_perf_hist = active_learning_procedure(bald_rfc,\n",
    "                                          X_test_re,\n",
    "                                          y_test,\n",
    "                                          X_pool_re,\n",
    "                                          y_pool,\n",
    "                                          X_initial_re_1000,\n",
    "                                          y_initial_1000,\n",
    "                                          estimator,\n",
    "                                          n_queries=100,\n",
    "                                          n_instances=1\n",
    "                                         )\n",
    "np.save('D:/Studium/WiSe2021/SA/Project/run_adlr/RFC_baldrfc_1000_100x1.npy', RFC_perf_hist)"
   ]
  },
  {
   "cell_type": "code",
   "execution_count": 43,
   "metadata": {
    "collapsed": true,
    "jupyter": {
     "outputs_hidden": true,
     "source_hidden": true
    },
    "scrolled": true,
    "tags": []
   },
   "outputs": [
    {
     "name": "stdout",
     "output_type": "stream",
     "text": [
      "(59000, 784)\n",
      "Accuracy after query 1: 0.7559\n",
      "Accuracy after query 2: 0.7663\n",
      "Accuracy after query 3: 0.7586\n",
      "Accuracy after query 4: 0.7636\n",
      "Accuracy after query 5: 0.7652\n",
      "Accuracy after query 6: 0.7591\n",
      "Accuracy after query 7: 0.7561\n",
      "Accuracy after query 8: 0.7595\n",
      "Accuracy after query 9: 0.7648\n",
      "Accuracy after query 10: 0.7566\n",
      "Accuracy after query 11: 0.7667\n",
      "Accuracy after query 12: 0.7574\n",
      "Accuracy after query 13: 0.7599\n",
      "Accuracy after query 14: 0.7639\n",
      "Accuracy after query 15: 0.7549\n",
      "Accuracy after query 16: 0.7588\n",
      "Accuracy after query 17: 0.7718\n",
      "Accuracy after query 18: 0.7703\n",
      "Accuracy after query 19: 0.7752\n",
      "Accuracy after query 20: 0.7787\n",
      "Accuracy after query 21: 0.7737\n",
      "Accuracy after query 22: 0.7616\n",
      "Accuracy after query 23: 0.7794\n",
      "Accuracy after query 24: 0.7706\n",
      "Accuracy after query 25: 0.7733\n",
      "Accuracy after query 26: 0.7875\n",
      "Accuracy after query 27: 0.7754\n",
      "Accuracy after query 28: 0.7802\n",
      "Accuracy after query 29: 0.7793\n",
      "Accuracy after query 30: 0.7739\n",
      "Accuracy after query 31: 0.7783\n",
      "Accuracy after query 32: 0.7723\n",
      "Accuracy after query 33: 0.7720\n",
      "Accuracy after query 34: 0.7856\n",
      "Accuracy after query 35: 0.7710\n",
      "Accuracy after query 36: 0.7809\n",
      "Accuracy after query 37: 0.7711\n",
      "Accuracy after query 38: 0.7798\n",
      "Accuracy after query 39: 0.7741\n",
      "Accuracy after query 40: 0.7734\n",
      "Accuracy after query 41: 0.7828\n",
      "Accuracy after query 42: 0.7718\n",
      "Accuracy after query 43: 0.7810\n",
      "Accuracy after query 44: 0.7816\n",
      "Accuracy after query 45: 0.7854\n",
      "Accuracy after query 46: 0.7821\n",
      "Accuracy after query 47: 0.7855\n",
      "Accuracy after query 48: 0.7860\n",
      "Accuracy after query 49: 0.7764\n",
      "Accuracy after query 50: 0.7784\n",
      "Accuracy after query 51: 0.7903\n",
      "Accuracy after query 52: 0.7816\n",
      "Accuracy after query 53: 0.7822\n",
      "Accuracy after query 54: 0.7887\n",
      "Accuracy after query 55: 0.7868\n",
      "Accuracy after query 56: 0.7864\n",
      "Accuracy after query 57: 0.7783\n",
      "Accuracy after query 58: 0.7847\n",
      "Accuracy after query 59: 0.7853\n",
      "Accuracy after query 60: 0.7901\n",
      "Accuracy after query 61: 0.7846\n",
      "Accuracy after query 62: 0.7934\n",
      "Accuracy after query 63: 0.7853\n",
      "Accuracy after query 64: 0.7828\n",
      "Accuracy after query 65: 0.7918\n",
      "Accuracy after query 66: 0.7952\n",
      "Accuracy after query 67: 0.7898\n",
      "Accuracy after query 68: 0.7849\n",
      "Accuracy after query 69: 0.7877\n",
      "Accuracy after query 70: 0.7897\n",
      "Accuracy after query 71: 0.7803\n",
      "Accuracy after query 72: 0.7883\n",
      "Accuracy after query 73: 0.7897\n",
      "Accuracy after query 74: 0.7894\n",
      "Accuracy after query 75: 0.7917\n",
      "Accuracy after query 76: 0.7923\n",
      "Accuracy after query 77: 0.7856\n",
      "Accuracy after query 78: 0.7896\n",
      "Accuracy after query 79: 0.7978\n",
      "Accuracy after query 80: 0.7941\n",
      "Accuracy after query 81: 0.7942\n",
      "Accuracy after query 82: 0.7994\n",
      "Accuracy after query 83: 0.7904\n",
      "Accuracy after query 84: 0.7915\n",
      "Accuracy after query 85: 0.7926\n",
      "Accuracy after query 86: 0.7933\n",
      "Accuracy after query 87: 0.7961\n",
      "Accuracy after query 88: 0.8001\n",
      "Accuracy after query 89: 0.7931\n",
      "Accuracy after query 90: 0.8027\n",
      "Accuracy after query 91: 0.7936\n",
      "Accuracy after query 92: 0.8016\n",
      "Accuracy after query 93: 0.8100\n",
      "Accuracy after query 94: 0.8068\n",
      "Accuracy after query 95: 0.8107\n",
      "Accuracy after query 96: 0.8042\n",
      "Accuracy after query 97: 0.7985\n",
      "Accuracy after query 98: 0.8075\n",
      "Accuracy after query 99: 0.8009\n",
      "Accuracy after query 100: 0.8093\n",
      "(58900, 784)\n"
     ]
    }
   ],
   "source": [
    "# done!\n",
    "\n",
    "X_pool = np.delete(X_train, initial_idx_1000, axis=0)\n",
    "y_pool = np.delete(y_train, initial_idx_1000, axis=0)\n",
    "X_list = [X_test, X_pool, X_initial_1000]\n",
    "X_test_re, X_pool_re, X_initial_re_1000 = img_reshape(X_list)\n",
    "\n",
    "device = \"cuda\" if torch.cuda.is_available() else \"cpu\"\n",
    "estimator = RandomForestClassifier()\n",
    "RFC_uni_perf_hist = active_learning_procedure(uniform,\n",
    "                                              X_test_re,\n",
    "                                              y_test,\n",
    "                                              X_pool_re,\n",
    "                                              y_pool,\n",
    "                                              X_initial_re_1000,\n",
    "                                              y_initial_1000,\n",
    "                                              estimator,\n",
    "                                              n_queries=100,\n",
    "                                              n_instances=1\n",
    "                                             )\n",
    "np.save('D:/Studium/WiSe2021/SA/Project/run_adlr/RFC_uni_1000_100x1.npy', RFC_uni_perf_hist)"
   ]
  },
  {
   "cell_type": "markdown",
   "metadata": {
    "id": "JOrVPb104FwT",
    "jp-MarkdownHeadingCollapsed": true,
    "tags": []
   },
   "source": [
    "### CNN with dropout"
   ]
  },
  {
   "cell_type": "code",
   "execution_count": 86,
   "metadata": {
    "colab": {
     "base_uri": "https://localhost:8080/",
     "height": 244
    },
    "collapsed": true,
    "executionInfo": {
     "elapsed": 279,
     "status": "error",
     "timestamp": 1639745672231,
     "user": {
      "displayName": "dexuan meng",
      "photoUrl": "https://lh3.googleusercontent.com/a/default-user=s64",
      "userId": "02429618187161859061"
     },
     "user_tz": -60
    },
    "id": "GX3_Nks8QfwN",
    "outputId": "d740e015-bcb9-4d2f-d99b-c806c28d5184",
    "tags": []
   },
   "outputs": [
    {
     "name": "stdout",
     "output_type": "stream",
     "text": [
      "(59950, 1, 28, 28)\n",
      "Accuracy after query 1: 0.6952\n",
      "Accuracy after query 2: 0.7404\n",
      "Accuracy after query 3: 0.7765\n",
      "Accuracy after query 4: 0.7829\n",
      "Accuracy after query 5: 0.8078\n",
      "Accuracy after query 6: 0.7996\n",
      "Accuracy after query 7: 0.7920\n",
      "Accuracy after query 8: 0.8163\n",
      "Accuracy after query 9: 0.8406\n",
      "Accuracy after query 10: 0.8304\n",
      "Accuracy after query 11: 0.8674\n",
      "Accuracy after query 12: 0.8683\n",
      "Accuracy after query 13: 0.8781\n",
      "Accuracy after query 14: 0.8785\n",
      "Accuracy after query 15: 0.8767\n",
      "Accuracy after query 16: 0.8922\n",
      "Accuracy after query 17: 0.8965\n",
      "Accuracy after query 18: 0.8970\n",
      "Accuracy after query 19: 0.9156\n",
      "Accuracy after query 20: 0.9194\n",
      "Accuracy after query 21: 0.9094\n",
      "Accuracy after query 22: 0.9089\n",
      "Accuracy after query 23: 0.9266\n",
      "Accuracy after query 24: 0.9248\n",
      "Accuracy after query 25: 0.9382\n",
      "Accuracy after query 26: 0.9137\n",
      "Accuracy after query 27: 0.9239\n",
      "Accuracy after query 28: 0.9217\n",
      "Accuracy after query 29: 0.9339\n",
      "Accuracy after query 30: 0.9400\n",
      "Accuracy after query 31: 0.9368\n",
      "Accuracy after query 32: 0.9443\n",
      "Accuracy after query 33: 0.9433\n",
      "Accuracy after query 34: 0.9272\n",
      "Accuracy after query 35: 0.9365\n",
      "Accuracy after query 36: 0.9481\n",
      "Accuracy after query 37: 0.9341\n",
      "Accuracy after query 38: 0.9494\n",
      "Accuracy after query 39: 0.9536\n",
      "Accuracy after query 40: 0.9451\n",
      "Accuracy after query 41: 0.9401\n",
      "Accuracy after query 42: 0.9528\n",
      "Accuracy after query 43: 0.9504\n",
      "Accuracy after query 44: 0.9499\n",
      "Accuracy after query 45: 0.9554\n",
      "Accuracy after query 46: 0.9511\n",
      "Accuracy after query 47: 0.9501\n",
      "Accuracy after query 48: 0.9611\n",
      "Accuracy after query 49: 0.9495\n",
      "Accuracy after query 50: 0.9509\n",
      "Accuracy after query 51: 0.9564\n",
      "Accuracy after query 52: 0.9590\n",
      "Accuracy after query 53: 0.9621\n",
      "Accuracy after query 54: 0.9667\n",
      "Accuracy after query 55: 0.9656\n",
      "Accuracy after query 56: 0.9657\n",
      "Accuracy after query 57: 0.9644\n",
      "Accuracy after query 58: 0.9645\n",
      "Accuracy after query 59: 0.9679\n",
      "Accuracy after query 60: 0.9655\n",
      "Accuracy after query 61: 0.9681\n",
      "Accuracy after query 62: 0.9709\n",
      "Accuracy after query 63: 0.9677\n",
      "Accuracy after query 64: 0.9663\n",
      "Accuracy after query 65: 0.9720\n",
      "Accuracy after query 66: 0.9732\n",
      "Accuracy after query 67: 0.9667\n",
      "Accuracy after query 68: 0.9725\n",
      "Accuracy after query 69: 0.9729\n",
      "Accuracy after query 70: 0.9762\n",
      "Accuracy after query 71: 0.9743\n",
      "Accuracy after query 72: 0.9654\n",
      "Accuracy after query 73: 0.9738\n",
      "Accuracy after query 74: 0.9725\n",
      "Accuracy after query 75: 0.9744\n",
      "Accuracy after query 76: 0.9766\n",
      "Accuracy after query 77: 0.9728\n",
      "Accuracy after query 78: 0.9780\n",
      "Accuracy after query 79: 0.9684\n",
      "Accuracy after query 80: 0.9775\n",
      "Accuracy after query 81: 0.9782\n",
      "Accuracy after query 82: 0.9793\n",
      "Accuracy after query 83: 0.9726\n",
      "Accuracy after query 84: 0.9765\n",
      "Accuracy after query 85: 0.9794\n",
      "Accuracy after query 86: 0.9741\n",
      "Accuracy after query 87: 0.9765\n",
      "Accuracy after query 88: 0.9785\n",
      "Accuracy after query 89: 0.9744\n",
      "Accuracy after query 90: 0.9801\n",
      "Accuracy after query 91: 0.9767\n",
      "Accuracy after query 92: 0.9789\n",
      "Accuracy after query 93: 0.9783\n",
      "Accuracy after query 94: 0.9772\n",
      "Accuracy after query 95: 0.9794\n",
      "Accuracy after query 96: 0.9794\n",
      "Accuracy after query 97: 0.9789\n",
      "Accuracy after query 98: 0.9741\n",
      "Accuracy after query 99: 0.9820\n",
      "Accuracy after query 100: 0.9828\n",
      "(58950, 1, 28, 28)\n"
     ]
    }
   ],
   "source": [
    "X_pool = np.delete(X_train, initial_idx, axis=0)\n",
    "y_pool = np.delete(y_train, initial_idx, axis=0)\n",
    "X_list = [X_test, X_pool, X_initial]\n",
    "X_test_re, X_pool_re, X_initial_re = img_reshape(X_list)\n",
    "device = \"cuda\" if torch.cuda.is_available() else \"cpu\"\n",
    "estimator = NeuralNetClassifier(CNN,\n",
    "                                max_epochs=50,\n",
    "                                batch_size=128,\n",
    "                                lr=0.001,\n",
    "                                optimizer=torch.optim.Adam,\n",
    "                                criterion=torch.nn.CrossEntropyLoss,\n",
    "                                train_split=None,\n",
    "                                verbose=0,\n",
    "                                device=device)\n",
    "CNN_perf_hist = active_learning_procedure(\n",
    "    bald_MC,\n",
    "    X_test,\n",
    "    y_test,\n",
    "    X_pool,\n",
    "    y_pool,\n",
    "    X_initial,\n",
    "    y_initial,\n",
    "    estimator,\n",
    "    n_instances=10\n",
    ")\n",
    "np.save('D:/Studium/WiSe2021/SA/Project/run_adlr/CNN_baldMC_perf_hist_10x100(10000).npy',CNN_perf_hist)"
   ]
  },
  {
   "cell_type": "code",
   "execution_count": 30,
   "metadata": {
    "colab": {
     "base_uri": "https://localhost:8080/"
    },
    "collapsed": true,
    "executionInfo": {
     "elapsed": 53384,
     "status": "ok",
     "timestamp": 1639663099125,
     "user": {
      "displayName": "dexuan meng",
      "photoUrl": "https://lh3.googleusercontent.com/a/default-user=s64",
      "userId": "02429618187161859061"
     },
     "user_tz": -60
    },
    "id": "ZVy11jg6mOoH",
    "outputId": "4983d615-80c9-47b8-cc46-e5e06ad618a5",
    "tags": []
   },
   "outputs": [
    {
     "name": "stdout",
     "output_type": "stream",
     "text": [
      "(59950, 1, 28, 28)\n",
      "Accuracy after query 1: 0.7444\n",
      "Accuracy after query 2: 0.7503\n",
      "Accuracy after query 3: 0.7602\n",
      "Accuracy after query 4: 0.7669\n",
      "Accuracy after query 5: 0.7941\n",
      "Accuracy after query 6: 0.7861\n",
      "Accuracy after query 7: 0.8243\n",
      "Accuracy after query 8: 0.7912\n",
      "Accuracy after query 9: 0.7797\n",
      "Accuracy after query 10: 0.7993\n",
      "Accuracy after query 11: 0.8152\n",
      "Accuracy after query 12: 0.8313\n",
      "Accuracy after query 13: 0.8248\n",
      "Accuracy after query 14: 0.8464\n",
      "Accuracy after query 15: 0.8334\n",
      "Accuracy after query 16: 0.8615\n",
      "Accuracy after query 17: 0.8756\n",
      "Accuracy after query 18: 0.8624\n",
      "Accuracy after query 19: 0.8750\n",
      "Accuracy after query 20: 0.8733\n",
      "Accuracy after query 21: 0.8775\n",
      "Accuracy after query 22: 0.8990\n",
      "Accuracy after query 23: 0.8788\n",
      "Accuracy after query 24: 0.8988\n",
      "Accuracy after query 25: 0.8938\n",
      "Accuracy after query 26: 0.9009\n",
      "Accuracy after query 27: 0.8964\n",
      "Accuracy after query 28: 0.9029\n",
      "Accuracy after query 29: 0.8933\n",
      "Accuracy after query 30: 0.9099\n",
      "Accuracy after query 31: 0.9166\n",
      "Accuracy after query 32: 0.9033\n",
      "Accuracy after query 33: 0.9104\n",
      "Accuracy after query 34: 0.9101\n",
      "Accuracy after query 35: 0.9083\n",
      "Accuracy after query 36: 0.9160\n",
      "Accuracy after query 37: 0.9105\n",
      "Accuracy after query 38: 0.9212\n",
      "Accuracy after query 39: 0.9117\n",
      "Accuracy after query 40: 0.9205\n",
      "Accuracy after query 41: 0.9316\n",
      "Accuracy after query 42: 0.9274\n",
      "Accuracy after query 43: 0.9208\n",
      "Accuracy after query 44: 0.9228\n",
      "Accuracy after query 45: 0.9137\n",
      "Accuracy after query 46: 0.9190\n",
      "Accuracy after query 47: 0.9311\n",
      "Accuracy after query 48: 0.9299\n",
      "Accuracy after query 49: 0.9280\n",
      "Accuracy after query 50: 0.9346\n",
      "Accuracy after query 51: 0.9343\n",
      "Accuracy after query 52: 0.9336\n",
      "Accuracy after query 53: 0.9360\n",
      "Accuracy after query 54: 0.9358\n",
      "Accuracy after query 55: 0.9378\n",
      "Accuracy after query 56: 0.9316\n",
      "Accuracy after query 57: 0.9299\n",
      "Accuracy after query 58: 0.9405\n",
      "Accuracy after query 59: 0.9407\n",
      "Accuracy after query 60: 0.9322\n",
      "Accuracy after query 61: 0.9374\n",
      "Accuracy after query 62: 0.9419\n",
      "Accuracy after query 63: 0.9394\n",
      "Accuracy after query 64: 0.9394\n",
      "Accuracy after query 65: 0.9441\n",
      "Accuracy after query 66: 0.9384\n",
      "Accuracy after query 67: 0.9408\n",
      "Accuracy after query 68: 0.9372\n",
      "Accuracy after query 69: 0.9349\n",
      "Accuracy after query 70: 0.9426\n",
      "Accuracy after query 71: 0.9439\n",
      "Accuracy after query 72: 0.9510\n",
      "Accuracy after query 73: 0.9427\n",
      "Accuracy after query 74: 0.9501\n",
      "Accuracy after query 75: 0.9452\n",
      "Accuracy after query 76: 0.9512\n",
      "Accuracy after query 77: 0.9443\n",
      "Accuracy after query 78: 0.9445\n",
      "Accuracy after query 79: 0.9437\n",
      "Accuracy after query 80: 0.9441\n",
      "Accuracy after query 81: 0.9516\n",
      "Accuracy after query 82: 0.9458\n",
      "Accuracy after query 83: 0.9520\n",
      "Accuracy after query 84: 0.9480\n",
      "Accuracy after query 85: 0.9474\n",
      "Accuracy after query 86: 0.9525\n",
      "Accuracy after query 87: 0.9552\n",
      "Accuracy after query 88: 0.9497\n",
      "Accuracy after query 89: 0.9484\n",
      "Accuracy after query 90: 0.9502\n",
      "Accuracy after query 91: 0.9541\n",
      "Accuracy after query 92: 0.9551\n",
      "Accuracy after query 93: 0.9517\n",
      "Accuracy after query 94: 0.9538\n",
      "Accuracy after query 95: 0.9522\n",
      "Accuracy after query 96: 0.9591\n",
      "Accuracy after query 97: 0.9507\n",
      "Accuracy after query 98: 0.9554\n",
      "Accuracy after query 99: 0.9487\n",
      "Accuracy after query 100: 0.9575\n",
      "(58950, 1, 28, 28)\n"
     ]
    }
   ],
   "source": [
    "X_pool = np.delete(X_train, initial_idx, axis=0)\n",
    "y_pool = np.delete(y_train, initial_idx, axis=0)\n",
    "X_list = [X_test, X_pool, X_initial]\n",
    "X_test_re, X_pool_re, X_initial_re = img_reshape(X_list)\n",
    "device = \"cuda\" if torch.cuda.is_available() else \"cpu\"\n",
    "estimator = NeuralNetClassifier(CNN,\n",
    "                                max_epochs=50,\n",
    "                                batch_size=128,\n",
    "                                lr=0.001,\n",
    "                                optimizer=torch.optim.Adam,\n",
    "                                criterion=torch.nn.CrossEntropyLoss,\n",
    "                                train_split=None,\n",
    "                                verbose=0,\n",
    "                                device=device)\n",
    "CNN_uni_perf_hist = active_learning_procedure(\n",
    "    uniform,\n",
    "    X_test,\n",
    "    y_test,\n",
    "    X_pool,\n",
    "    y_pool,\n",
    "    X_initial,\n",
    "    y_initial,\n",
    "    estimator,\n",
    "    n_instances=10\n",
    ")\n",
    "np.save('D:/Studium/WiSe2021/SA/Project/run_adlr/CNN_uni_perf_hist_10x100(10000).npy', CNN_uni_perf_hist)"
   ]
  },
  {
   "cell_type": "markdown",
   "metadata": {},
   "source": [
    "#### initial = 1000"
   ]
  },
  {
   "cell_type": "code",
   "execution_count": 53,
   "metadata": {
    "colab": {
     "base_uri": "https://localhost:8080/",
     "height": 244
    },
    "collapsed": true,
    "executionInfo": {
     "elapsed": 279,
     "status": "error",
     "timestamp": 1639745672231,
     "user": {
      "displayName": "dexuan meng",
      "photoUrl": "https://lh3.googleusercontent.com/a/default-user=s64",
      "userId": "02429618187161859061"
     },
     "user_tz": -60
    },
    "id": "GX3_Nks8QfwN",
    "outputId": "d740e015-bcb9-4d2f-d99b-c806c28d5184",
    "tags": []
   },
   "outputs": [
    {
     "name": "stdout",
     "output_type": "stream",
     "text": [
      "(59000, 1, 28, 28)\n",
      "Accuracy after query 1: 0.8227\n",
      "Accuracy after query 2: 0.8302\n",
      "Accuracy after query 3: 0.8434\n",
      "Accuracy after query 4: 0.8465\n",
      "Accuracy after query 5: 0.8459\n",
      "Accuracy after query 6: 0.8358\n",
      "Accuracy after query 7: 0.8471\n",
      "Accuracy after query 8: 0.8477\n",
      "Accuracy after query 9: 0.8315\n",
      "Accuracy after query 10: 0.8437\n",
      "Accuracy after query 11: 0.8350\n",
      "Accuracy after query 12: 0.8204\n",
      "Accuracy after query 13: 0.8365\n",
      "Accuracy after query 14: 0.8432\n",
      "Accuracy after query 15: 0.8366\n",
      "Accuracy after query 16: 0.8484\n",
      "Accuracy after query 17: 0.8508\n",
      "Accuracy after query 18: 0.8324\n",
      "Accuracy after query 19: 0.8448\n",
      "Accuracy after query 20: 0.8422\n",
      "Accuracy after query 21: 0.8326\n",
      "Accuracy after query 22: 0.8409\n",
      "Accuracy after query 23: 0.8472\n",
      "Accuracy after query 24: 0.8335\n",
      "Accuracy after query 25: 0.8543\n",
      "Accuracy after query 26: 0.8440\n",
      "Accuracy after query 27: 0.8519\n",
      "Accuracy after query 28: 0.8622\n",
      "Accuracy after query 29: 0.8575\n",
      "Accuracy after query 30: 0.8578\n",
      "Accuracy after query 31: 0.8679\n",
      "Accuracy after query 32: 0.8573\n",
      "Accuracy after query 33: 0.8818\n",
      "Accuracy after query 34: 0.8703\n",
      "Accuracy after query 35: 0.8641\n",
      "Accuracy after query 36: 0.8737\n",
      "Accuracy after query 37: 0.8651\n",
      "Accuracy after query 38: 0.8592\n",
      "Accuracy after query 39: 0.8724\n",
      "Accuracy after query 40: 0.8686\n",
      "Accuracy after query 41: 0.8568\n",
      "Accuracy after query 42: 0.8728\n",
      "Accuracy after query 43: 0.8788\n",
      "Accuracy after query 44: 0.8638\n",
      "Accuracy after query 45: 0.8761\n",
      "Accuracy after query 46: 0.8522\n",
      "Accuracy after query 47: 0.8678\n",
      "Accuracy after query 48: 0.8772\n",
      "Accuracy after query 49: 0.8631\n",
      "Accuracy after query 50: 0.8678\n",
      "Accuracy after query 51: 0.8642\n",
      "Accuracy after query 52: 0.8706\n",
      "Accuracy after query 53: 0.8668\n",
      "Accuracy after query 54: 0.8673\n",
      "Accuracy after query 55: 0.8814\n",
      "Accuracy after query 56: 0.8594\n",
      "Accuracy after query 57: 0.8906\n",
      "Accuracy after query 58: 0.8773\n",
      "Accuracy after query 59: 0.8892\n",
      "Accuracy after query 60: 0.8778\n",
      "Accuracy after query 61: 0.8670\n",
      "Accuracy after query 62: 0.8801\n",
      "Accuracy after query 63: 0.8805\n",
      "Accuracy after query 64: 0.8706\n",
      "Accuracy after query 65: 0.8789\n",
      "Accuracy after query 66: 0.8808\n",
      "Accuracy after query 67: 0.8668\n",
      "Accuracy after query 68: 0.8615\n",
      "Accuracy after query 69: 0.8688\n",
      "Accuracy after query 70: 0.8786\n",
      "Accuracy after query 71: 0.8820\n",
      "Accuracy after query 72: 0.8758\n",
      "Accuracy after query 73: 0.8792\n",
      "Accuracy after query 74: 0.8743\n",
      "Accuracy after query 75: 0.8843\n",
      "Accuracy after query 76: 0.8811\n",
      "Accuracy after query 77: 0.8781\n",
      "Accuracy after query 78: 0.8807\n",
      "Accuracy after query 79: 0.8789\n",
      "Accuracy after query 80: 0.8816\n",
      "Accuracy after query 81: 0.8743\n",
      "Accuracy after query 82: 0.8683\n",
      "Accuracy after query 83: 0.8861\n",
      "Accuracy after query 84: 0.8742\n",
      "Accuracy after query 85: 0.8852\n",
      "Accuracy after query 86: 0.8752\n",
      "Accuracy after query 87: 0.8638\n",
      "Accuracy after query 88: 0.8923\n",
      "Accuracy after query 89: 0.8747\n",
      "Accuracy after query 90: 0.8704\n",
      "Accuracy after query 91: 0.8863\n",
      "Accuracy after query 92: 0.8935\n",
      "Accuracy after query 93: 0.8677\n",
      "Accuracy after query 94: 0.8814\n",
      "Accuracy after query 95: 0.8802\n",
      "Accuracy after query 96: 0.8841\n",
      "Accuracy after query 97: 0.8906\n",
      "Accuracy after query 98: 0.8887\n",
      "Accuracy after query 99: 0.8830\n",
      "Accuracy after query 100: 0.8931\n",
      "(58900, 1, 28, 28)\n"
     ]
    }
   ],
   "source": [
    "X_pool = np.delete(X_train, initial_idx_1000, axis=0)\n",
    "y_pool = np.delete(y_train, initial_idx_1000, axis=0)\n",
    "X_list = [X_test, X_pool, X_initial_1000]\n",
    "X_test_re, X_pool_re, X_initial_re_1000 = img_reshape(X_list)\n",
    "device = \"cuda\" if torch.cuda.is_available() else \"cpu\"\n",
    "estimator = NeuralNetClassifier(CNN,\n",
    "                                max_epochs=50,\n",
    "                                batch_size=128,\n",
    "                                lr=0.001,\n",
    "                                optimizer=torch.optim.Adam,\n",
    "                                criterion=torch.nn.CrossEntropyLoss,\n",
    "                                train_split=None,\n",
    "                                verbose=0,\n",
    "                                device=device)\n",
    "CNN_perf_hist = active_learning_procedure(\n",
    "    bald_MC,\n",
    "    X_test,\n",
    "    y_test,\n",
    "    X_pool,\n",
    "    y_pool,\n",
    "    X_initial_1000,\n",
    "    y_initial_1000,\n",
    "    estimator,\n",
    "    n_queries=100,\n",
    "    n_instances=1\n",
    ")\n",
    "np.save('D:/Studium/WiSe2021/SA/Project/run_adlr/MC_baldMC_1000_100x1.npy', CNN_perf_hist)"
   ]
  },
  {
   "cell_type": "code",
   "execution_count": 54,
   "metadata": {
    "colab": {
     "base_uri": "https://localhost:8080/"
    },
    "collapsed": true,
    "executionInfo": {
     "elapsed": 53384,
     "status": "ok",
     "timestamp": 1639663099125,
     "user": {
      "displayName": "dexuan meng",
      "photoUrl": "https://lh3.googleusercontent.com/a/default-user=s64",
      "userId": "02429618187161859061"
     },
     "user_tz": -60
    },
    "id": "ZVy11jg6mOoH",
    "outputId": "4983d615-80c9-47b8-cc46-e5e06ad618a5",
    "tags": []
   },
   "outputs": [
    {
     "name": "stdout",
     "output_type": "stream",
     "text": [
      "(59000, 1, 28, 28)\n",
      "Accuracy after query 1: 0.8410\n",
      "Accuracy after query 2: 0.8162\n",
      "Accuracy after query 3: 0.8384\n",
      "Accuracy after query 4: 0.8293\n",
      "Accuracy after query 5: 0.8262\n",
      "Accuracy after query 6: 0.8475\n",
      "Accuracy after query 7: 0.8528\n",
      "Accuracy after query 8: 0.8337\n",
      "Accuracy after query 9: 0.8490\n",
      "Accuracy after query 10: 0.8360\n",
      "Accuracy after query 11: 0.8534\n",
      "Accuracy after query 12: 0.8269\n",
      "Accuracy after query 13: 0.8539\n",
      "Accuracy after query 14: 0.8170\n",
      "Accuracy after query 15: 0.8365\n",
      "Accuracy after query 16: 0.8366\n",
      "Accuracy after query 17: 0.8343\n",
      "Accuracy after query 18: 0.8506\n",
      "Accuracy after query 19: 0.8488\n",
      "Accuracy after query 20: 0.8495\n",
      "Accuracy after query 21: 0.8452\n",
      "Accuracy after query 22: 0.8551\n",
      "Accuracy after query 23: 0.8518\n",
      "Accuracy after query 24: 0.8458\n",
      "Accuracy after query 25: 0.8511\n",
      "Accuracy after query 26: 0.8434\n",
      "Accuracy after query 27: 0.8530\n",
      "Accuracy after query 28: 0.8530\n",
      "Accuracy after query 29: 0.8386\n",
      "Accuracy after query 30: 0.8532\n",
      "Accuracy after query 31: 0.8307\n",
      "Accuracy after query 32: 0.8586\n",
      "Accuracy after query 33: 0.8386\n",
      "Accuracy after query 34: 0.8529\n",
      "Accuracy after query 35: 0.8456\n",
      "Accuracy after query 36: 0.8606\n",
      "Accuracy after query 37: 0.8766\n",
      "Accuracy after query 38: 0.8722\n",
      "Accuracy after query 39: 0.8440\n",
      "Accuracy after query 40: 0.8601\n",
      "Accuracy after query 41: 0.8560\n",
      "Accuracy after query 42: 0.8537\n",
      "Accuracy after query 43: 0.8521\n",
      "Accuracy after query 44: 0.8721\n",
      "Accuracy after query 45: 0.8641\n",
      "Accuracy after query 46: 0.8577\n",
      "Accuracy after query 47: 0.8703\n",
      "Accuracy after query 48: 0.8563\n",
      "Accuracy after query 49: 0.8532\n",
      "Accuracy after query 50: 0.8725\n",
      "Accuracy after query 51: 0.8506\n",
      "Accuracy after query 52: 0.8689\n",
      "Accuracy after query 53: 0.8684\n",
      "Accuracy after query 54: 0.8598\n",
      "Accuracy after query 55: 0.8711\n",
      "Accuracy after query 56: 0.8684\n",
      "Accuracy after query 57: 0.8544\n",
      "Accuracy after query 58: 0.8624\n",
      "Accuracy after query 59: 0.8667\n",
      "Accuracy after query 60: 0.8529\n",
      "Accuracy after query 61: 0.8677\n",
      "Accuracy after query 62: 0.8554\n",
      "Accuracy after query 63: 0.8782\n",
      "Accuracy after query 64: 0.8671\n",
      "Accuracy after query 65: 0.8629\n",
      "Accuracy after query 66: 0.8599\n",
      "Accuracy after query 67: 0.8774\n",
      "Accuracy after query 68: 0.8737\n",
      "Accuracy after query 69: 0.8701\n",
      "Accuracy after query 70: 0.8673\n",
      "Accuracy after query 71: 0.8566\n",
      "Accuracy after query 72: 0.8653\n",
      "Accuracy after query 73: 0.8698\n",
      "Accuracy after query 74: 0.8741\n",
      "Accuracy after query 75: 0.8845\n",
      "Accuracy after query 76: 0.8734\n",
      "Accuracy after query 77: 0.8807\n",
      "Accuracy after query 78: 0.8620\n",
      "Accuracy after query 79: 0.8749\n",
      "Accuracy after query 80: 0.8761\n",
      "Accuracy after query 81: 0.8630\n",
      "Accuracy after query 82: 0.8673\n",
      "Accuracy after query 83: 0.8744\n",
      "Accuracy after query 84: 0.8764\n",
      "Accuracy after query 85: 0.8712\n",
      "Accuracy after query 86: 0.8529\n",
      "Accuracy after query 87: 0.8721\n",
      "Accuracy after query 88: 0.8772\n",
      "Accuracy after query 89: 0.8701\n",
      "Accuracy after query 90: 0.8734\n",
      "Accuracy after query 91: 0.8612\n",
      "Accuracy after query 92: 0.8822\n",
      "Accuracy after query 93: 0.8755\n",
      "Accuracy after query 94: 0.8788\n",
      "Accuracy after query 95: 0.8747\n",
      "Accuracy after query 96: 0.8766\n",
      "Accuracy after query 97: 0.8715\n",
      "Accuracy after query 98: 0.8713\n",
      "Accuracy after query 99: 0.8926\n",
      "Accuracy after query 100: 0.8894\n",
      "(58900, 1, 28, 28)\n"
     ]
    }
   ],
   "source": [
    "X_pool = np.delete(X_train, initial_idx_1000, axis=0)\n",
    "y_pool = np.delete(y_train, initial_idx_1000, axis=0)\n",
    "X_list = [X_test, X_pool, X_initial_1000]\n",
    "X_test_re, X_pool_re, X_initial_re_1000 = img_reshape(X_list)\n",
    "device = \"cuda\" if torch.cuda.is_available() else \"cpu\"\n",
    "estimator = NeuralNetClassifier(CNN,\n",
    "                                max_epochs=50,\n",
    "                                batch_size=128,\n",
    "                                lr=0.001,\n",
    "                                optimizer=torch.optim.Adam,\n",
    "                                criterion=torch.nn.CrossEntropyLoss,\n",
    "                                train_split=None,\n",
    "                                verbose=0,\n",
    "                                device=device)\n",
    "CNN_uni_perf_hist = active_learning_procedure(\n",
    "    uniform,\n",
    "    X_test,\n",
    "    y_test,\n",
    "    X_pool,\n",
    "    y_pool,\n",
    "    X_initial_1000,\n",
    "    y_initial_1000,\n",
    "    estimator,\n",
    "    n_queries=100,\n",
    "    n_instances=1\n",
    ")\n",
    "np.save('D:/Studium/WiSe2021/SA/Project/run_adlr/MC_uni_1000_100x1.npy', CNN_uni_perf_hist)"
   ]
  },
  {
   "cell_type": "markdown",
   "metadata": {
    "id": "id7VsmxG4tRY",
    "jp-MarkdownHeadingCollapsed": true,
    "tags": []
   },
   "source": [
    "### Ensemble based Method"
   ]
  },
  {
   "cell_type": "code",
   "execution_count": null,
   "metadata": {},
   "outputs": [],
   "source": [
    "from utils import *"
   ]
  },
  {
   "cell_type": "code",
   "execution_count": 20,
   "metadata": {
    "id": "EOwc2mS12-EP"
   },
   "outputs": [],
   "source": [
    "X_pool = np.delete(X_train, initial_idx, axis=0)\n",
    "y_pool = np.delete(y_train, initial_idx, axis=0)\n",
    "X_list = [X_test, X_pool, X_initial]\n",
    "X_test_re, X_pool_re, X_initial_re = img_reshape(X_list)"
   ]
  },
  {
   "cell_type": "markdown",
   "metadata": {},
   "source": [
    "#### initial = 1000"
   ]
  },
  {
   "cell_type": "code",
   "execution_count": null,
   "metadata": {},
   "outputs": [],
   "source": [
    "X_pool = np.delete(X_train, initial_idx_1000, axis=0)\n",
    "y_pool = np.delete(y_train, initial_idx_1000, axis=0)\n",
    "X_list = [X_test, X_pool, X_initial_1000]\n",
    "X_test_re, X_pool_re, X_initial_re_1000 = img_reshape(X_list)"
   ]
  },
  {
   "cell_type": "code",
   "execution_count": 21,
   "metadata": {
    "colab": {
     "base_uri": "https://localhost:8080/",
     "height": 806
    },
    "collapsed": true,
    "executionInfo": {
     "elapsed": 296269,
     "status": "error",
     "timestamp": 1639750893734,
     "user": {
      "displayName": "dexuan meng",
      "photoUrl": "https://lh3.googleusercontent.com/a/default-user=s64",
      "userId": "02429618187161859061"
     },
     "user_tz": -60
    },
    "id": "wM3YesDN41H1",
    "outputId": "03b58901-26a1-404c-d75d-b3fb1755fd3d",
    "tags": []
   },
   "outputs": [
    {
     "name": "stdout",
     "output_type": "stream",
     "text": [
      "Accuracy after query 1: 0.7596\n",
      "Accuracy after query 2: 0.7625\n",
      "Accuracy after query 3: 0.7547\n",
      "Accuracy after query 4: 0.7716\n",
      "Accuracy after query 5: 0.7643\n",
      "Accuracy after query 6: 0.7988\n",
      "Accuracy after query 7: 0.8149\n",
      "Accuracy after query 8: 0.8133\n",
      "Accuracy after query 9: 0.8266\n",
      "Accuracy after query 10: 0.8567\n",
      "Accuracy after query 11: 0.8844\n",
      "Accuracy after query 12: 0.8729\n",
      "Accuracy after query 13: 0.8753\n",
      "Accuracy after query 14: 0.9042\n",
      "Accuracy after query 15: 0.8996\n",
      "Accuracy after query 16: 0.9033\n",
      "Accuracy after query 17: 0.9087\n",
      "Accuracy after query 18: 0.9125\n",
      "Accuracy after query 19: 0.9158\n",
      "Accuracy after query 20: 0.9183\n",
      "Accuracy after query 21: 0.9260\n",
      "Accuracy after query 22: 0.9167\n",
      "Accuracy after query 23: 0.9339\n",
      "Accuracy after query 24: 0.9322\n",
      "Accuracy after query 25: 0.9359\n",
      "Accuracy after query 26: 0.9442\n",
      "Accuracy after query 27: 0.9486\n",
      "Accuracy after query 28: 0.9480\n",
      "Accuracy after query 29: 0.9513\n",
      "Accuracy after query 30: 0.9532\n",
      "Accuracy after query 31: 0.9548\n",
      "Accuracy after query 32: 0.9582\n",
      "Accuracy after query 33: 0.9569\n",
      "Accuracy after query 34: 0.9566\n",
      "Accuracy after query 35: 0.9611\n",
      "Accuracy after query 36: 0.9559\n",
      "Accuracy after query 37: 0.9575\n",
      "Accuracy after query 38: 0.9610\n",
      "Accuracy after query 39: 0.9633\n",
      "Accuracy after query 40: 0.9687\n",
      "Accuracy after query 41: 0.9683\n",
      "Accuracy after query 42: 0.9688\n",
      "Accuracy after query 43: 0.9711\n",
      "Accuracy after query 44: 0.9727\n",
      "Accuracy after query 45: 0.9709\n",
      "Accuracy after query 46: 0.9735\n",
      "Accuracy after query 47: 0.9718\n",
      "Accuracy after query 48: 0.9726\n",
      "Accuracy after query 49: 0.9697\n",
      "Accuracy after query 50: 0.9723\n",
      "Accuracy after query 51: 0.9724\n",
      "Accuracy after query 52: 0.9722\n",
      "Accuracy after query 53: 0.9748\n",
      "Accuracy after query 54: 0.9740\n",
      "Accuracy after query 55: 0.9725\n",
      "Accuracy after query 56: 0.9748\n",
      "Accuracy after query 57: 0.9768\n",
      "Accuracy after query 58: 0.9773\n",
      "Accuracy after query 59: 0.9769\n",
      "Accuracy after query 60: 0.9769\n",
      "Accuracy after query 61: 0.9770\n",
      "Accuracy after query 62: 0.9782\n",
      "Accuracy after query 63: 0.9780\n",
      "Accuracy after query 64: 0.9796\n",
      "Accuracy after query 65: 0.9786\n",
      "Accuracy after query 66: 0.9817\n",
      "Accuracy after query 67: 0.9811\n",
      "Accuracy after query 68: 0.9809\n",
      "Accuracy after query 69: 0.9820\n",
      "Accuracy after query 70: 0.9821\n",
      "Accuracy after query 71: 0.9813\n",
      "Accuracy after query 72: 0.9825\n",
      "Accuracy after query 73: 0.9825\n",
      "Accuracy after query 74: 0.9813\n",
      "Accuracy after query 75: 0.9811\n",
      "Accuracy after query 76: 0.9824\n",
      "Accuracy after query 77: 0.9820\n",
      "Accuracy after query 78: 0.9828\n",
      "Accuracy after query 79: 0.9829\n",
      "Accuracy after query 80: 0.9831\n",
      "Accuracy after query 81: 0.9827\n",
      "Accuracy after query 82: 0.9832\n",
      "Accuracy after query 83: 0.9825\n",
      "Accuracy after query 84: 0.9821\n",
      "Accuracy after query 85: 0.9825\n",
      "Accuracy after query 86: 0.9839\n",
      "Accuracy after query 87: 0.9848\n",
      "Accuracy after query 88: 0.9856\n",
      "Accuracy after query 89: 0.9853\n",
      "Accuracy after query 90: 0.9830\n",
      "Accuracy after query 91: 0.9837\n",
      "Accuracy after query 92: 0.9849\n",
      "Accuracy after query 93: 0.9849\n",
      "Accuracy after query 94: 0.9840\n",
      "Accuracy after query 95: 0.9837\n",
      "Accuracy after query 96: 0.9843\n",
      "Accuracy after query 97: 0.9854\n",
      "Accuracy after query 98: 0.9825\n",
      "Accuracy after query 99: 0.9867\n",
      "Accuracy after query 100: 0.9852\n"
     ]
    }
   ],
   "source": [
    "num_learner = 100\n",
    "learner_list = list()\n",
    "\n",
    "device = \"cuda\" if torch.cuda.is_available() else \"cpu\"\n",
    "\n",
    "for _ in range(num_learner):\n",
    "      estimator = NeuralNetClassifier(CNN,\n",
    "                                      max_epochs=50,\n",
    "                                      batch_size=128,\n",
    "                                      lr=0.001,\n",
    "                                      optimizer=torch.optim.Adam,\n",
    "                                      criterion=torch.nn.CrossEntropyLoss,\n",
    "                                      train_split=None,\n",
    "                                      verbose=0,\n",
    "                                      device=device)\n",
    "\n",
    "      learner = ActiveLearner(estimator=estimator,\n",
    "                                X_training=X_initial,\n",
    "                                y_training=y_initial,\n",
    "                                query_strategy=bald)\n",
    "\n",
    "      learner_list.append(learner)\n",
    "\n",
    "committee = Committee(learner_list=learner_list, query_strategy=bald_entropy_sampling)\n",
    "\n",
    "ensem_perf_hist_bald = [learner_acc.score(X_test, y_test)]\n",
    "\n",
    "for index in range(100):\n",
    "    query_idx, query_instance = committee.query(X_pool, 1)\n",
    "    committee.teach(X_pool[query_idx], y_pool[query_idx])\n",
    "    X_pool = np.delete(X_pool, query_idx, axis=0)\n",
    "    y_pool = np.delete(y_pool, query_idx, axis=0)\n",
    "    \n",
    "    model_accuracy = committee.score(X_test, y_test)\n",
    "    \n",
    "    print('Accuracy after query {n}: {acc:0.4f}'.format(n=index + 1, acc=model_accuracy))\n",
    "    ensem_perf_hist_bald.append(model_accuracy)"
   ]
  },
  {
   "cell_type": "code",
   "execution_count": null,
   "metadata": {
    "id": "gq3MCOghbG9V"
   },
   "outputs": [],
   "source": [
    "np.save('/content/gdrive/My Drive/Project/ADLR/EnsemDropout_bald_perf_hist_1x100.npy',ensem_perf_hist_bald)"
   ]
  },
  {
   "cell_type": "code",
   "execution_count": null,
   "metadata": {
    "id": "GdStD7ZLonvT"
   },
   "outputs": [],
   "source": [
    "num_learner = 100\n",
    "learner_list = list()\n",
    "\n",
    "for _ in range(num_learner):\n",
    "      estimator = NeuralNetClassifier(CNN,\n",
    "                                      max_epochs=50,\n",
    "                                      batch_size=128,\n",
    "                                      lr=0.001,\n",
    "                                      optimizer=torch.optim.Adam,\n",
    "                                      criterion=torch.nn.CrossEntropyLoss,\n",
    "                                      train_split=None,\n",
    "                                      verbose=0,\n",
    "                                      device=device)\n",
    "\n",
    "      learner = ActiveLearner(estimator=estimator,\n",
    "                                X_training=X_initial,\n",
    "                                y_training=y_initial,\n",
    "                                query_strategy=uniform)\n",
    "\n",
    "      learner_list.append(learner)\n",
    "\n",
    "learner = Committee(learner_list=learner_list, query_strategy=uniform_sampling)\n",
    "\n",
    "ensem_perf_hist_uniform = [learner.score(X_test, y_test)]\n",
    "for index in range(10):\n",
    "    query_idx, query_instance = learner.query(X_pool, 1)\n",
    "    learner.teach(X_pool[query_idx], y_pool[query_idx])\n",
    "    X_pool = np.delete(X_pool, query_idx, axis=0)\n",
    "    y_pool = np.delete(y_pool, query_idx, axis=0)\n",
    "    model_accuracy = learner.score(X_test, y_test)\n",
    "    print('Accuracy after query {n}: {acc:0.4f}'.format(n=index + 1, acc=model_accuracy))\n",
    "    ensem_perf_hist_uniform.append(model_accuracy)"
   ]
  },
  {
   "cell_type": "code",
   "execution_count": null,
   "metadata": {},
   "outputs": [],
   "source": [
    "np.save('/content/gdrive/My Drive/Project/ADLR/EnsemDropout_uniform_perf_hist_1x100.npy',ensem_perf_hist_uniform)"
   ]
  },
  {
   "cell_type": "markdown",
   "metadata": {
    "id": "yDjhtKxmbHWq",
    "jp-MarkdownHeadingCollapsed": true,
    "tags": []
   },
   "source": [
    "### Gaussian Process Classifier"
   ]
  },
  {
   "cell_type": "code",
   "execution_count": 58,
   "metadata": {
    "colab": {
     "base_uri": "https://localhost:8080/"
    },
    "collapsed": true,
    "executionInfo": {
     "elapsed": 3788829,
     "status": "ok",
     "timestamp": 1639672287069,
     "user": {
      "displayName": "dexuan meng",
      "photoUrl": "https://lh3.googleusercontent.com/a/default-user=s64",
      "userId": "02429618187161859061"
     },
     "user_tz": -60
    },
    "id": "e9SsARffbFa7",
    "jupyter": {
     "outputs_hidden": true,
     "source_hidden": true
    },
    "outputId": "989656b2-da54-4d67-8c61-69b55f571807",
    "scrolled": true,
    "tags": []
   },
   "outputs": [
    {
     "name": "stderr",
     "output_type": "stream",
     "text": [
      "D:\\Program\\Anaconda3\\lib\\site-packages\\sklearn\\gaussian_process\\kernels.py:411: ConvergenceWarning: The optimal value found for dimension 0 of parameter k1__sigma_0 is close to the specified upper bound 1.0. Increasing the bound and calling fit again may find a better value.\n",
      "  warnings.warn(\"The optimal value found for \"\n",
      "D:\\Program\\Anaconda3\\lib\\site-packages\\sklearn\\gaussian_process\\kernels.py:402: ConvergenceWarning: The optimal value found for dimension 0 of parameter k2__noise_level is close to the specified lower bound 0.001. Decreasing the bound and calling fit again may find a better value.\n",
      "  warnings.warn(\"The optimal value found for \"\n"
     ]
    },
    {
     "name": "stdout",
     "output_type": "stream",
     "text": [
      "(59950, 784)\n",
      "42 [30061]\n"
     ]
    },
    {
     "name": "stderr",
     "output_type": "stream",
     "text": [
      "D:\\Program\\Anaconda3\\lib\\site-packages\\sklearn\\gaussian_process\\kernels.py:411: ConvergenceWarning: The optimal value found for dimension 0 of parameter k1__sigma_0 is close to the specified upper bound 1.0. Increasing the bound and calling fit again may find a better value.\n",
      "  warnings.warn(\"The optimal value found for \"\n",
      "D:\\Program\\Anaconda3\\lib\\site-packages\\sklearn\\gaussian_process\\kernels.py:402: ConvergenceWarning: The optimal value found for dimension 0 of parameter k2__noise_level is close to the specified lower bound 0.001. Decreasing the bound and calling fit again may find a better value.\n",
      "  warnings.warn(\"The optimal value found for \"\n"
     ]
    },
    {
     "name": "stdout",
     "output_type": "stream",
     "text": [
      "Accuracy after query 1: 0.6505\n",
      "22 [35397]\n"
     ]
    },
    {
     "name": "stderr",
     "output_type": "stream",
     "text": [
      "D:\\Program\\Anaconda3\\lib\\site-packages\\sklearn\\gaussian_process\\kernels.py:411: ConvergenceWarning: The optimal value found for dimension 0 of parameter k1__sigma_0 is close to the specified upper bound 1.0. Increasing the bound and calling fit again may find a better value.\n",
      "  warnings.warn(\"The optimal value found for \"\n",
      "D:\\Program\\Anaconda3\\lib\\site-packages\\sklearn\\gaussian_process\\kernels.py:402: ConvergenceWarning: The optimal value found for dimension 0 of parameter k2__noise_level is close to the specified lower bound 0.001. Decreasing the bound and calling fit again may find a better value.\n",
      "  warnings.warn(\"The optimal value found for \"\n"
     ]
    },
    {
     "name": "stdout",
     "output_type": "stream",
     "text": [
      "Accuracy after query 2: 0.6456\n",
      "90 [35267]\n"
     ]
    },
    {
     "name": "stderr",
     "output_type": "stream",
     "text": [
      "D:\\Program\\Anaconda3\\lib\\site-packages\\sklearn\\gaussian_process\\kernels.py:411: ConvergenceWarning: The optimal value found for dimension 0 of parameter k1__sigma_0 is close to the specified upper bound 1.0. Increasing the bound and calling fit again may find a better value.\n",
      "  warnings.warn(\"The optimal value found for \"\n",
      "D:\\Program\\Anaconda3\\lib\\site-packages\\sklearn\\gaussian_process\\kernels.py:402: ConvergenceWarning: The optimal value found for dimension 0 of parameter k2__noise_level is close to the specified lower bound 0.001. Decreasing the bound and calling fit again may find a better value.\n",
      "  warnings.warn(\"The optimal value found for \"\n"
     ]
    },
    {
     "name": "stdout",
     "output_type": "stream",
     "text": [
      "Accuracy after query 3: 0.6476\n",
      "70 [46871]\n"
     ]
    },
    {
     "name": "stderr",
     "output_type": "stream",
     "text": [
      "D:\\Program\\Anaconda3\\lib\\site-packages\\sklearn\\gaussian_process\\kernels.py:411: ConvergenceWarning: The optimal value found for dimension 0 of parameter k1__sigma_0 is close to the specified upper bound 1.0. Increasing the bound and calling fit again may find a better value.\n",
      "  warnings.warn(\"The optimal value found for \"\n",
      "D:\\Program\\Anaconda3\\lib\\site-packages\\sklearn\\gaussian_process\\kernels.py:402: ConvergenceWarning: The optimal value found for dimension 0 of parameter k2__noise_level is close to the specified lower bound 0.001. Decreasing the bound and calling fit again may find a better value.\n",
      "  warnings.warn(\"The optimal value found for \"\n"
     ]
    },
    {
     "name": "stdout",
     "output_type": "stream",
     "text": [
      "Accuracy after query 4: 0.6517\n",
      "1 [58764]\n"
     ]
    },
    {
     "name": "stderr",
     "output_type": "stream",
     "text": [
      "D:\\Program\\Anaconda3\\lib\\site-packages\\sklearn\\gaussian_process\\kernels.py:411: ConvergenceWarning: The optimal value found for dimension 0 of parameter k1__sigma_0 is close to the specified upper bound 1.0. Increasing the bound and calling fit again may find a better value.\n",
      "  warnings.warn(\"The optimal value found for \"\n",
      "D:\\Program\\Anaconda3\\lib\\site-packages\\sklearn\\gaussian_process\\kernels.py:402: ConvergenceWarning: The optimal value found for dimension 0 of parameter k2__noise_level is close to the specified lower bound 0.001. Decreasing the bound and calling fit again may find a better value.\n",
      "  warnings.warn(\"The optimal value found for \"\n"
     ]
    },
    {
     "name": "stdout",
     "output_type": "stream",
     "text": [
      "Accuracy after query 5: 0.6685\n",
      "66 [17082]\n"
     ]
    },
    {
     "name": "stderr",
     "output_type": "stream",
     "text": [
      "D:\\Program\\Anaconda3\\lib\\site-packages\\sklearn\\gaussian_process\\kernels.py:411: ConvergenceWarning: The optimal value found for dimension 0 of parameter k1__sigma_0 is close to the specified upper bound 1.0. Increasing the bound and calling fit again may find a better value.\n",
      "  warnings.warn(\"The optimal value found for \"\n",
      "D:\\Program\\Anaconda3\\lib\\site-packages\\sklearn\\gaussian_process\\kernels.py:402: ConvergenceWarning: The optimal value found for dimension 0 of parameter k2__noise_level is close to the specified lower bound 0.001. Decreasing the bound and calling fit again may find a better value.\n",
      "  warnings.warn(\"The optimal value found for \"\n"
     ]
    },
    {
     "name": "stdout",
     "output_type": "stream",
     "text": [
      "Accuracy after query 6: 0.6667\n",
      "20 [11914]\n"
     ]
    },
    {
     "name": "stderr",
     "output_type": "stream",
     "text": [
      "D:\\Program\\Anaconda3\\lib\\site-packages\\sklearn\\gaussian_process\\kernels.py:411: ConvergenceWarning: The optimal value found for dimension 0 of parameter k1__sigma_0 is close to the specified upper bound 1.0. Increasing the bound and calling fit again may find a better value.\n",
      "  warnings.warn(\"The optimal value found for \"\n",
      "D:\\Program\\Anaconda3\\lib\\site-packages\\sklearn\\gaussian_process\\kernels.py:402: ConvergenceWarning: The optimal value found for dimension 0 of parameter k2__noise_level is close to the specified lower bound 0.001. Decreasing the bound and calling fit again may find a better value.\n",
      "  warnings.warn(\"The optimal value found for \"\n"
     ]
    },
    {
     "name": "stdout",
     "output_type": "stream",
     "text": [
      "Accuracy after query 7: 0.6727\n",
      "95 [28460]\n"
     ]
    },
    {
     "name": "stderr",
     "output_type": "stream",
     "text": [
      "D:\\Program\\Anaconda3\\lib\\site-packages\\sklearn\\gaussian_process\\kernels.py:411: ConvergenceWarning: The optimal value found for dimension 0 of parameter k1__sigma_0 is close to the specified upper bound 1.0. Increasing the bound and calling fit again may find a better value.\n",
      "  warnings.warn(\"The optimal value found for \"\n",
      "D:\\Program\\Anaconda3\\lib\\site-packages\\sklearn\\gaussian_process\\kernels.py:402: ConvergenceWarning: The optimal value found for dimension 0 of parameter k2__noise_level is close to the specified lower bound 0.001. Decreasing the bound and calling fit again may find a better value.\n",
      "  warnings.warn(\"The optimal value found for \"\n"
     ]
    },
    {
     "name": "stdout",
     "output_type": "stream",
     "text": [
      "Accuracy after query 8: 0.6733\n",
      "51 [18724]\n"
     ]
    },
    {
     "name": "stderr",
     "output_type": "stream",
     "text": [
      "D:\\Program\\Anaconda3\\lib\\site-packages\\sklearn\\gaussian_process\\kernels.py:411: ConvergenceWarning: The optimal value found for dimension 0 of parameter k1__sigma_0 is close to the specified upper bound 1.0. Increasing the bound and calling fit again may find a better value.\n",
      "  warnings.warn(\"The optimal value found for \"\n",
      "D:\\Program\\Anaconda3\\lib\\site-packages\\sklearn\\gaussian_process\\kernels.py:402: ConvergenceWarning: The optimal value found for dimension 0 of parameter k2__noise_level is close to the specified lower bound 0.001. Decreasing the bound and calling fit again may find a better value.\n",
      "  warnings.warn(\"The optimal value found for \"\n"
     ]
    },
    {
     "name": "stdout",
     "output_type": "stream",
     "text": [
      "Accuracy after query 9: 0.6774\n",
      "4 [54238]\n"
     ]
    },
    {
     "name": "stderr",
     "output_type": "stream",
     "text": [
      "D:\\Program\\Anaconda3\\lib\\site-packages\\sklearn\\gaussian_process\\kernels.py:411: ConvergenceWarning: The optimal value found for dimension 0 of parameter k1__sigma_0 is close to the specified upper bound 1.0. Increasing the bound and calling fit again may find a better value.\n",
      "  warnings.warn(\"The optimal value found for \"\n",
      "D:\\Program\\Anaconda3\\lib\\site-packages\\sklearn\\gaussian_process\\kernels.py:402: ConvergenceWarning: The optimal value found for dimension 0 of parameter k2__noise_level is close to the specified lower bound 0.001. Decreasing the bound and calling fit again may find a better value.\n",
      "  warnings.warn(\"The optimal value found for \"\n"
     ]
    },
    {
     "name": "stdout",
     "output_type": "stream",
     "text": [
      "Accuracy after query 10: 0.6744\n",
      "29 [37284]\n"
     ]
    },
    {
     "name": "stderr",
     "output_type": "stream",
     "text": [
      "D:\\Program\\Anaconda3\\lib\\site-packages\\sklearn\\gaussian_process\\kernels.py:411: ConvergenceWarning: The optimal value found for dimension 0 of parameter k1__sigma_0 is close to the specified upper bound 1.0. Increasing the bound and calling fit again may find a better value.\n",
      "  warnings.warn(\"The optimal value found for \"\n",
      "D:\\Program\\Anaconda3\\lib\\site-packages\\sklearn\\gaussian_process\\kernels.py:402: ConvergenceWarning: The optimal value found for dimension 0 of parameter k2__noise_level is close to the specified lower bound 0.001. Decreasing the bound and calling fit again may find a better value.\n",
      "  warnings.warn(\"The optimal value found for \"\n"
     ]
    },
    {
     "name": "stdout",
     "output_type": "stream",
     "text": [
      "Accuracy after query 11: 0.6693\n",
      "5 [57412]\n"
     ]
    },
    {
     "name": "stderr",
     "output_type": "stream",
     "text": [
      "D:\\Program\\Anaconda3\\lib\\site-packages\\sklearn\\gaussian_process\\kernels.py:411: ConvergenceWarning: The optimal value found for dimension 0 of parameter k1__sigma_0 is close to the specified upper bound 1.0. Increasing the bound and calling fit again may find a better value.\n",
      "  warnings.warn(\"The optimal value found for \"\n",
      "D:\\Program\\Anaconda3\\lib\\site-packages\\sklearn\\gaussian_process\\kernels.py:402: ConvergenceWarning: The optimal value found for dimension 0 of parameter k2__noise_level is close to the specified lower bound 0.001. Decreasing the bound and calling fit again may find a better value.\n",
      "  warnings.warn(\"The optimal value found for \"\n"
     ]
    },
    {
     "name": "stdout",
     "output_type": "stream",
     "text": [
      "Accuracy after query 12: 0.6684\n",
      "93 [24057]\n"
     ]
    },
    {
     "name": "stderr",
     "output_type": "stream",
     "text": [
      "D:\\Program\\Anaconda3\\lib\\site-packages\\sklearn\\gaussian_process\\kernels.py:411: ConvergenceWarning: The optimal value found for dimension 0 of parameter k1__sigma_0 is close to the specified upper bound 1.0. Increasing the bound and calling fit again may find a better value.\n",
      "  warnings.warn(\"The optimal value found for \"\n",
      "D:\\Program\\Anaconda3\\lib\\site-packages\\sklearn\\gaussian_process\\kernels.py:402: ConvergenceWarning: The optimal value found for dimension 0 of parameter k2__noise_level is close to the specified lower bound 0.001. Decreasing the bound and calling fit again may find a better value.\n",
      "  warnings.warn(\"The optimal value found for \"\n"
     ]
    },
    {
     "name": "stdout",
     "output_type": "stream",
     "text": [
      "Accuracy after query 13: 0.6712\n",
      "88 [29845]\n"
     ]
    },
    {
     "name": "stderr",
     "output_type": "stream",
     "text": [
      "D:\\Program\\Anaconda3\\lib\\site-packages\\sklearn\\gaussian_process\\kernels.py:411: ConvergenceWarning: The optimal value found for dimension 0 of parameter k1__sigma_0 is close to the specified upper bound 1.0. Increasing the bound and calling fit again may find a better value.\n",
      "  warnings.warn(\"The optimal value found for \"\n",
      "D:\\Program\\Anaconda3\\lib\\site-packages\\sklearn\\gaussian_process\\kernels.py:402: ConvergenceWarning: The optimal value found for dimension 0 of parameter k2__noise_level is close to the specified lower bound 0.001. Decreasing the bound and calling fit again may find a better value.\n",
      "  warnings.warn(\"The optimal value found for \"\n"
     ]
    },
    {
     "name": "stdout",
     "output_type": "stream",
     "text": [
      "Accuracy after query 14: 0.6664\n",
      "31 [53580]\n"
     ]
    },
    {
     "name": "stderr",
     "output_type": "stream",
     "text": [
      "D:\\Program\\Anaconda3\\lib\\site-packages\\sklearn\\gaussian_process\\kernels.py:411: ConvergenceWarning: The optimal value found for dimension 0 of parameter k1__sigma_0 is close to the specified upper bound 1.0. Increasing the bound and calling fit again may find a better value.\n",
      "  warnings.warn(\"The optimal value found for \"\n",
      "D:\\Program\\Anaconda3\\lib\\site-packages\\sklearn\\gaussian_process\\kernels.py:402: ConvergenceWarning: The optimal value found for dimension 0 of parameter k2__noise_level is close to the specified lower bound 0.001. Decreasing the bound and calling fit again may find a better value.\n",
      "  warnings.warn(\"The optimal value found for \"\n"
     ]
    },
    {
     "name": "stdout",
     "output_type": "stream",
     "text": [
      "Accuracy after query 15: 0.6628\n",
      "97 [14931]\n"
     ]
    },
    {
     "name": "stderr",
     "output_type": "stream",
     "text": [
      "D:\\Program\\Anaconda3\\lib\\site-packages\\sklearn\\gaussian_process\\kernels.py:411: ConvergenceWarning: The optimal value found for dimension 0 of parameter k1__sigma_0 is close to the specified upper bound 1.0. Increasing the bound and calling fit again may find a better value.\n",
      "  warnings.warn(\"The optimal value found for \"\n",
      "D:\\Program\\Anaconda3\\lib\\site-packages\\sklearn\\gaussian_process\\kernels.py:402: ConvergenceWarning: The optimal value found for dimension 0 of parameter k2__noise_level is close to the specified lower bound 0.001. Decreasing the bound and calling fit again may find a better value.\n",
      "  warnings.warn(\"The optimal value found for \"\n"
     ]
    },
    {
     "name": "stdout",
     "output_type": "stream",
     "text": [
      "Accuracy after query 16: 0.6668\n",
      "35 [53975]\n"
     ]
    },
    {
     "name": "stderr",
     "output_type": "stream",
     "text": [
      "D:\\Program\\Anaconda3\\lib\\site-packages\\sklearn\\gaussian_process\\kernels.py:411: ConvergenceWarning: The optimal value found for dimension 0 of parameter k1__sigma_0 is close to the specified upper bound 1.0. Increasing the bound and calling fit again may find a better value.\n",
      "  warnings.warn(\"The optimal value found for \"\n",
      "D:\\Program\\Anaconda3\\lib\\site-packages\\sklearn\\gaussian_process\\kernels.py:402: ConvergenceWarning: The optimal value found for dimension 0 of parameter k2__noise_level is close to the specified lower bound 0.001. Decreasing the bound and calling fit again may find a better value.\n",
      "  warnings.warn(\"The optimal value found for \"\n"
     ]
    },
    {
     "name": "stdout",
     "output_type": "stream",
     "text": [
      "Accuracy after query 17: 0.6675\n",
      "72 [14123]\n"
     ]
    },
    {
     "name": "stderr",
     "output_type": "stream",
     "text": [
      "D:\\Program\\Anaconda3\\lib\\site-packages\\sklearn\\gaussian_process\\kernels.py:411: ConvergenceWarning: The optimal value found for dimension 0 of parameter k1__sigma_0 is close to the specified upper bound 1.0. Increasing the bound and calling fit again may find a better value.\n",
      "  warnings.warn(\"The optimal value found for \"\n",
      "D:\\Program\\Anaconda3\\lib\\site-packages\\sklearn\\gaussian_process\\kernels.py:402: ConvergenceWarning: The optimal value found for dimension 0 of parameter k2__noise_level is close to the specified lower bound 0.001. Decreasing the bound and calling fit again may find a better value.\n",
      "  warnings.warn(\"The optimal value found for \"\n"
     ]
    },
    {
     "name": "stdout",
     "output_type": "stream",
     "text": [
      "Accuracy after query 18: 0.6668\n",
      "71 [26938]\n"
     ]
    },
    {
     "name": "stderr",
     "output_type": "stream",
     "text": [
      "D:\\Program\\Anaconda3\\lib\\site-packages\\sklearn\\gaussian_process\\kernels.py:411: ConvergenceWarning: The optimal value found for dimension 0 of parameter k1__sigma_0 is close to the specified upper bound 1.0. Increasing the bound and calling fit again may find a better value.\n",
      "  warnings.warn(\"The optimal value found for \"\n",
      "D:\\Program\\Anaconda3\\lib\\site-packages\\sklearn\\gaussian_process\\kernels.py:402: ConvergenceWarning: The optimal value found for dimension 0 of parameter k2__noise_level is close to the specified lower bound 0.001. Decreasing the bound and calling fit again may find a better value.\n",
      "  warnings.warn(\"The optimal value found for \"\n"
     ]
    },
    {
     "name": "stdout",
     "output_type": "stream",
     "text": [
      "Accuracy after query 19: 0.6644\n",
      "26 [40643]\n"
     ]
    },
    {
     "name": "stderr",
     "output_type": "stream",
     "text": [
      "D:\\Program\\Anaconda3\\lib\\site-packages\\sklearn\\gaussian_process\\kernels.py:411: ConvergenceWarning: The optimal value found for dimension 0 of parameter k1__sigma_0 is close to the specified upper bound 1.0. Increasing the bound and calling fit again may find a better value.\n",
      "  warnings.warn(\"The optimal value found for \"\n",
      "D:\\Program\\Anaconda3\\lib\\site-packages\\sklearn\\gaussian_process\\kernels.py:402: ConvergenceWarning: The optimal value found for dimension 0 of parameter k2__noise_level is close to the specified lower bound 0.001. Decreasing the bound and calling fit again may find a better value.\n",
      "  warnings.warn(\"The optimal value found for \"\n"
     ]
    },
    {
     "name": "stdout",
     "output_type": "stream",
     "text": [
      "Accuracy after query 20: 0.6621\n",
      "69 [24915]\n"
     ]
    },
    {
     "name": "stderr",
     "output_type": "stream",
     "text": [
      "D:\\Program\\Anaconda3\\lib\\site-packages\\sklearn\\gaussian_process\\kernels.py:411: ConvergenceWarning: The optimal value found for dimension 0 of parameter k1__sigma_0 is close to the specified upper bound 1.0. Increasing the bound and calling fit again may find a better value.\n",
      "  warnings.warn(\"The optimal value found for \"\n",
      "D:\\Program\\Anaconda3\\lib\\site-packages\\sklearn\\gaussian_process\\kernels.py:402: ConvergenceWarning: The optimal value found for dimension 0 of parameter k2__noise_level is close to the specified lower bound 0.001. Decreasing the bound and calling fit again may find a better value.\n",
      "  warnings.warn(\"The optimal value found for \"\n"
     ]
    },
    {
     "name": "stdout",
     "output_type": "stream",
     "text": [
      "Accuracy after query 21: 0.6654\n",
      "87 [17770]\n"
     ]
    },
    {
     "name": "stderr",
     "output_type": "stream",
     "text": [
      "D:\\Program\\Anaconda3\\lib\\site-packages\\sklearn\\gaussian_process\\kernels.py:411: ConvergenceWarning: The optimal value found for dimension 0 of parameter k1__sigma_0 is close to the specified upper bound 1.0. Increasing the bound and calling fit again may find a better value.\n",
      "  warnings.warn(\"The optimal value found for \"\n",
      "D:\\Program\\Anaconda3\\lib\\site-packages\\sklearn\\gaussian_process\\kernels.py:402: ConvergenceWarning: The optimal value found for dimension 0 of parameter k2__noise_level is close to the specified lower bound 0.001. Decreasing the bound and calling fit again may find a better value.\n",
      "  warnings.warn(\"The optimal value found for \"\n"
     ]
    },
    {
     "name": "stdout",
     "output_type": "stream",
     "text": [
      "Accuracy after query 22: 0.6629\n",
      "22 [56516]\n"
     ]
    },
    {
     "name": "stderr",
     "output_type": "stream",
     "text": [
      "D:\\Program\\Anaconda3\\lib\\site-packages\\sklearn\\gaussian_process\\kernels.py:411: ConvergenceWarning: The optimal value found for dimension 0 of parameter k1__sigma_0 is close to the specified upper bound 1.0. Increasing the bound and calling fit again may find a better value.\n",
      "  warnings.warn(\"The optimal value found for \"\n",
      "D:\\Program\\Anaconda3\\lib\\site-packages\\sklearn\\gaussian_process\\kernels.py:402: ConvergenceWarning: The optimal value found for dimension 0 of parameter k2__noise_level is close to the specified lower bound 0.001. Decreasing the bound and calling fit again may find a better value.\n",
      "  warnings.warn(\"The optimal value found for \"\n"
     ]
    },
    {
     "name": "stdout",
     "output_type": "stream",
     "text": [
      "Accuracy after query 23: 0.6635\n",
      "39 [51189]\n"
     ]
    },
    {
     "name": "stderr",
     "output_type": "stream",
     "text": [
      "D:\\Program\\Anaconda3\\lib\\site-packages\\sklearn\\gaussian_process\\kernels.py:411: ConvergenceWarning: The optimal value found for dimension 0 of parameter k1__sigma_0 is close to the specified upper bound 1.0. Increasing the bound and calling fit again may find a better value.\n",
      "  warnings.warn(\"The optimal value found for \"\n",
      "D:\\Program\\Anaconda3\\lib\\site-packages\\sklearn\\gaussian_process\\kernels.py:402: ConvergenceWarning: The optimal value found for dimension 0 of parameter k2__noise_level is close to the specified lower bound 0.001. Decreasing the bound and calling fit again may find a better value.\n",
      "  warnings.warn(\"The optimal value found for \"\n"
     ]
    },
    {
     "name": "stdout",
     "output_type": "stream",
     "text": [
      "Accuracy after query 24: 0.6662\n",
      "43 [25666]\n"
     ]
    },
    {
     "name": "stderr",
     "output_type": "stream",
     "text": [
      "D:\\Program\\Anaconda3\\lib\\site-packages\\sklearn\\gaussian_process\\kernels.py:411: ConvergenceWarning: The optimal value found for dimension 0 of parameter k1__sigma_0 is close to the specified upper bound 1.0. Increasing the bound and calling fit again may find a better value.\n",
      "  warnings.warn(\"The optimal value found for \"\n",
      "D:\\Program\\Anaconda3\\lib\\site-packages\\sklearn\\gaussian_process\\kernels.py:402: ConvergenceWarning: The optimal value found for dimension 0 of parameter k2__noise_level is close to the specified lower bound 0.001. Decreasing the bound and calling fit again may find a better value.\n",
      "  warnings.warn(\"The optimal value found for \"\n"
     ]
    },
    {
     "name": "stdout",
     "output_type": "stream",
     "text": [
      "Accuracy after query 25: 0.6633\n",
      "66 [19092]\n"
     ]
    },
    {
     "name": "stderr",
     "output_type": "stream",
     "text": [
      "D:\\Program\\Anaconda3\\lib\\site-packages\\sklearn\\gaussian_process\\kernels.py:411: ConvergenceWarning: The optimal value found for dimension 0 of parameter k1__sigma_0 is close to the specified upper bound 1.0. Increasing the bound and calling fit again may find a better value.\n",
      "  warnings.warn(\"The optimal value found for \"\n",
      "D:\\Program\\Anaconda3\\lib\\site-packages\\sklearn\\gaussian_process\\kernels.py:402: ConvergenceWarning: The optimal value found for dimension 0 of parameter k2__noise_level is close to the specified lower bound 0.001. Decreasing the bound and calling fit again may find a better value.\n",
      "  warnings.warn(\"The optimal value found for \"\n"
     ]
    },
    {
     "name": "stdout",
     "output_type": "stream",
     "text": [
      "Accuracy after query 26: 0.6617\n",
      "21 [47979]\n"
     ]
    },
    {
     "name": "stderr",
     "output_type": "stream",
     "text": [
      "D:\\Program\\Anaconda3\\lib\\site-packages\\sklearn\\gaussian_process\\kernels.py:411: ConvergenceWarning: The optimal value found for dimension 0 of parameter k1__sigma_0 is close to the specified upper bound 1.0. Increasing the bound and calling fit again may find a better value.\n",
      "  warnings.warn(\"The optimal value found for \"\n",
      "D:\\Program\\Anaconda3\\lib\\site-packages\\sklearn\\gaussian_process\\kernels.py:402: ConvergenceWarning: The optimal value found for dimension 0 of parameter k2__noise_level is close to the specified lower bound 0.001. Decreasing the bound and calling fit again may find a better value.\n",
      "  warnings.warn(\"The optimal value found for \"\n"
     ]
    },
    {
     "name": "stdout",
     "output_type": "stream",
     "text": [
      "Accuracy after query 27: 0.6657\n",
      "68 [28784]\n"
     ]
    },
    {
     "name": "stderr",
     "output_type": "stream",
     "text": [
      "D:\\Program\\Anaconda3\\lib\\site-packages\\sklearn\\gaussian_process\\kernels.py:411: ConvergenceWarning: The optimal value found for dimension 0 of parameter k1__sigma_0 is close to the specified upper bound 1.0. Increasing the bound and calling fit again may find a better value.\n",
      "  warnings.warn(\"The optimal value found for \"\n",
      "D:\\Program\\Anaconda3\\lib\\site-packages\\sklearn\\gaussian_process\\kernels.py:402: ConvergenceWarning: The optimal value found for dimension 0 of parameter k2__noise_level is close to the specified lower bound 0.001. Decreasing the bound and calling fit again may find a better value.\n",
      "  warnings.warn(\"The optimal value found for \"\n"
     ]
    },
    {
     "name": "stdout",
     "output_type": "stream",
     "text": [
      "Accuracy after query 28: 0.6646\n",
      "63 [1210]\n"
     ]
    },
    {
     "name": "stderr",
     "output_type": "stream",
     "text": [
      "D:\\Program\\Anaconda3\\lib\\site-packages\\sklearn\\gaussian_process\\kernels.py:411: ConvergenceWarning: The optimal value found for dimension 0 of parameter k1__sigma_0 is close to the specified upper bound 1.0. Increasing the bound and calling fit again may find a better value.\n",
      "  warnings.warn(\"The optimal value found for \"\n",
      "D:\\Program\\Anaconda3\\lib\\site-packages\\sklearn\\gaussian_process\\kernels.py:402: ConvergenceWarning: The optimal value found for dimension 0 of parameter k2__noise_level is close to the specified lower bound 0.001. Decreasing the bound and calling fit again may find a better value.\n",
      "  warnings.warn(\"The optimal value found for \"\n"
     ]
    },
    {
     "name": "stdout",
     "output_type": "stream",
     "text": [
      "Accuracy after query 29: 0.6637\n",
      "30 [46875]\n"
     ]
    },
    {
     "name": "stderr",
     "output_type": "stream",
     "text": [
      "D:\\Program\\Anaconda3\\lib\\site-packages\\sklearn\\gaussian_process\\kernels.py:411: ConvergenceWarning: The optimal value found for dimension 0 of parameter k1__sigma_0 is close to the specified upper bound 1.0. Increasing the bound and calling fit again may find a better value.\n",
      "  warnings.warn(\"The optimal value found for \"\n",
      "D:\\Program\\Anaconda3\\lib\\site-packages\\sklearn\\gaussian_process\\kernels.py:402: ConvergenceWarning: The optimal value found for dimension 0 of parameter k2__noise_level is close to the specified lower bound 0.001. Decreasing the bound and calling fit again may find a better value.\n",
      "  warnings.warn(\"The optimal value found for \"\n"
     ]
    },
    {
     "name": "stdout",
     "output_type": "stream",
     "text": [
      "Accuracy after query 30: 0.6613\n",
      "28 [44668]\n"
     ]
    },
    {
     "name": "stderr",
     "output_type": "stream",
     "text": [
      "D:\\Program\\Anaconda3\\lib\\site-packages\\sklearn\\gaussian_process\\kernels.py:411: ConvergenceWarning: The optimal value found for dimension 0 of parameter k1__sigma_0 is close to the specified upper bound 1.0. Increasing the bound and calling fit again may find a better value.\n",
      "  warnings.warn(\"The optimal value found for \"\n",
      "D:\\Program\\Anaconda3\\lib\\site-packages\\sklearn\\gaussian_process\\kernels.py:402: ConvergenceWarning: The optimal value found for dimension 0 of parameter k2__noise_level is close to the specified lower bound 0.001. Decreasing the bound and calling fit again may find a better value.\n",
      "  warnings.warn(\"The optimal value found for \"\n"
     ]
    },
    {
     "name": "stdout",
     "output_type": "stream",
     "text": [
      "Accuracy after query 31: 0.6627\n",
      "86 [54057]\n"
     ]
    },
    {
     "name": "stderr",
     "output_type": "stream",
     "text": [
      "D:\\Program\\Anaconda3\\lib\\site-packages\\sklearn\\gaussian_process\\kernels.py:411: ConvergenceWarning: The optimal value found for dimension 0 of parameter k1__sigma_0 is close to the specified upper bound 1.0. Increasing the bound and calling fit again may find a better value.\n",
      "  warnings.warn(\"The optimal value found for \"\n",
      "D:\\Program\\Anaconda3\\lib\\site-packages\\sklearn\\gaussian_process\\kernels.py:402: ConvergenceWarning: The optimal value found for dimension 0 of parameter k2__noise_level is close to the specified lower bound 0.001. Decreasing the bound and calling fit again may find a better value.\n",
      "  warnings.warn(\"The optimal value found for \"\n"
     ]
    },
    {
     "name": "stdout",
     "output_type": "stream",
     "text": [
      "Accuracy after query 32: 0.6599\n",
      "4 [37396]\n"
     ]
    },
    {
     "name": "stderr",
     "output_type": "stream",
     "text": [
      "D:\\Program\\Anaconda3\\lib\\site-packages\\sklearn\\gaussian_process\\kernels.py:411: ConvergenceWarning: The optimal value found for dimension 0 of parameter k1__sigma_0 is close to the specified upper bound 1.0. Increasing the bound and calling fit again may find a better value.\n",
      "  warnings.warn(\"The optimal value found for \"\n",
      "D:\\Program\\Anaconda3\\lib\\site-packages\\sklearn\\gaussian_process\\kernels.py:402: ConvergenceWarning: The optimal value found for dimension 0 of parameter k2__noise_level is close to the specified lower bound 0.001. Decreasing the bound and calling fit again may find a better value.\n",
      "  warnings.warn(\"The optimal value found for \"\n"
     ]
    },
    {
     "name": "stdout",
     "output_type": "stream",
     "text": [
      "Accuracy after query 33: 0.6553\n",
      "35 [53046]\n"
     ]
    },
    {
     "name": "stderr",
     "output_type": "stream",
     "text": [
      "D:\\Program\\Anaconda3\\lib\\site-packages\\sklearn\\gaussian_process\\kernels.py:411: ConvergenceWarning: The optimal value found for dimension 0 of parameter k1__sigma_0 is close to the specified upper bound 1.0. Increasing the bound and calling fit again may find a better value.\n",
      "  warnings.warn(\"The optimal value found for \"\n",
      "D:\\Program\\Anaconda3\\lib\\site-packages\\sklearn\\gaussian_process\\kernels.py:402: ConvergenceWarning: The optimal value found for dimension 0 of parameter k2__noise_level is close to the specified lower bound 0.001. Decreasing the bound and calling fit again may find a better value.\n",
      "  warnings.warn(\"The optimal value found for \"\n"
     ]
    },
    {
     "name": "stdout",
     "output_type": "stream",
     "text": [
      "Accuracy after query 34: 0.6547\n",
      "46 [54753]\n"
     ]
    },
    {
     "name": "stderr",
     "output_type": "stream",
     "text": [
      "D:\\Program\\Anaconda3\\lib\\site-packages\\sklearn\\gaussian_process\\kernels.py:411: ConvergenceWarning: The optimal value found for dimension 0 of parameter k1__sigma_0 is close to the specified upper bound 1.0. Increasing the bound and calling fit again may find a better value.\n",
      "  warnings.warn(\"The optimal value found for \"\n",
      "D:\\Program\\Anaconda3\\lib\\site-packages\\sklearn\\gaussian_process\\kernels.py:402: ConvergenceWarning: The optimal value found for dimension 0 of parameter k2__noise_level is close to the specified lower bound 0.001. Decreasing the bound and calling fit again may find a better value.\n",
      "  warnings.warn(\"The optimal value found for \"\n"
     ]
    },
    {
     "name": "stdout",
     "output_type": "stream",
     "text": [
      "Accuracy after query 35: 0.6600\n",
      "97 [57757]\n"
     ]
    },
    {
     "name": "stderr",
     "output_type": "stream",
     "text": [
      "D:\\Program\\Anaconda3\\lib\\site-packages\\sklearn\\gaussian_process\\kernels.py:411: ConvergenceWarning: The optimal value found for dimension 0 of parameter k1__sigma_0 is close to the specified upper bound 1.0. Increasing the bound and calling fit again may find a better value.\n",
      "  warnings.warn(\"The optimal value found for \"\n",
      "D:\\Program\\Anaconda3\\lib\\site-packages\\sklearn\\gaussian_process\\kernels.py:402: ConvergenceWarning: The optimal value found for dimension 0 of parameter k2__noise_level is close to the specified lower bound 0.001. Decreasing the bound and calling fit again may find a better value.\n",
      "  warnings.warn(\"The optimal value found for \"\n"
     ]
    },
    {
     "name": "stdout",
     "output_type": "stream",
     "text": [
      "Accuracy after query 36: 0.6712\n",
      "20 [47151]\n"
     ]
    },
    {
     "name": "stderr",
     "output_type": "stream",
     "text": [
      "D:\\Program\\Anaconda3\\lib\\site-packages\\sklearn\\gaussian_process\\kernels.py:411: ConvergenceWarning: The optimal value found for dimension 0 of parameter k1__sigma_0 is close to the specified upper bound 1.0. Increasing the bound and calling fit again may find a better value.\n",
      "  warnings.warn(\"The optimal value found for \"\n",
      "D:\\Program\\Anaconda3\\lib\\site-packages\\sklearn\\gaussian_process\\kernels.py:402: ConvergenceWarning: The optimal value found for dimension 0 of parameter k2__noise_level is close to the specified lower bound 0.001. Decreasing the bound and calling fit again may find a better value.\n",
      "  warnings.warn(\"The optimal value found for \"\n"
     ]
    },
    {
     "name": "stdout",
     "output_type": "stream",
     "text": [
      "Accuracy after query 37: 0.6723\n",
      "34 [33567]\n"
     ]
    },
    {
     "name": "stderr",
     "output_type": "stream",
     "text": [
      "D:\\Program\\Anaconda3\\lib\\site-packages\\sklearn\\gaussian_process\\kernels.py:411: ConvergenceWarning: The optimal value found for dimension 0 of parameter k1__sigma_0 is close to the specified upper bound 1.0. Increasing the bound and calling fit again may find a better value.\n",
      "  warnings.warn(\"The optimal value found for \"\n",
      "D:\\Program\\Anaconda3\\lib\\site-packages\\sklearn\\gaussian_process\\kernels.py:402: ConvergenceWarning: The optimal value found for dimension 0 of parameter k2__noise_level is close to the specified lower bound 0.001. Decreasing the bound and calling fit again may find a better value.\n",
      "  warnings.warn(\"The optimal value found for \"\n"
     ]
    },
    {
     "name": "stdout",
     "output_type": "stream",
     "text": [
      "Accuracy after query 38: 0.6710\n",
      "14 [34640]\n"
     ]
    },
    {
     "name": "stderr",
     "output_type": "stream",
     "text": [
      "D:\\Program\\Anaconda3\\lib\\site-packages\\sklearn\\gaussian_process\\kernels.py:411: ConvergenceWarning: The optimal value found for dimension 0 of parameter k1__sigma_0 is close to the specified upper bound 1.0. Increasing the bound and calling fit again may find a better value.\n",
      "  warnings.warn(\"The optimal value found for \"\n",
      "D:\\Program\\Anaconda3\\lib\\site-packages\\sklearn\\gaussian_process\\kernels.py:402: ConvergenceWarning: The optimal value found for dimension 0 of parameter k2__noise_level is close to the specified lower bound 0.001. Decreasing the bound and calling fit again may find a better value.\n",
      "  warnings.warn(\"The optimal value found for \"\n"
     ]
    },
    {
     "name": "stdout",
     "output_type": "stream",
     "text": [
      "Accuracy after query 39: 0.6667\n",
      "1 [34213]\n"
     ]
    },
    {
     "name": "stderr",
     "output_type": "stream",
     "text": [
      "D:\\Program\\Anaconda3\\lib\\site-packages\\sklearn\\gaussian_process\\kernels.py:411: ConvergenceWarning: The optimal value found for dimension 0 of parameter k1__sigma_0 is close to the specified upper bound 1.0. Increasing the bound and calling fit again may find a better value.\n",
      "  warnings.warn(\"The optimal value found for \"\n",
      "D:\\Program\\Anaconda3\\lib\\site-packages\\sklearn\\gaussian_process\\kernels.py:402: ConvergenceWarning: The optimal value found for dimension 0 of parameter k2__noise_level is close to the specified lower bound 0.001. Decreasing the bound and calling fit again may find a better value.\n",
      "  warnings.warn(\"The optimal value found for \"\n"
     ]
    },
    {
     "name": "stdout",
     "output_type": "stream",
     "text": [
      "Accuracy after query 40: 0.6719\n",
      "99 [5861]\n"
     ]
    },
    {
     "name": "stderr",
     "output_type": "stream",
     "text": [
      "D:\\Program\\Anaconda3\\lib\\site-packages\\sklearn\\gaussian_process\\kernels.py:411: ConvergenceWarning: The optimal value found for dimension 0 of parameter k1__sigma_0 is close to the specified upper bound 1.0. Increasing the bound and calling fit again may find a better value.\n",
      "  warnings.warn(\"The optimal value found for \"\n",
      "D:\\Program\\Anaconda3\\lib\\site-packages\\sklearn\\gaussian_process\\kernels.py:402: ConvergenceWarning: The optimal value found for dimension 0 of parameter k2__noise_level is close to the specified lower bound 0.001. Decreasing the bound and calling fit again may find a better value.\n",
      "  warnings.warn(\"The optimal value found for \"\n"
     ]
    },
    {
     "name": "stdout",
     "output_type": "stream",
     "text": [
      "Accuracy after query 41: 0.6742\n",
      "66 [6480]\n"
     ]
    },
    {
     "name": "stderr",
     "output_type": "stream",
     "text": [
      "D:\\Program\\Anaconda3\\lib\\site-packages\\sklearn\\gaussian_process\\kernels.py:411: ConvergenceWarning: The optimal value found for dimension 0 of parameter k1__sigma_0 is close to the specified upper bound 1.0. Increasing the bound and calling fit again may find a better value.\n",
      "  warnings.warn(\"The optimal value found for \"\n",
      "D:\\Program\\Anaconda3\\lib\\site-packages\\sklearn\\gaussian_process\\kernels.py:402: ConvergenceWarning: The optimal value found for dimension 0 of parameter k2__noise_level is close to the specified lower bound 0.001. Decreasing the bound and calling fit again may find a better value.\n",
      "  warnings.warn(\"The optimal value found for \"\n"
     ]
    },
    {
     "name": "stdout",
     "output_type": "stream",
     "text": [
      "Accuracy after query 42: 0.6785\n",
      "1 [23698]\n"
     ]
    },
    {
     "name": "stderr",
     "output_type": "stream",
     "text": [
      "D:\\Program\\Anaconda3\\lib\\site-packages\\sklearn\\gaussian_process\\kernels.py:411: ConvergenceWarning: The optimal value found for dimension 0 of parameter k1__sigma_0 is close to the specified upper bound 1.0. Increasing the bound and calling fit again may find a better value.\n",
      "  warnings.warn(\"The optimal value found for \"\n",
      "D:\\Program\\Anaconda3\\lib\\site-packages\\sklearn\\gaussian_process\\kernels.py:402: ConvergenceWarning: The optimal value found for dimension 0 of parameter k2__noise_level is close to the specified lower bound 0.001. Decreasing the bound and calling fit again may find a better value.\n",
      "  warnings.warn(\"The optimal value found for \"\n"
     ]
    },
    {
     "name": "stdout",
     "output_type": "stream",
     "text": [
      "Accuracy after query 43: 0.6836\n",
      "28 [52655]\n"
     ]
    },
    {
     "name": "stderr",
     "output_type": "stream",
     "text": [
      "D:\\Program\\Anaconda3\\lib\\site-packages\\sklearn\\gaussian_process\\kernels.py:411: ConvergenceWarning: The optimal value found for dimension 0 of parameter k1__sigma_0 is close to the specified upper bound 1.0. Increasing the bound and calling fit again may find a better value.\n",
      "  warnings.warn(\"The optimal value found for \"\n",
      "D:\\Program\\Anaconda3\\lib\\site-packages\\sklearn\\gaussian_process\\kernels.py:402: ConvergenceWarning: The optimal value found for dimension 0 of parameter k2__noise_level is close to the specified lower bound 0.001. Decreasing the bound and calling fit again may find a better value.\n",
      "  warnings.warn(\"The optimal value found for \"\n"
     ]
    },
    {
     "name": "stdout",
     "output_type": "stream",
     "text": [
      "Accuracy after query 44: 0.6791\n",
      "1 [34243]\n"
     ]
    },
    {
     "name": "stderr",
     "output_type": "stream",
     "text": [
      "D:\\Program\\Anaconda3\\lib\\site-packages\\sklearn\\gaussian_process\\kernels.py:411: ConvergenceWarning: The optimal value found for dimension 0 of parameter k1__sigma_0 is close to the specified upper bound 1.0. Increasing the bound and calling fit again may find a better value.\n",
      "  warnings.warn(\"The optimal value found for \"\n",
      "D:\\Program\\Anaconda3\\lib\\site-packages\\sklearn\\gaussian_process\\kernels.py:402: ConvergenceWarning: The optimal value found for dimension 0 of parameter k2__noise_level is close to the specified lower bound 0.001. Decreasing the bound and calling fit again may find a better value.\n",
      "  warnings.warn(\"The optimal value found for \"\n"
     ]
    },
    {
     "name": "stdout",
     "output_type": "stream",
     "text": [
      "Accuracy after query 45: 0.6781\n",
      "96 [39850]\n"
     ]
    },
    {
     "name": "stderr",
     "output_type": "stream",
     "text": [
      "D:\\Program\\Anaconda3\\lib\\site-packages\\sklearn\\gaussian_process\\kernels.py:411: ConvergenceWarning: The optimal value found for dimension 0 of parameter k1__sigma_0 is close to the specified upper bound 1.0. Increasing the bound and calling fit again may find a better value.\n",
      "  warnings.warn(\"The optimal value found for \"\n",
      "D:\\Program\\Anaconda3\\lib\\site-packages\\sklearn\\gaussian_process\\kernels.py:402: ConvergenceWarning: The optimal value found for dimension 0 of parameter k2__noise_level is close to the specified lower bound 0.001. Decreasing the bound and calling fit again may find a better value.\n",
      "  warnings.warn(\"The optimal value found for \"\n"
     ]
    },
    {
     "name": "stdout",
     "output_type": "stream",
     "text": [
      "Accuracy after query 46: 0.6792\n",
      "58 [18162]\n"
     ]
    },
    {
     "name": "stderr",
     "output_type": "stream",
     "text": [
      "D:\\Program\\Anaconda3\\lib\\site-packages\\sklearn\\gaussian_process\\kernels.py:411: ConvergenceWarning: The optimal value found for dimension 0 of parameter k1__sigma_0 is close to the specified upper bound 1.0. Increasing the bound and calling fit again may find a better value.\n",
      "  warnings.warn(\"The optimal value found for \"\n",
      "D:\\Program\\Anaconda3\\lib\\site-packages\\sklearn\\gaussian_process\\kernels.py:402: ConvergenceWarning: The optimal value found for dimension 0 of parameter k2__noise_level is close to the specified lower bound 0.001. Decreasing the bound and calling fit again may find a better value.\n",
      "  warnings.warn(\"The optimal value found for \"\n"
     ]
    },
    {
     "name": "stdout",
     "output_type": "stream",
     "text": [
      "Accuracy after query 47: 0.6790\n",
      "28 [53729]\n"
     ]
    },
    {
     "name": "stderr",
     "output_type": "stream",
     "text": [
      "D:\\Program\\Anaconda3\\lib\\site-packages\\sklearn\\gaussian_process\\kernels.py:411: ConvergenceWarning: The optimal value found for dimension 0 of parameter k1__sigma_0 is close to the specified upper bound 1.0. Increasing the bound and calling fit again may find a better value.\n",
      "  warnings.warn(\"The optimal value found for \"\n",
      "D:\\Program\\Anaconda3\\lib\\site-packages\\sklearn\\gaussian_process\\kernels.py:402: ConvergenceWarning: The optimal value found for dimension 0 of parameter k2__noise_level is close to the specified lower bound 0.001. Decreasing the bound and calling fit again may find a better value.\n",
      "  warnings.warn(\"The optimal value found for \"\n"
     ]
    },
    {
     "name": "stdout",
     "output_type": "stream",
     "text": [
      "Accuracy after query 48: 0.6780\n",
      "83 [17457]\n"
     ]
    },
    {
     "name": "stderr",
     "output_type": "stream",
     "text": [
      "D:\\Program\\Anaconda3\\lib\\site-packages\\sklearn\\gaussian_process\\kernels.py:411: ConvergenceWarning: The optimal value found for dimension 0 of parameter k1__sigma_0 is close to the specified upper bound 1.0. Increasing the bound and calling fit again may find a better value.\n",
      "  warnings.warn(\"The optimal value found for \"\n",
      "D:\\Program\\Anaconda3\\lib\\site-packages\\sklearn\\gaussian_process\\kernels.py:402: ConvergenceWarning: The optimal value found for dimension 0 of parameter k2__noise_level is close to the specified lower bound 0.001. Decreasing the bound and calling fit again may find a better value.\n",
      "  warnings.warn(\"The optimal value found for \"\n"
     ]
    },
    {
     "name": "stdout",
     "output_type": "stream",
     "text": [
      "Accuracy after query 49: 0.6801\n",
      "78 [8475]\n"
     ]
    },
    {
     "name": "stderr",
     "output_type": "stream",
     "text": [
      "D:\\Program\\Anaconda3\\lib\\site-packages\\sklearn\\gaussian_process\\kernels.py:411: ConvergenceWarning: The optimal value found for dimension 0 of parameter k1__sigma_0 is close to the specified upper bound 1.0. Increasing the bound and calling fit again may find a better value.\n",
      "  warnings.warn(\"The optimal value found for \"\n",
      "D:\\Program\\Anaconda3\\lib\\site-packages\\sklearn\\gaussian_process\\kernels.py:402: ConvergenceWarning: The optimal value found for dimension 0 of parameter k2__noise_level is close to the specified lower bound 0.001. Decreasing the bound and calling fit again may find a better value.\n",
      "  warnings.warn(\"The optimal value found for \"\n"
     ]
    },
    {
     "name": "stdout",
     "output_type": "stream",
     "text": [
      "Accuracy after query 50: 0.6829\n",
      "5 [41681]\n"
     ]
    },
    {
     "name": "stderr",
     "output_type": "stream",
     "text": [
      "D:\\Program\\Anaconda3\\lib\\site-packages\\sklearn\\gaussian_process\\kernels.py:411: ConvergenceWarning: The optimal value found for dimension 0 of parameter k1__sigma_0 is close to the specified upper bound 1.0. Increasing the bound and calling fit again may find a better value.\n",
      "  warnings.warn(\"The optimal value found for \"\n",
      "D:\\Program\\Anaconda3\\lib\\site-packages\\sklearn\\gaussian_process\\kernels.py:402: ConvergenceWarning: The optimal value found for dimension 0 of parameter k2__noise_level is close to the specified lower bound 0.001. Decreasing the bound and calling fit again may find a better value.\n",
      "  warnings.warn(\"The optimal value found for \"\n"
     ]
    },
    {
     "name": "stdout",
     "output_type": "stream",
     "text": [
      "Accuracy after query 51: 0.6813\n",
      "33 [59391]\n"
     ]
    },
    {
     "name": "stderr",
     "output_type": "stream",
     "text": [
      "D:\\Program\\Anaconda3\\lib\\site-packages\\sklearn\\gaussian_process\\kernels.py:411: ConvergenceWarning: The optimal value found for dimension 0 of parameter k1__sigma_0 is close to the specified upper bound 1.0. Increasing the bound and calling fit again may find a better value.\n",
      "  warnings.warn(\"The optimal value found for \"\n",
      "D:\\Program\\Anaconda3\\lib\\site-packages\\sklearn\\gaussian_process\\kernels.py:402: ConvergenceWarning: The optimal value found for dimension 0 of parameter k2__noise_level is close to the specified lower bound 0.001. Decreasing the bound and calling fit again may find a better value.\n",
      "  warnings.warn(\"The optimal value found for \"\n"
     ]
    },
    {
     "name": "stdout",
     "output_type": "stream",
     "text": [
      "Accuracy after query 52: 0.6792\n",
      "41 [15015]\n"
     ]
    },
    {
     "name": "stderr",
     "output_type": "stream",
     "text": [
      "D:\\Program\\Anaconda3\\lib\\site-packages\\sklearn\\gaussian_process\\kernels.py:411: ConvergenceWarning: The optimal value found for dimension 0 of parameter k1__sigma_0 is close to the specified upper bound 1.0. Increasing the bound and calling fit again may find a better value.\n",
      "  warnings.warn(\"The optimal value found for \"\n",
      "D:\\Program\\Anaconda3\\lib\\site-packages\\sklearn\\gaussian_process\\kernels.py:402: ConvergenceWarning: The optimal value found for dimension 0 of parameter k2__noise_level is close to the specified lower bound 0.001. Decreasing the bound and calling fit again may find a better value.\n",
      "  warnings.warn(\"The optimal value found for \"\n"
     ]
    },
    {
     "name": "stdout",
     "output_type": "stream",
     "text": [
      "Accuracy after query 53: 0.6769\n",
      "5 [9870]\n"
     ]
    },
    {
     "name": "stderr",
     "output_type": "stream",
     "text": [
      "D:\\Program\\Anaconda3\\lib\\site-packages\\sklearn\\gaussian_process\\kernels.py:411: ConvergenceWarning: The optimal value found for dimension 0 of parameter k1__sigma_0 is close to the specified upper bound 1.0. Increasing the bound and calling fit again may find a better value.\n",
      "  warnings.warn(\"The optimal value found for \"\n",
      "D:\\Program\\Anaconda3\\lib\\site-packages\\sklearn\\gaussian_process\\kernels.py:402: ConvergenceWarning: The optimal value found for dimension 0 of parameter k2__noise_level is close to the specified lower bound 0.001. Decreasing the bound and calling fit again may find a better value.\n",
      "  warnings.warn(\"The optimal value found for \"\n"
     ]
    },
    {
     "name": "stdout",
     "output_type": "stream",
     "text": [
      "Accuracy after query 54: 0.6723\n",
      "37 [39759]\n"
     ]
    },
    {
     "name": "stderr",
     "output_type": "stream",
     "text": [
      "D:\\Program\\Anaconda3\\lib\\site-packages\\sklearn\\gaussian_process\\kernels.py:411: ConvergenceWarning: The optimal value found for dimension 0 of parameter k1__sigma_0 is close to the specified upper bound 1.0. Increasing the bound and calling fit again may find a better value.\n",
      "  warnings.warn(\"The optimal value found for \"\n",
      "D:\\Program\\Anaconda3\\lib\\site-packages\\sklearn\\gaussian_process\\kernels.py:402: ConvergenceWarning: The optimal value found for dimension 0 of parameter k2__noise_level is close to the specified lower bound 0.001. Decreasing the bound and calling fit again may find a better value.\n",
      "  warnings.warn(\"The optimal value found for \"\n"
     ]
    },
    {
     "name": "stdout",
     "output_type": "stream",
     "text": [
      "Accuracy after query 55: 0.6707\n",
      "54 [14897]\n"
     ]
    },
    {
     "name": "stderr",
     "output_type": "stream",
     "text": [
      "D:\\Program\\Anaconda3\\lib\\site-packages\\sklearn\\gaussian_process\\kernels.py:411: ConvergenceWarning: The optimal value found for dimension 0 of parameter k1__sigma_0 is close to the specified upper bound 1.0. Increasing the bound and calling fit again may find a better value.\n",
      "  warnings.warn(\"The optimal value found for \"\n",
      "D:\\Program\\Anaconda3\\lib\\site-packages\\sklearn\\gaussian_process\\kernels.py:402: ConvergenceWarning: The optimal value found for dimension 0 of parameter k2__noise_level is close to the specified lower bound 0.001. Decreasing the bound and calling fit again may find a better value.\n",
      "  warnings.warn(\"The optimal value found for \"\n"
     ]
    },
    {
     "name": "stdout",
     "output_type": "stream",
     "text": [
      "Accuracy after query 56: 0.6710\n",
      "24 [44539]\n"
     ]
    },
    {
     "name": "stderr",
     "output_type": "stream",
     "text": [
      "D:\\Program\\Anaconda3\\lib\\site-packages\\sklearn\\gaussian_process\\kernels.py:411: ConvergenceWarning: The optimal value found for dimension 0 of parameter k1__sigma_0 is close to the specified upper bound 1.0. Increasing the bound and calling fit again may find a better value.\n",
      "  warnings.warn(\"The optimal value found for \"\n",
      "D:\\Program\\Anaconda3\\lib\\site-packages\\sklearn\\gaussian_process\\kernels.py:402: ConvergenceWarning: The optimal value found for dimension 0 of parameter k2__noise_level is close to the specified lower bound 0.001. Decreasing the bound and calling fit again may find a better value.\n",
      "  warnings.warn(\"The optimal value found for \"\n"
     ]
    },
    {
     "name": "stdout",
     "output_type": "stream",
     "text": [
      "Accuracy after query 57: 0.6722\n",
      "64 [20158]\n"
     ]
    },
    {
     "name": "stderr",
     "output_type": "stream",
     "text": [
      "D:\\Program\\Anaconda3\\lib\\site-packages\\sklearn\\gaussian_process\\kernels.py:411: ConvergenceWarning: The optimal value found for dimension 0 of parameter k1__sigma_0 is close to the specified upper bound 1.0. Increasing the bound and calling fit again may find a better value.\n",
      "  warnings.warn(\"The optimal value found for \"\n",
      "D:\\Program\\Anaconda3\\lib\\site-packages\\sklearn\\gaussian_process\\kernels.py:402: ConvergenceWarning: The optimal value found for dimension 0 of parameter k2__noise_level is close to the specified lower bound 0.001. Decreasing the bound and calling fit again may find a better value.\n",
      "  warnings.warn(\"The optimal value found for \"\n",
      "D:\\Program\\Anaconda3\\lib\\site-packages\\sklearn\\gaussian_process\\_gpc.py:448: ConvergenceWarning: lbfgs failed to converge (status=2):\n",
      "ABNORMAL_TERMINATION_IN_LNSRCH.\n",
      "\n",
      "Increase the number of iterations (max_iter) or scale the data as shown in:\n",
      "    https://scikit-learn.org/stable/modules/preprocessing.html\n",
      "  _check_optimize_result(\"lbfgs\", opt_res)\n"
     ]
    },
    {
     "name": "stdout",
     "output_type": "stream",
     "text": [
      "Accuracy after query 58: 0.6751\n",
      "29 [15711]\n"
     ]
    },
    {
     "name": "stderr",
     "output_type": "stream",
     "text": [
      "D:\\Program\\Anaconda3\\lib\\site-packages\\sklearn\\gaussian_process\\kernels.py:411: ConvergenceWarning: The optimal value found for dimension 0 of parameter k1__sigma_0 is close to the specified upper bound 1.0. Increasing the bound and calling fit again may find a better value.\n",
      "  warnings.warn(\"The optimal value found for \"\n",
      "D:\\Program\\Anaconda3\\lib\\site-packages\\sklearn\\gaussian_process\\kernels.py:402: ConvergenceWarning: The optimal value found for dimension 0 of parameter k2__noise_level is close to the specified lower bound 0.001. Decreasing the bound and calling fit again may find a better value.\n",
      "  warnings.warn(\"The optimal value found for \"\n"
     ]
    },
    {
     "name": "stdout",
     "output_type": "stream",
     "text": [
      "Accuracy after query 59: 0.6735\n",
      "49 [51166]\n"
     ]
    },
    {
     "name": "stderr",
     "output_type": "stream",
     "text": [
      "D:\\Program\\Anaconda3\\lib\\site-packages\\sklearn\\gaussian_process\\kernels.py:411: ConvergenceWarning: The optimal value found for dimension 0 of parameter k1__sigma_0 is close to the specified upper bound 1.0. Increasing the bound and calling fit again may find a better value.\n",
      "  warnings.warn(\"The optimal value found for \"\n",
      "D:\\Program\\Anaconda3\\lib\\site-packages\\sklearn\\gaussian_process\\kernels.py:402: ConvergenceWarning: The optimal value found for dimension 0 of parameter k2__noise_level is close to the specified lower bound 0.001. Decreasing the bound and calling fit again may find a better value.\n",
      "  warnings.warn(\"The optimal value found for \"\n"
     ]
    },
    {
     "name": "stdout",
     "output_type": "stream",
     "text": [
      "Accuracy after query 60: 0.6778\n",
      "5 [17751]\n"
     ]
    },
    {
     "name": "stderr",
     "output_type": "stream",
     "text": [
      "D:\\Program\\Anaconda3\\lib\\site-packages\\sklearn\\gaussian_process\\kernels.py:411: ConvergenceWarning: The optimal value found for dimension 0 of parameter k1__sigma_0 is close to the specified upper bound 1.0. Increasing the bound and calling fit again may find a better value.\n",
      "  warnings.warn(\"The optimal value found for \"\n",
      "D:\\Program\\Anaconda3\\lib\\site-packages\\sklearn\\gaussian_process\\kernels.py:402: ConvergenceWarning: The optimal value found for dimension 0 of parameter k2__noise_level is close to the specified lower bound 0.001. Decreasing the bound and calling fit again may find a better value.\n",
      "  warnings.warn(\"The optimal value found for \"\n"
     ]
    },
    {
     "name": "stdout",
     "output_type": "stream",
     "text": [
      "Accuracy after query 61: 0.6768\n",
      "63 [57284]\n"
     ]
    },
    {
     "name": "stderr",
     "output_type": "stream",
     "text": [
      "D:\\Program\\Anaconda3\\lib\\site-packages\\sklearn\\gaussian_process\\kernels.py:411: ConvergenceWarning: The optimal value found for dimension 0 of parameter k1__sigma_0 is close to the specified upper bound 1.0. Increasing the bound and calling fit again may find a better value.\n",
      "  warnings.warn(\"The optimal value found for \"\n",
      "D:\\Program\\Anaconda3\\lib\\site-packages\\sklearn\\gaussian_process\\kernels.py:402: ConvergenceWarning: The optimal value found for dimension 0 of parameter k2__noise_level is close to the specified lower bound 0.001. Decreasing the bound and calling fit again may find a better value.\n",
      "  warnings.warn(\"The optimal value found for \"\n"
     ]
    },
    {
     "name": "stdout",
     "output_type": "stream",
     "text": [
      "Accuracy after query 62: 0.6764\n",
      "43 [17994]\n"
     ]
    },
    {
     "name": "stderr",
     "output_type": "stream",
     "text": [
      "D:\\Program\\Anaconda3\\lib\\site-packages\\sklearn\\gaussian_process\\kernels.py:411: ConvergenceWarning: The optimal value found for dimension 0 of parameter k1__sigma_0 is close to the specified upper bound 1.0. Increasing the bound and calling fit again may find a better value.\n",
      "  warnings.warn(\"The optimal value found for \"\n",
      "D:\\Program\\Anaconda3\\lib\\site-packages\\sklearn\\gaussian_process\\kernels.py:402: ConvergenceWarning: The optimal value found for dimension 0 of parameter k2__noise_level is close to the specified lower bound 0.001. Decreasing the bound and calling fit again may find a better value.\n",
      "  warnings.warn(\"The optimal value found for \"\n"
     ]
    },
    {
     "name": "stdout",
     "output_type": "stream",
     "text": [
      "Accuracy after query 63: 0.6758\n",
      "66 [38743]\n"
     ]
    },
    {
     "name": "stderr",
     "output_type": "stream",
     "text": [
      "D:\\Program\\Anaconda3\\lib\\site-packages\\sklearn\\gaussian_process\\kernels.py:411: ConvergenceWarning: The optimal value found for dimension 0 of parameter k1__sigma_0 is close to the specified upper bound 1.0. Increasing the bound and calling fit again may find a better value.\n",
      "  warnings.warn(\"The optimal value found for \"\n",
      "D:\\Program\\Anaconda3\\lib\\site-packages\\sklearn\\gaussian_process\\kernels.py:402: ConvergenceWarning: The optimal value found for dimension 0 of parameter k2__noise_level is close to the specified lower bound 0.001. Decreasing the bound and calling fit again may find a better value.\n",
      "  warnings.warn(\"The optimal value found for \"\n"
     ]
    },
    {
     "name": "stdout",
     "output_type": "stream",
     "text": [
      "Accuracy after query 64: 0.6787\n",
      "86 [6442]\n"
     ]
    },
    {
     "name": "stderr",
     "output_type": "stream",
     "text": [
      "D:\\Program\\Anaconda3\\lib\\site-packages\\sklearn\\gaussian_process\\kernels.py:411: ConvergenceWarning: The optimal value found for dimension 0 of parameter k1__sigma_0 is close to the specified upper bound 1.0. Increasing the bound and calling fit again may find a better value.\n",
      "  warnings.warn(\"The optimal value found for \"\n",
      "D:\\Program\\Anaconda3\\lib\\site-packages\\sklearn\\gaussian_process\\kernels.py:402: ConvergenceWarning: The optimal value found for dimension 0 of parameter k2__noise_level is close to the specified lower bound 0.001. Decreasing the bound and calling fit again may find a better value.\n",
      "  warnings.warn(\"The optimal value found for \"\n",
      "D:\\Program\\Anaconda3\\lib\\site-packages\\sklearn\\gaussian_process\\_gpc.py:448: ConvergenceWarning: lbfgs failed to converge (status=2):\n",
      "ABNORMAL_TERMINATION_IN_LNSRCH.\n",
      "\n",
      "Increase the number of iterations (max_iter) or scale the data as shown in:\n",
      "    https://scikit-learn.org/stable/modules/preprocessing.html\n",
      "  _check_optimize_result(\"lbfgs\", opt_res)\n"
     ]
    },
    {
     "name": "stdout",
     "output_type": "stream",
     "text": [
      "Accuracy after query 65: 0.6809\n",
      "89 [44401]\n"
     ]
    },
    {
     "name": "stderr",
     "output_type": "stream",
     "text": [
      "D:\\Program\\Anaconda3\\lib\\site-packages\\sklearn\\gaussian_process\\kernels.py:411: ConvergenceWarning: The optimal value found for dimension 0 of parameter k1__sigma_0 is close to the specified upper bound 1.0. Increasing the bound and calling fit again may find a better value.\n",
      "  warnings.warn(\"The optimal value found for \"\n",
      "D:\\Program\\Anaconda3\\lib\\site-packages\\sklearn\\gaussian_process\\kernels.py:402: ConvergenceWarning: The optimal value found for dimension 0 of parameter k2__noise_level is close to the specified lower bound 0.001. Decreasing the bound and calling fit again may find a better value.\n",
      "  warnings.warn(\"The optimal value found for \"\n",
      "D:\\Program\\Anaconda3\\lib\\site-packages\\sklearn\\gaussian_process\\_gpc.py:448: ConvergenceWarning: lbfgs failed to converge (status=2):\n",
      "ABNORMAL_TERMINATION_IN_LNSRCH.\n",
      "\n",
      "Increase the number of iterations (max_iter) or scale the data as shown in:\n",
      "    https://scikit-learn.org/stable/modules/preprocessing.html\n",
      "  _check_optimize_result(\"lbfgs\", opt_res)\n"
     ]
    },
    {
     "name": "stdout",
     "output_type": "stream",
     "text": [
      "Accuracy after query 66: 0.6781\n",
      "56 [47841]\n"
     ]
    },
    {
     "name": "stderr",
     "output_type": "stream",
     "text": [
      "D:\\Program\\Anaconda3\\lib\\site-packages\\sklearn\\gaussian_process\\kernels.py:411: ConvergenceWarning: The optimal value found for dimension 0 of parameter k1__sigma_0 is close to the specified upper bound 1.0. Increasing the bound and calling fit again may find a better value.\n",
      "  warnings.warn(\"The optimal value found for \"\n",
      "D:\\Program\\Anaconda3\\lib\\site-packages\\sklearn\\gaussian_process\\kernels.py:402: ConvergenceWarning: The optimal value found for dimension 0 of parameter k2__noise_level is close to the specified lower bound 0.001. Decreasing the bound and calling fit again may find a better value.\n",
      "  warnings.warn(\"The optimal value found for \"\n"
     ]
    },
    {
     "name": "stdout",
     "output_type": "stream",
     "text": [
      "Accuracy after query 67: 0.6766\n",
      "82 [38055]\n"
     ]
    },
    {
     "name": "stderr",
     "output_type": "stream",
     "text": [
      "D:\\Program\\Anaconda3\\lib\\site-packages\\sklearn\\gaussian_process\\kernels.py:411: ConvergenceWarning: The optimal value found for dimension 0 of parameter k1__sigma_0 is close to the specified upper bound 1.0. Increasing the bound and calling fit again may find a better value.\n",
      "  warnings.warn(\"The optimal value found for \"\n",
      "D:\\Program\\Anaconda3\\lib\\site-packages\\sklearn\\gaussian_process\\kernels.py:402: ConvergenceWarning: The optimal value found for dimension 0 of parameter k2__noise_level is close to the specified lower bound 0.001. Decreasing the bound and calling fit again may find a better value.\n",
      "  warnings.warn(\"The optimal value found for \"\n"
     ]
    },
    {
     "name": "stdout",
     "output_type": "stream",
     "text": [
      "Accuracy after query 68: 0.6771\n",
      "55 [45918]\n"
     ]
    },
    {
     "name": "stderr",
     "output_type": "stream",
     "text": [
      "D:\\Program\\Anaconda3\\lib\\site-packages\\sklearn\\gaussian_process\\kernels.py:411: ConvergenceWarning: The optimal value found for dimension 0 of parameter k1__sigma_0 is close to the specified upper bound 1.0. Increasing the bound and calling fit again may find a better value.\n",
      "  warnings.warn(\"The optimal value found for \"\n",
      "D:\\Program\\Anaconda3\\lib\\site-packages\\sklearn\\gaussian_process\\kernels.py:402: ConvergenceWarning: The optimal value found for dimension 0 of parameter k2__noise_level is close to the specified lower bound 0.001. Decreasing the bound and calling fit again may find a better value.\n",
      "  warnings.warn(\"The optimal value found for \"\n"
     ]
    },
    {
     "name": "stdout",
     "output_type": "stream",
     "text": [
      "Accuracy after query 69: 0.6744\n",
      "75 [19202]\n"
     ]
    },
    {
     "name": "stderr",
     "output_type": "stream",
     "text": [
      "D:\\Program\\Anaconda3\\lib\\site-packages\\sklearn\\gaussian_process\\kernels.py:411: ConvergenceWarning: The optimal value found for dimension 0 of parameter k1__sigma_0 is close to the specified upper bound 1.0. Increasing the bound and calling fit again may find a better value.\n",
      "  warnings.warn(\"The optimal value found for \"\n",
      "D:\\Program\\Anaconda3\\lib\\site-packages\\sklearn\\gaussian_process\\kernels.py:402: ConvergenceWarning: The optimal value found for dimension 0 of parameter k2__noise_level is close to the specified lower bound 0.001. Decreasing the bound and calling fit again may find a better value.\n",
      "  warnings.warn(\"The optimal value found for \"\n"
     ]
    },
    {
     "name": "stdout",
     "output_type": "stream",
     "text": [
      "Accuracy after query 70: 0.6717\n",
      "1 [41126]\n"
     ]
    },
    {
     "name": "stderr",
     "output_type": "stream",
     "text": [
      "D:\\Program\\Anaconda3\\lib\\site-packages\\sklearn\\gaussian_process\\kernels.py:411: ConvergenceWarning: The optimal value found for dimension 0 of parameter k1__sigma_0 is close to the specified upper bound 1.0. Increasing the bound and calling fit again may find a better value.\n",
      "  warnings.warn(\"The optimal value found for \"\n",
      "D:\\Program\\Anaconda3\\lib\\site-packages\\sklearn\\gaussian_process\\kernels.py:402: ConvergenceWarning: The optimal value found for dimension 0 of parameter k2__noise_level is close to the specified lower bound 0.001. Decreasing the bound and calling fit again may find a better value.\n",
      "  warnings.warn(\"The optimal value found for \"\n"
     ]
    },
    {
     "name": "stdout",
     "output_type": "stream",
     "text": [
      "Accuracy after query 71: 0.6784\n",
      "43 [47463]\n"
     ]
    },
    {
     "name": "stderr",
     "output_type": "stream",
     "text": [
      "D:\\Program\\Anaconda3\\lib\\site-packages\\sklearn\\gaussian_process\\kernels.py:411: ConvergenceWarning: The optimal value found for dimension 0 of parameter k1__sigma_0 is close to the specified upper bound 1.0. Increasing the bound and calling fit again may find a better value.\n",
      "  warnings.warn(\"The optimal value found for \"\n",
      "D:\\Program\\Anaconda3\\lib\\site-packages\\sklearn\\gaussian_process\\kernels.py:402: ConvergenceWarning: The optimal value found for dimension 0 of parameter k2__noise_level is close to the specified lower bound 0.001. Decreasing the bound and calling fit again may find a better value.\n",
      "  warnings.warn(\"The optimal value found for \"\n"
     ]
    },
    {
     "name": "stdout",
     "output_type": "stream",
     "text": [
      "Accuracy after query 72: 0.6860\n",
      "24 [30557]\n"
     ]
    },
    {
     "name": "stderr",
     "output_type": "stream",
     "text": [
      "D:\\Program\\Anaconda3\\lib\\site-packages\\sklearn\\gaussian_process\\kernels.py:411: ConvergenceWarning: The optimal value found for dimension 0 of parameter k1__sigma_0 is close to the specified upper bound 1.0. Increasing the bound and calling fit again may find a better value.\n",
      "  warnings.warn(\"The optimal value found for \"\n",
      "D:\\Program\\Anaconda3\\lib\\site-packages\\sklearn\\gaussian_process\\kernels.py:402: ConvergenceWarning: The optimal value found for dimension 0 of parameter k2__noise_level is close to the specified lower bound 0.001. Decreasing the bound and calling fit again may find a better value.\n",
      "  warnings.warn(\"The optimal value found for \"\n"
     ]
    },
    {
     "name": "stdout",
     "output_type": "stream",
     "text": [
      "Accuracy after query 73: 0.6869\n",
      "60 [6763]\n"
     ]
    },
    {
     "name": "stderr",
     "output_type": "stream",
     "text": [
      "D:\\Program\\Anaconda3\\lib\\site-packages\\sklearn\\gaussian_process\\kernels.py:411: ConvergenceWarning: The optimal value found for dimension 0 of parameter k1__sigma_0 is close to the specified upper bound 1.0. Increasing the bound and calling fit again may find a better value.\n",
      "  warnings.warn(\"The optimal value found for \"\n",
      "D:\\Program\\Anaconda3\\lib\\site-packages\\sklearn\\gaussian_process\\kernels.py:402: ConvergenceWarning: The optimal value found for dimension 0 of parameter k2__noise_level is close to the specified lower bound 0.001. Decreasing the bound and calling fit again may find a better value.\n",
      "  warnings.warn(\"The optimal value found for \"\n"
     ]
    },
    {
     "name": "stdout",
     "output_type": "stream",
     "text": [
      "Accuracy after query 74: 0.6881\n",
      "90 [9267]\n"
     ]
    },
    {
     "name": "stderr",
     "output_type": "stream",
     "text": [
      "D:\\Program\\Anaconda3\\lib\\site-packages\\sklearn\\gaussian_process\\kernels.py:411: ConvergenceWarning: The optimal value found for dimension 0 of parameter k1__sigma_0 is close to the specified upper bound 1.0. Increasing the bound and calling fit again may find a better value.\n",
      "  warnings.warn(\"The optimal value found for \"\n",
      "D:\\Program\\Anaconda3\\lib\\site-packages\\sklearn\\gaussian_process\\kernels.py:402: ConvergenceWarning: The optimal value found for dimension 0 of parameter k2__noise_level is close to the specified lower bound 0.001. Decreasing the bound and calling fit again may find a better value.\n",
      "  warnings.warn(\"The optimal value found for \"\n"
     ]
    },
    {
     "name": "stdout",
     "output_type": "stream",
     "text": [
      "Accuracy after query 75: 0.6860\n",
      "35 [19044]\n"
     ]
    },
    {
     "name": "stderr",
     "output_type": "stream",
     "text": [
      "D:\\Program\\Anaconda3\\lib\\site-packages\\sklearn\\gaussian_process\\kernels.py:411: ConvergenceWarning: The optimal value found for dimension 0 of parameter k1__sigma_0 is close to the specified upper bound 1.0. Increasing the bound and calling fit again may find a better value.\n",
      "  warnings.warn(\"The optimal value found for \"\n",
      "D:\\Program\\Anaconda3\\lib\\site-packages\\sklearn\\gaussian_process\\kernels.py:402: ConvergenceWarning: The optimal value found for dimension 0 of parameter k2__noise_level is close to the specified lower bound 0.001. Decreasing the bound and calling fit again may find a better value.\n",
      "  warnings.warn(\"The optimal value found for \"\n"
     ]
    },
    {
     "name": "stdout",
     "output_type": "stream",
     "text": [
      "Accuracy after query 76: 0.6889\n",
      "45 [54563]\n"
     ]
    },
    {
     "name": "stderr",
     "output_type": "stream",
     "text": [
      "D:\\Program\\Anaconda3\\lib\\site-packages\\sklearn\\gaussian_process\\kernels.py:411: ConvergenceWarning: The optimal value found for dimension 0 of parameter k1__sigma_0 is close to the specified upper bound 1.0. Increasing the bound and calling fit again may find a better value.\n",
      "  warnings.warn(\"The optimal value found for \"\n",
      "D:\\Program\\Anaconda3\\lib\\site-packages\\sklearn\\gaussian_process\\kernels.py:402: ConvergenceWarning: The optimal value found for dimension 0 of parameter k2__noise_level is close to the specified lower bound 0.001. Decreasing the bound and calling fit again may find a better value.\n",
      "  warnings.warn(\"The optimal value found for \"\n"
     ]
    },
    {
     "name": "stdout",
     "output_type": "stream",
     "text": [
      "Accuracy after query 77: 0.6896\n",
      "18 [23587]\n"
     ]
    },
    {
     "name": "stderr",
     "output_type": "stream",
     "text": [
      "D:\\Program\\Anaconda3\\lib\\site-packages\\sklearn\\gaussian_process\\kernels.py:411: ConvergenceWarning: The optimal value found for dimension 0 of parameter k1__sigma_0 is close to the specified upper bound 1.0. Increasing the bound and calling fit again may find a better value.\n",
      "  warnings.warn(\"The optimal value found for \"\n",
      "D:\\Program\\Anaconda3\\lib\\site-packages\\sklearn\\gaussian_process\\kernels.py:402: ConvergenceWarning: The optimal value found for dimension 0 of parameter k2__noise_level is close to the specified lower bound 0.001. Decreasing the bound and calling fit again may find a better value.\n",
      "  warnings.warn(\"The optimal value found for \"\n"
     ]
    },
    {
     "name": "stdout",
     "output_type": "stream",
     "text": [
      "Accuracy after query 78: 0.6967\n",
      "24 [45586]\n"
     ]
    },
    {
     "name": "stderr",
     "output_type": "stream",
     "text": [
      "D:\\Program\\Anaconda3\\lib\\site-packages\\sklearn\\gaussian_process\\kernels.py:411: ConvergenceWarning: The optimal value found for dimension 0 of parameter k1__sigma_0 is close to the specified upper bound 1.0. Increasing the bound and calling fit again may find a better value.\n",
      "  warnings.warn(\"The optimal value found for \"\n",
      "D:\\Program\\Anaconda3\\lib\\site-packages\\sklearn\\gaussian_process\\kernels.py:402: ConvergenceWarning: The optimal value found for dimension 0 of parameter k2__noise_level is close to the specified lower bound 0.001. Decreasing the bound and calling fit again may find a better value.\n",
      "  warnings.warn(\"The optimal value found for \"\n"
     ]
    },
    {
     "name": "stdout",
     "output_type": "stream",
     "text": [
      "Accuracy after query 79: 0.6998\n",
      "72 [30650]\n"
     ]
    },
    {
     "name": "stderr",
     "output_type": "stream",
     "text": [
      "D:\\Program\\Anaconda3\\lib\\site-packages\\sklearn\\gaussian_process\\kernels.py:411: ConvergenceWarning: The optimal value found for dimension 0 of parameter k1__sigma_0 is close to the specified upper bound 1.0. Increasing the bound and calling fit again may find a better value.\n",
      "  warnings.warn(\"The optimal value found for \"\n",
      "D:\\Program\\Anaconda3\\lib\\site-packages\\sklearn\\gaussian_process\\kernels.py:402: ConvergenceWarning: The optimal value found for dimension 0 of parameter k2__noise_level is close to the specified lower bound 0.001. Decreasing the bound and calling fit again may find a better value.\n",
      "  warnings.warn(\"The optimal value found for \"\n",
      "D:\\Program\\Anaconda3\\lib\\site-packages\\sklearn\\gaussian_process\\_gpc.py:448: ConvergenceWarning: lbfgs failed to converge (status=2):\n",
      "ABNORMAL_TERMINATION_IN_LNSRCH.\n",
      "\n",
      "Increase the number of iterations (max_iter) or scale the data as shown in:\n",
      "    https://scikit-learn.org/stable/modules/preprocessing.html\n",
      "  _check_optimize_result(\"lbfgs\", opt_res)\n"
     ]
    },
    {
     "name": "stdout",
     "output_type": "stream",
     "text": [
      "Accuracy after query 80: 0.6994\n",
      "99 [31363]\n"
     ]
    },
    {
     "name": "stderr",
     "output_type": "stream",
     "text": [
      "D:\\Program\\Anaconda3\\lib\\site-packages\\sklearn\\gaussian_process\\kernels.py:411: ConvergenceWarning: The optimal value found for dimension 0 of parameter k1__sigma_0 is close to the specified upper bound 1.0. Increasing the bound and calling fit again may find a better value.\n",
      "  warnings.warn(\"The optimal value found for \"\n",
      "D:\\Program\\Anaconda3\\lib\\site-packages\\sklearn\\gaussian_process\\kernels.py:402: ConvergenceWarning: The optimal value found for dimension 0 of parameter k2__noise_level is close to the specified lower bound 0.001. Decreasing the bound and calling fit again may find a better value.\n",
      "  warnings.warn(\"The optimal value found for \"\n"
     ]
    },
    {
     "name": "stdout",
     "output_type": "stream",
     "text": [
      "Accuracy after query 81: 0.7022\n",
      "11 [48766]\n"
     ]
    },
    {
     "name": "stderr",
     "output_type": "stream",
     "text": [
      "D:\\Program\\Anaconda3\\lib\\site-packages\\sklearn\\gaussian_process\\kernels.py:411: ConvergenceWarning: The optimal value found for dimension 0 of parameter k1__sigma_0 is close to the specified upper bound 1.0. Increasing the bound and calling fit again may find a better value.\n",
      "  warnings.warn(\"The optimal value found for \"\n",
      "D:\\Program\\Anaconda3\\lib\\site-packages\\sklearn\\gaussian_process\\kernels.py:402: ConvergenceWarning: The optimal value found for dimension 0 of parameter k2__noise_level is close to the specified lower bound 0.001. Decreasing the bound and calling fit again may find a better value.\n",
      "  warnings.warn(\"The optimal value found for \"\n"
     ]
    },
    {
     "name": "stdout",
     "output_type": "stream",
     "text": [
      "Accuracy after query 82: 0.7035\n",
      "35 [25241]\n"
     ]
    },
    {
     "name": "stderr",
     "output_type": "stream",
     "text": [
      "D:\\Program\\Anaconda3\\lib\\site-packages\\sklearn\\gaussian_process\\kernels.py:411: ConvergenceWarning: The optimal value found for dimension 0 of parameter k1__sigma_0 is close to the specified upper bound 1.0. Increasing the bound and calling fit again may find a better value.\n",
      "  warnings.warn(\"The optimal value found for \"\n",
      "D:\\Program\\Anaconda3\\lib\\site-packages\\sklearn\\gaussian_process\\kernels.py:402: ConvergenceWarning: The optimal value found for dimension 0 of parameter k2__noise_level is close to the specified lower bound 0.001. Decreasing the bound and calling fit again may find a better value.\n",
      "  warnings.warn(\"The optimal value found for \"\n"
     ]
    },
    {
     "name": "stdout",
     "output_type": "stream",
     "text": [
      "Accuracy after query 83: 0.7054\n",
      "16 [2417]\n"
     ]
    },
    {
     "name": "stderr",
     "output_type": "stream",
     "text": [
      "D:\\Program\\Anaconda3\\lib\\site-packages\\sklearn\\gaussian_process\\kernels.py:411: ConvergenceWarning: The optimal value found for dimension 0 of parameter k1__sigma_0 is close to the specified upper bound 1.0. Increasing the bound and calling fit again may find a better value.\n",
      "  warnings.warn(\"The optimal value found for \"\n",
      "D:\\Program\\Anaconda3\\lib\\site-packages\\sklearn\\gaussian_process\\kernels.py:402: ConvergenceWarning: The optimal value found for dimension 0 of parameter k2__noise_level is close to the specified lower bound 0.001. Decreasing the bound and calling fit again may find a better value.\n",
      "  warnings.warn(\"The optimal value found for \"\n"
     ]
    },
    {
     "name": "stdout",
     "output_type": "stream",
     "text": [
      "Accuracy after query 84: 0.7039\n",
      "14 [44864]\n"
     ]
    },
    {
     "name": "stderr",
     "output_type": "stream",
     "text": [
      "D:\\Program\\Anaconda3\\lib\\site-packages\\sklearn\\gaussian_process\\kernels.py:411: ConvergenceWarning: The optimal value found for dimension 0 of parameter k1__sigma_0 is close to the specified upper bound 1.0. Increasing the bound and calling fit again may find a better value.\n",
      "  warnings.warn(\"The optimal value found for \"\n",
      "D:\\Program\\Anaconda3\\lib\\site-packages\\sklearn\\gaussian_process\\kernels.py:402: ConvergenceWarning: The optimal value found for dimension 0 of parameter k2__noise_level is close to the specified lower bound 0.001. Decreasing the bound and calling fit again may find a better value.\n",
      "  warnings.warn(\"The optimal value found for \"\n"
     ]
    },
    {
     "name": "stdout",
     "output_type": "stream",
     "text": [
      "Accuracy after query 85: 0.7034\n",
      "27 [25505]\n"
     ]
    },
    {
     "name": "stderr",
     "output_type": "stream",
     "text": [
      "D:\\Program\\Anaconda3\\lib\\site-packages\\sklearn\\gaussian_process\\kernels.py:411: ConvergenceWarning: The optimal value found for dimension 0 of parameter k1__sigma_0 is close to the specified upper bound 1.0. Increasing the bound and calling fit again may find a better value.\n",
      "  warnings.warn(\"The optimal value found for \"\n",
      "D:\\Program\\Anaconda3\\lib\\site-packages\\sklearn\\gaussian_process\\kernels.py:402: ConvergenceWarning: The optimal value found for dimension 0 of parameter k2__noise_level is close to the specified lower bound 0.001. Decreasing the bound and calling fit again may find a better value.\n",
      "  warnings.warn(\"The optimal value found for \"\n"
     ]
    },
    {
     "name": "stdout",
     "output_type": "stream",
     "text": [
      "Accuracy after query 86: 0.7050\n",
      "24 [3633]\n"
     ]
    },
    {
     "name": "stderr",
     "output_type": "stream",
     "text": [
      "D:\\Program\\Anaconda3\\lib\\site-packages\\sklearn\\gaussian_process\\kernels.py:411: ConvergenceWarning: The optimal value found for dimension 0 of parameter k1__sigma_0 is close to the specified upper bound 1.0. Increasing the bound and calling fit again may find a better value.\n",
      "  warnings.warn(\"The optimal value found for \"\n",
      "D:\\Program\\Anaconda3\\lib\\site-packages\\sklearn\\gaussian_process\\kernels.py:402: ConvergenceWarning: The optimal value found for dimension 0 of parameter k2__noise_level is close to the specified lower bound 0.001. Decreasing the bound and calling fit again may find a better value.\n",
      "  warnings.warn(\"The optimal value found for \"\n"
     ]
    },
    {
     "name": "stdout",
     "output_type": "stream",
     "text": [
      "Accuracy after query 87: 0.7099\n",
      "7 [48851]\n"
     ]
    },
    {
     "name": "stderr",
     "output_type": "stream",
     "text": [
      "D:\\Program\\Anaconda3\\lib\\site-packages\\sklearn\\gaussian_process\\kernels.py:411: ConvergenceWarning: The optimal value found for dimension 0 of parameter k1__sigma_0 is close to the specified upper bound 1.0. Increasing the bound and calling fit again may find a better value.\n",
      "  warnings.warn(\"The optimal value found for \"\n",
      "D:\\Program\\Anaconda3\\lib\\site-packages\\sklearn\\gaussian_process\\kernels.py:402: ConvergenceWarning: The optimal value found for dimension 0 of parameter k2__noise_level is close to the specified lower bound 0.001. Decreasing the bound and calling fit again may find a better value.\n",
      "  warnings.warn(\"The optimal value found for \"\n"
     ]
    },
    {
     "name": "stdout",
     "output_type": "stream",
     "text": [
      "Accuracy after query 88: 0.7079\n",
      "71 [57342]\n"
     ]
    },
    {
     "name": "stderr",
     "output_type": "stream",
     "text": [
      "D:\\Program\\Anaconda3\\lib\\site-packages\\sklearn\\gaussian_process\\kernels.py:411: ConvergenceWarning: The optimal value found for dimension 0 of parameter k1__sigma_0 is close to the specified upper bound 1.0. Increasing the bound and calling fit again may find a better value.\n",
      "  warnings.warn(\"The optimal value found for \"\n",
      "D:\\Program\\Anaconda3\\lib\\site-packages\\sklearn\\gaussian_process\\kernels.py:402: ConvergenceWarning: The optimal value found for dimension 0 of parameter k2__noise_level is close to the specified lower bound 0.001. Decreasing the bound and calling fit again may find a better value.\n",
      "  warnings.warn(\"The optimal value found for \"\n"
     ]
    },
    {
     "name": "stdout",
     "output_type": "stream",
     "text": [
      "Accuracy after query 89: 0.7063\n",
      "92 [57512]\n"
     ]
    },
    {
     "name": "stderr",
     "output_type": "stream",
     "text": [
      "D:\\Program\\Anaconda3\\lib\\site-packages\\sklearn\\gaussian_process\\kernels.py:411: ConvergenceWarning: The optimal value found for dimension 0 of parameter k1__sigma_0 is close to the specified upper bound 1.0. Increasing the bound and calling fit again may find a better value.\n",
      "  warnings.warn(\"The optimal value found for \"\n",
      "D:\\Program\\Anaconda3\\lib\\site-packages\\sklearn\\gaussian_process\\kernels.py:402: ConvergenceWarning: The optimal value found for dimension 0 of parameter k2__noise_level is close to the specified lower bound 0.001. Decreasing the bound and calling fit again may find a better value.\n",
      "  warnings.warn(\"The optimal value found for \"\n"
     ]
    },
    {
     "name": "stdout",
     "output_type": "stream",
     "text": [
      "Accuracy after query 90: 0.7032\n",
      "22 [54268]\n"
     ]
    },
    {
     "name": "stderr",
     "output_type": "stream",
     "text": [
      "D:\\Program\\Anaconda3\\lib\\site-packages\\sklearn\\gaussian_process\\kernels.py:411: ConvergenceWarning: The optimal value found for dimension 0 of parameter k1__sigma_0 is close to the specified upper bound 1.0. Increasing the bound and calling fit again may find a better value.\n",
      "  warnings.warn(\"The optimal value found for \"\n",
      "D:\\Program\\Anaconda3\\lib\\site-packages\\sklearn\\gaussian_process\\kernels.py:402: ConvergenceWarning: The optimal value found for dimension 0 of parameter k2__noise_level is close to the specified lower bound 0.001. Decreasing the bound and calling fit again may find a better value.\n",
      "  warnings.warn(\"The optimal value found for \"\n"
     ]
    },
    {
     "name": "stdout",
     "output_type": "stream",
     "text": [
      "Accuracy after query 91: 0.7087\n",
      "22 [37821]\n"
     ]
    },
    {
     "name": "stderr",
     "output_type": "stream",
     "text": [
      "D:\\Program\\Anaconda3\\lib\\site-packages\\sklearn\\gaussian_process\\kernels.py:411: ConvergenceWarning: The optimal value found for dimension 0 of parameter k1__sigma_0 is close to the specified upper bound 1.0. Increasing the bound and calling fit again may find a better value.\n",
      "  warnings.warn(\"The optimal value found for \"\n",
      "D:\\Program\\Anaconda3\\lib\\site-packages\\sklearn\\gaussian_process\\kernels.py:402: ConvergenceWarning: The optimal value found for dimension 0 of parameter k2__noise_level is close to the specified lower bound 0.001. Decreasing the bound and calling fit again may find a better value.\n",
      "  warnings.warn(\"The optimal value found for \"\n"
     ]
    },
    {
     "name": "stdout",
     "output_type": "stream",
     "text": [
      "Accuracy after query 92: 0.7096\n",
      "75 [46764]\n"
     ]
    },
    {
     "name": "stderr",
     "output_type": "stream",
     "text": [
      "D:\\Program\\Anaconda3\\lib\\site-packages\\sklearn\\gaussian_process\\kernels.py:411: ConvergenceWarning: The optimal value found for dimension 0 of parameter k1__sigma_0 is close to the specified upper bound 1.0. Increasing the bound and calling fit again may find a better value.\n",
      "  warnings.warn(\"The optimal value found for \"\n",
      "D:\\Program\\Anaconda3\\lib\\site-packages\\sklearn\\gaussian_process\\kernels.py:402: ConvergenceWarning: The optimal value found for dimension 0 of parameter k2__noise_level is close to the specified lower bound 0.001. Decreasing the bound and calling fit again may find a better value.\n",
      "  warnings.warn(\"The optimal value found for \"\n"
     ]
    },
    {
     "name": "stdout",
     "output_type": "stream",
     "text": [
      "Accuracy after query 93: 0.7096\n",
      "71 [17255]\n"
     ]
    },
    {
     "name": "stderr",
     "output_type": "stream",
     "text": [
      "D:\\Program\\Anaconda3\\lib\\site-packages\\sklearn\\gaussian_process\\kernels.py:411: ConvergenceWarning: The optimal value found for dimension 0 of parameter k1__sigma_0 is close to the specified upper bound 1.0. Increasing the bound and calling fit again may find a better value.\n",
      "  warnings.warn(\"The optimal value found for \"\n",
      "D:\\Program\\Anaconda3\\lib\\site-packages\\sklearn\\gaussian_process\\kernels.py:402: ConvergenceWarning: The optimal value found for dimension 0 of parameter k2__noise_level is close to the specified lower bound 0.001. Decreasing the bound and calling fit again may find a better value.\n",
      "  warnings.warn(\"The optimal value found for \"\n"
     ]
    },
    {
     "name": "stdout",
     "output_type": "stream",
     "text": [
      "Accuracy after query 94: 0.7145\n",
      "46 [1611]\n"
     ]
    },
    {
     "name": "stderr",
     "output_type": "stream",
     "text": [
      "D:\\Program\\Anaconda3\\lib\\site-packages\\sklearn\\gaussian_process\\kernels.py:411: ConvergenceWarning: The optimal value found for dimension 0 of parameter k1__sigma_0 is close to the specified upper bound 1.0. Increasing the bound and calling fit again may find a better value.\n",
      "  warnings.warn(\"The optimal value found for \"\n",
      "D:\\Program\\Anaconda3\\lib\\site-packages\\sklearn\\gaussian_process\\kernels.py:402: ConvergenceWarning: The optimal value found for dimension 0 of parameter k2__noise_level is close to the specified lower bound 0.001. Decreasing the bound and calling fit again may find a better value.\n",
      "  warnings.warn(\"The optimal value found for \"\n"
     ]
    },
    {
     "name": "stdout",
     "output_type": "stream",
     "text": [
      "Accuracy after query 95: 0.7133\n",
      "44 [31288]\n"
     ]
    },
    {
     "name": "stderr",
     "output_type": "stream",
     "text": [
      "D:\\Program\\Anaconda3\\lib\\site-packages\\sklearn\\gaussian_process\\kernels.py:411: ConvergenceWarning: The optimal value found for dimension 0 of parameter k1__sigma_0 is close to the specified upper bound 1.0. Increasing the bound and calling fit again may find a better value.\n",
      "  warnings.warn(\"The optimal value found for \"\n",
      "D:\\Program\\Anaconda3\\lib\\site-packages\\sklearn\\gaussian_process\\kernels.py:402: ConvergenceWarning: The optimal value found for dimension 0 of parameter k2__noise_level is close to the specified lower bound 0.001. Decreasing the bound and calling fit again may find a better value.\n",
      "  warnings.warn(\"The optimal value found for \"\n"
     ]
    },
    {
     "name": "stdout",
     "output_type": "stream",
     "text": [
      "Accuracy after query 96: 0.7121\n",
      "25 [14853]\n"
     ]
    },
    {
     "name": "stderr",
     "output_type": "stream",
     "text": [
      "D:\\Program\\Anaconda3\\lib\\site-packages\\sklearn\\gaussian_process\\kernels.py:411: ConvergenceWarning: The optimal value found for dimension 0 of parameter k1__sigma_0 is close to the specified upper bound 1.0. Increasing the bound and calling fit again may find a better value.\n",
      "  warnings.warn(\"The optimal value found for \"\n",
      "D:\\Program\\Anaconda3\\lib\\site-packages\\sklearn\\gaussian_process\\kernels.py:402: ConvergenceWarning: The optimal value found for dimension 0 of parameter k2__noise_level is close to the specified lower bound 0.001. Decreasing the bound and calling fit again may find a better value.\n",
      "  warnings.warn(\"The optimal value found for \"\n"
     ]
    },
    {
     "name": "stdout",
     "output_type": "stream",
     "text": [
      "Accuracy after query 97: 0.7116\n",
      "43 [30992]\n"
     ]
    },
    {
     "name": "stderr",
     "output_type": "stream",
     "text": [
      "D:\\Program\\Anaconda3\\lib\\site-packages\\sklearn\\gaussian_process\\kernels.py:411: ConvergenceWarning: The optimal value found for dimension 0 of parameter k1__sigma_0 is close to the specified upper bound 1.0. Increasing the bound and calling fit again may find a better value.\n",
      "  warnings.warn(\"The optimal value found for \"\n",
      "D:\\Program\\Anaconda3\\lib\\site-packages\\sklearn\\gaussian_process\\kernels.py:402: ConvergenceWarning: The optimal value found for dimension 0 of parameter k2__noise_level is close to the specified lower bound 0.001. Decreasing the bound and calling fit again may find a better value.\n",
      "  warnings.warn(\"The optimal value found for \"\n"
     ]
    },
    {
     "name": "stdout",
     "output_type": "stream",
     "text": [
      "Accuracy after query 98: 0.7137\n",
      "99 [47353]\n"
     ]
    },
    {
     "name": "stderr",
     "output_type": "stream",
     "text": [
      "D:\\Program\\Anaconda3\\lib\\site-packages\\sklearn\\gaussian_process\\kernels.py:411: ConvergenceWarning: The optimal value found for dimension 0 of parameter k1__sigma_0 is close to the specified upper bound 1.0. Increasing the bound and calling fit again may find a better value.\n",
      "  warnings.warn(\"The optimal value found for \"\n",
      "D:\\Program\\Anaconda3\\lib\\site-packages\\sklearn\\gaussian_process\\kernels.py:402: ConvergenceWarning: The optimal value found for dimension 0 of parameter k2__noise_level is close to the specified lower bound 0.001. Decreasing the bound and calling fit again may find a better value.\n",
      "  warnings.warn(\"The optimal value found for \"\n"
     ]
    },
    {
     "name": "stdout",
     "output_type": "stream",
     "text": [
      "Accuracy after query 99: 0.7152\n",
      "30 [31461]\n"
     ]
    },
    {
     "name": "stderr",
     "output_type": "stream",
     "text": [
      "D:\\Program\\Anaconda3\\lib\\site-packages\\sklearn\\gaussian_process\\kernels.py:411: ConvergenceWarning: The optimal value found for dimension 0 of parameter k1__sigma_0 is close to the specified upper bound 1.0. Increasing the bound and calling fit again may find a better value.\n",
      "  warnings.warn(\"The optimal value found for \"\n",
      "D:\\Program\\Anaconda3\\lib\\site-packages\\sklearn\\gaussian_process\\kernels.py:402: ConvergenceWarning: The optimal value found for dimension 0 of parameter k2__noise_level is close to the specified lower bound 0.001. Decreasing the bound and calling fit again may find a better value.\n",
      "  warnings.warn(\"The optimal value found for \"\n"
     ]
    },
    {
     "name": "stdout",
     "output_type": "stream",
     "text": [
      "Accuracy after query 100: 0.7130\n",
      "(59850, 784)\n"
     ]
    }
   ],
   "source": [
    "# done!\n",
    "X_pool = np.delete(X_train, initial_idx, axis=0)\n",
    "y_pool = np.delete(y_train, initial_idx, axis=0)\n",
    "X_list = [X_test, X_pool, X_initial]\n",
    "X_test_re, X_pool_re, X_initial_re = img_reshape(X_list)\n",
    "\n",
    "device = \"cuda\" if torch.cuda.is_available() else \"cpu\"\n",
    "gpc = GaussianProcessClassifier(kernel=kernel, n_restarts_optimizer=10)\n",
    "estimator = gpc\n",
    "  \n",
    "GPC_perf_hist = active_learning_procedure(bald_gpc,\n",
    "                                          X_test_re,\n",
    "                                          y_test,\n",
    "                                          X_pool_re,\n",
    "                                          y_pool,\n",
    "                                          X_initial_re,\n",
    "                                          y_initial,\n",
    "                                          estimator,\n",
    "                                          n_queries=100,\n",
    "                                          n_instances=1\n",
    "                                         )\n",
    "np.save('D:/Studium/WiSe2021/SA/Project/run_adlr/GPC_baldgpc_50_100x1.npy', GPC_perf_hist)"
   ]
  },
  {
   "cell_type": "code",
   "execution_count": 59,
   "metadata": {
    "colab": {
     "base_uri": "https://localhost:8080/"
    },
    "collapsed": true,
    "executionInfo": {
     "elapsed": 3743990,
     "status": "ok",
     "timestamp": 1639676031054,
     "user": {
      "displayName": "dexuan meng",
      "photoUrl": "https://lh3.googleusercontent.com/a/default-user=s64",
      "userId": "02429618187161859061"
     },
     "user_tz": -60
    },
    "id": "Sw7oGsFicqXV",
    "jupyter": {
     "outputs_hidden": true,
     "source_hidden": true
    },
    "outputId": "d5639c3f-0e33-4883-ca2d-92f67a7be847",
    "scrolled": true,
    "tags": []
   },
   "outputs": [
    {
     "name": "stderr",
     "output_type": "stream",
     "text": [
      "D:\\Program\\Anaconda3\\lib\\site-packages\\sklearn\\gaussian_process\\kernels.py:411: ConvergenceWarning: The optimal value found for dimension 0 of parameter k1__sigma_0 is close to the specified upper bound 1.0. Increasing the bound and calling fit again may find a better value.\n",
      "  warnings.warn(\"The optimal value found for \"\n",
      "D:\\Program\\Anaconda3\\lib\\site-packages\\sklearn\\gaussian_process\\kernels.py:402: ConvergenceWarning: The optimal value found for dimension 0 of parameter k2__noise_level is close to the specified lower bound 0.001. Decreasing the bound and calling fit again may find a better value.\n",
      "  warnings.warn(\"The optimal value found for \"\n"
     ]
    },
    {
     "name": "stdout",
     "output_type": "stream",
     "text": [
      "(59950, 784)\n"
     ]
    },
    {
     "name": "stderr",
     "output_type": "stream",
     "text": [
      "D:\\Program\\Anaconda3\\lib\\site-packages\\sklearn\\gaussian_process\\kernels.py:411: ConvergenceWarning: The optimal value found for dimension 0 of parameter k1__sigma_0 is close to the specified upper bound 1.0. Increasing the bound and calling fit again may find a better value.\n",
      "  warnings.warn(\"The optimal value found for \"\n",
      "D:\\Program\\Anaconda3\\lib\\site-packages\\sklearn\\gaussian_process\\kernels.py:402: ConvergenceWarning: The optimal value found for dimension 0 of parameter k2__noise_level is close to the specified lower bound 0.001. Decreasing the bound and calling fit again may find a better value.\n",
      "  warnings.warn(\"The optimal value found for \"\n"
     ]
    },
    {
     "name": "stdout",
     "output_type": "stream",
     "text": [
      "Accuracy after query 1: 0.6520\n"
     ]
    },
    {
     "name": "stderr",
     "output_type": "stream",
     "text": [
      "D:\\Program\\Anaconda3\\lib\\site-packages\\sklearn\\gaussian_process\\kernels.py:411: ConvergenceWarning: The optimal value found for dimension 0 of parameter k1__sigma_0 is close to the specified upper bound 1.0. Increasing the bound and calling fit again may find a better value.\n",
      "  warnings.warn(\"The optimal value found for \"\n",
      "D:\\Program\\Anaconda3\\lib\\site-packages\\sklearn\\gaussian_process\\kernels.py:402: ConvergenceWarning: The optimal value found for dimension 0 of parameter k2__noise_level is close to the specified lower bound 0.001. Decreasing the bound and calling fit again may find a better value.\n",
      "  warnings.warn(\"The optimal value found for \"\n"
     ]
    },
    {
     "name": "stdout",
     "output_type": "stream",
     "text": [
      "Accuracy after query 2: 0.6529\n"
     ]
    },
    {
     "name": "stderr",
     "output_type": "stream",
     "text": [
      "D:\\Program\\Anaconda3\\lib\\site-packages\\sklearn\\gaussian_process\\kernels.py:411: ConvergenceWarning: The optimal value found for dimension 0 of parameter k1__sigma_0 is close to the specified upper bound 1.0. Increasing the bound and calling fit again may find a better value.\n",
      "  warnings.warn(\"The optimal value found for \"\n",
      "D:\\Program\\Anaconda3\\lib\\site-packages\\sklearn\\gaussian_process\\kernels.py:402: ConvergenceWarning: The optimal value found for dimension 0 of parameter k2__noise_level is close to the specified lower bound 0.001. Decreasing the bound and calling fit again may find a better value.\n",
      "  warnings.warn(\"The optimal value found for \"\n"
     ]
    },
    {
     "name": "stdout",
     "output_type": "stream",
     "text": [
      "Accuracy after query 3: 0.6618\n"
     ]
    },
    {
     "name": "stderr",
     "output_type": "stream",
     "text": [
      "D:\\Program\\Anaconda3\\lib\\site-packages\\sklearn\\gaussian_process\\kernels.py:411: ConvergenceWarning: The optimal value found for dimension 0 of parameter k1__sigma_0 is close to the specified upper bound 1.0. Increasing the bound and calling fit again may find a better value.\n",
      "  warnings.warn(\"The optimal value found for \"\n",
      "D:\\Program\\Anaconda3\\lib\\site-packages\\sklearn\\gaussian_process\\kernels.py:402: ConvergenceWarning: The optimal value found for dimension 0 of parameter k2__noise_level is close to the specified lower bound 0.001. Decreasing the bound and calling fit again may find a better value.\n",
      "  warnings.warn(\"The optimal value found for \"\n"
     ]
    },
    {
     "name": "stdout",
     "output_type": "stream",
     "text": [
      "Accuracy after query 4: 0.6666\n"
     ]
    },
    {
     "name": "stderr",
     "output_type": "stream",
     "text": [
      "D:\\Program\\Anaconda3\\lib\\site-packages\\sklearn\\gaussian_process\\kernels.py:411: ConvergenceWarning: The optimal value found for dimension 0 of parameter k1__sigma_0 is close to the specified upper bound 1.0. Increasing the bound and calling fit again may find a better value.\n",
      "  warnings.warn(\"The optimal value found for \"\n",
      "D:\\Program\\Anaconda3\\lib\\site-packages\\sklearn\\gaussian_process\\kernels.py:402: ConvergenceWarning: The optimal value found for dimension 0 of parameter k2__noise_level is close to the specified lower bound 0.001. Decreasing the bound and calling fit again may find a better value.\n",
      "  warnings.warn(\"The optimal value found for \"\n"
     ]
    },
    {
     "name": "stdout",
     "output_type": "stream",
     "text": [
      "Accuracy after query 5: 0.6763\n"
     ]
    },
    {
     "name": "stderr",
     "output_type": "stream",
     "text": [
      "D:\\Program\\Anaconda3\\lib\\site-packages\\sklearn\\gaussian_process\\kernels.py:411: ConvergenceWarning: The optimal value found for dimension 0 of parameter k1__sigma_0 is close to the specified upper bound 1.0. Increasing the bound and calling fit again may find a better value.\n",
      "  warnings.warn(\"The optimal value found for \"\n",
      "D:\\Program\\Anaconda3\\lib\\site-packages\\sklearn\\gaussian_process\\kernels.py:402: ConvergenceWarning: The optimal value found for dimension 0 of parameter k2__noise_level is close to the specified lower bound 0.001. Decreasing the bound and calling fit again may find a better value.\n",
      "  warnings.warn(\"The optimal value found for \"\n"
     ]
    },
    {
     "name": "stdout",
     "output_type": "stream",
     "text": [
      "Accuracy after query 6: 0.6766\n"
     ]
    },
    {
     "name": "stderr",
     "output_type": "stream",
     "text": [
      "D:\\Program\\Anaconda3\\lib\\site-packages\\sklearn\\gaussian_process\\kernels.py:411: ConvergenceWarning: The optimal value found for dimension 0 of parameter k1__sigma_0 is close to the specified upper bound 1.0. Increasing the bound and calling fit again may find a better value.\n",
      "  warnings.warn(\"The optimal value found for \"\n",
      "D:\\Program\\Anaconda3\\lib\\site-packages\\sklearn\\gaussian_process\\kernels.py:402: ConvergenceWarning: The optimal value found for dimension 0 of parameter k2__noise_level is close to the specified lower bound 0.001. Decreasing the bound and calling fit again may find a better value.\n",
      "  warnings.warn(\"The optimal value found for \"\n"
     ]
    },
    {
     "name": "stdout",
     "output_type": "stream",
     "text": [
      "Accuracy after query 7: 0.6837\n"
     ]
    },
    {
     "name": "stderr",
     "output_type": "stream",
     "text": [
      "D:\\Program\\Anaconda3\\lib\\site-packages\\sklearn\\gaussian_process\\kernels.py:411: ConvergenceWarning: The optimal value found for dimension 0 of parameter k1__sigma_0 is close to the specified upper bound 1.0. Increasing the bound and calling fit again may find a better value.\n",
      "  warnings.warn(\"The optimal value found for \"\n",
      "D:\\Program\\Anaconda3\\lib\\site-packages\\sklearn\\gaussian_process\\kernels.py:402: ConvergenceWarning: The optimal value found for dimension 0 of parameter k2__noise_level is close to the specified lower bound 0.001. Decreasing the bound and calling fit again may find a better value.\n",
      "  warnings.warn(\"The optimal value found for \"\n"
     ]
    },
    {
     "name": "stdout",
     "output_type": "stream",
     "text": [
      "Accuracy after query 8: 0.6813\n"
     ]
    },
    {
     "name": "stderr",
     "output_type": "stream",
     "text": [
      "D:\\Program\\Anaconda3\\lib\\site-packages\\sklearn\\gaussian_process\\kernels.py:411: ConvergenceWarning: The optimal value found for dimension 0 of parameter k1__sigma_0 is close to the specified upper bound 1.0. Increasing the bound and calling fit again may find a better value.\n",
      "  warnings.warn(\"The optimal value found for \"\n",
      "D:\\Program\\Anaconda3\\lib\\site-packages\\sklearn\\gaussian_process\\kernels.py:402: ConvergenceWarning: The optimal value found for dimension 0 of parameter k2__noise_level is close to the specified lower bound 0.001. Decreasing the bound and calling fit again may find a better value.\n",
      "  warnings.warn(\"The optimal value found for \"\n"
     ]
    },
    {
     "name": "stdout",
     "output_type": "stream",
     "text": [
      "Accuracy after query 9: 0.6934\n"
     ]
    },
    {
     "name": "stderr",
     "output_type": "stream",
     "text": [
      "D:\\Program\\Anaconda3\\lib\\site-packages\\sklearn\\gaussian_process\\kernels.py:411: ConvergenceWarning: The optimal value found for dimension 0 of parameter k1__sigma_0 is close to the specified upper bound 1.0. Increasing the bound and calling fit again may find a better value.\n",
      "  warnings.warn(\"The optimal value found for \"\n",
      "D:\\Program\\Anaconda3\\lib\\site-packages\\sklearn\\gaussian_process\\kernels.py:402: ConvergenceWarning: The optimal value found for dimension 0 of parameter k2__noise_level is close to the specified lower bound 0.001. Decreasing the bound and calling fit again may find a better value.\n",
      "  warnings.warn(\"The optimal value found for \"\n",
      "D:\\Program\\Anaconda3\\lib\\site-packages\\sklearn\\gaussian_process\\_gpc.py:448: ConvergenceWarning: lbfgs failed to converge (status=2):\n",
      "ABNORMAL_TERMINATION_IN_LNSRCH.\n",
      "\n",
      "Increase the number of iterations (max_iter) or scale the data as shown in:\n",
      "    https://scikit-learn.org/stable/modules/preprocessing.html\n",
      "  _check_optimize_result(\"lbfgs\", opt_res)\n"
     ]
    },
    {
     "name": "stdout",
     "output_type": "stream",
     "text": [
      "Accuracy after query 10: 0.6961\n"
     ]
    },
    {
     "name": "stderr",
     "output_type": "stream",
     "text": [
      "D:\\Program\\Anaconda3\\lib\\site-packages\\sklearn\\gaussian_process\\kernels.py:411: ConvergenceWarning: The optimal value found for dimension 0 of parameter k1__sigma_0 is close to the specified upper bound 1.0. Increasing the bound and calling fit again may find a better value.\n",
      "  warnings.warn(\"The optimal value found for \"\n",
      "D:\\Program\\Anaconda3\\lib\\site-packages\\sklearn\\gaussian_process\\kernels.py:402: ConvergenceWarning: The optimal value found for dimension 0 of parameter k2__noise_level is close to the specified lower bound 0.001. Decreasing the bound and calling fit again may find a better value.\n",
      "  warnings.warn(\"The optimal value found for \"\n"
     ]
    },
    {
     "name": "stdout",
     "output_type": "stream",
     "text": [
      "Accuracy after query 11: 0.6932\n"
     ]
    },
    {
     "name": "stderr",
     "output_type": "stream",
     "text": [
      "D:\\Program\\Anaconda3\\lib\\site-packages\\sklearn\\gaussian_process\\kernels.py:411: ConvergenceWarning: The optimal value found for dimension 0 of parameter k1__sigma_0 is close to the specified upper bound 1.0. Increasing the bound and calling fit again may find a better value.\n",
      "  warnings.warn(\"The optimal value found for \"\n",
      "D:\\Program\\Anaconda3\\lib\\site-packages\\sklearn\\gaussian_process\\kernels.py:402: ConvergenceWarning: The optimal value found for dimension 0 of parameter k2__noise_level is close to the specified lower bound 0.001. Decreasing the bound and calling fit again may find a better value.\n",
      "  warnings.warn(\"The optimal value found for \"\n"
     ]
    },
    {
     "name": "stdout",
     "output_type": "stream",
     "text": [
      "Accuracy after query 12: 0.6984\n"
     ]
    },
    {
     "name": "stderr",
     "output_type": "stream",
     "text": [
      "D:\\Program\\Anaconda3\\lib\\site-packages\\sklearn\\gaussian_process\\kernels.py:411: ConvergenceWarning: The optimal value found for dimension 0 of parameter k1__sigma_0 is close to the specified upper bound 1.0. Increasing the bound and calling fit again may find a better value.\n",
      "  warnings.warn(\"The optimal value found for \"\n",
      "D:\\Program\\Anaconda3\\lib\\site-packages\\sklearn\\gaussian_process\\kernels.py:402: ConvergenceWarning: The optimal value found for dimension 0 of parameter k2__noise_level is close to the specified lower bound 0.001. Decreasing the bound and calling fit again may find a better value.\n",
      "  warnings.warn(\"The optimal value found for \"\n"
     ]
    },
    {
     "name": "stdout",
     "output_type": "stream",
     "text": [
      "Accuracy after query 13: 0.7108\n"
     ]
    },
    {
     "name": "stderr",
     "output_type": "stream",
     "text": [
      "D:\\Program\\Anaconda3\\lib\\site-packages\\sklearn\\gaussian_process\\kernels.py:411: ConvergenceWarning: The optimal value found for dimension 0 of parameter k1__sigma_0 is close to the specified upper bound 1.0. Increasing the bound and calling fit again may find a better value.\n",
      "  warnings.warn(\"The optimal value found for \"\n",
      "D:\\Program\\Anaconda3\\lib\\site-packages\\sklearn\\gaussian_process\\kernels.py:402: ConvergenceWarning: The optimal value found for dimension 0 of parameter k2__noise_level is close to the specified lower bound 0.001. Decreasing the bound and calling fit again may find a better value.\n",
      "  warnings.warn(\"The optimal value found for \"\n"
     ]
    },
    {
     "name": "stdout",
     "output_type": "stream",
     "text": [
      "Accuracy after query 14: 0.7104\n"
     ]
    },
    {
     "name": "stderr",
     "output_type": "stream",
     "text": [
      "D:\\Program\\Anaconda3\\lib\\site-packages\\sklearn\\gaussian_process\\kernels.py:411: ConvergenceWarning: The optimal value found for dimension 0 of parameter k1__sigma_0 is close to the specified upper bound 1.0. Increasing the bound and calling fit again may find a better value.\n",
      "  warnings.warn(\"The optimal value found for \"\n",
      "D:\\Program\\Anaconda3\\lib\\site-packages\\sklearn\\gaussian_process\\kernels.py:402: ConvergenceWarning: The optimal value found for dimension 0 of parameter k2__noise_level is close to the specified lower bound 0.001. Decreasing the bound and calling fit again may find a better value.\n",
      "  warnings.warn(\"The optimal value found for \"\n"
     ]
    },
    {
     "name": "stdout",
     "output_type": "stream",
     "text": [
      "Accuracy after query 15: 0.7123\n"
     ]
    },
    {
     "name": "stderr",
     "output_type": "stream",
     "text": [
      "D:\\Program\\Anaconda3\\lib\\site-packages\\sklearn\\gaussian_process\\kernels.py:411: ConvergenceWarning: The optimal value found for dimension 0 of parameter k1__sigma_0 is close to the specified upper bound 1.0. Increasing the bound and calling fit again may find a better value.\n",
      "  warnings.warn(\"The optimal value found for \"\n",
      "D:\\Program\\Anaconda3\\lib\\site-packages\\sklearn\\gaussian_process\\kernels.py:402: ConvergenceWarning: The optimal value found for dimension 0 of parameter k2__noise_level is close to the specified lower bound 0.001. Decreasing the bound and calling fit again may find a better value.\n",
      "  warnings.warn(\"The optimal value found for \"\n"
     ]
    },
    {
     "name": "stdout",
     "output_type": "stream",
     "text": [
      "Accuracy after query 16: 0.7178\n"
     ]
    },
    {
     "name": "stderr",
     "output_type": "stream",
     "text": [
      "D:\\Program\\Anaconda3\\lib\\site-packages\\sklearn\\gaussian_process\\kernels.py:411: ConvergenceWarning: The optimal value found for dimension 0 of parameter k1__sigma_0 is close to the specified upper bound 1.0. Increasing the bound and calling fit again may find a better value.\n",
      "  warnings.warn(\"The optimal value found for \"\n",
      "D:\\Program\\Anaconda3\\lib\\site-packages\\sklearn\\gaussian_process\\kernels.py:402: ConvergenceWarning: The optimal value found for dimension 0 of parameter k2__noise_level is close to the specified lower bound 0.001. Decreasing the bound and calling fit again may find a better value.\n",
      "  warnings.warn(\"The optimal value found for \"\n"
     ]
    },
    {
     "name": "stdout",
     "output_type": "stream",
     "text": [
      "Accuracy after query 17: 0.7185\n"
     ]
    },
    {
     "name": "stderr",
     "output_type": "stream",
     "text": [
      "D:\\Program\\Anaconda3\\lib\\site-packages\\sklearn\\gaussian_process\\kernels.py:411: ConvergenceWarning: The optimal value found for dimension 0 of parameter k1__sigma_0 is close to the specified upper bound 1.0. Increasing the bound and calling fit again may find a better value.\n",
      "  warnings.warn(\"The optimal value found for \"\n",
      "D:\\Program\\Anaconda3\\lib\\site-packages\\sklearn\\gaussian_process\\kernels.py:402: ConvergenceWarning: The optimal value found for dimension 0 of parameter k2__noise_level is close to the specified lower bound 0.001. Decreasing the bound and calling fit again may find a better value.\n",
      "  warnings.warn(\"The optimal value found for \"\n"
     ]
    },
    {
     "name": "stdout",
     "output_type": "stream",
     "text": [
      "Accuracy after query 18: 0.7234\n"
     ]
    },
    {
     "name": "stderr",
     "output_type": "stream",
     "text": [
      "D:\\Program\\Anaconda3\\lib\\site-packages\\sklearn\\gaussian_process\\kernels.py:411: ConvergenceWarning: The optimal value found for dimension 0 of parameter k1__sigma_0 is close to the specified upper bound 1.0. Increasing the bound and calling fit again may find a better value.\n",
      "  warnings.warn(\"The optimal value found for \"\n",
      "D:\\Program\\Anaconda3\\lib\\site-packages\\sklearn\\gaussian_process\\kernels.py:402: ConvergenceWarning: The optimal value found for dimension 0 of parameter k2__noise_level is close to the specified lower bound 0.001. Decreasing the bound and calling fit again may find a better value.\n",
      "  warnings.warn(\"The optimal value found for \"\n"
     ]
    },
    {
     "name": "stdout",
     "output_type": "stream",
     "text": [
      "Accuracy after query 19: 0.7260\n"
     ]
    },
    {
     "name": "stderr",
     "output_type": "stream",
     "text": [
      "D:\\Program\\Anaconda3\\lib\\site-packages\\sklearn\\gaussian_process\\kernels.py:411: ConvergenceWarning: The optimal value found for dimension 0 of parameter k1__sigma_0 is close to the specified upper bound 1.0. Increasing the bound and calling fit again may find a better value.\n",
      "  warnings.warn(\"The optimal value found for \"\n",
      "D:\\Program\\Anaconda3\\lib\\site-packages\\sklearn\\gaussian_process\\kernels.py:402: ConvergenceWarning: The optimal value found for dimension 0 of parameter k2__noise_level is close to the specified lower bound 0.001. Decreasing the bound and calling fit again may find a better value.\n",
      "  warnings.warn(\"The optimal value found for \"\n"
     ]
    },
    {
     "name": "stdout",
     "output_type": "stream",
     "text": [
      "Accuracy after query 20: 0.7251\n"
     ]
    },
    {
     "name": "stderr",
     "output_type": "stream",
     "text": [
      "D:\\Program\\Anaconda3\\lib\\site-packages\\sklearn\\gaussian_process\\kernels.py:411: ConvergenceWarning: The optimal value found for dimension 0 of parameter k1__sigma_0 is close to the specified upper bound 1.0. Increasing the bound and calling fit again may find a better value.\n",
      "  warnings.warn(\"The optimal value found for \"\n",
      "D:\\Program\\Anaconda3\\lib\\site-packages\\sklearn\\gaussian_process\\kernels.py:402: ConvergenceWarning: The optimal value found for dimension 0 of parameter k2__noise_level is close to the specified lower bound 0.001. Decreasing the bound and calling fit again may find a better value.\n",
      "  warnings.warn(\"The optimal value found for \"\n"
     ]
    },
    {
     "name": "stdout",
     "output_type": "stream",
     "text": [
      "Accuracy after query 21: 0.7306\n"
     ]
    },
    {
     "name": "stderr",
     "output_type": "stream",
     "text": [
      "D:\\Program\\Anaconda3\\lib\\site-packages\\sklearn\\gaussian_process\\kernels.py:411: ConvergenceWarning: The optimal value found for dimension 0 of parameter k1__sigma_0 is close to the specified upper bound 1.0. Increasing the bound and calling fit again may find a better value.\n",
      "  warnings.warn(\"The optimal value found for \"\n",
      "D:\\Program\\Anaconda3\\lib\\site-packages\\sklearn\\gaussian_process\\kernels.py:402: ConvergenceWarning: The optimal value found for dimension 0 of parameter k2__noise_level is close to the specified lower bound 0.001. Decreasing the bound and calling fit again may find a better value.\n",
      "  warnings.warn(\"The optimal value found for \"\n"
     ]
    },
    {
     "name": "stdout",
     "output_type": "stream",
     "text": [
      "Accuracy after query 22: 0.7305\n"
     ]
    },
    {
     "name": "stderr",
     "output_type": "stream",
     "text": [
      "D:\\Program\\Anaconda3\\lib\\site-packages\\sklearn\\gaussian_process\\kernels.py:411: ConvergenceWarning: The optimal value found for dimension 0 of parameter k1__sigma_0 is close to the specified upper bound 1.0. Increasing the bound and calling fit again may find a better value.\n",
      "  warnings.warn(\"The optimal value found for \"\n",
      "D:\\Program\\Anaconda3\\lib\\site-packages\\sklearn\\gaussian_process\\kernels.py:402: ConvergenceWarning: The optimal value found for dimension 0 of parameter k2__noise_level is close to the specified lower bound 0.001. Decreasing the bound and calling fit again may find a better value.\n",
      "  warnings.warn(\"The optimal value found for \"\n"
     ]
    },
    {
     "name": "stdout",
     "output_type": "stream",
     "text": [
      "Accuracy after query 23: 0.7249\n"
     ]
    },
    {
     "name": "stderr",
     "output_type": "stream",
     "text": [
      "D:\\Program\\Anaconda3\\lib\\site-packages\\sklearn\\gaussian_process\\kernels.py:411: ConvergenceWarning: The optimal value found for dimension 0 of parameter k1__sigma_0 is close to the specified upper bound 1.0. Increasing the bound and calling fit again may find a better value.\n",
      "  warnings.warn(\"The optimal value found for \"\n",
      "D:\\Program\\Anaconda3\\lib\\site-packages\\sklearn\\gaussian_process\\kernels.py:402: ConvergenceWarning: The optimal value found for dimension 0 of parameter k2__noise_level is close to the specified lower bound 0.001. Decreasing the bound and calling fit again may find a better value.\n",
      "  warnings.warn(\"The optimal value found for \"\n"
     ]
    },
    {
     "name": "stdout",
     "output_type": "stream",
     "text": [
      "Accuracy after query 24: 0.7232\n"
     ]
    },
    {
     "name": "stderr",
     "output_type": "stream",
     "text": [
      "D:\\Program\\Anaconda3\\lib\\site-packages\\sklearn\\gaussian_process\\kernels.py:411: ConvergenceWarning: The optimal value found for dimension 0 of parameter k1__sigma_0 is close to the specified upper bound 1.0. Increasing the bound and calling fit again may find a better value.\n",
      "  warnings.warn(\"The optimal value found for \"\n",
      "D:\\Program\\Anaconda3\\lib\\site-packages\\sklearn\\gaussian_process\\kernels.py:402: ConvergenceWarning: The optimal value found for dimension 0 of parameter k2__noise_level is close to the specified lower bound 0.001. Decreasing the bound and calling fit again may find a better value.\n",
      "  warnings.warn(\"The optimal value found for \"\n"
     ]
    },
    {
     "name": "stdout",
     "output_type": "stream",
     "text": [
      "Accuracy after query 25: 0.7310\n"
     ]
    },
    {
     "name": "stderr",
     "output_type": "stream",
     "text": [
      "D:\\Program\\Anaconda3\\lib\\site-packages\\sklearn\\gaussian_process\\kernels.py:411: ConvergenceWarning: The optimal value found for dimension 0 of parameter k1__sigma_0 is close to the specified upper bound 1.0. Increasing the bound and calling fit again may find a better value.\n",
      "  warnings.warn(\"The optimal value found for \"\n",
      "D:\\Program\\Anaconda3\\lib\\site-packages\\sklearn\\gaussian_process\\kernels.py:402: ConvergenceWarning: The optimal value found for dimension 0 of parameter k2__noise_level is close to the specified lower bound 0.001. Decreasing the bound and calling fit again may find a better value.\n",
      "  warnings.warn(\"The optimal value found for \"\n"
     ]
    },
    {
     "name": "stdout",
     "output_type": "stream",
     "text": [
      "Accuracy after query 26: 0.7289\n"
     ]
    },
    {
     "name": "stderr",
     "output_type": "stream",
     "text": [
      "D:\\Program\\Anaconda3\\lib\\site-packages\\sklearn\\gaussian_process\\kernels.py:411: ConvergenceWarning: The optimal value found for dimension 0 of parameter k1__sigma_0 is close to the specified upper bound 1.0. Increasing the bound and calling fit again may find a better value.\n",
      "  warnings.warn(\"The optimal value found for \"\n",
      "D:\\Program\\Anaconda3\\lib\\site-packages\\sklearn\\gaussian_process\\kernels.py:402: ConvergenceWarning: The optimal value found for dimension 0 of parameter k2__noise_level is close to the specified lower bound 0.001. Decreasing the bound and calling fit again may find a better value.\n",
      "  warnings.warn(\"The optimal value found for \"\n"
     ]
    },
    {
     "name": "stdout",
     "output_type": "stream",
     "text": [
      "Accuracy after query 27: 0.7297\n"
     ]
    },
    {
     "name": "stderr",
     "output_type": "stream",
     "text": [
      "D:\\Program\\Anaconda3\\lib\\site-packages\\sklearn\\gaussian_process\\kernels.py:411: ConvergenceWarning: The optimal value found for dimension 0 of parameter k1__sigma_0 is close to the specified upper bound 1.0. Increasing the bound and calling fit again may find a better value.\n",
      "  warnings.warn(\"The optimal value found for \"\n",
      "D:\\Program\\Anaconda3\\lib\\site-packages\\sklearn\\gaussian_process\\kernels.py:402: ConvergenceWarning: The optimal value found for dimension 0 of parameter k2__noise_level is close to the specified lower bound 0.001. Decreasing the bound and calling fit again may find a better value.\n",
      "  warnings.warn(\"The optimal value found for \"\n"
     ]
    },
    {
     "name": "stdout",
     "output_type": "stream",
     "text": [
      "Accuracy after query 28: 0.7278\n"
     ]
    },
    {
     "name": "stderr",
     "output_type": "stream",
     "text": [
      "D:\\Program\\Anaconda3\\lib\\site-packages\\sklearn\\gaussian_process\\kernels.py:411: ConvergenceWarning: The optimal value found for dimension 0 of parameter k1__sigma_0 is close to the specified upper bound 1.0. Increasing the bound and calling fit again may find a better value.\n",
      "  warnings.warn(\"The optimal value found for \"\n",
      "D:\\Program\\Anaconda3\\lib\\site-packages\\sklearn\\gaussian_process\\kernels.py:402: ConvergenceWarning: The optimal value found for dimension 0 of parameter k2__noise_level is close to the specified lower bound 0.001. Decreasing the bound and calling fit again may find a better value.\n",
      "  warnings.warn(\"The optimal value found for \"\n"
     ]
    },
    {
     "name": "stdout",
     "output_type": "stream",
     "text": [
      "Accuracy after query 29: 0.7292\n"
     ]
    },
    {
     "name": "stderr",
     "output_type": "stream",
     "text": [
      "D:\\Program\\Anaconda3\\lib\\site-packages\\sklearn\\gaussian_process\\kernels.py:411: ConvergenceWarning: The optimal value found for dimension 0 of parameter k1__sigma_0 is close to the specified upper bound 1.0. Increasing the bound and calling fit again may find a better value.\n",
      "  warnings.warn(\"The optimal value found for \"\n",
      "D:\\Program\\Anaconda3\\lib\\site-packages\\sklearn\\gaussian_process\\kernels.py:402: ConvergenceWarning: The optimal value found for dimension 0 of parameter k2__noise_level is close to the specified lower bound 0.001. Decreasing the bound and calling fit again may find a better value.\n",
      "  warnings.warn(\"The optimal value found for \"\n"
     ]
    },
    {
     "name": "stdout",
     "output_type": "stream",
     "text": [
      "Accuracy after query 30: 0.7303\n"
     ]
    },
    {
     "name": "stderr",
     "output_type": "stream",
     "text": [
      "D:\\Program\\Anaconda3\\lib\\site-packages\\sklearn\\gaussian_process\\kernels.py:411: ConvergenceWarning: The optimal value found for dimension 0 of parameter k1__sigma_0 is close to the specified upper bound 1.0. Increasing the bound and calling fit again may find a better value.\n",
      "  warnings.warn(\"The optimal value found for \"\n",
      "D:\\Program\\Anaconda3\\lib\\site-packages\\sklearn\\gaussian_process\\kernels.py:402: ConvergenceWarning: The optimal value found for dimension 0 of parameter k2__noise_level is close to the specified lower bound 0.001. Decreasing the bound and calling fit again may find a better value.\n",
      "  warnings.warn(\"The optimal value found for \"\n"
     ]
    },
    {
     "name": "stdout",
     "output_type": "stream",
     "text": [
      "Accuracy after query 31: 0.7314\n"
     ]
    },
    {
     "name": "stderr",
     "output_type": "stream",
     "text": [
      "D:\\Program\\Anaconda3\\lib\\site-packages\\sklearn\\gaussian_process\\kernels.py:411: ConvergenceWarning: The optimal value found for dimension 0 of parameter k1__sigma_0 is close to the specified upper bound 1.0. Increasing the bound and calling fit again may find a better value.\n",
      "  warnings.warn(\"The optimal value found for \"\n",
      "D:\\Program\\Anaconda3\\lib\\site-packages\\sklearn\\gaussian_process\\kernels.py:402: ConvergenceWarning: The optimal value found for dimension 0 of parameter k2__noise_level is close to the specified lower bound 0.001. Decreasing the bound and calling fit again may find a better value.\n",
      "  warnings.warn(\"The optimal value found for \"\n"
     ]
    },
    {
     "name": "stdout",
     "output_type": "stream",
     "text": [
      "Accuracy after query 32: 0.7309\n"
     ]
    },
    {
     "name": "stderr",
     "output_type": "stream",
     "text": [
      "D:\\Program\\Anaconda3\\lib\\site-packages\\sklearn\\gaussian_process\\kernels.py:411: ConvergenceWarning: The optimal value found for dimension 0 of parameter k1__sigma_0 is close to the specified upper bound 1.0. Increasing the bound and calling fit again may find a better value.\n",
      "  warnings.warn(\"The optimal value found for \"\n",
      "D:\\Program\\Anaconda3\\lib\\site-packages\\sklearn\\gaussian_process\\kernels.py:402: ConvergenceWarning: The optimal value found for dimension 0 of parameter k2__noise_level is close to the specified lower bound 0.001. Decreasing the bound and calling fit again may find a better value.\n",
      "  warnings.warn(\"The optimal value found for \"\n"
     ]
    },
    {
     "name": "stdout",
     "output_type": "stream",
     "text": [
      "Accuracy after query 33: 0.7312\n"
     ]
    },
    {
     "name": "stderr",
     "output_type": "stream",
     "text": [
      "D:\\Program\\Anaconda3\\lib\\site-packages\\sklearn\\gaussian_process\\kernels.py:411: ConvergenceWarning: The optimal value found for dimension 0 of parameter k1__sigma_0 is close to the specified upper bound 1.0. Increasing the bound and calling fit again may find a better value.\n",
      "  warnings.warn(\"The optimal value found for \"\n",
      "D:\\Program\\Anaconda3\\lib\\site-packages\\sklearn\\gaussian_process\\kernels.py:402: ConvergenceWarning: The optimal value found for dimension 0 of parameter k2__noise_level is close to the specified lower bound 0.001. Decreasing the bound and calling fit again may find a better value.\n",
      "  warnings.warn(\"The optimal value found for \"\n"
     ]
    },
    {
     "name": "stdout",
     "output_type": "stream",
     "text": [
      "Accuracy after query 34: 0.7411\n"
     ]
    },
    {
     "name": "stderr",
     "output_type": "stream",
     "text": [
      "D:\\Program\\Anaconda3\\lib\\site-packages\\sklearn\\gaussian_process\\kernels.py:411: ConvergenceWarning: The optimal value found for dimension 0 of parameter k1__sigma_0 is close to the specified upper bound 1.0. Increasing the bound and calling fit again may find a better value.\n",
      "  warnings.warn(\"The optimal value found for \"\n",
      "D:\\Program\\Anaconda3\\lib\\site-packages\\sklearn\\gaussian_process\\kernels.py:402: ConvergenceWarning: The optimal value found for dimension 0 of parameter k2__noise_level is close to the specified lower bound 0.001. Decreasing the bound and calling fit again may find a better value.\n",
      "  warnings.warn(\"The optimal value found for \"\n"
     ]
    },
    {
     "name": "stdout",
     "output_type": "stream",
     "text": [
      "Accuracy after query 35: 0.7419\n"
     ]
    },
    {
     "name": "stderr",
     "output_type": "stream",
     "text": [
      "D:\\Program\\Anaconda3\\lib\\site-packages\\sklearn\\gaussian_process\\kernels.py:411: ConvergenceWarning: The optimal value found for dimension 0 of parameter k1__sigma_0 is close to the specified upper bound 1.0. Increasing the bound and calling fit again may find a better value.\n",
      "  warnings.warn(\"The optimal value found for \"\n",
      "D:\\Program\\Anaconda3\\lib\\site-packages\\sklearn\\gaussian_process\\kernels.py:402: ConvergenceWarning: The optimal value found for dimension 0 of parameter k2__noise_level is close to the specified lower bound 0.001. Decreasing the bound and calling fit again may find a better value.\n",
      "  warnings.warn(\"The optimal value found for \"\n"
     ]
    },
    {
     "name": "stdout",
     "output_type": "stream",
     "text": [
      "Accuracy after query 36: 0.7428\n"
     ]
    },
    {
     "name": "stderr",
     "output_type": "stream",
     "text": [
      "D:\\Program\\Anaconda3\\lib\\site-packages\\sklearn\\gaussian_process\\kernels.py:411: ConvergenceWarning: The optimal value found for dimension 0 of parameter k1__sigma_0 is close to the specified upper bound 1.0. Increasing the bound and calling fit again may find a better value.\n",
      "  warnings.warn(\"The optimal value found for \"\n",
      "D:\\Program\\Anaconda3\\lib\\site-packages\\sklearn\\gaussian_process\\kernels.py:402: ConvergenceWarning: The optimal value found for dimension 0 of parameter k2__noise_level is close to the specified lower bound 0.001. Decreasing the bound and calling fit again may find a better value.\n",
      "  warnings.warn(\"The optimal value found for \"\n"
     ]
    },
    {
     "name": "stdout",
     "output_type": "stream",
     "text": [
      "Accuracy after query 37: 0.7404\n"
     ]
    },
    {
     "name": "stderr",
     "output_type": "stream",
     "text": [
      "D:\\Program\\Anaconda3\\lib\\site-packages\\sklearn\\gaussian_process\\kernels.py:411: ConvergenceWarning: The optimal value found for dimension 0 of parameter k1__sigma_0 is close to the specified upper bound 1.0. Increasing the bound and calling fit again may find a better value.\n",
      "  warnings.warn(\"The optimal value found for \"\n",
      "D:\\Program\\Anaconda3\\lib\\site-packages\\sklearn\\gaussian_process\\kernels.py:402: ConvergenceWarning: The optimal value found for dimension 0 of parameter k2__noise_level is close to the specified lower bound 0.001. Decreasing the bound and calling fit again may find a better value.\n",
      "  warnings.warn(\"The optimal value found for \"\n"
     ]
    },
    {
     "name": "stdout",
     "output_type": "stream",
     "text": [
      "Accuracy after query 38: 0.7430\n"
     ]
    },
    {
     "name": "stderr",
     "output_type": "stream",
     "text": [
      "D:\\Program\\Anaconda3\\lib\\site-packages\\sklearn\\gaussian_process\\kernels.py:411: ConvergenceWarning: The optimal value found for dimension 0 of parameter k1__sigma_0 is close to the specified upper bound 1.0. Increasing the bound and calling fit again may find a better value.\n",
      "  warnings.warn(\"The optimal value found for \"\n",
      "D:\\Program\\Anaconda3\\lib\\site-packages\\sklearn\\gaussian_process\\kernels.py:402: ConvergenceWarning: The optimal value found for dimension 0 of parameter k2__noise_level is close to the specified lower bound 0.001. Decreasing the bound and calling fit again may find a better value.\n",
      "  warnings.warn(\"The optimal value found for \"\n"
     ]
    },
    {
     "name": "stdout",
     "output_type": "stream",
     "text": [
      "Accuracy after query 39: 0.7410\n"
     ]
    },
    {
     "name": "stderr",
     "output_type": "stream",
     "text": [
      "D:\\Program\\Anaconda3\\lib\\site-packages\\sklearn\\gaussian_process\\kernels.py:411: ConvergenceWarning: The optimal value found for dimension 0 of parameter k1__sigma_0 is close to the specified upper bound 1.0. Increasing the bound and calling fit again may find a better value.\n",
      "  warnings.warn(\"The optimal value found for \"\n",
      "D:\\Program\\Anaconda3\\lib\\site-packages\\sklearn\\gaussian_process\\kernels.py:402: ConvergenceWarning: The optimal value found for dimension 0 of parameter k2__noise_level is close to the specified lower bound 0.001. Decreasing the bound and calling fit again may find a better value.\n",
      "  warnings.warn(\"The optimal value found for \"\n"
     ]
    },
    {
     "name": "stdout",
     "output_type": "stream",
     "text": [
      "Accuracy after query 40: 0.7450\n"
     ]
    },
    {
     "name": "stderr",
     "output_type": "stream",
     "text": [
      "D:\\Program\\Anaconda3\\lib\\site-packages\\sklearn\\gaussian_process\\kernels.py:411: ConvergenceWarning: The optimal value found for dimension 0 of parameter k1__sigma_0 is close to the specified upper bound 1.0. Increasing the bound and calling fit again may find a better value.\n",
      "  warnings.warn(\"The optimal value found for \"\n",
      "D:\\Program\\Anaconda3\\lib\\site-packages\\sklearn\\gaussian_process\\kernels.py:402: ConvergenceWarning: The optimal value found for dimension 0 of parameter k2__noise_level is close to the specified lower bound 0.001. Decreasing the bound and calling fit again may find a better value.\n",
      "  warnings.warn(\"The optimal value found for \"\n"
     ]
    },
    {
     "name": "stdout",
     "output_type": "stream",
     "text": [
      "Accuracy after query 41: 0.7450\n"
     ]
    },
    {
     "name": "stderr",
     "output_type": "stream",
     "text": [
      "D:\\Program\\Anaconda3\\lib\\site-packages\\sklearn\\gaussian_process\\kernels.py:411: ConvergenceWarning: The optimal value found for dimension 0 of parameter k1__sigma_0 is close to the specified upper bound 1.0. Increasing the bound and calling fit again may find a better value.\n",
      "  warnings.warn(\"The optimal value found for \"\n",
      "D:\\Program\\Anaconda3\\lib\\site-packages\\sklearn\\gaussian_process\\kernels.py:402: ConvergenceWarning: The optimal value found for dimension 0 of parameter k2__noise_level is close to the specified lower bound 0.001. Decreasing the bound and calling fit again may find a better value.\n",
      "  warnings.warn(\"The optimal value found for \"\n"
     ]
    },
    {
     "name": "stdout",
     "output_type": "stream",
     "text": [
      "Accuracy after query 42: 0.7463\n"
     ]
    },
    {
     "name": "stderr",
     "output_type": "stream",
     "text": [
      "D:\\Program\\Anaconda3\\lib\\site-packages\\sklearn\\gaussian_process\\kernels.py:411: ConvergenceWarning: The optimal value found for dimension 0 of parameter k1__sigma_0 is close to the specified upper bound 1.0. Increasing the bound and calling fit again may find a better value.\n",
      "  warnings.warn(\"The optimal value found for \"\n",
      "D:\\Program\\Anaconda3\\lib\\site-packages\\sklearn\\gaussian_process\\kernels.py:402: ConvergenceWarning: The optimal value found for dimension 0 of parameter k2__noise_level is close to the specified lower bound 0.001. Decreasing the bound and calling fit again may find a better value.\n",
      "  warnings.warn(\"The optimal value found for \"\n"
     ]
    },
    {
     "name": "stdout",
     "output_type": "stream",
     "text": [
      "Accuracy after query 43: 0.7435\n"
     ]
    },
    {
     "name": "stderr",
     "output_type": "stream",
     "text": [
      "D:\\Program\\Anaconda3\\lib\\site-packages\\sklearn\\gaussian_process\\kernels.py:411: ConvergenceWarning: The optimal value found for dimension 0 of parameter k1__sigma_0 is close to the specified upper bound 1.0. Increasing the bound and calling fit again may find a better value.\n",
      "  warnings.warn(\"The optimal value found for \"\n",
      "D:\\Program\\Anaconda3\\lib\\site-packages\\sklearn\\gaussian_process\\kernels.py:402: ConvergenceWarning: The optimal value found for dimension 0 of parameter k2__noise_level is close to the specified lower bound 0.001. Decreasing the bound and calling fit again may find a better value.\n",
      "  warnings.warn(\"The optimal value found for \"\n"
     ]
    },
    {
     "name": "stdout",
     "output_type": "stream",
     "text": [
      "Accuracy after query 44: 0.7470\n"
     ]
    },
    {
     "name": "stderr",
     "output_type": "stream",
     "text": [
      "D:\\Program\\Anaconda3\\lib\\site-packages\\sklearn\\gaussian_process\\kernels.py:411: ConvergenceWarning: The optimal value found for dimension 0 of parameter k1__sigma_0 is close to the specified upper bound 1.0. Increasing the bound and calling fit again may find a better value.\n",
      "  warnings.warn(\"The optimal value found for \"\n",
      "D:\\Program\\Anaconda3\\lib\\site-packages\\sklearn\\gaussian_process\\kernels.py:402: ConvergenceWarning: The optimal value found for dimension 0 of parameter k2__noise_level is close to the specified lower bound 0.001. Decreasing the bound and calling fit again may find a better value.\n",
      "  warnings.warn(\"The optimal value found for \"\n"
     ]
    },
    {
     "name": "stdout",
     "output_type": "stream",
     "text": [
      "Accuracy after query 45: 0.7605\n"
     ]
    },
    {
     "name": "stderr",
     "output_type": "stream",
     "text": [
      "D:\\Program\\Anaconda3\\lib\\site-packages\\sklearn\\gaussian_process\\kernels.py:411: ConvergenceWarning: The optimal value found for dimension 0 of parameter k1__sigma_0 is close to the specified upper bound 1.0. Increasing the bound and calling fit again may find a better value.\n",
      "  warnings.warn(\"The optimal value found for \"\n",
      "D:\\Program\\Anaconda3\\lib\\site-packages\\sklearn\\gaussian_process\\kernels.py:402: ConvergenceWarning: The optimal value found for dimension 0 of parameter k2__noise_level is close to the specified lower bound 0.001. Decreasing the bound and calling fit again may find a better value.\n",
      "  warnings.warn(\"The optimal value found for \"\n"
     ]
    },
    {
     "name": "stdout",
     "output_type": "stream",
     "text": [
      "Accuracy after query 46: 0.7619\n"
     ]
    },
    {
     "name": "stderr",
     "output_type": "stream",
     "text": [
      "D:\\Program\\Anaconda3\\lib\\site-packages\\sklearn\\gaussian_process\\kernels.py:411: ConvergenceWarning: The optimal value found for dimension 0 of parameter k1__sigma_0 is close to the specified upper bound 1.0. Increasing the bound and calling fit again may find a better value.\n",
      "  warnings.warn(\"The optimal value found for \"\n",
      "D:\\Program\\Anaconda3\\lib\\site-packages\\sklearn\\gaussian_process\\kernels.py:402: ConvergenceWarning: The optimal value found for dimension 0 of parameter k2__noise_level is close to the specified lower bound 0.001. Decreasing the bound and calling fit again may find a better value.\n",
      "  warnings.warn(\"The optimal value found for \"\n"
     ]
    },
    {
     "name": "stdout",
     "output_type": "stream",
     "text": [
      "Accuracy after query 47: 0.7608\n"
     ]
    },
    {
     "name": "stderr",
     "output_type": "stream",
     "text": [
      "D:\\Program\\Anaconda3\\lib\\site-packages\\sklearn\\gaussian_process\\kernels.py:411: ConvergenceWarning: The optimal value found for dimension 0 of parameter k1__sigma_0 is close to the specified upper bound 1.0. Increasing the bound and calling fit again may find a better value.\n",
      "  warnings.warn(\"The optimal value found for \"\n",
      "D:\\Program\\Anaconda3\\lib\\site-packages\\sklearn\\gaussian_process\\kernels.py:402: ConvergenceWarning: The optimal value found for dimension 0 of parameter k2__noise_level is close to the specified lower bound 0.001. Decreasing the bound and calling fit again may find a better value.\n",
      "  warnings.warn(\"The optimal value found for \"\n"
     ]
    },
    {
     "name": "stdout",
     "output_type": "stream",
     "text": [
      "Accuracy after query 48: 0.7615\n"
     ]
    },
    {
     "name": "stderr",
     "output_type": "stream",
     "text": [
      "D:\\Program\\Anaconda3\\lib\\site-packages\\sklearn\\gaussian_process\\kernels.py:411: ConvergenceWarning: The optimal value found for dimension 0 of parameter k1__sigma_0 is close to the specified upper bound 1.0. Increasing the bound and calling fit again may find a better value.\n",
      "  warnings.warn(\"The optimal value found for \"\n",
      "D:\\Program\\Anaconda3\\lib\\site-packages\\sklearn\\gaussian_process\\kernels.py:402: ConvergenceWarning: The optimal value found for dimension 0 of parameter k2__noise_level is close to the specified lower bound 0.001. Decreasing the bound and calling fit again may find a better value.\n",
      "  warnings.warn(\"The optimal value found for \"\n"
     ]
    },
    {
     "name": "stdout",
     "output_type": "stream",
     "text": [
      "Accuracy after query 49: 0.7623\n"
     ]
    },
    {
     "name": "stderr",
     "output_type": "stream",
     "text": [
      "D:\\Program\\Anaconda3\\lib\\site-packages\\sklearn\\gaussian_process\\kernels.py:411: ConvergenceWarning: The optimal value found for dimension 0 of parameter k1__sigma_0 is close to the specified upper bound 1.0. Increasing the bound and calling fit again may find a better value.\n",
      "  warnings.warn(\"The optimal value found for \"\n",
      "D:\\Program\\Anaconda3\\lib\\site-packages\\sklearn\\gaussian_process\\kernels.py:402: ConvergenceWarning: The optimal value found for dimension 0 of parameter k2__noise_level is close to the specified lower bound 0.001. Decreasing the bound and calling fit again may find a better value.\n",
      "  warnings.warn(\"The optimal value found for \"\n"
     ]
    },
    {
     "name": "stdout",
     "output_type": "stream",
     "text": [
      "Accuracy after query 50: 0.7646\n"
     ]
    },
    {
     "name": "stderr",
     "output_type": "stream",
     "text": [
      "D:\\Program\\Anaconda3\\lib\\site-packages\\sklearn\\gaussian_process\\kernels.py:411: ConvergenceWarning: The optimal value found for dimension 0 of parameter k1__sigma_0 is close to the specified upper bound 1.0. Increasing the bound and calling fit again may find a better value.\n",
      "  warnings.warn(\"The optimal value found for \"\n",
      "D:\\Program\\Anaconda3\\lib\\site-packages\\sklearn\\gaussian_process\\kernels.py:402: ConvergenceWarning: The optimal value found for dimension 0 of parameter k2__noise_level is close to the specified lower bound 0.001. Decreasing the bound and calling fit again may find a better value.\n",
      "  warnings.warn(\"The optimal value found for \"\n"
     ]
    },
    {
     "name": "stdout",
     "output_type": "stream",
     "text": [
      "Accuracy after query 51: 0.7647\n"
     ]
    },
    {
     "name": "stderr",
     "output_type": "stream",
     "text": [
      "D:\\Program\\Anaconda3\\lib\\site-packages\\sklearn\\gaussian_process\\kernels.py:411: ConvergenceWarning: The optimal value found for dimension 0 of parameter k1__sigma_0 is close to the specified upper bound 1.0. Increasing the bound and calling fit again may find a better value.\n",
      "  warnings.warn(\"The optimal value found for \"\n",
      "D:\\Program\\Anaconda3\\lib\\site-packages\\sklearn\\gaussian_process\\kernels.py:402: ConvergenceWarning: The optimal value found for dimension 0 of parameter k2__noise_level is close to the specified lower bound 0.001. Decreasing the bound and calling fit again may find a better value.\n",
      "  warnings.warn(\"The optimal value found for \"\n"
     ]
    },
    {
     "name": "stdout",
     "output_type": "stream",
     "text": [
      "Accuracy after query 52: 0.7708\n"
     ]
    },
    {
     "name": "stderr",
     "output_type": "stream",
     "text": [
      "D:\\Program\\Anaconda3\\lib\\site-packages\\sklearn\\gaussian_process\\kernels.py:411: ConvergenceWarning: The optimal value found for dimension 0 of parameter k1__sigma_0 is close to the specified upper bound 1.0. Increasing the bound and calling fit again may find a better value.\n",
      "  warnings.warn(\"The optimal value found for \"\n",
      "D:\\Program\\Anaconda3\\lib\\site-packages\\sklearn\\gaussian_process\\kernels.py:402: ConvergenceWarning: The optimal value found for dimension 0 of parameter k2__noise_level is close to the specified lower bound 0.001. Decreasing the bound and calling fit again may find a better value.\n",
      "  warnings.warn(\"The optimal value found for \"\n"
     ]
    },
    {
     "name": "stdout",
     "output_type": "stream",
     "text": [
      "Accuracy after query 53: 0.7707\n"
     ]
    },
    {
     "name": "stderr",
     "output_type": "stream",
     "text": [
      "D:\\Program\\Anaconda3\\lib\\site-packages\\sklearn\\gaussian_process\\kernels.py:411: ConvergenceWarning: The optimal value found for dimension 0 of parameter k1__sigma_0 is close to the specified upper bound 1.0. Increasing the bound and calling fit again may find a better value.\n",
      "  warnings.warn(\"The optimal value found for \"\n",
      "D:\\Program\\Anaconda3\\lib\\site-packages\\sklearn\\gaussian_process\\kernels.py:402: ConvergenceWarning: The optimal value found for dimension 0 of parameter k2__noise_level is close to the specified lower bound 0.001. Decreasing the bound and calling fit again may find a better value.\n",
      "  warnings.warn(\"The optimal value found for \"\n"
     ]
    },
    {
     "name": "stdout",
     "output_type": "stream",
     "text": [
      "Accuracy after query 54: 0.7712\n"
     ]
    },
    {
     "name": "stderr",
     "output_type": "stream",
     "text": [
      "D:\\Program\\Anaconda3\\lib\\site-packages\\sklearn\\gaussian_process\\kernels.py:411: ConvergenceWarning: The optimal value found for dimension 0 of parameter k1__sigma_0 is close to the specified upper bound 1.0. Increasing the bound and calling fit again may find a better value.\n",
      "  warnings.warn(\"The optimal value found for \"\n",
      "D:\\Program\\Anaconda3\\lib\\site-packages\\sklearn\\gaussian_process\\kernels.py:402: ConvergenceWarning: The optimal value found for dimension 0 of parameter k2__noise_level is close to the specified lower bound 0.001. Decreasing the bound and calling fit again may find a better value.\n",
      "  warnings.warn(\"The optimal value found for \"\n"
     ]
    },
    {
     "name": "stdout",
     "output_type": "stream",
     "text": [
      "Accuracy after query 55: 0.7712\n"
     ]
    },
    {
     "name": "stderr",
     "output_type": "stream",
     "text": [
      "D:\\Program\\Anaconda3\\lib\\site-packages\\sklearn\\gaussian_process\\kernels.py:411: ConvergenceWarning: The optimal value found for dimension 0 of parameter k1__sigma_0 is close to the specified upper bound 1.0. Increasing the bound and calling fit again may find a better value.\n",
      "  warnings.warn(\"The optimal value found for \"\n",
      "D:\\Program\\Anaconda3\\lib\\site-packages\\sklearn\\gaussian_process\\kernels.py:402: ConvergenceWarning: The optimal value found for dimension 0 of parameter k2__noise_level is close to the specified lower bound 0.001. Decreasing the bound and calling fit again may find a better value.\n",
      "  warnings.warn(\"The optimal value found for \"\n"
     ]
    },
    {
     "name": "stdout",
     "output_type": "stream",
     "text": [
      "Accuracy after query 56: 0.7707\n"
     ]
    },
    {
     "name": "stderr",
     "output_type": "stream",
     "text": [
      "D:\\Program\\Anaconda3\\lib\\site-packages\\sklearn\\gaussian_process\\kernels.py:411: ConvergenceWarning: The optimal value found for dimension 0 of parameter k1__sigma_0 is close to the specified upper bound 1.0. Increasing the bound and calling fit again may find a better value.\n",
      "  warnings.warn(\"The optimal value found for \"\n",
      "D:\\Program\\Anaconda3\\lib\\site-packages\\sklearn\\gaussian_process\\kernels.py:402: ConvergenceWarning: The optimal value found for dimension 0 of parameter k2__noise_level is close to the specified lower bound 0.001. Decreasing the bound and calling fit again may find a better value.\n",
      "  warnings.warn(\"The optimal value found for \"\n"
     ]
    },
    {
     "name": "stdout",
     "output_type": "stream",
     "text": [
      "Accuracy after query 57: 0.7716\n"
     ]
    },
    {
     "name": "stderr",
     "output_type": "stream",
     "text": [
      "D:\\Program\\Anaconda3\\lib\\site-packages\\sklearn\\gaussian_process\\kernels.py:411: ConvergenceWarning: The optimal value found for dimension 0 of parameter k1__sigma_0 is close to the specified upper bound 1.0. Increasing the bound and calling fit again may find a better value.\n",
      "  warnings.warn(\"The optimal value found for \"\n",
      "D:\\Program\\Anaconda3\\lib\\site-packages\\sklearn\\gaussian_process\\kernels.py:402: ConvergenceWarning: The optimal value found for dimension 0 of parameter k2__noise_level is close to the specified lower bound 0.001. Decreasing the bound and calling fit again may find a better value.\n",
      "  warnings.warn(\"The optimal value found for \"\n"
     ]
    },
    {
     "name": "stdout",
     "output_type": "stream",
     "text": [
      "Accuracy after query 58: 0.7720\n"
     ]
    },
    {
     "name": "stderr",
     "output_type": "stream",
     "text": [
      "D:\\Program\\Anaconda3\\lib\\site-packages\\sklearn\\gaussian_process\\kernels.py:411: ConvergenceWarning: The optimal value found for dimension 0 of parameter k1__sigma_0 is close to the specified upper bound 1.0. Increasing the bound and calling fit again may find a better value.\n",
      "  warnings.warn(\"The optimal value found for \"\n",
      "D:\\Program\\Anaconda3\\lib\\site-packages\\sklearn\\gaussian_process\\kernels.py:402: ConvergenceWarning: The optimal value found for dimension 0 of parameter k2__noise_level is close to the specified lower bound 0.001. Decreasing the bound and calling fit again may find a better value.\n",
      "  warnings.warn(\"The optimal value found for \"\n"
     ]
    },
    {
     "name": "stdout",
     "output_type": "stream",
     "text": [
      "Accuracy after query 59: 0.7726\n"
     ]
    },
    {
     "name": "stderr",
     "output_type": "stream",
     "text": [
      "D:\\Program\\Anaconda3\\lib\\site-packages\\sklearn\\gaussian_process\\kernels.py:411: ConvergenceWarning: The optimal value found for dimension 0 of parameter k1__sigma_0 is close to the specified upper bound 1.0. Increasing the bound and calling fit again may find a better value.\n",
      "  warnings.warn(\"The optimal value found for \"\n",
      "D:\\Program\\Anaconda3\\lib\\site-packages\\sklearn\\gaussian_process\\kernels.py:402: ConvergenceWarning: The optimal value found for dimension 0 of parameter k2__noise_level is close to the specified lower bound 0.001. Decreasing the bound and calling fit again may find a better value.\n",
      "  warnings.warn(\"The optimal value found for \"\n"
     ]
    },
    {
     "name": "stdout",
     "output_type": "stream",
     "text": [
      "Accuracy after query 60: 0.7711\n"
     ]
    },
    {
     "name": "stderr",
     "output_type": "stream",
     "text": [
      "D:\\Program\\Anaconda3\\lib\\site-packages\\sklearn\\gaussian_process\\kernels.py:411: ConvergenceWarning: The optimal value found for dimension 0 of parameter k1__sigma_0 is close to the specified upper bound 1.0. Increasing the bound and calling fit again may find a better value.\n",
      "  warnings.warn(\"The optimal value found for \"\n",
      "D:\\Program\\Anaconda3\\lib\\site-packages\\sklearn\\gaussian_process\\kernels.py:402: ConvergenceWarning: The optimal value found for dimension 0 of parameter k2__noise_level is close to the specified lower bound 0.001. Decreasing the bound and calling fit again may find a better value.\n",
      "  warnings.warn(\"The optimal value found for \"\n"
     ]
    },
    {
     "name": "stdout",
     "output_type": "stream",
     "text": [
      "Accuracy after query 61: 0.7708\n"
     ]
    },
    {
     "name": "stderr",
     "output_type": "stream",
     "text": [
      "D:\\Program\\Anaconda3\\lib\\site-packages\\sklearn\\gaussian_process\\kernels.py:411: ConvergenceWarning: The optimal value found for dimension 0 of parameter k1__sigma_0 is close to the specified upper bound 1.0. Increasing the bound and calling fit again may find a better value.\n",
      "  warnings.warn(\"The optimal value found for \"\n",
      "D:\\Program\\Anaconda3\\lib\\site-packages\\sklearn\\gaussian_process\\kernels.py:402: ConvergenceWarning: The optimal value found for dimension 0 of parameter k2__noise_level is close to the specified lower bound 0.001. Decreasing the bound and calling fit again may find a better value.\n",
      "  warnings.warn(\"The optimal value found for \"\n"
     ]
    },
    {
     "name": "stdout",
     "output_type": "stream",
     "text": [
      "Accuracy after query 62: 0.7730\n"
     ]
    },
    {
     "name": "stderr",
     "output_type": "stream",
     "text": [
      "D:\\Program\\Anaconda3\\lib\\site-packages\\sklearn\\gaussian_process\\kernels.py:411: ConvergenceWarning: The optimal value found for dimension 0 of parameter k1__sigma_0 is close to the specified upper bound 1.0. Increasing the bound and calling fit again may find a better value.\n",
      "  warnings.warn(\"The optimal value found for \"\n",
      "D:\\Program\\Anaconda3\\lib\\site-packages\\sklearn\\gaussian_process\\kernels.py:402: ConvergenceWarning: The optimal value found for dimension 0 of parameter k2__noise_level is close to the specified lower bound 0.001. Decreasing the bound and calling fit again may find a better value.\n",
      "  warnings.warn(\"The optimal value found for \"\n"
     ]
    },
    {
     "name": "stdout",
     "output_type": "stream",
     "text": [
      "Accuracy after query 63: 0.7724\n"
     ]
    },
    {
     "name": "stderr",
     "output_type": "stream",
     "text": [
      "D:\\Program\\Anaconda3\\lib\\site-packages\\sklearn\\gaussian_process\\kernels.py:411: ConvergenceWarning: The optimal value found for dimension 0 of parameter k1__sigma_0 is close to the specified upper bound 1.0. Increasing the bound and calling fit again may find a better value.\n",
      "  warnings.warn(\"The optimal value found for \"\n",
      "D:\\Program\\Anaconda3\\lib\\site-packages\\sklearn\\gaussian_process\\kernels.py:402: ConvergenceWarning: The optimal value found for dimension 0 of parameter k2__noise_level is close to the specified lower bound 0.001. Decreasing the bound and calling fit again may find a better value.\n",
      "  warnings.warn(\"The optimal value found for \"\n"
     ]
    },
    {
     "name": "stdout",
     "output_type": "stream",
     "text": [
      "Accuracy after query 64: 0.7700\n"
     ]
    },
    {
     "name": "stderr",
     "output_type": "stream",
     "text": [
      "D:\\Program\\Anaconda3\\lib\\site-packages\\sklearn\\gaussian_process\\kernels.py:411: ConvergenceWarning: The optimal value found for dimension 0 of parameter k1__sigma_0 is close to the specified upper bound 1.0. Increasing the bound and calling fit again may find a better value.\n",
      "  warnings.warn(\"The optimal value found for \"\n",
      "D:\\Program\\Anaconda3\\lib\\site-packages\\sklearn\\gaussian_process\\kernels.py:402: ConvergenceWarning: The optimal value found for dimension 0 of parameter k2__noise_level is close to the specified lower bound 0.001. Decreasing the bound and calling fit again may find a better value.\n",
      "  warnings.warn(\"The optimal value found for \"\n"
     ]
    },
    {
     "name": "stdout",
     "output_type": "stream",
     "text": [
      "Accuracy after query 65: 0.7749\n"
     ]
    },
    {
     "name": "stderr",
     "output_type": "stream",
     "text": [
      "D:\\Program\\Anaconda3\\lib\\site-packages\\sklearn\\gaussian_process\\kernels.py:411: ConvergenceWarning: The optimal value found for dimension 0 of parameter k1__sigma_0 is close to the specified upper bound 1.0. Increasing the bound and calling fit again may find a better value.\n",
      "  warnings.warn(\"The optimal value found for \"\n",
      "D:\\Program\\Anaconda3\\lib\\site-packages\\sklearn\\gaussian_process\\kernels.py:402: ConvergenceWarning: The optimal value found for dimension 0 of parameter k2__noise_level is close to the specified lower bound 0.001. Decreasing the bound and calling fit again may find a better value.\n",
      "  warnings.warn(\"The optimal value found for \"\n"
     ]
    },
    {
     "name": "stdout",
     "output_type": "stream",
     "text": [
      "Accuracy after query 66: 0.7740\n"
     ]
    },
    {
     "name": "stderr",
     "output_type": "stream",
     "text": [
      "D:\\Program\\Anaconda3\\lib\\site-packages\\sklearn\\gaussian_process\\kernels.py:411: ConvergenceWarning: The optimal value found for dimension 0 of parameter k1__sigma_0 is close to the specified upper bound 1.0. Increasing the bound and calling fit again may find a better value.\n",
      "  warnings.warn(\"The optimal value found for \"\n",
      "D:\\Program\\Anaconda3\\lib\\site-packages\\sklearn\\gaussian_process\\kernels.py:402: ConvergenceWarning: The optimal value found for dimension 0 of parameter k2__noise_level is close to the specified lower bound 0.001. Decreasing the bound and calling fit again may find a better value.\n",
      "  warnings.warn(\"The optimal value found for \"\n"
     ]
    },
    {
     "name": "stdout",
     "output_type": "stream",
     "text": [
      "Accuracy after query 67: 0.7724\n"
     ]
    },
    {
     "name": "stderr",
     "output_type": "stream",
     "text": [
      "D:\\Program\\Anaconda3\\lib\\site-packages\\sklearn\\gaussian_process\\kernels.py:411: ConvergenceWarning: The optimal value found for dimension 0 of parameter k1__sigma_0 is close to the specified upper bound 1.0. Increasing the bound and calling fit again may find a better value.\n",
      "  warnings.warn(\"The optimal value found for \"\n",
      "D:\\Program\\Anaconda3\\lib\\site-packages\\sklearn\\gaussian_process\\kernels.py:402: ConvergenceWarning: The optimal value found for dimension 0 of parameter k2__noise_level is close to the specified lower bound 0.001. Decreasing the bound and calling fit again may find a better value.\n",
      "  warnings.warn(\"The optimal value found for \"\n"
     ]
    },
    {
     "name": "stdout",
     "output_type": "stream",
     "text": [
      "Accuracy after query 68: 0.7729\n"
     ]
    },
    {
     "name": "stderr",
     "output_type": "stream",
     "text": [
      "D:\\Program\\Anaconda3\\lib\\site-packages\\sklearn\\gaussian_process\\kernels.py:411: ConvergenceWarning: The optimal value found for dimension 0 of parameter k1__sigma_0 is close to the specified upper bound 1.0. Increasing the bound and calling fit again may find a better value.\n",
      "  warnings.warn(\"The optimal value found for \"\n",
      "D:\\Program\\Anaconda3\\lib\\site-packages\\sklearn\\gaussian_process\\kernels.py:402: ConvergenceWarning: The optimal value found for dimension 0 of parameter k2__noise_level is close to the specified lower bound 0.001. Decreasing the bound and calling fit again may find a better value.\n",
      "  warnings.warn(\"The optimal value found for \"\n"
     ]
    },
    {
     "name": "stdout",
     "output_type": "stream",
     "text": [
      "Accuracy after query 69: 0.7725\n"
     ]
    },
    {
     "name": "stderr",
     "output_type": "stream",
     "text": [
      "D:\\Program\\Anaconda3\\lib\\site-packages\\sklearn\\gaussian_process\\kernels.py:411: ConvergenceWarning: The optimal value found for dimension 0 of parameter k1__sigma_0 is close to the specified upper bound 1.0. Increasing the bound and calling fit again may find a better value.\n",
      "  warnings.warn(\"The optimal value found for \"\n",
      "D:\\Program\\Anaconda3\\lib\\site-packages\\sklearn\\gaussian_process\\kernels.py:402: ConvergenceWarning: The optimal value found for dimension 0 of parameter k2__noise_level is close to the specified lower bound 0.001. Decreasing the bound and calling fit again may find a better value.\n",
      "  warnings.warn(\"The optimal value found for \"\n"
     ]
    },
    {
     "name": "stdout",
     "output_type": "stream",
     "text": [
      "Accuracy after query 70: 0.7725\n"
     ]
    },
    {
     "name": "stderr",
     "output_type": "stream",
     "text": [
      "D:\\Program\\Anaconda3\\lib\\site-packages\\sklearn\\gaussian_process\\kernels.py:411: ConvergenceWarning: The optimal value found for dimension 0 of parameter k1__sigma_0 is close to the specified upper bound 1.0. Increasing the bound and calling fit again may find a better value.\n",
      "  warnings.warn(\"The optimal value found for \"\n",
      "D:\\Program\\Anaconda3\\lib\\site-packages\\sklearn\\gaussian_process\\kernels.py:402: ConvergenceWarning: The optimal value found for dimension 0 of parameter k2__noise_level is close to the specified lower bound 0.001. Decreasing the bound and calling fit again may find a better value.\n",
      "  warnings.warn(\"The optimal value found for \"\n"
     ]
    },
    {
     "name": "stdout",
     "output_type": "stream",
     "text": [
      "Accuracy after query 71: 0.7721\n"
     ]
    },
    {
     "name": "stderr",
     "output_type": "stream",
     "text": [
      "D:\\Program\\Anaconda3\\lib\\site-packages\\sklearn\\gaussian_process\\kernels.py:411: ConvergenceWarning: The optimal value found for dimension 0 of parameter k1__sigma_0 is close to the specified upper bound 1.0. Increasing the bound and calling fit again may find a better value.\n",
      "  warnings.warn(\"The optimal value found for \"\n",
      "D:\\Program\\Anaconda3\\lib\\site-packages\\sklearn\\gaussian_process\\kernels.py:402: ConvergenceWarning: The optimal value found for dimension 0 of parameter k2__noise_level is close to the specified lower bound 0.001. Decreasing the bound and calling fit again may find a better value.\n",
      "  warnings.warn(\"The optimal value found for \"\n"
     ]
    },
    {
     "name": "stdout",
     "output_type": "stream",
     "text": [
      "Accuracy after query 72: 0.7699\n"
     ]
    },
    {
     "name": "stderr",
     "output_type": "stream",
     "text": [
      "D:\\Program\\Anaconda3\\lib\\site-packages\\sklearn\\gaussian_process\\kernels.py:411: ConvergenceWarning: The optimal value found for dimension 0 of parameter k1__sigma_0 is close to the specified upper bound 1.0. Increasing the bound and calling fit again may find a better value.\n",
      "  warnings.warn(\"The optimal value found for \"\n",
      "D:\\Program\\Anaconda3\\lib\\site-packages\\sklearn\\gaussian_process\\kernels.py:402: ConvergenceWarning: The optimal value found for dimension 0 of parameter k2__noise_level is close to the specified lower bound 0.001. Decreasing the bound and calling fit again may find a better value.\n",
      "  warnings.warn(\"The optimal value found for \"\n"
     ]
    },
    {
     "name": "stdout",
     "output_type": "stream",
     "text": [
      "Accuracy after query 73: 0.7749\n"
     ]
    },
    {
     "name": "stderr",
     "output_type": "stream",
     "text": [
      "D:\\Program\\Anaconda3\\lib\\site-packages\\sklearn\\gaussian_process\\kernels.py:411: ConvergenceWarning: The optimal value found for dimension 0 of parameter k1__sigma_0 is close to the specified upper bound 1.0. Increasing the bound and calling fit again may find a better value.\n",
      "  warnings.warn(\"The optimal value found for \"\n",
      "D:\\Program\\Anaconda3\\lib\\site-packages\\sklearn\\gaussian_process\\kernels.py:402: ConvergenceWarning: The optimal value found for dimension 0 of parameter k2__noise_level is close to the specified lower bound 0.001. Decreasing the bound and calling fit again may find a better value.\n",
      "  warnings.warn(\"The optimal value found for \"\n"
     ]
    },
    {
     "name": "stdout",
     "output_type": "stream",
     "text": [
      "Accuracy after query 74: 0.7747\n"
     ]
    },
    {
     "name": "stderr",
     "output_type": "stream",
     "text": [
      "D:\\Program\\Anaconda3\\lib\\site-packages\\sklearn\\gaussian_process\\kernels.py:411: ConvergenceWarning: The optimal value found for dimension 0 of parameter k1__sigma_0 is close to the specified upper bound 1.0. Increasing the bound and calling fit again may find a better value.\n",
      "  warnings.warn(\"The optimal value found for \"\n",
      "D:\\Program\\Anaconda3\\lib\\site-packages\\sklearn\\gaussian_process\\kernels.py:402: ConvergenceWarning: The optimal value found for dimension 0 of parameter k2__noise_level is close to the specified lower bound 0.001. Decreasing the bound and calling fit again may find a better value.\n",
      "  warnings.warn(\"The optimal value found for \"\n"
     ]
    },
    {
     "name": "stdout",
     "output_type": "stream",
     "text": [
      "Accuracy after query 75: 0.7747\n"
     ]
    },
    {
     "name": "stderr",
     "output_type": "stream",
     "text": [
      "D:\\Program\\Anaconda3\\lib\\site-packages\\sklearn\\gaussian_process\\kernels.py:411: ConvergenceWarning: The optimal value found for dimension 0 of parameter k1__sigma_0 is close to the specified upper bound 1.0. Increasing the bound and calling fit again may find a better value.\n",
      "  warnings.warn(\"The optimal value found for \"\n",
      "D:\\Program\\Anaconda3\\lib\\site-packages\\sklearn\\gaussian_process\\kernels.py:402: ConvergenceWarning: The optimal value found for dimension 0 of parameter k2__noise_level is close to the specified lower bound 0.001. Decreasing the bound and calling fit again may find a better value.\n",
      "  warnings.warn(\"The optimal value found for \"\n"
     ]
    },
    {
     "name": "stdout",
     "output_type": "stream",
     "text": [
      "Accuracy after query 76: 0.7742\n"
     ]
    },
    {
     "name": "stderr",
     "output_type": "stream",
     "text": [
      "D:\\Program\\Anaconda3\\lib\\site-packages\\sklearn\\gaussian_process\\kernels.py:411: ConvergenceWarning: The optimal value found for dimension 0 of parameter k1__sigma_0 is close to the specified upper bound 1.0. Increasing the bound and calling fit again may find a better value.\n",
      "  warnings.warn(\"The optimal value found for \"\n",
      "D:\\Program\\Anaconda3\\lib\\site-packages\\sklearn\\gaussian_process\\kernels.py:402: ConvergenceWarning: The optimal value found for dimension 0 of parameter k2__noise_level is close to the specified lower bound 0.001. Decreasing the bound and calling fit again may find a better value.\n",
      "  warnings.warn(\"The optimal value found for \"\n"
     ]
    },
    {
     "name": "stdout",
     "output_type": "stream",
     "text": [
      "Accuracy after query 77: 0.7735\n"
     ]
    },
    {
     "name": "stderr",
     "output_type": "stream",
     "text": [
      "D:\\Program\\Anaconda3\\lib\\site-packages\\sklearn\\gaussian_process\\kernels.py:411: ConvergenceWarning: The optimal value found for dimension 0 of parameter k1__sigma_0 is close to the specified upper bound 1.0. Increasing the bound and calling fit again may find a better value.\n",
      "  warnings.warn(\"The optimal value found for \"\n",
      "D:\\Program\\Anaconda3\\lib\\site-packages\\sklearn\\gaussian_process\\kernels.py:402: ConvergenceWarning: The optimal value found for dimension 0 of parameter k2__noise_level is close to the specified lower bound 0.001. Decreasing the bound and calling fit again may find a better value.\n",
      "  warnings.warn(\"The optimal value found for \"\n"
     ]
    },
    {
     "name": "stdout",
     "output_type": "stream",
     "text": [
      "Accuracy after query 78: 0.7752\n"
     ]
    },
    {
     "name": "stderr",
     "output_type": "stream",
     "text": [
      "D:\\Program\\Anaconda3\\lib\\site-packages\\sklearn\\gaussian_process\\kernels.py:411: ConvergenceWarning: The optimal value found for dimension 0 of parameter k1__sigma_0 is close to the specified upper bound 1.0. Increasing the bound and calling fit again may find a better value.\n",
      "  warnings.warn(\"The optimal value found for \"\n",
      "D:\\Program\\Anaconda3\\lib\\site-packages\\sklearn\\gaussian_process\\kernels.py:402: ConvergenceWarning: The optimal value found for dimension 0 of parameter k2__noise_level is close to the specified lower bound 0.001. Decreasing the bound and calling fit again may find a better value.\n",
      "  warnings.warn(\"The optimal value found for \"\n"
     ]
    },
    {
     "name": "stdout",
     "output_type": "stream",
     "text": [
      "Accuracy after query 79: 0.7761\n"
     ]
    },
    {
     "name": "stderr",
     "output_type": "stream",
     "text": [
      "D:\\Program\\Anaconda3\\lib\\site-packages\\sklearn\\gaussian_process\\kernels.py:411: ConvergenceWarning: The optimal value found for dimension 0 of parameter k1__sigma_0 is close to the specified upper bound 1.0. Increasing the bound and calling fit again may find a better value.\n",
      "  warnings.warn(\"The optimal value found for \"\n",
      "D:\\Program\\Anaconda3\\lib\\site-packages\\sklearn\\gaussian_process\\kernels.py:402: ConvergenceWarning: The optimal value found for dimension 0 of parameter k2__noise_level is close to the specified lower bound 0.001. Decreasing the bound and calling fit again may find a better value.\n",
      "  warnings.warn(\"The optimal value found for \"\n"
     ]
    },
    {
     "name": "stdout",
     "output_type": "stream",
     "text": [
      "Accuracy after query 80: 0.7753\n"
     ]
    },
    {
     "name": "stderr",
     "output_type": "stream",
     "text": [
      "D:\\Program\\Anaconda3\\lib\\site-packages\\sklearn\\gaussian_process\\kernels.py:411: ConvergenceWarning: The optimal value found for dimension 0 of parameter k1__sigma_0 is close to the specified upper bound 1.0. Increasing the bound and calling fit again may find a better value.\n",
      "  warnings.warn(\"The optimal value found for \"\n",
      "D:\\Program\\Anaconda3\\lib\\site-packages\\sklearn\\gaussian_process\\kernels.py:402: ConvergenceWarning: The optimal value found for dimension 0 of parameter k2__noise_level is close to the specified lower bound 0.001. Decreasing the bound and calling fit again may find a better value.\n",
      "  warnings.warn(\"The optimal value found for \"\n"
     ]
    },
    {
     "name": "stdout",
     "output_type": "stream",
     "text": [
      "Accuracy after query 81: 0.7739\n"
     ]
    },
    {
     "name": "stderr",
     "output_type": "stream",
     "text": [
      "D:\\Program\\Anaconda3\\lib\\site-packages\\sklearn\\gaussian_process\\kernels.py:411: ConvergenceWarning: The optimal value found for dimension 0 of parameter k1__sigma_0 is close to the specified upper bound 1.0. Increasing the bound and calling fit again may find a better value.\n",
      "  warnings.warn(\"The optimal value found for \"\n",
      "D:\\Program\\Anaconda3\\lib\\site-packages\\sklearn\\gaussian_process\\kernels.py:402: ConvergenceWarning: The optimal value found for dimension 0 of parameter k2__noise_level is close to the specified lower bound 0.001. Decreasing the bound and calling fit again may find a better value.\n",
      "  warnings.warn(\"The optimal value found for \"\n"
     ]
    },
    {
     "name": "stdout",
     "output_type": "stream",
     "text": [
      "Accuracy after query 82: 0.7740\n"
     ]
    },
    {
     "name": "stderr",
     "output_type": "stream",
     "text": [
      "D:\\Program\\Anaconda3\\lib\\site-packages\\sklearn\\gaussian_process\\kernels.py:411: ConvergenceWarning: The optimal value found for dimension 0 of parameter k1__sigma_0 is close to the specified upper bound 1.0. Increasing the bound and calling fit again may find a better value.\n",
      "  warnings.warn(\"The optimal value found for \"\n",
      "D:\\Program\\Anaconda3\\lib\\site-packages\\sklearn\\gaussian_process\\kernels.py:402: ConvergenceWarning: The optimal value found for dimension 0 of parameter k2__noise_level is close to the specified lower bound 0.001. Decreasing the bound and calling fit again may find a better value.\n",
      "  warnings.warn(\"The optimal value found for \"\n"
     ]
    },
    {
     "name": "stdout",
     "output_type": "stream",
     "text": [
      "Accuracy after query 83: 0.7758\n"
     ]
    },
    {
     "name": "stderr",
     "output_type": "stream",
     "text": [
      "D:\\Program\\Anaconda3\\lib\\site-packages\\sklearn\\gaussian_process\\kernels.py:411: ConvergenceWarning: The optimal value found for dimension 0 of parameter k1__sigma_0 is close to the specified upper bound 1.0. Increasing the bound and calling fit again may find a better value.\n",
      "  warnings.warn(\"The optimal value found for \"\n",
      "D:\\Program\\Anaconda3\\lib\\site-packages\\sklearn\\gaussian_process\\kernels.py:402: ConvergenceWarning: The optimal value found for dimension 0 of parameter k2__noise_level is close to the specified lower bound 0.001. Decreasing the bound and calling fit again may find a better value.\n",
      "  warnings.warn(\"The optimal value found for \"\n"
     ]
    },
    {
     "name": "stdout",
     "output_type": "stream",
     "text": [
      "Accuracy after query 84: 0.7758\n"
     ]
    },
    {
     "name": "stderr",
     "output_type": "stream",
     "text": [
      "D:\\Program\\Anaconda3\\lib\\site-packages\\sklearn\\gaussian_process\\kernels.py:411: ConvergenceWarning: The optimal value found for dimension 0 of parameter k1__sigma_0 is close to the specified upper bound 1.0. Increasing the bound and calling fit again may find a better value.\n",
      "  warnings.warn(\"The optimal value found for \"\n",
      "D:\\Program\\Anaconda3\\lib\\site-packages\\sklearn\\gaussian_process\\kernels.py:402: ConvergenceWarning: The optimal value found for dimension 0 of parameter k2__noise_level is close to the specified lower bound 0.001. Decreasing the bound and calling fit again may find a better value.\n",
      "  warnings.warn(\"The optimal value found for \"\n"
     ]
    },
    {
     "name": "stdout",
     "output_type": "stream",
     "text": [
      "Accuracy after query 85: 0.7743\n"
     ]
    },
    {
     "name": "stderr",
     "output_type": "stream",
     "text": [
      "D:\\Program\\Anaconda3\\lib\\site-packages\\sklearn\\gaussian_process\\kernels.py:411: ConvergenceWarning: The optimal value found for dimension 0 of parameter k1__sigma_0 is close to the specified upper bound 1.0. Increasing the bound and calling fit again may find a better value.\n",
      "  warnings.warn(\"The optimal value found for \"\n",
      "D:\\Program\\Anaconda3\\lib\\site-packages\\sklearn\\gaussian_process\\kernels.py:402: ConvergenceWarning: The optimal value found for dimension 0 of parameter k2__noise_level is close to the specified lower bound 0.001. Decreasing the bound and calling fit again may find a better value.\n",
      "  warnings.warn(\"The optimal value found for \"\n"
     ]
    },
    {
     "name": "stdout",
     "output_type": "stream",
     "text": [
      "Accuracy after query 86: 0.7741\n"
     ]
    },
    {
     "name": "stderr",
     "output_type": "stream",
     "text": [
      "D:\\Program\\Anaconda3\\lib\\site-packages\\sklearn\\gaussian_process\\kernels.py:411: ConvergenceWarning: The optimal value found for dimension 0 of parameter k1__sigma_0 is close to the specified upper bound 1.0. Increasing the bound and calling fit again may find a better value.\n",
      "  warnings.warn(\"The optimal value found for \"\n",
      "D:\\Program\\Anaconda3\\lib\\site-packages\\sklearn\\gaussian_process\\kernels.py:402: ConvergenceWarning: The optimal value found for dimension 0 of parameter k2__noise_level is close to the specified lower bound 0.001. Decreasing the bound and calling fit again may find a better value.\n",
      "  warnings.warn(\"The optimal value found for \"\n"
     ]
    },
    {
     "name": "stdout",
     "output_type": "stream",
     "text": [
      "Accuracy after query 87: 0.7742\n"
     ]
    },
    {
     "name": "stderr",
     "output_type": "stream",
     "text": [
      "D:\\Program\\Anaconda3\\lib\\site-packages\\sklearn\\gaussian_process\\kernels.py:411: ConvergenceWarning: The optimal value found for dimension 0 of parameter k1__sigma_0 is close to the specified upper bound 1.0. Increasing the bound and calling fit again may find a better value.\n",
      "  warnings.warn(\"The optimal value found for \"\n",
      "D:\\Program\\Anaconda3\\lib\\site-packages\\sklearn\\gaussian_process\\kernels.py:402: ConvergenceWarning: The optimal value found for dimension 0 of parameter k2__noise_level is close to the specified lower bound 0.001. Decreasing the bound and calling fit again may find a better value.\n",
      "  warnings.warn(\"The optimal value found for \"\n"
     ]
    },
    {
     "name": "stdout",
     "output_type": "stream",
     "text": [
      "Accuracy after query 88: 0.7721\n"
     ]
    },
    {
     "name": "stderr",
     "output_type": "stream",
     "text": [
      "D:\\Program\\Anaconda3\\lib\\site-packages\\sklearn\\gaussian_process\\kernels.py:411: ConvergenceWarning: The optimal value found for dimension 0 of parameter k1__sigma_0 is close to the specified upper bound 1.0. Increasing the bound and calling fit again may find a better value.\n",
      "  warnings.warn(\"The optimal value found for \"\n",
      "D:\\Program\\Anaconda3\\lib\\site-packages\\sklearn\\gaussian_process\\kernels.py:402: ConvergenceWarning: The optimal value found for dimension 0 of parameter k2__noise_level is close to the specified lower bound 0.001. Decreasing the bound and calling fit again may find a better value.\n",
      "  warnings.warn(\"The optimal value found for \"\n"
     ]
    },
    {
     "name": "stdout",
     "output_type": "stream",
     "text": [
      "Accuracy after query 89: 0.7802\n"
     ]
    },
    {
     "name": "stderr",
     "output_type": "stream",
     "text": [
      "D:\\Program\\Anaconda3\\lib\\site-packages\\sklearn\\gaussian_process\\kernels.py:411: ConvergenceWarning: The optimal value found for dimension 0 of parameter k1__sigma_0 is close to the specified upper bound 1.0. Increasing the bound and calling fit again may find a better value.\n",
      "  warnings.warn(\"The optimal value found for \"\n",
      "D:\\Program\\Anaconda3\\lib\\site-packages\\sklearn\\gaussian_process\\kernels.py:402: ConvergenceWarning: The optimal value found for dimension 0 of parameter k2__noise_level is close to the specified lower bound 0.001. Decreasing the bound and calling fit again may find a better value.\n",
      "  warnings.warn(\"The optimal value found for \"\n"
     ]
    },
    {
     "name": "stdout",
     "output_type": "stream",
     "text": [
      "Accuracy after query 90: 0.7803\n"
     ]
    },
    {
     "name": "stderr",
     "output_type": "stream",
     "text": [
      "D:\\Program\\Anaconda3\\lib\\site-packages\\sklearn\\gaussian_process\\kernels.py:411: ConvergenceWarning: The optimal value found for dimension 0 of parameter k1__sigma_0 is close to the specified upper bound 1.0. Increasing the bound and calling fit again may find a better value.\n",
      "  warnings.warn(\"The optimal value found for \"\n",
      "D:\\Program\\Anaconda3\\lib\\site-packages\\sklearn\\gaussian_process\\kernels.py:402: ConvergenceWarning: The optimal value found for dimension 0 of parameter k2__noise_level is close to the specified lower bound 0.001. Decreasing the bound and calling fit again may find a better value.\n",
      "  warnings.warn(\"The optimal value found for \"\n"
     ]
    },
    {
     "name": "stdout",
     "output_type": "stream",
     "text": [
      "Accuracy after query 91: 0.7808\n"
     ]
    },
    {
     "name": "stderr",
     "output_type": "stream",
     "text": [
      "D:\\Program\\Anaconda3\\lib\\site-packages\\sklearn\\gaussian_process\\kernels.py:411: ConvergenceWarning: The optimal value found for dimension 0 of parameter k1__sigma_0 is close to the specified upper bound 1.0. Increasing the bound and calling fit again may find a better value.\n",
      "  warnings.warn(\"The optimal value found for \"\n",
      "D:\\Program\\Anaconda3\\lib\\site-packages\\sklearn\\gaussian_process\\kernels.py:402: ConvergenceWarning: The optimal value found for dimension 0 of parameter k2__noise_level is close to the specified lower bound 0.001. Decreasing the bound and calling fit again may find a better value.\n",
      "  warnings.warn(\"The optimal value found for \"\n"
     ]
    },
    {
     "name": "stdout",
     "output_type": "stream",
     "text": [
      "Accuracy after query 92: 0.7798\n"
     ]
    },
    {
     "name": "stderr",
     "output_type": "stream",
     "text": [
      "D:\\Program\\Anaconda3\\lib\\site-packages\\sklearn\\gaussian_process\\kernels.py:411: ConvergenceWarning: The optimal value found for dimension 0 of parameter k1__sigma_0 is close to the specified upper bound 1.0. Increasing the bound and calling fit again may find a better value.\n",
      "  warnings.warn(\"The optimal value found for \"\n",
      "D:\\Program\\Anaconda3\\lib\\site-packages\\sklearn\\gaussian_process\\kernels.py:402: ConvergenceWarning: The optimal value found for dimension 0 of parameter k2__noise_level is close to the specified lower bound 0.001. Decreasing the bound and calling fit again may find a better value.\n",
      "  warnings.warn(\"The optimal value found for \"\n"
     ]
    },
    {
     "name": "stdout",
     "output_type": "stream",
     "text": [
      "Accuracy after query 93: 0.7797\n"
     ]
    },
    {
     "name": "stderr",
     "output_type": "stream",
     "text": [
      "D:\\Program\\Anaconda3\\lib\\site-packages\\sklearn\\gaussian_process\\kernels.py:411: ConvergenceWarning: The optimal value found for dimension 0 of parameter k1__sigma_0 is close to the specified upper bound 1.0. Increasing the bound and calling fit again may find a better value.\n",
      "  warnings.warn(\"The optimal value found for \"\n",
      "D:\\Program\\Anaconda3\\lib\\site-packages\\sklearn\\gaussian_process\\kernels.py:402: ConvergenceWarning: The optimal value found for dimension 0 of parameter k2__noise_level is close to the specified lower bound 0.001. Decreasing the bound and calling fit again may find a better value.\n",
      "  warnings.warn(\"The optimal value found for \"\n"
     ]
    },
    {
     "name": "stdout",
     "output_type": "stream",
     "text": [
      "Accuracy after query 94: 0.7809\n"
     ]
    },
    {
     "name": "stderr",
     "output_type": "stream",
     "text": [
      "D:\\Program\\Anaconda3\\lib\\site-packages\\sklearn\\gaussian_process\\kernels.py:411: ConvergenceWarning: The optimal value found for dimension 0 of parameter k1__sigma_0 is close to the specified upper bound 1.0. Increasing the bound and calling fit again may find a better value.\n",
      "  warnings.warn(\"The optimal value found for \"\n",
      "D:\\Program\\Anaconda3\\lib\\site-packages\\sklearn\\gaussian_process\\kernels.py:402: ConvergenceWarning: The optimal value found for dimension 0 of parameter k2__noise_level is close to the specified lower bound 0.001. Decreasing the bound and calling fit again may find a better value.\n",
      "  warnings.warn(\"The optimal value found for \"\n"
     ]
    },
    {
     "name": "stdout",
     "output_type": "stream",
     "text": [
      "Accuracy after query 95: 0.7826\n"
     ]
    },
    {
     "name": "stderr",
     "output_type": "stream",
     "text": [
      "D:\\Program\\Anaconda3\\lib\\site-packages\\sklearn\\gaussian_process\\kernels.py:411: ConvergenceWarning: The optimal value found for dimension 0 of parameter k1__sigma_0 is close to the specified upper bound 1.0. Increasing the bound and calling fit again may find a better value.\n",
      "  warnings.warn(\"The optimal value found for \"\n",
      "D:\\Program\\Anaconda3\\lib\\site-packages\\sklearn\\gaussian_process\\kernels.py:402: ConvergenceWarning: The optimal value found for dimension 0 of parameter k2__noise_level is close to the specified lower bound 0.001. Decreasing the bound and calling fit again may find a better value.\n",
      "  warnings.warn(\"The optimal value found for \"\n"
     ]
    },
    {
     "name": "stdout",
     "output_type": "stream",
     "text": [
      "Accuracy after query 96: 0.7843\n"
     ]
    },
    {
     "name": "stderr",
     "output_type": "stream",
     "text": [
      "D:\\Program\\Anaconda3\\lib\\site-packages\\sklearn\\gaussian_process\\kernels.py:411: ConvergenceWarning: The optimal value found for dimension 0 of parameter k1__sigma_0 is close to the specified upper bound 1.0. Increasing the bound and calling fit again may find a better value.\n",
      "  warnings.warn(\"The optimal value found for \"\n",
      "D:\\Program\\Anaconda3\\lib\\site-packages\\sklearn\\gaussian_process\\kernels.py:402: ConvergenceWarning: The optimal value found for dimension 0 of parameter k2__noise_level is close to the specified lower bound 0.001. Decreasing the bound and calling fit again may find a better value.\n",
      "  warnings.warn(\"The optimal value found for \"\n"
     ]
    },
    {
     "name": "stdout",
     "output_type": "stream",
     "text": [
      "Accuracy after query 97: 0.7832\n"
     ]
    },
    {
     "name": "stderr",
     "output_type": "stream",
     "text": [
      "D:\\Program\\Anaconda3\\lib\\site-packages\\sklearn\\gaussian_process\\kernels.py:411: ConvergenceWarning: The optimal value found for dimension 0 of parameter k1__sigma_0 is close to the specified upper bound 1.0. Increasing the bound and calling fit again may find a better value.\n",
      "  warnings.warn(\"The optimal value found for \"\n",
      "D:\\Program\\Anaconda3\\lib\\site-packages\\sklearn\\gaussian_process\\kernels.py:402: ConvergenceWarning: The optimal value found for dimension 0 of parameter k2__noise_level is close to the specified lower bound 0.001. Decreasing the bound and calling fit again may find a better value.\n",
      "  warnings.warn(\"The optimal value found for \"\n"
     ]
    },
    {
     "name": "stdout",
     "output_type": "stream",
     "text": [
      "Accuracy after query 98: 0.7843\n"
     ]
    },
    {
     "name": "stderr",
     "output_type": "stream",
     "text": [
      "D:\\Program\\Anaconda3\\lib\\site-packages\\sklearn\\gaussian_process\\kernels.py:411: ConvergenceWarning: The optimal value found for dimension 0 of parameter k1__sigma_0 is close to the specified upper bound 1.0. Increasing the bound and calling fit again may find a better value.\n",
      "  warnings.warn(\"The optimal value found for \"\n",
      "D:\\Program\\Anaconda3\\lib\\site-packages\\sklearn\\gaussian_process\\kernels.py:402: ConvergenceWarning: The optimal value found for dimension 0 of parameter k2__noise_level is close to the specified lower bound 0.001. Decreasing the bound and calling fit again may find a better value.\n",
      "  warnings.warn(\"The optimal value found for \"\n"
     ]
    },
    {
     "name": "stdout",
     "output_type": "stream",
     "text": [
      "Accuracy after query 99: 0.7850\n"
     ]
    },
    {
     "name": "stderr",
     "output_type": "stream",
     "text": [
      "D:\\Program\\Anaconda3\\lib\\site-packages\\sklearn\\gaussian_process\\kernels.py:411: ConvergenceWarning: The optimal value found for dimension 0 of parameter k1__sigma_0 is close to the specified upper bound 1.0. Increasing the bound and calling fit again may find a better value.\n",
      "  warnings.warn(\"The optimal value found for \"\n",
      "D:\\Program\\Anaconda3\\lib\\site-packages\\sklearn\\gaussian_process\\kernels.py:402: ConvergenceWarning: The optimal value found for dimension 0 of parameter k2__noise_level is close to the specified lower bound 0.001. Decreasing the bound and calling fit again may find a better value.\n",
      "  warnings.warn(\"The optimal value found for \"\n"
     ]
    },
    {
     "name": "stdout",
     "output_type": "stream",
     "text": [
      "Accuracy after query 100: 0.7846\n",
      "(59850, 784)\n"
     ]
    }
   ],
   "source": [
    "# done!\n",
    "\n",
    "X_pool = np.delete(X_train, initial_idx, axis=0)\n",
    "y_pool = np.delete(y_train, initial_idx, axis=0)\n",
    "X_list = [X_test, X_pool, X_initial]\n",
    "X_test_re, X_pool_re, X_initial_re = img_reshape(X_list)\n",
    "\n",
    "device = \"cuda\" if torch.cuda.is_available() else \"cpu\"\n",
    "gpc = GaussianProcessClassifier(kernel=kernel, n_restarts_optimizer=10)\n",
    "estimator = gpc\n",
    "GPC_Uni_perf_hist = active_learning_procedure(uniform,\n",
    "                                          X_test_re,\n",
    "                                          y_test,\n",
    "                                          X_pool_re,\n",
    "                                          y_pool,\n",
    "                                          X_initial_re,\n",
    "                                          y_initial,\n",
    "                                          estimator,\n",
    "                                          n_queries=100,\n",
    "                                          n_instances=1\n",
    "                                             )\n",
    "np.save('D:/Studium/WiSe2021/SA/Project/run_adlr/GPC_uni_50_100x1.npy', GPC_Uni_perf_hist)"
   ]
  },
  {
   "cell_type": "markdown",
   "metadata": {},
   "source": [
    "#### initial = 1000"
   ]
  },
  {
   "cell_type": "code",
   "execution_count": 60,
   "metadata": {
    "collapsed": true,
    "jupyter": {
     "outputs_hidden": true
    },
    "tags": []
   },
   "outputs": [
    {
     "name": "stderr",
     "output_type": "stream",
     "text": [
      "D:\\Program\\Anaconda3\\lib\\site-packages\\sklearn\\gaussian_process\\kernels.py:411: ConvergenceWarning: The optimal value found for dimension 0 of parameter k1__sigma_0 is close to the specified upper bound 1.0. Increasing the bound and calling fit again may find a better value.\n",
      "  warnings.warn(\"The optimal value found for \"\n",
      "D:\\Program\\Anaconda3\\lib\\site-packages\\sklearn\\gaussian_process\\kernels.py:411: ConvergenceWarning: The optimal value found for dimension 0 of parameter k2__noise_level is close to the specified upper bound 10.0. Increasing the bound and calling fit again may find a better value.\n",
      "  warnings.warn(\"The optimal value found for \"\n"
     ]
    },
    {
     "name": "stdout",
     "output_type": "stream",
     "text": [
      "(59000, 784)\n",
      "92 [39718]\n"
     ]
    },
    {
     "name": "stderr",
     "output_type": "stream",
     "text": [
      "D:\\Program\\Anaconda3\\lib\\site-packages\\sklearn\\gaussian_process\\kernels.py:411: ConvergenceWarning: The optimal value found for dimension 0 of parameter k1__sigma_0 is close to the specified upper bound 1.0. Increasing the bound and calling fit again may find a better value.\n",
      "  warnings.warn(\"The optimal value found for \"\n",
      "D:\\Program\\Anaconda3\\lib\\site-packages\\sklearn\\gaussian_process\\kernels.py:411: ConvergenceWarning: The optimal value found for dimension 0 of parameter k2__noise_level is close to the specified upper bound 10.0. Increasing the bound and calling fit again may find a better value.\n",
      "  warnings.warn(\"The optimal value found for \"\n"
     ]
    },
    {
     "name": "stdout",
     "output_type": "stream",
     "text": [
      "Accuracy after query 1: 0.6742\n",
      "13 [10482]\n"
     ]
    },
    {
     "name": "stderr",
     "output_type": "stream",
     "text": [
      "D:\\Program\\Anaconda3\\lib\\site-packages\\sklearn\\gaussian_process\\kernels.py:411: ConvergenceWarning: The optimal value found for dimension 0 of parameter k1__sigma_0 is close to the specified upper bound 1.0. Increasing the bound and calling fit again may find a better value.\n",
      "  warnings.warn(\"The optimal value found for \"\n",
      "D:\\Program\\Anaconda3\\lib\\site-packages\\sklearn\\gaussian_process\\kernels.py:411: ConvergenceWarning: The optimal value found for dimension 0 of parameter k2__noise_level is close to the specified upper bound 10.0. Increasing the bound and calling fit again may find a better value.\n",
      "  warnings.warn(\"The optimal value found for \"\n"
     ]
    },
    {
     "name": "stdout",
     "output_type": "stream",
     "text": [
      "Accuracy after query 2: 0.6750\n",
      "14 [35936]\n"
     ]
    },
    {
     "name": "stderr",
     "output_type": "stream",
     "text": [
      "D:\\Program\\Anaconda3\\lib\\site-packages\\sklearn\\gaussian_process\\kernels.py:411: ConvergenceWarning: The optimal value found for dimension 0 of parameter k1__sigma_0 is close to the specified upper bound 1.0. Increasing the bound and calling fit again may find a better value.\n",
      "  warnings.warn(\"The optimal value found for \"\n",
      "D:\\Program\\Anaconda3\\lib\\site-packages\\sklearn\\gaussian_process\\kernels.py:411: ConvergenceWarning: The optimal value found for dimension 0 of parameter k2__noise_level is close to the specified upper bound 10.0. Increasing the bound and calling fit again may find a better value.\n",
      "  warnings.warn(\"The optimal value found for \"\n"
     ]
    },
    {
     "name": "stdout",
     "output_type": "stream",
     "text": [
      "Accuracy after query 3: 0.6777\n",
      "77 [50049]\n"
     ]
    },
    {
     "name": "stderr",
     "output_type": "stream",
     "text": [
      "D:\\Program\\Anaconda3\\lib\\site-packages\\sklearn\\gaussian_process\\kernels.py:411: ConvergenceWarning: The optimal value found for dimension 0 of parameter k1__sigma_0 is close to the specified upper bound 1.0. Increasing the bound and calling fit again may find a better value.\n",
      "  warnings.warn(\"The optimal value found for \"\n",
      "D:\\Program\\Anaconda3\\lib\\site-packages\\sklearn\\gaussian_process\\kernels.py:411: ConvergenceWarning: The optimal value found for dimension 0 of parameter k2__noise_level is close to the specified upper bound 10.0. Increasing the bound and calling fit again may find a better value.\n",
      "  warnings.warn(\"The optimal value found for \"\n"
     ]
    },
    {
     "name": "stdout",
     "output_type": "stream",
     "text": [
      "Accuracy after query 4: 0.6772\n",
      "78 [27649]\n"
     ]
    },
    {
     "name": "stderr",
     "output_type": "stream",
     "text": [
      "D:\\Program\\Anaconda3\\lib\\site-packages\\sklearn\\gaussian_process\\kernels.py:411: ConvergenceWarning: The optimal value found for dimension 0 of parameter k1__sigma_0 is close to the specified upper bound 1.0. Increasing the bound and calling fit again may find a better value.\n",
      "  warnings.warn(\"The optimal value found for \"\n",
      "D:\\Program\\Anaconda3\\lib\\site-packages\\sklearn\\gaussian_process\\kernels.py:411: ConvergenceWarning: The optimal value found for dimension 0 of parameter k2__noise_level is close to the specified upper bound 10.0. Increasing the bound and calling fit again may find a better value.\n",
      "  warnings.warn(\"The optimal value found for \"\n"
     ]
    },
    {
     "name": "stdout",
     "output_type": "stream",
     "text": [
      "Accuracy after query 5: 0.6775\n",
      "89 [17309]\n"
     ]
    },
    {
     "name": "stderr",
     "output_type": "stream",
     "text": [
      "D:\\Program\\Anaconda3\\lib\\site-packages\\sklearn\\gaussian_process\\kernels.py:411: ConvergenceWarning: The optimal value found for dimension 0 of parameter k1__sigma_0 is close to the specified upper bound 1.0. Increasing the bound and calling fit again may find a better value.\n",
      "  warnings.warn(\"The optimal value found for \"\n",
      "D:\\Program\\Anaconda3\\lib\\site-packages\\sklearn\\gaussian_process\\kernels.py:411: ConvergenceWarning: The optimal value found for dimension 0 of parameter k2__noise_level is close to the specified upper bound 10.0. Increasing the bound and calling fit again may find a better value.\n",
      "  warnings.warn(\"The optimal value found for \"\n"
     ]
    },
    {
     "name": "stdout",
     "output_type": "stream",
     "text": [
      "Accuracy after query 6: 0.6787\n",
      "79 [29697]\n"
     ]
    },
    {
     "name": "stderr",
     "output_type": "stream",
     "text": [
      "D:\\Program\\Anaconda3\\lib\\site-packages\\sklearn\\gaussian_process\\kernels.py:411: ConvergenceWarning: The optimal value found for dimension 0 of parameter k1__sigma_0 is close to the specified upper bound 1.0. Increasing the bound and calling fit again may find a better value.\n",
      "  warnings.warn(\"The optimal value found for \"\n",
      "D:\\Program\\Anaconda3\\lib\\site-packages\\sklearn\\gaussian_process\\kernels.py:411: ConvergenceWarning: The optimal value found for dimension 0 of parameter k2__noise_level is close to the specified upper bound 10.0. Increasing the bound and calling fit again may find a better value.\n",
      "  warnings.warn(\"The optimal value found for \"\n"
     ]
    },
    {
     "name": "stdout",
     "output_type": "stream",
     "text": [
      "Accuracy after query 7: 0.6800\n",
      "3 [12165]\n"
     ]
    },
    {
     "name": "stderr",
     "output_type": "stream",
     "text": [
      "D:\\Program\\Anaconda3\\lib\\site-packages\\sklearn\\gaussian_process\\kernels.py:411: ConvergenceWarning: The optimal value found for dimension 0 of parameter k1__sigma_0 is close to the specified upper bound 1.0. Increasing the bound and calling fit again may find a better value.\n",
      "  warnings.warn(\"The optimal value found for \"\n",
      "D:\\Program\\Anaconda3\\lib\\site-packages\\sklearn\\gaussian_process\\kernels.py:411: ConvergenceWarning: The optimal value found for dimension 0 of parameter k2__noise_level is close to the specified upper bound 10.0. Increasing the bound and calling fit again may find a better value.\n",
      "  warnings.warn(\"The optimal value found for \"\n"
     ]
    },
    {
     "name": "stdout",
     "output_type": "stream",
     "text": [
      "Accuracy after query 8: 0.6795\n",
      "20 [12997]\n"
     ]
    },
    {
     "name": "stderr",
     "output_type": "stream",
     "text": [
      "D:\\Program\\Anaconda3\\lib\\site-packages\\sklearn\\gaussian_process\\kernels.py:411: ConvergenceWarning: The optimal value found for dimension 0 of parameter k1__sigma_0 is close to the specified upper bound 1.0. Increasing the bound and calling fit again may find a better value.\n",
      "  warnings.warn(\"The optimal value found for \"\n",
      "D:\\Program\\Anaconda3\\lib\\site-packages\\sklearn\\gaussian_process\\kernels.py:411: ConvergenceWarning: The optimal value found for dimension 0 of parameter k2__noise_level is close to the specified upper bound 10.0. Increasing the bound and calling fit again may find a better value.\n",
      "  warnings.warn(\"The optimal value found for \"\n"
     ]
    },
    {
     "name": "stdout",
     "output_type": "stream",
     "text": [
      "Accuracy after query 9: 0.6792\n",
      "19 [47959]\n"
     ]
    },
    {
     "name": "stderr",
     "output_type": "stream",
     "text": [
      "D:\\Program\\Anaconda3\\lib\\site-packages\\sklearn\\gaussian_process\\kernels.py:411: ConvergenceWarning: The optimal value found for dimension 0 of parameter k1__sigma_0 is close to the specified upper bound 1.0. Increasing the bound and calling fit again may find a better value.\n",
      "  warnings.warn(\"The optimal value found for \"\n",
      "D:\\Program\\Anaconda3\\lib\\site-packages\\sklearn\\gaussian_process\\kernels.py:411: ConvergenceWarning: The optimal value found for dimension 0 of parameter k2__noise_level is close to the specified upper bound 10.0. Increasing the bound and calling fit again may find a better value.\n",
      "  warnings.warn(\"The optimal value found for \"\n"
     ]
    },
    {
     "name": "stdout",
     "output_type": "stream",
     "text": [
      "Accuracy after query 10: 0.6807\n",
      "64 [47492]\n"
     ]
    },
    {
     "name": "stderr",
     "output_type": "stream",
     "text": [
      "D:\\Program\\Anaconda3\\lib\\site-packages\\sklearn\\gaussian_process\\kernels.py:411: ConvergenceWarning: The optimal value found for dimension 0 of parameter k1__sigma_0 is close to the specified upper bound 1.0. Increasing the bound and calling fit again may find a better value.\n",
      "  warnings.warn(\"The optimal value found for \"\n",
      "D:\\Program\\Anaconda3\\lib\\site-packages\\sklearn\\gaussian_process\\kernels.py:411: ConvergenceWarning: The optimal value found for dimension 0 of parameter k2__noise_level is close to the specified upper bound 10.0. Increasing the bound and calling fit again may find a better value.\n",
      "  warnings.warn(\"The optimal value found for \"\n"
     ]
    },
    {
     "name": "stdout",
     "output_type": "stream",
     "text": [
      "Accuracy after query 11: 0.6811\n",
      "3 [56203]\n"
     ]
    },
    {
     "name": "stderr",
     "output_type": "stream",
     "text": [
      "D:\\Program\\Anaconda3\\lib\\site-packages\\sklearn\\gaussian_process\\kernels.py:411: ConvergenceWarning: The optimal value found for dimension 0 of parameter k1__sigma_0 is close to the specified upper bound 1.0. Increasing the bound and calling fit again may find a better value.\n",
      "  warnings.warn(\"The optimal value found for \"\n",
      "D:\\Program\\Anaconda3\\lib\\site-packages\\sklearn\\gaussian_process\\kernels.py:411: ConvergenceWarning: The optimal value found for dimension 0 of parameter k2__noise_level is close to the specified upper bound 10.0. Increasing the bound and calling fit again may find a better value.\n",
      "  warnings.warn(\"The optimal value found for \"\n"
     ]
    },
    {
     "name": "stdout",
     "output_type": "stream",
     "text": [
      "Accuracy after query 12: 0.6818\n",
      "3 [8323]\n"
     ]
    },
    {
     "name": "stderr",
     "output_type": "stream",
     "text": [
      "D:\\Program\\Anaconda3\\lib\\site-packages\\sklearn\\gaussian_process\\kernels.py:411: ConvergenceWarning: The optimal value found for dimension 0 of parameter k1__sigma_0 is close to the specified upper bound 1.0. Increasing the bound and calling fit again may find a better value.\n",
      "  warnings.warn(\"The optimal value found for \"\n",
      "D:\\Program\\Anaconda3\\lib\\site-packages\\sklearn\\gaussian_process\\kernels.py:411: ConvergenceWarning: The optimal value found for dimension 0 of parameter k2__noise_level is close to the specified upper bound 10.0. Increasing the bound and calling fit again may find a better value.\n",
      "  warnings.warn(\"The optimal value found for \"\n"
     ]
    },
    {
     "name": "stdout",
     "output_type": "stream",
     "text": [
      "Accuracy after query 13: 0.6811\n",
      "54 [45173]\n"
     ]
    },
    {
     "name": "stderr",
     "output_type": "stream",
     "text": [
      "D:\\Program\\Anaconda3\\lib\\site-packages\\sklearn\\gaussian_process\\kernels.py:411: ConvergenceWarning: The optimal value found for dimension 0 of parameter k1__sigma_0 is close to the specified upper bound 1.0. Increasing the bound and calling fit again may find a better value.\n",
      "  warnings.warn(\"The optimal value found for \"\n",
      "D:\\Program\\Anaconda3\\lib\\site-packages\\sklearn\\gaussian_process\\kernels.py:411: ConvergenceWarning: The optimal value found for dimension 0 of parameter k2__noise_level is close to the specified upper bound 10.0. Increasing the bound and calling fit again may find a better value.\n",
      "  warnings.warn(\"The optimal value found for \"\n"
     ]
    },
    {
     "name": "stdout",
     "output_type": "stream",
     "text": [
      "Accuracy after query 14: 0.6813\n",
      "98 [6318]\n"
     ]
    },
    {
     "name": "stderr",
     "output_type": "stream",
     "text": [
      "D:\\Program\\Anaconda3\\lib\\site-packages\\sklearn\\gaussian_process\\kernels.py:411: ConvergenceWarning: The optimal value found for dimension 0 of parameter k1__sigma_0 is close to the specified upper bound 1.0. Increasing the bound and calling fit again may find a better value.\n",
      "  warnings.warn(\"The optimal value found for \"\n",
      "D:\\Program\\Anaconda3\\lib\\site-packages\\sklearn\\gaussian_process\\kernels.py:411: ConvergenceWarning: The optimal value found for dimension 0 of parameter k2__noise_level is close to the specified upper bound 10.0. Increasing the bound and calling fit again may find a better value.\n",
      "  warnings.warn(\"The optimal value found for \"\n"
     ]
    },
    {
     "name": "stdout",
     "output_type": "stream",
     "text": [
      "Accuracy after query 15: 0.6826\n",
      "75 [51164]\n"
     ]
    },
    {
     "name": "stderr",
     "output_type": "stream",
     "text": [
      "D:\\Program\\Anaconda3\\lib\\site-packages\\sklearn\\gaussian_process\\kernels.py:411: ConvergenceWarning: The optimal value found for dimension 0 of parameter k1__sigma_0 is close to the specified upper bound 1.0. Increasing the bound and calling fit again may find a better value.\n",
      "  warnings.warn(\"The optimal value found for \"\n",
      "D:\\Program\\Anaconda3\\lib\\site-packages\\sklearn\\gaussian_process\\kernels.py:411: ConvergenceWarning: The optimal value found for dimension 0 of parameter k2__noise_level is close to the specified upper bound 10.0. Increasing the bound and calling fit again may find a better value.\n",
      "  warnings.warn(\"The optimal value found for \"\n"
     ]
    },
    {
     "name": "stdout",
     "output_type": "stream",
     "text": [
      "Accuracy after query 16: 0.6842\n",
      "33 [2134]\n"
     ]
    },
    {
     "name": "stderr",
     "output_type": "stream",
     "text": [
      "D:\\Program\\Anaconda3\\lib\\site-packages\\sklearn\\gaussian_process\\kernels.py:411: ConvergenceWarning: The optimal value found for dimension 0 of parameter k1__sigma_0 is close to the specified upper bound 1.0. Increasing the bound and calling fit again may find a better value.\n",
      "  warnings.warn(\"The optimal value found for \"\n",
      "D:\\Program\\Anaconda3\\lib\\site-packages\\sklearn\\gaussian_process\\kernels.py:411: ConvergenceWarning: The optimal value found for dimension 0 of parameter k2__noise_level is close to the specified upper bound 10.0. Increasing the bound and calling fit again may find a better value.\n",
      "  warnings.warn(\"The optimal value found for \"\n"
     ]
    },
    {
     "name": "stdout",
     "output_type": "stream",
     "text": [
      "Accuracy after query 17: 0.6839\n",
      "25 [16508]\n"
     ]
    },
    {
     "name": "stderr",
     "output_type": "stream",
     "text": [
      "D:\\Program\\Anaconda3\\lib\\site-packages\\sklearn\\gaussian_process\\kernels.py:411: ConvergenceWarning: The optimal value found for dimension 0 of parameter k1__sigma_0 is close to the specified upper bound 1.0. Increasing the bound and calling fit again may find a better value.\n",
      "  warnings.warn(\"The optimal value found for \"\n",
      "D:\\Program\\Anaconda3\\lib\\site-packages\\sklearn\\gaussian_process\\kernels.py:411: ConvergenceWarning: The optimal value found for dimension 0 of parameter k2__noise_level is close to the specified upper bound 10.0. Increasing the bound and calling fit again may find a better value.\n",
      "  warnings.warn(\"The optimal value found for \"\n"
     ]
    },
    {
     "name": "stdout",
     "output_type": "stream",
     "text": [
      "Accuracy after query 18: 0.6841\n",
      "30 [58959]\n"
     ]
    },
    {
     "name": "stderr",
     "output_type": "stream",
     "text": [
      "D:\\Program\\Anaconda3\\lib\\site-packages\\sklearn\\gaussian_process\\kernels.py:411: ConvergenceWarning: The optimal value found for dimension 0 of parameter k1__sigma_0 is close to the specified upper bound 1.0. Increasing the bound and calling fit again may find a better value.\n",
      "  warnings.warn(\"The optimal value found for \"\n",
      "D:\\Program\\Anaconda3\\lib\\site-packages\\sklearn\\gaussian_process\\kernels.py:411: ConvergenceWarning: The optimal value found for dimension 0 of parameter k2__noise_level is close to the specified upper bound 10.0. Increasing the bound and calling fit again may find a better value.\n",
      "  warnings.warn(\"The optimal value found for \"\n"
     ]
    },
    {
     "name": "stdout",
     "output_type": "stream",
     "text": [
      "Accuracy after query 19: 0.6839\n",
      "22 [20746]\n"
     ]
    },
    {
     "name": "stderr",
     "output_type": "stream",
     "text": [
      "D:\\Program\\Anaconda3\\lib\\site-packages\\sklearn\\gaussian_process\\kernels.py:411: ConvergenceWarning: The optimal value found for dimension 0 of parameter k1__sigma_0 is close to the specified upper bound 1.0. Increasing the bound and calling fit again may find a better value.\n",
      "  warnings.warn(\"The optimal value found for \"\n",
      "D:\\Program\\Anaconda3\\lib\\site-packages\\sklearn\\gaussian_process\\kernels.py:411: ConvergenceWarning: The optimal value found for dimension 0 of parameter k2__noise_level is close to the specified upper bound 10.0. Increasing the bound and calling fit again may find a better value.\n",
      "  warnings.warn(\"The optimal value found for \"\n"
     ]
    },
    {
     "name": "stdout",
     "output_type": "stream",
     "text": [
      "Accuracy after query 20: 0.6842\n",
      "83 [42834]\n"
     ]
    },
    {
     "name": "stderr",
     "output_type": "stream",
     "text": [
      "D:\\Program\\Anaconda3\\lib\\site-packages\\sklearn\\gaussian_process\\kernels.py:411: ConvergenceWarning: The optimal value found for dimension 0 of parameter k1__sigma_0 is close to the specified upper bound 1.0. Increasing the bound and calling fit again may find a better value.\n",
      "  warnings.warn(\"The optimal value found for \"\n",
      "D:\\Program\\Anaconda3\\lib\\site-packages\\sklearn\\gaussian_process\\kernels.py:411: ConvergenceWarning: The optimal value found for dimension 0 of parameter k2__noise_level is close to the specified upper bound 10.0. Increasing the bound and calling fit again may find a better value.\n",
      "  warnings.warn(\"The optimal value found for \"\n"
     ]
    },
    {
     "name": "stdout",
     "output_type": "stream",
     "text": [
      "Accuracy after query 21: 0.6843\n",
      "36 [37737]\n"
     ]
    },
    {
     "name": "stderr",
     "output_type": "stream",
     "text": [
      "D:\\Program\\Anaconda3\\lib\\site-packages\\sklearn\\gaussian_process\\kernels.py:411: ConvergenceWarning: The optimal value found for dimension 0 of parameter k1__sigma_0 is close to the specified upper bound 1.0. Increasing the bound and calling fit again may find a better value.\n",
      "  warnings.warn(\"The optimal value found for \"\n",
      "D:\\Program\\Anaconda3\\lib\\site-packages\\sklearn\\gaussian_process\\kernels.py:411: ConvergenceWarning: The optimal value found for dimension 0 of parameter k2__noise_level is close to the specified upper bound 10.0. Increasing the bound and calling fit again may find a better value.\n",
      "  warnings.warn(\"The optimal value found for \"\n"
     ]
    },
    {
     "name": "stdout",
     "output_type": "stream",
     "text": [
      "Accuracy after query 22: 0.6860\n",
      "22 [30283]\n"
     ]
    },
    {
     "name": "stderr",
     "output_type": "stream",
     "text": [
      "D:\\Program\\Anaconda3\\lib\\site-packages\\sklearn\\gaussian_process\\kernels.py:411: ConvergenceWarning: The optimal value found for dimension 0 of parameter k1__sigma_0 is close to the specified upper bound 1.0. Increasing the bound and calling fit again may find a better value.\n",
      "  warnings.warn(\"The optimal value found for \"\n",
      "D:\\Program\\Anaconda3\\lib\\site-packages\\sklearn\\gaussian_process\\kernels.py:411: ConvergenceWarning: The optimal value found for dimension 0 of parameter k2__noise_level is close to the specified upper bound 10.0. Increasing the bound and calling fit again may find a better value.\n",
      "  warnings.warn(\"The optimal value found for \"\n"
     ]
    },
    {
     "name": "stdout",
     "output_type": "stream",
     "text": [
      "Accuracy after query 23: 0.6866\n",
      "78 [6312]\n"
     ]
    },
    {
     "name": "stderr",
     "output_type": "stream",
     "text": [
      "D:\\Program\\Anaconda3\\lib\\site-packages\\sklearn\\gaussian_process\\kernels.py:411: ConvergenceWarning: The optimal value found for dimension 0 of parameter k1__sigma_0 is close to the specified upper bound 1.0. Increasing the bound and calling fit again may find a better value.\n",
      "  warnings.warn(\"The optimal value found for \"\n",
      "D:\\Program\\Anaconda3\\lib\\site-packages\\sklearn\\gaussian_process\\kernels.py:411: ConvergenceWarning: The optimal value found for dimension 0 of parameter k2__noise_level is close to the specified upper bound 10.0. Increasing the bound and calling fit again may find a better value.\n",
      "  warnings.warn(\"The optimal value found for \"\n"
     ]
    },
    {
     "name": "stdout",
     "output_type": "stream",
     "text": [
      "Accuracy after query 24: 0.6869\n",
      "24 [29980]\n"
     ]
    },
    {
     "name": "stderr",
     "output_type": "stream",
     "text": [
      "D:\\Program\\Anaconda3\\lib\\site-packages\\sklearn\\gaussian_process\\kernels.py:411: ConvergenceWarning: The optimal value found for dimension 0 of parameter k1__sigma_0 is close to the specified upper bound 1.0. Increasing the bound and calling fit again may find a better value.\n",
      "  warnings.warn(\"The optimal value found for \"\n",
      "D:\\Program\\Anaconda3\\lib\\site-packages\\sklearn\\gaussian_process\\kernels.py:411: ConvergenceWarning: The optimal value found for dimension 0 of parameter k2__noise_level is close to the specified upper bound 10.0. Increasing the bound and calling fit again may find a better value.\n",
      "  warnings.warn(\"The optimal value found for \"\n"
     ]
    },
    {
     "name": "stdout",
     "output_type": "stream",
     "text": [
      "Accuracy after query 25: 0.6863\n",
      "94 [44437]\n"
     ]
    },
    {
     "name": "stderr",
     "output_type": "stream",
     "text": [
      "D:\\Program\\Anaconda3\\lib\\site-packages\\sklearn\\gaussian_process\\kernels.py:411: ConvergenceWarning: The optimal value found for dimension 0 of parameter k1__sigma_0 is close to the specified upper bound 1.0. Increasing the bound and calling fit again may find a better value.\n",
      "  warnings.warn(\"The optimal value found for \"\n",
      "D:\\Program\\Anaconda3\\lib\\site-packages\\sklearn\\gaussian_process\\kernels.py:411: ConvergenceWarning: The optimal value found for dimension 0 of parameter k2__noise_level is close to the specified upper bound 10.0. Increasing the bound and calling fit again may find a better value.\n",
      "  warnings.warn(\"The optimal value found for \"\n"
     ]
    },
    {
     "name": "stdout",
     "output_type": "stream",
     "text": [
      "Accuracy after query 26: 0.6864\n",
      "80 [45051]\n"
     ]
    },
    {
     "name": "stderr",
     "output_type": "stream",
     "text": [
      "D:\\Program\\Anaconda3\\lib\\site-packages\\sklearn\\gaussian_process\\kernels.py:411: ConvergenceWarning: The optimal value found for dimension 0 of parameter k1__sigma_0 is close to the specified upper bound 1.0. Increasing the bound and calling fit again may find a better value.\n",
      "  warnings.warn(\"The optimal value found for \"\n",
      "D:\\Program\\Anaconda3\\lib\\site-packages\\sklearn\\gaussian_process\\kernels.py:411: ConvergenceWarning: The optimal value found for dimension 0 of parameter k2__noise_level is close to the specified upper bound 10.0. Increasing the bound and calling fit again may find a better value.\n",
      "  warnings.warn(\"The optimal value found for \"\n"
     ]
    },
    {
     "name": "stdout",
     "output_type": "stream",
     "text": [
      "Accuracy after query 27: 0.6872\n",
      "5 [57758]\n"
     ]
    },
    {
     "name": "stderr",
     "output_type": "stream",
     "text": [
      "D:\\Program\\Anaconda3\\lib\\site-packages\\sklearn\\gaussian_process\\kernels.py:411: ConvergenceWarning: The optimal value found for dimension 0 of parameter k1__sigma_0 is close to the specified upper bound 1.0. Increasing the bound and calling fit again may find a better value.\n",
      "  warnings.warn(\"The optimal value found for \"\n",
      "D:\\Program\\Anaconda3\\lib\\site-packages\\sklearn\\gaussian_process\\kernels.py:411: ConvergenceWarning: The optimal value found for dimension 0 of parameter k2__noise_level is close to the specified upper bound 10.0. Increasing the bound and calling fit again may find a better value.\n",
      "  warnings.warn(\"The optimal value found for \"\n"
     ]
    },
    {
     "name": "stdout",
     "output_type": "stream",
     "text": [
      "Accuracy after query 28: 0.6876\n",
      "12 [23383]\n"
     ]
    },
    {
     "name": "stderr",
     "output_type": "stream",
     "text": [
      "D:\\Program\\Anaconda3\\lib\\site-packages\\sklearn\\gaussian_process\\kernels.py:411: ConvergenceWarning: The optimal value found for dimension 0 of parameter k1__sigma_0 is close to the specified upper bound 1.0. Increasing the bound and calling fit again may find a better value.\n",
      "  warnings.warn(\"The optimal value found for \"\n",
      "D:\\Program\\Anaconda3\\lib\\site-packages\\sklearn\\gaussian_process\\kernels.py:411: ConvergenceWarning: The optimal value found for dimension 0 of parameter k2__noise_level is close to the specified upper bound 10.0. Increasing the bound and calling fit again may find a better value.\n",
      "  warnings.warn(\"The optimal value found for \"\n"
     ]
    },
    {
     "name": "stdout",
     "output_type": "stream",
     "text": [
      "Accuracy after query 29: 0.6889\n",
      "29 [14637]\n"
     ]
    },
    {
     "name": "stderr",
     "output_type": "stream",
     "text": [
      "D:\\Program\\Anaconda3\\lib\\site-packages\\sklearn\\gaussian_process\\kernels.py:411: ConvergenceWarning: The optimal value found for dimension 0 of parameter k1__sigma_0 is close to the specified upper bound 1.0. Increasing the bound and calling fit again may find a better value.\n",
      "  warnings.warn(\"The optimal value found for \"\n",
      "D:\\Program\\Anaconda3\\lib\\site-packages\\sklearn\\gaussian_process\\kernels.py:411: ConvergenceWarning: The optimal value found for dimension 0 of parameter k2__noise_level is close to the specified upper bound 10.0. Increasing the bound and calling fit again may find a better value.\n",
      "  warnings.warn(\"The optimal value found for \"\n"
     ]
    },
    {
     "name": "stdout",
     "output_type": "stream",
     "text": [
      "Accuracy after query 30: 0.6916\n",
      "33 [56530]\n"
     ]
    },
    {
     "name": "stderr",
     "output_type": "stream",
     "text": [
      "D:\\Program\\Anaconda3\\lib\\site-packages\\sklearn\\gaussian_process\\kernels.py:411: ConvergenceWarning: The optimal value found for dimension 0 of parameter k1__sigma_0 is close to the specified upper bound 1.0. Increasing the bound and calling fit again may find a better value.\n",
      "  warnings.warn(\"The optimal value found for \"\n",
      "D:\\Program\\Anaconda3\\lib\\site-packages\\sklearn\\gaussian_process\\kernels.py:411: ConvergenceWarning: The optimal value found for dimension 0 of parameter k2__noise_level is close to the specified upper bound 10.0. Increasing the bound and calling fit again may find a better value.\n",
      "  warnings.warn(\"The optimal value found for \"\n"
     ]
    },
    {
     "name": "stdout",
     "output_type": "stream",
     "text": [
      "Accuracy after query 31: 0.6915\n",
      "80 [11111]\n"
     ]
    },
    {
     "name": "stderr",
     "output_type": "stream",
     "text": [
      "D:\\Program\\Anaconda3\\lib\\site-packages\\sklearn\\gaussian_process\\kernels.py:411: ConvergenceWarning: The optimal value found for dimension 0 of parameter k1__sigma_0 is close to the specified upper bound 1.0. Increasing the bound and calling fit again may find a better value.\n",
      "  warnings.warn(\"The optimal value found for \"\n",
      "D:\\Program\\Anaconda3\\lib\\site-packages\\sklearn\\gaussian_process\\kernels.py:411: ConvergenceWarning: The optimal value found for dimension 0 of parameter k2__noise_level is close to the specified upper bound 10.0. Increasing the bound and calling fit again may find a better value.\n",
      "  warnings.warn(\"The optimal value found for \"\n"
     ]
    },
    {
     "name": "stdout",
     "output_type": "stream",
     "text": [
      "Accuracy after query 32: 0.6919\n",
      "78 [24529]\n"
     ]
    },
    {
     "name": "stderr",
     "output_type": "stream",
     "text": [
      "D:\\Program\\Anaconda3\\lib\\site-packages\\sklearn\\gaussian_process\\kernels.py:411: ConvergenceWarning: The optimal value found for dimension 0 of parameter k1__sigma_0 is close to the specified upper bound 1.0. Increasing the bound and calling fit again may find a better value.\n",
      "  warnings.warn(\"The optimal value found for \"\n",
      "D:\\Program\\Anaconda3\\lib\\site-packages\\sklearn\\gaussian_process\\kernels.py:411: ConvergenceWarning: The optimal value found for dimension 0 of parameter k2__noise_level is close to the specified upper bound 10.0. Increasing the bound and calling fit again may find a better value.\n",
      "  warnings.warn(\"The optimal value found for \"\n"
     ]
    },
    {
     "name": "stdout",
     "output_type": "stream",
     "text": [
      "Accuracy after query 33: 0.6921\n",
      "40 [28417]\n"
     ]
    },
    {
     "name": "stderr",
     "output_type": "stream",
     "text": [
      "D:\\Program\\Anaconda3\\lib\\site-packages\\sklearn\\gaussian_process\\kernels.py:411: ConvergenceWarning: The optimal value found for dimension 0 of parameter k1__sigma_0 is close to the specified upper bound 1.0. Increasing the bound and calling fit again may find a better value.\n",
      "  warnings.warn(\"The optimal value found for \"\n",
      "D:\\Program\\Anaconda3\\lib\\site-packages\\sklearn\\gaussian_process\\kernels.py:411: ConvergenceWarning: The optimal value found for dimension 0 of parameter k2__noise_level is close to the specified upper bound 10.0. Increasing the bound and calling fit again may find a better value.\n",
      "  warnings.warn(\"The optimal value found for \"\n"
     ]
    },
    {
     "name": "stdout",
     "output_type": "stream",
     "text": [
      "Accuracy after query 34: 0.6930\n",
      "50 [55664]\n"
     ]
    },
    {
     "name": "stderr",
     "output_type": "stream",
     "text": [
      "D:\\Program\\Anaconda3\\lib\\site-packages\\sklearn\\gaussian_process\\kernels.py:411: ConvergenceWarning: The optimal value found for dimension 0 of parameter k1__sigma_0 is close to the specified upper bound 1.0. Increasing the bound and calling fit again may find a better value.\n",
      "  warnings.warn(\"The optimal value found for \"\n",
      "D:\\Program\\Anaconda3\\lib\\site-packages\\sklearn\\gaussian_process\\kernels.py:411: ConvergenceWarning: The optimal value found for dimension 0 of parameter k2__noise_level is close to the specified upper bound 10.0. Increasing the bound and calling fit again may find a better value.\n",
      "  warnings.warn(\"The optimal value found for \"\n"
     ]
    },
    {
     "name": "stdout",
     "output_type": "stream",
     "text": [
      "Accuracy after query 35: 0.6939\n",
      "87 [38477]\n"
     ]
    },
    {
     "name": "stderr",
     "output_type": "stream",
     "text": [
      "D:\\Program\\Anaconda3\\lib\\site-packages\\sklearn\\gaussian_process\\kernels.py:411: ConvergenceWarning: The optimal value found for dimension 0 of parameter k1__sigma_0 is close to the specified upper bound 1.0. Increasing the bound and calling fit again may find a better value.\n",
      "  warnings.warn(\"The optimal value found for \"\n",
      "D:\\Program\\Anaconda3\\lib\\site-packages\\sklearn\\gaussian_process\\kernels.py:411: ConvergenceWarning: The optimal value found for dimension 0 of parameter k2__noise_level is close to the specified upper bound 10.0. Increasing the bound and calling fit again may find a better value.\n",
      "  warnings.warn(\"The optimal value found for \"\n"
     ]
    },
    {
     "name": "stdout",
     "output_type": "stream",
     "text": [
      "Accuracy after query 36: 0.6963\n",
      "27 [44914]\n"
     ]
    },
    {
     "name": "stderr",
     "output_type": "stream",
     "text": [
      "D:\\Program\\Anaconda3\\lib\\site-packages\\sklearn\\gaussian_process\\kernels.py:411: ConvergenceWarning: The optimal value found for dimension 0 of parameter k1__sigma_0 is close to the specified upper bound 1.0. Increasing the bound and calling fit again may find a better value.\n",
      "  warnings.warn(\"The optimal value found for \"\n",
      "D:\\Program\\Anaconda3\\lib\\site-packages\\sklearn\\gaussian_process\\kernels.py:411: ConvergenceWarning: The optimal value found for dimension 0 of parameter k2__noise_level is close to the specified upper bound 10.0. Increasing the bound and calling fit again may find a better value.\n",
      "  warnings.warn(\"The optimal value found for \"\n"
     ]
    },
    {
     "name": "stdout",
     "output_type": "stream",
     "text": [
      "Accuracy after query 37: 0.6972\n",
      "39 [6278]\n"
     ]
    },
    {
     "name": "stderr",
     "output_type": "stream",
     "text": [
      "D:\\Program\\Anaconda3\\lib\\site-packages\\sklearn\\gaussian_process\\kernels.py:411: ConvergenceWarning: The optimal value found for dimension 0 of parameter k1__sigma_0 is close to the specified upper bound 1.0. Increasing the bound and calling fit again may find a better value.\n",
      "  warnings.warn(\"The optimal value found for \"\n",
      "D:\\Program\\Anaconda3\\lib\\site-packages\\sklearn\\gaussian_process\\kernels.py:411: ConvergenceWarning: The optimal value found for dimension 0 of parameter k2__noise_level is close to the specified upper bound 10.0. Increasing the bound and calling fit again may find a better value.\n",
      "  warnings.warn(\"The optimal value found for \"\n"
     ]
    },
    {
     "name": "stdout",
     "output_type": "stream",
     "text": [
      "Accuracy after query 38: 0.6961\n",
      "18 [28997]\n"
     ]
    },
    {
     "name": "stderr",
     "output_type": "stream",
     "text": [
      "D:\\Program\\Anaconda3\\lib\\site-packages\\sklearn\\gaussian_process\\kernels.py:411: ConvergenceWarning: The optimal value found for dimension 0 of parameter k1__sigma_0 is close to the specified upper bound 1.0. Increasing the bound and calling fit again may find a better value.\n",
      "  warnings.warn(\"The optimal value found for \"\n",
      "D:\\Program\\Anaconda3\\lib\\site-packages\\sklearn\\gaussian_process\\kernels.py:411: ConvergenceWarning: The optimal value found for dimension 0 of parameter k2__noise_level is close to the specified upper bound 10.0. Increasing the bound and calling fit again may find a better value.\n",
      "  warnings.warn(\"The optimal value found for \"\n"
     ]
    },
    {
     "name": "stdout",
     "output_type": "stream",
     "text": [
      "Accuracy after query 39: 0.6959\n",
      "32 [33193]\n"
     ]
    },
    {
     "name": "stderr",
     "output_type": "stream",
     "text": [
      "D:\\Program\\Anaconda3\\lib\\site-packages\\sklearn\\gaussian_process\\kernels.py:411: ConvergenceWarning: The optimal value found for dimension 0 of parameter k1__sigma_0 is close to the specified upper bound 1.0. Increasing the bound and calling fit again may find a better value.\n",
      "  warnings.warn(\"The optimal value found for \"\n",
      "D:\\Program\\Anaconda3\\lib\\site-packages\\sklearn\\gaussian_process\\kernels.py:411: ConvergenceWarning: The optimal value found for dimension 0 of parameter k2__noise_level is close to the specified upper bound 10.0. Increasing the bound and calling fit again may find a better value.\n",
      "  warnings.warn(\"The optimal value found for \"\n"
     ]
    },
    {
     "name": "stdout",
     "output_type": "stream",
     "text": [
      "Accuracy after query 40: 0.6965\n",
      "51 [7280]\n"
     ]
    },
    {
     "name": "stderr",
     "output_type": "stream",
     "text": [
      "D:\\Program\\Anaconda3\\lib\\site-packages\\sklearn\\gaussian_process\\kernels.py:411: ConvergenceWarning: The optimal value found for dimension 0 of parameter k1__sigma_0 is close to the specified upper bound 1.0. Increasing the bound and calling fit again may find a better value.\n",
      "  warnings.warn(\"The optimal value found for \"\n",
      "D:\\Program\\Anaconda3\\lib\\site-packages\\sklearn\\gaussian_process\\kernels.py:411: ConvergenceWarning: The optimal value found for dimension 0 of parameter k2__noise_level is close to the specified upper bound 10.0. Increasing the bound and calling fit again may find a better value.\n",
      "  warnings.warn(\"The optimal value found for \"\n"
     ]
    },
    {
     "name": "stdout",
     "output_type": "stream",
     "text": [
      "Accuracy after query 41: 0.6968\n",
      "80 [53320]\n"
     ]
    },
    {
     "name": "stderr",
     "output_type": "stream",
     "text": [
      "D:\\Program\\Anaconda3\\lib\\site-packages\\sklearn\\gaussian_process\\_gpc.py:448: ConvergenceWarning: lbfgs failed to converge (status=2):\n",
      "ABNORMAL_TERMINATION_IN_LNSRCH.\n",
      "\n",
      "Increase the number of iterations (max_iter) or scale the data as shown in:\n",
      "    https://scikit-learn.org/stable/modules/preprocessing.html\n",
      "  _check_optimize_result(\"lbfgs\", opt_res)\n",
      "D:\\Program\\Anaconda3\\lib\\site-packages\\sklearn\\gaussian_process\\kernels.py:411: ConvergenceWarning: The optimal value found for dimension 0 of parameter k2__noise_level is close to the specified upper bound 10.0. Increasing the bound and calling fit again may find a better value.\n",
      "  warnings.warn(\"The optimal value found for \"\n",
      "D:\\Program\\Anaconda3\\lib\\site-packages\\sklearn\\gaussian_process\\kernels.py:411: ConvergenceWarning: The optimal value found for dimension 0 of parameter k1__sigma_0 is close to the specified upper bound 1.0. Increasing the bound and calling fit again may find a better value.\n",
      "  warnings.warn(\"The optimal value found for \"\n"
     ]
    },
    {
     "name": "stdout",
     "output_type": "stream",
     "text": [
      "Accuracy after query 42: 0.6983\n",
      "31 [16219]\n"
     ]
    },
    {
     "name": "stderr",
     "output_type": "stream",
     "text": [
      "D:\\Program\\Anaconda3\\lib\\site-packages\\sklearn\\gaussian_process\\kernels.py:411: ConvergenceWarning: The optimal value found for dimension 0 of parameter k1__sigma_0 is close to the specified upper bound 1.0. Increasing the bound and calling fit again may find a better value.\n",
      "  warnings.warn(\"The optimal value found for \"\n",
      "D:\\Program\\Anaconda3\\lib\\site-packages\\sklearn\\gaussian_process\\kernels.py:411: ConvergenceWarning: The optimal value found for dimension 0 of parameter k2__noise_level is close to the specified upper bound 10.0. Increasing the bound and calling fit again may find a better value.\n",
      "  warnings.warn(\"The optimal value found for \"\n"
     ]
    },
    {
     "name": "stdout",
     "output_type": "stream",
     "text": [
      "Accuracy after query 43: 0.6968\n",
      "30 [38746]\n"
     ]
    },
    {
     "name": "stderr",
     "output_type": "stream",
     "text": [
      "D:\\Program\\Anaconda3\\lib\\site-packages\\sklearn\\gaussian_process\\kernels.py:411: ConvergenceWarning: The optimal value found for dimension 0 of parameter k1__sigma_0 is close to the specified upper bound 1.0. Increasing the bound and calling fit again may find a better value.\n",
      "  warnings.warn(\"The optimal value found for \"\n",
      "D:\\Program\\Anaconda3\\lib\\site-packages\\sklearn\\gaussian_process\\kernels.py:411: ConvergenceWarning: The optimal value found for dimension 0 of parameter k2__noise_level is close to the specified upper bound 10.0. Increasing the bound and calling fit again may find a better value.\n",
      "  warnings.warn(\"The optimal value found for \"\n"
     ]
    },
    {
     "name": "stdout",
     "output_type": "stream",
     "text": [
      "Accuracy after query 44: 0.6953\n",
      "50 [3751]\n"
     ]
    },
    {
     "name": "stderr",
     "output_type": "stream",
     "text": [
      "D:\\Program\\Anaconda3\\lib\\site-packages\\sklearn\\gaussian_process\\kernels.py:411: ConvergenceWarning: The optimal value found for dimension 0 of parameter k1__sigma_0 is close to the specified upper bound 1.0. Increasing the bound and calling fit again may find a better value.\n",
      "  warnings.warn(\"The optimal value found for \"\n",
      "D:\\Program\\Anaconda3\\lib\\site-packages\\sklearn\\gaussian_process\\kernels.py:411: ConvergenceWarning: The optimal value found for dimension 0 of parameter k2__noise_level is close to the specified upper bound 10.0. Increasing the bound and calling fit again may find a better value.\n",
      "  warnings.warn(\"The optimal value found for \"\n"
     ]
    },
    {
     "name": "stdout",
     "output_type": "stream",
     "text": [
      "Accuracy after query 45: 0.6968\n",
      "7 [7376]\n"
     ]
    },
    {
     "name": "stderr",
     "output_type": "stream",
     "text": [
      "D:\\Program\\Anaconda3\\lib\\site-packages\\sklearn\\gaussian_process\\kernels.py:411: ConvergenceWarning: The optimal value found for dimension 0 of parameter k1__sigma_0 is close to the specified upper bound 1.0. Increasing the bound and calling fit again may find a better value.\n",
      "  warnings.warn(\"The optimal value found for \"\n",
      "D:\\Program\\Anaconda3\\lib\\site-packages\\sklearn\\gaussian_process\\kernels.py:411: ConvergenceWarning: The optimal value found for dimension 0 of parameter k2__noise_level is close to the specified upper bound 10.0. Increasing the bound and calling fit again may find a better value.\n",
      "  warnings.warn(\"The optimal value found for \"\n"
     ]
    },
    {
     "name": "stdout",
     "output_type": "stream",
     "text": [
      "Accuracy after query 46: 0.6976\n",
      "29 [31543]\n"
     ]
    },
    {
     "name": "stderr",
     "output_type": "stream",
     "text": [
      "D:\\Program\\Anaconda3\\lib\\site-packages\\sklearn\\gaussian_process\\_gpc.py:448: ConvergenceWarning: lbfgs failed to converge (status=2):\n",
      "ABNORMAL_TERMINATION_IN_LNSRCH.\n",
      "\n",
      "Increase the number of iterations (max_iter) or scale the data as shown in:\n",
      "    https://scikit-learn.org/stable/modules/preprocessing.html\n",
      "  _check_optimize_result(\"lbfgs\", opt_res)\n",
      "D:\\Program\\Anaconda3\\lib\\site-packages\\sklearn\\gaussian_process\\kernels.py:411: ConvergenceWarning: The optimal value found for dimension 0 of parameter k2__noise_level is close to the specified upper bound 10.0. Increasing the bound and calling fit again may find a better value.\n",
      "  warnings.warn(\"The optimal value found for \"\n",
      "D:\\Program\\Anaconda3\\lib\\site-packages\\sklearn\\gaussian_process\\kernels.py:411: ConvergenceWarning: The optimal value found for dimension 0 of parameter k1__sigma_0 is close to the specified upper bound 1.0. Increasing the bound and calling fit again may find a better value.\n",
      "  warnings.warn(\"The optimal value found for \"\n"
     ]
    },
    {
     "name": "stdout",
     "output_type": "stream",
     "text": [
      "Accuracy after query 47: 0.6986\n",
      "70 [13226]\n"
     ]
    },
    {
     "name": "stderr",
     "output_type": "stream",
     "text": [
      "D:\\Program\\Anaconda3\\lib\\site-packages\\sklearn\\gaussian_process\\_gpc.py:448: ConvergenceWarning: lbfgs failed to converge (status=2):\n",
      "ABNORMAL_TERMINATION_IN_LNSRCH.\n",
      "\n",
      "Increase the number of iterations (max_iter) or scale the data as shown in:\n",
      "    https://scikit-learn.org/stable/modules/preprocessing.html\n",
      "  _check_optimize_result(\"lbfgs\", opt_res)\n",
      "D:\\Program\\Anaconda3\\lib\\site-packages\\sklearn\\gaussian_process\\kernels.py:411: ConvergenceWarning: The optimal value found for dimension 0 of parameter k2__noise_level is close to the specified upper bound 10.0. Increasing the bound and calling fit again may find a better value.\n",
      "  warnings.warn(\"The optimal value found for \"\n",
      "D:\\Program\\Anaconda3\\lib\\site-packages\\sklearn\\gaussian_process\\kernels.py:411: ConvergenceWarning: The optimal value found for dimension 0 of parameter k1__sigma_0 is close to the specified upper bound 1.0. Increasing the bound and calling fit again may find a better value.\n",
      "  warnings.warn(\"The optimal value found for \"\n"
     ]
    },
    {
     "name": "stdout",
     "output_type": "stream",
     "text": [
      "Accuracy after query 48: 0.6992\n",
      "58 [40347]\n"
     ]
    },
    {
     "name": "stderr",
     "output_type": "stream",
     "text": [
      "D:\\Program\\Anaconda3\\lib\\site-packages\\sklearn\\gaussian_process\\kernels.py:411: ConvergenceWarning: The optimal value found for dimension 0 of parameter k2__noise_level is close to the specified upper bound 10.0. Increasing the bound and calling fit again may find a better value.\n",
      "  warnings.warn(\"The optimal value found for \"\n",
      "D:\\Program\\Anaconda3\\lib\\site-packages\\sklearn\\gaussian_process\\kernels.py:411: ConvergenceWarning: The optimal value found for dimension 0 of parameter k1__sigma_0 is close to the specified upper bound 1.0. Increasing the bound and calling fit again may find a better value.\n",
      "  warnings.warn(\"The optimal value found for \"\n"
     ]
    },
    {
     "name": "stdout",
     "output_type": "stream",
     "text": [
      "Accuracy after query 49: 0.7012\n",
      "45 [47072]\n"
     ]
    },
    {
     "name": "stderr",
     "output_type": "stream",
     "text": [
      "D:\\Program\\Anaconda3\\lib\\site-packages\\sklearn\\gaussian_process\\kernels.py:411: ConvergenceWarning: The optimal value found for dimension 0 of parameter k1__sigma_0 is close to the specified upper bound 1.0. Increasing the bound and calling fit again may find a better value.\n",
      "  warnings.warn(\"The optimal value found for \"\n",
      "D:\\Program\\Anaconda3\\lib\\site-packages\\sklearn\\gaussian_process\\kernels.py:411: ConvergenceWarning: The optimal value found for dimension 0 of parameter k2__noise_level is close to the specified upper bound 10.0. Increasing the bound and calling fit again may find a better value.\n",
      "  warnings.warn(\"The optimal value found for \"\n"
     ]
    },
    {
     "name": "stdout",
     "output_type": "stream",
     "text": [
      "Accuracy after query 50: 0.7013\n",
      "4 [53938]\n"
     ]
    },
    {
     "name": "stderr",
     "output_type": "stream",
     "text": [
      "D:\\Program\\Anaconda3\\lib\\site-packages\\sklearn\\gaussian_process\\kernels.py:411: ConvergenceWarning: The optimal value found for dimension 0 of parameter k1__sigma_0 is close to the specified upper bound 1.0. Increasing the bound and calling fit again may find a better value.\n",
      "  warnings.warn(\"The optimal value found for \"\n",
      "D:\\Program\\Anaconda3\\lib\\site-packages\\sklearn\\gaussian_process\\kernels.py:411: ConvergenceWarning: The optimal value found for dimension 0 of parameter k2__noise_level is close to the specified upper bound 10.0. Increasing the bound and calling fit again may find a better value.\n",
      "  warnings.warn(\"The optimal value found for \"\n"
     ]
    },
    {
     "name": "stdout",
     "output_type": "stream",
     "text": [
      "Accuracy after query 51: 0.7019\n",
      "99 [55004]\n"
     ]
    },
    {
     "name": "stderr",
     "output_type": "stream",
     "text": [
      "D:\\Program\\Anaconda3\\lib\\site-packages\\sklearn\\gaussian_process\\kernels.py:411: ConvergenceWarning: The optimal value found for dimension 0 of parameter k1__sigma_0 is close to the specified upper bound 1.0. Increasing the bound and calling fit again may find a better value.\n",
      "  warnings.warn(\"The optimal value found for \"\n",
      "D:\\Program\\Anaconda3\\lib\\site-packages\\sklearn\\gaussian_process\\kernels.py:411: ConvergenceWarning: The optimal value found for dimension 0 of parameter k2__noise_level is close to the specified upper bound 10.0. Increasing the bound and calling fit again may find a better value.\n",
      "  warnings.warn(\"The optimal value found for \"\n"
     ]
    },
    {
     "name": "stdout",
     "output_type": "stream",
     "text": [
      "Accuracy after query 52: 0.7022\n",
      "85 [51584]\n"
     ]
    },
    {
     "name": "stderr",
     "output_type": "stream",
     "text": [
      "D:\\Program\\Anaconda3\\lib\\site-packages\\sklearn\\gaussian_process\\kernels.py:411: ConvergenceWarning: The optimal value found for dimension 0 of parameter k1__sigma_0 is close to the specified upper bound 1.0. Increasing the bound and calling fit again may find a better value.\n",
      "  warnings.warn(\"The optimal value found for \"\n",
      "D:\\Program\\Anaconda3\\lib\\site-packages\\sklearn\\gaussian_process\\kernels.py:411: ConvergenceWarning: The optimal value found for dimension 0 of parameter k2__noise_level is close to the specified upper bound 10.0. Increasing the bound and calling fit again may find a better value.\n",
      "  warnings.warn(\"The optimal value found for \"\n"
     ]
    },
    {
     "name": "stdout",
     "output_type": "stream",
     "text": [
      "Accuracy after query 53: 0.7023\n",
      "46 [48458]\n"
     ]
    },
    {
     "name": "stderr",
     "output_type": "stream",
     "text": [
      "D:\\Program\\Anaconda3\\lib\\site-packages\\sklearn\\gaussian_process\\_gpc.py:448: ConvergenceWarning: lbfgs failed to converge (status=2):\n",
      "ABNORMAL_TERMINATION_IN_LNSRCH.\n",
      "\n",
      "Increase the number of iterations (max_iter) or scale the data as shown in:\n",
      "    https://scikit-learn.org/stable/modules/preprocessing.html\n",
      "  _check_optimize_result(\"lbfgs\", opt_res)\n",
      "D:\\Program\\Anaconda3\\lib\\site-packages\\sklearn\\gaussian_process\\kernels.py:411: ConvergenceWarning: The optimal value found for dimension 0 of parameter k2__noise_level is close to the specified upper bound 10.0. Increasing the bound and calling fit again may find a better value.\n",
      "  warnings.warn(\"The optimal value found for \"\n",
      "D:\\Program\\Anaconda3\\lib\\site-packages\\sklearn\\gaussian_process\\kernels.py:411: ConvergenceWarning: The optimal value found for dimension 0 of parameter k1__sigma_0 is close to the specified upper bound 1.0. Increasing the bound and calling fit again may find a better value.\n",
      "  warnings.warn(\"The optimal value found for \"\n"
     ]
    },
    {
     "name": "stdout",
     "output_type": "stream",
     "text": [
      "Accuracy after query 54: 0.7028\n",
      "35 [22740]\n"
     ]
    },
    {
     "name": "stderr",
     "output_type": "stream",
     "text": [
      "D:\\Program\\Anaconda3\\lib\\site-packages\\sklearn\\gaussian_process\\_gpc.py:448: ConvergenceWarning: lbfgs failed to converge (status=2):\n",
      "ABNORMAL_TERMINATION_IN_LNSRCH.\n",
      "\n",
      "Increase the number of iterations (max_iter) or scale the data as shown in:\n",
      "    https://scikit-learn.org/stable/modules/preprocessing.html\n",
      "  _check_optimize_result(\"lbfgs\", opt_res)\n",
      "D:\\Program\\Anaconda3\\lib\\site-packages\\sklearn\\gaussian_process\\kernels.py:411: ConvergenceWarning: The optimal value found for dimension 0 of parameter k2__noise_level is close to the specified upper bound 10.0. Increasing the bound and calling fit again may find a better value.\n",
      "  warnings.warn(\"The optimal value found for \"\n",
      "D:\\Program\\Anaconda3\\lib\\site-packages\\sklearn\\gaussian_process\\kernels.py:411: ConvergenceWarning: The optimal value found for dimension 0 of parameter k1__sigma_0 is close to the specified upper bound 1.0. Increasing the bound and calling fit again may find a better value.\n",
      "  warnings.warn(\"The optimal value found for \"\n"
     ]
    },
    {
     "name": "stdout",
     "output_type": "stream",
     "text": [
      "Accuracy after query 55: 0.7036\n",
      "46 [27261]\n"
     ]
    },
    {
     "name": "stderr",
     "output_type": "stream",
     "text": [
      "D:\\Program\\Anaconda3\\lib\\site-packages\\sklearn\\gaussian_process\\_gpc.py:448: ConvergenceWarning: lbfgs failed to converge (status=2):\n",
      "ABNORMAL_TERMINATION_IN_LNSRCH.\n",
      "\n",
      "Increase the number of iterations (max_iter) or scale the data as shown in:\n",
      "    https://scikit-learn.org/stable/modules/preprocessing.html\n",
      "  _check_optimize_result(\"lbfgs\", opt_res)\n",
      "D:\\Program\\Anaconda3\\lib\\site-packages\\sklearn\\gaussian_process\\kernels.py:411: ConvergenceWarning: The optimal value found for dimension 0 of parameter k2__noise_level is close to the specified upper bound 10.0. Increasing the bound and calling fit again may find a better value.\n",
      "  warnings.warn(\"The optimal value found for \"\n",
      "D:\\Program\\Anaconda3\\lib\\site-packages\\sklearn\\gaussian_process\\kernels.py:411: ConvergenceWarning: The optimal value found for dimension 0 of parameter k1__sigma_0 is close to the specified upper bound 1.0. Increasing the bound and calling fit again may find a better value.\n",
      "  warnings.warn(\"The optimal value found for \"\n"
     ]
    },
    {
     "name": "stdout",
     "output_type": "stream",
     "text": [
      "Accuracy after query 56: 0.7041\n",
      "63 [21814]\n"
     ]
    },
    {
     "name": "stderr",
     "output_type": "stream",
     "text": [
      "D:\\Program\\Anaconda3\\lib\\site-packages\\sklearn\\gaussian_process\\kernels.py:411: ConvergenceWarning: The optimal value found for dimension 0 of parameter k2__noise_level is close to the specified upper bound 10.0. Increasing the bound and calling fit again may find a better value.\n",
      "  warnings.warn(\"The optimal value found for \"\n",
      "D:\\Program\\Anaconda3\\lib\\site-packages\\sklearn\\gaussian_process\\kernels.py:411: ConvergenceWarning: The optimal value found for dimension 0 of parameter k1__sigma_0 is close to the specified upper bound 1.0. Increasing the bound and calling fit again may find a better value.\n",
      "  warnings.warn(\"The optimal value found for \"\n"
     ]
    },
    {
     "name": "stdout",
     "output_type": "stream",
     "text": [
      "Accuracy after query 57: 0.7040\n",
      "63 [15090]\n"
     ]
    },
    {
     "name": "stderr",
     "output_type": "stream",
     "text": [
      "D:\\Program\\Anaconda3\\lib\\site-packages\\sklearn\\gaussian_process\\kernels.py:411: ConvergenceWarning: The optimal value found for dimension 0 of parameter k2__noise_level is close to the specified upper bound 10.0. Increasing the bound and calling fit again may find a better value.\n",
      "  warnings.warn(\"The optimal value found for \"\n",
      "D:\\Program\\Anaconda3\\lib\\site-packages\\sklearn\\gaussian_process\\kernels.py:411: ConvergenceWarning: The optimal value found for dimension 0 of parameter k1__sigma_0 is close to the specified upper bound 1.0. Increasing the bound and calling fit again may find a better value.\n",
      "  warnings.warn(\"The optimal value found for \"\n"
     ]
    },
    {
     "name": "stdout",
     "output_type": "stream",
     "text": [
      "Accuracy after query 58: 0.7056\n",
      "22 [14519]\n"
     ]
    },
    {
     "name": "stderr",
     "output_type": "stream",
     "text": [
      "D:\\Program\\Anaconda3\\lib\\site-packages\\sklearn\\gaussian_process\\kernels.py:411: ConvergenceWarning: The optimal value found for dimension 0 of parameter k2__noise_level is close to the specified upper bound 10.0. Increasing the bound and calling fit again may find a better value.\n",
      "  warnings.warn(\"The optimal value found for \"\n",
      "D:\\Program\\Anaconda3\\lib\\site-packages\\sklearn\\gaussian_process\\kernels.py:411: ConvergenceWarning: The optimal value found for dimension 0 of parameter k1__sigma_0 is close to the specified upper bound 1.0. Increasing the bound and calling fit again may find a better value.\n",
      "  warnings.warn(\"The optimal value found for \"\n"
     ]
    },
    {
     "name": "stdout",
     "output_type": "stream",
     "text": [
      "Accuracy after query 59: 0.7055\n",
      "52 [52815]\n"
     ]
    },
    {
     "name": "stderr",
     "output_type": "stream",
     "text": [
      "D:\\Program\\Anaconda3\\lib\\site-packages\\sklearn\\gaussian_process\\kernels.py:411: ConvergenceWarning: The optimal value found for dimension 0 of parameter k2__noise_level is close to the specified upper bound 10.0. Increasing the bound and calling fit again may find a better value.\n",
      "  warnings.warn(\"The optimal value found for \"\n",
      "D:\\Program\\Anaconda3\\lib\\site-packages\\sklearn\\gaussian_process\\kernels.py:411: ConvergenceWarning: The optimal value found for dimension 0 of parameter k1__sigma_0 is close to the specified upper bound 1.0. Increasing the bound and calling fit again may find a better value.\n",
      "  warnings.warn(\"The optimal value found for \"\n"
     ]
    },
    {
     "name": "stdout",
     "output_type": "stream",
     "text": [
      "Accuracy after query 60: 0.7062\n",
      "41 [45874]\n"
     ]
    },
    {
     "name": "stderr",
     "output_type": "stream",
     "text": [
      "D:\\Program\\Anaconda3\\lib\\site-packages\\sklearn\\gaussian_process\\_gpc.py:448: ConvergenceWarning: lbfgs failed to converge (status=2):\n",
      "ABNORMAL_TERMINATION_IN_LNSRCH.\n",
      "\n",
      "Increase the number of iterations (max_iter) or scale the data as shown in:\n",
      "    https://scikit-learn.org/stable/modules/preprocessing.html\n",
      "  _check_optimize_result(\"lbfgs\", opt_res)\n",
      "D:\\Program\\Anaconda3\\lib\\site-packages\\sklearn\\gaussian_process\\kernels.py:411: ConvergenceWarning: The optimal value found for dimension 0 of parameter k2__noise_level is close to the specified upper bound 10.0. Increasing the bound and calling fit again may find a better value.\n",
      "  warnings.warn(\"The optimal value found for \"\n",
      "D:\\Program\\Anaconda3\\lib\\site-packages\\sklearn\\gaussian_process\\kernels.py:411: ConvergenceWarning: The optimal value found for dimension 0 of parameter k1__sigma_0 is close to the specified upper bound 1.0. Increasing the bound and calling fit again may find a better value.\n",
      "  warnings.warn(\"The optimal value found for \"\n"
     ]
    },
    {
     "name": "stdout",
     "output_type": "stream",
     "text": [
      "Accuracy after query 61: 0.7054\n",
      "23 [6047]\n"
     ]
    },
    {
     "name": "stderr",
     "output_type": "stream",
     "text": [
      "D:\\Program\\Anaconda3\\lib\\site-packages\\sklearn\\gaussian_process\\kernels.py:411: ConvergenceWarning: The optimal value found for dimension 0 of parameter k2__noise_level is close to the specified upper bound 10.0. Increasing the bound and calling fit again may find a better value.\n",
      "  warnings.warn(\"The optimal value found for \"\n",
      "D:\\Program\\Anaconda3\\lib\\site-packages\\sklearn\\gaussian_process\\kernels.py:411: ConvergenceWarning: The optimal value found for dimension 0 of parameter k1__sigma_0 is close to the specified upper bound 1.0. Increasing the bound and calling fit again may find a better value.\n",
      "  warnings.warn(\"The optimal value found for \"\n"
     ]
    },
    {
     "name": "stdout",
     "output_type": "stream",
     "text": [
      "Accuracy after query 62: 0.7066\n",
      "18 [21860]\n"
     ]
    },
    {
     "name": "stderr",
     "output_type": "stream",
     "text": [
      "D:\\Program\\Anaconda3\\lib\\site-packages\\sklearn\\gaussian_process\\kernels.py:411: ConvergenceWarning: The optimal value found for dimension 0 of parameter k2__noise_level is close to the specified upper bound 10.0. Increasing the bound and calling fit again may find a better value.\n",
      "  warnings.warn(\"The optimal value found for \"\n",
      "D:\\Program\\Anaconda3\\lib\\site-packages\\sklearn\\gaussian_process\\kernels.py:411: ConvergenceWarning: The optimal value found for dimension 0 of parameter k1__sigma_0 is close to the specified upper bound 1.0. Increasing the bound and calling fit again may find a better value.\n",
      "  warnings.warn(\"The optimal value found for \"\n"
     ]
    },
    {
     "name": "stdout",
     "output_type": "stream",
     "text": [
      "Accuracy after query 63: 0.7060\n",
      "3 [46260]\n"
     ]
    },
    {
     "name": "stderr",
     "output_type": "stream",
     "text": [
      "D:\\Program\\Anaconda3\\lib\\site-packages\\sklearn\\gaussian_process\\kernels.py:411: ConvergenceWarning: The optimal value found for dimension 0 of parameter k2__noise_level is close to the specified upper bound 10.0. Increasing the bound and calling fit again may find a better value.\n",
      "  warnings.warn(\"The optimal value found for \"\n",
      "D:\\Program\\Anaconda3\\lib\\site-packages\\sklearn\\gaussian_process\\kernels.py:411: ConvergenceWarning: The optimal value found for dimension 0 of parameter k1__sigma_0 is close to the specified upper bound 1.0. Increasing the bound and calling fit again may find a better value.\n",
      "  warnings.warn(\"The optimal value found for \"\n"
     ]
    },
    {
     "name": "stdout",
     "output_type": "stream",
     "text": [
      "Accuracy after query 64: 0.7070\n",
      "16 [15655]\n"
     ]
    },
    {
     "name": "stderr",
     "output_type": "stream",
     "text": [
      "D:\\Program\\Anaconda3\\lib\\site-packages\\sklearn\\gaussian_process\\kernels.py:411: ConvergenceWarning: The optimal value found for dimension 0 of parameter k2__noise_level is close to the specified upper bound 10.0. Increasing the bound and calling fit again may find a better value.\n",
      "  warnings.warn(\"The optimal value found for \"\n",
      "D:\\Program\\Anaconda3\\lib\\site-packages\\sklearn\\gaussian_process\\kernels.py:411: ConvergenceWarning: The optimal value found for dimension 0 of parameter k1__sigma_0 is close to the specified upper bound 1.0. Increasing the bound and calling fit again may find a better value.\n",
      "  warnings.warn(\"The optimal value found for \"\n"
     ]
    },
    {
     "name": "stdout",
     "output_type": "stream",
     "text": [
      "Accuracy after query 65: 0.7063\n",
      "32 [13370]\n"
     ]
    },
    {
     "name": "stderr",
     "output_type": "stream",
     "text": [
      "D:\\Program\\Anaconda3\\lib\\site-packages\\sklearn\\gaussian_process\\kernels.py:411: ConvergenceWarning: The optimal value found for dimension 0 of parameter k2__noise_level is close to the specified upper bound 10.0. Increasing the bound and calling fit again may find a better value.\n",
      "  warnings.warn(\"The optimal value found for \"\n",
      "D:\\Program\\Anaconda3\\lib\\site-packages\\sklearn\\gaussian_process\\kernels.py:411: ConvergenceWarning: The optimal value found for dimension 0 of parameter k1__sigma_0 is close to the specified upper bound 1.0. Increasing the bound and calling fit again may find a better value.\n",
      "  warnings.warn(\"The optimal value found for \"\n"
     ]
    },
    {
     "name": "stdout",
     "output_type": "stream",
     "text": [
      "Accuracy after query 66: 0.7074\n",
      "28 [18039]\n"
     ]
    },
    {
     "name": "stderr",
     "output_type": "stream",
     "text": [
      "D:\\Program\\Anaconda3\\lib\\site-packages\\sklearn\\gaussian_process\\kernels.py:411: ConvergenceWarning: The optimal value found for dimension 0 of parameter k2__noise_level is close to the specified upper bound 10.0. Increasing the bound and calling fit again may find a better value.\n",
      "  warnings.warn(\"The optimal value found for \"\n",
      "D:\\Program\\Anaconda3\\lib\\site-packages\\sklearn\\gaussian_process\\kernels.py:411: ConvergenceWarning: The optimal value found for dimension 0 of parameter k1__sigma_0 is close to the specified upper bound 1.0. Increasing the bound and calling fit again may find a better value.\n",
      "  warnings.warn(\"The optimal value found for \"\n"
     ]
    },
    {
     "name": "stdout",
     "output_type": "stream",
     "text": [
      "Accuracy after query 67: 0.7069\n",
      "78 [46037]\n"
     ]
    },
    {
     "name": "stderr",
     "output_type": "stream",
     "text": [
      "D:\\Program\\Anaconda3\\lib\\site-packages\\sklearn\\gaussian_process\\kernels.py:411: ConvergenceWarning: The optimal value found for dimension 0 of parameter k2__noise_level is close to the specified upper bound 10.0. Increasing the bound and calling fit again may find a better value.\n",
      "  warnings.warn(\"The optimal value found for \"\n",
      "D:\\Program\\Anaconda3\\lib\\site-packages\\sklearn\\gaussian_process\\kernels.py:411: ConvergenceWarning: The optimal value found for dimension 0 of parameter k1__sigma_0 is close to the specified upper bound 1.0. Increasing the bound and calling fit again may find a better value.\n",
      "  warnings.warn(\"The optimal value found for \"\n"
     ]
    },
    {
     "name": "stdout",
     "output_type": "stream",
     "text": [
      "Accuracy after query 68: 0.7076\n",
      "5 [20443]\n"
     ]
    },
    {
     "name": "stderr",
     "output_type": "stream",
     "text": [
      "D:\\Program\\Anaconda3\\lib\\site-packages\\sklearn\\gaussian_process\\kernels.py:411: ConvergenceWarning: The optimal value found for dimension 0 of parameter k2__noise_level is close to the specified upper bound 10.0. Increasing the bound and calling fit again may find a better value.\n",
      "  warnings.warn(\"The optimal value found for \"\n",
      "D:\\Program\\Anaconda3\\lib\\site-packages\\sklearn\\gaussian_process\\kernels.py:411: ConvergenceWarning: The optimal value found for dimension 0 of parameter k1__sigma_0 is close to the specified upper bound 1.0. Increasing the bound and calling fit again may find a better value.\n",
      "  warnings.warn(\"The optimal value found for \"\n"
     ]
    },
    {
     "name": "stdout",
     "output_type": "stream",
     "text": [
      "Accuracy after query 69: 0.7083\n",
      "98 [51832]\n"
     ]
    },
    {
     "name": "stderr",
     "output_type": "stream",
     "text": [
      "D:\\Program\\Anaconda3\\lib\\site-packages\\sklearn\\gaussian_process\\kernels.py:411: ConvergenceWarning: The optimal value found for dimension 0 of parameter k2__noise_level is close to the specified upper bound 10.0. Increasing the bound and calling fit again may find a better value.\n",
      "  warnings.warn(\"The optimal value found for \"\n",
      "D:\\Program\\Anaconda3\\lib\\site-packages\\sklearn\\gaussian_process\\kernels.py:411: ConvergenceWarning: The optimal value found for dimension 0 of parameter k1__sigma_0 is close to the specified upper bound 1.0. Increasing the bound and calling fit again may find a better value.\n",
      "  warnings.warn(\"The optimal value found for \"\n"
     ]
    },
    {
     "name": "stdout",
     "output_type": "stream",
     "text": [
      "Accuracy after query 70: 0.7086\n",
      "59 [48495]\n"
     ]
    },
    {
     "name": "stderr",
     "output_type": "stream",
     "text": [
      "D:\\Program\\Anaconda3\\lib\\site-packages\\sklearn\\gaussian_process\\kernels.py:411: ConvergenceWarning: The optimal value found for dimension 0 of parameter k2__noise_level is close to the specified upper bound 10.0. Increasing the bound and calling fit again may find a better value.\n",
      "  warnings.warn(\"The optimal value found for \"\n",
      "D:\\Program\\Anaconda3\\lib\\site-packages\\sklearn\\gaussian_process\\kernels.py:411: ConvergenceWarning: The optimal value found for dimension 0 of parameter k1__sigma_0 is close to the specified upper bound 1.0. Increasing the bound and calling fit again may find a better value.\n",
      "  warnings.warn(\"The optimal value found for \"\n"
     ]
    },
    {
     "name": "stdout",
     "output_type": "stream",
     "text": [
      "Accuracy after query 71: 0.7078\n",
      "6 [17535]\n"
     ]
    },
    {
     "name": "stderr",
     "output_type": "stream",
     "text": [
      "D:\\Program\\Anaconda3\\lib\\site-packages\\sklearn\\gaussian_process\\kernels.py:411: ConvergenceWarning: The optimal value found for dimension 0 of parameter k2__noise_level is close to the specified upper bound 10.0. Increasing the bound and calling fit again may find a better value.\n",
      "  warnings.warn(\"The optimal value found for \"\n",
      "D:\\Program\\Anaconda3\\lib\\site-packages\\sklearn\\gaussian_process\\kernels.py:411: ConvergenceWarning: The optimal value found for dimension 0 of parameter k1__sigma_0 is close to the specified upper bound 1.0. Increasing the bound and calling fit again may find a better value.\n",
      "  warnings.warn(\"The optimal value found for \"\n"
     ]
    },
    {
     "name": "stdout",
     "output_type": "stream",
     "text": [
      "Accuracy after query 72: 0.7093\n",
      "43 [8314]\n"
     ]
    },
    {
     "name": "stderr",
     "output_type": "stream",
     "text": [
      "D:\\Program\\Anaconda3\\lib\\site-packages\\sklearn\\gaussian_process\\kernels.py:411: ConvergenceWarning: The optimal value found for dimension 0 of parameter k2__noise_level is close to the specified upper bound 10.0. Increasing the bound and calling fit again may find a better value.\n",
      "  warnings.warn(\"The optimal value found for \"\n",
      "D:\\Program\\Anaconda3\\lib\\site-packages\\sklearn\\gaussian_process\\kernels.py:411: ConvergenceWarning: The optimal value found for dimension 0 of parameter k1__sigma_0 is close to the specified upper bound 1.0. Increasing the bound and calling fit again may find a better value.\n",
      "  warnings.warn(\"The optimal value found for \"\n"
     ]
    },
    {
     "name": "stdout",
     "output_type": "stream",
     "text": [
      "Accuracy after query 73: 0.7095\n",
      "34 [44104]\n"
     ]
    },
    {
     "name": "stderr",
     "output_type": "stream",
     "text": [
      "D:\\Program\\Anaconda3\\lib\\site-packages\\sklearn\\gaussian_process\\kernels.py:411: ConvergenceWarning: The optimal value found for dimension 0 of parameter k2__noise_level is close to the specified upper bound 10.0. Increasing the bound and calling fit again may find a better value.\n",
      "  warnings.warn(\"The optimal value found for \"\n",
      "D:\\Program\\Anaconda3\\lib\\site-packages\\sklearn\\gaussian_process\\kernels.py:411: ConvergenceWarning: The optimal value found for dimension 0 of parameter k1__sigma_0 is close to the specified upper bound 1.0. Increasing the bound and calling fit again may find a better value.\n",
      "  warnings.warn(\"The optimal value found for \"\n"
     ]
    },
    {
     "name": "stdout",
     "output_type": "stream",
     "text": [
      "Accuracy after query 74: 0.7098\n",
      "6 [23459]\n"
     ]
    },
    {
     "name": "stderr",
     "output_type": "stream",
     "text": [
      "D:\\Program\\Anaconda3\\lib\\site-packages\\sklearn\\gaussian_process\\kernels.py:411: ConvergenceWarning: The optimal value found for dimension 0 of parameter k2__noise_level is close to the specified upper bound 10.0. Increasing the bound and calling fit again may find a better value.\n",
      "  warnings.warn(\"The optimal value found for \"\n",
      "D:\\Program\\Anaconda3\\lib\\site-packages\\sklearn\\gaussian_process\\kernels.py:411: ConvergenceWarning: The optimal value found for dimension 0 of parameter k1__sigma_0 is close to the specified upper bound 1.0. Increasing the bound and calling fit again may find a better value.\n",
      "  warnings.warn(\"The optimal value found for \"\n"
     ]
    },
    {
     "name": "stdout",
     "output_type": "stream",
     "text": [
      "Accuracy after query 75: 0.7102\n",
      "19 [9834]\n"
     ]
    },
    {
     "name": "stderr",
     "output_type": "stream",
     "text": [
      "D:\\Program\\Anaconda3\\lib\\site-packages\\sklearn\\gaussian_process\\kernels.py:411: ConvergenceWarning: The optimal value found for dimension 0 of parameter k2__noise_level is close to the specified upper bound 10.0. Increasing the bound and calling fit again may find a better value.\n",
      "  warnings.warn(\"The optimal value found for \"\n",
      "D:\\Program\\Anaconda3\\lib\\site-packages\\sklearn\\gaussian_process\\kernels.py:411: ConvergenceWarning: The optimal value found for dimension 0 of parameter k1__sigma_0 is close to the specified upper bound 1.0. Increasing the bound and calling fit again may find a better value.\n",
      "  warnings.warn(\"The optimal value found for \"\n"
     ]
    },
    {
     "name": "stdout",
     "output_type": "stream",
     "text": [
      "Accuracy after query 76: 0.7108\n",
      "56 [14255]\n"
     ]
    },
    {
     "name": "stderr",
     "output_type": "stream",
     "text": [
      "D:\\Program\\Anaconda3\\lib\\site-packages\\sklearn\\gaussian_process\\kernels.py:411: ConvergenceWarning: The optimal value found for dimension 0 of parameter k2__noise_level is close to the specified upper bound 10.0. Increasing the bound and calling fit again may find a better value.\n",
      "  warnings.warn(\"The optimal value found for \"\n",
      "D:\\Program\\Anaconda3\\lib\\site-packages\\sklearn\\gaussian_process\\kernels.py:411: ConvergenceWarning: The optimal value found for dimension 0 of parameter k1__sigma_0 is close to the specified upper bound 1.0. Increasing the bound and calling fit again may find a better value.\n",
      "  warnings.warn(\"The optimal value found for \"\n"
     ]
    },
    {
     "name": "stdout",
     "output_type": "stream",
     "text": [
      "Accuracy after query 77: 0.7124\n",
      "63 [13518]\n"
     ]
    },
    {
     "name": "stderr",
     "output_type": "stream",
     "text": [
      "D:\\Program\\Anaconda3\\lib\\site-packages\\sklearn\\gaussian_process\\kernels.py:411: ConvergenceWarning: The optimal value found for dimension 0 of parameter k2__noise_level is close to the specified upper bound 10.0. Increasing the bound and calling fit again may find a better value.\n",
      "  warnings.warn(\"The optimal value found for \"\n",
      "D:\\Program\\Anaconda3\\lib\\site-packages\\sklearn\\gaussian_process\\kernels.py:411: ConvergenceWarning: The optimal value found for dimension 0 of parameter k1__sigma_0 is close to the specified upper bound 1.0. Increasing the bound and calling fit again may find a better value.\n",
      "  warnings.warn(\"The optimal value found for \"\n"
     ]
    },
    {
     "name": "stdout",
     "output_type": "stream",
     "text": [
      "Accuracy after query 78: 0.7137\n",
      "59 [40336]\n"
     ]
    },
    {
     "name": "stderr",
     "output_type": "stream",
     "text": [
      "D:\\Program\\Anaconda3\\lib\\site-packages\\sklearn\\gaussian_process\\kernels.py:411: ConvergenceWarning: The optimal value found for dimension 0 of parameter k2__noise_level is close to the specified upper bound 10.0. Increasing the bound and calling fit again may find a better value.\n",
      "  warnings.warn(\"The optimal value found for \"\n",
      "D:\\Program\\Anaconda3\\lib\\site-packages\\sklearn\\gaussian_process\\kernels.py:411: ConvergenceWarning: The optimal value found for dimension 0 of parameter k1__sigma_0 is close to the specified upper bound 1.0. Increasing the bound and calling fit again may find a better value.\n",
      "  warnings.warn(\"The optimal value found for \"\n"
     ]
    },
    {
     "name": "stdout",
     "output_type": "stream",
     "text": [
      "Accuracy after query 79: 0.7126\n",
      "43 [38161]\n"
     ]
    },
    {
     "name": "stderr",
     "output_type": "stream",
     "text": [
      "D:\\Program\\Anaconda3\\lib\\site-packages\\sklearn\\gaussian_process\\kernels.py:411: ConvergenceWarning: The optimal value found for dimension 0 of parameter k2__noise_level is close to the specified upper bound 10.0. Increasing the bound and calling fit again may find a better value.\n",
      "  warnings.warn(\"The optimal value found for \"\n",
      "D:\\Program\\Anaconda3\\lib\\site-packages\\sklearn\\gaussian_process\\kernels.py:411: ConvergenceWarning: The optimal value found for dimension 0 of parameter k1__sigma_0 is close to the specified upper bound 1.0. Increasing the bound and calling fit again may find a better value.\n",
      "  warnings.warn(\"The optimal value found for \"\n"
     ]
    },
    {
     "name": "stdout",
     "output_type": "stream",
     "text": [
      "Accuracy after query 80: 0.7126\n",
      "72 [14799]\n"
     ]
    },
    {
     "name": "stderr",
     "output_type": "stream",
     "text": [
      "D:\\Program\\Anaconda3\\lib\\site-packages\\sklearn\\gaussian_process\\kernels.py:411: ConvergenceWarning: The optimal value found for dimension 0 of parameter k2__noise_level is close to the specified upper bound 10.0. Increasing the bound and calling fit again may find a better value.\n",
      "  warnings.warn(\"The optimal value found for \"\n",
      "D:\\Program\\Anaconda3\\lib\\site-packages\\sklearn\\gaussian_process\\kernels.py:411: ConvergenceWarning: The optimal value found for dimension 0 of parameter k1__sigma_0 is close to the specified upper bound 1.0. Increasing the bound and calling fit again may find a better value.\n",
      "  warnings.warn(\"The optimal value found for \"\n"
     ]
    },
    {
     "name": "stdout",
     "output_type": "stream",
     "text": [
      "Accuracy after query 81: 0.7117\n",
      "8 [3545]\n"
     ]
    },
    {
     "name": "stderr",
     "output_type": "stream",
     "text": [
      "D:\\Program\\Anaconda3\\lib\\site-packages\\sklearn\\gaussian_process\\kernels.py:411: ConvergenceWarning: The optimal value found for dimension 0 of parameter k2__noise_level is close to the specified upper bound 10.0. Increasing the bound and calling fit again may find a better value.\n",
      "  warnings.warn(\"The optimal value found for \"\n",
      "D:\\Program\\Anaconda3\\lib\\site-packages\\sklearn\\gaussian_process\\kernels.py:411: ConvergenceWarning: The optimal value found for dimension 0 of parameter k1__sigma_0 is close to the specified upper bound 1.0. Increasing the bound and calling fit again may find a better value.\n",
      "  warnings.warn(\"The optimal value found for \"\n"
     ]
    },
    {
     "name": "stdout",
     "output_type": "stream",
     "text": [
      "Accuracy after query 82: 0.7110\n",
      "7 [35042]\n"
     ]
    },
    {
     "name": "stderr",
     "output_type": "stream",
     "text": [
      "D:\\Program\\Anaconda3\\lib\\site-packages\\sklearn\\gaussian_process\\kernels.py:411: ConvergenceWarning: The optimal value found for dimension 0 of parameter k2__noise_level is close to the specified upper bound 10.0. Increasing the bound and calling fit again may find a better value.\n",
      "  warnings.warn(\"The optimal value found for \"\n",
      "D:\\Program\\Anaconda3\\lib\\site-packages\\sklearn\\gaussian_process\\kernels.py:411: ConvergenceWarning: The optimal value found for dimension 0 of parameter k1__sigma_0 is close to the specified upper bound 1.0. Increasing the bound and calling fit again may find a better value.\n",
      "  warnings.warn(\"The optimal value found for \"\n"
     ]
    },
    {
     "name": "stdout",
     "output_type": "stream",
     "text": [
      "Accuracy after query 83: 0.7110\n",
      "71 [29128]\n"
     ]
    },
    {
     "name": "stderr",
     "output_type": "stream",
     "text": [
      "D:\\Program\\Anaconda3\\lib\\site-packages\\sklearn\\gaussian_process\\kernels.py:411: ConvergenceWarning: The optimal value found for dimension 0 of parameter k2__noise_level is close to the specified upper bound 10.0. Increasing the bound and calling fit again may find a better value.\n",
      "  warnings.warn(\"The optimal value found for \"\n",
      "D:\\Program\\Anaconda3\\lib\\site-packages\\sklearn\\gaussian_process\\kernels.py:411: ConvergenceWarning: The optimal value found for dimension 0 of parameter k1__sigma_0 is close to the specified upper bound 1.0. Increasing the bound and calling fit again may find a better value.\n",
      "  warnings.warn(\"The optimal value found for \"\n"
     ]
    },
    {
     "name": "stdout",
     "output_type": "stream",
     "text": [
      "Accuracy after query 84: 0.7117\n",
      "54 [41820]\n"
     ]
    },
    {
     "name": "stderr",
     "output_type": "stream",
     "text": [
      "D:\\Program\\Anaconda3\\lib\\site-packages\\sklearn\\gaussian_process\\kernels.py:411: ConvergenceWarning: The optimal value found for dimension 0 of parameter k2__noise_level is close to the specified upper bound 10.0. Increasing the bound and calling fit again may find a better value.\n",
      "  warnings.warn(\"The optimal value found for \"\n",
      "D:\\Program\\Anaconda3\\lib\\site-packages\\sklearn\\gaussian_process\\kernels.py:411: ConvergenceWarning: The optimal value found for dimension 0 of parameter k1__sigma_0 is close to the specified upper bound 1.0. Increasing the bound and calling fit again may find a better value.\n",
      "  warnings.warn(\"The optimal value found for \"\n"
     ]
    },
    {
     "name": "stdout",
     "output_type": "stream",
     "text": [
      "Accuracy after query 85: 0.7121\n",
      "25 [16610]\n"
     ]
    },
    {
     "name": "stderr",
     "output_type": "stream",
     "text": [
      "D:\\Program\\Anaconda3\\lib\\site-packages\\sklearn\\gaussian_process\\kernels.py:411: ConvergenceWarning: The optimal value found for dimension 0 of parameter k2__noise_level is close to the specified upper bound 10.0. Increasing the bound and calling fit again may find a better value.\n",
      "  warnings.warn(\"The optimal value found for \"\n",
      "D:\\Program\\Anaconda3\\lib\\site-packages\\sklearn\\gaussian_process\\kernels.py:411: ConvergenceWarning: The optimal value found for dimension 0 of parameter k1__sigma_0 is close to the specified upper bound 1.0. Increasing the bound and calling fit again may find a better value.\n",
      "  warnings.warn(\"The optimal value found for \"\n"
     ]
    },
    {
     "name": "stdout",
     "output_type": "stream",
     "text": [
      "Accuracy after query 86: 0.7126\n",
      "73 [48602]\n"
     ]
    },
    {
     "name": "stderr",
     "output_type": "stream",
     "text": [
      "D:\\Program\\Anaconda3\\lib\\site-packages\\sklearn\\gaussian_process\\kernels.py:411: ConvergenceWarning: The optimal value found for dimension 0 of parameter k2__noise_level is close to the specified upper bound 10.0. Increasing the bound and calling fit again may find a better value.\n",
      "  warnings.warn(\"The optimal value found for \"\n",
      "D:\\Program\\Anaconda3\\lib\\site-packages\\sklearn\\gaussian_process\\kernels.py:411: ConvergenceWarning: The optimal value found for dimension 0 of parameter k1__sigma_0 is close to the specified upper bound 1.0. Increasing the bound and calling fit again may find a better value.\n",
      "  warnings.warn(\"The optimal value found for \"\n"
     ]
    },
    {
     "name": "stdout",
     "output_type": "stream",
     "text": [
      "Accuracy after query 87: 0.7127\n",
      "98 [42183]\n"
     ]
    },
    {
     "name": "stderr",
     "output_type": "stream",
     "text": [
      "D:\\Program\\Anaconda3\\lib\\site-packages\\sklearn\\gaussian_process\\kernels.py:411: ConvergenceWarning: The optimal value found for dimension 0 of parameter k2__noise_level is close to the specified upper bound 10.0. Increasing the bound and calling fit again may find a better value.\n",
      "  warnings.warn(\"The optimal value found for \"\n",
      "D:\\Program\\Anaconda3\\lib\\site-packages\\sklearn\\gaussian_process\\kernels.py:411: ConvergenceWarning: The optimal value found for dimension 0 of parameter k1__sigma_0 is close to the specified upper bound 1.0. Increasing the bound and calling fit again may find a better value.\n",
      "  warnings.warn(\"The optimal value found for \"\n"
     ]
    },
    {
     "name": "stdout",
     "output_type": "stream",
     "text": [
      "Accuracy after query 88: 0.7127\n",
      "56 [26844]\n"
     ]
    },
    {
     "name": "stderr",
     "output_type": "stream",
     "text": [
      "D:\\Program\\Anaconda3\\lib\\site-packages\\sklearn\\gaussian_process\\kernels.py:411: ConvergenceWarning: The optimal value found for dimension 0 of parameter k2__noise_level is close to the specified upper bound 10.0. Increasing the bound and calling fit again may find a better value.\n",
      "  warnings.warn(\"The optimal value found for \"\n",
      "D:\\Program\\Anaconda3\\lib\\site-packages\\sklearn\\gaussian_process\\kernels.py:411: ConvergenceWarning: The optimal value found for dimension 0 of parameter k1__sigma_0 is close to the specified upper bound 1.0. Increasing the bound and calling fit again may find a better value.\n",
      "  warnings.warn(\"The optimal value found for \"\n"
     ]
    },
    {
     "name": "stdout",
     "output_type": "stream",
     "text": [
      "Accuracy after query 89: 0.7126\n",
      "33 [32953]\n"
     ]
    },
    {
     "name": "stderr",
     "output_type": "stream",
     "text": [
      "D:\\Program\\Anaconda3\\lib\\site-packages\\sklearn\\gaussian_process\\kernels.py:411: ConvergenceWarning: The optimal value found for dimension 0 of parameter k2__noise_level is close to the specified upper bound 10.0. Increasing the bound and calling fit again may find a better value.\n",
      "  warnings.warn(\"The optimal value found for \"\n",
      "D:\\Program\\Anaconda3\\lib\\site-packages\\sklearn\\gaussian_process\\kernels.py:411: ConvergenceWarning: The optimal value found for dimension 0 of parameter k1__sigma_0 is close to the specified upper bound 1.0. Increasing the bound and calling fit again may find a better value.\n",
      "  warnings.warn(\"The optimal value found for \"\n"
     ]
    },
    {
     "name": "stdout",
     "output_type": "stream",
     "text": [
      "Accuracy after query 90: 0.7132\n",
      "4 [13212]\n"
     ]
    },
    {
     "name": "stderr",
     "output_type": "stream",
     "text": [
      "D:\\Program\\Anaconda3\\lib\\site-packages\\sklearn\\gaussian_process\\kernels.py:411: ConvergenceWarning: The optimal value found for dimension 0 of parameter k2__noise_level is close to the specified upper bound 10.0. Increasing the bound and calling fit again may find a better value.\n",
      "  warnings.warn(\"The optimal value found for \"\n",
      "D:\\Program\\Anaconda3\\lib\\site-packages\\sklearn\\gaussian_process\\kernels.py:411: ConvergenceWarning: The optimal value found for dimension 0 of parameter k1__sigma_0 is close to the specified upper bound 1.0. Increasing the bound and calling fit again may find a better value.\n",
      "  warnings.warn(\"The optimal value found for \"\n"
     ]
    },
    {
     "name": "stdout",
     "output_type": "stream",
     "text": [
      "Accuracy after query 91: 0.7138\n",
      "32 [40789]\n"
     ]
    },
    {
     "name": "stderr",
     "output_type": "stream",
     "text": [
      "D:\\Program\\Anaconda3\\lib\\site-packages\\sklearn\\gaussian_process\\kernels.py:411: ConvergenceWarning: The optimal value found for dimension 0 of parameter k2__noise_level is close to the specified upper bound 10.0. Increasing the bound and calling fit again may find a better value.\n",
      "  warnings.warn(\"The optimal value found for \"\n",
      "D:\\Program\\Anaconda3\\lib\\site-packages\\sklearn\\gaussian_process\\kernels.py:411: ConvergenceWarning: The optimal value found for dimension 0 of parameter k1__sigma_0 is close to the specified upper bound 1.0. Increasing the bound and calling fit again may find a better value.\n",
      "  warnings.warn(\"The optimal value found for \"\n"
     ]
    },
    {
     "name": "stdout",
     "output_type": "stream",
     "text": [
      "Accuracy after query 92: 0.7145\n",
      "0 [56092]\n"
     ]
    },
    {
     "name": "stderr",
     "output_type": "stream",
     "text": [
      "D:\\Program\\Anaconda3\\lib\\site-packages\\sklearn\\gaussian_process\\kernels.py:411: ConvergenceWarning: The optimal value found for dimension 0 of parameter k2__noise_level is close to the specified upper bound 10.0. Increasing the bound and calling fit again may find a better value.\n",
      "  warnings.warn(\"The optimal value found for \"\n",
      "D:\\Program\\Anaconda3\\lib\\site-packages\\sklearn\\gaussian_process\\kernels.py:411: ConvergenceWarning: The optimal value found for dimension 0 of parameter k1__sigma_0 is close to the specified upper bound 1.0. Increasing the bound and calling fit again may find a better value.\n",
      "  warnings.warn(\"The optimal value found for \"\n"
     ]
    },
    {
     "name": "stdout",
     "output_type": "stream",
     "text": [
      "Accuracy after query 93: 0.7152\n",
      "45 [29571]\n"
     ]
    },
    {
     "name": "stderr",
     "output_type": "stream",
     "text": [
      "D:\\Program\\Anaconda3\\lib\\site-packages\\sklearn\\gaussian_process\\kernels.py:411: ConvergenceWarning: The optimal value found for dimension 0 of parameter k2__noise_level is close to the specified upper bound 10.0. Increasing the bound and calling fit again may find a better value.\n",
      "  warnings.warn(\"The optimal value found for \"\n",
      "D:\\Program\\Anaconda3\\lib\\site-packages\\sklearn\\gaussian_process\\kernels.py:411: ConvergenceWarning: The optimal value found for dimension 0 of parameter k1__sigma_0 is close to the specified upper bound 1.0. Increasing the bound and calling fit again may find a better value.\n",
      "  warnings.warn(\"The optimal value found for \"\n"
     ]
    },
    {
     "name": "stdout",
     "output_type": "stream",
     "text": [
      "Accuracy after query 94: 0.7148\n",
      "11 [22531]\n"
     ]
    },
    {
     "name": "stderr",
     "output_type": "stream",
     "text": [
      "D:\\Program\\Anaconda3\\lib\\site-packages\\sklearn\\gaussian_process\\kernels.py:411: ConvergenceWarning: The optimal value found for dimension 0 of parameter k2__noise_level is close to the specified upper bound 10.0. Increasing the bound and calling fit again may find a better value.\n",
      "  warnings.warn(\"The optimal value found for \"\n",
      "D:\\Program\\Anaconda3\\lib\\site-packages\\sklearn\\gaussian_process\\kernels.py:411: ConvergenceWarning: The optimal value found for dimension 0 of parameter k1__sigma_0 is close to the specified upper bound 1.0. Increasing the bound and calling fit again may find a better value.\n",
      "  warnings.warn(\"The optimal value found for \"\n"
     ]
    },
    {
     "name": "stdout",
     "output_type": "stream",
     "text": [
      "Accuracy after query 95: 0.7140\n",
      "18 [17434]\n"
     ]
    },
    {
     "name": "stderr",
     "output_type": "stream",
     "text": [
      "D:\\Program\\Anaconda3\\lib\\site-packages\\sklearn\\gaussian_process\\kernels.py:411: ConvergenceWarning: The optimal value found for dimension 0 of parameter k2__noise_level is close to the specified upper bound 10.0. Increasing the bound and calling fit again may find a better value.\n",
      "  warnings.warn(\"The optimal value found for \"\n",
      "D:\\Program\\Anaconda3\\lib\\site-packages\\sklearn\\gaussian_process\\kernels.py:411: ConvergenceWarning: The optimal value found for dimension 0 of parameter k1__sigma_0 is close to the specified upper bound 1.0. Increasing the bound and calling fit again may find a better value.\n",
      "  warnings.warn(\"The optimal value found for \"\n"
     ]
    },
    {
     "name": "stdout",
     "output_type": "stream",
     "text": [
      "Accuracy after query 96: 0.7136\n",
      "69 [22871]\n"
     ]
    },
    {
     "name": "stderr",
     "output_type": "stream",
     "text": [
      "D:\\Program\\Anaconda3\\lib\\site-packages\\sklearn\\gaussian_process\\kernels.py:411: ConvergenceWarning: The optimal value found for dimension 0 of parameter k2__noise_level is close to the specified upper bound 10.0. Increasing the bound and calling fit again may find a better value.\n",
      "  warnings.warn(\"The optimal value found for \"\n",
      "D:\\Program\\Anaconda3\\lib\\site-packages\\sklearn\\gaussian_process\\kernels.py:411: ConvergenceWarning: The optimal value found for dimension 0 of parameter k1__sigma_0 is close to the specified upper bound 1.0. Increasing the bound and calling fit again may find a better value.\n",
      "  warnings.warn(\"The optimal value found for \"\n"
     ]
    },
    {
     "name": "stdout",
     "output_type": "stream",
     "text": [
      "Accuracy after query 97: 0.7141\n",
      "65 [48378]\n"
     ]
    },
    {
     "name": "stderr",
     "output_type": "stream",
     "text": [
      "D:\\Program\\Anaconda3\\lib\\site-packages\\sklearn\\gaussian_process\\kernels.py:411: ConvergenceWarning: The optimal value found for dimension 0 of parameter k2__noise_level is close to the specified upper bound 10.0. Increasing the bound and calling fit again may find a better value.\n",
      "  warnings.warn(\"The optimal value found for \"\n",
      "D:\\Program\\Anaconda3\\lib\\site-packages\\sklearn\\gaussian_process\\kernels.py:411: ConvergenceWarning: The optimal value found for dimension 0 of parameter k1__sigma_0 is close to the specified upper bound 1.0. Increasing the bound and calling fit again may find a better value.\n",
      "  warnings.warn(\"The optimal value found for \"\n"
     ]
    },
    {
     "name": "stdout",
     "output_type": "stream",
     "text": [
      "Accuracy after query 98: 0.7151\n",
      "65 [46863]\n"
     ]
    },
    {
     "name": "stderr",
     "output_type": "stream",
     "text": [
      "D:\\Program\\Anaconda3\\lib\\site-packages\\sklearn\\gaussian_process\\kernels.py:411: ConvergenceWarning: The optimal value found for dimension 0 of parameter k2__noise_level is close to the specified upper bound 10.0. Increasing the bound and calling fit again may find a better value.\n",
      "  warnings.warn(\"The optimal value found for \"\n",
      "D:\\Program\\Anaconda3\\lib\\site-packages\\sklearn\\gaussian_process\\kernels.py:411: ConvergenceWarning: The optimal value found for dimension 0 of parameter k1__sigma_0 is close to the specified upper bound 1.0. Increasing the bound and calling fit again may find a better value.\n",
      "  warnings.warn(\"The optimal value found for \"\n"
     ]
    },
    {
     "name": "stdout",
     "output_type": "stream",
     "text": [
      "Accuracy after query 99: 0.7158\n",
      "34 [46098]\n"
     ]
    },
    {
     "name": "stderr",
     "output_type": "stream",
     "text": [
      "D:\\Program\\Anaconda3\\lib\\site-packages\\sklearn\\gaussian_process\\kernels.py:411: ConvergenceWarning: The optimal value found for dimension 0 of parameter k2__noise_level is close to the specified upper bound 10.0. Increasing the bound and calling fit again may find a better value.\n",
      "  warnings.warn(\"The optimal value found for \"\n",
      "D:\\Program\\Anaconda3\\lib\\site-packages\\sklearn\\gaussian_process\\kernels.py:411: ConvergenceWarning: The optimal value found for dimension 0 of parameter k1__sigma_0 is close to the specified upper bound 1.0. Increasing the bound and calling fit again may find a better value.\n",
      "  warnings.warn(\"The optimal value found for \"\n"
     ]
    },
    {
     "name": "stdout",
     "output_type": "stream",
     "text": [
      "Accuracy after query 100: 0.7166\n",
      "(58900, 784)\n"
     ]
    }
   ],
   "source": [
    "# done!\n",
    "X_pool = np.delete(X_train, initial_idx_1000, axis=0)\n",
    "y_pool = np.delete(y_train, initial_idx_1000, axis=0)\n",
    "X_list = [X_test, X_pool, X_initial_1000]\n",
    "X_test_re, X_pool_re, X_initial_re_1000 = img_reshape(X_list)\n",
    "\n",
    "device = \"cuda\" if torch.cuda.is_available() else \"cpu\"\n",
    "gpc = GaussianProcessClassifier(kernel=kernel, n_restarts_optimizer=10)\n",
    "estimator = gpc\n",
    "  \n",
    "GPC_perf_hist = active_learning_procedure(bald_gpc,\n",
    "                                          X_test_re,\n",
    "                                          y_test,\n",
    "                                          X_pool_re,\n",
    "                                          y_pool,\n",
    "                                          X_initial_re_1000,\n",
    "                                          y_initial_1000,\n",
    "                                          estimator,\n",
    "                                          n_queries=100,\n",
    "                                          n_instances=1\n",
    "                                         )\n",
    "np.save('D:/Studium/WiSe2021/SA/Project/run_adlr/GPC_baldgpc_1000_100x1.npy', GPC_perf_hist)"
   ]
  },
  {
   "cell_type": "code",
   "execution_count": 57,
   "metadata": {
    "collapsed": true,
    "jupyter": {
     "outputs_hidden": true,
     "source_hidden": true
    },
    "tags": []
   },
   "outputs": [
    {
     "name": "stderr",
     "output_type": "stream",
     "text": [
      "D:\\Program\\Anaconda3\\lib\\site-packages\\sklearn\\gaussian_process\\kernels.py:411: ConvergenceWarning: The optimal value found for dimension 0 of parameter k1__sigma_0 is close to the specified upper bound 1.0. Increasing the bound and calling fit again may find a better value.\n",
      "  warnings.warn(\"The optimal value found for \"\n",
      "D:\\Program\\Anaconda3\\lib\\site-packages\\sklearn\\gaussian_process\\kernels.py:411: ConvergenceWarning: The optimal value found for dimension 0 of parameter k2__noise_level is close to the specified upper bound 10.0. Increasing the bound and calling fit again may find a better value.\n",
      "  warnings.warn(\"The optimal value found for \"\n"
     ]
    },
    {
     "name": "stdout",
     "output_type": "stream",
     "text": [
      "(59000, 784)\n"
     ]
    },
    {
     "name": "stderr",
     "output_type": "stream",
     "text": [
      "D:\\Program\\Anaconda3\\lib\\site-packages\\sklearn\\gaussian_process\\kernels.py:411: ConvergenceWarning: The optimal value found for dimension 0 of parameter k1__sigma_0 is close to the specified upper bound 1.0. Increasing the bound and calling fit again may find a better value.\n",
      "  warnings.warn(\"The optimal value found for \"\n",
      "D:\\Program\\Anaconda3\\lib\\site-packages\\sklearn\\gaussian_process\\kernels.py:411: ConvergenceWarning: The optimal value found for dimension 0 of parameter k2__noise_level is close to the specified upper bound 10.0. Increasing the bound and calling fit again may find a better value.\n",
      "  warnings.warn(\"The optimal value found for \"\n"
     ]
    },
    {
     "name": "stdout",
     "output_type": "stream",
     "text": [
      "Accuracy after query 1: 0.6749\n"
     ]
    },
    {
     "name": "stderr",
     "output_type": "stream",
     "text": [
      "D:\\Program\\Anaconda3\\lib\\site-packages\\sklearn\\gaussian_process\\kernels.py:411: ConvergenceWarning: The optimal value found for dimension 0 of parameter k1__sigma_0 is close to the specified upper bound 1.0. Increasing the bound and calling fit again may find a better value.\n",
      "  warnings.warn(\"The optimal value found for \"\n",
      "D:\\Program\\Anaconda3\\lib\\site-packages\\sklearn\\gaussian_process\\kernels.py:411: ConvergenceWarning: The optimal value found for dimension 0 of parameter k2__noise_level is close to the specified upper bound 10.0. Increasing the bound and calling fit again may find a better value.\n",
      "  warnings.warn(\"The optimal value found for \"\n"
     ]
    },
    {
     "name": "stdout",
     "output_type": "stream",
     "text": [
      "Accuracy after query 2: 0.6752\n"
     ]
    },
    {
     "name": "stderr",
     "output_type": "stream",
     "text": [
      "D:\\Program\\Anaconda3\\lib\\site-packages\\sklearn\\gaussian_process\\kernels.py:411: ConvergenceWarning: The optimal value found for dimension 0 of parameter k1__sigma_0 is close to the specified upper bound 1.0. Increasing the bound and calling fit again may find a better value.\n",
      "  warnings.warn(\"The optimal value found for \"\n",
      "D:\\Program\\Anaconda3\\lib\\site-packages\\sklearn\\gaussian_process\\kernels.py:411: ConvergenceWarning: The optimal value found for dimension 0 of parameter k2__noise_level is close to the specified upper bound 10.0. Increasing the bound and calling fit again may find a better value.\n",
      "  warnings.warn(\"The optimal value found for \"\n"
     ]
    },
    {
     "name": "stdout",
     "output_type": "stream",
     "text": [
      "Accuracy after query 3: 0.6743\n"
     ]
    },
    {
     "name": "stderr",
     "output_type": "stream",
     "text": [
      "D:\\Program\\Anaconda3\\lib\\site-packages\\sklearn\\gaussian_process\\kernels.py:411: ConvergenceWarning: The optimal value found for dimension 0 of parameter k1__sigma_0 is close to the specified upper bound 1.0. Increasing the bound and calling fit again may find a better value.\n",
      "  warnings.warn(\"The optimal value found for \"\n",
      "D:\\Program\\Anaconda3\\lib\\site-packages\\sklearn\\gaussian_process\\kernels.py:411: ConvergenceWarning: The optimal value found for dimension 0 of parameter k2__noise_level is close to the specified upper bound 10.0. Increasing the bound and calling fit again may find a better value.\n",
      "  warnings.warn(\"The optimal value found for \"\n"
     ]
    },
    {
     "name": "stdout",
     "output_type": "stream",
     "text": [
      "Accuracy after query 4: 0.6749\n"
     ]
    },
    {
     "name": "stderr",
     "output_type": "stream",
     "text": [
      "D:\\Program\\Anaconda3\\lib\\site-packages\\sklearn\\gaussian_process\\kernels.py:411: ConvergenceWarning: The optimal value found for dimension 0 of parameter k1__sigma_0 is close to the specified upper bound 1.0. Increasing the bound and calling fit again may find a better value.\n",
      "  warnings.warn(\"The optimal value found for \"\n",
      "D:\\Program\\Anaconda3\\lib\\site-packages\\sklearn\\gaussian_process\\kernels.py:411: ConvergenceWarning: The optimal value found for dimension 0 of parameter k2__noise_level is close to the specified upper bound 10.0. Increasing the bound and calling fit again may find a better value.\n",
      "  warnings.warn(\"The optimal value found for \"\n"
     ]
    },
    {
     "name": "stdout",
     "output_type": "stream",
     "text": [
      "Accuracy after query 5: 0.6768\n"
     ]
    },
    {
     "name": "stderr",
     "output_type": "stream",
     "text": [
      "D:\\Program\\Anaconda3\\lib\\site-packages\\sklearn\\gaussian_process\\kernels.py:411: ConvergenceWarning: The optimal value found for dimension 0 of parameter k1__sigma_0 is close to the specified upper bound 1.0. Increasing the bound and calling fit again may find a better value.\n",
      "  warnings.warn(\"The optimal value found for \"\n",
      "D:\\Program\\Anaconda3\\lib\\site-packages\\sklearn\\gaussian_process\\kernels.py:411: ConvergenceWarning: The optimal value found for dimension 0 of parameter k2__noise_level is close to the specified upper bound 10.0. Increasing the bound and calling fit again may find a better value.\n",
      "  warnings.warn(\"The optimal value found for \"\n"
     ]
    },
    {
     "name": "stdout",
     "output_type": "stream",
     "text": [
      "Accuracy after query 6: 0.6777\n"
     ]
    },
    {
     "name": "stderr",
     "output_type": "stream",
     "text": [
      "D:\\Program\\Anaconda3\\lib\\site-packages\\sklearn\\gaussian_process\\kernels.py:411: ConvergenceWarning: The optimal value found for dimension 0 of parameter k1__sigma_0 is close to the specified upper bound 1.0. Increasing the bound and calling fit again may find a better value.\n",
      "  warnings.warn(\"The optimal value found for \"\n",
      "D:\\Program\\Anaconda3\\lib\\site-packages\\sklearn\\gaussian_process\\kernels.py:411: ConvergenceWarning: The optimal value found for dimension 0 of parameter k2__noise_level is close to the specified upper bound 10.0. Increasing the bound and calling fit again may find a better value.\n",
      "  warnings.warn(\"The optimal value found for \"\n"
     ]
    },
    {
     "name": "stdout",
     "output_type": "stream",
     "text": [
      "Accuracy after query 7: 0.6773\n"
     ]
    },
    {
     "name": "stderr",
     "output_type": "stream",
     "text": [
      "D:\\Program\\Anaconda3\\lib\\site-packages\\sklearn\\gaussian_process\\kernels.py:411: ConvergenceWarning: The optimal value found for dimension 0 of parameter k1__sigma_0 is close to the specified upper bound 1.0. Increasing the bound and calling fit again may find a better value.\n",
      "  warnings.warn(\"The optimal value found for \"\n",
      "D:\\Program\\Anaconda3\\lib\\site-packages\\sklearn\\gaussian_process\\kernels.py:411: ConvergenceWarning: The optimal value found for dimension 0 of parameter k2__noise_level is close to the specified upper bound 10.0. Increasing the bound and calling fit again may find a better value.\n",
      "  warnings.warn(\"The optimal value found for \"\n"
     ]
    },
    {
     "name": "stdout",
     "output_type": "stream",
     "text": [
      "Accuracy after query 8: 0.6798\n"
     ]
    },
    {
     "name": "stderr",
     "output_type": "stream",
     "text": [
      "D:\\Program\\Anaconda3\\lib\\site-packages\\sklearn\\gaussian_process\\kernels.py:411: ConvergenceWarning: The optimal value found for dimension 0 of parameter k1__sigma_0 is close to the specified upper bound 1.0. Increasing the bound and calling fit again may find a better value.\n",
      "  warnings.warn(\"The optimal value found for \"\n",
      "D:\\Program\\Anaconda3\\lib\\site-packages\\sklearn\\gaussian_process\\kernels.py:411: ConvergenceWarning: The optimal value found for dimension 0 of parameter k2__noise_level is close to the specified upper bound 10.0. Increasing the bound and calling fit again may find a better value.\n",
      "  warnings.warn(\"The optimal value found for \"\n"
     ]
    },
    {
     "name": "stdout",
     "output_type": "stream",
     "text": [
      "Accuracy after query 9: 0.6828\n"
     ]
    },
    {
     "name": "stderr",
     "output_type": "stream",
     "text": [
      "D:\\Program\\Anaconda3\\lib\\site-packages\\sklearn\\gaussian_process\\kernels.py:411: ConvergenceWarning: The optimal value found for dimension 0 of parameter k1__sigma_0 is close to the specified upper bound 1.0. Increasing the bound and calling fit again may find a better value.\n",
      "  warnings.warn(\"The optimal value found for \"\n",
      "D:\\Program\\Anaconda3\\lib\\site-packages\\sklearn\\gaussian_process\\kernels.py:411: ConvergenceWarning: The optimal value found for dimension 0 of parameter k2__noise_level is close to the specified upper bound 10.0. Increasing the bound and calling fit again may find a better value.\n",
      "  warnings.warn(\"The optimal value found for \"\n"
     ]
    },
    {
     "name": "stdout",
     "output_type": "stream",
     "text": [
      "Accuracy after query 10: 0.6833\n"
     ]
    },
    {
     "name": "stderr",
     "output_type": "stream",
     "text": [
      "D:\\Program\\Anaconda3\\lib\\site-packages\\sklearn\\gaussian_process\\kernels.py:411: ConvergenceWarning: The optimal value found for dimension 0 of parameter k1__sigma_0 is close to the specified upper bound 1.0. Increasing the bound and calling fit again may find a better value.\n",
      "  warnings.warn(\"The optimal value found for \"\n",
      "D:\\Program\\Anaconda3\\lib\\site-packages\\sklearn\\gaussian_process\\kernels.py:411: ConvergenceWarning: The optimal value found for dimension 0 of parameter k2__noise_level is close to the specified upper bound 10.0. Increasing the bound and calling fit again may find a better value.\n",
      "  warnings.warn(\"The optimal value found for \"\n"
     ]
    },
    {
     "name": "stdout",
     "output_type": "stream",
     "text": [
      "Accuracy after query 11: 0.6864\n"
     ]
    },
    {
     "name": "stderr",
     "output_type": "stream",
     "text": [
      "D:\\Program\\Anaconda3\\lib\\site-packages\\sklearn\\gaussian_process\\kernels.py:411: ConvergenceWarning: The optimal value found for dimension 0 of parameter k1__sigma_0 is close to the specified upper bound 1.0. Increasing the bound and calling fit again may find a better value.\n",
      "  warnings.warn(\"The optimal value found for \"\n",
      "D:\\Program\\Anaconda3\\lib\\site-packages\\sklearn\\gaussian_process\\kernels.py:411: ConvergenceWarning: The optimal value found for dimension 0 of parameter k2__noise_level is close to the specified upper bound 10.0. Increasing the bound and calling fit again may find a better value.\n",
      "  warnings.warn(\"The optimal value found for \"\n"
     ]
    },
    {
     "name": "stdout",
     "output_type": "stream",
     "text": [
      "Accuracy after query 12: 0.6864\n"
     ]
    },
    {
     "name": "stderr",
     "output_type": "stream",
     "text": [
      "D:\\Program\\Anaconda3\\lib\\site-packages\\sklearn\\gaussian_process\\kernels.py:411: ConvergenceWarning: The optimal value found for dimension 0 of parameter k1__sigma_0 is close to the specified upper bound 1.0. Increasing the bound and calling fit again may find a better value.\n",
      "  warnings.warn(\"The optimal value found for \"\n",
      "D:\\Program\\Anaconda3\\lib\\site-packages\\sklearn\\gaussian_process\\kernels.py:411: ConvergenceWarning: The optimal value found for dimension 0 of parameter k2__noise_level is close to the specified upper bound 10.0. Increasing the bound and calling fit again may find a better value.\n",
      "  warnings.warn(\"The optimal value found for \"\n"
     ]
    },
    {
     "name": "stdout",
     "output_type": "stream",
     "text": [
      "Accuracy after query 13: 0.6881\n"
     ]
    },
    {
     "name": "stderr",
     "output_type": "stream",
     "text": [
      "D:\\Program\\Anaconda3\\lib\\site-packages\\sklearn\\gaussian_process\\kernels.py:411: ConvergenceWarning: The optimal value found for dimension 0 of parameter k1__sigma_0 is close to the specified upper bound 1.0. Increasing the bound and calling fit again may find a better value.\n",
      "  warnings.warn(\"The optimal value found for \"\n",
      "D:\\Program\\Anaconda3\\lib\\site-packages\\sklearn\\gaussian_process\\kernels.py:411: ConvergenceWarning: The optimal value found for dimension 0 of parameter k2__noise_level is close to the specified upper bound 10.0. Increasing the bound and calling fit again may find a better value.\n",
      "  warnings.warn(\"The optimal value found for \"\n"
     ]
    },
    {
     "name": "stdout",
     "output_type": "stream",
     "text": [
      "Accuracy after query 14: 0.6882\n"
     ]
    },
    {
     "name": "stderr",
     "output_type": "stream",
     "text": [
      "D:\\Program\\Anaconda3\\lib\\site-packages\\sklearn\\gaussian_process\\kernels.py:411: ConvergenceWarning: The optimal value found for dimension 0 of parameter k1__sigma_0 is close to the specified upper bound 1.0. Increasing the bound and calling fit again may find a better value.\n",
      "  warnings.warn(\"The optimal value found for \"\n",
      "D:\\Program\\Anaconda3\\lib\\site-packages\\sklearn\\gaussian_process\\kernels.py:411: ConvergenceWarning: The optimal value found for dimension 0 of parameter k2__noise_level is close to the specified upper bound 10.0. Increasing the bound and calling fit again may find a better value.\n",
      "  warnings.warn(\"The optimal value found for \"\n"
     ]
    },
    {
     "name": "stdout",
     "output_type": "stream",
     "text": [
      "Accuracy after query 15: 0.6906\n"
     ]
    },
    {
     "name": "stderr",
     "output_type": "stream",
     "text": [
      "D:\\Program\\Anaconda3\\lib\\site-packages\\sklearn\\gaussian_process\\kernels.py:411: ConvergenceWarning: The optimal value found for dimension 0 of parameter k1__sigma_0 is close to the specified upper bound 1.0. Increasing the bound and calling fit again may find a better value.\n",
      "  warnings.warn(\"The optimal value found for \"\n",
      "D:\\Program\\Anaconda3\\lib\\site-packages\\sklearn\\gaussian_process\\kernels.py:411: ConvergenceWarning: The optimal value found for dimension 0 of parameter k2__noise_level is close to the specified upper bound 10.0. Increasing the bound and calling fit again may find a better value.\n",
      "  warnings.warn(\"The optimal value found for \"\n"
     ]
    },
    {
     "name": "stdout",
     "output_type": "stream",
     "text": [
      "Accuracy after query 16: 0.6901\n"
     ]
    },
    {
     "name": "stderr",
     "output_type": "stream",
     "text": [
      "D:\\Program\\Anaconda3\\lib\\site-packages\\sklearn\\gaussian_process\\kernels.py:411: ConvergenceWarning: The optimal value found for dimension 0 of parameter k1__sigma_0 is close to the specified upper bound 1.0. Increasing the bound and calling fit again may find a better value.\n",
      "  warnings.warn(\"The optimal value found for \"\n",
      "D:\\Program\\Anaconda3\\lib\\site-packages\\sklearn\\gaussian_process\\kernels.py:411: ConvergenceWarning: The optimal value found for dimension 0 of parameter k2__noise_level is close to the specified upper bound 10.0. Increasing the bound and calling fit again may find a better value.\n",
      "  warnings.warn(\"The optimal value found for \"\n"
     ]
    },
    {
     "name": "stdout",
     "output_type": "stream",
     "text": [
      "Accuracy after query 17: 0.6899\n"
     ]
    },
    {
     "name": "stderr",
     "output_type": "stream",
     "text": [
      "D:\\Program\\Anaconda3\\lib\\site-packages\\sklearn\\gaussian_process\\kernels.py:411: ConvergenceWarning: The optimal value found for dimension 0 of parameter k1__sigma_0 is close to the specified upper bound 1.0. Increasing the bound and calling fit again may find a better value.\n",
      "  warnings.warn(\"The optimal value found for \"\n",
      "D:\\Program\\Anaconda3\\lib\\site-packages\\sklearn\\gaussian_process\\kernels.py:411: ConvergenceWarning: The optimal value found for dimension 0 of parameter k2__noise_level is close to the specified upper bound 10.0. Increasing the bound and calling fit again may find a better value.\n",
      "  warnings.warn(\"The optimal value found for \"\n"
     ]
    },
    {
     "name": "stdout",
     "output_type": "stream",
     "text": [
      "Accuracy after query 18: 0.6910\n"
     ]
    },
    {
     "name": "stderr",
     "output_type": "stream",
     "text": [
      "D:\\Program\\Anaconda3\\lib\\site-packages\\sklearn\\gaussian_process\\kernels.py:411: ConvergenceWarning: The optimal value found for dimension 0 of parameter k1__sigma_0 is close to the specified upper bound 1.0. Increasing the bound and calling fit again may find a better value.\n",
      "  warnings.warn(\"The optimal value found for \"\n",
      "D:\\Program\\Anaconda3\\lib\\site-packages\\sklearn\\gaussian_process\\kernels.py:411: ConvergenceWarning: The optimal value found for dimension 0 of parameter k2__noise_level is close to the specified upper bound 10.0. Increasing the bound and calling fit again may find a better value.\n",
      "  warnings.warn(\"The optimal value found for \"\n"
     ]
    },
    {
     "name": "stdout",
     "output_type": "stream",
     "text": [
      "Accuracy after query 19: 0.6915\n"
     ]
    },
    {
     "name": "stderr",
     "output_type": "stream",
     "text": [
      "D:\\Program\\Anaconda3\\lib\\site-packages\\sklearn\\gaussian_process\\kernels.py:411: ConvergenceWarning: The optimal value found for dimension 0 of parameter k1__sigma_0 is close to the specified upper bound 1.0. Increasing the bound and calling fit again may find a better value.\n",
      "  warnings.warn(\"The optimal value found for \"\n",
      "D:\\Program\\Anaconda3\\lib\\site-packages\\sklearn\\gaussian_process\\kernels.py:411: ConvergenceWarning: The optimal value found for dimension 0 of parameter k2__noise_level is close to the specified upper bound 10.0. Increasing the bound and calling fit again may find a better value.\n",
      "  warnings.warn(\"The optimal value found for \"\n"
     ]
    },
    {
     "name": "stdout",
     "output_type": "stream",
     "text": [
      "Accuracy after query 20: 0.6917\n"
     ]
    },
    {
     "name": "stderr",
     "output_type": "stream",
     "text": [
      "D:\\Program\\Anaconda3\\lib\\site-packages\\sklearn\\gaussian_process\\kernels.py:411: ConvergenceWarning: The optimal value found for dimension 0 of parameter k1__sigma_0 is close to the specified upper bound 1.0. Increasing the bound and calling fit again may find a better value.\n",
      "  warnings.warn(\"The optimal value found for \"\n",
      "D:\\Program\\Anaconda3\\lib\\site-packages\\sklearn\\gaussian_process\\kernels.py:411: ConvergenceWarning: The optimal value found for dimension 0 of parameter k2__noise_level is close to the specified upper bound 10.0. Increasing the bound and calling fit again may find a better value.\n",
      "  warnings.warn(\"The optimal value found for \"\n"
     ]
    },
    {
     "name": "stdout",
     "output_type": "stream",
     "text": [
      "Accuracy after query 21: 0.6916\n"
     ]
    },
    {
     "name": "stderr",
     "output_type": "stream",
     "text": [
      "D:\\Program\\Anaconda3\\lib\\site-packages\\sklearn\\gaussian_process\\kernels.py:411: ConvergenceWarning: The optimal value found for dimension 0 of parameter k1__sigma_0 is close to the specified upper bound 1.0. Increasing the bound and calling fit again may find a better value.\n",
      "  warnings.warn(\"The optimal value found for \"\n",
      "D:\\Program\\Anaconda3\\lib\\site-packages\\sklearn\\gaussian_process\\kernels.py:411: ConvergenceWarning: The optimal value found for dimension 0 of parameter k2__noise_level is close to the specified upper bound 10.0. Increasing the bound and calling fit again may find a better value.\n",
      "  warnings.warn(\"The optimal value found for \"\n"
     ]
    },
    {
     "name": "stdout",
     "output_type": "stream",
     "text": [
      "Accuracy after query 22: 0.6916\n"
     ]
    },
    {
     "name": "stderr",
     "output_type": "stream",
     "text": [
      "D:\\Program\\Anaconda3\\lib\\site-packages\\sklearn\\gaussian_process\\kernels.py:411: ConvergenceWarning: The optimal value found for dimension 0 of parameter k1__sigma_0 is close to the specified upper bound 1.0. Increasing the bound and calling fit again may find a better value.\n",
      "  warnings.warn(\"The optimal value found for \"\n",
      "D:\\Program\\Anaconda3\\lib\\site-packages\\sklearn\\gaussian_process\\kernels.py:411: ConvergenceWarning: The optimal value found for dimension 0 of parameter k2__noise_level is close to the specified upper bound 10.0. Increasing the bound and calling fit again may find a better value.\n",
      "  warnings.warn(\"The optimal value found for \"\n"
     ]
    },
    {
     "name": "stdout",
     "output_type": "stream",
     "text": [
      "Accuracy after query 23: 0.6916\n"
     ]
    },
    {
     "name": "stderr",
     "output_type": "stream",
     "text": [
      "D:\\Program\\Anaconda3\\lib\\site-packages\\sklearn\\gaussian_process\\kernels.py:411: ConvergenceWarning: The optimal value found for dimension 0 of parameter k1__sigma_0 is close to the specified upper bound 1.0. Increasing the bound and calling fit again may find a better value.\n",
      "  warnings.warn(\"The optimal value found for \"\n",
      "D:\\Program\\Anaconda3\\lib\\site-packages\\sklearn\\gaussian_process\\kernels.py:411: ConvergenceWarning: The optimal value found for dimension 0 of parameter k2__noise_level is close to the specified upper bound 10.0. Increasing the bound and calling fit again may find a better value.\n",
      "  warnings.warn(\"The optimal value found for \"\n"
     ]
    },
    {
     "name": "stdout",
     "output_type": "stream",
     "text": [
      "Accuracy after query 24: 0.6921\n"
     ]
    },
    {
     "name": "stderr",
     "output_type": "stream",
     "text": [
      "D:\\Program\\Anaconda3\\lib\\site-packages\\sklearn\\gaussian_process\\kernels.py:411: ConvergenceWarning: The optimal value found for dimension 0 of parameter k1__sigma_0 is close to the specified upper bound 1.0. Increasing the bound and calling fit again may find a better value.\n",
      "  warnings.warn(\"The optimal value found for \"\n",
      "D:\\Program\\Anaconda3\\lib\\site-packages\\sklearn\\gaussian_process\\kernels.py:411: ConvergenceWarning: The optimal value found for dimension 0 of parameter k2__noise_level is close to the specified upper bound 10.0. Increasing the bound and calling fit again may find a better value.\n",
      "  warnings.warn(\"The optimal value found for \"\n"
     ]
    },
    {
     "name": "stdout",
     "output_type": "stream",
     "text": [
      "Accuracy after query 25: 0.6922\n"
     ]
    },
    {
     "name": "stderr",
     "output_type": "stream",
     "text": [
      "D:\\Program\\Anaconda3\\lib\\site-packages\\sklearn\\gaussian_process\\kernels.py:411: ConvergenceWarning: The optimal value found for dimension 0 of parameter k1__sigma_0 is close to the specified upper bound 1.0. Increasing the bound and calling fit again may find a better value.\n",
      "  warnings.warn(\"The optimal value found for \"\n",
      "D:\\Program\\Anaconda3\\lib\\site-packages\\sklearn\\gaussian_process\\kernels.py:411: ConvergenceWarning: The optimal value found for dimension 0 of parameter k2__noise_level is close to the specified upper bound 10.0. Increasing the bound and calling fit again may find a better value.\n",
      "  warnings.warn(\"The optimal value found for \"\n"
     ]
    },
    {
     "name": "stdout",
     "output_type": "stream",
     "text": [
      "Accuracy after query 26: 0.6921\n"
     ]
    },
    {
     "name": "stderr",
     "output_type": "stream",
     "text": [
      "D:\\Program\\Anaconda3\\lib\\site-packages\\sklearn\\gaussian_process\\kernels.py:411: ConvergenceWarning: The optimal value found for dimension 0 of parameter k1__sigma_0 is close to the specified upper bound 1.0. Increasing the bound and calling fit again may find a better value.\n",
      "  warnings.warn(\"The optimal value found for \"\n",
      "D:\\Program\\Anaconda3\\lib\\site-packages\\sklearn\\gaussian_process\\kernels.py:411: ConvergenceWarning: The optimal value found for dimension 0 of parameter k2__noise_level is close to the specified upper bound 10.0. Increasing the bound and calling fit again may find a better value.\n",
      "  warnings.warn(\"The optimal value found for \"\n"
     ]
    },
    {
     "name": "stdout",
     "output_type": "stream",
     "text": [
      "Accuracy after query 27: 0.6929\n"
     ]
    },
    {
     "name": "stderr",
     "output_type": "stream",
     "text": [
      "D:\\Program\\Anaconda3\\lib\\site-packages\\sklearn\\gaussian_process\\kernels.py:411: ConvergenceWarning: The optimal value found for dimension 0 of parameter k1__sigma_0 is close to the specified upper bound 1.0. Increasing the bound and calling fit again may find a better value.\n",
      "  warnings.warn(\"The optimal value found for \"\n",
      "D:\\Program\\Anaconda3\\lib\\site-packages\\sklearn\\gaussian_process\\kernels.py:411: ConvergenceWarning: The optimal value found for dimension 0 of parameter k2__noise_level is close to the specified upper bound 10.0. Increasing the bound and calling fit again may find a better value.\n",
      "  warnings.warn(\"The optimal value found for \"\n"
     ]
    },
    {
     "name": "stdout",
     "output_type": "stream",
     "text": [
      "Accuracy after query 28: 0.6935\n"
     ]
    },
    {
     "name": "stderr",
     "output_type": "stream",
     "text": [
      "D:\\Program\\Anaconda3\\lib\\site-packages\\sklearn\\gaussian_process\\kernels.py:411: ConvergenceWarning: The optimal value found for dimension 0 of parameter k1__sigma_0 is close to the specified upper bound 1.0. Increasing the bound and calling fit again may find a better value.\n",
      "  warnings.warn(\"The optimal value found for \"\n",
      "D:\\Program\\Anaconda3\\lib\\site-packages\\sklearn\\gaussian_process\\kernels.py:411: ConvergenceWarning: The optimal value found for dimension 0 of parameter k2__noise_level is close to the specified upper bound 10.0. Increasing the bound and calling fit again may find a better value.\n",
      "  warnings.warn(\"The optimal value found for \"\n"
     ]
    },
    {
     "name": "stdout",
     "output_type": "stream",
     "text": [
      "Accuracy after query 29: 0.6959\n"
     ]
    },
    {
     "name": "stderr",
     "output_type": "stream",
     "text": [
      "D:\\Program\\Anaconda3\\lib\\site-packages\\sklearn\\gaussian_process\\kernels.py:411: ConvergenceWarning: The optimal value found for dimension 0 of parameter k1__sigma_0 is close to the specified upper bound 1.0. Increasing the bound and calling fit again may find a better value.\n",
      "  warnings.warn(\"The optimal value found for \"\n",
      "D:\\Program\\Anaconda3\\lib\\site-packages\\sklearn\\gaussian_process\\kernels.py:411: ConvergenceWarning: The optimal value found for dimension 0 of parameter k2__noise_level is close to the specified upper bound 10.0. Increasing the bound and calling fit again may find a better value.\n",
      "  warnings.warn(\"The optimal value found for \"\n"
     ]
    },
    {
     "name": "stdout",
     "output_type": "stream",
     "text": [
      "Accuracy after query 30: 0.6970\n"
     ]
    },
    {
     "name": "stderr",
     "output_type": "stream",
     "text": [
      "D:\\Program\\Anaconda3\\lib\\site-packages\\sklearn\\gaussian_process\\kernels.py:411: ConvergenceWarning: The optimal value found for dimension 0 of parameter k1__sigma_0 is close to the specified upper bound 1.0. Increasing the bound and calling fit again may find a better value.\n",
      "  warnings.warn(\"The optimal value found for \"\n",
      "D:\\Program\\Anaconda3\\lib\\site-packages\\sklearn\\gaussian_process\\kernels.py:411: ConvergenceWarning: The optimal value found for dimension 0 of parameter k2__noise_level is close to the specified upper bound 10.0. Increasing the bound and calling fit again may find a better value.\n",
      "  warnings.warn(\"The optimal value found for \"\n"
     ]
    },
    {
     "name": "stdout",
     "output_type": "stream",
     "text": [
      "Accuracy after query 31: 0.6960\n"
     ]
    },
    {
     "name": "stderr",
     "output_type": "stream",
     "text": [
      "D:\\Program\\Anaconda3\\lib\\site-packages\\sklearn\\gaussian_process\\kernels.py:411: ConvergenceWarning: The optimal value found for dimension 0 of parameter k1__sigma_0 is close to the specified upper bound 1.0. Increasing the bound and calling fit again may find a better value.\n",
      "  warnings.warn(\"The optimal value found for \"\n",
      "D:\\Program\\Anaconda3\\lib\\site-packages\\sklearn\\gaussian_process\\kernels.py:411: ConvergenceWarning: The optimal value found for dimension 0 of parameter k2__noise_level is close to the specified upper bound 10.0. Increasing the bound and calling fit again may find a better value.\n",
      "  warnings.warn(\"The optimal value found for \"\n"
     ]
    },
    {
     "name": "stdout",
     "output_type": "stream",
     "text": [
      "Accuracy after query 32: 0.6959\n"
     ]
    },
    {
     "name": "stderr",
     "output_type": "stream",
     "text": [
      "D:\\Program\\Anaconda3\\lib\\site-packages\\sklearn\\gaussian_process\\kernels.py:411: ConvergenceWarning: The optimal value found for dimension 0 of parameter k1__sigma_0 is close to the specified upper bound 1.0. Increasing the bound and calling fit again may find a better value.\n",
      "  warnings.warn(\"The optimal value found for \"\n",
      "D:\\Program\\Anaconda3\\lib\\site-packages\\sklearn\\gaussian_process\\kernels.py:411: ConvergenceWarning: The optimal value found for dimension 0 of parameter k2__noise_level is close to the specified upper bound 10.0. Increasing the bound and calling fit again may find a better value.\n",
      "  warnings.warn(\"The optimal value found for \"\n"
     ]
    },
    {
     "name": "stdout",
     "output_type": "stream",
     "text": [
      "Accuracy after query 33: 0.6962\n"
     ]
    },
    {
     "name": "stderr",
     "output_type": "stream",
     "text": [
      "D:\\Program\\Anaconda3\\lib\\site-packages\\sklearn\\gaussian_process\\kernels.py:411: ConvergenceWarning: The optimal value found for dimension 0 of parameter k1__sigma_0 is close to the specified upper bound 1.0. Increasing the bound and calling fit again may find a better value.\n",
      "  warnings.warn(\"The optimal value found for \"\n",
      "D:\\Program\\Anaconda3\\lib\\site-packages\\sklearn\\gaussian_process\\kernels.py:411: ConvergenceWarning: The optimal value found for dimension 0 of parameter k2__noise_level is close to the specified upper bound 10.0. Increasing the bound and calling fit again may find a better value.\n",
      "  warnings.warn(\"The optimal value found for \"\n"
     ]
    },
    {
     "name": "stdout",
     "output_type": "stream",
     "text": [
      "Accuracy after query 34: 0.6956\n"
     ]
    },
    {
     "name": "stderr",
     "output_type": "stream",
     "text": [
      "D:\\Program\\Anaconda3\\lib\\site-packages\\sklearn\\gaussian_process\\kernels.py:411: ConvergenceWarning: The optimal value found for dimension 0 of parameter k1__sigma_0 is close to the specified upper bound 1.0. Increasing the bound and calling fit again may find a better value.\n",
      "  warnings.warn(\"The optimal value found for \"\n",
      "D:\\Program\\Anaconda3\\lib\\site-packages\\sklearn\\gaussian_process\\kernels.py:411: ConvergenceWarning: The optimal value found for dimension 0 of parameter k2__noise_level is close to the specified upper bound 10.0. Increasing the bound and calling fit again may find a better value.\n",
      "  warnings.warn(\"The optimal value found for \"\n"
     ]
    },
    {
     "name": "stdout",
     "output_type": "stream",
     "text": [
      "Accuracy after query 35: 0.6955\n"
     ]
    },
    {
     "name": "stderr",
     "output_type": "stream",
     "text": [
      "D:\\Program\\Anaconda3\\lib\\site-packages\\sklearn\\gaussian_process\\kernels.py:411: ConvergenceWarning: The optimal value found for dimension 0 of parameter k1__sigma_0 is close to the specified upper bound 1.0. Increasing the bound and calling fit again may find a better value.\n",
      "  warnings.warn(\"The optimal value found for \"\n",
      "D:\\Program\\Anaconda3\\lib\\site-packages\\sklearn\\gaussian_process\\kernels.py:411: ConvergenceWarning: The optimal value found for dimension 0 of parameter k2__noise_level is close to the specified upper bound 10.0. Increasing the bound and calling fit again may find a better value.\n",
      "  warnings.warn(\"The optimal value found for \"\n"
     ]
    },
    {
     "name": "stdout",
     "output_type": "stream",
     "text": [
      "Accuracy after query 36: 0.6961\n"
     ]
    },
    {
     "name": "stderr",
     "output_type": "stream",
     "text": [
      "D:\\Program\\Anaconda3\\lib\\site-packages\\sklearn\\gaussian_process\\kernels.py:411: ConvergenceWarning: The optimal value found for dimension 0 of parameter k1__sigma_0 is close to the specified upper bound 1.0. Increasing the bound and calling fit again may find a better value.\n",
      "  warnings.warn(\"The optimal value found for \"\n",
      "D:\\Program\\Anaconda3\\lib\\site-packages\\sklearn\\gaussian_process\\kernels.py:411: ConvergenceWarning: The optimal value found for dimension 0 of parameter k2__noise_level is close to the specified upper bound 10.0. Increasing the bound and calling fit again may find a better value.\n",
      "  warnings.warn(\"The optimal value found for \"\n"
     ]
    },
    {
     "name": "stdout",
     "output_type": "stream",
     "text": [
      "Accuracy after query 37: 0.6973\n"
     ]
    },
    {
     "name": "stderr",
     "output_type": "stream",
     "text": [
      "D:\\Program\\Anaconda3\\lib\\site-packages\\sklearn\\gaussian_process\\kernels.py:411: ConvergenceWarning: The optimal value found for dimension 0 of parameter k1__sigma_0 is close to the specified upper bound 1.0. Increasing the bound and calling fit again may find a better value.\n",
      "  warnings.warn(\"The optimal value found for \"\n",
      "D:\\Program\\Anaconda3\\lib\\site-packages\\sklearn\\gaussian_process\\kernels.py:411: ConvergenceWarning: The optimal value found for dimension 0 of parameter k2__noise_level is close to the specified upper bound 10.0. Increasing the bound and calling fit again may find a better value.\n",
      "  warnings.warn(\"The optimal value found for \"\n"
     ]
    },
    {
     "name": "stdout",
     "output_type": "stream",
     "text": [
      "Accuracy after query 38: 0.6988\n"
     ]
    },
    {
     "name": "stderr",
     "output_type": "stream",
     "text": [
      "D:\\Program\\Anaconda3\\lib\\site-packages\\sklearn\\gaussian_process\\kernels.py:411: ConvergenceWarning: The optimal value found for dimension 0 of parameter k1__sigma_0 is close to the specified upper bound 1.0. Increasing the bound and calling fit again may find a better value.\n",
      "  warnings.warn(\"The optimal value found for \"\n",
      "D:\\Program\\Anaconda3\\lib\\site-packages\\sklearn\\gaussian_process\\kernels.py:411: ConvergenceWarning: The optimal value found for dimension 0 of parameter k2__noise_level is close to the specified upper bound 10.0. Increasing the bound and calling fit again may find a better value.\n",
      "  warnings.warn(\"The optimal value found for \"\n"
     ]
    },
    {
     "name": "stdout",
     "output_type": "stream",
     "text": [
      "Accuracy after query 39: 0.6998\n"
     ]
    },
    {
     "name": "stderr",
     "output_type": "stream",
     "text": [
      "D:\\Program\\Anaconda3\\lib\\site-packages\\sklearn\\gaussian_process\\kernels.py:411: ConvergenceWarning: The optimal value found for dimension 0 of parameter k1__sigma_0 is close to the specified upper bound 1.0. Increasing the bound and calling fit again may find a better value.\n",
      "  warnings.warn(\"The optimal value found for \"\n",
      "D:\\Program\\Anaconda3\\lib\\site-packages\\sklearn\\gaussian_process\\kernels.py:411: ConvergenceWarning: The optimal value found for dimension 0 of parameter k2__noise_level is close to the specified upper bound 10.0. Increasing the bound and calling fit again may find a better value.\n",
      "  warnings.warn(\"The optimal value found for \"\n"
     ]
    },
    {
     "name": "stdout",
     "output_type": "stream",
     "text": [
      "Accuracy after query 40: 0.6996\n"
     ]
    },
    {
     "name": "stderr",
     "output_type": "stream",
     "text": [
      "D:\\Program\\Anaconda3\\lib\\site-packages\\sklearn\\gaussian_process\\kernels.py:411: ConvergenceWarning: The optimal value found for dimension 0 of parameter k1__sigma_0 is close to the specified upper bound 1.0. Increasing the bound and calling fit again may find a better value.\n",
      "  warnings.warn(\"The optimal value found for \"\n",
      "D:\\Program\\Anaconda3\\lib\\site-packages\\sklearn\\gaussian_process\\kernels.py:411: ConvergenceWarning: The optimal value found for dimension 0 of parameter k2__noise_level is close to the specified upper bound 10.0. Increasing the bound and calling fit again may find a better value.\n",
      "  warnings.warn(\"The optimal value found for \"\n"
     ]
    },
    {
     "name": "stdout",
     "output_type": "stream",
     "text": [
      "Accuracy after query 41: 0.6998\n"
     ]
    },
    {
     "name": "stderr",
     "output_type": "stream",
     "text": [
      "D:\\Program\\Anaconda3\\lib\\site-packages\\sklearn\\gaussian_process\\kernels.py:411: ConvergenceWarning: The optimal value found for dimension 0 of parameter k1__sigma_0 is close to the specified upper bound 1.0. Increasing the bound and calling fit again may find a better value.\n",
      "  warnings.warn(\"The optimal value found for \"\n",
      "D:\\Program\\Anaconda3\\lib\\site-packages\\sklearn\\gaussian_process\\kernels.py:411: ConvergenceWarning: The optimal value found for dimension 0 of parameter k2__noise_level is close to the specified upper bound 10.0. Increasing the bound and calling fit again may find a better value.\n",
      "  warnings.warn(\"The optimal value found for \"\n"
     ]
    },
    {
     "name": "stdout",
     "output_type": "stream",
     "text": [
      "Accuracy after query 42: 0.7006\n"
     ]
    },
    {
     "name": "stderr",
     "output_type": "stream",
     "text": [
      "D:\\Program\\Anaconda3\\lib\\site-packages\\sklearn\\gaussian_process\\kernels.py:411: ConvergenceWarning: The optimal value found for dimension 0 of parameter k1__sigma_0 is close to the specified upper bound 1.0. Increasing the bound and calling fit again may find a better value.\n",
      "  warnings.warn(\"The optimal value found for \"\n",
      "D:\\Program\\Anaconda3\\lib\\site-packages\\sklearn\\gaussian_process\\kernels.py:411: ConvergenceWarning: The optimal value found for dimension 0 of parameter k2__noise_level is close to the specified upper bound 10.0. Increasing the bound and calling fit again may find a better value.\n",
      "  warnings.warn(\"The optimal value found for \"\n"
     ]
    },
    {
     "name": "stdout",
     "output_type": "stream",
     "text": [
      "Accuracy after query 43: 0.7004\n"
     ]
    },
    {
     "name": "stderr",
     "output_type": "stream",
     "text": [
      "D:\\Program\\Anaconda3\\lib\\site-packages\\sklearn\\gaussian_process\\kernels.py:411: ConvergenceWarning: The optimal value found for dimension 0 of parameter k1__sigma_0 is close to the specified upper bound 1.0. Increasing the bound and calling fit again may find a better value.\n",
      "  warnings.warn(\"The optimal value found for \"\n",
      "D:\\Program\\Anaconda3\\lib\\site-packages\\sklearn\\gaussian_process\\kernels.py:411: ConvergenceWarning: The optimal value found for dimension 0 of parameter k2__noise_level is close to the specified upper bound 10.0. Increasing the bound and calling fit again may find a better value.\n",
      "  warnings.warn(\"The optimal value found for \"\n"
     ]
    },
    {
     "name": "stdout",
     "output_type": "stream",
     "text": [
      "Accuracy after query 44: 0.7003\n"
     ]
    },
    {
     "name": "stderr",
     "output_type": "stream",
     "text": [
      "D:\\Program\\Anaconda3\\lib\\site-packages\\sklearn\\gaussian_process\\kernels.py:411: ConvergenceWarning: The optimal value found for dimension 0 of parameter k1__sigma_0 is close to the specified upper bound 1.0. Increasing the bound and calling fit again may find a better value.\n",
      "  warnings.warn(\"The optimal value found for \"\n",
      "D:\\Program\\Anaconda3\\lib\\site-packages\\sklearn\\gaussian_process\\kernels.py:411: ConvergenceWarning: The optimal value found for dimension 0 of parameter k2__noise_level is close to the specified upper bound 10.0. Increasing the bound and calling fit again may find a better value.\n",
      "  warnings.warn(\"The optimal value found for \"\n"
     ]
    },
    {
     "name": "stdout",
     "output_type": "stream",
     "text": [
      "Accuracy after query 45: 0.7001\n"
     ]
    },
    {
     "name": "stderr",
     "output_type": "stream",
     "text": [
      "D:\\Program\\Anaconda3\\lib\\site-packages\\sklearn\\gaussian_process\\kernels.py:411: ConvergenceWarning: The optimal value found for dimension 0 of parameter k1__sigma_0 is close to the specified upper bound 1.0. Increasing the bound and calling fit again may find a better value.\n",
      "  warnings.warn(\"The optimal value found for \"\n",
      "D:\\Program\\Anaconda3\\lib\\site-packages\\sklearn\\gaussian_process\\kernels.py:411: ConvergenceWarning: The optimal value found for dimension 0 of parameter k2__noise_level is close to the specified upper bound 10.0. Increasing the bound and calling fit again may find a better value.\n",
      "  warnings.warn(\"The optimal value found for \"\n"
     ]
    },
    {
     "name": "stdout",
     "output_type": "stream",
     "text": [
      "Accuracy after query 46: 0.7001\n"
     ]
    },
    {
     "name": "stderr",
     "output_type": "stream",
     "text": [
      "D:\\Program\\Anaconda3\\lib\\site-packages\\sklearn\\gaussian_process\\kernels.py:411: ConvergenceWarning: The optimal value found for dimension 0 of parameter k1__sigma_0 is close to the specified upper bound 1.0. Increasing the bound and calling fit again may find a better value.\n",
      "  warnings.warn(\"The optimal value found for \"\n",
      "D:\\Program\\Anaconda3\\lib\\site-packages\\sklearn\\gaussian_process\\kernels.py:411: ConvergenceWarning: The optimal value found for dimension 0 of parameter k2__noise_level is close to the specified upper bound 10.0. Increasing the bound and calling fit again may find a better value.\n",
      "  warnings.warn(\"The optimal value found for \"\n"
     ]
    },
    {
     "name": "stdout",
     "output_type": "stream",
     "text": [
      "Accuracy after query 47: 0.7011\n"
     ]
    },
    {
     "name": "stderr",
     "output_type": "stream",
     "text": [
      "D:\\Program\\Anaconda3\\lib\\site-packages\\sklearn\\gaussian_process\\kernels.py:411: ConvergenceWarning: The optimal value found for dimension 0 of parameter k1__sigma_0 is close to the specified upper bound 1.0. Increasing the bound and calling fit again may find a better value.\n",
      "  warnings.warn(\"The optimal value found for \"\n",
      "D:\\Program\\Anaconda3\\lib\\site-packages\\sklearn\\gaussian_process\\kernels.py:411: ConvergenceWarning: The optimal value found for dimension 0 of parameter k2__noise_level is close to the specified upper bound 10.0. Increasing the bound and calling fit again may find a better value.\n",
      "  warnings.warn(\"The optimal value found for \"\n"
     ]
    },
    {
     "name": "stdout",
     "output_type": "stream",
     "text": [
      "Accuracy after query 48: 0.7016\n"
     ]
    },
    {
     "name": "stderr",
     "output_type": "stream",
     "text": [
      "D:\\Program\\Anaconda3\\lib\\site-packages\\sklearn\\gaussian_process\\kernels.py:411: ConvergenceWarning: The optimal value found for dimension 0 of parameter k1__sigma_0 is close to the specified upper bound 1.0. Increasing the bound and calling fit again may find a better value.\n",
      "  warnings.warn(\"The optimal value found for \"\n",
      "D:\\Program\\Anaconda3\\lib\\site-packages\\sklearn\\gaussian_process\\kernels.py:411: ConvergenceWarning: The optimal value found for dimension 0 of parameter k2__noise_level is close to the specified upper bound 10.0. Increasing the bound and calling fit again may find a better value.\n",
      "  warnings.warn(\"The optimal value found for \"\n"
     ]
    },
    {
     "name": "stdout",
     "output_type": "stream",
     "text": [
      "Accuracy after query 49: 0.7019\n"
     ]
    },
    {
     "name": "stderr",
     "output_type": "stream",
     "text": [
      "D:\\Program\\Anaconda3\\lib\\site-packages\\sklearn\\gaussian_process\\kernels.py:411: ConvergenceWarning: The optimal value found for dimension 0 of parameter k1__sigma_0 is close to the specified upper bound 1.0. Increasing the bound and calling fit again may find a better value.\n",
      "  warnings.warn(\"The optimal value found for \"\n",
      "D:\\Program\\Anaconda3\\lib\\site-packages\\sklearn\\gaussian_process\\kernels.py:411: ConvergenceWarning: The optimal value found for dimension 0 of parameter k2__noise_level is close to the specified upper bound 10.0. Increasing the bound and calling fit again may find a better value.\n",
      "  warnings.warn(\"The optimal value found for \"\n"
     ]
    },
    {
     "name": "stdout",
     "output_type": "stream",
     "text": [
      "Accuracy after query 50: 0.7037\n"
     ]
    },
    {
     "name": "stderr",
     "output_type": "stream",
     "text": [
      "D:\\Program\\Anaconda3\\lib\\site-packages\\sklearn\\gaussian_process\\kernels.py:411: ConvergenceWarning: The optimal value found for dimension 0 of parameter k1__sigma_0 is close to the specified upper bound 1.0. Increasing the bound and calling fit again may find a better value.\n",
      "  warnings.warn(\"The optimal value found for \"\n",
      "D:\\Program\\Anaconda3\\lib\\site-packages\\sklearn\\gaussian_process\\kernels.py:411: ConvergenceWarning: The optimal value found for dimension 0 of parameter k2__noise_level is close to the specified upper bound 10.0. Increasing the bound and calling fit again may find a better value.\n",
      "  warnings.warn(\"The optimal value found for \"\n"
     ]
    },
    {
     "name": "stdout",
     "output_type": "stream",
     "text": [
      "Accuracy after query 51: 0.7059\n"
     ]
    },
    {
     "name": "stderr",
     "output_type": "stream",
     "text": [
      "D:\\Program\\Anaconda3\\lib\\site-packages\\sklearn\\gaussian_process\\kernels.py:411: ConvergenceWarning: The optimal value found for dimension 0 of parameter k1__sigma_0 is close to the specified upper bound 1.0. Increasing the bound and calling fit again may find a better value.\n",
      "  warnings.warn(\"The optimal value found for \"\n",
      "D:\\Program\\Anaconda3\\lib\\site-packages\\sklearn\\gaussian_process\\kernels.py:411: ConvergenceWarning: The optimal value found for dimension 0 of parameter k2__noise_level is close to the specified upper bound 10.0. Increasing the bound and calling fit again may find a better value.\n",
      "  warnings.warn(\"The optimal value found for \"\n"
     ]
    },
    {
     "name": "stdout",
     "output_type": "stream",
     "text": [
      "Accuracy after query 52: 0.7067\n"
     ]
    },
    {
     "name": "stderr",
     "output_type": "stream",
     "text": [
      "D:\\Program\\Anaconda3\\lib\\site-packages\\sklearn\\gaussian_process\\kernels.py:411: ConvergenceWarning: The optimal value found for dimension 0 of parameter k1__sigma_0 is close to the specified upper bound 1.0. Increasing the bound and calling fit again may find a better value.\n",
      "  warnings.warn(\"The optimal value found for \"\n",
      "D:\\Program\\Anaconda3\\lib\\site-packages\\sklearn\\gaussian_process\\kernels.py:411: ConvergenceWarning: The optimal value found for dimension 0 of parameter k2__noise_level is close to the specified upper bound 10.0. Increasing the bound and calling fit again may find a better value.\n",
      "  warnings.warn(\"The optimal value found for \"\n"
     ]
    },
    {
     "name": "stdout",
     "output_type": "stream",
     "text": [
      "Accuracy after query 53: 0.7060\n"
     ]
    },
    {
     "name": "stderr",
     "output_type": "stream",
     "text": [
      "D:\\Program\\Anaconda3\\lib\\site-packages\\sklearn\\gaussian_process\\kernels.py:411: ConvergenceWarning: The optimal value found for dimension 0 of parameter k1__sigma_0 is close to the specified upper bound 1.0. Increasing the bound and calling fit again may find a better value.\n",
      "  warnings.warn(\"The optimal value found for \"\n",
      "D:\\Program\\Anaconda3\\lib\\site-packages\\sklearn\\gaussian_process\\kernels.py:411: ConvergenceWarning: The optimal value found for dimension 0 of parameter k2__noise_level is close to the specified upper bound 10.0. Increasing the bound and calling fit again may find a better value.\n",
      "  warnings.warn(\"The optimal value found for \"\n"
     ]
    },
    {
     "name": "stdout",
     "output_type": "stream",
     "text": [
      "Accuracy after query 54: 0.7055\n"
     ]
    },
    {
     "name": "stderr",
     "output_type": "stream",
     "text": [
      "D:\\Program\\Anaconda3\\lib\\site-packages\\sklearn\\gaussian_process\\kernels.py:411: ConvergenceWarning: The optimal value found for dimension 0 of parameter k1__sigma_0 is close to the specified upper bound 1.0. Increasing the bound and calling fit again may find a better value.\n",
      "  warnings.warn(\"The optimal value found for \"\n",
      "D:\\Program\\Anaconda3\\lib\\site-packages\\sklearn\\gaussian_process\\kernels.py:411: ConvergenceWarning: The optimal value found for dimension 0 of parameter k2__noise_level is close to the specified upper bound 10.0. Increasing the bound and calling fit again may find a better value.\n",
      "  warnings.warn(\"The optimal value found for \"\n"
     ]
    },
    {
     "name": "stdout",
     "output_type": "stream",
     "text": [
      "Accuracy after query 55: 0.7060\n"
     ]
    },
    {
     "name": "stderr",
     "output_type": "stream",
     "text": [
      "D:\\Program\\Anaconda3\\lib\\site-packages\\sklearn\\gaussian_process\\kernels.py:411: ConvergenceWarning: The optimal value found for dimension 0 of parameter k1__sigma_0 is close to the specified upper bound 1.0. Increasing the bound and calling fit again may find a better value.\n",
      "  warnings.warn(\"The optimal value found for \"\n",
      "D:\\Program\\Anaconda3\\lib\\site-packages\\sklearn\\gaussian_process\\kernels.py:411: ConvergenceWarning: The optimal value found for dimension 0 of parameter k2__noise_level is close to the specified upper bound 10.0. Increasing the bound and calling fit again may find a better value.\n",
      "  warnings.warn(\"The optimal value found for \"\n"
     ]
    },
    {
     "name": "stdout",
     "output_type": "stream",
     "text": [
      "Accuracy after query 56: 0.7059\n"
     ]
    },
    {
     "name": "stderr",
     "output_type": "stream",
     "text": [
      "D:\\Program\\Anaconda3\\lib\\site-packages\\sklearn\\gaussian_process\\kernels.py:411: ConvergenceWarning: The optimal value found for dimension 0 of parameter k1__sigma_0 is close to the specified upper bound 1.0. Increasing the bound and calling fit again may find a better value.\n",
      "  warnings.warn(\"The optimal value found for \"\n",
      "D:\\Program\\Anaconda3\\lib\\site-packages\\sklearn\\gaussian_process\\kernels.py:411: ConvergenceWarning: The optimal value found for dimension 0 of parameter k2__noise_level is close to the specified upper bound 10.0. Increasing the bound and calling fit again may find a better value.\n",
      "  warnings.warn(\"The optimal value found for \"\n"
     ]
    },
    {
     "name": "stdout",
     "output_type": "stream",
     "text": [
      "Accuracy after query 57: 0.7074\n"
     ]
    },
    {
     "name": "stderr",
     "output_type": "stream",
     "text": [
      "D:\\Program\\Anaconda3\\lib\\site-packages\\sklearn\\gaussian_process\\kernels.py:411: ConvergenceWarning: The optimal value found for dimension 0 of parameter k1__sigma_0 is close to the specified upper bound 1.0. Increasing the bound and calling fit again may find a better value.\n",
      "  warnings.warn(\"The optimal value found for \"\n",
      "D:\\Program\\Anaconda3\\lib\\site-packages\\sklearn\\gaussian_process\\kernels.py:411: ConvergenceWarning: The optimal value found for dimension 0 of parameter k2__noise_level is close to the specified upper bound 10.0. Increasing the bound and calling fit again may find a better value.\n",
      "  warnings.warn(\"The optimal value found for \"\n"
     ]
    },
    {
     "name": "stdout",
     "output_type": "stream",
     "text": [
      "Accuracy after query 58: 0.7070\n"
     ]
    },
    {
     "name": "stderr",
     "output_type": "stream",
     "text": [
      "D:\\Program\\Anaconda3\\lib\\site-packages\\sklearn\\gaussian_process\\kernels.py:411: ConvergenceWarning: The optimal value found for dimension 0 of parameter k1__sigma_0 is close to the specified upper bound 1.0. Increasing the bound and calling fit again may find a better value.\n",
      "  warnings.warn(\"The optimal value found for \"\n",
      "D:\\Program\\Anaconda3\\lib\\site-packages\\sklearn\\gaussian_process\\kernels.py:411: ConvergenceWarning: The optimal value found for dimension 0 of parameter k2__noise_level is close to the specified upper bound 10.0. Increasing the bound and calling fit again may find a better value.\n",
      "  warnings.warn(\"The optimal value found for \"\n"
     ]
    },
    {
     "name": "stdout",
     "output_type": "stream",
     "text": [
      "Accuracy after query 59: 0.7074\n"
     ]
    },
    {
     "name": "stderr",
     "output_type": "stream",
     "text": [
      "D:\\Program\\Anaconda3\\lib\\site-packages\\sklearn\\gaussian_process\\kernels.py:411: ConvergenceWarning: The optimal value found for dimension 0 of parameter k1__sigma_0 is close to the specified upper bound 1.0. Increasing the bound and calling fit again may find a better value.\n",
      "  warnings.warn(\"The optimal value found for \"\n",
      "D:\\Program\\Anaconda3\\lib\\site-packages\\sklearn\\gaussian_process\\kernels.py:411: ConvergenceWarning: The optimal value found for dimension 0 of parameter k2__noise_level is close to the specified upper bound 10.0. Increasing the bound and calling fit again may find a better value.\n",
      "  warnings.warn(\"The optimal value found for \"\n"
     ]
    },
    {
     "name": "stdout",
     "output_type": "stream",
     "text": [
      "Accuracy after query 60: 0.7072\n"
     ]
    },
    {
     "name": "stderr",
     "output_type": "stream",
     "text": [
      "D:\\Program\\Anaconda3\\lib\\site-packages\\sklearn\\gaussian_process\\kernels.py:411: ConvergenceWarning: The optimal value found for dimension 0 of parameter k1__sigma_0 is close to the specified upper bound 1.0. Increasing the bound and calling fit again may find a better value.\n",
      "  warnings.warn(\"The optimal value found for \"\n",
      "D:\\Program\\Anaconda3\\lib\\site-packages\\sklearn\\gaussian_process\\kernels.py:411: ConvergenceWarning: The optimal value found for dimension 0 of parameter k2__noise_level is close to the specified upper bound 10.0. Increasing the bound and calling fit again may find a better value.\n",
      "  warnings.warn(\"The optimal value found for \"\n"
     ]
    },
    {
     "name": "stdout",
     "output_type": "stream",
     "text": [
      "Accuracy after query 61: 0.7059\n"
     ]
    },
    {
     "name": "stderr",
     "output_type": "stream",
     "text": [
      "D:\\Program\\Anaconda3\\lib\\site-packages\\sklearn\\gaussian_process\\kernels.py:411: ConvergenceWarning: The optimal value found for dimension 0 of parameter k1__sigma_0 is close to the specified upper bound 1.0. Increasing the bound and calling fit again may find a better value.\n",
      "  warnings.warn(\"The optimal value found for \"\n",
      "D:\\Program\\Anaconda3\\lib\\site-packages\\sklearn\\gaussian_process\\kernels.py:411: ConvergenceWarning: The optimal value found for dimension 0 of parameter k2__noise_level is close to the specified upper bound 10.0. Increasing the bound and calling fit again may find a better value.\n",
      "  warnings.warn(\"The optimal value found for \"\n"
     ]
    },
    {
     "name": "stdout",
     "output_type": "stream",
     "text": [
      "Accuracy after query 62: 0.7072\n"
     ]
    },
    {
     "name": "stderr",
     "output_type": "stream",
     "text": [
      "D:\\Program\\Anaconda3\\lib\\site-packages\\sklearn\\gaussian_process\\kernels.py:411: ConvergenceWarning: The optimal value found for dimension 0 of parameter k1__sigma_0 is close to the specified upper bound 1.0. Increasing the bound and calling fit again may find a better value.\n",
      "  warnings.warn(\"The optimal value found for \"\n",
      "D:\\Program\\Anaconda3\\lib\\site-packages\\sklearn\\gaussian_process\\kernels.py:411: ConvergenceWarning: The optimal value found for dimension 0 of parameter k2__noise_level is close to the specified upper bound 10.0. Increasing the bound and calling fit again may find a better value.\n",
      "  warnings.warn(\"The optimal value found for \"\n"
     ]
    },
    {
     "name": "stdout",
     "output_type": "stream",
     "text": [
      "Accuracy after query 63: 0.7084\n"
     ]
    },
    {
     "name": "stderr",
     "output_type": "stream",
     "text": [
      "D:\\Program\\Anaconda3\\lib\\site-packages\\sklearn\\gaussian_process\\kernels.py:411: ConvergenceWarning: The optimal value found for dimension 0 of parameter k1__sigma_0 is close to the specified upper bound 1.0. Increasing the bound and calling fit again may find a better value.\n",
      "  warnings.warn(\"The optimal value found for \"\n",
      "D:\\Program\\Anaconda3\\lib\\site-packages\\sklearn\\gaussian_process\\kernels.py:411: ConvergenceWarning: The optimal value found for dimension 0 of parameter k2__noise_level is close to the specified upper bound 10.0. Increasing the bound and calling fit again may find a better value.\n",
      "  warnings.warn(\"The optimal value found for \"\n"
     ]
    },
    {
     "name": "stdout",
     "output_type": "stream",
     "text": [
      "Accuracy after query 64: 0.7080\n"
     ]
    },
    {
     "name": "stderr",
     "output_type": "stream",
     "text": [
      "D:\\Program\\Anaconda3\\lib\\site-packages\\sklearn\\gaussian_process\\kernels.py:411: ConvergenceWarning: The optimal value found for dimension 0 of parameter k1__sigma_0 is close to the specified upper bound 1.0. Increasing the bound and calling fit again may find a better value.\n",
      "  warnings.warn(\"The optimal value found for \"\n",
      "D:\\Program\\Anaconda3\\lib\\site-packages\\sklearn\\gaussian_process\\kernels.py:411: ConvergenceWarning: The optimal value found for dimension 0 of parameter k2__noise_level is close to the specified upper bound 10.0. Increasing the bound and calling fit again may find a better value.\n",
      "  warnings.warn(\"The optimal value found for \"\n"
     ]
    },
    {
     "name": "stdout",
     "output_type": "stream",
     "text": [
      "Accuracy after query 65: 0.7094\n"
     ]
    },
    {
     "name": "stderr",
     "output_type": "stream",
     "text": [
      "D:\\Program\\Anaconda3\\lib\\site-packages\\sklearn\\gaussian_process\\kernels.py:411: ConvergenceWarning: The optimal value found for dimension 0 of parameter k1__sigma_0 is close to the specified upper bound 1.0. Increasing the bound and calling fit again may find a better value.\n",
      "  warnings.warn(\"The optimal value found for \"\n",
      "D:\\Program\\Anaconda3\\lib\\site-packages\\sklearn\\gaussian_process\\kernels.py:411: ConvergenceWarning: The optimal value found for dimension 0 of parameter k2__noise_level is close to the specified upper bound 10.0. Increasing the bound and calling fit again may find a better value.\n",
      "  warnings.warn(\"The optimal value found for \"\n"
     ]
    },
    {
     "name": "stdout",
     "output_type": "stream",
     "text": [
      "Accuracy after query 66: 0.7085\n"
     ]
    },
    {
     "name": "stderr",
     "output_type": "stream",
     "text": [
      "D:\\Program\\Anaconda3\\lib\\site-packages\\sklearn\\gaussian_process\\kernels.py:411: ConvergenceWarning: The optimal value found for dimension 0 of parameter k1__sigma_0 is close to the specified upper bound 1.0. Increasing the bound and calling fit again may find a better value.\n",
      "  warnings.warn(\"The optimal value found for \"\n",
      "D:\\Program\\Anaconda3\\lib\\site-packages\\sklearn\\gaussian_process\\kernels.py:411: ConvergenceWarning: The optimal value found for dimension 0 of parameter k2__noise_level is close to the specified upper bound 10.0. Increasing the bound and calling fit again may find a better value.\n",
      "  warnings.warn(\"The optimal value found for \"\n"
     ]
    },
    {
     "name": "stdout",
     "output_type": "stream",
     "text": [
      "Accuracy after query 67: 0.7077\n"
     ]
    },
    {
     "name": "stderr",
     "output_type": "stream",
     "text": [
      "D:\\Program\\Anaconda3\\lib\\site-packages\\sklearn\\gaussian_process\\kernels.py:411: ConvergenceWarning: The optimal value found for dimension 0 of parameter k1__sigma_0 is close to the specified upper bound 1.0. Increasing the bound and calling fit again may find a better value.\n",
      "  warnings.warn(\"The optimal value found for \"\n",
      "D:\\Program\\Anaconda3\\lib\\site-packages\\sklearn\\gaussian_process\\kernels.py:411: ConvergenceWarning: The optimal value found for dimension 0 of parameter k2__noise_level is close to the specified upper bound 10.0. Increasing the bound and calling fit again may find a better value.\n",
      "  warnings.warn(\"The optimal value found for \"\n"
     ]
    },
    {
     "name": "stdout",
     "output_type": "stream",
     "text": [
      "Accuracy after query 68: 0.7087\n"
     ]
    },
    {
     "name": "stderr",
     "output_type": "stream",
     "text": [
      "D:\\Program\\Anaconda3\\lib\\site-packages\\sklearn\\gaussian_process\\kernels.py:411: ConvergenceWarning: The optimal value found for dimension 0 of parameter k1__sigma_0 is close to the specified upper bound 1.0. Increasing the bound and calling fit again may find a better value.\n",
      "  warnings.warn(\"The optimal value found for \"\n",
      "D:\\Program\\Anaconda3\\lib\\site-packages\\sklearn\\gaussian_process\\kernels.py:411: ConvergenceWarning: The optimal value found for dimension 0 of parameter k2__noise_level is close to the specified upper bound 10.0. Increasing the bound and calling fit again may find a better value.\n",
      "  warnings.warn(\"The optimal value found for \"\n"
     ]
    },
    {
     "name": "stdout",
     "output_type": "stream",
     "text": [
      "Accuracy after query 69: 0.7095\n"
     ]
    },
    {
     "name": "stderr",
     "output_type": "stream",
     "text": [
      "D:\\Program\\Anaconda3\\lib\\site-packages\\sklearn\\gaussian_process\\kernels.py:411: ConvergenceWarning: The optimal value found for dimension 0 of parameter k1__sigma_0 is close to the specified upper bound 1.0. Increasing the bound and calling fit again may find a better value.\n",
      "  warnings.warn(\"The optimal value found for \"\n",
      "D:\\Program\\Anaconda3\\lib\\site-packages\\sklearn\\gaussian_process\\kernels.py:411: ConvergenceWarning: The optimal value found for dimension 0 of parameter k2__noise_level is close to the specified upper bound 10.0. Increasing the bound and calling fit again may find a better value.\n",
      "  warnings.warn(\"The optimal value found for \"\n"
     ]
    },
    {
     "name": "stdout",
     "output_type": "stream",
     "text": [
      "Accuracy after query 70: 0.7093\n"
     ]
    },
    {
     "name": "stderr",
     "output_type": "stream",
     "text": [
      "D:\\Program\\Anaconda3\\lib\\site-packages\\sklearn\\gaussian_process\\kernels.py:411: ConvergenceWarning: The optimal value found for dimension 0 of parameter k1__sigma_0 is close to the specified upper bound 1.0. Increasing the bound and calling fit again may find a better value.\n",
      "  warnings.warn(\"The optimal value found for \"\n",
      "D:\\Program\\Anaconda3\\lib\\site-packages\\sklearn\\gaussian_process\\kernels.py:411: ConvergenceWarning: The optimal value found for dimension 0 of parameter k2__noise_level is close to the specified upper bound 10.0. Increasing the bound and calling fit again may find a better value.\n",
      "  warnings.warn(\"The optimal value found for \"\n"
     ]
    },
    {
     "name": "stdout",
     "output_type": "stream",
     "text": [
      "Accuracy after query 71: 0.7106\n"
     ]
    },
    {
     "name": "stderr",
     "output_type": "stream",
     "text": [
      "D:\\Program\\Anaconda3\\lib\\site-packages\\sklearn\\gaussian_process\\kernels.py:411: ConvergenceWarning: The optimal value found for dimension 0 of parameter k1__sigma_0 is close to the specified upper bound 1.0. Increasing the bound and calling fit again may find a better value.\n",
      "  warnings.warn(\"The optimal value found for \"\n",
      "D:\\Program\\Anaconda3\\lib\\site-packages\\sklearn\\gaussian_process\\kernels.py:411: ConvergenceWarning: The optimal value found for dimension 0 of parameter k2__noise_level is close to the specified upper bound 10.0. Increasing the bound and calling fit again may find a better value.\n",
      "  warnings.warn(\"The optimal value found for \"\n"
     ]
    },
    {
     "name": "stdout",
     "output_type": "stream",
     "text": [
      "Accuracy after query 72: 0.7105\n"
     ]
    },
    {
     "name": "stderr",
     "output_type": "stream",
     "text": [
      "D:\\Program\\Anaconda3\\lib\\site-packages\\sklearn\\gaussian_process\\kernels.py:411: ConvergenceWarning: The optimal value found for dimension 0 of parameter k1__sigma_0 is close to the specified upper bound 1.0. Increasing the bound and calling fit again may find a better value.\n",
      "  warnings.warn(\"The optimal value found for \"\n",
      "D:\\Program\\Anaconda3\\lib\\site-packages\\sklearn\\gaussian_process\\kernels.py:411: ConvergenceWarning: The optimal value found for dimension 0 of parameter k2__noise_level is close to the specified upper bound 10.0. Increasing the bound and calling fit again may find a better value.\n",
      "  warnings.warn(\"The optimal value found for \"\n"
     ]
    },
    {
     "name": "stdout",
     "output_type": "stream",
     "text": [
      "Accuracy after query 73: 0.7110\n"
     ]
    },
    {
     "name": "stderr",
     "output_type": "stream",
     "text": [
      "D:\\Program\\Anaconda3\\lib\\site-packages\\sklearn\\gaussian_process\\kernels.py:411: ConvergenceWarning: The optimal value found for dimension 0 of parameter k1__sigma_0 is close to the specified upper bound 1.0. Increasing the bound and calling fit again may find a better value.\n",
      "  warnings.warn(\"The optimal value found for \"\n",
      "D:\\Program\\Anaconda3\\lib\\site-packages\\sklearn\\gaussian_process\\kernels.py:411: ConvergenceWarning: The optimal value found for dimension 0 of parameter k2__noise_level is close to the specified upper bound 10.0. Increasing the bound and calling fit again may find a better value.\n",
      "  warnings.warn(\"The optimal value found for \"\n"
     ]
    },
    {
     "name": "stdout",
     "output_type": "stream",
     "text": [
      "Accuracy after query 74: 0.7106\n"
     ]
    },
    {
     "name": "stderr",
     "output_type": "stream",
     "text": [
      "D:\\Program\\Anaconda3\\lib\\site-packages\\sklearn\\gaussian_process\\kernels.py:411: ConvergenceWarning: The optimal value found for dimension 0 of parameter k1__sigma_0 is close to the specified upper bound 1.0. Increasing the bound and calling fit again may find a better value.\n",
      "  warnings.warn(\"The optimal value found for \"\n",
      "D:\\Program\\Anaconda3\\lib\\site-packages\\sklearn\\gaussian_process\\kernels.py:411: ConvergenceWarning: The optimal value found for dimension 0 of parameter k2__noise_level is close to the specified upper bound 10.0. Increasing the bound and calling fit again may find a better value.\n",
      "  warnings.warn(\"The optimal value found for \"\n"
     ]
    },
    {
     "name": "stdout",
     "output_type": "stream",
     "text": [
      "Accuracy after query 75: 0.7111\n"
     ]
    },
    {
     "name": "stderr",
     "output_type": "stream",
     "text": [
      "D:\\Program\\Anaconda3\\lib\\site-packages\\sklearn\\gaussian_process\\kernels.py:411: ConvergenceWarning: The optimal value found for dimension 0 of parameter k1__sigma_0 is close to the specified upper bound 1.0. Increasing the bound and calling fit again may find a better value.\n",
      "  warnings.warn(\"The optimal value found for \"\n",
      "D:\\Program\\Anaconda3\\lib\\site-packages\\sklearn\\gaussian_process\\kernels.py:411: ConvergenceWarning: The optimal value found for dimension 0 of parameter k2__noise_level is close to the specified upper bound 10.0. Increasing the bound and calling fit again may find a better value.\n",
      "  warnings.warn(\"The optimal value found for \"\n"
     ]
    },
    {
     "name": "stdout",
     "output_type": "stream",
     "text": [
      "Accuracy after query 76: 0.7132\n"
     ]
    },
    {
     "name": "stderr",
     "output_type": "stream",
     "text": [
      "D:\\Program\\Anaconda3\\lib\\site-packages\\sklearn\\gaussian_process\\kernels.py:411: ConvergenceWarning: The optimal value found for dimension 0 of parameter k1__sigma_0 is close to the specified upper bound 1.0. Increasing the bound and calling fit again may find a better value.\n",
      "  warnings.warn(\"The optimal value found for \"\n",
      "D:\\Program\\Anaconda3\\lib\\site-packages\\sklearn\\gaussian_process\\kernels.py:411: ConvergenceWarning: The optimal value found for dimension 0 of parameter k2__noise_level is close to the specified upper bound 10.0. Increasing the bound and calling fit again may find a better value.\n",
      "  warnings.warn(\"The optimal value found for \"\n"
     ]
    },
    {
     "name": "stdout",
     "output_type": "stream",
     "text": [
      "Accuracy after query 77: 0.7133\n"
     ]
    },
    {
     "name": "stderr",
     "output_type": "stream",
     "text": [
      "D:\\Program\\Anaconda3\\lib\\site-packages\\sklearn\\gaussian_process\\kernels.py:411: ConvergenceWarning: The optimal value found for dimension 0 of parameter k1__sigma_0 is close to the specified upper bound 1.0. Increasing the bound and calling fit again may find a better value.\n",
      "  warnings.warn(\"The optimal value found for \"\n",
      "D:\\Program\\Anaconda3\\lib\\site-packages\\sklearn\\gaussian_process\\kernels.py:411: ConvergenceWarning: The optimal value found for dimension 0 of parameter k2__noise_level is close to the specified upper bound 10.0. Increasing the bound and calling fit again may find a better value.\n",
      "  warnings.warn(\"The optimal value found for \"\n"
     ]
    },
    {
     "name": "stdout",
     "output_type": "stream",
     "text": [
      "Accuracy after query 78: 0.7143\n"
     ]
    },
    {
     "name": "stderr",
     "output_type": "stream",
     "text": [
      "D:\\Program\\Anaconda3\\lib\\site-packages\\sklearn\\gaussian_process\\kernels.py:411: ConvergenceWarning: The optimal value found for dimension 0 of parameter k1__sigma_0 is close to the specified upper bound 1.0. Increasing the bound and calling fit again may find a better value.\n",
      "  warnings.warn(\"The optimal value found for \"\n",
      "D:\\Program\\Anaconda3\\lib\\site-packages\\sklearn\\gaussian_process\\kernels.py:411: ConvergenceWarning: The optimal value found for dimension 0 of parameter k2__noise_level is close to the specified upper bound 10.0. Increasing the bound and calling fit again may find a better value.\n",
      "  warnings.warn(\"The optimal value found for \"\n"
     ]
    },
    {
     "name": "stdout",
     "output_type": "stream",
     "text": [
      "Accuracy after query 79: 0.7135\n"
     ]
    },
    {
     "name": "stderr",
     "output_type": "stream",
     "text": [
      "D:\\Program\\Anaconda3\\lib\\site-packages\\sklearn\\gaussian_process\\kernels.py:411: ConvergenceWarning: The optimal value found for dimension 0 of parameter k1__sigma_0 is close to the specified upper bound 1.0. Increasing the bound and calling fit again may find a better value.\n",
      "  warnings.warn(\"The optimal value found for \"\n",
      "D:\\Program\\Anaconda3\\lib\\site-packages\\sklearn\\gaussian_process\\kernels.py:411: ConvergenceWarning: The optimal value found for dimension 0 of parameter k2__noise_level is close to the specified upper bound 10.0. Increasing the bound and calling fit again may find a better value.\n",
      "  warnings.warn(\"The optimal value found for \"\n"
     ]
    },
    {
     "name": "stdout",
     "output_type": "stream",
     "text": [
      "Accuracy after query 80: 0.7152\n"
     ]
    },
    {
     "name": "stderr",
     "output_type": "stream",
     "text": [
      "D:\\Program\\Anaconda3\\lib\\site-packages\\sklearn\\gaussian_process\\kernels.py:411: ConvergenceWarning: The optimal value found for dimension 0 of parameter k1__sigma_0 is close to the specified upper bound 1.0. Increasing the bound and calling fit again may find a better value.\n",
      "  warnings.warn(\"The optimal value found for \"\n",
      "D:\\Program\\Anaconda3\\lib\\site-packages\\sklearn\\gaussian_process\\kernels.py:411: ConvergenceWarning: The optimal value found for dimension 0 of parameter k2__noise_level is close to the specified upper bound 10.0. Increasing the bound and calling fit again may find a better value.\n",
      "  warnings.warn(\"The optimal value found for \"\n"
     ]
    },
    {
     "name": "stdout",
     "output_type": "stream",
     "text": [
      "Accuracy after query 81: 0.7158\n"
     ]
    },
    {
     "name": "stderr",
     "output_type": "stream",
     "text": [
      "D:\\Program\\Anaconda3\\lib\\site-packages\\sklearn\\gaussian_process\\kernels.py:411: ConvergenceWarning: The optimal value found for dimension 0 of parameter k1__sigma_0 is close to the specified upper bound 1.0. Increasing the bound and calling fit again may find a better value.\n",
      "  warnings.warn(\"The optimal value found for \"\n",
      "D:\\Program\\Anaconda3\\lib\\site-packages\\sklearn\\gaussian_process\\kernels.py:411: ConvergenceWarning: The optimal value found for dimension 0 of parameter k2__noise_level is close to the specified upper bound 10.0. Increasing the bound and calling fit again may find a better value.\n",
      "  warnings.warn(\"The optimal value found for \"\n"
     ]
    },
    {
     "name": "stdout",
     "output_type": "stream",
     "text": [
      "Accuracy after query 82: 0.7159\n"
     ]
    },
    {
     "name": "stderr",
     "output_type": "stream",
     "text": [
      "D:\\Program\\Anaconda3\\lib\\site-packages\\sklearn\\gaussian_process\\kernels.py:411: ConvergenceWarning: The optimal value found for dimension 0 of parameter k1__sigma_0 is close to the specified upper bound 1.0. Increasing the bound and calling fit again may find a better value.\n",
      "  warnings.warn(\"The optimal value found for \"\n",
      "D:\\Program\\Anaconda3\\lib\\site-packages\\sklearn\\gaussian_process\\kernels.py:411: ConvergenceWarning: The optimal value found for dimension 0 of parameter k2__noise_level is close to the specified upper bound 10.0. Increasing the bound and calling fit again may find a better value.\n",
      "  warnings.warn(\"The optimal value found for \"\n"
     ]
    },
    {
     "name": "stdout",
     "output_type": "stream",
     "text": [
      "Accuracy after query 83: 0.7155\n"
     ]
    },
    {
     "name": "stderr",
     "output_type": "stream",
     "text": [
      "D:\\Program\\Anaconda3\\lib\\site-packages\\sklearn\\gaussian_process\\kernels.py:411: ConvergenceWarning: The optimal value found for dimension 0 of parameter k1__sigma_0 is close to the specified upper bound 1.0. Increasing the bound and calling fit again may find a better value.\n",
      "  warnings.warn(\"The optimal value found for \"\n",
      "D:\\Program\\Anaconda3\\lib\\site-packages\\sklearn\\gaussian_process\\kernels.py:411: ConvergenceWarning: The optimal value found for dimension 0 of parameter k2__noise_level is close to the specified upper bound 10.0. Increasing the bound and calling fit again may find a better value.\n",
      "  warnings.warn(\"The optimal value found for \"\n"
     ]
    },
    {
     "name": "stdout",
     "output_type": "stream",
     "text": [
      "Accuracy after query 84: 0.7156\n"
     ]
    },
    {
     "name": "stderr",
     "output_type": "stream",
     "text": [
      "D:\\Program\\Anaconda3\\lib\\site-packages\\sklearn\\gaussian_process\\kernels.py:411: ConvergenceWarning: The optimal value found for dimension 0 of parameter k1__sigma_0 is close to the specified upper bound 1.0. Increasing the bound and calling fit again may find a better value.\n",
      "  warnings.warn(\"The optimal value found for \"\n",
      "D:\\Program\\Anaconda3\\lib\\site-packages\\sklearn\\gaussian_process\\kernels.py:411: ConvergenceWarning: The optimal value found for dimension 0 of parameter k2__noise_level is close to the specified upper bound 10.0. Increasing the bound and calling fit again may find a better value.\n",
      "  warnings.warn(\"The optimal value found for \"\n"
     ]
    },
    {
     "name": "stdout",
     "output_type": "stream",
     "text": [
      "Accuracy after query 85: 0.7149\n"
     ]
    },
    {
     "name": "stderr",
     "output_type": "stream",
     "text": [
      "D:\\Program\\Anaconda3\\lib\\site-packages\\sklearn\\gaussian_process\\kernels.py:411: ConvergenceWarning: The optimal value found for dimension 0 of parameter k1__sigma_0 is close to the specified upper bound 1.0. Increasing the bound and calling fit again may find a better value.\n",
      "  warnings.warn(\"The optimal value found for \"\n",
      "D:\\Program\\Anaconda3\\lib\\site-packages\\sklearn\\gaussian_process\\kernels.py:411: ConvergenceWarning: The optimal value found for dimension 0 of parameter k2__noise_level is close to the specified upper bound 10.0. Increasing the bound and calling fit again may find a better value.\n",
      "  warnings.warn(\"The optimal value found for \"\n"
     ]
    },
    {
     "name": "stdout",
     "output_type": "stream",
     "text": [
      "Accuracy after query 86: 0.7141\n"
     ]
    },
    {
     "name": "stderr",
     "output_type": "stream",
     "text": [
      "D:\\Program\\Anaconda3\\lib\\site-packages\\sklearn\\gaussian_process\\kernels.py:411: ConvergenceWarning: The optimal value found for dimension 0 of parameter k1__sigma_0 is close to the specified upper bound 1.0. Increasing the bound and calling fit again may find a better value.\n",
      "  warnings.warn(\"The optimal value found for \"\n",
      "D:\\Program\\Anaconda3\\lib\\site-packages\\sklearn\\gaussian_process\\kernels.py:411: ConvergenceWarning: The optimal value found for dimension 0 of parameter k2__noise_level is close to the specified upper bound 10.0. Increasing the bound and calling fit again may find a better value.\n",
      "  warnings.warn(\"The optimal value found for \"\n"
     ]
    },
    {
     "name": "stdout",
     "output_type": "stream",
     "text": [
      "Accuracy after query 87: 0.7134\n"
     ]
    },
    {
     "name": "stderr",
     "output_type": "stream",
     "text": [
      "D:\\Program\\Anaconda3\\lib\\site-packages\\sklearn\\gaussian_process\\kernels.py:411: ConvergenceWarning: The optimal value found for dimension 0 of parameter k1__sigma_0 is close to the specified upper bound 1.0. Increasing the bound and calling fit again may find a better value.\n",
      "  warnings.warn(\"The optimal value found for \"\n",
      "D:\\Program\\Anaconda3\\lib\\site-packages\\sklearn\\gaussian_process\\kernels.py:411: ConvergenceWarning: The optimal value found for dimension 0 of parameter k2__noise_level is close to the specified upper bound 10.0. Increasing the bound and calling fit again may find a better value.\n",
      "  warnings.warn(\"The optimal value found for \"\n"
     ]
    },
    {
     "name": "stdout",
     "output_type": "stream",
     "text": [
      "Accuracy after query 88: 0.7134\n"
     ]
    },
    {
     "name": "stderr",
     "output_type": "stream",
     "text": [
      "D:\\Program\\Anaconda3\\lib\\site-packages\\sklearn\\gaussian_process\\kernels.py:411: ConvergenceWarning: The optimal value found for dimension 0 of parameter k1__sigma_0 is close to the specified upper bound 1.0. Increasing the bound and calling fit again may find a better value.\n",
      "  warnings.warn(\"The optimal value found for \"\n",
      "D:\\Program\\Anaconda3\\lib\\site-packages\\sklearn\\gaussian_process\\kernels.py:411: ConvergenceWarning: The optimal value found for dimension 0 of parameter k2__noise_level is close to the specified upper bound 10.0. Increasing the bound and calling fit again may find a better value.\n",
      "  warnings.warn(\"The optimal value found for \"\n"
     ]
    },
    {
     "name": "stdout",
     "output_type": "stream",
     "text": [
      "Accuracy after query 89: 0.7157\n"
     ]
    },
    {
     "name": "stderr",
     "output_type": "stream",
     "text": [
      "D:\\Program\\Anaconda3\\lib\\site-packages\\sklearn\\gaussian_process\\kernels.py:411: ConvergenceWarning: The optimal value found for dimension 0 of parameter k1__sigma_0 is close to the specified upper bound 1.0. Increasing the bound and calling fit again may find a better value.\n",
      "  warnings.warn(\"The optimal value found for \"\n",
      "D:\\Program\\Anaconda3\\lib\\site-packages\\sklearn\\gaussian_process\\kernels.py:411: ConvergenceWarning: The optimal value found for dimension 0 of parameter k2__noise_level is close to the specified upper bound 10.0. Increasing the bound and calling fit again may find a better value.\n",
      "  warnings.warn(\"The optimal value found for \"\n"
     ]
    },
    {
     "name": "stdout",
     "output_type": "stream",
     "text": [
      "Accuracy after query 90: 0.7162\n"
     ]
    },
    {
     "name": "stderr",
     "output_type": "stream",
     "text": [
      "D:\\Program\\Anaconda3\\lib\\site-packages\\sklearn\\gaussian_process\\kernels.py:411: ConvergenceWarning: The optimal value found for dimension 0 of parameter k1__sigma_0 is close to the specified upper bound 1.0. Increasing the bound and calling fit again may find a better value.\n",
      "  warnings.warn(\"The optimal value found for \"\n",
      "D:\\Program\\Anaconda3\\lib\\site-packages\\sklearn\\gaussian_process\\kernels.py:411: ConvergenceWarning: The optimal value found for dimension 0 of parameter k2__noise_level is close to the specified upper bound 10.0. Increasing the bound and calling fit again may find a better value.\n",
      "  warnings.warn(\"The optimal value found for \"\n"
     ]
    },
    {
     "name": "stdout",
     "output_type": "stream",
     "text": [
      "Accuracy after query 91: 0.7157\n"
     ]
    },
    {
     "name": "stderr",
     "output_type": "stream",
     "text": [
      "D:\\Program\\Anaconda3\\lib\\site-packages\\sklearn\\gaussian_process\\kernels.py:411: ConvergenceWarning: The optimal value found for dimension 0 of parameter k1__sigma_0 is close to the specified upper bound 1.0. Increasing the bound and calling fit again may find a better value.\n",
      "  warnings.warn(\"The optimal value found for \"\n",
      "D:\\Program\\Anaconda3\\lib\\site-packages\\sklearn\\gaussian_process\\kernels.py:411: ConvergenceWarning: The optimal value found for dimension 0 of parameter k2__noise_level is close to the specified upper bound 10.0. Increasing the bound and calling fit again may find a better value.\n",
      "  warnings.warn(\"The optimal value found for \"\n"
     ]
    },
    {
     "name": "stdout",
     "output_type": "stream",
     "text": [
      "Accuracy after query 92: 0.7165\n"
     ]
    },
    {
     "name": "stderr",
     "output_type": "stream",
     "text": [
      "D:\\Program\\Anaconda3\\lib\\site-packages\\sklearn\\gaussian_process\\kernels.py:411: ConvergenceWarning: The optimal value found for dimension 0 of parameter k1__sigma_0 is close to the specified upper bound 1.0. Increasing the bound and calling fit again may find a better value.\n",
      "  warnings.warn(\"The optimal value found for \"\n",
      "D:\\Program\\Anaconda3\\lib\\site-packages\\sklearn\\gaussian_process\\kernels.py:411: ConvergenceWarning: The optimal value found for dimension 0 of parameter k2__noise_level is close to the specified upper bound 10.0. Increasing the bound and calling fit again may find a better value.\n",
      "  warnings.warn(\"The optimal value found for \"\n"
     ]
    },
    {
     "name": "stdout",
     "output_type": "stream",
     "text": [
      "Accuracy after query 93: 0.7179\n"
     ]
    },
    {
     "name": "stderr",
     "output_type": "stream",
     "text": [
      "D:\\Program\\Anaconda3\\lib\\site-packages\\sklearn\\gaussian_process\\kernels.py:411: ConvergenceWarning: The optimal value found for dimension 0 of parameter k1__sigma_0 is close to the specified upper bound 1.0. Increasing the bound and calling fit again may find a better value.\n",
      "  warnings.warn(\"The optimal value found for \"\n",
      "D:\\Program\\Anaconda3\\lib\\site-packages\\sklearn\\gaussian_process\\kernels.py:411: ConvergenceWarning: The optimal value found for dimension 0 of parameter k2__noise_level is close to the specified upper bound 10.0. Increasing the bound and calling fit again may find a better value.\n",
      "  warnings.warn(\"The optimal value found for \"\n"
     ]
    },
    {
     "name": "stdout",
     "output_type": "stream",
     "text": [
      "Accuracy after query 94: 0.7176\n"
     ]
    },
    {
     "name": "stderr",
     "output_type": "stream",
     "text": [
      "D:\\Program\\Anaconda3\\lib\\site-packages\\sklearn\\gaussian_process\\kernels.py:411: ConvergenceWarning: The optimal value found for dimension 0 of parameter k1__sigma_0 is close to the specified upper bound 1.0. Increasing the bound and calling fit again may find a better value.\n",
      "  warnings.warn(\"The optimal value found for \"\n",
      "D:\\Program\\Anaconda3\\lib\\site-packages\\sklearn\\gaussian_process\\kernels.py:411: ConvergenceWarning: The optimal value found for dimension 0 of parameter k2__noise_level is close to the specified upper bound 10.0. Increasing the bound and calling fit again may find a better value.\n",
      "  warnings.warn(\"The optimal value found for \"\n"
     ]
    },
    {
     "name": "stdout",
     "output_type": "stream",
     "text": [
      "Accuracy after query 95: 0.7191\n"
     ]
    },
    {
     "name": "stderr",
     "output_type": "stream",
     "text": [
      "D:\\Program\\Anaconda3\\lib\\site-packages\\sklearn\\gaussian_process\\kernels.py:411: ConvergenceWarning: The optimal value found for dimension 0 of parameter k1__sigma_0 is close to the specified upper bound 1.0. Increasing the bound and calling fit again may find a better value.\n",
      "  warnings.warn(\"The optimal value found for \"\n",
      "D:\\Program\\Anaconda3\\lib\\site-packages\\sklearn\\gaussian_process\\kernels.py:411: ConvergenceWarning: The optimal value found for dimension 0 of parameter k2__noise_level is close to the specified upper bound 10.0. Increasing the bound and calling fit again may find a better value.\n",
      "  warnings.warn(\"The optimal value found for \"\n"
     ]
    },
    {
     "name": "stdout",
     "output_type": "stream",
     "text": [
      "Accuracy after query 96: 0.7180\n"
     ]
    },
    {
     "name": "stderr",
     "output_type": "stream",
     "text": [
      "D:\\Program\\Anaconda3\\lib\\site-packages\\sklearn\\gaussian_process\\kernels.py:411: ConvergenceWarning: The optimal value found for dimension 0 of parameter k1__sigma_0 is close to the specified upper bound 1.0. Increasing the bound and calling fit again may find a better value.\n",
      "  warnings.warn(\"The optimal value found for \"\n",
      "D:\\Program\\Anaconda3\\lib\\site-packages\\sklearn\\gaussian_process\\kernels.py:411: ConvergenceWarning: The optimal value found for dimension 0 of parameter k2__noise_level is close to the specified upper bound 10.0. Increasing the bound and calling fit again may find a better value.\n",
      "  warnings.warn(\"The optimal value found for \"\n"
     ]
    },
    {
     "name": "stdout",
     "output_type": "stream",
     "text": [
      "Accuracy after query 97: 0.7182\n"
     ]
    },
    {
     "name": "stderr",
     "output_type": "stream",
     "text": [
      "D:\\Program\\Anaconda3\\lib\\site-packages\\sklearn\\gaussian_process\\kernels.py:411: ConvergenceWarning: The optimal value found for dimension 0 of parameter k1__sigma_0 is close to the specified upper bound 1.0. Increasing the bound and calling fit again may find a better value.\n",
      "  warnings.warn(\"The optimal value found for \"\n",
      "D:\\Program\\Anaconda3\\lib\\site-packages\\sklearn\\gaussian_process\\kernels.py:411: ConvergenceWarning: The optimal value found for dimension 0 of parameter k2__noise_level is close to the specified upper bound 10.0. Increasing the bound and calling fit again may find a better value.\n",
      "  warnings.warn(\"The optimal value found for \"\n"
     ]
    },
    {
     "name": "stdout",
     "output_type": "stream",
     "text": [
      "Accuracy after query 98: 0.7174\n"
     ]
    },
    {
     "name": "stderr",
     "output_type": "stream",
     "text": [
      "D:\\Program\\Anaconda3\\lib\\site-packages\\sklearn\\gaussian_process\\kernels.py:411: ConvergenceWarning: The optimal value found for dimension 0 of parameter k1__sigma_0 is close to the specified upper bound 1.0. Increasing the bound and calling fit again may find a better value.\n",
      "  warnings.warn(\"The optimal value found for \"\n",
      "D:\\Program\\Anaconda3\\lib\\site-packages\\sklearn\\gaussian_process\\kernels.py:411: ConvergenceWarning: The optimal value found for dimension 0 of parameter k2__noise_level is close to the specified upper bound 10.0. Increasing the bound and calling fit again may find a better value.\n",
      "  warnings.warn(\"The optimal value found for \"\n"
     ]
    },
    {
     "name": "stdout",
     "output_type": "stream",
     "text": [
      "Accuracy after query 99: 0.7197\n"
     ]
    },
    {
     "name": "stderr",
     "output_type": "stream",
     "text": [
      "D:\\Program\\Anaconda3\\lib\\site-packages\\sklearn\\gaussian_process\\kernels.py:411: ConvergenceWarning: The optimal value found for dimension 0 of parameter k1__sigma_0 is close to the specified upper bound 1.0. Increasing the bound and calling fit again may find a better value.\n",
      "  warnings.warn(\"The optimal value found for \"\n",
      "D:\\Program\\Anaconda3\\lib\\site-packages\\sklearn\\gaussian_process\\kernels.py:411: ConvergenceWarning: The optimal value found for dimension 0 of parameter k2__noise_level is close to the specified upper bound 10.0. Increasing the bound and calling fit again may find a better value.\n",
      "  warnings.warn(\"The optimal value found for \"\n"
     ]
    },
    {
     "name": "stdout",
     "output_type": "stream",
     "text": [
      "Accuracy after query 100: 0.7217\n",
      "(58900, 784)\n"
     ]
    }
   ],
   "source": [
    "# done!\n",
    "X_pool = np.delete(X_train, initial_idx_1000, axis=0)\n",
    "y_pool = np.delete(y_train, initial_idx_1000, axis=0)\n",
    "X_list = [X_test, X_pool, X_initial_1000]\n",
    "X_test_re, X_pool_re, X_initial_re_1000 = img_reshape(X_list)\n",
    "\n",
    "device = \"cuda\" if torch.cuda.is_available() else \"cpu\"\n",
    "gpc = GaussianProcessClassifier(kernel=kernel, n_restarts_optimizer=10)\n",
    "estimator = gpc\n",
    "GPC_Uni_perf_hist = active_learning_procedure(uniform,\n",
    "                                          X_test_re,\n",
    "                                          y_test,\n",
    "                                          X_pool_re,\n",
    "                                          y_pool,\n",
    "                                          X_initial_re_1000,\n",
    "                                          y_initial_1000,\n",
    "                                          estimator,\n",
    "                                          n_queries=100,\n",
    "                                          n_instances=1\n",
    "                                             )\n",
    "np.save('D:/Studium/WiSe2021/SA/Project/run_adlr/GPC_uni_1000_100x1.npy', GPC_Uni_perf_hist)"
   ]
  },
  {
   "cell_type": "markdown",
   "metadata": {
    "id": "XoRO6TuSOJus",
    "jp-MarkdownHeadingCollapsed": true,
    "tags": []
   },
   "source": [
    "### Deep CNNs as shallow GPs"
   ]
  },
  {
   "cell_type": "code",
   "execution_count": 24,
   "metadata": {
    "colab": {
     "base_uri": "https://localhost:8080/"
    },
    "collapsed": true,
    "executionInfo": {
     "elapsed": 59570,
     "status": "ok",
     "timestamp": 1639731914117,
     "user": {
      "displayName": "dexuan meng",
      "photoUrl": "https://lh3.googleusercontent.com/a/default-user=s64",
      "userId": "02429618187161859061"
     },
     "user_tz": -60
    },
    "id": "Y1wdT0UxOOsV",
    "jupyter": {
     "outputs_hidden": true,
     "source_hidden": true
    },
    "outputId": "bf637e9c-3e28-4442-b2bd-b8b37692954f",
    "tags": []
   },
   "outputs": [
    {
     "name": "stdout",
     "output_type": "stream",
     "text": [
      "(59950, 1, 28, 28)\n",
      "Accuracy after query 1: 0.7096\n",
      "Accuracy after query 2: 0.6827\n",
      "Accuracy after query 3: 0.7200\n",
      "Accuracy after query 4: 0.7224\n",
      "Accuracy after query 5: 0.7295\n",
      "Accuracy after query 6: 0.7334\n",
      "Accuracy after query 7: 0.7130\n",
      "Accuracy after query 8: 0.7215\n",
      "Accuracy after query 9: 0.7541\n",
      "Accuracy after query 10: 0.7355\n",
      "Accuracy after query 11: 0.7366\n",
      "Accuracy after query 12: 0.7158\n",
      "Accuracy after query 13: 0.7485\n",
      "Accuracy after query 14: 0.7605\n",
      "Accuracy after query 15: 0.7646\n",
      "Accuracy after query 16: 0.7745\n",
      "Accuracy after query 17: 0.7609\n",
      "Accuracy after query 18: 0.7606\n",
      "Accuracy after query 19: 0.7527\n",
      "Accuracy after query 20: 0.7465\n",
      "Accuracy after query 21: 0.7736\n",
      "Accuracy after query 22: 0.7702\n",
      "Accuracy after query 23: 0.7906\n",
      "Accuracy after query 24: 0.7639\n",
      "Accuracy after query 25: 0.7814\n",
      "Accuracy after query 26: 0.8183\n",
      "Accuracy after query 27: 0.7884\n",
      "Accuracy after query 28: 0.7839\n",
      "Accuracy after query 29: 0.8086\n",
      "Accuracy after query 30: 0.7937\n",
      "Accuracy after query 31: 0.8024\n",
      "Accuracy after query 32: 0.7817\n",
      "Accuracy after query 33: 0.7968\n",
      "Accuracy after query 34: 0.8130\n",
      "Accuracy after query 35: 0.7961\n",
      "Accuracy after query 36: 0.7871\n",
      "Accuracy after query 37: 0.8015\n",
      "Accuracy after query 38: 0.8145\n",
      "Accuracy after query 39: 0.7784\n",
      "Accuracy after query 40: 0.8056\n",
      "Accuracy after query 41: 0.7991\n",
      "Accuracy after query 42: 0.8203\n",
      "Accuracy after query 43: 0.8038\n",
      "Accuracy after query 44: 0.7945\n",
      "Accuracy after query 45: 0.8135\n",
      "Accuracy after query 46: 0.8032\n",
      "Accuracy after query 47: 0.8198\n",
      "Accuracy after query 48: 0.8217\n",
      "Accuracy after query 49: 0.7946\n",
      "Accuracy after query 50: 0.8258\n",
      "Accuracy after query 51: 0.8094\n",
      "Accuracy after query 52: 0.8110\n",
      "Accuracy after query 53: 0.8168\n",
      "Accuracy after query 54: 0.8109\n",
      "Accuracy after query 55: 0.8149\n",
      "Accuracy after query 56: 0.8220\n",
      "Accuracy after query 57: 0.8045\n",
      "Accuracy after query 58: 0.8192\n",
      "Accuracy after query 59: 0.8278\n",
      "Accuracy after query 60: 0.8304\n",
      "Accuracy after query 61: 0.8225\n",
      "Accuracy after query 62: 0.8420\n",
      "Accuracy after query 63: 0.8210\n",
      "Accuracy after query 64: 0.8271\n",
      "Accuracy after query 65: 0.8270\n",
      "Accuracy after query 66: 0.8112\n",
      "Accuracy after query 67: 0.8245\n",
      "Accuracy after query 68: 0.8380\n",
      "Accuracy after query 69: 0.8583\n",
      "Accuracy after query 70: 0.8428\n",
      "Accuracy after query 71: 0.8465\n",
      "Accuracy after query 72: 0.8482\n",
      "Accuracy after query 73: 0.8470\n",
      "Accuracy after query 74: 0.8508\n",
      "Accuracy after query 75: 0.8472\n",
      "Accuracy after query 76: 0.8618\n",
      "Accuracy after query 77: 0.8382\n",
      "Accuracy after query 78: 0.8546\n",
      "Accuracy after query 79: 0.8757\n",
      "Accuracy after query 80: 0.8482\n",
      "Accuracy after query 81: 0.8691\n",
      "Accuracy after query 82: 0.8657\n",
      "Accuracy after query 83: 0.8707\n",
      "Accuracy after query 84: 0.8812\n",
      "Accuracy after query 85: 0.8824\n",
      "Accuracy after query 86: 0.8791\n",
      "Accuracy after query 87: 0.8841\n",
      "Accuracy after query 88: 0.8740\n",
      "Accuracy after query 89: 0.8821\n",
      "Accuracy after query 90: 0.8710\n",
      "Accuracy after query 91: 0.8827\n",
      "Accuracy after query 92: 0.8723\n",
      "Accuracy after query 93: 0.8748\n",
      "Accuracy after query 94: 0.8802\n",
      "Accuracy after query 95: 0.8788\n",
      "Accuracy after query 96: 0.8678\n",
      "Accuracy after query 97: 0.8641\n",
      "Accuracy after query 98: 0.8794\n",
      "Accuracy after query 99: 0.8795\n",
      "Accuracy after query 100: 0.8817\n",
      "(59850, 1, 28, 28)\n"
     ]
    }
   ],
   "source": [
    "# done!\n",
    "X_pool = np.delete(X_train, initial_idx, axis=0)\n",
    "y_pool = np.delete(y_train, initial_idx, axis=0)\n",
    "X_list = [X_test, X_pool, X_initial]\n",
    "X_test_re, X_pool_re, X_initial_re = img_reshape(X_list)\n",
    "\n",
    "device = \"cuda\" if torch.cuda.is_available() else \"cpu\"\n",
    "\n",
    "estimator = NeuralNetClassifier(GP_CNN,\n",
    "                                max_epochs=50,\n",
    "                                batch_size=128,\n",
    "                                lr=0.001,\n",
    "                                optimizer=torch.optim.Adam,\n",
    "                                criterion=torch.nn.CrossEntropyLoss,\n",
    "                                train_split=None,\n",
    "                                verbose=0,\n",
    "                                device=device)\n",
    "GP_CNN_perf_hist = active_learning_procedure(\n",
    "    bald_MC,\n",
    "    X_test,\n",
    "    y_test,\n",
    "    X_pool,\n",
    "    y_pool,\n",
    "    X_initial,\n",
    "    y_initial,\n",
    "    estimator,\n",
    "    n_queries=100,\n",
    "    n_instances=1\n",
    ")\n",
    "np.save('D:/Studium/WiSe2021/SA/Project/run_adlr/GP_CNN_baldMC_50_100x1.npy', GP_CNN_perf_hist)"
   ]
  },
  {
   "cell_type": "code",
   "execution_count": 33,
   "metadata": {
    "colab": {
     "base_uri": "https://localhost:8080/"
    },
    "collapsed": true,
    "executionInfo": {
     "elapsed": 53635,
     "status": "ok",
     "timestamp": 1639731967742,
     "user": {
      "displayName": "dexuan meng",
      "photoUrl": "https://lh3.googleusercontent.com/a/default-user=s64",
      "userId": "02429618187161859061"
     },
     "user_tz": -60
    },
    "id": "njz4QKNIeFMo",
    "jupyter": {
     "outputs_hidden": true,
     "source_hidden": true
    },
    "outputId": "f087e212-39a1-480f-8fb6-526e2dccac4a",
    "scrolled": true,
    "tags": []
   },
   "outputs": [
    {
     "name": "stdout",
     "output_type": "stream",
     "text": [
      "(59950, 1, 28, 28)\n",
      "Accuracy after query 1: 0.6973\n",
      "Accuracy after query 2: 0.7046\n",
      "Accuracy after query 3: 0.7168\n",
      "Accuracy after query 4: 0.6840\n",
      "Accuracy after query 5: 0.6936\n",
      "Accuracy after query 6: 0.6979\n",
      "Accuracy after query 7: 0.6825\n",
      "Accuracy after query 8: 0.6773\n",
      "Accuracy after query 9: 0.6705\n",
      "Accuracy after query 10: 0.6902\n",
      "Accuracy after query 11: 0.6830\n",
      "Accuracy after query 12: 0.6844\n",
      "Accuracy after query 13: 0.7111\n",
      "Accuracy after query 14: 0.6969\n",
      "Accuracy after query 15: 0.7058\n",
      "Accuracy after query 16: 0.7259\n",
      "Accuracy after query 17: 0.7149\n",
      "Accuracy after query 18: 0.7398\n",
      "Accuracy after query 19: 0.7201\n",
      "Accuracy after query 20: 0.7011\n",
      "Accuracy after query 21: 0.7049\n",
      "Accuracy after query 22: 0.6745\n",
      "Accuracy after query 23: 0.7042\n",
      "Accuracy after query 24: 0.6995\n",
      "Accuracy after query 25: 0.6988\n",
      "Accuracy after query 26: 0.7329\n",
      "Accuracy after query 27: 0.6675\n",
      "Accuracy after query 28: 0.7188\n",
      "Accuracy after query 29: 0.6915\n",
      "Accuracy after query 30: 0.7514\n",
      "Accuracy after query 31: 0.7126\n",
      "Accuracy after query 32: 0.7079\n",
      "Accuracy after query 33: 0.6907\n",
      "Accuracy after query 34: 0.7039\n",
      "Accuracy after query 35: 0.7594\n",
      "Accuracy after query 36: 0.7354\n",
      "Accuracy after query 37: 0.7113\n",
      "Accuracy after query 38: 0.7201\n",
      "Accuracy after query 39: 0.7063\n",
      "Accuracy after query 40: 0.7150\n",
      "Accuracy after query 41: 0.7112\n",
      "Accuracy after query 42: 0.7365\n",
      "Accuracy after query 43: 0.7166\n",
      "Accuracy after query 44: 0.7538\n",
      "Accuracy after query 45: 0.7404\n",
      "Accuracy after query 46: 0.7427\n",
      "Accuracy after query 47: 0.7443\n",
      "Accuracy after query 48: 0.7662\n",
      "Accuracy after query 49: 0.7343\n",
      "Accuracy after query 50: 0.7835\n",
      "Accuracy after query 51: 0.7700\n",
      "Accuracy after query 52: 0.7663\n",
      "Accuracy after query 53: 0.7606\n",
      "Accuracy after query 54: 0.7592\n",
      "Accuracy after query 55: 0.7645\n",
      "Accuracy after query 56: 0.7655\n",
      "Accuracy after query 57: 0.7453\n",
      "Accuracy after query 58: 0.7807\n",
      "Accuracy after query 59: 0.7443\n",
      "Accuracy after query 60: 0.7878\n",
      "Accuracy after query 61: 0.7804\n",
      "Accuracy after query 62: 0.7855\n",
      "Accuracy after query 63: 0.7542\n",
      "Accuracy after query 64: 0.7926\n",
      "Accuracy after query 65: 0.7370\n",
      "Accuracy after query 66: 0.7960\n",
      "Accuracy after query 67: 0.7747\n",
      "Accuracy after query 68: 0.7725\n",
      "Accuracy after query 69: 0.7829\n",
      "Accuracy after query 70: 0.7599\n",
      "Accuracy after query 71: 0.7853\n",
      "Accuracy after query 72: 0.7780\n",
      "Accuracy after query 73: 0.8011\n",
      "Accuracy after query 74: 0.7987\n",
      "Accuracy after query 75: 0.7636\n",
      "Accuracy after query 76: 0.7694\n",
      "Accuracy after query 77: 0.7808\n",
      "Accuracy after query 78: 0.7885\n",
      "Accuracy after query 79: 0.8292\n",
      "Accuracy after query 80: 0.8285\n",
      "Accuracy after query 81: 0.8267\n",
      "Accuracy after query 82: 0.8082\n",
      "Accuracy after query 83: 0.8362\n",
      "Accuracy after query 84: 0.8362\n",
      "Accuracy after query 85: 0.8244\n",
      "Accuracy after query 86: 0.8210\n",
      "Accuracy after query 87: 0.8062\n",
      "Accuracy after query 88: 0.8102\n",
      "Accuracy after query 89: 0.8294\n",
      "Accuracy after query 90: 0.7955\n",
      "Accuracy after query 91: 0.8258\n",
      "Accuracy after query 92: 0.8072\n",
      "Accuracy after query 93: 0.8208\n",
      "Accuracy after query 94: 0.8123\n",
      "Accuracy after query 95: 0.8399\n",
      "Accuracy after query 96: 0.8113\n",
      "Accuracy after query 97: 0.8058\n",
      "Accuracy after query 98: 0.7836\n",
      "Accuracy after query 99: 0.8211\n",
      "Accuracy after query 100: 0.8244\n",
      "(59850, 1, 28, 28)\n"
     ]
    }
   ],
   "source": [
    "# done\n",
    "X_pool = np.delete(X_train, initial_idx, axis=0)\n",
    "y_pool = np.delete(y_train, initial_idx, axis=0)\n",
    "X_list = [X_test, X_pool, X_initial]\n",
    "X_test_re, X_pool_re, X_initial_re = img_reshape(X_list)\n",
    "\n",
    "device = \"cuda\" if torch.cuda.is_available() else \"cpu\"\n",
    "\n",
    "estimator = NeuralNetClassifier(GP_CNN,\n",
    "                                max_epochs=50,\n",
    "                                batch_size=128,\n",
    "                                lr=0.001,\n",
    "                                optimizer=torch.optim.Adam,\n",
    "                                criterion=torch.nn.CrossEntropyLoss,\n",
    "                                train_split=None,\n",
    "                                verbose=0,\n",
    "                                device=device)\n",
    "GP_CNN_Uni_perf_hist = active_learning_procedure(\n",
    "    uniform,\n",
    "    X_test,\n",
    "    y_test,\n",
    "    X_pool,\n",
    "    y_pool,\n",
    "    X_initial,\n",
    "    y_initial,\n",
    "    estimator,\n",
    "    n_queries=100,\n",
    "    n_instances=1\n",
    ")\n",
    "np.save('D:/Studium/WiSe2021/SA/Project/run_adlr/GP_CNN_uni_50_100x1.npy', GP_CNN_Uni_perf_hist)"
   ]
  },
  {
   "cell_type": "markdown",
   "metadata": {},
   "source": [
    "#### initial = 1000"
   ]
  },
  {
   "cell_type": "code",
   "execution_count": 25,
   "metadata": {
    "scrolled": true
   },
   "outputs": [
    {
     "name": "stdout",
     "output_type": "stream",
     "text": [
      "(59000, 1, 28, 28)\n",
      "Accuracy after query 1: 0.7873\n",
      "Accuracy after query 2: 0.7955\n",
      "Accuracy after query 3: 0.7950\n",
      "Accuracy after query 4: 0.8045\n",
      "Accuracy after query 5: 0.7704\n",
      "Accuracy after query 6: 0.7963\n",
      "Accuracy after query 7: 0.7943\n",
      "Accuracy after query 8: 0.8194\n",
      "Accuracy after query 9: 0.7892\n",
      "Accuracy after query 10: 0.7696\n",
      "Accuracy after query 11: 0.8121\n",
      "Accuracy after query 12: 0.8179\n",
      "Accuracy after query 13: 0.8074\n",
      "Accuracy after query 14: 0.8055\n",
      "Accuracy after query 15: 0.8055\n",
      "Accuracy after query 16: 0.8022\n",
      "Accuracy after query 17: 0.7802\n",
      "Accuracy after query 18: 0.7958\n",
      "Accuracy after query 19: 0.8160\n",
      "Accuracy after query 20: 0.7943\n",
      "Accuracy after query 21: 0.7871\n",
      "Accuracy after query 22: 0.7817\n",
      "Accuracy after query 23: 0.7972\n",
      "Accuracy after query 24: 0.7969\n",
      "Accuracy after query 25: 0.8071\n",
      "Accuracy after query 26: 0.7892\n",
      "Accuracy after query 27: 0.7753\n",
      "Accuracy after query 28: 0.8066\n",
      "Accuracy after query 29: 0.7630\n",
      "Accuracy after query 30: 0.7609\n",
      "Accuracy after query 31: 0.7929\n",
      "Accuracy after query 32: 0.8068\n",
      "Accuracy after query 33: 0.8030\n",
      "Accuracy after query 34: 0.7868\n",
      "Accuracy after query 35: 0.7936\n",
      "Accuracy after query 36: 0.7959\n",
      "Accuracy after query 37: 0.7972\n",
      "Accuracy after query 38: 0.7912\n",
      "Accuracy after query 39: 0.8119\n",
      "Accuracy after query 40: 0.8307\n",
      "Accuracy after query 41: 0.8047\n",
      "Accuracy after query 42: 0.7887\n",
      "Accuracy after query 43: 0.7866\n",
      "Accuracy after query 44: 0.7905\n",
      "Accuracy after query 45: 0.8145\n",
      "Accuracy after query 46: 0.8133\n",
      "Accuracy after query 47: 0.8006\n",
      "Accuracy after query 48: 0.8178\n",
      "Accuracy after query 49: 0.7886\n",
      "Accuracy after query 50: 0.8169\n",
      "Accuracy after query 51: 0.8233\n",
      "Accuracy after query 52: 0.8367\n",
      "Accuracy after query 53: 0.8016\n",
      "Accuracy after query 54: 0.8001\n",
      "Accuracy after query 55: 0.7736\n",
      "Accuracy after query 56: 0.8441\n",
      "Accuracy after query 57: 0.8083\n",
      "Accuracy after query 58: 0.7587\n",
      "Accuracy after query 59: 0.7837\n",
      "Accuracy after query 60: 0.8064\n",
      "Accuracy after query 61: 0.8084\n",
      "Accuracy after query 62: 0.8416\n",
      "Accuracy after query 63: 0.8253\n",
      "Accuracy after query 64: 0.8109\n",
      "Accuracy after query 65: 0.8072\n",
      "Accuracy after query 66: 0.8208\n",
      "Accuracy after query 67: 0.8257\n",
      "Accuracy after query 68: 0.8191\n",
      "Accuracy after query 69: 0.8048\n",
      "Accuracy after query 70: 0.8045\n",
      "Accuracy after query 71: 0.8391\n",
      "Accuracy after query 72: 0.8073\n",
      "Accuracy after query 73: 0.8428\n",
      "Accuracy after query 74: 0.7995\n",
      "Accuracy after query 75: 0.8169\n",
      "Accuracy after query 76: 0.8032\n",
      "Accuracy after query 77: 0.8423\n",
      "Accuracy after query 78: 0.8145\n",
      "Accuracy after query 79: 0.8242\n",
      "Accuracy after query 80: 0.7957\n",
      "Accuracy after query 81: 0.8319\n",
      "Accuracy after query 82: 0.8221\n",
      "Accuracy after query 83: 0.8257\n",
      "Accuracy after query 84: 0.8102\n",
      "Accuracy after query 85: 0.8306\n",
      "Accuracy after query 86: 0.8183\n",
      "Accuracy after query 87: 0.8264\n",
      "Accuracy after query 88: 0.7874\n",
      "Accuracy after query 89: 0.8407\n",
      "Accuracy after query 90: 0.8368\n",
      "Accuracy after query 91: 0.8314\n",
      "Accuracy after query 92: 0.8196\n",
      "Accuracy after query 93: 0.8412\n",
      "Accuracy after query 94: 0.8136\n",
      "Accuracy after query 95: 0.7877\n",
      "Accuracy after query 96: 0.8327\n",
      "Accuracy after query 97: 0.7749\n",
      "Accuracy after query 98: 0.8230\n",
      "Accuracy after query 99: 0.8267\n",
      "Accuracy after query 100: 0.7788\n",
      "(58900, 1, 28, 28)\n"
     ]
    }
   ],
   "source": [
    "X_pool = np.delete(X_train, initial_idx_1000, axis=0)\n",
    "y_pool = np.delete(y_train, initial_idx_1000, axis=0)\n",
    "X_list = [X_test, X_pool, X_initial_1000]\n",
    "X_test_re, X_pool_re, X_initial_re_1000 = img_reshape(X_list)\n",
    "\n",
    "device = \"cuda\" if torch.cuda.is_available() else \"cpu\"\n",
    "\n",
    "estimator = NeuralNetClassifier(GP_CNN,\n",
    "                                max_epochs=50,\n",
    "                                batch_size=128,\n",
    "                                lr=0.001,\n",
    "                                optimizer=torch.optim.Adam,\n",
    "                                criterion=torch.nn.CrossEntropyLoss,\n",
    "                                train_split=None,\n",
    "                                verbose=0,\n",
    "                                device=device)\n",
    "GP_CNN_perf_hist = active_learning_procedure(\n",
    "    bald_MC,\n",
    "    X_test,\n",
    "    y_test,\n",
    "    X_pool,\n",
    "    y_pool,\n",
    "    X_initial_1000,\n",
    "    y_initial_1000,\n",
    "    estimator,\n",
    "    n_queries=100,\n",
    "    n_instances=1\n",
    ")\n",
    "np.save('D:/Studium/WiSe2021/SA/Project/run_adlr/GP_CNN_baldMC_1000_100x1.npy', GP_CNN_perf_hist)"
   ]
  },
  {
   "cell_type": "code",
   "execution_count": 51,
   "metadata": {
    "collapsed": true,
    "tags": []
   },
   "outputs": [
    {
     "name": "stdout",
     "output_type": "stream",
     "text": [
      "(59000, 1, 28, 28)\n",
      "Accuracy after query 1: 0.7839\n",
      "Accuracy after query 2: 0.7872\n",
      "Accuracy after query 3: 0.8025\n",
      "Accuracy after query 4: 0.7939\n",
      "Accuracy after query 5: 0.7869\n",
      "Accuracy after query 6: 0.7809\n",
      "Accuracy after query 7: 0.7888\n",
      "Accuracy after query 8: 0.7691\n",
      "Accuracy after query 9: 0.8068\n",
      "Accuracy after query 10: 0.8184\n",
      "Accuracy after query 11: 0.7757\n",
      "Accuracy after query 12: 0.8072\n",
      "Accuracy after query 13: 0.7981\n",
      "Accuracy after query 14: 0.8258\n",
      "Accuracy after query 15: 0.8064\n",
      "Accuracy after query 16: 0.8306\n",
      "Accuracy after query 17: 0.8280\n",
      "Accuracy after query 18: 0.7991\n",
      "Accuracy after query 19: 0.7930\n",
      "Accuracy after query 20: 0.8133\n",
      "Accuracy after query 21: 0.7938\n",
      "Accuracy after query 22: 0.8061\n",
      "Accuracy after query 23: 0.8238\n",
      "Accuracy after query 24: 0.7927\n",
      "Accuracy after query 25: 0.8132\n",
      "Accuracy after query 26: 0.7954\n",
      "Accuracy after query 27: 0.8072\n",
      "Accuracy after query 28: 0.7999\n",
      "Accuracy after query 29: 0.8284\n",
      "Accuracy after query 30: 0.8112\n",
      "Accuracy after query 31: 0.8187\n",
      "Accuracy after query 32: 0.7792\n",
      "Accuracy after query 33: 0.8052\n",
      "Accuracy after query 34: 0.8147\n",
      "Accuracy after query 35: 0.8055\n",
      "Accuracy after query 36: 0.7829\n",
      "Accuracy after query 37: 0.8160\n",
      "Accuracy after query 38: 0.8104\n",
      "Accuracy after query 39: 0.8222\n",
      "Accuracy after query 40: 0.7930\n",
      "Accuracy after query 41: 0.7995\n",
      "Accuracy after query 42: 0.7989\n",
      "Accuracy after query 43: 0.8462\n",
      "Accuracy after query 44: 0.8321\n",
      "Accuracy after query 45: 0.7983\n",
      "Accuracy after query 46: 0.8172\n",
      "Accuracy after query 47: 0.8171\n",
      "Accuracy after query 48: 0.8034\n",
      "Accuracy after query 49: 0.8316\n",
      "Accuracy after query 50: 0.8108\n",
      "Accuracy after query 51: 0.8202\n",
      "Accuracy after query 52: 0.8243\n",
      "Accuracy after query 53: 0.8167\n",
      "Accuracy after query 54: 0.8326\n",
      "Accuracy after query 55: 0.8160\n",
      "Accuracy after query 56: 0.8168\n",
      "Accuracy after query 57: 0.7851\n",
      "Accuracy after query 58: 0.7927\n",
      "Accuracy after query 59: 0.8447\n",
      "Accuracy after query 60: 0.8320\n",
      "Accuracy after query 61: 0.8288\n",
      "Accuracy after query 62: 0.8071\n",
      "Accuracy after query 63: 0.8334\n",
      "Accuracy after query 64: 0.7727\n",
      "Accuracy after query 65: 0.8406\n",
      "Accuracy after query 66: 0.8113\n",
      "Accuracy after query 67: 0.7979\n",
      "Accuracy after query 68: 0.8187\n",
      "Accuracy after query 69: 0.8035\n",
      "Accuracy after query 70: 0.8200\n",
      "Accuracy after query 71: 0.8054\n",
      "Accuracy after query 72: 0.8191\n",
      "Accuracy after query 73: 0.8472\n",
      "Accuracy after query 74: 0.7948\n",
      "Accuracy after query 75: 0.8243\n",
      "Accuracy after query 76: 0.8040\n",
      "Accuracy after query 77: 0.8151\n",
      "Accuracy after query 78: 0.8108\n",
      "Accuracy after query 79: 0.8138\n",
      "Accuracy after query 80: 0.8319\n",
      "Accuracy after query 81: 0.8218\n",
      "Accuracy after query 82: 0.8216\n",
      "Accuracy after query 83: 0.8061\n",
      "Accuracy after query 84: 0.8386\n",
      "Accuracy after query 85: 0.8217\n",
      "Accuracy after query 86: 0.8471\n",
      "Accuracy after query 87: 0.8394\n",
      "Accuracy after query 88: 0.8285\n",
      "Accuracy after query 89: 0.8231\n",
      "Accuracy after query 90: 0.8406\n",
      "Accuracy after query 91: 0.8295\n",
      "Accuracy after query 92: 0.8382\n",
      "Accuracy after query 93: 0.8385\n",
      "Accuracy after query 94: 0.8585\n",
      "Accuracy after query 95: 0.8457\n",
      "Accuracy after query 96: 0.8243\n",
      "Accuracy after query 97: 0.8388\n",
      "Accuracy after query 98: 0.8329\n",
      "Accuracy after query 99: 0.8465\n",
      "Accuracy after query 100: 0.8474\n",
      "(58900, 1, 28, 28)\n"
     ]
    }
   ],
   "source": [
    "# done!\n",
    "X_pool = np.delete(X_train, initial_idx_1000, axis=0)\n",
    "y_pool = np.delete(y_train, initial_idx_1000, axis=0)\n",
    "X_list = [X_test, X_pool, X_initial_1000]\n",
    "X_test_re, X_pool_re, X_initial_re_1000 = img_reshape(X_list)\n",
    "\n",
    "device = \"cuda\" if torch.cuda.is_available() else \"cpu\"\n",
    "\n",
    "estimator = NeuralNetClassifier(GP_CNN,\n",
    "                                max_epochs=50,\n",
    "                                batch_size=128,\n",
    "                                lr=0.001,\n",
    "                                optimizer=torch.optim.Adam,\n",
    "                                criterion=torch.nn.CrossEntropyLoss,\n",
    "                                train_split=None,\n",
    "                                verbose=0,\n",
    "                                device=device)\n",
    "GP_CNN_Uni_perf_hist = active_learning_procedure(\n",
    "    uniform,\n",
    "    X_test,\n",
    "    y_test,\n",
    "    X_pool,\n",
    "    y_pool,\n",
    "    X_initial_1000,\n",
    "    y_initial_1000,\n",
    "    estimator,\n",
    "    n_queries=100,\n",
    "    n_instances=1\n",
    ")\n",
    "np.save('D:/Studium/WiSe2021/SA/Project/run_adlr/GP_CNN_uni_1000_100x1.npy', GP_CNN_Uni_perf_hist)"
   ]
  },
  {
   "cell_type": "markdown",
   "metadata": {
    "id": "S4mBfaBO4SLM",
    "jp-MarkdownHeadingCollapsed": true,
    "tags": []
   },
   "source": [
    "## Pictures"
   ]
  },
  {
   "cell_type": "code",
   "execution_count": null,
   "metadata": {
    "id": "jUryaFRerqJG"
   },
   "outputs": [],
   "source": [
    "import matplotlib.pyplot as plt\n",
    "import seaborn as sns\n",
    "\n",
    "# BCNN_perf_hist = np.load('/content/gdrive/My Drive/Project/ADLR/BCNN_perf_hist.npy')\n",
    "GPC_perf_hist = np.load('/content/gdrive/My Drive/Project/ADLR/GPC_perf_hist100.npy')\n",
    "RFC_perf_hist = np.load('/content/gdrive/My Drive/Project/ADLR/RFC_perf_hist.npy')\n",
    "CNN_perf_hist = np.load('/content/gdrive/My Drive/Project/ADLR/CNN_perf_hist.npy')\n",
    "EnsemDropout_perf_hist = np.load('/content/gdrive/My Drive/Project/ADLR/EnsemDropout_perf_hist.npy')\n",
    "GP_CNN_perf_hist = np.load('/content/gdrive/My Drive/Project/ADLR/GP_CNN_perf_hist.npy')"
   ]
  },
  {
   "cell_type": "code",
   "execution_count": null,
   "metadata": {
    "colab": {
     "base_uri": "https://localhost:8080/",
     "height": 290
    },
    "executionInfo": {
     "elapsed": 847,
     "status": "ok",
     "timestamp": 1644585019256,
     "user": {
      "displayName": "dexuan meng",
      "photoUrl": "https://lh3.googleusercontent.com/a/default-user=s64",
      "userId": "02429618187161859061"
     },
     "user_tz": -60
    },
    "id": "JgRVoBkHtPMW",
    "outputId": "e9c642c3-683c-4322-bfb1-096b79c962b1"
   },
   "outputs": [
    {
     "data": {
      "text/plain": [
       "<matplotlib.legend.Legend at 0x7f09e641c510>"
      ]
     },
     "execution_count": 8,
     "metadata": {},
     "output_type": "execute_result"
    },
    {
     "data": {
      "image/png": "[encoded data removed]",
      "text/plain": [
       "<Figure size 432x288 with 1 Axes>"
      ]
     },
     "metadata": {},
     "output_type": "display_data"
    }
   ],
   "source": [
    "import matplotlib.pyplot as plt\n",
    "import seaborn as sns\n",
    "\n",
    "sns.set()\n",
    "plt.plot(RFC_perf_hist, label=\"RFC\")\n",
    "plt.plot(EnsemDropout_perf_hist, label=\"Committee\")\n",
    "plt.plot(GPC_perf_hist, label=\"GPC\")\n",
    "plt.plot(GP_CNN_perf_hist, label=\"GP_CNN\")\n",
    "plt.plot(CNN_perf_hist, label=\"MC_CNN\")\n",
    "plt.plot(BCNN_perf_hist, label=\"BCNN\")\n",
    "plt.ylim([0.6,1])\n",
    "plt.legend()"
   ]
  },
  {
   "cell_type": "code",
   "execution_count": 58,
   "metadata": {
    "colab": {
     "base_uri": "https://localhost:8080/",
     "height": 286
    },
    "executionInfo": {
     "elapsed": 1334,
     "status": "ok",
     "timestamp": 1644829723944,
     "user": {
      "displayName": "dexuan meng",
      "photoUrl": "https://lh3.googleusercontent.com/a/default-user=s64",
      "userId": "02429618187161859061"
     },
     "user_tz": -60
    },
    "id": "5F5UxBsfVBqK",
    "outputId": "b58c4d69-db97-4af5-fd01-6a4e2d55b99a"
   },
   "outputs": [
    {
     "data": {
      "text/plain": [
       "<matplotlib.legend.Legend at 0x7f693543a910>"
      ]
     },
     "execution_count": 58,
     "metadata": {},
     "output_type": "execute_result"
    },
    {
     "data": {
      "image/png": "[encoded data removed]",
      "text/plain": [
       "<Figure size 432x288 with 1 Axes>"
      ]
     },
     "metadata": {},
     "output_type": "display_data"
    }
   ],
   "source": [
    "import matplotlib.pyplot as plt\n",
    "import seaborn as sns\n",
    "\n",
    "colors=sns.color_palette('pastel')\n",
    "colors\n",
    "\n",
    "sns.set()\n",
    "plt.plot(bcnn_gaussian_mean, label=\"BCNN_gaussian\")\n",
    "plt.plot(bcnn_uni_gaussian_mean, label=\"BCNN_uni_gaussian\")\n",
    "\n",
    "plt.plot(bcnn_mean, '-.', label=\"BCNN\", color=colors[0])\n",
    "plt.plot(bcnn_uni_mean, '-.', label=\"BCNN_uni\", color=colors[1])\n",
    "# plt.ylim([0.6,1])\n",
    "plt.legend()"
   ]
  },
  {
   "cell_type": "code",
   "execution_count": 103,
   "metadata": {
    "scrolled": true
   },
   "outputs": [
    {
     "data": {
      "text/plain": [
       "<matplotlib.legend.Legend at 0x23c370d82b0>"
      ]
     },
     "execution_count": 103,
     "metadata": {},
     "output_type": "execute_result"
    },
    {
     "data": {
      "image/png": "[encoded data removed]",
      "text/plain": [
       "<Figure size 432x288 with 1 Axes>"
      ]
     },
     "metadata": {},
     "output_type": "display_data"
    }
   ],
   "source": [
    "import matplotlib.pyplot as plt\n",
    "import seaborn as sns\n",
    "\n",
    "CNN_perf_hist = np.load('D:/Studium/WiSe2021/SA/Project/run_adlr/CNN_baldMC_perf_hist_inst10.npy')\n",
    "CNN_uni_perf_hist = np.load('D:/Studium/WiSe2021/SA/Project/run_adlr/CNN_uni_perf_hist_inst10.npy')\n",
    "# CNN_new_perf_hist = np.load('D:/Studium/WiSe2021/SA/Project/run_adlr/CNN_new_perf_hist_inst10.npy')\n",
    "CNN_batch_perf_hist = np.load('D:/Studium/WiSe2021/SA/Project/run_adlr/CNN_batch_perf_hist_inst10_viascore.npy')\n",
    "# CNN_batch_perf_hist3 = np.load('D:/Studium/WiSe2021/SA/Project/run_adlr/CNN_batch_perf_hist_inst3.npy')\n",
    "\n",
    "sns.set()\n",
    "plt.plot(CNN_perf_hist, label=\"bald_10\")\n",
    "plt.plot(CNN_uni_perf_hist, label=\"uni_10\")\n",
    "plt.plot(CNN_batch_perf_hist, label=\"batch_10\")\n",
    "\n",
    "plt.ylim([0.6, 1])\n",
    "plt.legend()"
   ]
  },
  {
   "cell_type": "code",
   "execution_count": 49,
   "metadata": {},
   "outputs": [
    {
     "data": {
      "text/plain": [
       "<matplotlib.legend.Legend at 0x1e1d2894730>"
      ]
     },
     "execution_count": 49,
     "metadata": {},
     "output_type": "execute_result"
    },
    {
     "data": {
      "image/png": "[encoded data removed]",
      "text/plain": [
       "<Figure size 432x288 with 1 Axes>"
      ]
     },
     "metadata": {},
     "output_type": "display_data"
    }
   ],
   "source": [
    "import matplotlib.pyplot as plt\n",
    "import seaborn as sns\n",
    "\n",
    "BCNN_baldMC_50_100x1 = np.load('D:/Studium/WiSe2021/SA/Project/run_adlr/BCNN_baldMC_50_100x1.npy')\n",
    "BCNN_baldMC_1000_100x1 = np.load('D:/Studium/WiSe2021/SA/Project/run_adlr/BCNN_baldMC_1000_100x1.npy')\n",
    "BCNN_uni_50_100x1 = np.load('D:/Studium/WiSe2021/SA/Project/run_adlr/BCNN_uni_50_100x1.npy')\n",
    "BCNN_uni_1000_100x1 = np.load('D:/Studium/WiSe2021/SA/Project/run_adlr/BCNN_uni_1000_100x1.npy')\n",
    "GP_CNN_baldMC_50_100x1 = np.load('D:/Studium/WiSe2021/SA/Project/run_adlr/GP_CNN_baldMC_50_100x1.npy')\n",
    "GP_CNN_baldMC_1000_100x1 = np.load('D:/Studium/WiSe2021/SA/Project/run_adlr/GP_CNN_baldMC_1000_100x1.npy')\n",
    "GP_CNN_uni_50_100x1 = np.load('D:/Studium/WiSe2021/SA/Project/run_adlr/GP_CNN_uni_50_100x1.npy')\n",
    "GP_CNN_uni_1000_100x1 = np.load('D:/Studium/WiSe2021/SA/Project/run_adlr/GP_CNN_uni_1000_100x1.npy')\n",
    "\n",
    "GPC_baldgpc_50_100x1 = np.load('D:/Studium/WiSe2021/SA/Project/run_adlr/GPC_baldgpc_50_100x1.npy')\n",
    "GPC_baldgpc_1000_100x1 = np.load('D:/Studium/WiSe2021/SA/Project/run_adlr/GPC_baldgpc_1000_100x1.npy')\n",
    "GPC_uni_50_100x1 = np.load('D:/Studium/WiSe2021/SA/Project/run_adlr/GPC_uni_50_100x1.npy')\n",
    "GPC_uni_1000_100x1 = np.load('D:/Studium/WiSe2021/SA/Project/run_adlr/GPC_uni_1000_100x1.npy')\n",
    "\n",
    "RFC_baldrfc_50_100x1 = np.load('D:/Studium/WiSe2021/SA/Project/run_adlr/RFC_baldrfc_50_100x1.npy')\n",
    "RFC_baldrfc_1000_100x1 = np.load('D:/Studium/WiSe2021/SA/Project/run_adlr/RFC_baldrfc_1000_100x1.npy')\n",
    "RFC_uni_50_100x1 = np.load('D:/Studium/WiSe2021/SA/Project/run_adlr/RFC_uni_50_100x1.npy')\n",
    "RFC_uni_1000_100x1 = np.load('D:/Studium/WiSe2021/SA/Project/run_adlr/RFC_uni_1000_100x1.npy')\n",
    "fig = plt.gcf()\n",
    "sns.set()\n",
    "# plt.plot(BCNN_baldMC_50_100x1, label=\"BCNN_baldMC_50_100x1\") \n",
    "# plt.plot(BCNN_uni_50_100x1, label=\"BCNN_uni_50_100x1\") \n",
    "# plt.plot(BCNN_baldMC_1000_100x1, label=\"BCNN_baldMC_1000_100x1\") \n",
    "# plt.plot(BCNN_uni_1000_100x1, label=\"BCNN_uni_1000_100x1\") \n",
    "\n",
    "# plt.plot(GP_CNN_baldMC_50_100x1, label=\"GP_CNN_baldMC_50_100x1\") \n",
    "# plt.plot(GP_CNN_uni_50_100x1, label=\"GP_CNN_uni_50_100x1\") \n",
    "# plt.plot(GP_CNN_baldMC_1000_100x1, label=\"GP_CNN_baldMC_1000_100x1\") \n",
    "# plt.plot(GP_CNN_uni_1000_100x1, label=\"GP_CNN_uni_1000_100x1\") \n",
    "\n",
    "# plt.plot(GPC_baldgpc_50_100x1, label=\"GPC_baldgpc_50_100x1\") \n",
    "# plt.plot(GPC_uni_50_100x1, label=\"GPC_uni_50_100x1\") \n",
    "# plt.plot(GPC_baldgpc_1000_100x1, label=\"GPC_baldgpc_1000_100x1\") \n",
    "# plt.plot(GPC_uni_1000_100x1, label=\"GPC_uni_1000_100x1\") \n",
    "\n",
    "plt.plot(RFC_baldrfc_50_100x1[1:102:5], label=\"RFC_baldrfc_50_100x1\") \n",
    "plt.plot(RFC_uni_50_100x1[1:102:5], label=\"RFC_uni_50_100x1\") \n",
    "plt.plot(RFC_baldrfc_1000_100x1[1:102:5], label=\"RFC_baldrfc_1000_100x1\") \n",
    "plt.plot(RFC_uni_1000_100x1[1:102:5], label=\"RFC_uni_1000_100x1\") \n",
    "\n",
    "\n",
    "# fig.set_size_inches(18.5, 10.5)\n",
    "plt.ylim([0.6, 1])\n",
    "plt.title('Random Forest Classifier', fontsize=20)\n",
    "\n",
    "plt.legend()"
   ]
  },
  {
   "cell_type": "code",
   "execution_count": null,
   "metadata": {},
   "outputs": [],
   "source": []
  }
 ],
 "metadata": {
  "accelerator": "GPU",
  "colab": {
   "collapsed_sections": [
    "fj1737-lPHC2",
    "LTDoc0LBPKx4",
    "dWeYLpTk1xEq",
    "hvSDd1d8cMgW",
    "QfzS9zNzS5gJ",
    "0jFwpT4wPbxF",
    "ZV7dYyf9_uM-",
    "BBm6htghRR3s",
    "NOFyqoRLrqI7",
    "wfdLCefxrqI8",
    "2quS8bjGrqI-",
    "Vm_ZE6BpOpM4",
    "-NETeh0vrqJD",
    "KEcrzL303yih"
   ],
   "machine_shape": "hm",
   "name": "committee.ipynb",
   "provenance": []
  },
  "kernelspec": {
   "display_name": "Python 3",
   "language": "python",
   "name": "python3"
  },
  "language_info": {
   "codemirror_mode": {
    "name": "ipython",
    "version": 3
   },
   "file_extension": ".py",
   "mimetype": "text/x-python",
   "name": "python",
   "nbconvert_exporter": "python",
   "pygments_lexer": "ipython3",
   "version": "3.8.8"
  }
 },
 "nbformat": 4,
 "nbformat_minor": 4
}
